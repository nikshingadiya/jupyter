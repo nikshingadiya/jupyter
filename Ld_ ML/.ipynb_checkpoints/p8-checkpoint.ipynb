{
 "cells": [
  {
   "cell_type": "code",
   "execution_count": 57,
   "metadata": {
    "ExecuteTime": {
     "end_time": "2021-10-07T11:08:54.733987Z",
     "start_time": "2021-10-07T11:08:52.626446Z"
    }
   },
   "outputs": [],
   "source": [
    "import pandas as pd\n",
    "from sklearn.datasets import load_boston\n",
    "from sklearn.model_selection import train_test_split\n",
    "from sklearn.preprocessing import StandardScaler,MinMaxScaler\n",
    "from sklearn.linear_model import  LinearRegression\n",
    "import numpy as np \n",
    "from sklearn.linear_model import LinearRegression\n",
    "from sklearn.decomposition import PCA\n",
    "import matplotlib.pyplot as plt"
   ]
  },
  {
   "cell_type": "code",
   "execution_count": 43,
   "metadata": {
    "ExecuteTime": {
     "end_time": "2021-10-07T11:06:28.849892Z",
     "start_time": "2021-10-07T11:06:28.824887Z"
    }
   },
   "outputs": [],
   "source": [
    "bst=load_boston()"
   ]
  },
  {
   "cell_type": "code",
   "execution_count": 44,
   "metadata": {
    "ExecuteTime": {
     "end_time": "2021-10-07T11:06:29.262344Z",
     "start_time": "2021-10-07T11:06:29.240353Z"
    }
   },
   "outputs": [],
   "source": [
    "X, y = load_boston(return_X_y=True)"
   ]
  },
  {
   "cell_type": "code",
   "execution_count": 45,
   "metadata": {
    "ExecuteTime": {
     "end_time": "2021-10-07T11:06:29.630589Z",
     "start_time": "2021-10-07T11:06:29.623594Z"
    }
   },
   "outputs": [
    {
     "data": {
      "text/plain": [
       "(506, 13)"
      ]
     },
     "execution_count": 45,
     "metadata": {},
     "output_type": "execute_result"
    }
   ],
   "source": [
    "X.shape"
   ]
  },
  {
   "cell_type": "code",
   "execution_count": 46,
   "metadata": {
    "ExecuteTime": {
     "end_time": "2021-10-07T11:06:29.995394Z",
     "start_time": "2021-10-07T11:06:29.987399Z"
    }
   },
   "outputs": [
    {
     "name": "stdout",
     "output_type": "stream",
     "text": [
      ".. _boston_dataset:\n",
      "\n",
      "Boston house prices dataset\n",
      "---------------------------\n",
      "\n",
      "**Data Set Characteristics:**  \n",
      "\n",
      "    :Number of Instances: 506 \n",
      "\n",
      "    :Number of Attributes: 13 numeric/categorical predictive. Median Value (attribute 14) is usually the target.\n",
      "\n",
      "    :Attribute Information (in order):\n",
      "        - CRIM     per capita crime rate by town\n",
      "        - ZN       proportion of residential land zoned for lots over 25,000 sq.ft.\n",
      "        - INDUS    proportion of non-retail business acres per town\n",
      "        - CHAS     Charles River dummy variable (= 1 if tract bounds river; 0 otherwise)\n",
      "        - NOX      nitric oxides concentration (parts per 10 million)\n",
      "        - RM       average number of rooms per dwelling\n",
      "        - AGE      proportion of owner-occupied units built prior to 1940\n",
      "        - DIS      weighted distances to five Boston employment centres\n",
      "        - RAD      index of accessibility to radial highways\n",
      "        - TAX      full-value property-tax rate per $10,000\n",
      "        - PTRATIO  pupil-teacher ratio by town\n",
      "        - B        1000(Bk - 0.63)^2 where Bk is the proportion of blacks by town\n",
      "        - LSTAT    % lower status of the population\n",
      "        - MEDV     Median value of owner-occupied homes in $1000's\n",
      "\n",
      "    :Missing Attribute Values: None\n",
      "\n",
      "    :Creator: Harrison, D. and Rubinfeld, D.L.\n",
      "\n",
      "This is a copy of UCI ML housing dataset.\n",
      "https://archive.ics.uci.edu/ml/machine-learning-databases/housing/\n",
      "\n",
      "\n",
      "This dataset was taken from the StatLib library which is maintained at Carnegie Mellon University.\n",
      "\n",
      "The Boston house-price data of Harrison, D. and Rubinfeld, D.L. 'Hedonic\n",
      "prices and the demand for clean air', J. Environ. Economics & Management,\n",
      "vol.5, 81-102, 1978.   Used in Belsley, Kuh & Welsch, 'Regression diagnostics\n",
      "...', Wiley, 1980.   N.B. Various transformations are used in the table on\n",
      "pages 244-261 of the latter.\n",
      "\n",
      "The Boston house-price data has been used in many machine learning papers that address regression\n",
      "problems.   \n",
      "     \n",
      ".. topic:: References\n",
      "\n",
      "   - Belsley, Kuh & Welsch, 'Regression diagnostics: Identifying Influential Data and Sources of Collinearity', Wiley, 1980. 244-261.\n",
      "   - Quinlan,R. (1993). Combining Instance-Based and Model-Based Learning. In Proceedings on the Tenth International Conference of Machine Learning, 236-243, University of Massachusetts, Amherst. Morgan Kaufmann.\n",
      "\n"
     ]
    }
   ],
   "source": [
    "print(bst.DESCR)"
   ]
  },
  {
   "cell_type": "code",
   "execution_count": 47,
   "metadata": {
    "ExecuteTime": {
     "end_time": "2021-10-07T11:06:30.539455Z",
     "start_time": "2021-10-07T11:06:30.533458Z"
    }
   },
   "outputs": [],
   "source": [
    "X_train, X_test, y_train, y_test = train_test_split(X, y,\n",
    "                                                   random_state = 0)"
   ]
  },
  {
   "cell_type": "code",
   "execution_count": 48,
   "metadata": {
    "ExecuteTime": {
     "end_time": "2021-10-07T11:06:31.930684Z",
     "start_time": "2021-10-07T11:06:31.921693Z"
    }
   },
   "outputs": [],
   "source": [
    "scaler=StandardScaler()\n",
    "# scaler=MinMaxScaler()\n",
    "\n",
    "X_train=scaler.fit_transform(X_train)\n",
    "X_test=scaler.fit_transform(X_test)"
   ]
  },
  {
   "cell_type": "code",
   "execution_count": 49,
   "metadata": {
    "ExecuteTime": {
     "end_time": "2021-10-07T11:06:32.543468Z",
     "start_time": "2021-10-07T11:06:32.513485Z"
    }
   },
   "outputs": [
    {
     "name": "stdout",
     "output_type": "stream",
     "text": [
      "Crime dataset\n",
      "ridge regression linear model intercept: 22.6087071240106\n",
      "ridge regression linear model coeff:\n",
      "[-0.97100092  1.04667838 -0.04044753  0.59408776 -1.80876877  2.60991991\n",
      " -0.19823317 -3.00216551  2.08021582 -1.93289037 -2.15743759  0.75199122\n",
      " -3.59027047]\n",
      "R-squared score (training): 0.770\n",
      "R-squared score (test): 0.625\n",
      "Number of non-zero features: 13\n"
     ]
    }
   ],
   "source": [
    "LinearRegressionR = LinearRegression().fit(X_train, y_train)\n",
    "y_pred = LinearRegressionR.predict(X_test)\n",
    "print('Crime dataset')\n",
    "print('ridge regression linear model intercept: {}'\n",
    "     .format(LinearRegressionR.intercept_))\n",
    "print('ridge regression linear model coeff:\\n{}'\n",
    "     .format(LinearRegressionR.coef_))\n",
    "print('R-squared score (training): {:.3f}'\n",
    "     .format(LinearRegressionR.score(X_train, y_train)))\n",
    "print('R-squared score (test): {:.3f}'\n",
    "     .format(LinearRegressionR.score(X_test, y_test)))\n",
    "print('Number of non-zero features: {}'\n",
    "     .format(np.sum(LinearRegressionR.coef_ != 0)))"
   ]
  },
  {
   "cell_type": "code",
   "execution_count": 50,
   "metadata": {
    "ExecuteTime": {
     "end_time": "2021-10-07T11:06:33.901497Z",
     "start_time": "2021-10-07T11:06:33.890505Z"
    }
   },
   "outputs": [
    {
     "data": {
      "text/plain": [
       "array([25.87296885, 24.06495491, 29.93787894, 12.59433564, 22.09289048,\n",
       "       20.29644302, 20.87043021, 22.42574075, 20.01948789, 20.751902  ,\n",
       "        6.48672948, 16.58897452, 17.2136824 ,  5.91238212, 40.46044252,\n",
       "       33.73858863, 22.76014086, 38.07170727, 31.99990437, 24.2369938 ,\n",
       "       25.76410443, 25.2363574 , 21.25789235, 31.5818913 , 23.52459252,\n",
       "       10.87022373, 18.40264582, 18.90251546, 36.4145307 , 21.40813657,\n",
       "       18.44579597, 18.03488758, 20.73908888, 24.93123424, 29.96613257,\n",
       "       19.40282589, 11.38546682, 24.87919471, 17.83135901, 15.43751377,\n",
       "       27.18322903, 21.8648888 , 23.20449119, 15.78163895, 23.80171855,\n",
       "       26.05364165, 20.77817246, 23.34394716, 10.38898748, 25.00819234,\n",
       "       21.5578471 , 18.16700106, 25.36856036, 30.94547992, 13.88094185,\n",
       "       22.5836468 , 21.87882139, 16.30004282, 15.21285015, 22.66695703,\n",
       "       18.87009815, 22.43168503, 34.03182766, 32.28184045, 18.17741178,\n",
       "       33.91150874, 18.76796455, 20.24636751, 19.20299213, 23.95219076,\n",
       "       23.55435324, 24.79742932, 32.09042167, 30.01192387, 26.18481337,\n",
       "        5.43633893, 37.51956773, 24.65615448, 28.26392026, 20.01431122,\n",
       "       29.66174588, 19.58145595, 19.38077937, 38.59421298, 39.91939248,\n",
       "       24.81758239, 25.85414577, 16.42109939, 26.79270744, 16.82825986,\n",
       "       16.73473628, 13.24968132, 25.99164232, 32.32249938, 23.13416373,\n",
       "       21.23332114,  0.61581865, 26.75450532, 15.7738544 , 18.82322869,\n",
       "       26.31255267, 22.98973662, 33.1465003 , 22.94113154, 28.4036598 ,\n",
       "       24.41377134,  7.02295167, 15.27818085, 23.17353226, 30.24688029,\n",
       "       33.867796  , 13.11711179, 20.76434833, 21.31828209, 12.93912014,\n",
       "       24.02866945,  5.08775832, 20.32331307,  9.54516886, 45.95593881,\n",
       "       31.8642657 , 12.54852317, 18.54698661, 22.15661205, 24.49905998,\n",
       "       21.05552879, 36.08644623])"
      ]
     },
     "execution_count": 50,
     "metadata": {},
     "output_type": "execute_result"
    }
   ],
   "source": [
    "line=LinearRegressionR.predict(X_test)\n",
    "line"
   ]
  },
  {
   "cell_type": "code",
   "execution_count": 62,
   "metadata": {
    "ExecuteTime": {
     "end_time": "2021-10-07T11:10:59.272719Z",
     "start_time": "2021-10-07T11:10:59.264728Z"
    }
   },
   "outputs": [],
   "source": [
    "pc=PCA(n_components=1)\n",
    "pc.fit(X_test)\n",
    "X_new_test=pc.transform(X_test)"
   ]
  },
  {
   "cell_type": "code",
   "execution_count": 63,
   "metadata": {
    "ExecuteTime": {
     "end_time": "2021-10-07T11:11:04.196227Z",
     "start_time": "2021-10-07T11:11:04.192231Z"
    }
   },
   "outputs": [],
   "source": [
    "x=X_new_test[:,0]"
   ]
  },
  {
   "cell_type": "code",
   "execution_count": 69,
   "metadata": {
    "ExecuteTime": {
     "end_time": "2021-10-07T11:18:03.668561Z",
     "start_time": "2021-10-07T11:18:03.318721Z"
    }
   },
   "outputs": [
    {
     "data": {
      "image/png": "[encoded data removed]",
      "text/plain": [
       "<Figure size 432x288 with 1 Axes>"
      ]
     },
     "metadata": {
      "needs_background": "light"
     },
     "output_type": "display_data"
    }
   ],
   "source": [
    "p1=plt.scatter(x,y_test,marker =\"^\")\n",
    "p2=plt.scatter(x,y_pred,marker =\"o\")\n",
    "plt.legend((p1,p2),(\"original\",\"predicted\"))\n",
    "plt.show()"
   ]
  },
  {
   "cell_type": "code",
   "execution_count": null,
   "metadata": {},
   "outputs": [],
   "source": []
  }
 ],
 "metadata": {
  "kernelspec": {
   "display_name": "Python 3",
   "language": "python",
   "name": "python3"
  },
  "language_info": {
   "codemirror_mode": {
    "name": "ipython",
    "version": 3
   },
   "file_extension": ".py",
   "mimetype": "text/x-python",
   "name": "python",
   "nbconvert_exporter": "python",
   "pygments_lexer": "ipython3",
   "version": "3.8.5"
  },
  "toc": {
   "base_numbering": 1,
   "nav_menu": {},
   "number_sections": true,
   "sideBar": true,
   "skip_h1_title": false,
   "title_cell": "Table of Contents",
   "title_sidebar": "Contents",
   "toc_cell": false,
   "toc_position": {},
   "toc_section_display": true,
   "toc_window_display": false
  }
 },
 "nbformat": 4,
 "nbformat_minor": 4
}

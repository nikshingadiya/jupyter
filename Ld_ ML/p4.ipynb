{
 "cells": [
  {
   "cell_type": "code",
   "execution_count": 9,
   "metadata": {
    "ExecuteTime": {
     "end_time": "2021-10-07T03:42:17.317982Z",
     "start_time": "2021-10-07T03:42:16.863171Z"
    }
   },
   "outputs": [],
   "source": [
    "from sklearn.datasets import load_iris\n",
    "import matplotlib.pyplot as plt\n",
    "\n",
    "data = load_iris()\n",
    "\n",
    "X=data.data\n",
    "\n",
    "y=data.target\n",
    "\n",
    "# train_split_data\n",
    "from sklearn.model_selection import train_test_split\n",
    "\n",
    "X_train,X_test,y_train,y_test=train_test_split(X,y)\n",
    "\n",
    "from sklearn.neighbors import KNeighborsClassifier\n",
    "knn=KNeighborsClassifier(n_neighbors=3)\n",
    "\n",
    "diff_neighbors=[1,3,5,7,9]\n",
    "score_list_test=[]\n",
    "score_list_train=[]\n",
    "for i in diff_neighbors:\n",
    "    X_train,X_test,y_train,y_test=train_test_split(X,y,test_size=0.40)\n",
    "    knn=KNeighborsClassifier(n_neighbors=i)\n",
    "    knn.fit(X_train,y_train)\n",
    "    score_list_train.append(knn.score(X_train,y_train))\n",
    "    score_list_test.append(knn.score(X_test,y_test))\n",
    "\n",
    "fig=plt.figure()\n",
    "plt.plot(diff_neighbors,score_list_test,\"ro--\",label=\"test_acc\")\n",
    "plt.plot(diff_neighbors,score_list_train,\"go--\",label=\"train_acc\")\n",
    "plt.xlabel(\"diff_neighbours\")\n",
    "plt.legend(loc='lower left', frameon=False)\n",
    "plt.ylabel(\"Accuracy\")\n",
    "plt.show()\n",
    "\n"
   ]
  }
 ],
 "metadata": {
  "kernelspec": {
   "display_name": "Python 3",
   "language": "python",
   "name": "python3"
  },
  "language_info": {
   "codemirror_mode": {
    "name": "ipython",
    "version": 3
   },
   "file_extension": ".py",
   "mimetype": "text/x-python",
   "name": "python",
   "nbconvert_exporter": "python",
   "pygments_lexer": "ipython3",
   "version": "3.8.5"
  },
  "toc": {
   "base_numbering": 1,
   "nav_menu": {},
   "number_sections": true,
   "sideBar": true,
   "skip_h1_title": false,
   "title_cell": "Table of Contents",
   "title_sidebar": "Contents",
   "toc_cell": false,
   "toc_position": {},
   "toc_section_display": true,
   "toc_window_display": false
  }
 },
 "nbformat": 4,
 "nbformat_minor": 4
}

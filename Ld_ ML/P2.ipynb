{
 "cells": [
  {
   "cell_type": "code",
   "execution_count": 1,
   "metadata": {
    "ExecuteTime": {
     "end_time": "2021-10-07T02:59:52.300151Z",
     "start_time": "2021-10-07T02:59:37.864498Z"
    }
   },
   "outputs": [],
   "source": [
    "import pandas as pd \n",
    "import datacleaner as dc"
   ]
  },
  {
   "cell_type": "code",
   "execution_count": 28,
   "metadata": {
    "ExecuteTime": {
     "end_time": "2021-10-07T03:14:53.755489Z",
     "start_time": "2021-10-07T03:14:53.739488Z"
    }
   },
   "outputs": [],
   "source": [
    "# import data\n",
    "df=pd.read_csv(\"./data/p1.csv\")\n",
    "df_ori=df.copy()"
   ]
  },
  {
   "cell_type": "code",
   "execution_count": 32,
   "metadata": {
    "ExecuteTime": {
     "end_time": "2021-10-07T03:15:34.533000Z",
     "start_time": "2021-10-07T03:15:34.511733Z"
    },
    "scrolled": true
   },
   "outputs": [
    {
     "data": {
      "text/html": [
       "<div>\n",
       "<style scoped>\n",
       "    .dataframe tbody tr th:only-of-type {\n",
       "        vertical-align: middle;\n",
       "    }\n",
       "\n",
       "    .dataframe tbody tr th {\n",
       "        vertical-align: top;\n",
       "    }\n",
       "\n",
       "    .dataframe thead th {\n",
       "        text-align: right;\n",
       "    }\n",
       "</style>\n",
       "<table border=\"1\" class=\"dataframe\">\n",
       "  <thead>\n",
       "    <tr style=\"text-align: right;\">\n",
       "      <th></th>\n",
       "      <th>Item no</th>\n",
       "      <th>Age</th>\n",
       "      <th>Income</th>\n",
       "      <th>Student</th>\n",
       "      <th>Rating</th>\n",
       "      <th>Buys- Computer</th>\n",
       "    </tr>\n",
       "  </thead>\n",
       "  <tbody>\n",
       "    <tr>\n",
       "      <th>0</th>\n",
       "      <td>1</td>\n",
       "      <td>Youth</td>\n",
       "      <td>High</td>\n",
       "      <td>No</td>\n",
       "      <td>Fair</td>\n",
       "      <td>No</td>\n",
       "    </tr>\n",
       "    <tr>\n",
       "      <th>1</th>\n",
       "      <td>2</td>\n",
       "      <td>Youth</td>\n",
       "      <td>High</td>\n",
       "      <td>No</td>\n",
       "      <td>Excellent</td>\n",
       "      <td>No</td>\n",
       "    </tr>\n",
       "    <tr>\n",
       "      <th>2</th>\n",
       "      <td>3</td>\n",
       "      <td>Middle</td>\n",
       "      <td>High</td>\n",
       "      <td>No</td>\n",
       "      <td>Fair</td>\n",
       "      <td>Yes</td>\n",
       "    </tr>\n",
       "    <tr>\n",
       "      <th>3</th>\n",
       "      <td>4</td>\n",
       "      <td>Senior</td>\n",
       "      <td>Medium</td>\n",
       "      <td>No</td>\n",
       "      <td>Fair</td>\n",
       "      <td>Yes</td>\n",
       "    </tr>\n",
       "    <tr>\n",
       "      <th>4</th>\n",
       "      <td>5</td>\n",
       "      <td>Senior</td>\n",
       "      <td>Low</td>\n",
       "      <td>Yes</td>\n",
       "      <td>Fair</td>\n",
       "      <td>Yes</td>\n",
       "    </tr>\n",
       "  </tbody>\n",
       "</table>\n",
       "</div>"
      ],
      "text/plain": [
       "   Item no     Age  Income  Student     Rating Buys- Computer\n",
       "0         1   Youth    High      No       Fair             No\n",
       "1         2   Youth    High      No  Excellent             No\n",
       "2         3  Middle    High      No       Fair            Yes\n",
       "3         4  Senior  Medium      No       Fair            Yes\n",
       "4         5  Senior     Low     Yes       Fair            Yes"
      ]
     },
     "execution_count": 32,
     "metadata": {},
     "output_type": "execute_result"
    }
   ],
   "source": [
    "df.head()"
   ]
  },
  {
   "cell_type": "code",
   "execution_count": 33,
   "metadata": {
    "ExecuteTime": {
     "end_time": "2021-10-07T03:15:35.037034Z",
     "start_time": "2021-10-07T03:15:35.005078Z"
    }
   },
   "outputs": [],
   "source": [
    "# data cleaning  \n",
    "df=df.drop(df.columns[0],axis=1)\n",
    "df=dc.autoclean(df)\n"
   ]
  },
  {
   "cell_type": "code",
   "execution_count": 34,
   "metadata": {
    "ExecuteTime": {
     "end_time": "2021-10-07T03:15:35.609945Z",
     "start_time": "2021-10-07T03:15:35.593939Z"
    }
   },
   "outputs": [],
   "source": [
    "# maping encoding and label coding\n",
    "lbl = dict()\n",
    "for i in df.columns:\n",
    "    lbl[i] = dict(zip(df[i].unique(), df_ori[i].unique()))"
   ]
  },
  {
   "cell_type": "code",
   "execution_count": 35,
   "metadata": {
    "ExecuteTime": {
     "end_time": "2021-10-07T03:15:36.365230Z",
     "start_time": "2021-10-07T03:15:36.349226Z"
    }
   },
   "outputs": [],
   "source": [
    "X,y=df.iloc[:,:-1],df.iloc[:,-1]"
   ]
  },
  {
   "cell_type": "code",
   "execution_count": 36,
   "metadata": {
    "ExecuteTime": {
     "end_time": "2021-10-07T03:15:37.061012Z",
     "start_time": "2021-10-07T03:15:37.037011Z"
    }
   },
   "outputs": [
    {
     "data": {
      "text/plain": [
       "GaussianNB()"
      ]
     },
     "execution_count": 36,
     "metadata": {},
     "output_type": "execute_result"
    }
   ],
   "source": [
    "# model fit \n",
    "from sklearn.naive_bayes import GaussianNB\n",
    "model = GaussianNB()\n",
    "model.fit(X, y)"
   ]
  },
  {
   "cell_type": "code",
   "execution_count": 37,
   "metadata": {
    "ExecuteTime": {
     "end_time": "2021-10-07T03:15:38.656256Z",
     "start_time": "2021-10-07T03:15:38.640254Z"
    }
   },
   "outputs": [
    {
     "data": {
      "text/plain": [
       "{'Age ': {2: 'Youth', 0: 'Middle', 1: 'Senior'},\n",
       " 'Income ': {0: 'High', 2: 'Medium', 1: 'Low'},\n",
       " 'Student': {0: 'No', 1: 'Yes'},\n",
       " 'Rating': {1: 'Fair', 0: 'Excellent'},\n",
       " 'Buys- Computer': {0: 'No', 1: 'Yes'}}"
      ]
     },
     "execution_count": 37,
     "metadata": {},
     "output_type": "execute_result"
    }
   ],
   "source": [
    "lbl"
   ]
  },
  {
   "cell_type": "code",
   "execution_count": 39,
   "metadata": {
    "ExecuteTime": {
     "end_time": "2021-10-07T03:18:10.239665Z",
     "start_time": "2021-10-07T03:18:10.231663Z"
    }
   },
   "outputs": [],
   "source": [
    "# test data \n",
    "# Youth Income: LOW Student: No Credit Rating: Fair Buy Computer - ?? \n",
    "\n",
    "output=model.predict([[2,1,0,1]])"
   ]
  },
  {
   "cell_type": "code",
   "execution_count": 40,
   "metadata": {
    "ExecuteTime": {
     "end_time": "2021-10-07T03:18:31.831496Z",
     "start_time": "2021-10-07T03:18:31.823494Z"
    }
   },
   "outputs": [
    {
     "name": "stdout",
     "output_type": "stream",
     "text": [
      "Output: [0]\n"
     ]
    }
   ],
   "source": [
    "print(\"Output:\",output)"
   ]
  },
  {
   "cell_type": "code",
   "execution_count": null,
   "metadata": {},
   "outputs": [],
   "source": []
  }
 ],
 "metadata": {
  "kernelspec": {
   "display_name": "Python 3",
   "language": "python",
   "name": "python3"
  },
  "language_info": {
   "codemirror_mode": {
    "name": "ipython",
    "version": 3
   },
   "file_extension": ".py",
   "mimetype": "text/x-python",
   "name": "python",
   "nbconvert_exporter": "python",
   "pygments_lexer": "ipython3",
   "version": "3.8.5"
  },
  "toc": {
   "base_numbering": 1,
   "nav_menu": {},
   "number_sections": true,
   "sideBar": true,
   "skip_h1_title": false,
   "title_cell": "Table of Contents",
   "title_sidebar": "Contents",
   "toc_cell": false,
   "toc_position": {},
   "toc_section_display": true,
   "toc_window_display": false
  }
 },
 "nbformat": 4,
 "nbformat_minor": 4
}

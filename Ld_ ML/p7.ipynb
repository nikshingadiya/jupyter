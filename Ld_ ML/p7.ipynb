{
 "cells": [
  {
   "cell_type": "code",
   "execution_count": 7,
   "metadata": {
    "ExecuteTime": {
     "end_time": "2021-10-07T10:14:14.118017Z",
     "start_time": "2021-10-07T10:14:14.102126Z"
    }
   },
   "outputs": [],
   "source": [
    "# import library\n",
    "import pandas as pd \n",
    "import numpy as np\n",
    "import matplotlib.pyplot as plt\n",
    "import seaborn as sns\n",
    "import warnings\n",
    "warnings.filterwarnings(\"ignore\")\n",
    "from sklearn.model_selection import train_test_split\n",
    "\n",
    "#import data \n",
    "diabetes_df=pd.read_csv(\"./data/diabetes.csv\")\n",
    "diabetes_df.head()\n",
    "\n",
    "# Reaarange Outcome columns \n",
    "l1=[col  for col in diabetes_df.columns if col!=\"Outcome\"]\n",
    "l1.append(\"Outcome\")\n",
    "diabetes_df=diabetes_df[l1]\n",
    "diabetes_df.head()\n",
    "\n",
    "def data_clean(df=None):\n",
    "        df[\"Exercise\"]=df[\"Exercise\"].replace({\"No\":1,\"Evening\":2,\"Morning\":3,\"Both\":4}).astype(int)\n",
    "        df[\"Gender\"]=df[\"Gender\"].replace({\"M\":1,\"F\":0}).astype(int)\n",
    "        df[\"CalorieIntake\"].fillna(df[\"CalorieIntake\"].median(),inplace=True)\n",
    "        return df\n",
    "    \n",
    "    \n",
    "diabetes_df_clean=data_clean(diabetes_df)\n",
    "\n",
    "X=diabetes_df_clean.iloc[:,:-1]\n",
    "y=diabetes_df_clean.iloc[:,-1]\n",
    "\n",
    "#train_test_split\n",
    "X_train,X_test,y_train,y_test=train_test_split(X,y,test_size=0.65)\n",
    "\n",
    "from sklearn.svm import SVC\n",
    "clf=SVC(kernel='rbf')\n",
    "clf.fit(X_train,y_train)\n",
    "\n",
    "y_pred=clf.predict(X_test)\n",
    "\n",
    "## confusion Matrix\n",
    "from sklearn.metrics import confusion_matrix\n",
    "\n",
    "\n",
    "x=confusion_matrix(y_test,y_pred)\n",
    "\n",
    "print(\"confusion_matrix :\\n\",x)\n",
    "\n",
    "Acc=clf.score(X_test,y_test)\n",
    "print(\"Accuracy:\",Acc)\n",
    "\n",
    "\n",
    "\n"
   ]
  }
 ],
 "metadata": {
  "kernelspec": {
   "display_name": "Python 3",
   "language": "python",
   "name": "python3"
  },
  "language_info": {
   "codemirror_mode": {
    "name": "ipython",
    "version": 3
   },
   "file_extension": ".py",
   "mimetype": "text/x-python",
   "name": "python",
   "nbconvert_exporter": "python",
   "pygments_lexer": "ipython3",
   "version": "3.8.5"
  },
  "toc": {
   "base_numbering": 1,
   "nav_menu": {},
   "number_sections": true,
   "sideBar": true,
   "skip_h1_title": false,
   "title_cell": "Table of Contents",
   "title_sidebar": "Contents",
   "toc_cell": false,
   "toc_position": {},
   "toc_section_display": true,
   "toc_window_display": false
  }
 },
 "nbformat": 4,
 "nbformat_minor": 4
}

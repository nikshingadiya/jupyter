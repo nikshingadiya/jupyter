{
 "cells": [
  {
   "cell_type": "code",
   "execution_count": 57,
   "metadata": {
    "ExecuteTime": {
     "end_time": "2021-10-07T11:08:54.733987Z",
     "start_time": "2021-10-07T11:08:52.626446Z"
    }
   },
   "outputs": [],
   "source": [
    "import pandas as pd\n",
    "from sklearn.datasets import load_boston\n",
    "from sklearn.model_selection import train_test_split\n",
    "from sklearn.preprocessing import StandardScaler,MinMaxScaler\n",
    "from sklearn.linear_model import  LinearRegression\n",
    "import numpy as np \n",
    "from sklearn.linear_model import LinearRegression\n",
    "from sklearn.decomposition import PCA\n",
    "import matplotlib.pyplot as plt\n",
    "\n",
    "bst=load_boston()\n",
    "\n",
    "X, y = load_boston(return_X_y=True)\n",
    "\n",
    "X.shape\n",
    "\n",
    "print(bst.DESCR)\n",
    "\n",
    "X_train, X_test, y_train, y_test = train_test_split(X, y,\n",
    "                                                   random_state = 0)\n",
    "\n",
    "scaler=StandardScaler()\n",
    "# scaler=MinMaxScaler()\n",
    "\n",
    "X_train=scaler.fit_transform(X_train)\n",
    "X_test=scaler.fit_transform(X_test)\n",
    "\n",
    "LinearRegressionR = LinearRegression().fit(X_train, y_train)\n",
    "y_pred = LinearRegressionR.predict(X_test)\n",
    "print('Crime dataset')\n",
    "print('ridge regression linear model intercept: {}'\n",
    "     .format(LinearRegressionR.intercept_))\n",
    "print('ridge regression linear model coeff:\\n{}'\n",
    "     .format(LinearRegressionR.coef_))\n",
    "print('R-squared score (training): {:.3f}'\n",
    "     .format(LinearRegressionR.score(X_train, y_train)))\n",
    "print('R-squared score (test): {:.3f}'\n",
    "     .format(LinearRegressionR.score(X_test, y_test)))\n",
    "print('Number of non-zero features: {}'\n",
    "     .format(np.sum(LinearRegressionR.coef_ != 0)))\n",
    "\n",
    "line=LinearRegressionR.predict(X_test)\n",
    "line\n",
    "\n",
    "pc=PCA(n_components=1)\n",
    "pc.fit(X_test)\n",
    "X_new_test=pc.transform(X_test)\n",
    "\n",
    "x=X_new_test[:,0]\n",
    "\n",
    "p1=plt.scatter(x,y_test,marker =\"^\")\n",
    "p2=plt.scatter(x,y_pred,marker =\"o\")\n",
    "plt.legend((p1,p2),(\"original\",\"predicted\"))\n",
    "plt.show()\n",
    "\n"
   ]
  }
 ],
 "metadata": {
  "kernelspec": {
   "display_name": "Python 3",
   "language": "python",
   "name": "python3"
  },
  "language_info": {
   "codemirror_mode": {
    "name": "ipython",
    "version": 3
   },
   "file_extension": ".py",
   "mimetype": "text/x-python",
   "name": "python",
   "nbconvert_exporter": "python",
   "pygments_lexer": "ipython3",
   "version": "3.8.5"
  },
  "toc": {
   "base_numbering": 1,
   "nav_menu": {},
   "number_sections": true,
   "sideBar": true,
   "skip_h1_title": false,
   "title_cell": "Table of Contents",
   "title_sidebar": "Contents",
   "toc_cell": false,
   "toc_position": {},
   "toc_section_display": true,
   "toc_window_display": false
  }
 },
 "nbformat": 4,
 "nbformat_minor": 4
}

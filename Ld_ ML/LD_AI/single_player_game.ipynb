{
 "cells": [
  {
   "cell_type": "code",
   "execution_count": 2,
   "metadata": {
    "ExecuteTime": {
     "end_time": "2021-10-02T06:23:51.985753Z",
     "start_time": "2021-10-02T06:23:36.361118Z"
    }
   },
   "outputs": [
    {
     "name": "stdout",
     "output_type": "stream",
     "text": [
      "#------------------#\n",
      "| GUESS THE NUMBER |\n",
      "#------------------#\n",
      "\n",
      "\n",
      "Range of Random Numbers.\n",
      "Enter Starting Index: 15\n",
      "Enter Ending Index: 30\n",
      "\n",
      "\n",
      "Guess the number:  23\n",
      "\n",
      "Hmmm, try a lower number...\n",
      "\n",
      "Guess the number:  18\n",
      "\n",
      "Go a little higher\n",
      "\n",
      "Guess the number:  19\n",
      "Right on! Well done!\n"
     ]
    }
   ],
   "source": [
    "import random\n",
    "print(\"#------------------#\")\n",
    "print(\"| GUESS THE NUMBER |\")\n",
    "print(\"#------------------#\")\n",
    "print('\\n')\n",
    "print('Range of Random Numbers.')\n",
    "start = int(input('Enter Starting Index: '))\n",
    "end = int(input('Enter Ending Index: '))\n",
    "number = random.randint(start, end)\n",
    "print('\\n')\n",
    "\n",
    "\n",
    "while True:\n",
    "    guess = int(input('Guess the number:  '))\n",
    "    if guess > number:\n",
    "        print('\\nHmmm, try a lower number...\\n')\n",
    "\n",
    "    elif guess < number:\n",
    "        print('\\nGo a little higher\\n')\n",
    "\n",
    "    else:\n",
    "        print(\"Right on! Well done!\")\n",
    "        break"
   ]
  },
  {
   "cell_type": "code",
   "execution_count": null,
   "metadata": {},
   "outputs": [],
   "source": []
  }
 ],
 "metadata": {
  "kernelspec": {
   "display_name": "Python 3",
   "language": "python",
   "name": "python3"
  },
  "language_info": {
   "codemirror_mode": {
    "name": "ipython",
    "version": 3
   },
   "file_extension": ".py",
   "mimetype": "text/x-python",
   "name": "python",
   "nbconvert_exporter": "python",
   "pygments_lexer": "ipython3",
   "version": "3.8.5"
  },
  "toc": {
   "base_numbering": 1,
   "nav_menu": {},
   "number_sections": true,
   "sideBar": true,
   "skip_h1_title": false,
   "title_cell": "Table of Contents",
   "title_sidebar": "Contents",
   "toc_cell": false,
   "toc_position": {},
   "toc_section_display": true,
   "toc_window_display": false
  }
 },
 "nbformat": 4,
 "nbformat_minor": 4
}

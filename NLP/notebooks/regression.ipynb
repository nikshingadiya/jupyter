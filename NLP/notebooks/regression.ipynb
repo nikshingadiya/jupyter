{
 "cells": [
  {
   "cell_type": "code",
   "execution_count": 1,
   "metadata": {
    "ExecuteTime": {
     "end_time": "2021-06-13T05:24:28.171913Z",
     "start_time": "2021-06-13T05:23:50.454945Z"
    },
    "id": "Fn4iZH6XKFr_"
   },
   "outputs": [],
   "source": [
    "import matplotlib.pyplot as plt\n",
    "import numpy as np\n",
    "import pandas as pd\n",
    "import seaborn as sns\n",
    "\n",
    "# Make numpy printouts easier to read.ArithmeticError\n",
    "np.set_printoptions(precision=3, suppress=True)"
   ]
  },
  {
   "cell_type": "code",
   "execution_count": 2,
   "metadata": {
    "ExecuteTime": {
     "end_time": "2021-06-13T05:25:15.609174Z",
     "start_time": "2021-06-13T05:24:29.479460Z"
    },
    "id": "3PwnmnT5KGqZ"
   },
   "outputs": [],
   "source": [
    "import tensorflow as tf\n",
    "from tensorflow import keras\n",
    "from tensorflow.keras import layers\n",
    "from tensorflow.keras.layers.experimental import preprocessing"
   ]
  },
  {
   "cell_type": "code",
   "execution_count": null,
   "metadata": {
    "id": "Evvm1-exD2ut"
   },
   "outputs": [],
   "source": []
  },
  {
   "cell_type": "code",
   "execution_count": 3,
   "metadata": {
    "ExecuteTime": {
     "end_time": "2021-06-13T05:25:15.820079Z",
     "start_time": "2021-06-13T05:25:15.620169Z"
    },
    "colab": {
     "base_uri": "https://localhost:8080/"
    },
    "id": "RL6i_VwsKQHa",
    "outputId": "4530d939-d209-41c3-deee-dfad149ebf0d"
   },
   "outputs": [
    {
     "name": "stderr",
     "output_type": "stream",
     "text": [
      "'pwd' is not recognized as an internal or external command,\n",
      "operable program or batch file.\n"
     ]
    }
   ],
   "source": [
    "!pwd"
   ]
  },
  {
   "cell_type": "markdown",
   "metadata": {
    "id": "dbES39mNAFuI"
   },
   "source": [
    "## regression"
   ]
  },
  {
   "cell_type": "code",
   "execution_count": 4,
   "metadata": {
    "ExecuteTime": {
     "end_time": "2021-06-13T05:25:15.831072Z",
     "start_time": "2021-06-13T05:25:15.825077Z"
    },
    "id": "_nRHNMd9_8SF"
   },
   "outputs": [],
   "source": [
    "## regression "
   ]
  },
  {
   "cell_type": "code",
   "execution_count": 5,
   "metadata": {
    "ExecuteTime": {
     "end_time": "2021-06-13T05:25:16.795558Z",
     "start_time": "2021-06-13T05:25:15.838066Z"
    },
    "id": "zhhtqdj5KJZJ"
   },
   "outputs": [],
   "source": [
    "raw_dataset = pd.read_csv(\"../../data/car/audi.csv\", \n",
    "                          na_values='?', comment='\\t', skipinitialspace=True)\n",
    "orignal_data=raw_dataset.copy()"
   ]
  },
  {
   "cell_type": "code",
   "execution_count": 6,
   "metadata": {
    "ExecuteTime": {
     "end_time": "2021-06-13T05:25:17.082914Z",
     "start_time": "2021-06-13T05:25:16.798545Z"
    },
    "colab": {
     "base_uri": "https://localhost:8080/",
     "height": 202
    },
    "id": "sPnZEzToKjlo",
    "outputId": "d6e5bfc1-29f3-4f0b-8446-f6aced268727"
   },
   "outputs": [
    {
     "data": {
      "text/html": [
       "<div>\n",
       "<style scoped>\n",
       "    .dataframe tbody tr th:only-of-type {\n",
       "        vertical-align: middle;\n",
       "    }\n",
       "\n",
       "    .dataframe tbody tr th {\n",
       "        vertical-align: top;\n",
       "    }\n",
       "\n",
       "    .dataframe thead th {\n",
       "        text-align: right;\n",
       "    }\n",
       "</style>\n",
       "<table border=\"1\" class=\"dataframe\">\n",
       "  <thead>\n",
       "    <tr style=\"text-align: right;\">\n",
       "      <th></th>\n",
       "      <th>model</th>\n",
       "      <th>year</th>\n",
       "      <th>price</th>\n",
       "      <th>transmission</th>\n",
       "      <th>mileage</th>\n",
       "      <th>fuelType</th>\n",
       "      <th>tax</th>\n",
       "      <th>mpg</th>\n",
       "      <th>engineSize</th>\n",
       "    </tr>\n",
       "  </thead>\n",
       "  <tbody>\n",
       "    <tr>\n",
       "      <th>0</th>\n",
       "      <td>A1</td>\n",
       "      <td>2017</td>\n",
       "      <td>12500</td>\n",
       "      <td>Manual</td>\n",
       "      <td>15735</td>\n",
       "      <td>Petrol</td>\n",
       "      <td>150</td>\n",
       "      <td>55.4</td>\n",
       "      <td>1.4</td>\n",
       "    </tr>\n",
       "    <tr>\n",
       "      <th>1</th>\n",
       "      <td>A6</td>\n",
       "      <td>2016</td>\n",
       "      <td>16500</td>\n",
       "      <td>Automatic</td>\n",
       "      <td>36203</td>\n",
       "      <td>Diesel</td>\n",
       "      <td>20</td>\n",
       "      <td>64.2</td>\n",
       "      <td>2.0</td>\n",
       "    </tr>\n",
       "    <tr>\n",
       "      <th>2</th>\n",
       "      <td>A1</td>\n",
       "      <td>2016</td>\n",
       "      <td>11000</td>\n",
       "      <td>Manual</td>\n",
       "      <td>29946</td>\n",
       "      <td>Petrol</td>\n",
       "      <td>30</td>\n",
       "      <td>55.4</td>\n",
       "      <td>1.4</td>\n",
       "    </tr>\n",
       "    <tr>\n",
       "      <th>3</th>\n",
       "      <td>A4</td>\n",
       "      <td>2017</td>\n",
       "      <td>16800</td>\n",
       "      <td>Automatic</td>\n",
       "      <td>25952</td>\n",
       "      <td>Diesel</td>\n",
       "      <td>145</td>\n",
       "      <td>67.3</td>\n",
       "      <td>2.0</td>\n",
       "    </tr>\n",
       "    <tr>\n",
       "      <th>4</th>\n",
       "      <td>A3</td>\n",
       "      <td>2019</td>\n",
       "      <td>17300</td>\n",
       "      <td>Manual</td>\n",
       "      <td>1998</td>\n",
       "      <td>Petrol</td>\n",
       "      <td>145</td>\n",
       "      <td>49.6</td>\n",
       "      <td>1.0</td>\n",
       "    </tr>\n",
       "  </tbody>\n",
       "</table>\n",
       "</div>"
      ],
      "text/plain": [
       "  model  year  price transmission  mileage fuelType  tax   mpg  engineSize\n",
       "0    A1  2017  12500       Manual    15735   Petrol  150  55.4         1.4\n",
       "1    A6  2016  16500    Automatic    36203   Diesel   20  64.2         2.0\n",
       "2    A1  2016  11000       Manual    29946   Petrol   30  55.4         1.4\n",
       "3    A4  2017  16800    Automatic    25952   Diesel  145  67.3         2.0\n",
       "4    A3  2019  17300       Manual     1998   Petrol  145  49.6         1.0"
      ]
     },
     "execution_count": 6,
     "metadata": {},
     "output_type": "execute_result"
    }
   ],
   "source": [
    "orignal_data.head()"
   ]
  },
  {
   "cell_type": "code",
   "execution_count": 7,
   "metadata": {
    "ExecuteTime": {
     "end_time": "2021-06-13T05:25:17.498246Z",
     "start_time": "2021-06-13T05:25:17.088910Z"
    },
    "colab": {
     "background_save": true,
     "base_uri": "https://localhost:8080/"
    },
    "id": "kvBaaMHAM4kA",
    "outputId": "4d65110f-adda-4935-c361-308d39892997"
   },
   "outputs": [
    {
     "name": "stdout",
     "output_type": "stream",
     "text": [
      "<class 'pandas.core.frame.DataFrame'>\n",
      "RangeIndex: 10668 entries, 0 to 10667\n",
      "Data columns (total 9 columns):\n",
      " #   Column        Non-Null Count  Dtype  \n",
      "---  ------        --------------  -----  \n",
      " 0   model         10668 non-null  object \n",
      " 1   year          10668 non-null  int64  \n",
      " 2   price         10668 non-null  int64  \n",
      " 3   transmission  10668 non-null  object \n",
      " 4   mileage       10668 non-null  int64  \n",
      " 5   fuelType      10668 non-null  object \n",
      " 6   tax           10668 non-null  int64  \n",
      " 7   mpg           10668 non-null  float64\n",
      " 8   engineSize    10668 non-null  float64\n",
      "dtypes: float64(2), int64(4), object(3)\n",
      "memory usage: 750.2+ KB\n"
     ]
    }
   ],
   "source": [
    "orignal_data.info()"
   ]
  },
  {
   "cell_type": "code",
   "execution_count": 8,
   "metadata": {
    "ExecuteTime": {
     "end_time": "2021-06-13T05:25:17.861625Z",
     "start_time": "2021-06-13T05:25:17.504243Z"
    },
    "colab": {
     "base_uri": "https://localhost:8080/",
     "height": 294
    },
    "id": "IQRKNZwzVmgc",
    "outputId": "2294373a-dcd1-410f-cd19-a4b236807720"
   },
   "outputs": [
    {
     "data": {
      "text/html": [
       "<div>\n",
       "<style scoped>\n",
       "    .dataframe tbody tr th:only-of-type {\n",
       "        vertical-align: middle;\n",
       "    }\n",
       "\n",
       "    .dataframe tbody tr th {\n",
       "        vertical-align: top;\n",
       "    }\n",
       "\n",
       "    .dataframe thead th {\n",
       "        text-align: right;\n",
       "    }\n",
       "</style>\n",
       "<table border=\"1\" class=\"dataframe\">\n",
       "  <thead>\n",
       "    <tr style=\"text-align: right;\">\n",
       "      <th></th>\n",
       "      <th>year</th>\n",
       "      <th>price</th>\n",
       "      <th>mileage</th>\n",
       "      <th>tax</th>\n",
       "      <th>mpg</th>\n",
       "      <th>engineSize</th>\n",
       "    </tr>\n",
       "  </thead>\n",
       "  <tbody>\n",
       "    <tr>\n",
       "      <th>count</th>\n",
       "      <td>10668.000000</td>\n",
       "      <td>10668.000000</td>\n",
       "      <td>10668.000000</td>\n",
       "      <td>10668.000000</td>\n",
       "      <td>10668.000000</td>\n",
       "      <td>10668.000000</td>\n",
       "    </tr>\n",
       "    <tr>\n",
       "      <th>mean</th>\n",
       "      <td>2017.100675</td>\n",
       "      <td>22896.685039</td>\n",
       "      <td>24827.244001</td>\n",
       "      <td>126.011436</td>\n",
       "      <td>50.770022</td>\n",
       "      <td>1.930709</td>\n",
       "    </tr>\n",
       "    <tr>\n",
       "      <th>std</th>\n",
       "      <td>2.167494</td>\n",
       "      <td>11714.841888</td>\n",
       "      <td>23505.257205</td>\n",
       "      <td>67.170294</td>\n",
       "      <td>12.949782</td>\n",
       "      <td>0.602957</td>\n",
       "    </tr>\n",
       "    <tr>\n",
       "      <th>min</th>\n",
       "      <td>1997.000000</td>\n",
       "      <td>1490.000000</td>\n",
       "      <td>1.000000</td>\n",
       "      <td>0.000000</td>\n",
       "      <td>18.900000</td>\n",
       "      <td>0.000000</td>\n",
       "    </tr>\n",
       "    <tr>\n",
       "      <th>25%</th>\n",
       "      <td>2016.000000</td>\n",
       "      <td>15130.750000</td>\n",
       "      <td>5968.750000</td>\n",
       "      <td>125.000000</td>\n",
       "      <td>40.900000</td>\n",
       "      <td>1.500000</td>\n",
       "    </tr>\n",
       "    <tr>\n",
       "      <th>50%</th>\n",
       "      <td>2017.000000</td>\n",
       "      <td>20200.000000</td>\n",
       "      <td>19000.000000</td>\n",
       "      <td>145.000000</td>\n",
       "      <td>49.600000</td>\n",
       "      <td>2.000000</td>\n",
       "    </tr>\n",
       "    <tr>\n",
       "      <th>75%</th>\n",
       "      <td>2019.000000</td>\n",
       "      <td>27990.000000</td>\n",
       "      <td>36464.500000</td>\n",
       "      <td>145.000000</td>\n",
       "      <td>58.900000</td>\n",
       "      <td>2.000000</td>\n",
       "    </tr>\n",
       "    <tr>\n",
       "      <th>max</th>\n",
       "      <td>2020.000000</td>\n",
       "      <td>145000.000000</td>\n",
       "      <td>323000.000000</td>\n",
       "      <td>580.000000</td>\n",
       "      <td>188.300000</td>\n",
       "      <td>6.300000</td>\n",
       "    </tr>\n",
       "  </tbody>\n",
       "</table>\n",
       "</div>"
      ],
      "text/plain": [
       "               year          price        mileage           tax           mpg  \\\n",
       "count  10668.000000   10668.000000   10668.000000  10668.000000  10668.000000   \n",
       "mean    2017.100675   22896.685039   24827.244001    126.011436     50.770022   \n",
       "std        2.167494   11714.841888   23505.257205     67.170294     12.949782   \n",
       "min     1997.000000    1490.000000       1.000000      0.000000     18.900000   \n",
       "25%     2016.000000   15130.750000    5968.750000    125.000000     40.900000   \n",
       "50%     2017.000000   20200.000000   19000.000000    145.000000     49.600000   \n",
       "75%     2019.000000   27990.000000   36464.500000    145.000000     58.900000   \n",
       "max     2020.000000  145000.000000  323000.000000    580.000000    188.300000   \n",
       "\n",
       "         engineSize  \n",
       "count  10668.000000  \n",
       "mean       1.930709  \n",
       "std        0.602957  \n",
       "min        0.000000  \n",
       "25%        1.500000  \n",
       "50%        2.000000  \n",
       "75%        2.000000  \n",
       "max        6.300000  "
      ]
     },
     "execution_count": 8,
     "metadata": {},
     "output_type": "execute_result"
    }
   ],
   "source": [
    "orignal_data.describe()"
   ]
  },
  {
   "cell_type": "code",
   "execution_count": 9,
   "metadata": {
    "ExecuteTime": {
     "end_time": "2021-06-13T05:25:19.496082Z",
     "start_time": "2021-06-13T05:25:17.871620Z"
    },
    "colab": {
     "base_uri": "https://localhost:8080/",
     "height": 336
    },
    "id": "Pej-ulczMepr",
    "outputId": "d6e2c9e6-befa-4d02-ef12-32f6debe77e1"
   },
   "outputs": [
    {
     "data": {
      "image/png": "[encoded data removed]",
      "text/plain": [
       "<Figure size 432x288 with 1 Axes>"
      ]
     },
     "metadata": {
      "needs_background": "light"
     },
     "output_type": "display_data"
    }
   ],
   "source": [
    "plt.figure()\n",
    "for i in raw_dataset.columns:\n",
    "  x=raw_dataset[i].isna().sum()\n",
    "  plt.bar(i,x)\n",
    "  plt.xticks(rotation=90)\n",
    "plt.show()"
   ]
  },
  {
   "cell_type": "code",
   "execution_count": 10,
   "metadata": {
    "ExecuteTime": {
     "end_time": "2021-06-13T05:25:19.510073Z",
     "start_time": "2021-06-13T05:25:19.503078Z"
    },
    "id": "oW9MGsYhKp2A"
   },
   "outputs": [],
   "source": [
    "feature_x=[i  for i in raw_dataset.columns if i!=\"price\"] \n"
   ]
  },
  {
   "cell_type": "code",
   "execution_count": 11,
   "metadata": {
    "ExecuteTime": {
     "end_time": "2021-06-13T05:25:19.732143Z",
     "start_time": "2021-06-13T05:25:19.512638Z"
    },
    "id": "9JtbTxhWghPt"
   },
   "outputs": [],
   "source": [
    "#\n",
    "# from google.colab import drive\n",
    "# # drive.mount('/content/drive')\n",
    "# nb_path = os.path.realpath('datacleaner1')\n",
    "# # # os.symlink('/content/drive/My Drive/Colab Notebooks/datacleaner1/', nb_path)\n",
    "# # sys.path.insert(0,nb_path)\n",
    "\n",
    "\n",
    "# !pip install --target=$nb_path update-checker"
   ]
  },
  {
   "cell_type": "code",
   "execution_count": 12,
   "metadata": {
    "ExecuteTime": {
     "end_time": "2021-06-13T05:25:19.909028Z",
     "start_time": "2021-06-13T05:25:19.738143Z"
    },
    "colab": {
     "base_uri": "https://localhost:8080/"
    },
    "id": "-b8ZzxMdW5zV",
    "outputId": "5357d730-63a3-4b43-f40d-ee63302ccf35"
   },
   "outputs": [],
   "source": [
    "import sys,os"
   ]
  },
  {
   "cell_type": "code",
   "execution_count": 13,
   "metadata": {
    "ExecuteTime": {
     "end_time": "2021-06-13T05:25:28.456927Z",
     "start_time": "2021-06-13T05:25:19.913025Z"
    },
    "colab": {
     "base_uri": "https://localhost:8080/",
     "height": 167
    },
    "id": "cpg7fuIZWy6V",
    "outputId": "939b6c60-1f05-4f71-e897-79c1d334cd4b"
   },
   "outputs": [],
   "source": [
    "import datacleaner\n",
    "raw_dataset=datacleaner.autoclean(raw_dataset)"
   ]
  },
  {
   "cell_type": "code",
   "execution_count": 14,
   "metadata": {
    "ExecuteTime": {
     "end_time": "2021-06-13T05:25:28.483918Z",
     "start_time": "2021-06-13T05:25:28.459931Z"
    },
    "id": "c0CuZaQfLwqy"
   },
   "outputs": [],
   "source": [
    "\n",
    "X=raw_dataset[feature_x]\n",
    "y=raw_dataset[\"price\"]"
   ]
  },
  {
   "cell_type": "code",
   "execution_count": 15,
   "metadata": {
    "ExecuteTime": {
     "end_time": "2021-06-13T05:25:30.523445Z",
     "start_time": "2021-06-13T05:25:28.489914Z"
    },
    "colab": {
     "base_uri": "https://localhost:8080/",
     "height": 352
    },
    "id": "1jyDJUDhorl2",
    "outputId": "bc00f32e-40f1-48dc-e006-c3533326b4ab"
   },
   "outputs": [
    {
     "name": "stderr",
     "output_type": "stream",
     "text": [
      "C:\\Users\\nikhil\\anaconda3\\lib\\site-packages\\seaborn\\distributions.py:2551: FutureWarning: `distplot` is a deprecated function and will be removed in a future version. Please adapt your code to use either `displot` (a figure-level function with similar flexibility) or `histplot` (an axes-level function for histograms).\n",
      "  warnings.warn(msg, FutureWarning)\n"
     ]
    },
    {
     "data": {
      "text/plain": [
       "<AxesSubplot:xlabel='price', ylabel='Density'>"
      ]
     },
     "execution_count": 15,
     "metadata": {},
     "output_type": "execute_result"
    },
    {
     "data": {
      "image/png": "[encoded data removed]",
      "text/plain": [
       "<Figure size 432x288 with 1 Axes>"
      ]
     },
     "metadata": {
      "needs_background": "light"
     },
     "output_type": "display_data"
    }
   ],
   "source": [
    "sns.distplot(np.log10(y))"
   ]
  },
  {
   "cell_type": "code",
   "execution_count": 16,
   "metadata": {
    "ExecuteTime": {
     "end_time": "2021-06-13T05:25:30.559425Z",
     "start_time": "2021-06-13T05:25:30.528442Z"
    },
    "colab": {
     "base_uri": "https://localhost:8080/",
     "height": 202
    },
    "id": "NnVygJTtN3xV",
    "outputId": "6503c65c-c473-4d0a-c86c-f05576c7221e"
   },
   "outputs": [
    {
     "data": {
      "text/html": [
       "<div>\n",
       "<style scoped>\n",
       "    .dataframe tbody tr th:only-of-type {\n",
       "        vertical-align: middle;\n",
       "    }\n",
       "\n",
       "    .dataframe tbody tr th {\n",
       "        vertical-align: top;\n",
       "    }\n",
       "\n",
       "    .dataframe thead th {\n",
       "        text-align: right;\n",
       "    }\n",
       "</style>\n",
       "<table border=\"1\" class=\"dataframe\">\n",
       "  <thead>\n",
       "    <tr style=\"text-align: right;\">\n",
       "      <th></th>\n",
       "      <th>model</th>\n",
       "      <th>year</th>\n",
       "      <th>transmission</th>\n",
       "      <th>mileage</th>\n",
       "      <th>fuelType</th>\n",
       "      <th>tax</th>\n",
       "      <th>mpg</th>\n",
       "      <th>engineSize</th>\n",
       "    </tr>\n",
       "  </thead>\n",
       "  <tbody>\n",
       "    <tr>\n",
       "      <th>0</th>\n",
       "      <td>0</td>\n",
       "      <td>2017</td>\n",
       "      <td>1</td>\n",
       "      <td>15735</td>\n",
       "      <td>2</td>\n",
       "      <td>150</td>\n",
       "      <td>55.4</td>\n",
       "      <td>1.4</td>\n",
       "    </tr>\n",
       "    <tr>\n",
       "      <th>1</th>\n",
       "      <td>5</td>\n",
       "      <td>2016</td>\n",
       "      <td>0</td>\n",
       "      <td>36203</td>\n",
       "      <td>0</td>\n",
       "      <td>20</td>\n",
       "      <td>64.2</td>\n",
       "      <td>2.0</td>\n",
       "    </tr>\n",
       "    <tr>\n",
       "      <th>2</th>\n",
       "      <td>0</td>\n",
       "      <td>2016</td>\n",
       "      <td>1</td>\n",
       "      <td>29946</td>\n",
       "      <td>2</td>\n",
       "      <td>30</td>\n",
       "      <td>55.4</td>\n",
       "      <td>1.4</td>\n",
       "    </tr>\n",
       "    <tr>\n",
       "      <th>3</th>\n",
       "      <td>3</td>\n",
       "      <td>2017</td>\n",
       "      <td>0</td>\n",
       "      <td>25952</td>\n",
       "      <td>0</td>\n",
       "      <td>145</td>\n",
       "      <td>67.3</td>\n",
       "      <td>2.0</td>\n",
       "    </tr>\n",
       "    <tr>\n",
       "      <th>4</th>\n",
       "      <td>2</td>\n",
       "      <td>2019</td>\n",
       "      <td>1</td>\n",
       "      <td>1998</td>\n",
       "      <td>2</td>\n",
       "      <td>145</td>\n",
       "      <td>49.6</td>\n",
       "      <td>1.0</td>\n",
       "    </tr>\n",
       "  </tbody>\n",
       "</table>\n",
       "</div>"
      ],
      "text/plain": [
       "   model  year  transmission  mileage  fuelType  tax   mpg  engineSize\n",
       "0      0  2017             1    15735         2  150  55.4         1.4\n",
       "1      5  2016             0    36203         0   20  64.2         2.0\n",
       "2      0  2016             1    29946         2   30  55.4         1.4\n",
       "3      3  2017             0    25952         0  145  67.3         2.0\n",
       "4      2  2019             1     1998         2  145  49.6         1.0"
      ]
     },
     "execution_count": 16,
     "metadata": {},
     "output_type": "execute_result"
    }
   ],
   "source": [
    "X.head()"
   ]
  },
  {
   "cell_type": "code",
   "execution_count": 17,
   "metadata": {
    "ExecuteTime": {
     "end_time": "2021-06-13T05:25:35.024113Z",
     "start_time": "2021-06-13T05:25:30.565421Z"
    },
    "colab": {
     "base_uri": "https://localhost:8080/",
     "height": 1000
    },
    "id": "MaPMI0SARAMM",
    "outputId": "95b44159-5cd4-49ad-91f0-727b3bba098a"
   },
   "outputs": [
    {
     "name": "stderr",
     "output_type": "stream",
     "text": [
      "C:\\Users\\nikhil\\anaconda3\\lib\\site-packages\\seaborn\\_decorators.py:36: FutureWarning: Pass the following variables as keyword args: x, y. From version 0.12, the only valid positional argument will be `data`, and passing other arguments without an explicit keyword will result in an error or misinterpretation.\n",
      "  warnings.warn(\n",
      "C:\\Users\\nikhil\\anaconda3\\lib\\site-packages\\seaborn\\_decorators.py:36: FutureWarning: Pass the following variables as keyword args: x, y. From version 0.12, the only valid positional argument will be `data`, and passing other arguments without an explicit keyword will result in an error or misinterpretation.\n",
      "  warnings.warn(\n",
      "C:\\Users\\nikhil\\anaconda3\\lib\\site-packages\\seaborn\\_decorators.py:36: FutureWarning: Pass the following variables as keyword args: x, y. From version 0.12, the only valid positional argument will be `data`, and passing other arguments without an explicit keyword will result in an error or misinterpretation.\n",
      "  warnings.warn(\n",
      "C:\\Users\\nikhil\\anaconda3\\lib\\site-packages\\seaborn\\_decorators.py:36: FutureWarning: Pass the following variables as keyword args: x, y. From version 0.12, the only valid positional argument will be `data`, and passing other arguments without an explicit keyword will result in an error or misinterpretation.\n",
      "  warnings.warn(\n",
      "C:\\Users\\nikhil\\anaconda3\\lib\\site-packages\\seaborn\\_decorators.py:36: FutureWarning: Pass the following variables as keyword args: x, y. From version 0.12, the only valid positional argument will be `data`, and passing other arguments without an explicit keyword will result in an error or misinterpretation.\n",
      "  warnings.warn(\n",
      "C:\\Users\\nikhil\\anaconda3\\lib\\site-packages\\seaborn\\_decorators.py:36: FutureWarning: Pass the following variables as keyword args: x, y. From version 0.12, the only valid positional argument will be `data`, and passing other arguments without an explicit keyword will result in an error or misinterpretation.\n",
      "  warnings.warn(\n",
      "C:\\Users\\nikhil\\anaconda3\\lib\\site-packages\\seaborn\\_decorators.py:36: FutureWarning: Pass the following variables as keyword args: x, y. From version 0.12, the only valid positional argument will be `data`, and passing other arguments without an explicit keyword will result in an error or misinterpretation.\n",
      "  warnings.warn(\n",
      "C:\\Users\\nikhil\\anaconda3\\lib\\site-packages\\seaborn\\_decorators.py:36: FutureWarning: Pass the following variables as keyword args: x, y. From version 0.12, the only valid positional argument will be `data`, and passing other arguments without an explicit keyword will result in an error or misinterpretation.\n",
      "  warnings.warn(\n",
      "C:\\Users\\nikhil\\anaconda3\\lib\\site-packages\\seaborn\\_decorators.py:36: FutureWarning: Pass the following variables as keyword args: x, y. From version 0.12, the only valid positional argument will be `data`, and passing other arguments without an explicit keyword will result in an error or misinterpretation.\n",
      "  warnings.warn(\n"
     ]
    },
    {
     "data": {
      "image/png": "[encoded data removed]",
      "text/plain": [
       "<Figure size 432x288 with 1 Axes>"
      ]
     },
     "metadata": {
      "needs_background": "light"
     },
     "output_type": "display_data"
    },
    {
     "data": {
      "image/png": "[encoded data removed]",
      "text/plain": [
       "<Figure size 432x288 with 1 Axes>"
      ]
     },
     "metadata": {
      "needs_background": "light"
     },
     "output_type": "display_data"
    },
    {
     "data": {
      "image/png": "[encoded data removed]",
      "text/plain": [
       "<Figure size 432x288 with 1 Axes>"
      ]
     },
     "metadata": {
      "needs_background": "light"
     },
     "output_type": "display_data"
    },
    {
     "data": {
      "image/png": "[encoded data removed]",
      "text/plain": [
       "<Figure size 432x288 with 1 Axes>"
      ]
     },
     "metadata": {
      "needs_background": "light"
     },
     "output_type": "display_data"
    },
    {
     "data": {
      "image/png": "[encoded data removed]",
      "text/plain": [
       "<Figure size 432x288 with 1 Axes>"
      ]
     },
     "metadata": {
      "needs_background": "light"
     },
     "output_type": "display_data"
    },
    {
     "data": {
      "image/png": "[encoded data removed]",
      "text/plain": [
       "<Figure size 432x288 with 1 Axes>"
      ]
     },
     "metadata": {
      "needs_background": "light"
     },
     "output_type": "display_data"
    },
    {
     "data": {
      "image/png": "[encoded data removed]",
      "text/plain": [
       "<Figure size 432x288 with 1 Axes>"
      ]
     },
     "metadata": {
      "needs_background": "light"
     },
     "output_type": "display_data"
    },
    {
     "data": {
      "image/png": "[encoded data removed]",
      "text/plain": [
       "<Figure size 432x288 with 1 Axes>"
      ]
     },
     "metadata": {
      "needs_background": "light"
     },
     "output_type": "display_data"
    },
    {
     "data": {
      "image/png": "[encoded data removed]",
      "text/plain": [
       "<Figure size 432x288 with 1 Axes>"
      ]
     },
     "metadata": {
      "needs_background": "light"
     },
     "output_type": "display_data"
    }
   ],
   "source": [
    "for i in raw_dataset.columns:\n",
    "  plt.figure()\n",
    "  sns.scatterplot(raw_dataset[i],raw_dataset[\"price\"])"
   ]
  },
  {
   "cell_type": "code",
   "execution_count": 18,
   "metadata": {
    "ExecuteTime": {
     "end_time": "2021-06-13T05:25:35.122517Z",
     "start_time": "2021-06-13T05:25:35.029111Z"
    },
    "id": "WcT5DrqlN7E9"
   },
   "outputs": [],
   "source": [
    "map_dict = {}\n",
    "for i in feature_x:\n",
    "    unique = sorted(raw_dataset[i].unique())\n",
    "    map_dict[i] = dict(zip(unique, sorted(X[i].unique())))"
   ]
  },
  {
   "cell_type": "code",
   "execution_count": null,
   "metadata": {
    "id": "bNXIgnc_oTEn"
   },
   "outputs": [],
   "source": []
  },
  {
   "cell_type": "code",
   "execution_count": 19,
   "metadata": {
    "ExecuteTime": {
     "end_time": "2021-06-13T05:25:36.231572Z",
     "start_time": "2021-06-13T05:25:35.126471Z"
    },
    "id": "-5WjFJ-wPkm_"
   },
   "outputs": [],
   "source": [
    "\n",
    "from sklearn.model_selection import train_test_split"
   ]
  },
  {
   "cell_type": "code",
   "execution_count": 20,
   "metadata": {
    "ExecuteTime": {
     "end_time": "2021-06-13T05:25:36.458238Z",
     "start_time": "2021-06-13T05:25:36.235530Z"
    },
    "colab": {
     "base_uri": "https://localhost:8080/"
    },
    "id": "DA9eI6-DVJK_",
    "outputId": "abb9028c-f9d6-4cc9-f249-b72d6431baa5"
   },
   "outputs": [
    {
     "name": "stdout",
     "output_type": "stream",
     "text": [
      "(7147, 8)\n",
      "(3521, 8)\n"
     ]
    }
   ],
   "source": [
    "\n",
    "x_train,x_test,y_train,y_test=train_test_split(X,y,random_state=0,test_size=0.33)\n",
    "print(x_train.shape)\n",
    "print(x_test.shape)\n"
   ]
  },
  {
   "cell_type": "code",
   "execution_count": 21,
   "metadata": {
    "ExecuteTime": {
     "end_time": "2021-06-13T05:25:36.873197Z",
     "start_time": "2021-06-13T05:25:36.462237Z"
    },
    "id": "YPZEVRPtVdwA"
   },
   "outputs": [],
   "source": [
    "nm=preprocessing.Normalization()"
   ]
  },
  {
   "cell_type": "code",
   "execution_count": 22,
   "metadata": {
    "ExecuteTime": {
     "end_time": "2021-06-13T05:25:42.343433Z",
     "start_time": "2021-06-13T05:25:36.876276Z"
    },
    "id": "n01PUJ0lV9Ey"
   },
   "outputs": [],
   "source": [
    "nm.adapt((x_train).astype(\"float32\"))"
   ]
  },
  {
   "cell_type": "code",
   "execution_count": 23,
   "metadata": {
    "ExecuteTime": {
     "end_time": "2021-06-13T05:25:42.371429Z",
     "start_time": "2021-06-13T05:25:42.346431Z"
    },
    "colab": {
     "base_uri": "https://localhost:8080/"
    },
    "id": "SJvg6XYEWToE",
    "outputId": "1e2bd48f-08d3-4b32-9287-3670abfb03e4"
   },
   "outputs": [
    {
     "name": "stdout",
     "output_type": "stream",
     "text": [
      "[    5.776  2017.091     1.081 25020.268     0.935   125.791    50.859\n",
      "     1.933]\n"
     ]
    }
   ],
   "source": [
    "print(nm.mean.numpy())"
   ]
  },
  {
   "cell_type": "code",
   "execution_count": 24,
   "metadata": {
    "ExecuteTime": {
     "end_time": "2021-06-13T05:25:42.800805Z",
     "start_time": "2021-06-13T05:25:42.382422Z"
    },
    "colab": {
     "base_uri": "https://localhost:8080/"
    },
    "id": "o_7qpTFyWXYQ",
    "outputId": "13d3e1f4-6553-407e-cd4a-f1b3da746f5d"
   },
   "outputs": [
    {
     "name": "stdout",
     "output_type": "stream",
     "text": [
      "First example: [[    0.   2017.      1.  25800.      2.    150.     67.3     1. ]]\n",
      "\n",
      "Normalized: [[-1.14 -0.04 -0.11  0.03  1.07  0.36  1.24 -1.56]]\n"
     ]
    }
   ],
   "source": [
    "\n",
    "\n",
    "first = np.array(x_train[:1])\n",
    "\n",
    "with np.printoptions(precision=2, suppress=True):\n",
    "  print('First example:', first)\n",
    "  print()\n",
    "  print('Normalized:', nm(first).numpy())"
   ]
  },
  {
   "cell_type": "code",
   "execution_count": 25,
   "metadata": {
    "ExecuteTime": {
     "end_time": "2021-06-13T05:25:43.124163Z",
     "start_time": "2021-06-13T05:25:42.805782Z"
    },
    "colab": {
     "base_uri": "https://localhost:8080/"
    },
    "id": "_-_opRVzWiC1",
    "outputId": "143c58d5-a3a4-4079-98a4-08a8a83fefd2"
   },
   "outputs": [
    {
     "name": "stdout",
     "output_type": "stream",
     "text": [
      "Model: \"sequential\"\n",
      "_________________________________________________________________\n",
      "Layer (type)                 Output Shape              Param #   \n",
      "=================================================================\n",
      "normalization (Normalization (None, 8)                 17        \n",
      "_________________________________________________________________\n",
      "dense (Dense)                (None, 10)                90        \n",
      "_________________________________________________________________\n",
      "dense_1 (Dense)              (None, 10)                110       \n",
      "_________________________________________________________________\n",
      "dense_2 (Dense)              (None, 5)                 55        \n",
      "_________________________________________________________________\n",
      "dense_3 (Dense)              (None, 1)                 6         \n",
      "=================================================================\n",
      "Total params: 278\n",
      "Trainable params: 261\n",
      "Non-trainable params: 17\n",
      "_________________________________________________________________\n"
     ]
    }
   ],
   "source": [
    "model = tf.keras.Sequential([\n",
    "    nm,\n",
    "    \n",
    "    layers.Dense(units=10,activation=\"relu\"),\n",
    "    layers.Dense(units=10,activation=\"relu\"),\n",
    "    layers.Dense(units=5,activation=\"relu\",activity_regularizer=keras.regularizers.L1(0.01)),\n",
    "    layers.Dense(units=1)\n",
    "\n",
    "\n",
    "\n",
    "\n",
    "\n",
    "])\n",
    "\n",
    "model.summary()"
   ]
  },
  {
   "cell_type": "code",
   "execution_count": 26,
   "metadata": {
    "ExecuteTime": {
     "end_time": "2021-06-13T05:25:43.164422Z",
     "start_time": "2021-06-13T05:25:43.128160Z"
    },
    "id": "GOHPd97yaTiU"
   },
   "outputs": [],
   "source": [
    "\n",
    "model.compile(\n",
    "    optimizer=tf.optimizers.Adam(learning_rate=0.2),\n",
    "  \n",
    "    \n",
    "  \n",
    "    loss=\"mean_absolute_error\")"
   ]
  },
  {
   "cell_type": "code",
   "execution_count": 27,
   "metadata": {
    "ExecuteTime": {
     "end_time": "2021-06-13T05:26:10.335903Z",
     "start_time": "2021-06-13T05:25:43.167381Z"
    },
    "colab": {
     "base_uri": "https://localhost:8080/"
    },
    "id": "tRrYTU-jbawi",
    "outputId": "2f33f0e5-c147-4a9c-e495-34ee81471c6c"
   },
   "outputs": [
    {
     "name": "stdout",
     "output_type": "stream",
     "text": [
      "Wall time: 27 s\n"
     ]
    }
   ],
   "source": [
    "%%time\n",
    "history = model.fit(\n",
    "    x_train, y_train,\n",
    "    batch_size=128,\n",
    "\n",
    "    epochs=200,\n",
    "    # suppress logging\n",
    "    verbose=0,\n",
    "    # Calculate validation results on 20% of the training data\n",
    "    validation_split = 0.2)"
   ]
  },
  {
   "cell_type": "code",
   "execution_count": 28,
   "metadata": {
    "ExecuteTime": {
     "end_time": "2021-06-13T05:26:10.374878Z",
     "start_time": "2021-06-13T05:26:10.341898Z"
    },
    "colab": {
     "base_uri": "https://localhost:8080/",
     "height": 202
    },
    "id": "QTMzQ9-_bsV_",
    "outputId": "82007e2a-2a30-4d24-94cc-13ec70337f79"
   },
   "outputs": [
    {
     "data": {
      "text/html": [
       "<div>\n",
       "<style scoped>\n",
       "    .dataframe tbody tr th:only-of-type {\n",
       "        vertical-align: middle;\n",
       "    }\n",
       "\n",
       "    .dataframe tbody tr th {\n",
       "        vertical-align: top;\n",
       "    }\n",
       "\n",
       "    .dataframe thead th {\n",
       "        text-align: right;\n",
       "    }\n",
       "</style>\n",
       "<table border=\"1\" class=\"dataframe\">\n",
       "  <thead>\n",
       "    <tr style=\"text-align: right;\">\n",
       "      <th></th>\n",
       "      <th>loss</th>\n",
       "      <th>val_loss</th>\n",
       "      <th>epoch</th>\n",
       "    </tr>\n",
       "  </thead>\n",
       "  <tbody>\n",
       "    <tr>\n",
       "      <th>195</th>\n",
       "      <td>2134.307861</td>\n",
       "      <td>2195.229980</td>\n",
       "      <td>195</td>\n",
       "    </tr>\n",
       "    <tr>\n",
       "      <th>196</th>\n",
       "      <td>2128.755859</td>\n",
       "      <td>2248.948486</td>\n",
       "      <td>196</td>\n",
       "    </tr>\n",
       "    <tr>\n",
       "      <th>197</th>\n",
       "      <td>2178.022705</td>\n",
       "      <td>2165.136475</td>\n",
       "      <td>197</td>\n",
       "    </tr>\n",
       "    <tr>\n",
       "      <th>198</th>\n",
       "      <td>2147.996826</td>\n",
       "      <td>2158.187500</td>\n",
       "      <td>198</td>\n",
       "    </tr>\n",
       "    <tr>\n",
       "      <th>199</th>\n",
       "      <td>2157.468018</td>\n",
       "      <td>2345.255615</td>\n",
       "      <td>199</td>\n",
       "    </tr>\n",
       "  </tbody>\n",
       "</table>\n",
       "</div>"
      ],
      "text/plain": [
       "            loss     val_loss  epoch\n",
       "195  2134.307861  2195.229980    195\n",
       "196  2128.755859  2248.948486    196\n",
       "197  2178.022705  2165.136475    197\n",
       "198  2147.996826  2158.187500    198\n",
       "199  2157.468018  2345.255615    199"
      ]
     },
     "execution_count": 28,
     "metadata": {},
     "output_type": "execute_result"
    }
   ],
   "source": [
    "\n",
    "hist = pd.DataFrame(history.history)\n",
    "hist['epoch'] = history.epoch\n",
    "hist.tail()"
   ]
  },
  {
   "cell_type": "code",
   "execution_count": null,
   "metadata": {
    "id": "KNYv0d7-LgYl"
   },
   "outputs": [],
   "source": [
    "\n"
   ]
  },
  {
   "cell_type": "code",
   "execution_count": 29,
   "metadata": {
    "ExecuteTime": {
     "end_time": "2021-06-13T05:26:10.474825Z",
     "start_time": "2021-06-13T05:26:10.384872Z"
    },
    "id": "gRy8MV_ib3jS"
   },
   "outputs": [],
   "source": [
    "def plot_loss(history):\n",
    "    plt.figure(figsize=(10, 8))\n",
    "    plt.plot(history.history['loss'], label='loss')\n",
    "    plt.plot(history.history['val_loss'], label='val_loss')\n",
    "    # plt.ylim([min(history.history[\"val_loss\"])-200, max(history.history[\"val_loss\"])])\n",
    "    plt.xlabel('Epoch')\n",
    "    plt.ylabel('Error [price]')\n",
    "    plt.legend()\n",
    "    plt.grid(True)"
   ]
  },
  {
   "cell_type": "code",
   "execution_count": 30,
   "metadata": {
    "ExecuteTime": {
     "end_time": "2021-06-13T05:26:11.102560Z",
     "start_time": "2021-06-13T05:26:10.479818Z"
    },
    "colab": {
     "base_uri": "https://localhost:8080/",
     "height": 496
    },
    "id": "L0xNg7M-cE7o",
    "outputId": "6fc1d884-dd67-45d0-a9f7-7ea9712e9645"
   },
   "outputs": [
    {
     "data": {
      "image/png": "[encoded data removed]",
      "text/plain": [
       "<Figure size 720x576 with 1 Axes>"
      ]
     },
     "metadata": {
      "needs_background": "light"
     },
     "output_type": "display_data"
    }
   ],
   "source": [
    "plot_loss(history)"
   ]
  },
  {
   "cell_type": "code",
   "execution_count": 31,
   "metadata": {
    "ExecuteTime": {
     "end_time": "2021-06-13T05:26:11.524319Z",
     "start_time": "2021-06-13T05:26:11.107558Z"
    },
    "colab": {
     "base_uri": "https://localhost:8080/"
    },
    "id": "pNhjcnJvCGZE",
    "outputId": "bbf7160e-7bfa-446c-f9f5-40a362cd37a9"
   },
   "outputs": [
    {
     "name": "stdout",
     "output_type": "stream",
     "text": [
      "111/111 [==============================] - 0s 2ms/step - loss: 2351.4380\n"
     ]
    },
    {
     "data": {
      "text/plain": [
       "2351.43798828125"
      ]
     },
     "execution_count": 31,
     "metadata": {},
     "output_type": "execute_result"
    }
   ],
   "source": [
    "\n",
    "\n",
    "\n",
    "\n",
    "\n",
    "\n",
    "\n",
    "\n",
    "\n",
    "\n",
    "\n",
    "model.evaluate(x_test,y_test)"
   ]
  },
  {
   "cell_type": "code",
   "execution_count": 32,
   "metadata": {
    "ExecuteTime": {
     "end_time": "2021-06-13T05:26:12.066494Z",
     "start_time": "2021-06-13T05:26:11.529315Z"
    },
    "id": "jeM-ToU4cv42"
   },
   "outputs": [],
   "source": [
    "\n",
    "y_pre=model.predict(x_test)"
   ]
  },
  {
   "cell_type": "code",
   "execution_count": 33,
   "metadata": {
    "ExecuteTime": {
     "end_time": "2021-06-13T05:26:12.082491Z",
     "start_time": "2021-06-13T05:26:12.069498Z"
    },
    "id": "DPCOhyRaeJB2"
   },
   "outputs": [],
   "source": [
    "def plot_prediction(x, y):\n",
    "    plt.scatter(x, y, label='test & pre data')\n",
    "    lims = [0, max(y)+600]\n",
    "    plt.xlim(lims)\n",
    "    plt.ylim(lims)\n",
    "    _ = plt.plot(lims, lims, color=\"red\")\n",
    "    # plt.plot(x, y, color='red', label='Predictions')\n",
    "\n",
    "    plt.ylabel('y_test')\n",
    "    plt.xlabel('y_pre')\n",
    "    plt.legend()\n",
    "    plt.figure()\n",
    "    plt.hist(x, color=\"b\", bins=int(2*(len(x))**(1/3)), alpha=0.6)\n",
    "    plt.hist(y, color=\"orange\", bins=int(2*(len(x))**(1/3)), alpha=0.4)"
   ]
  },
  {
   "cell_type": "code",
   "execution_count": 34,
   "metadata": {
    "ExecuteTime": {
     "end_time": "2021-06-13T05:26:13.768549Z",
     "start_time": "2021-06-13T05:26:12.087486Z"
    },
    "colab": {
     "base_uri": "https://localhost:8080/",
     "height": 526
    },
    "id": "q12wsn31eOGx",
    "outputId": "a47c5c05-2dc6-45f2-df27-4c1086201593"
   },
   "outputs": [
    {
     "data": {
      "image/png": "[encoded data removed]",
      "text/plain": [
       "<Figure size 432x288 with 1 Axes>"
      ]
     },
     "metadata": {
      "needs_background": "light"
     },
     "output_type": "display_data"
    },
    {
     "data": {
      "image/png": "[encoded data removed]",
      "text/plain": [
       "<Figure size 432x288 with 1 Axes>"
      ]
     },
     "metadata": {
      "needs_background": "light"
     },
     "output_type": "display_data"
    }
   ],
   "source": [
    "plot_prediction(y_pre,y_test)"
   ]
  },
  {
   "cell_type": "code",
   "execution_count": 35,
   "metadata": {
    "ExecuteTime": {
     "end_time": "2021-06-13T05:26:14.433787Z",
     "start_time": "2021-06-13T05:26:13.772544Z"
    },
    "colab": {
     "base_uri": "https://localhost:8080/",
     "height": 496
    },
    "id": "AV-TvgYjey3L",
    "outputId": "2faf79a8-13bc-4676-b36c-75c79de9d02f"
   },
   "outputs": [
    {
     "data": {
      "image/png": "[encoded data removed]",
      "text/plain": [
       "<Figure size 720x576 with 1 Axes>"
      ]
     },
     "metadata": {
      "needs_background": "light"
     },
     "output_type": "display_data"
    }
   ],
   "source": [
    "\n",
    "error = y_test - y_pre.flatten()\n",
    "plt.figure(figsize=(10,8))\n",
    "plt.hist(error, bins=25)\n",
    "\n",
    "plt.xlabel('Prediction Error [price]')\n",
    "\n",
    "plt.axvline(x=round(np.mean(error),1),ymax=1000,color=\"red\")\n",
    "plt.text(round(np.mean(error),1)+50,100,f'mean = {round(np.mean(error),1)}',rotation=90,color=\"orange\",fontdict=dict(size=20))\n",
    "_ = plt.ylabel('Count')"
   ]
  },
  {
   "cell_type": "code",
   "execution_count": 36,
   "metadata": {
    "ExecuteTime": {
     "end_time": "2021-06-13T05:26:14.445777Z",
     "start_time": "2021-06-13T05:26:14.439780Z"
    },
    "id": "2VPkiwsYCDit"
   },
   "outputs": [],
   "source": [
    "# nb_path=\"/content/drive/MyDrive/Colab Notebooks/library\""
   ]
  },
  {
   "cell_type": "code",
   "execution_count": 37,
   "metadata": {
    "ExecuteTime": {
     "end_time": "2021-06-13T05:26:14.613843Z",
     "start_time": "2021-06-13T05:26:14.450775Z"
    },
    "colab": {
     "base_uri": "https://localhost:8080/"
    },
    "id": "JWluDVRx-z4P",
    "outputId": "c7f4c42d-8efe-4794-82e0-7066c5a522f6"
   },
   "outputs": [
    {
     "data": {
      "text/plain": [
       "['C:\\\\Users\\\\nikhil\\\\Documents\\\\GitHub\\\\jupyter\\\\NLP\\\\notebooks',\n",
       " 'C:\\\\Users\\\\nikhil\\\\anaconda3\\\\python38.zip',\n",
       " 'C:\\\\Users\\\\nikhil\\\\anaconda3\\\\DLLs',\n",
       " 'C:\\\\Users\\\\nikhil\\\\anaconda3\\\\lib',\n",
       " 'C:\\\\Users\\\\nikhil\\\\anaconda3',\n",
       " '',\n",
       " 'C:\\\\Users\\\\nikhil\\\\AppData\\\\Roaming\\\\Python\\\\Python38\\\\site-packages',\n",
       " 'C:\\\\Users\\\\nikhil\\\\anaconda3\\\\lib\\\\site-packages',\n",
       " 'C:\\\\Users\\\\nikhil\\\\anaconda3\\\\lib\\\\site-packages\\\\win32',\n",
       " 'C:\\\\Users\\\\nikhil\\\\anaconda3\\\\lib\\\\site-packages\\\\win32\\\\lib',\n",
       " 'C:\\\\Users\\\\nikhil\\\\anaconda3\\\\lib\\\\site-packages\\\\Pythonwin',\n",
       " 'C:\\\\Users\\\\nikhil\\\\anaconda3\\\\lib\\\\site-packages\\\\IPython\\\\extensions',\n",
       " 'C:\\\\Users\\\\nikhil\\\\.ipython']"
      ]
     },
     "execution_count": 37,
     "metadata": {},
     "output_type": "execute_result"
    }
   ],
   "source": [
    "sys.path"
   ]
  },
  {
   "cell_type": "code",
   "execution_count": 38,
   "metadata": {
    "ExecuteTime": {
     "end_time": "2021-06-13T05:26:14.781464Z",
     "start_time": "2021-06-13T05:26:14.619820Z"
    },
    "id": "4o3BZPi_8coU"
   },
   "outputs": [],
   "source": [
    "# sys.path.insert(0, \"/content/drive/MyDrive/Colab Notebooks/library\") "
   ]
  },
  {
   "cell_type": "code",
   "execution_count": 39,
   "metadata": {
    "ExecuteTime": {
     "end_time": "2021-06-13T05:26:14.980311Z",
     "start_time": "2021-06-13T05:26:14.787461Z"
    },
    "colab": {
     "base_uri": "https://localhost:8080/"
    },
    "id": "ph56Hgsx80c8",
    "outputId": "2f569546-7433-44bc-b936-1a2c88a91244"
   },
   "outputs": [],
   "source": [
    "# !pip install --target=$nb_path spacy"
   ]
  },
  {
   "cell_type": "code",
   "execution_count": 40,
   "metadata": {
    "ExecuteTime": {
     "end_time": "2021-06-13T05:26:18.382369Z",
     "start_time": "2021-06-13T05:26:14.983293Z"
    },
    "colab": {
     "base_uri": "https://localhost:8080/",
     "height": 327
    },
    "id": "JeTTacQEghhZ",
    "outputId": "1dc78c3c-261d-4019-9bd5-1cfa54973410"
   },
   "outputs": [],
   "source": [
    "import tensorflow_addons as tfa\n",
    "metric = tfa.metrics.r_square.RSquare()"
   ]
  },
  {
   "cell_type": "code",
   "execution_count": 41,
   "metadata": {
    "ExecuteTime": {
     "end_time": "2021-06-13T05:26:18.861640Z",
     "start_time": "2021-06-13T05:26:18.388353Z"
    },
    "id": "je948-4QoMhk"
   },
   "outputs": [],
   "source": [
    "metric.update_state(y_test, y_pre.flatten())"
   ]
  },
  {
   "cell_type": "code",
   "execution_count": 42,
   "metadata": {
    "ExecuteTime": {
     "end_time": "2021-06-13T05:26:19.486538Z",
     "start_time": "2021-06-13T05:26:18.865357Z"
    },
    "id": "wSU04dnGocdU"
   },
   "outputs": [],
   "source": [
    "result = metric.result()"
   ]
  },
  {
   "cell_type": "code",
   "execution_count": 43,
   "metadata": {
    "ExecuteTime": {
     "end_time": "2021-06-13T05:26:19.500527Z",
     "start_time": "2021-06-13T05:26:19.489531Z"
    },
    "colab": {
     "base_uri": "https://localhost:8080/"
    },
    "id": "8Bt2-fLsovuH",
    "outputId": "85de59fa-322c-4c71-827f-aa0d53bc58c8"
   },
   "outputs": [
    {
     "data": {
      "text/plain": [
       "0.9152376"
      ]
     },
     "execution_count": 43,
     "metadata": {},
     "output_type": "execute_result"
    }
   ],
   "source": [
    "\n",
    "result.numpy()"
   ]
  },
  {
   "cell_type": "code",
   "execution_count": 44,
   "metadata": {
    "ExecuteTime": {
     "end_time": "2021-06-13T05:26:19.676018Z",
     "start_time": "2021-06-13T05:26:19.505521Z"
    },
    "colab": {
     "base_uri": "https://localhost:8080/"
    },
    "id": "lWCyIm47oxNO",
    "outputId": "1206c29c-4525-4d24-9695-641c59e70542"
   },
   "outputs": [
    {
     "name": "stdout",
     "output_type": "stream",
     "text": [
      "2049    14998\n",
      "5609    21950\n",
      "7638    28990\n",
      "1603    25489\n",
      "5953    30950\n",
      "Name: price, dtype: int64 [14108.426 28386.86  30463.348 24321.648 31766.838]\n"
     ]
    }
   ],
   "source": [
    "print(y_test[:5],y_pre.flatten()[:5])"
   ]
  },
  {
   "cell_type": "code",
   "execution_count": 45,
   "metadata": {
    "ExecuteTime": {
     "end_time": "2021-06-13T05:26:19.801752Z",
     "start_time": "2021-06-13T05:26:19.679998Z"
    },
    "id": "ITAMTGR3qHhg"
   },
   "outputs": [],
   "source": [
    "from sklearn.metrics import r2_score"
   ]
  },
  {
   "cell_type": "code",
   "execution_count": 46,
   "metadata": {
    "ExecuteTime": {
     "end_time": "2021-06-13T05:26:19.900227Z",
     "start_time": "2021-06-13T05:26:19.805492Z"
    },
    "colab": {
     "base_uri": "https://localhost:8080/"
    },
    "id": "G4DP6tiZq2wq",
    "outputId": "53992917-779b-4f49-e5aa-185164f130f3"
   },
   "outputs": [
    {
     "data": {
      "text/plain": [
       "0.9152374824902315"
      ]
     },
     "execution_count": 46,
     "metadata": {},
     "output_type": "execute_result"
    }
   ],
   "source": [
    "r2_score(y_test, y_pre.flatten())"
   ]
  },
  {
   "cell_type": "markdown",
   "metadata": {
    "id": "tF3mnrL2q7Un"
   },
   "source": [
    "## Hyper parameter"
   ]
  },
  {
   "cell_type": "code",
   "execution_count": 47,
   "metadata": {
    "ExecuteTime": {
     "end_time": "2021-06-13T05:26:20.378125Z",
     "start_time": "2021-06-13T05:26:19.906223Z"
    },
    "id": "KVmvzauoAt6P"
   },
   "outputs": [],
   "source": [
    "import tensorflow as tf\n",
    "from tensorboard.plugins.hparams import api as hp"
   ]
  },
  {
   "cell_type": "code",
   "execution_count": 50,
   "metadata": {
    "ExecuteTime": {
     "end_time": "2021-06-13T05:27:26.304038Z",
     "start_time": "2021-06-13T05:27:26.291603Z"
    },
    "colab": {
     "base_uri": "https://localhost:8080/"
    },
    "id": "cxtd5h6Hc8WG",
    "outputId": "fd608ad6-3a17-4c8e-c623-e751c7c3ca2c"
   },
   "outputs": [
    {
     "name": "stdout",
     "output_type": "stream",
     "text": [
      "The tensorboard extension is already loaded. To reload it, use:\n",
      "  %reload_ext tensorboard\n"
     ]
    }
   ],
   "source": [
    "%load_ext tensorboard"
   ]
  },
  {
   "cell_type": "code",
   "execution_count": 51,
   "metadata": {
    "ExecuteTime": {
     "end_time": "2021-06-13T05:27:28.753579Z",
     "start_time": "2021-06-13T05:27:28.742586Z"
    },
    "id": "QwchVB1dAy8f"
   },
   "outputs": [],
   "source": [
    "def train_test_model(hparams):\n",
    "    model = tf.keras.Sequential([\n",
    "        nm,\n",
    "        \n",
    "        layers.Dense(hparams[HP_NUM_UNITS],activation=\"relu\"),\n",
    "        layers.Dropout(hparams[HP_DROPOUT]),\n",
    "        layers.Dense(hparams[HP_NUM_UNITS],activation=\"relu\"),\n",
    "      \n",
    "        layers.Dense(hparams[HP_NUM_UNITS],activity_regularizer=keras.regularizers.L1(0.01)),\n",
    "        layers.Dense(units=1)\n",
    "\n",
    "\n",
    "\n",
    "\n",
    "\n",
    "    ])\n",
    "\n",
    "    model.compile(\n",
    "        optimizer=hparams[HP_OPTIMIZER],\n",
    "      \n",
    "        \n",
    "      \n",
    "        loss=\"mean_absolute_error\")\n",
    "    history = model.fit(\n",
    "        x_train, y_train,\n",
    "        batch_size=128,\n",
    "\n",
    "        epochs=200,\n",
    "        # suppress logging\n",
    "        verbose=0,\n",
    "        # Calculate validation results on 20% of the training data\n",
    "        validation_split = 0.2)\n",
    "\n",
    "    return (np.mean(history.history['val_loss'][192:200]),np.mean(history.history['loss'][192:200]))"
   ]
  },
  {
   "cell_type": "code",
   "execution_count": 52,
   "metadata": {
    "ExecuteTime": {
     "end_time": "2021-06-13T05:27:29.958105Z",
     "start_time": "2021-06-13T05:27:29.950113Z"
    },
    "id": "OZeiJyG3c_PY"
   },
   "outputs": [],
   "source": [
    "HP_NUM_UNITS = hp.HParam('num_units', hp.Discrete([10, 15,25]))\n",
    "HP_DROPOUT = hp.HParam('dropout', hp.RealInterval(0.1, 0.3))\n",
    "HP_OPTIMIZER = hp.HParam('optimizer', hp.Discrete(['adam', 'sgd']))"
   ]
  },
  {
   "cell_type": "code",
   "execution_count": 53,
   "metadata": {
    "ExecuteTime": {
     "end_time": "2021-06-13T05:27:30.961927Z",
     "start_time": "2021-06-13T05:27:30.957932Z"
    },
    "id": "pkqbaxNZdFjS"
   },
   "outputs": [],
   "source": [
    "mean_absolute_error=\"mean_abs_error\"\n",
    "t_loss=\"train_loss\""
   ]
  },
  {
   "cell_type": "code",
   "execution_count": 54,
   "metadata": {
    "ExecuteTime": {
     "end_time": "2021-06-13T05:27:32.105005Z",
     "start_time": "2021-06-13T05:27:32.095014Z"
    },
    "id": "WC7THYi4eZVJ"
   },
   "outputs": [],
   "source": [
    "def run(run_dir, hparams):\n",
    "  with tf.summary.create_file_writer(run_dir).as_default():\n",
    "    hp.hparams(hparams)  # record the values used in this trial\n",
    "    (mean_abs_error,train_loss) = train_test_model(hparams)\n",
    "    tf.summary.scalar(mean_absolute_error,mean_abs_error,step=1)\n",
    "    tf.summary.scalar(t_loss,train_loss,step=1)"
   ]
  },
  {
   "cell_type": "code",
   "execution_count": 60,
   "metadata": {
    "ExecuteTime": {
     "end_time": "2021-06-13T05:42:21.171551Z",
     "start_time": "2021-06-13T05:35:49.829047Z"
    }
   },
   "outputs": [
    {
     "name": "stdout",
     "output_type": "stream",
     "text": [
      "--- Starting trial: run-0\n",
      "{'num_units': 10, 'dropout': 0.1, 'optimizer': 'adam'}\n",
      "--- Starting trial: run-1\n",
      "{'num_units': 10, 'dropout': 0.1, 'optimizer': 'sgd'}\n",
      "--- Starting trial: run-2\n",
      "{'num_units': 10, 'dropout': 0.3, 'optimizer': 'adam'}\n",
      "--- Starting trial: run-3\n",
      "{'num_units': 10, 'dropout': 0.3, 'optimizer': 'sgd'}\n",
      "--- Starting trial: run-4\n",
      "{'num_units': 15, 'dropout': 0.1, 'optimizer': 'adam'}\n",
      "--- Starting trial: run-5\n",
      "{'num_units': 15, 'dropout': 0.1, 'optimizer': 'sgd'}\n",
      "--- Starting trial: run-6\n",
      "{'num_units': 15, 'dropout': 0.3, 'optimizer': 'adam'}\n",
      "--- Starting trial: run-7\n",
      "{'num_units': 15, 'dropout': 0.3, 'optimizer': 'sgd'}\n",
      "--- Starting trial: run-8\n",
      "{'num_units': 25, 'dropout': 0.1, 'optimizer': 'adam'}\n",
      "--- Starting trial: run-9\n",
      "{'num_units': 25, 'dropout': 0.1, 'optimizer': 'sgd'}\n",
      "--- Starting trial: run-10\n",
      "{'num_units': 25, 'dropout': 0.3, 'optimizer': 'adam'}\n",
      "--- Starting trial: run-11\n",
      "{'num_units': 25, 'dropout': 0.3, 'optimizer': 'sgd'}\n"
     ]
    }
   ],
   "source": [
    "from sklearn.metrics import r2_score\n",
    "session_num = 0\n",
    "for num_units in HP_NUM_UNITS.domain.values:\n",
    "    for dropout_rate in (HP_DROPOUT.domain.min_value, HP_DROPOUT.domain.max_value):\n",
    "        for optimizer in HP_OPTIMIZER.domain.values:\n",
    "            hparams = {\n",
    "                HP_NUM_UNITS: num_units,\n",
    "                HP_DROPOUT: dropout_rate,\n",
    "                HP_OPTIMIZER: optimizer,\n",
    "            }\n",
    "            run_name = \"run-%d\" % session_num\n",
    "            print('--- Starting trial: %s' % run_name)\n",
    "            print({h.name: hparams[h] for h in hparams})\n",
    "            run('Log_Model/regression_log/' + run_name, hparams)\n",
    "            session_num += 1"
   ]
  },
  {
   "cell_type": "code",
   "execution_count": 61,
   "metadata": {
    "ExecuteTime": {
     "end_time": "2021-06-13T05:42:21.199556Z",
     "start_time": "2021-06-13T05:42:21.175548Z"
    }
   },
   "outputs": [
    {
     "data": {
      "text/plain": [
       "Reusing TensorBoard on port 6006 (pid 8436), started 0:09:24 ago. (Use '!kill 8436' to kill it.)"
      ]
     },
     "metadata": {},
     "output_type": "display_data"
    },
    {
     "data": {
      "text/html": [
       "\n",
       "      <iframe id=\"tensorboard-frame-4831b18b4f953159\" width=\"100%\" height=\"800\" frameborder=\"0\">\n",
       "      </iframe>\n",
       "      <script>\n",
       "        (function() {\n",
       "          const frame = document.getElementById(\"tensorboard-frame-4831b18b4f953159\");\n",
       "          const url = new URL(\"/\", window.location);\n",
       "          const port = 6006;\n",
       "          if (port) {\n",
       "            url.port = port;\n",
       "          }\n",
       "          frame.src = url;\n",
       "        })();\n",
       "      </script>\n",
       "    "
      ],
      "text/plain": [
       "<IPython.core.display.HTML object>"
      ]
     },
     "metadata": {},
     "output_type": "display_data"
    }
   ],
   "source": [
    "%tensorboard --reload_multifile=true --logdir Log_Model/regression_log"
   ]
  },
  {
   "cell_type": "code",
   "execution_count": null,
   "metadata": {},
   "outputs": [],
   "source": []
  }
 ],
 "metadata": {
  "colab": {
   "collapsed_sections": [],
   "name": "regression.ipynb",
   "provenance": []
  },
  "kernelspec": {
   "display_name": "Python 3",
   "language": "python",
   "name": "python3"
  },
  "language_info": {
   "codemirror_mode": {
    "name": "ipython",
    "version": 3
   },
   "file_extension": ".py",
   "mimetype": "text/x-python",
   "name": "python",
   "nbconvert_exporter": "python",
   "pygments_lexer": "ipython3",
   "version": "3.8.5"
  },
  "toc": {
   "base_numbering": 1,
   "nav_menu": {},
   "number_sections": true,
   "sideBar": true,
   "skip_h1_title": false,
   "title_cell": "Table of Contents",
   "title_sidebar": "Contents",
   "toc_cell": false,
   "toc_position": {},
   "toc_section_display": true,
   "toc_window_display": false
  }
 },
 "nbformat": 4,
 "nbformat_minor": 1
}

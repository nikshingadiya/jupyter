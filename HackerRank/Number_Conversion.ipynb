{
 "cells": [
  {
   "cell_type": "code",
   "execution_count": 59,
   "metadata": {
    "ExecuteTime": {
     "end_time": "2020-06-15T04:41:39.005316Z",
     "start_time": "2020-06-15T04:41:37.176990Z"
    }
   },
   "outputs": [
    {
     "name": "stdout",
     "output_type": "stream",
     "text": [
      "2\n",
      " 1  1  1  1\n",
      " 2  2  2 10\n"
     ]
    }
   ],
   "source": [
    "number=int(input())\n",
    "w = len((bin(number)[2:]))\n",
    "for i in range(1, number+1):\n",
    "    print(str(i).rjust(w),oct(i)[2:].rjust(w),(hex(i)[2:]).upper().rjust(w),bin(i)[2:].rjust(w))"
   ]
  },
  {
   "cell_type": "code",
   "execution_count": 8,
   "metadata": {
    "ExecuteTime": {
     "end_time": "2020-06-15T03:50:44.345633Z",
     "start_time": "2020-06-15T03:50:44.314378Z"
    }
   },
   "outputs": [],
   "source": [
    "def ChangeHex(n):\n",
    "    if (n < 0):\n",
    "        print(0)\n",
    "    elif (n<=1):\n",
    "        print(n)\n",
    "    else:\n",
    "        print(n)\n",
    "        ChangeHex( n / 16 )\n",
    "        print(n)\n",
    "        x =(n%16)\n",
    "        if (x < 10):\n",
    "            print(x), \n",
    "        if (x == 10):\n",
    "            print(\"A\"),\n",
    "        if (x == 11):\n",
    "            print(\"B\"),\n",
    "        if (x == 12):\n",
    "            print(\"C\"),\n",
    "        if (x == 13):\n",
    "            print(\"D\"),\n",
    "        if (x == 14):\n",
    "            print(\"E\"),\n",
    "        if (x == 15):\n",
    "            print (\"F\"),"
   ]
  },
  {
   "cell_type": "code",
   "execution_count": 15,
   "metadata": {
    "ExecuteTime": {
     "end_time": "2020-06-15T03:53:14.608068Z",
     "start_time": "2020-06-15T03:53:14.597676Z"
    }
   },
   "outputs": [
    {
     "name": "stdout",
     "output_type": "stream",
     "text": [
      "90\n",
      "5.625\n",
      "0.3515625\n",
      "5.625\n",
      "5.625\n",
      "90\n",
      "A\n"
     ]
    }
   ],
   "source": [
    "ChangeHex(90)"
   ]
  },
  {
   "cell_type": "code",
   "execution_count": 55,
   "metadata": {
    "ExecuteTime": {
     "end_time": "2020-06-15T04:38:13.303833Z",
     "start_time": "2020-06-15T04:38:13.291595Z"
    }
   },
   "outputs": [],
   "source": [
    "def print_formatted(number):\n",
    "    width=len(bin(number)[2:])\n",
    "    for i in range(1,number+1):\n",
    "        deci=str(i)\n",
    "        octa=oct(i)[2:]\n",
    "        hexa=(hex(i)[2:]).upper()\n",
    "        bina=bin(i)[2:]\n",
    "        print(deci.rjust(width),octa.rjust(width),hexa.rjust(width),bina.rjust(width))"
   ]
  },
  {
   "cell_type": "code",
   "execution_count": 56,
   "metadata": {
    "ExecuteTime": {
     "end_time": "2020-06-15T04:38:15.205502Z",
     "start_time": "2020-06-15T04:38:15.185467Z"
    }
   },
   "outputs": [
    {
     "name": "stdout",
     "output_type": "stream",
     "text": [
      " 1  1  1  1\n",
      " 2  2  2 10\n"
     ]
    }
   ],
   "source": [
    "print_formatted(2)"
   ]
  },
  {
   "cell_type": "code",
   "execution_count": null,
   "metadata": {},
   "outputs": [],
   "source": []
  }
 ],
 "metadata": {
  "kernelspec": {
   "display_name": "Python 3",
   "language": "python",
   "name": "python3"
  },
  "language_info": {
   "codemirror_mode": {
    "name": "ipython",
    "version": 3
   },
   "file_extension": ".py",
   "mimetype": "text/x-python",
   "name": "python",
   "nbconvert_exporter": "python",
   "pygments_lexer": "ipython3",
   "version": "3.8.5"
  },
  "toc": {
   "base_numbering": 1,
   "nav_menu": {},
   "number_sections": true,
   "sideBar": true,
   "skip_h1_title": false,
   "title_cell": "Table of Contents",
   "title_sidebar": "Contents",
   "toc_cell": false,
   "toc_position": {},
   "toc_section_display": true,
   "toc_window_display": false
  }
 },
 "nbformat": 4,
 "nbformat_minor": 4
}

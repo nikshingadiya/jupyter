{
 "cells": [
  {
   "cell_type": "code",
   "execution_count": 12,
   "metadata": {
    "ExecuteTime": {
     "end_time": "2021-07-21T16:10:22.672242Z",
     "start_time": "2021-07-21T16:10:22.655253Z"
    }
   },
   "outputs": [],
   "source": [
    "from random import shuffle\n",
    "from string import ascii_letters, digits\n",
    "def random_monoalpha_cipher(pool=None):\n",
    "    \"\"\"Generate a Monoalphabetic Cipher\"\"\"\n",
    "    if pool is None:\n",
    "        pool = ascii_letters + digits\n",
    "    original_pool = list(pool)\n",
    "    shuffled_pool = list(pool)\n",
    "    shuffle(shuffled_pool)\n",
    "    return dict(zip(original_pool, shuffled_pool))\n",
    "\n",
    "def inverse_monoalpha_cipher(monoalpha_cipher):\n",
    "    \"\"\"Given a Monoalphabetic Cipher (dictionary) return the inverse.\"\"\"\n",
    "    inverse_monoalpha = {}\n",
    "    for key, value in monoalpha_cipher.items():\n",
    "        inverse_monoalpha[value] = key\n",
    "    return inverse_monoalpha\n",
    "\n",
    "def encrypt_with_monoalpha(message, monoalpha_cipher):\n",
    "    encrypted_message = []\n",
    "    for letter in message:\n",
    "        encrypted_message.append(monoalpha_cipher.get(letter, letter))\n",
    "    return ''.join(encrypted_message)\n",
    "\n",
    "def decrypt_with_monoalpha(encrypted_message, monoalpha_cipher):\n",
    "    return encrypt_with_monoalpha(\n",
    "               encrypted_message,\n",
    "               inverse_monoalpha_cipher(monoalpha_cipher)\n",
    "           )"
   ]
  },
  {
   "cell_type": "code",
   "execution_count": 13,
   "metadata": {
    "ExecuteTime": {
     "end_time": "2021-07-21T16:10:23.172347Z",
     "start_time": "2021-07-21T16:10:23.166351Z"
    }
   },
   "outputs": [
    {
     "name": "stdout",
     "output_type": "stream",
     "text": [
      "{'a': 'J', 'b': '6', 'c': 'w', 'd': 'c', 'e': 'D', 'f': 'm', 'g': 'U', 'h': 'x', 'i': '9', 'j': 'r', 'k': 'V', 'l': 'F', 'm': 'A', 'n': 'a', 'o': 'H', 'p': 'E', 'q': 'W', 'r': 'M', 's': 'o', 't': 'Q', 'u': 'l', 'v': '1', 'w': 'z', 'x': 'j', 'y': 's', 'z': 'g', 'A': 'f', 'B': 'O', 'C': 'L', 'D': 'B', 'E': '8', 'F': 'T', 'G': 'N', 'H': 'q', 'I': 'y', 'J': '3', 'K': 'I', 'L': 'k', 'M': '2', 'N': 'n', 'O': 'P', 'P': 'p', 'Q': '5', 'R': 'b', 'S': 'e', 'T': 'G', 'U': 'v', 'V': 'u', 'W': 'X', 'X': 'Y', 'Y': 'R', 'Z': 'i', '0': '7', '1': 'd', '2': '4', '3': 'Z', '4': 'K', '5': 'h', '6': 't', '7': 'S', '8': 'C', '9': '0'}\n"
     ]
    }
   ],
   "source": [
    "cipher = random_monoalpha_cipher()\n",
    "print(cipher)"
   ]
  },
  {
   "cell_type": "code",
   "execution_count": 14,
   "metadata": {
    "ExecuteTime": {
     "end_time": "2021-07-21T16:10:23.549562Z",
     "start_time": "2021-07-21T16:10:23.541567Z"
    }
   },
   "outputs": [
    {
     "data": {
      "text/plain": [
       "'qDFFH JFF sHl xJwVDMo HlQ QxDMD!'"
      ]
     },
     "execution_count": 14,
     "metadata": {},
     "output_type": "execute_result"
    }
   ],
   "source": [
    "encrypt_with_monoalpha('Hello all you hackers out there!', cipher)"
   ]
  },
  {
   "cell_type": "code",
   "execution_count": 16,
   "metadata": {
    "ExecuteTime": {
     "end_time": "2021-07-21T16:10:57.715931Z",
     "start_time": "2021-07-21T16:10:57.707933Z"
    }
   },
   "outputs": [
    {
     "data": {
      "text/plain": [
       "'Hello all you hackers out there!'"
      ]
     },
     "execution_count": 16,
     "metadata": {},
     "output_type": "execute_result"
    }
   ],
   "source": [
    "decrypt_with_monoalpha('qDFFH JFF sHl xJwVDMo HlQ QxDMD!', cipher)"
   ]
  },
  {
   "cell_type": "code",
   "execution_count": null,
   "metadata": {},
   "outputs": [],
   "source": []
  }
 ],
 "metadata": {
  "kernelspec": {
   "display_name": "Python 3",
   "language": "python",
   "name": "python3"
  },
  "language_info": {
   "codemirror_mode": {
    "name": "ipython",
    "version": 3
   },
   "file_extension": ".py",
   "mimetype": "text/x-python",
   "name": "python",
   "nbconvert_exporter": "python",
   "pygments_lexer": "ipython3",
   "version": "3.8.5"
  },
  "toc": {
   "base_numbering": 1,
   "nav_menu": {},
   "number_sections": true,
   "sideBar": true,
   "skip_h1_title": false,
   "title_cell": "Table of Contents",
   "title_sidebar": "Contents",
   "toc_cell": false,
   "toc_position": {},
   "toc_section_display": true,
   "toc_window_display": false
  }
 },
 "nbformat": 4,
 "nbformat_minor": 4
}

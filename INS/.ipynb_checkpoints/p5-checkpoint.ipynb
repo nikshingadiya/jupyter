{
 "cells": [
  {
   "cell_type": "code",
   "execution_count": 1,
   "metadata": {
    "ExecuteTime": {
     "end_time": "2021-08-02T12:23:48.921154Z",
     "start_time": "2021-08-02T12:23:48.901118Z"
    }
   },
   "outputs": [
    {
     "name": "stdout",
     "output_type": "stream",
     "text": [
      "Ciphertext : GCYCZFMLYLEIM\n",
      "Original/Decrypted Text : GEEKSFORGEEKS\n"
     ]
    }
   ],
   "source": [
    "\n",
    "# Vigenere Cipher\n",
    "\n",
    "def generateKey(string, key):\n",
    "    key = list(key)\n",
    "    if len(string) == len(key):\n",
    "        return(key)\n",
    "    else:\n",
    "        for i in range(len(string) -\n",
    "                       len(key)):\n",
    "            key.append(key[i % len(key)])\n",
    "    return(\"\" . join(key))\n",
    "\n",
    "\n",
    "\n",
    "def cipherText(string, key):\n",
    "    cipher_text = []\n",
    "    for i in range(len(string)):\n",
    "        x = (ord(string[i]) +\n",
    "             ord(key[i])) % 26\n",
    "        x += ord('A')\n",
    "        cipher_text.append(chr(x))\n",
    "    return(\"\" . join(cipher_text))\n",
    "\n",
    "\n",
    "\n",
    "\n",
    "def originalText(cipher_text, key):\n",
    "    orig_text = []\n",
    "    for i in range(len(cipher_text)):\n",
    "        x = (ord(cipher_text[i]) -\n",
    "             ord(key[i]) + 26) % 26\n",
    "        x += ord('A')\n",
    "        orig_text.append(chr(x))\n",
    "    return(\"\" . join(orig_text))\n",
    "\n",
    "\n",
    "if __name__ == \"__main__\":\n",
    "    string = \"GEEKSFORGEEKS\"\n",
    "    keyword = \"AYUSH\"\n",
    "    key = generateKey(string, keyword)\n",
    "    cipher_text = cipherText(string, key)\n",
    "    print(\"Ciphertext :\", cipher_text)\n",
    "    print(\"Original/Decrypted Text :\",\n",
    "          originalText(cipher_text, key))\n",
    "\n"
   ]
  },
  {
   "cell_type": "code",
   "execution_count": null,
   "metadata": {},
   "outputs": [],
   "source": []
  }
 ],
 "metadata": {
  "kernelspec": {
   "display_name": "Python 3",
   "language": "python",
   "name": "python3"
  },
  "language_info": {
   "codemirror_mode": {
    "name": "ipython",
    "version": 3
   },
   "file_extension": ".py",
   "mimetype": "text/x-python",
   "name": "python",
   "nbconvert_exporter": "python",
   "pygments_lexer": "ipython3",
   "version": "3.8.5"
  },
  "toc": {
   "base_numbering": 1,
   "nav_menu": {},
   "number_sections": true,
   "sideBar": true,
   "skip_h1_title": false,
   "title_cell": "Table of Contents",
   "title_sidebar": "Contents",
   "toc_cell": false,
   "toc_position": {},
   "toc_section_display": true,
   "toc_window_display": false
  }
 },
 "nbformat": 4,
 "nbformat_minor": 4
}

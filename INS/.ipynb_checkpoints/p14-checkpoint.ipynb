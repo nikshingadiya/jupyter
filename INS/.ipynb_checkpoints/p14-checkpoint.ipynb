{
 "cells": [
  {
   "cell_type": "code",
   "execution_count": 3,
   "metadata": {
    "ExecuteTime": {
     "end_time": "2021-10-11T16:15:02.678188Z",
     "start_time": "2021-10-11T16:15:02.655200Z"
    }
   },
   "outputs": [
    {
     "name": "stdout",
     "output_type": "stream",
     "text": [
      "The hexadecimal equivalent of SHA256 is : \n",
      "a591a6d40bf420404a011733cfb7b190d62c65bf0bcda32b57b277d9ad9f146e\n",
      "\r\n",
      "The hexadecimal equivalent of SHA384 is : \n",
      "99514329186b2f6ae4a1329e7ee6c610a729636335174ac6b740f9028396fcc803d0e93863a7c3d90f86beee782f4f3f\n",
      "\r\n",
      "The hexadecimal equivalent of SHA224 is : \n",
      "173994f309f727ca939bb185086cd7b36e66141c9e52ba0bdcfd145d\n",
      "\r\n",
      "The hexadecimal equivalent of SHA512 is : \n",
      "0d8fb9370a5bf7b892be4865cdf8b658a82209624e33ed71cae353b0df254a75db63d1baa35ad99f26f1b399c31f3c666a7fc67ecef3bdcdb7d60e8ada90b722\n",
      "\r\n",
      "The hexadecimal equivalent of SHA1 is : \n",
      "4175a37afd561152fb60c305d4fa6026b7e79856\n"
     ]
    }
   ],
   "source": [
    "# Python 3 code to demonstrate\n",
    "# SHA hash algorithms.\n",
    "\n",
    "import hashlib\n",
    "\n",
    "# initializing string\n",
    "str = \"Hello World\"\n",
    "\n",
    "# encoding GeeksforGeeks using encode()\n",
    "# then sending to SHA256()\n",
    "result = hashlib.sha256(str.encode())\n",
    "\n",
    "# printing the equivalent hexadecimal value.\n",
    "print(\"The hexadecimal equivalent of SHA256 is : \")\n",
    "print(result.hexdigest())\n",
    "\n",
    "print (\"\\r\")\n",
    "\n",
    "# initializing string\n",
    "str = \"Hello World\"\n",
    "\n",
    "# encoding GeeksforGeeks using encode()\n",
    "# then sending to SHA384()\n",
    "result = hashlib.sha384(str.encode())\n",
    "\n",
    "# printing the equivalent hexadecimal value.\n",
    "print(\"The hexadecimal equivalent of SHA384 is : \")\n",
    "print(result.hexdigest())\n",
    "\n",
    "print (\"\\r\")\n",
    "\n",
    "# initializing string\n",
    "str = \"Hello World\"\n",
    "\n",
    "# encoding GeeksforGeeks using encode()\n",
    "# then sending to SHA224()\n",
    "result = hashlib.sha224(str.encode())\n",
    "\n",
    "# printing the equivalent hexadecimal value.\n",
    "print(\"The hexadecimal equivalent of SHA224 is : \")\n",
    "print(result.hexdigest())\n",
    "\n",
    "print (\"\\r\")\n",
    "\n",
    "# initializing string\n",
    "str = \"Hello World\"\n",
    "\n",
    "# encoding GeeksforGeeks using encode()\n",
    "# then sending to SHA512()\n",
    "result = hashlib.sha512(str.encode())\n",
    "\n",
    "# printing the equivalent hexadecimal value.\n",
    "print(\"The hexadecimal equivalent of SHA512 is : \")\n",
    "print(result.hexdigest())\n",
    "print (\"\\r\")\n",
    "\n",
    "# initializing string\n",
    "str = \"Hello World\"\n",
    "\n",
    "# encoding GeeksforGeeks using encode()\n",
    "# then sending to SHA1()\n",
    "result = hashlib.sha1(str.encode())\n",
    "\n",
    "# printing the equivalent hexadecimal value.\n",
    "print(\"The hexadecimal equivalent of SHA1 is : \")\n",
    "print(result.hexdigest())\n"
   ]
  },
  {
   "cell_type": "code",
   "execution_count": null,
   "metadata": {},
   "outputs": [],
   "source": []
  }
 ],
 "metadata": {
  "kernelspec": {
   "display_name": "Python 3",
   "language": "python",
   "name": "python3"
  },
  "language_info": {
   "codemirror_mode": {
    "name": "ipython",
    "version": 3
   },
   "file_extension": ".py",
   "mimetype": "text/x-python",
   "name": "python",
   "nbconvert_exporter": "python",
   "pygments_lexer": "ipython3",
   "version": "3.8.5"
  },
  "toc": {
   "base_numbering": 1,
   "nav_menu": {},
   "number_sections": true,
   "sideBar": true,
   "skip_h1_title": false,
   "title_cell": "Table of Contents",
   "title_sidebar": "Contents",
   "toc_cell": false,
   "toc_position": {},
   "toc_section_display": true,
   "toc_window_display": false
  }
 },
 "nbformat": 4,
 "nbformat_minor": 4
}

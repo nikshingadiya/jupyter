{
 "cells": [
  {
   "cell_type": "code",
   "execution_count": 2,
   "metadata": {
    "ExecuteTime": {
     "end_time": "2021-07-12T10:56:32.451326Z",
     "start_time": "2021-07-12T10:56:32.437339Z"
    }
   },
   "outputs": [
    {
     "name": "stdout",
     "output_type": "stream",
     "text": [
      "Output:\n",
      "Plain txt : CEASER CIPHER EXAMPLE\n",
      "Shift pattern : 4\n",
      "Cipher: HJFXJWsHNUMJWsJCFRUQJ\n"
     ]
    }
   ],
   "source": [
    "def encypt_func(txt, s):  \n",
    "    result = \"\"  \n",
    "  \n",
    "  \n",
    "# transverse the plain txt  \n",
    "    for i in range(len(txt)):  \n",
    "        char = txt[i]  \n",
    "        # encypt_func uppercase characters in plain txt  \n",
    "  \n",
    "        if (char.isupper()):  \n",
    "            result += chr((ord(char) + s - 64) % 26 + 65)  \n",
    "        # encypt_func lowercase characters in plain txt  \n",
    "        else:  \n",
    "            result += chr((ord(char) + s - 96) % 26 + 97)  \n",
    "    return result  \n",
    "# check the above function  \n",
    "txt = \"CEASER CIPHER EXAMPLE\"  \n",
    "s = 4  \n",
    "print(\"Output:\")\n",
    "  \n",
    "print(\"Plain txt : \" + txt)  \n",
    "print(\"Shift pattern : \" + str(s))  \n",
    "print(\"Cipher: \" + encypt_func(txt, s))"
   ]
  },
  {
   "cell_type": "code",
   "execution_count": 4,
   "metadata": {
    "ExecuteTime": {
     "end_time": "2021-07-12T11:01:27.071440Z",
     "start_time": "2021-07-12T11:01:27.061446Z"
    }
   },
   "outputs": [
    {
     "name": "stdout",
     "output_type": "stream",
     "text": [
      "Hacking k #25: IKGYKXsIOVNKXsKDGSVRK\n"
     ]
    }
   ],
   "source": [
    "msg = 'HJFXJWsHNUMJWsJCFRUQJ'  # encrypted msg\n",
    "LETTERS = 'ABCDEFGHIJKLMNOPQRSTUVWXYZ'\n",
    "\n",
    "for k in range(len(LETTERS)):\n",
    "    transformation = ''\n",
    "    for s in msg:\n",
    "        if s in LETTERS:\n",
    "            n = LETTERS.find(s)\n",
    "            n = n - k\n",
    "            if n < 0:\n",
    "                n = n + len(LETTERS)\n",
    "            transformation = transformation + LETTERS[n]\n",
    "\n",
    "        else:\n",
    "            transformation = transformation + s\n",
    "print('Hacking k #%s: %s' % (k, transformation))"
   ]
  },
  {
   "cell_type": "code",
   "execution_count": null,
   "metadata": {},
   "outputs": [],
   "source": []
  }
 ],
 "metadata": {
  "kernelspec": {
   "display_name": "Python 3",
   "language": "python",
   "name": "python3"
  },
  "language_info": {
   "codemirror_mode": {
    "name": "ipython",
    "version": 3
   },
   "file_extension": ".py",
   "mimetype": "text/x-python",
   "name": "python",
   "nbconvert_exporter": "python",
   "pygments_lexer": "ipython3",
   "version": "3.8.5"
  },
  "toc": {
   "base_numbering": 1,
   "nav_menu": {},
   "number_sections": true,
   "sideBar": true,
   "skip_h1_title": false,
   "title_cell": "Table of Contents",
   "title_sidebar": "Contents",
   "toc_cell": false,
   "toc_position": {},
   "toc_section_display": true,
   "toc_window_display": false
  }
 },
 "nbformat": 4,
 "nbformat_minor": 4
}

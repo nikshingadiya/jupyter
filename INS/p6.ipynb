{
 "cells": [
  {
   "cell_type": "code",
   "execution_count": 3,
   "metadata": {
    "ExecuteTime": {
     "end_time": "2021-08-02T12:31:37.822116Z",
     "start_time": "2021-08-02T12:31:37.802592Z"
    }
   },
   "outputs": [],
   "source": [
    "from string import ascii_letters, digits"
   ]
  },
  {
   "cell_type": "code",
   "execution_count": 23,
   "metadata": {
    "ExecuteTime": {
     "end_time": "2021-08-02T12:39:45.404676Z",
     "start_time": "2021-08-02T12:39:45.364786Z"
    }
   },
   "outputs": [
    {
     "name": "stdout",
     "output_type": "stream",
     "text": [
      "Output:\n",
      "Plain text: mountains are bae\n",
      "Cipher text: edqjssxjo sga ast\n"
     ]
    },
    {
     "data": {
      "text/plain": [
       "'hello'"
      ]
     },
     "execution_count": 23,
     "metadata": {},
     "output_type": "execute_result"
    }
   ],
   "source": [
    "vernam_dict = dict((i, chr(i + 96)) for i in range(1, 27))\n",
    "# Vernam by replacing char of plain by char(ord(sum of plain and key))\n",
    "def vernam_encrypt(plain, key):\n",
    "    plain = plain.lower()\n",
    "    ckey = ''.join([(key[i % len(key)]) for i in range(len(list(plain)))])\n",
    "    \n",
    "    cipher = ''\n",
    "    for i in range(len(plain)):\n",
    "        if plain[i] == ' ':\n",
    "            cipher += ' '\n",
    "        else:\n",
    "            cipher += vernam_dict[(ord(plain[i]) + ord(ckey[i])) % 26]\n",
    "  \n",
    "    print(\"Plain text: \"+plain)\n",
    "    print(\"Cipher text: \"+cipher)\n",
    "    \n",
    "\n",
    "vernam_encrypt('mountains are bae', 'hello')\n",
    "\n",
    "\n",
    "def vernam_decrypt(ctext, key):\n",
    "    cupper = ctext.upper()\n",
    "    text_num = [ascii_letters.index(u) for u in cupper]\n",
    "    intm_key = [ascii_letters.index(ik) for ik in key]\n",
    "    c = ''\n",
    "    for i in range(len(cupper)):\n",
    "        ee = text_num[i] - intm_key[i]\n",
    "        if ee < 0:\n",
    "            c += ascii_letters[ee + 26]\n",
    "        else:\n",
    "            c += ascii_letters[ee]\n",
    "    return c\n",
    "\n",
    "vernam_decrypt('BSJDE', 'UOYSQ')"
   ]
  },
  {
   "cell_type": "code",
   "execution_count": null,
   "metadata": {},
   "outputs": [],
   "source": []
  }
 ],
 "metadata": {
  "kernelspec": {
   "display_name": "Python 3",
   "language": "python",
   "name": "python3"
  },
  "language_info": {
   "codemirror_mode": {
    "name": "ipython",
    "version": 3
   },
   "file_extension": ".py",
   "mimetype": "text/x-python",
   "name": "python",
   "nbconvert_exporter": "python",
   "pygments_lexer": "ipython3",
   "version": "3.8.5"
  },
  "toc": {
   "base_numbering": 1,
   "nav_menu": {},
   "number_sections": true,
   "sideBar": true,
   "skip_h1_title": false,
   "title_cell": "Table of Contents",
   "title_sidebar": "Contents",
   "toc_cell": false,
   "toc_position": {},
   "toc_section_display": true,
   "toc_window_display": false
  }
 },
 "nbformat": 4,
 "nbformat_minor": 4
}

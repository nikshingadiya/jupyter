{
 "cells": [
  {
   "cell_type": "code",
   "execution_count": 3,
   "metadata": {
    "ExecuteTime": {
     "end_time": "2021-08-02T12:20:12.911807Z",
     "start_time": "2021-08-02T12:20:12.877039Z"
    }
   },
   "outputs": [
    {
     "name": "stdout",
     "output_type": "stream",
     "text": [
      "Output:\n",
      "Ciphertext:  XFJ\n"
     ]
    }
   ],
   "source": [
    "\n",
    "\n",
    "keyMatrix = [[0] * 3 for i in range(3)]\n",
    "messageVector = [[0] for i in range(3)]\n",
    "cipherMatrix = [[0] for i in range(3)]\n",
    "\n",
    "def getKeyMatrix(key):\n",
    "    k = 0\n",
    "    for i in range(3):\n",
    "        for j in range(3):\n",
    "            keyMatrix[i][j] = ord(key[k]) % 65\n",
    "            k += 1\n",
    "\n",
    "\n",
    "\n",
    "def encrypt(messageVector):\n",
    "    for i in range(3):\n",
    "        for j in range(1):\n",
    "            cipherMatrix[i][j] = 0\n",
    "            for x in range(3):\n",
    "                cipherMatrix[i][j] += (keyMatrix[i][x] *\n",
    "                                       messageVector[x][j])\n",
    "            cipherMatrix[i][j] = cipherMatrix[i][j] % 26\n",
    "\n",
    "\n",
    "def HillCipher(message, key):\n",
    "\n",
    "   \n",
    "    getKeyMatrix(key)\n",
    "\n",
    "    \n",
    "    for i in range(3):\n",
    "        messageVector[i][0] = ord(message[i]) % 65\n",
    "\n",
    "   \n",
    "    encrypt(messageVector)\n",
    "\n",
    "   \n",
    "    CipherText = []\n",
    "    for i in range(3):\n",
    "        CipherText.append(chr(cipherMatrix[i][0] + 65))\n",
    "\n",
    "    print(\"Output:\")\n",
    "    print(\"Ciphertext: \", \"\".join(CipherText))\n",
    "\n",
    "# Driver Code\n",
    "\n",
    "\n",
    "def main():\n",
    "\n",
    "    message = \"hello world\"\n",
    "\n",
    "\n",
    "    key = \"GYBNQKURP\"\n",
    "\n",
    "    HillCipher(message, key)\n",
    "\n",
    "\n",
    "if __name__ == \"__main__\":\n",
    "    main()\n",
    "\n"
   ]
  },
  {
   "cell_type": "code",
   "execution_count": null,
   "metadata": {},
   "outputs": [],
   "source": []
  }
 ],
 "metadata": {
  "kernelspec": {
   "display_name": "Python 3",
   "language": "python",
   "name": "python3"
  },
  "language_info": {
   "codemirror_mode": {
    "name": "ipython",
    "version": 3
   },
   "file_extension": ".py",
   "mimetype": "text/x-python",
   "name": "python",
   "nbconvert_exporter": "python",
   "pygments_lexer": "ipython3",
   "version": "3.8.5"
  },
  "toc": {
   "base_numbering": 1,
   "nav_menu": {},
   "number_sections": true,
   "sideBar": true,
   "skip_h1_title": false,
   "title_cell": "Table of Contents",
   "title_sidebar": "Contents",
   "toc_cell": false,
   "toc_position": {},
   "toc_section_display": true,
   "toc_window_display": false
  }
 },
 "nbformat": 4,
 "nbformat_minor": 4
}

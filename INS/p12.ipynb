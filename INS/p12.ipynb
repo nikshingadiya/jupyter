{
 "cells": [
  {
   "cell_type": "code",
   "execution_count": 3,
   "metadata": {
    "ExecuteTime": {
     "end_time": "2021-10-11T15:40:55.651401Z",
     "start_time": "2021-10-11T15:40:55.636412Z"
    }
   },
   "outputs": [
    {
     "name": "stdout",
     "output_type": "stream",
     "text": [
      "The Value of P is :23\n",
      "The Value of G is :9\n",
      "The Private Key a for Nick is :4\n",
      "The Private Key b for Steven is :3\n",
      "Secret key for the Nick is : 9\n",
      "Secret Key for the Steven is : 9\n"
     ]
    }
   ],
   "source": [
    "from random import randint\n",
    "\n",
    "if __name__ == '__main__':\n",
    "\n",
    "    # Both the persons will be agreed upon the\n",
    "    # public keys G and P\n",
    "    # A prime number P is taken\n",
    "    P = 23\n",
    "\n",
    "    # A primitve root for P, G is taken\n",
    "    G = 9\n",
    "\n",
    "    print('The Value of P is :%d' % (P))\n",
    "    print('The Value of G is :%d' % (G))\n",
    "\n",
    "    # Alice will choose the private key a\n",
    "    a = 4\n",
    "    print('The Private Key a for Nick is :%d' % (a))\n",
    "\n",
    "    # gets the generated key\n",
    "    x = int(pow(G, a, P))\n",
    "\n",
    "    # Bob will choose the private key b\n",
    "    b = 3\n",
    "    print('The Private Key b for Steven is :%d' % (b))\n",
    "\n",
    "    # gets the generated key\n",
    "    y = int(pow(G, b, P))\n",
    "\n",
    "    # Secret key for Alice\n",
    "    ka = int(pow(y, a, P))\n",
    "\n",
    "    # Secret key for Bob\n",
    "    kb = int(pow(x, b, P))\n",
    "\n",
    "    print('Secret key for the Nick is : %d' % (ka))\n",
    "    print('Secret Key for the Steven is : %d' % (kb))"
   ]
  },
  {
   "cell_type": "code",
   "execution_count": null,
   "metadata": {},
   "outputs": [],
   "source": []
  }
 ],
 "metadata": {
  "kernelspec": {
   "display_name": "Python 3",
   "language": "python",
   "name": "python3"
  },
  "language_info": {
   "codemirror_mode": {
    "name": "ipython",
    "version": 3
   },
   "file_extension": ".py",
   "mimetype": "text/x-python",
   "name": "python",
   "nbconvert_exporter": "python",
   "pygments_lexer": "ipython3",
   "version": "3.8.5"
  },
  "toc": {
   "base_numbering": 1,
   "nav_menu": {},
   "number_sections": true,
   "sideBar": true,
   "skip_h1_title": false,
   "title_cell": "Table of Contents",
   "title_sidebar": "Contents",
   "toc_cell": false,
   "toc_position": {},
   "toc_section_display": true,
   "toc_window_display": false
  }
 },
 "nbformat": 4,
 "nbformat_minor": 4
}

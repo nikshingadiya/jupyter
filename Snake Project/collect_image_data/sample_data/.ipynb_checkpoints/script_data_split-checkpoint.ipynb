{
 "cells": [
  {
   "cell_type": "code",
   "execution_count": 1,
   "metadata": {
    "ExecuteTime": {
     "end_time": "2021-08-25T13:11:17.979102Z",
     "start_time": "2021-08-25T13:11:03.158391Z"
    }
   },
   "outputs": [],
   "source": [
    "import pandas as pd "
   ]
  },
  {
   "cell_type": "code",
   "execution_count": 2,
   "metadata": {
    "ExecuteTime": {
     "end_time": "2021-08-25T13:11:20.314616Z",
     "start_time": "2021-08-25T13:11:19.885661Z"
    }
   },
   "outputs": [],
   "source": [
    "df_0=pd.read_csv(\"df_sample_0.csv\")"
   ]
  },
  {
   "cell_type": "code",
   "execution_count": 3,
   "metadata": {
    "ExecuteTime": {
     "end_time": "2021-08-25T13:11:21.528666Z",
     "start_time": "2021-08-25T13:11:21.385051Z"
    }
   },
   "outputs": [
    {
     "data": {
      "text/plain": [
       "284.0    250\n",
       "603.0    250\n",
       "429.0    250\n",
       "741.0    250\n",
       "634.0    250\n",
       "        ... \n",
       "155.0    250\n",
       "664.0    250\n",
       "619.0    250\n",
       "692.0    250\n",
       "18.0     250\n",
       "Name: class_id, Length: 165, dtype: int64"
      ]
     },
     "execution_count": 3,
     "metadata": {},
     "output_type": "execute_result"
    }
   ],
   "source": [
    "df_0[\"class_id\"].value_counts()"
   ]
  },
  {
   "cell_type": "code",
   "execution_count": 4,
   "metadata": {
    "ExecuteTime": {
     "end_time": "2021-08-25T13:11:25.093057Z",
     "start_time": "2021-08-25T13:11:24.861974Z"
    },
    "scrolled": true
   },
   "outputs": [
    {
     "name": "stdout",
     "output_type": "stream",
     "text": [
      "<class 'pandas.core.frame.DataFrame'>\n",
      "RangeIndex: 41250 entries, 0 to 41249\n",
      "Data columns (total 12 columns):\n",
      " #   Column            Non-Null Count  Dtype  \n",
      "---  ------            --------------  -----  \n",
      " 0   binomial          41250 non-null  object \n",
      " 1   country           41250 non-null  object \n",
      " 2   continent         41250 non-null  object \n",
      " 3   genus             41250 non-null  object \n",
      " 4   family            41250 non-null  object \n",
      " 5   UUID              41250 non-null  object \n",
      " 6   source            41250 non-null  object \n",
      " 7   subset            41250 non-null  object \n",
      " 8   class_id          41250 non-null  float64\n",
      " 9   image_path        41250 non-null  object \n",
      " 10  snake_sub_family  41250 non-null  object \n",
      " 11  class             41250 non-null  int64  \n",
      "dtypes: float64(1), int64(1), object(10)\n",
      "memory usage: 3.8+ MB\n"
     ]
    }
   ],
   "source": [
    "df_0.info()"
   ]
  },
  {
   "cell_type": "code",
   "execution_count": 5,
   "metadata": {
    "ExecuteTime": {
     "end_time": "2021-08-25T13:11:28.857910Z",
     "start_time": "2021-08-25T13:11:28.822929Z"
    }
   },
   "outputs": [],
   "source": [
    "df_0['uuid_image']=df_0['UUID'].apply(lambda x:x+\".jpg\")"
   ]
  },
  {
   "cell_type": "code",
   "execution_count": 6,
   "metadata": {
    "ExecuteTime": {
     "end_time": "2021-08-25T13:11:29.869077Z",
     "start_time": "2021-08-25T13:11:29.683328Z"
    }
   },
   "outputs": [
    {
     "data": {
      "text/html": [
       "<div>\n",
       "<style scoped>\n",
       "    .dataframe tbody tr th:only-of-type {\n",
       "        vertical-align: middle;\n",
       "    }\n",
       "\n",
       "    .dataframe tbody tr th {\n",
       "        vertical-align: top;\n",
       "    }\n",
       "\n",
       "    .dataframe thead th {\n",
       "        text-align: right;\n",
       "    }\n",
       "</style>\n",
       "<table border=\"1\" class=\"dataframe\">\n",
       "  <thead>\n",
       "    <tr style=\"text-align: right;\">\n",
       "      <th></th>\n",
       "      <th>binomial</th>\n",
       "      <th>country</th>\n",
       "      <th>continent</th>\n",
       "      <th>genus</th>\n",
       "      <th>family</th>\n",
       "      <th>UUID</th>\n",
       "      <th>source</th>\n",
       "      <th>subset</th>\n",
       "      <th>class_id</th>\n",
       "      <th>image_path</th>\n",
       "      <th>snake_sub_family</th>\n",
       "      <th>class</th>\n",
       "      <th>uuid_image</th>\n",
       "    </tr>\n",
       "  </thead>\n",
       "  <tbody>\n",
       "    <tr>\n",
       "      <th>0</th>\n",
       "      <td>Agkistrodon contortrix</td>\n",
       "      <td>United States of America</td>\n",
       "      <td>North America</td>\n",
       "      <td>Agkistrodon</td>\n",
       "      <td>Viperidae</td>\n",
       "      <td>20e23008100d4e249fd757c11fe059fe</td>\n",
       "      <td>inaturalist</td>\n",
       "      <td>train</td>\n",
       "      <td>18.0</td>\n",
       "      <td>/Datasets/SnakeCLEF-2021/inaturalist/20e230081...</td>\n",
       "      <td>Agkistrodon contortrix</td>\n",
       "      <td>1</td>\n",
       "      <td>20e23008100d4e249fd757c11fe059fe.jpg</td>\n",
       "    </tr>\n",
       "    <tr>\n",
       "      <th>1</th>\n",
       "      <td>Agkistrodon contortrix</td>\n",
       "      <td>United States of America</td>\n",
       "      <td>North America</td>\n",
       "      <td>Agkistrodon</td>\n",
       "      <td>Viperidae</td>\n",
       "      <td>0c6d14f33f404013ab116ab09880c523</td>\n",
       "      <td>inaturalist</td>\n",
       "      <td>train</td>\n",
       "      <td>18.0</td>\n",
       "      <td>/Datasets/SnakeCLEF-2021/inaturalist/0c6d14f33...</td>\n",
       "      <td>Agkistrodon contortrix</td>\n",
       "      <td>1</td>\n",
       "      <td>0c6d14f33f404013ab116ab09880c523.jpg</td>\n",
       "    </tr>\n",
       "    <tr>\n",
       "      <th>2</th>\n",
       "      <td>Agkistrodon contortrix</td>\n",
       "      <td>United States of America</td>\n",
       "      <td>North America</td>\n",
       "      <td>Agkistrodon</td>\n",
       "      <td>Viperidae</td>\n",
       "      <td>ca23ee722e5e4b6ca4b130291b8428f1</td>\n",
       "      <td>inaturalist</td>\n",
       "      <td>val</td>\n",
       "      <td>18.0</td>\n",
       "      <td>/Datasets/SnakeCLEF-2021/inaturalist/ca23ee722...</td>\n",
       "      <td>Agkistrodon contortrix</td>\n",
       "      <td>1</td>\n",
       "      <td>ca23ee722e5e4b6ca4b130291b8428f1.jpg</td>\n",
       "    </tr>\n",
       "    <tr>\n",
       "      <th>3</th>\n",
       "      <td>Agkistrodon contortrix</td>\n",
       "      <td>United States of America</td>\n",
       "      <td>North America</td>\n",
       "      <td>Agkistrodon</td>\n",
       "      <td>Viperidae</td>\n",
       "      <td>3a31a32de0434653b4a82a30806f7a6d</td>\n",
       "      <td>inaturalist</td>\n",
       "      <td>train</td>\n",
       "      <td>18.0</td>\n",
       "      <td>/Datasets/SnakeCLEF-2021/inaturalist/3a31a32de...</td>\n",
       "      <td>Agkistrodon contortrix</td>\n",
       "      <td>1</td>\n",
       "      <td>3a31a32de0434653b4a82a30806f7a6d.jpg</td>\n",
       "    </tr>\n",
       "    <tr>\n",
       "      <th>4</th>\n",
       "      <td>Agkistrodon contortrix</td>\n",
       "      <td>United States of America</td>\n",
       "      <td>North America</td>\n",
       "      <td>Agkistrodon</td>\n",
       "      <td>Viperidae</td>\n",
       "      <td>23dfe346fcbf40e7a465b0febf3620be</td>\n",
       "      <td>inaturalist</td>\n",
       "      <td>val</td>\n",
       "      <td>18.0</td>\n",
       "      <td>/Datasets/SnakeCLEF-2021/inaturalist/23dfe346f...</td>\n",
       "      <td>Agkistrodon contortrix</td>\n",
       "      <td>1</td>\n",
       "      <td>23dfe346fcbf40e7a465b0febf3620be.jpg</td>\n",
       "    </tr>\n",
       "  </tbody>\n",
       "</table>\n",
       "</div>"
      ],
      "text/plain": [
       "                 binomial                   country      continent  \\\n",
       "0  Agkistrodon contortrix  United States of America  North America   \n",
       "1  Agkistrodon contortrix  United States of America  North America   \n",
       "2  Agkistrodon contortrix  United States of America  North America   \n",
       "3  Agkistrodon contortrix  United States of America  North America   \n",
       "4  Agkistrodon contortrix  United States of America  North America   \n",
       "\n",
       "         genus     family                              UUID       source  \\\n",
       "0  Agkistrodon  Viperidae  20e23008100d4e249fd757c11fe059fe  inaturalist   \n",
       "1  Agkistrodon  Viperidae  0c6d14f33f404013ab116ab09880c523  inaturalist   \n",
       "2  Agkistrodon  Viperidae  ca23ee722e5e4b6ca4b130291b8428f1  inaturalist   \n",
       "3  Agkistrodon  Viperidae  3a31a32de0434653b4a82a30806f7a6d  inaturalist   \n",
       "4  Agkistrodon  Viperidae  23dfe346fcbf40e7a465b0febf3620be  inaturalist   \n",
       "\n",
       "  subset  class_id                                         image_path  \\\n",
       "0  train      18.0  /Datasets/SnakeCLEF-2021/inaturalist/20e230081...   \n",
       "1  train      18.0  /Datasets/SnakeCLEF-2021/inaturalist/0c6d14f33...   \n",
       "2    val      18.0  /Datasets/SnakeCLEF-2021/inaturalist/ca23ee722...   \n",
       "3  train      18.0  /Datasets/SnakeCLEF-2021/inaturalist/3a31a32de...   \n",
       "4    val      18.0  /Datasets/SnakeCLEF-2021/inaturalist/23dfe346f...   \n",
       "\n",
       "         snake_sub_family  class                            uuid_image  \n",
       "0  Agkistrodon contortrix      1  20e23008100d4e249fd757c11fe059fe.jpg  \n",
       "1  Agkistrodon contortrix      1  0c6d14f33f404013ab116ab09880c523.jpg  \n",
       "2  Agkistrodon contortrix      1  ca23ee722e5e4b6ca4b130291b8428f1.jpg  \n",
       "3  Agkistrodon contortrix      1  3a31a32de0434653b4a82a30806f7a6d.jpg  \n",
       "4  Agkistrodon contortrix      1  23dfe346fcbf40e7a465b0febf3620be.jpg  "
      ]
     },
     "execution_count": 6,
     "metadata": {},
     "output_type": "execute_result"
    }
   ],
   "source": [
    "df_0.head()"
   ]
  },
  {
   "cell_type": "code",
   "execution_count": 7,
   "metadata": {
    "ExecuteTime": {
     "end_time": "2021-08-25T13:11:33.775009Z",
     "start_time": "2021-08-25T13:11:33.761018Z"
    }
   },
   "outputs": [],
   "source": [
    "df_0=df_0.rename(columns={\"class\":\"poisonous\"})"
   ]
  },
  {
   "cell_type": "code",
   "execution_count": null,
   "metadata": {
    "ExecuteTime": {
     "start_time": "2021-08-25T13:11:58.458Z"
    }
   },
   "outputs": [],
   "source": [
    "df_0['poisonous'].value_counts()"
   ]
  },
  {
   "cell_type": "code",
   "execution_count": 9,
   "metadata": {},
   "outputs": [],
   "source": [
    "import os"
   ]
  },
  {
   "cell_type": "code",
   "execution_count": 48,
   "metadata": {},
   "outputs": [],
   "source": [
    "uuid_image=set(df_0['uuid_image']"
   ]
  },
  {
   "cell_type": "code",
   "execution_count": 27,
   "metadata": {},
   "outputs": [],
   "source": [
    "os.mkdir(\"./Venom_0\")\n",
    "os.mkdir(\"./Non-venom_0\")"
   ]
  },
  {
   "cell_type": "code",
   "execution_count": 29,
   "metadata": {},
   "outputs": [],
   "source": [
    "import shutil"
   ]
  },
  {
   "cell_type": "code",
   "execution_count": 52,
   "metadata": {},
   "outputs": [],
   "source": [
    "uuid_label=df_0['poisonous'].to_list()"
   ]
  },
  {
   "cell_type": "code",
   "execution_count": 58,
   "metadata": {},
   "outputs": [],
   "source": [
    "x=0\n",
    "for i,j in zip(uuid_image,uuid_label):\n",
    "    if j==1:\n",
    "        shutil.copy(\"../archive/data/\"+i,\"./Venom_0/\"+i)\n",
    "    else:\n",
    "        shutil.copy(\"../archive/data/\"+i,\"./Non-venom_0/\"+i)\n",
    "        \n",
    "  \n",
    "    "
   ]
  },
  {
   "cell_type": "code",
   "execution_count": 24,
   "metadata": {},
   "outputs": [
    {
     "data": {
      "text/plain": [
       "'00002a5101924503bc059cded7dde5fb.jpg'"
      ]
     },
     "execution_count": 24,
     "metadata": {},
     "output_type": "execute_result"
    }
   ],
   "source": [
    "# ## trash code \n",
    "# filenames[0]\n",
    "\n",
    "# set_filenames=set(filenames)\n",
    "\n",
    "\n",
    "\n",
    "# common_image=list(uuid_image.intersection(set_filenames))\n",
    "\n",
    "# label=df_0['poisonous'].to_list()       \n",
    "\n",
    "# df_0['poisonous'].to_list()"
   ]
  },
  {
   "cell_type": "code",
   "execution_count": 13,
   "metadata": {},
   "outputs": [],
   "source": [
    "filenames=os.listdir(\"../archive/data\")\n"
   ]
  },
  {
   "cell_type": "code",
   "execution_count": 60,
   "metadata": {},
   "outputs": [],
   "source": [
    "df_0.to_csv(\"sample_0_venom_nonvenom.csv\",index=False)"
   ]
  },
  {
   "cell_type": "code",
   "execution_count": null,
   "metadata": {},
   "outputs": [],
   "source": []
  }
 ],
 "metadata": {
  "kernelspec": {
   "display_name": "Python 3",
   "language": "python",
   "name": "python3"
  },
  "language_info": {
   "codemirror_mode": {
    "name": "ipython",
    "version": 3
   },
   "file_extension": ".py",
   "mimetype": "text/x-python",
   "name": "python",
   "nbconvert_exporter": "python",
   "pygments_lexer": "ipython3",
   "version": "3.8.5"
  },
  "toc": {
   "base_numbering": 1,
   "nav_menu": {},
   "number_sections": true,
   "sideBar": true,
   "skip_h1_title": false,
   "title_cell": "Table of Contents",
   "title_sidebar": "Contents",
   "toc_cell": false,
   "toc_position": {},
   "toc_section_display": true,
   "toc_window_display": false
  }
 },
 "nbformat": 4,
 "nbformat_minor": 4
}

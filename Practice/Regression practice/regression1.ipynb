{
 "cells": [
  {
   "cell_type": "code",
   "execution_count": 1,
   "metadata": {
    "ExecuteTime": {
     "end_time": "2020-11-17T12:45:58.330220Z",
     "start_time": "2020-11-17T12:45:57.435690Z"
    }
   },
   "outputs": [],
   "source": [
    "import pandas as pd\n",
    "shop=pd.read_csv('../../data/regression1.csv')\n"
   ]
  },
  {
   "cell_type": "code",
   "execution_count": 2,
   "metadata": {
    "ExecuteTime": {
     "end_time": "2020-11-17T12:45:59.126142Z",
     "start_time": "2020-11-17T12:45:59.096156Z"
    }
   },
   "outputs": [
    {
     "data": {
      "text/html": [
       "<div>\n",
       "<style scoped>\n",
       "    .dataframe tbody tr th:only-of-type {\n",
       "        vertical-align: middle;\n",
       "    }\n",
       "\n",
       "    .dataframe tbody tr th {\n",
       "        vertical-align: top;\n",
       "    }\n",
       "\n",
       "    .dataframe thead th {\n",
       "        text-align: right;\n",
       "    }\n",
       "</style>\n",
       "<table border=\"1\" class=\"dataframe\">\n",
       "  <thead>\n",
       "    <tr style=\"text-align: right;\">\n",
       "      <th></th>\n",
       "      <th>Day</th>\n",
       "      <th>profit</th>\n",
       "    </tr>\n",
       "  </thead>\n",
       "  <tbody>\n",
       "    <tr>\n",
       "      <th>0</th>\n",
       "      <td>1</td>\n",
       "      <td>13</td>\n",
       "    </tr>\n",
       "    <tr>\n",
       "      <th>1</th>\n",
       "      <td>2</td>\n",
       "      <td>17</td>\n",
       "    </tr>\n",
       "    <tr>\n",
       "      <th>2</th>\n",
       "      <td>3</td>\n",
       "      <td>73</td>\n",
       "    </tr>\n",
       "    <tr>\n",
       "      <th>3</th>\n",
       "      <td>4</td>\n",
       "      <td>96</td>\n",
       "    </tr>\n",
       "    <tr>\n",
       "      <th>4</th>\n",
       "      <td>5</td>\n",
       "      <td>124</td>\n",
       "    </tr>\n",
       "    <tr>\n",
       "      <th>5</th>\n",
       "      <td>6</td>\n",
       "      <td>160</td>\n",
       "    </tr>\n",
       "    <tr>\n",
       "      <th>6</th>\n",
       "      <td>7</td>\n",
       "      <td>210</td>\n",
       "    </tr>\n",
       "    <tr>\n",
       "      <th>7</th>\n",
       "      <td>8</td>\n",
       "      <td>228</td>\n",
       "    </tr>\n",
       "    <tr>\n",
       "      <th>8</th>\n",
       "      <td>9</td>\n",
       "      <td>250</td>\n",
       "    </tr>\n",
       "    <tr>\n",
       "      <th>9</th>\n",
       "      <td>10</td>\n",
       "      <td>285</td>\n",
       "    </tr>\n",
       "  </tbody>\n",
       "</table>\n",
       "</div>"
      ],
      "text/plain": [
       "   Day  profit\n",
       "0    1      13\n",
       "1    2      17\n",
       "2    3      73\n",
       "3    4      96\n",
       "4    5     124\n",
       "5    6     160\n",
       "6    7     210\n",
       "7    8     228\n",
       "8    9     250\n",
       "9   10     285"
      ]
     },
     "execution_count": 2,
     "metadata": {},
     "output_type": "execute_result"
    }
   ],
   "source": [
    "shop\n"
   ]
  },
  {
   "cell_type": "code",
   "execution_count": null,
   "metadata": {
    "ExecuteTime": {
     "end_time": "2020-05-08T05:54:14.600862Z",
     "start_time": "2020-05-08T05:54:14.498900Z"
    }
   },
   "outputs": [],
   "source": []
  },
  {
   "cell_type": "code",
   "execution_count": 5,
   "metadata": {
    "ExecuteTime": {
     "end_time": "2020-05-08T05:54:14.709089Z",
     "start_time": "2020-05-08T05:54:14.605853Z"
    }
   },
   "outputs": [],
   "source": [
    "\n",
    "import numpy as np\n",
    "import scipy \n",
    "from scipy import interpolate\n",
    "import matplotlib.pyplot as plt\n",
    "import sklearn.linear_model \n",
    "from sklearn.metrics import r2_score\n",
    "from sklearn.linear_model import LinearRegression\n",
    "lm=LinearRegression()\n",
    "\n"
   ]
  },
  {
   "cell_type": "code",
   "execution_count": null,
   "metadata": {},
   "outputs": [
    {
     "name": "stdout",
     "output_type": "stream",
     "text": [
      "[[31.70909091]]\n",
      "[-28.8]\n",
      "[ 1  2  3  4  5  6  7  8  9 10]\n",
      "[ 13  17  73  96 124 160 210 228 250 285]\n",
      "[[  2.90909091]\n",
      " [ 34.61818182]\n",
      " [ 66.32727273]\n",
      " [ 98.03636364]\n",
      " [129.74545455]\n",
      " [161.45454545]\n",
      " [193.16363636]\n",
      " [224.87272727]\n",
      " [256.58181818]\n",
      " [288.29090909]]\n"
     ]
    },
    {
     "data": {
      "image/png": "[encoded data removed]",
      "text/plain": [
       "<Figure size 432x288 with 1 Axes>"
      ]
     },
     "metadata": {
      "needs_background": "light"
     },
     "output_type": "display_data"
    }
   ],
   "source": [
    "Day = shop[\"Day\"].values.reshape(-1,1)\n",
    "profit= shop['profit'].values.reshape(-1,1)\n",
    "lm.fit(Day,profit)\n",
    "print(lm.coef_)\n",
    "# coefficient_of_dermination = r2_score(profit,)\n",
    "# print(r_squared)\n",
    "print(lm.intercept_)\n",
    "plt.xlabel(\"Day\")\n",
    "plt.ylabel(\"Sales ($)\")\n",
    "y_pre=lm.predict(Day)\n",
    "print(shop['Day'].values)\n",
    "print(shop['profit'].values)\n",
    "print(y_pre)"
   ]
  },
  {
   "cell_type": "code",
   "execution_count": null,
   "metadata": {
    "ExecuteTime": {
     "end_time": "2020-05-08T13:50:36.802611Z",
     "start_time": "2020-05-08T13:50:36.077624Z"
    }
   },
   "outputs": [],
   "source": [
    "\n",
    "# for i in range(10,20):\n",
    "#     l1.append(([i]))\n",
    "# y1_pre=lm.predict(l1)\n",
    "plt.scatter(shop['Day'],shop['profit'],color='blue')\n",
    "plt.plot(shop['Day'], y_pre, color='green', linewidth=2)\n",
    "plt.grid()\n",
    "plt.xticks(shop['Day'])\n",
    "plt.yticks(shop['profit'])\n",
    "plt.show()"
   ]
  },
  {
   "cell_type": "code",
   "execution_count": null,
   "metadata": {},
   "outputs": [],
   "source": [
    "import ipywidgets \n",
    "import numpy as np\n",
    "import scipy \n",
    "from scipy import interpolate\n",
    "import matplotlib.pyplot as plt\n",
    "import sklearn.linear_model \n",
    "from sklearn.linear_model import LinearRegression\n",
    "lm=LinearRegression()"
   ]
  },
  {
   "cell_type": "code",
   "execution_count": null,
   "metadata": {},
   "outputs": [],
   "source": [
    "Day = shop[\"Day\"].values.reshape(-1,1)\n",
    "profit= shop['profit'].values.reshape(-1,1)\n",
    "print(shop['Day'].values)\n",
    "print(shop['profit'].values)\n",
    "lm.fit(Day,profit)\n",
    "print(lm.coef_)\n",
    "print(lm.intercept_)\n"
   ]
  },
  {
   "cell_type": "code",
   "execution_count": null,
   "metadata": {},
   "outputs": [],
   "source": [
    "plt.xlabel(\"Day\")\n",
    "plt.ylabel(\"Sales ($)\")\n",
    "y_pre=lm.predict(Day)\n",
    "l1=[]\n",
    "for i in range(10,20):\n",
    "    l1.append(([i]))\n",
    "y1_pre=lm.predict(l1)\n",
    "plt.scatter(shop['Day'],shop['profit'],color='blue')\n",
    "plt.plot(Day, y_pre, color='green', linewidth=2)\n"
   ]
  },
  {
   "cell_type": "code",
   "execution_count": null,
   "metadata": {
    "ExecuteTime": {
     "end_time": "2020-05-08T11:32:57.271997Z",
     "start_time": "2020-05-08T11:32:56.922991Z"
    },
    "scrolled": true
   },
   "outputs": [],
   "source": [
    "\n",
    "# x_new = np.linspace(1,10,100)\n",
    "# a_BSpline = interpolate.make_interp_spline(shop['Day'], shop['profit'])\n",
    "# y_new = a_BSpline(x_new)\n",
    "# plt.plot(x_new, y_new)\n",
    "plt.grid()\n",
    "plt.xticks(shop['Day'])\n",
    "plt.yticks(shop['profit'])\n",
    "plt.show()\n",
    "# x=0\n",
    "# y=(2.07878*x**2)/2+8.266*x\n",
    "# for i in shop['Day'].values:\n",
    "#     x+=(2.07878*i**2)/2+8.266*i\n",
    "# print(x)\n",
    "# print((shop['profit'].values).sum())"
   ]
  },
  {
   "cell_type": "code",
   "execution_count": null,
   "metadata": {
    "ExecuteTime": {
     "end_time": "2020-05-08T09:22:07.394149Z",
     "start_time": "2020-05-08T09:22:07.368188Z"
    }
   },
   "outputs": [],
   "source": []
  },
  {
   "cell_type": "code",
   "execution_count": null,
   "metadata": {
    "ExecuteTime": {
     "end_time": "2020-05-08T05:54:25.847910Z",
     "start_time": "2020-05-08T05:54:07.006Z"
    }
   },
   "outputs": [],
   "source": []
  },
  {
   "cell_type": "code",
   "execution_count": null,
   "metadata": {
    "ExecuteTime": {
     "end_time": "2020-05-08T07:35:32.906041Z",
     "start_time": "2020-05-08T07:35:32.647022Z"
    }
   },
   "outputs": [],
   "source": []
  },
  {
   "cell_type": "code",
   "execution_count": null,
   "metadata": {},
   "outputs": [],
   "source": []
  }
 ],
 "metadata": {
  "kernelspec": {
   "display_name": "Python 3",
   "language": "python",
   "name": "python3"
  },
  "language_info": {
   "codemirror_mode": {
    "name": "ipython",
    "version": 3
   },
   "file_extension": ".py",
   "mimetype": "text/x-python",
   "name": "python",
   "nbconvert_exporter": "python",
   "pygments_lexer": "ipython3",
   "version": "3.8.5"
  },
  "toc": {
   "base_numbering": 1,
   "nav_menu": {},
   "number_sections": true,
   "sideBar": true,
   "skip_h1_title": false,
   "title_cell": "Table of Contents",
   "title_sidebar": "Contents",
   "toc_cell": false,
   "toc_position": {},
   "toc_section_display": true,
   "toc_window_display": false
  }
 },
 "nbformat": 4,
 "nbformat_minor": 4
}

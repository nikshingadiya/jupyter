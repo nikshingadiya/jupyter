{
 "cells": [
  {
   "cell_type": "code",
   "execution_count": 3,
   "metadata": {
    "ExecuteTime": {
     "end_time": "2020-11-17T11:40:23.845672Z",
     "start_time": "2020-11-17T11:40:23.837695Z"
    }
   },
   "outputs": [],
   "source": [
    "import matplotlib.pylab as plt\n",
    "import statistics as st\n",
    "import sklearn.linear_model \n",
    "from sklearn.linear_model import LinearRegression\n",
    "lm=LinearRegression()\n",
    "import numpy as np"
   ]
  },
  {
   "cell_type": "code",
   "execution_count": 4,
   "metadata": {
    "ExecuteTime": {
     "end_time": "2020-11-17T11:40:25.043264Z",
     "start_time": "2020-11-17T11:40:25.031270Z"
    }
   },
   "outputs": [
    {
     "name": "stdout",
     "output_type": "stream",
     "text": [
      "[[ 2]\n",
      " [ 8]\n",
      " [16]]\n"
     ]
    }
   ],
   "source": [
    "a=np.array([2,8,16])\n",
    "a=a.reshape(-1,1)\n",
    "b=np.array([2,8,2])\n",
    "b=b.reshape(-1,1)\n",
    "print(a)"
   ]
  },
  {
   "cell_type": "code",
   "execution_count": 5,
   "metadata": {
    "ExecuteTime": {
     "end_time": "2020-11-17T11:40:27.277059Z",
     "start_time": "2020-11-17T11:40:26.329399Z"
    }
   },
   "outputs": [
    {
     "name": "stdout",
     "output_type": "stream",
     "text": [
      "[[-0.04054054]]\n",
      "[4.35135135]\n"
     ]
    }
   ],
   "source": [
    "lm.fit(a,b)\n",
    "print(lm.coef_)\n",
    "print(lm.intercept_)\n",
    "\n",
    "y_predict=lm.predict(b)"
   ]
  },
  {
   "cell_type": "code",
   "execution_count": 6,
   "metadata": {
    "ExecuteTime": {
     "end_time": "2020-11-17T11:40:28.056042Z",
     "start_time": "2020-11-17T11:40:27.282059Z"
    }
   },
   "outputs": [
    {
     "data": {
      "image/png": "[encoded data removed]",
      "text/plain": [
       "<Figure size 432x288 with 1 Axes>"
      ]
     },
     "metadata": {
      "needs_background": "light"
     },
     "output_type": "display_data"
    },
    {
     "name": "stdout",
     "output_type": "stream",
     "text": [
      "1.2909944487358056\n",
      "0.48\n"
     ]
    }
   ],
   "source": [
    "plt.scatter(a,b,color='b')\n",
    "plt.plot(a,y_predict,color='r')\n",
    "plt.show()\n",
    "l1=[1,2,3,4]\n",
    "print(st.stdev(l1))\n",
    "print((1-0.04)/2)\n",
    "\n",
    "\n"
   ]
  },
  {
   "cell_type": "code",
   "execution_count": 7,
   "metadata": {
    "ExecuteTime": {
     "end_time": "2020-11-17T11:40:28.070035Z",
     "start_time": "2020-11-17T11:40:28.060037Z"
    }
   },
   "outputs": [
    {
     "name": "stdout",
     "output_type": "stream",
     "text": [
      "<class 'numpy.ndarray'>\n",
      "(2, 1)\n",
      "[[5]\n",
      " [3]]\n"
     ]
    }
   ],
   "source": [
    "import numpy as np\n",
    "\n",
    "a = np.array([[1],\n",
    "              [3]])   # Create a rank 1 array\n",
    "print(type(a)) \n",
    "a[0][0]=5\n",
    "# Prints \"<class 'numpy.ndarray'>\"\n",
    "print(a.shape)            # Prints \"(3,)\"                 # Change an element of the array\n",
    "print(a)      "
   ]
  },
  {
   "cell_type": "code",
   "execution_count": 8,
   "metadata": {
    "ExecuteTime": {
     "end_time": "2020-11-17T11:40:28.282912Z",
     "start_time": "2020-11-17T11:40:28.272920Z"
    }
   },
   "outputs": [
    {
     "name": "stdout",
     "output_type": "stream",
     "text": [
      "(2, 3)\n",
      "[[ 1  2  3]\n",
      " [ 9 23 45]]\n",
      "(4, 3)\n",
      "[[ 1  2  3]\n",
      " [ 9 23 45]\n",
      " [ 5  6  7]\n",
      " [89 56 34]]\n"
     ]
    }
   ],
   "source": [
    "a1 = np.array([[1,2,3],[9,23,45]])\n",
    "print(a1.shape)  \n",
    "print(a1)\n",
    "b1=[[5,6,7],[89,56,34]]\n",
    "a1=np.append(a1,b1,0)\n",
    "print(a1.shape)\n",
    "print(a1)"
   ]
  },
  {
   "cell_type": "code",
   "execution_count": null,
   "metadata": {},
   "outputs": [],
   "source": []
  },
  {
   "cell_type": "code",
   "execution_count": null,
   "metadata": {},
   "outputs": [],
   "source": []
  },
  {
   "cell_type": "code",
   "execution_count": null,
   "metadata": {},
   "outputs": [],
   "source": []
  },
  {
   "cell_type": "code",
   "execution_count": null,
   "metadata": {},
   "outputs": [],
   "source": []
  },
  {
   "cell_type": "code",
   "execution_count": null,
   "metadata": {},
   "outputs": [],
   "source": []
  }
 ],
 "metadata": {
  "kernelspec": {
   "display_name": "Python 3",
   "language": "python",
   "name": "python3"
  },
  "language_info": {
   "codemirror_mode": {
    "name": "ipython",
    "version": 3
   },
   "file_extension": ".py",
   "mimetype": "text/x-python",
   "name": "python",
   "nbconvert_exporter": "python",
   "pygments_lexer": "ipython3",
   "version": "3.8.5"
  },
  "toc": {
   "base_numbering": 1,
   "nav_menu": {},
   "number_sections": true,
   "sideBar": true,
   "skip_h1_title": false,
   "title_cell": "Table of Contents",
   "title_sidebar": "Contents",
   "toc_cell": false,
   "toc_position": {},
   "toc_section_display": true,
   "toc_window_display": false
  }
 },
 "nbformat": 4,
 "nbformat_minor": 4
}

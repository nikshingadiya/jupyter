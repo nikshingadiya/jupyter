{
 "cells": [
  {
   "cell_type": "code",
   "execution_count": null,
   "metadata": {},
   "outputs": [],
   "source": [
    "from flask import Flask, render_template, request, url_for, redirect, Response,jsonify,make_response\n",
    "app2=Flask(__name__)\n",
    "@app2.route(\"/\")\n",
    "def inj():\n",
    "    return \"<h1>bbjichjjnh ujnji Sas sdf jicx on bbhb jin chhhhx vvdvxc</h1>\"\n",
    "\n",
    "app2.config['ENV'] = 'development'\n",
    "app2.config['DEBUG'] = True\n",
    "app2.config['TESTING'] = True\n",
    "app2.run(debug=True,port=7089)\n",
    "\n",
    "\n"
   ]
  }
 ],
 "metadata": {
  "kernelspec": {
   "display_name": "Python 3",
   "language": "python",
   "name": "python3"
  },
  "language_info": {
   "codemirror_mode": {
    "name": "ipython",
    "version": 3
   },
   "file_extension": ".py",
   "mimetype": "text/x-python",
   "name": "python",
   "nbconvert_exporter": "python",
   "pygments_lexer": "ipython3",
   "version": "3.8.5"
  },
  "toc": {
   "base_numbering": 1,
   "nav_menu": {},
   "number_sections": true,
   "sideBar": true,
   "skip_h1_title": false,
   "title_cell": "Table of Contents",
   "title_sidebar": "Contents",
   "toc_cell": false,
   "toc_position": {},
   "toc_section_display": true,
   "toc_window_display": false
  }
 },
 "nbformat": 4,
 "nbformat_minor": 4
}

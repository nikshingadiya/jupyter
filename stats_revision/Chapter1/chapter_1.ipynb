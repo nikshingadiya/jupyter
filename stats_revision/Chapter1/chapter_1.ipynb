{
 "cells": [
  {
   "cell_type": "markdown",
   "metadata": {},
   "source": [
    "<h2>  Import Library </h2>"
   ]
  },
  {
   "cell_type": "code",
   "execution_count": 4,
   "metadata": {
    "ExecuteTime": {
     "end_time": "2021-11-27T04:21:24.242715Z",
     "start_time": "2021-11-27T04:21:24.236720Z"
    }
   },
   "outputs": [],
   "source": [
    "import pandas as pd"
   ]
  },
  {
   "cell_type": "code",
   "execution_count": 6,
   "metadata": {
    "ExecuteTime": {
     "end_time": "2021-11-27T04:21:44.539512Z",
     "start_time": "2021-11-27T04:21:35.018688Z"
    }
   },
   "outputs": [],
   "source": [
    "df_ori=pd.read_excel(\"./data/sales_data/walmart US Retail Data 2012-2015.xlsx\")"
   ]
  },
  {
   "cell_type": "code",
   "execution_count": 7,
   "metadata": {
    "ExecuteTime": {
     "end_time": "2021-11-27T04:22:54.618914Z",
     "start_time": "2021-11-27T04:22:54.610922Z"
    }
   },
   "outputs": [],
   "source": [
    "df=df_ori.copy(deep=True)"
   ]
  },
  {
   "cell_type": "code",
   "execution_count": 8,
   "metadata": {
    "ExecuteTime": {
     "end_time": "2021-11-27T04:23:16.427888Z",
     "start_time": "2021-11-27T04:23:16.148133Z"
    }
   },
   "outputs": [
    {
     "data": {
      "text/html": [
       "<div>\n",
       "<style scoped>\n",
       "    .dataframe tbody tr th:only-of-type {\n",
       "        vertical-align: middle;\n",
       "    }\n",
       "\n",
       "    .dataframe tbody tr th {\n",
       "        vertical-align: top;\n",
       "    }\n",
       "\n",
       "    .dataframe thead th {\n",
       "        text-align: right;\n",
       "    }\n",
       "</style>\n",
       "<table border=\"1\" class=\"dataframe\">\n",
       "  <thead>\n",
       "    <tr style=\"text-align: right;\">\n",
       "      <th></th>\n",
       "      <th>City</th>\n",
       "      <th>Customer Age</th>\n",
       "      <th>Customer Name</th>\n",
       "      <th>Customer Segment</th>\n",
       "      <th>Discount</th>\n",
       "      <th>Number of Records</th>\n",
       "      <th>Order Date</th>\n",
       "      <th>Order ID</th>\n",
       "      <th>Order Priority</th>\n",
       "      <th>Order Quantity</th>\n",
       "      <th>...</th>\n",
       "      <th>Profit</th>\n",
       "      <th>Region</th>\n",
       "      <th>Row ID</th>\n",
       "      <th>Sales</th>\n",
       "      <th>Ship Date</th>\n",
       "      <th>Ship Mode</th>\n",
       "      <th>Shipping Cost</th>\n",
       "      <th>State</th>\n",
       "      <th>Unit Price</th>\n",
       "      <th>Zip Code</th>\n",
       "    </tr>\n",
       "  </thead>\n",
       "  <tbody>\n",
       "    <tr>\n",
       "      <th>0</th>\n",
       "      <td>McKeesport</td>\n",
       "      <td>NaN</td>\n",
       "      <td>Jessica Myrick</td>\n",
       "      <td>Small Business</td>\n",
       "      <td>0.10</td>\n",
       "      <td>1</td>\n",
       "      <td>2012-01-01</td>\n",
       "      <td>28774</td>\n",
       "      <td>High</td>\n",
       "      <td>32</td>\n",
       "      <td>...</td>\n",
       "      <td>-111.80</td>\n",
       "      <td>East</td>\n",
       "      <td>4031</td>\n",
       "      <td>180.36</td>\n",
       "      <td>2012-01-02</td>\n",
       "      <td>Regular Air</td>\n",
       "      <td>4.69</td>\n",
       "      <td>Pennsylvania</td>\n",
       "      <td>5.98</td>\n",
       "      <td>15131</td>\n",
       "    </tr>\n",
       "    <tr>\n",
       "      <th>1</th>\n",
       "      <td>Bowie</td>\n",
       "      <td>NaN</td>\n",
       "      <td>Matt Collister</td>\n",
       "      <td>Home Office</td>\n",
       "      <td>0.08</td>\n",
       "      <td>1</td>\n",
       "      <td>2012-01-01</td>\n",
       "      <td>13729</td>\n",
       "      <td>Not Specified</td>\n",
       "      <td>9</td>\n",
       "      <td>...</td>\n",
       "      <td>-342.91</td>\n",
       "      <td>East</td>\n",
       "      <td>1914</td>\n",
       "      <td>872.48</td>\n",
       "      <td>2012-01-03</td>\n",
       "      <td>Express Air</td>\n",
       "      <td>35.00</td>\n",
       "      <td>Maryland</td>\n",
       "      <td>95.99</td>\n",
       "      <td>20715</td>\n",
       "    </tr>\n",
       "    <tr>\n",
       "      <th>2</th>\n",
       "      <td>Napa</td>\n",
       "      <td>NaN</td>\n",
       "      <td>Alan Schoenberger</td>\n",
       "      <td>Corporate</td>\n",
       "      <td>0.00</td>\n",
       "      <td>1</td>\n",
       "      <td>2012-01-02</td>\n",
       "      <td>37537</td>\n",
       "      <td>Low</td>\n",
       "      <td>4</td>\n",
       "      <td>...</td>\n",
       "      <td>-193.08</td>\n",
       "      <td>West</td>\n",
       "      <td>5272</td>\n",
       "      <td>1239.06</td>\n",
       "      <td>2012-01-02</td>\n",
       "      <td>Delivery Truck</td>\n",
       "      <td>48.80</td>\n",
       "      <td>California</td>\n",
       "      <td>291.73</td>\n",
       "      <td>94559</td>\n",
       "    </tr>\n",
       "    <tr>\n",
       "      <th>3</th>\n",
       "      <td>Montebello</td>\n",
       "      <td>NaN</td>\n",
       "      <td>Elizabeth Moffitt</td>\n",
       "      <td>Consumer</td>\n",
       "      <td>0.08</td>\n",
       "      <td>1</td>\n",
       "      <td>2012-01-02</td>\n",
       "      <td>44069</td>\n",
       "      <td>Critical</td>\n",
       "      <td>43</td>\n",
       "      <td>...</td>\n",
       "      <td>247.79</td>\n",
       "      <td>West</td>\n",
       "      <td>6225</td>\n",
       "      <td>614.80</td>\n",
       "      <td>2012-01-02</td>\n",
       "      <td>Regular Air</td>\n",
       "      <td>1.97</td>\n",
       "      <td>California</td>\n",
       "      <td>15.04</td>\n",
       "      <td>90640</td>\n",
       "    </tr>\n",
       "    <tr>\n",
       "      <th>4</th>\n",
       "      <td>Napa</td>\n",
       "      <td>NaN</td>\n",
       "      <td>Alan Schoenberger</td>\n",
       "      <td>Corporate</td>\n",
       "      <td>0.07</td>\n",
       "      <td>1</td>\n",
       "      <td>2012-01-02</td>\n",
       "      <td>37537</td>\n",
       "      <td>Low</td>\n",
       "      <td>43</td>\n",
       "      <td>...</td>\n",
       "      <td>-1049.85</td>\n",
       "      <td>West</td>\n",
       "      <td>5273</td>\n",
       "      <td>4083.19</td>\n",
       "      <td>2012-01-04</td>\n",
       "      <td>Delivery Truck</td>\n",
       "      <td>45.00</td>\n",
       "      <td>California</td>\n",
       "      <td>100.98</td>\n",
       "      <td>94559</td>\n",
       "    </tr>\n",
       "  </tbody>\n",
       "</table>\n",
       "<p>5 rows × 25 columns</p>\n",
       "</div>"
      ],
      "text/plain": [
       "         City  Customer Age      Customer Name Customer Segment  Discount  \\\n",
       "0  McKeesport           NaN     Jessica Myrick   Small Business      0.10   \n",
       "1       Bowie           NaN     Matt Collister      Home Office      0.08   \n",
       "2        Napa           NaN  Alan Schoenberger        Corporate      0.00   \n",
       "3  Montebello           NaN  Elizabeth Moffitt         Consumer      0.08   \n",
       "4        Napa           NaN  Alan Schoenberger        Corporate      0.07   \n",
       "\n",
       "   Number of Records Order Date  Order ID Order Priority  Order Quantity  ...  \\\n",
       "0                  1 2012-01-01     28774           High              32  ...   \n",
       "1                  1 2012-01-01     13729  Not Specified               9  ...   \n",
       "2                  1 2012-01-02     37537            Low               4  ...   \n",
       "3                  1 2012-01-02     44069       Critical              43  ...   \n",
       "4                  1 2012-01-02     37537            Low              43  ...   \n",
       "\n",
       "    Profit Region Row ID    Sales  Ship Date       Ship Mode Shipping Cost  \\\n",
       "0  -111.80   East   4031   180.36 2012-01-02     Regular Air          4.69   \n",
       "1  -342.91   East   1914   872.48 2012-01-03     Express Air         35.00   \n",
       "2  -193.08   West   5272  1239.06 2012-01-02  Delivery Truck         48.80   \n",
       "3   247.79   West   6225   614.80 2012-01-02     Regular Air          1.97   \n",
       "4 -1049.85   West   5273  4083.19 2012-01-04  Delivery Truck         45.00   \n",
       "\n",
       "          State  Unit Price Zip Code  \n",
       "0  Pennsylvania        5.98    15131  \n",
       "1      Maryland       95.99    20715  \n",
       "2    California      291.73    94559  \n",
       "3    California       15.04    90640  \n",
       "4    California      100.98    94559  \n",
       "\n",
       "[5 rows x 25 columns]"
      ]
     },
     "execution_count": 8,
     "metadata": {},
     "output_type": "execute_result"
    }
   ],
   "source": [
    "df.head()"
   ]
  },
  {
   "cell_type": "code",
   "execution_count": 10,
   "metadata": {
    "ExecuteTime": {
     "end_time": "2021-11-27T04:24:03.135164Z",
     "start_time": "2021-11-27T04:24:02.886778Z"
    }
   },
   "outputs": [
    {
     "name": "stdout",
     "output_type": "stream",
     "text": [
      "<class 'pandas.core.frame.DataFrame'>\n",
      "RangeIndex: 8399 entries, 0 to 8398\n",
      "Data columns (total 25 columns):\n",
      " #   Column                Non-Null Count  Dtype         \n",
      "---  ------                --------------  -----         \n",
      " 0   City                  8399 non-null   object        \n",
      " 1   Customer Age          7496 non-null   float64       \n",
      " 2   Customer Name         8399 non-null   object        \n",
      " 3   Customer Segment      8399 non-null   object        \n",
      " 4   Discount              8399 non-null   float64       \n",
      " 5   Number of Records     8399 non-null   int64         \n",
      " 6   Order Date            8399 non-null   datetime64[ns]\n",
      " 7   Order ID              8399 non-null   int64         \n",
      " 8   Order Priority        8399 non-null   object        \n",
      " 9   Order Quantity        8399 non-null   int64         \n",
      " 10  Product Base Margin   8336 non-null   float64       \n",
      " 11  Product Category      8399 non-null   object        \n",
      " 12  Product Container     8399 non-null   object        \n",
      " 13  Product Name          8399 non-null   object        \n",
      " 14  Product Sub-Category  8399 non-null   object        \n",
      " 15  Profit                8399 non-null   float64       \n",
      " 16  Region                8399 non-null   object        \n",
      " 17  Row ID                8399 non-null   int64         \n",
      " 18  Sales                 8399 non-null   float64       \n",
      " 19  Ship Date             8399 non-null   datetime64[ns]\n",
      " 20  Ship Mode             8399 non-null   object        \n",
      " 21  Shipping Cost         8399 non-null   float64       \n",
      " 22  State                 8399 non-null   object        \n",
      " 23  Unit Price            8399 non-null   float64       \n",
      " 24  Zip Code              8399 non-null   int64         \n",
      "dtypes: datetime64[ns](2), float64(7), int64(5), object(11)\n",
      "memory usage: 1.6+ MB\n"
     ]
    }
   ],
   "source": [
    "df.info()"
   ]
  },
  {
   "cell_type": "code",
   "execution_count": null,
   "metadata": {},
   "outputs": [],
   "source": []
  }
 ],
 "metadata": {
  "kernelspec": {
   "display_name": "Python 3",
   "language": "python",
   "name": "python3"
  },
  "language_info": {
   "codemirror_mode": {
    "name": "ipython",
    "version": 3
   },
   "file_extension": ".py",
   "mimetype": "text/x-python",
   "name": "python",
   "nbconvert_exporter": "python",
   "pygments_lexer": "ipython3",
   "version": "3.8.5"
  },
  "toc": {
   "base_numbering": 1,
   "nav_menu": {},
   "number_sections": true,
   "sideBar": true,
   "skip_h1_title": false,
   "title_cell": "Table of Contents",
   "title_sidebar": "Contents",
   "toc_cell": false,
   "toc_position": {},
   "toc_section_display": true,
   "toc_window_display": false
  }
 },
 "nbformat": 4,
 "nbformat_minor": 4
}

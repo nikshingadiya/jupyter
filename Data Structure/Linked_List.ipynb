{
 "cells": [
  {
   "cell_type": "markdown",
   "metadata": {},
   "source": [
    "## global variable( can't access in method without (global variabal_name) declaration)\n",
    "## Exit function () exception occur and exit \n",
    "## Exception"
   ]
  },
  {
   "cell_type": "code",
   "execution_count": null,
   "metadata": {
    "ExecuteTime": {
     "end_time": "2020-04-27T16:38:15.963370Z",
     "start_time": "2020-04-27T16:38:15.635268Z"
    }
   },
   "outputs": [],
   "source": []
  },
  {
   "cell_type": "code",
   "execution_count": 1,
   "metadata": {
    "ExecuteTime": {
     "end_time": "2020-04-29T08:53:52.600737Z",
     "start_time": "2020-04-29T08:53:52.585116Z"
    }
   },
   "outputs": [],
   "source": [
    "class Node(object):\n",
    "      def __init__(self):\n",
    "            self.key=None\n",
    "            self.next=None\n",
    "            \n",
    "          \n"
   ]
  },
  {
   "cell_type": "code",
   "execution_count": 2,
   "metadata": {
    "ExecuteTime": {
     "end_time": "2020-04-29T08:53:52.710101Z",
     "start_time": "2020-04-29T08:53:52.600737Z"
    },
    "code_folding": [
     0
    ]
   },
   "outputs": [],
   "source": [
    "# head=Node()\n",
    "# head.key=4\n",
    "# print(head.key)\n",
    "head=None\n",
    "tail=None\n",
    "\n",
    "# def BIO():\n",
    "#     global head\n",
    "#     x=int(input(\"please enter the key\"))\n",
    "#     nd=Node()\n",
    "#     nd.key=x\n",
    "#     nd.next=None\n",
    "#     if((head==None)):\n",
    "#         print(\"nik\")\n",
    "    \n",
    "# BIO()"
   ]
  },
  {
   "cell_type": "code",
   "execution_count": 3,
   "metadata": {
    "ExecuteTime": {
     "end_time": "2020-04-29T08:53:52.850730Z",
     "start_time": "2020-04-29T08:53:52.710101Z"
    },
    "code_folding": [
     0
    ]
   },
   "outputs": [],
   "source": [
    "# def CreateNode():\n",
    "#     x=int(input(\"please enter the key\"))\n",
    "#     nd=Node()\n",
    "#     nd.key=x\n",
    "#     nd.next=None\n",
    "#     return nd"
   ]
  },
  {
   "cell_type": "code",
   "execution_count": 4,
   "metadata": {
    "ExecuteTime": {
     "end_time": "2020-04-29T08:53:52.944502Z",
     "start_time": "2020-04-29T08:53:52.850730Z"
    },
    "code_folding": []
   },
   "outputs": [],
   "source": [
    "head=None\n",
    "tail=None\n",
    "def Frontendadd():\n",
    "    global head\n",
    "    global tail\n",
    "    x=int(input(\"please enter the key\"))\n",
    "    nd=Node()\n",
    "    nd.key=x\n",
    "    nd.next=None\n",
    "    if((head ==None )and (tail==None)):\n",
    "         head=nd\n",
    "         tail=nd\n",
    "    else:\n",
    "        nd.next= head\n",
    "        head=nd\n",
    "               "
   ]
  },
  {
   "cell_type": "code",
   "execution_count": 5,
   "metadata": {
    "ExecuteTime": {
     "end_time": "2020-04-29T08:53:53.085112Z",
     "start_time": "2020-04-29T08:53:52.944502Z"
    }
   },
   "outputs": [],
   "source": [
    "def Backendadd():\n",
    "    global head\n",
    "    global tail\n",
    "    x=int(input(\"please enter the key\"))\n",
    "    nd=Node()\n",
    "    nd.key=x\n",
    "    nd.next=None\n",
    "    if ((head==None)):\n",
    "        head=nd\n",
    "        tail=nd\n",
    "    else:\n",
    "        temp=head\n",
    "        while(temp.next!=None):\n",
    "            temp=temp.next\n",
    "        temp.next=nd\n",
    "        tail=nd\n",
    "        \n",
    "        "
   ]
  },
  {
   "cell_type": "code",
   "execution_count": 6,
   "metadata": {
    "ExecuteTime": {
     "end_time": "2020-04-29T08:53:53.225748Z",
     "start_time": "2020-04-29T08:53:53.085112Z"
    },
    "code_folding": []
   },
   "outputs": [],
   "source": [
    "def Display():\n",
    "  \n",
    "    global head\n",
    "    global tail\n",
    "    if(head==None):\n",
    "      print(\"Linked list is empty\")\n",
    "    else:\n",
    "        temp=head\n",
    "       \n",
    "        while(temp!=None):\n",
    "            print(temp.key)\n",
    "            temp=temp.next"
   ]
  },
  {
   "cell_type": "code",
   "execution_count": 7,
   "metadata": {
    "ExecuteTime": {
     "end_time": "2020-04-29T08:53:53.366310Z",
     "start_time": "2020-04-29T08:53:53.225748Z"
    }
   },
   "outputs": [],
   "source": [
    "def Fronend_Delete():\n",
    "    global head\n",
    "    global tail\n",
    "    if(head==None):\n",
    "        print(\"Linked_List is empty\")\n",
    "    elif((head.next==None)):\n",
    "        print(\"deleted key:\"+str(head.key))\n",
    "        tail=None\n",
    "        head=None\n",
    "    \n",
    "    else:\n",
    "       temp=head.next\n",
    "       print(\"deleted key:\"+str(head.key))\n",
    "       head=None\n",
    "       head=temp\n",
    "        "
   ]
  },
  {
   "cell_type": "code",
   "execution_count": 8,
   "metadata": {
    "ExecuteTime": {
     "end_time": "2020-04-29T08:53:53.491310Z",
     "start_time": "2020-04-29T08:53:53.366310Z"
    }
   },
   "outputs": [],
   "source": [
    "def top_front():\n",
    "   if(head==None):\n",
    "        print(\"Linked_List is empty\")\n",
    "   else:\n",
    "    print(\"Top-Front:\"+str(head.key))\n"
   ]
  },
  {
   "cell_type": "code",
   "execution_count": 9,
   "metadata": {
    "ExecuteTime": {
     "end_time": "2020-04-29T08:53:53.710032Z",
     "start_time": "2020-04-29T08:53:53.491310Z"
    }
   },
   "outputs": [],
   "source": [
    "def top_back():\n",
    "    global head\n",
    "    global tail\n",
    "    if((head==None) and (tail==None)):\n",
    "        print(\"Linked_List is empty\")\n",
    "    else:\n",
    "        print(\"Top_back\"+str(tail.key))\n",
    "        "
   ]
  },
  {
   "cell_type": "code",
   "execution_count": 10,
   "metadata": {
    "ExecuteTime": {
     "end_time": "2020-04-29T08:53:53.835032Z",
     "start_time": "2020-04-29T08:53:53.710032Z"
    }
   },
   "outputs": [],
   "source": [
    "def Backend_Delete():\n",
    "    global head\n",
    "    global tail\n",
    "    if(head==None):\n",
    "        print(\"Linked list is empty\")\n",
    "    elif((head.next==None)):\n",
    "        print(\"deleted key:\"+str(tail.key))\n",
    "        tail=None\n",
    "        head=None\n",
    "    else:\n",
    "        temp=head\n",
    "        while(temp.next.next!=None):\n",
    "            temp=temp.next\n",
    "        print(\"deleted key:\"+str(temp.next.key))\n",
    "        temp.next=None\n",
    "        \n",
    "        \n",
    "        "
   ]
  },
  {
   "cell_type": "code",
   "execution_count": 11,
   "metadata": {
    "ExecuteTime": {
     "end_time": "2020-04-29T08:53:53.960014Z",
     "start_time": "2020-04-29T08:53:53.835032Z"
    }
   },
   "outputs": [],
   "source": [
    "def Invalid_choice():\n",
    "      print(\"invaild choice\")"
   ]
  },
  {
   "cell_type": "code",
   "execution_count": 12,
   "metadata": {
    "ExecuteTime": {
     "end_time": "2020-04-29T08:53:54.100650Z",
     "start_time": "2020-04-29T08:53:53.960014Z"
    }
   },
   "outputs": [],
   "source": [
    "def addBefore(key):\n",
    "    global head\n",
    "    global tail\n",
    "    if((head==None) and (tail==None)):\n",
    "        print(\"Linked_List is empty\")\n",
    "        print(\"so we can not add your key\")\n",
    "    else:\n",
    "        temp=head\n",
    "        while(temp!=None):\n",
    "           if(temp.next.key==key or temp.key==key):\n",
    "              break\n",
    "           temp=temp.next\n",
    "        if(temp==None):\n",
    "              print(\"given key is not in the Linked_List \")\n",
    "        else:\n",
    "            x=int(input(\"please enter the key\"))\n",
    "            nd=Node()\n",
    "            nd.key=x\n",
    "            nd.next=None\n",
    "           \n",
    "            if(temp.key==key):\n",
    "                nd.next=head\n",
    "                head=nd\n",
    "            else:\n",
    "                 nd.next=temp.next\n",
    "                 temp.next=nd"
   ]
  },
  {
   "cell_type": "code",
   "execution_count": 13,
   "metadata": {
    "ExecuteTime": {
     "end_time": "2020-04-29T08:53:54.256926Z",
     "start_time": "2020-04-29T08:53:54.100650Z"
    }
   },
   "outputs": [],
   "source": [
    "def addAfterNode(key):\n",
    "    global head\n",
    "    global tail\n",
    "    if((head==None) and (tail==None)):\n",
    "        print(\"Linked_List is empty\")\n",
    "        print(\"so we can not add your key\")\n",
    "    else:\n",
    "        \n",
    "           temp=head\n",
    "           while(temp!=None):\n",
    "               if(temp.key==key):\n",
    "                  break\n",
    "               temp=temp.next\n",
    "           if(temp==None):\n",
    "              print(\"given key is not in the Linked_List \")\n",
    "           else:\n",
    "            x=int(input(\"please enter the key\"))\n",
    "            nd=Node()\n",
    "            nd.key=x\n",
    "            nd.next=None\n",
    "\n",
    "            nd.next=temp.next\n",
    "            temp.next=nd\n",
    "            if(key==tail.key):\n",
    "                tail=nd\n",
    "\n",
    "    "
   ]
  },
  {
   "cell_type": "code",
   "execution_count": null,
   "metadata": {
    "ExecuteTime": {
     "end_time": "2020-04-29T05:54:23.568316Z",
     "start_time": "2020-04-29T05:54:23.537071Z"
    },
    "scrolled": true
   },
   "outputs": [],
   "source": []
  },
  {
   "cell_type": "code",
   "execution_count": 14,
   "metadata": {
    "ExecuteTime": {
     "end_time": "2020-04-29T08:53:58.787873Z",
     "start_time": "2020-04-29T08:53:54.256926Z"
    },
    "code_folding": []
   },
   "outputs": [
    {
     "name": "stdout",
     "output_type": "stream",
     "text": [
      "1.frontend add node\n",
      "2.Display_List\n",
      "3.dele node fronted \n",
      "5.Backend add node\n",
      "6.Backend Delete node without tail\n",
      "7.Top-Back\n",
      "8.Top-front\n",
      "9.addAfterNode\n",
      "10.addBefore\n",
      "4.exit\n",
      "please enter the option4\n"
     ]
    }
   ],
   "source": [
    "##### import sys \n",
    "global head\n",
    "d={1:Frontendadd,2:  Display,3: Fronend_Delete,5:Backendadd,6:Backend_Delete,7:top_back,8:top_front,9:addAfterNode,10:addBefore}\n",
    "while(3):\n",
    "    print(\"1.frontend add node\")\n",
    "    print(\"2.Display_List\")\n",
    "    print(\"3.dele node fronted \")\n",
    "    print(\"5.Backend add node\")\n",
    "    print(\"6.Backend Delete node without tail\")\n",
    "    print(\"7.Top-Back\")\n",
    "    print(\"8.Top-front\")\n",
    "    print(\"9.addAfterNode\")\n",
    "    print(\"10.addBefore\")\n",
    "    print(\"4.exit\")\n",
    "\n",
    "    y=int(input(\"please enter the option\"))\n",
    "    if(y==4):\n",
    "        tail=None\n",
    "        head=None\n",
    "        break\n",
    "    elif(y==9):\n",
    "        y=int(input(\"please enter  which key after you want to add\"))\n",
    "        addAfterNode(y)\n",
    "    elif(y==10):\n",
    "        y=int(input(\"please enter  which key before you want to add\"))\n",
    "        addBefore(y)\n",
    "        \n",
    "    else:   \n",
    "        d.get(y,Invalid_choice)()\n",
    "  \n",
    "    \n",
    "  \n",
    "    \n",
    "#     if(y ==1):\n",
    "#         Frontendadd()\n",
    "#     elif(y==2):\n",
    "#         Display()\n",
    "#     elif(y==3):\n",
    "#         Fronend_Delete()\n",
    "#     else:\n",
    "#       sys.exit(\"you are now exit\")  \n",
    "    \n",
    "        "
   ]
  },
  {
   "cell_type": "code",
   "execution_count": 15,
   "metadata": {
    "ExecuteTime": {
     "end_time": "2020-04-29T08:53:58.803505Z",
     "start_time": "2020-04-29T08:53:58.787873Z"
    },
    "code_folding": [
     0
    ],
    "scrolled": true
   },
   "outputs": [],
   "source": [
    "# dicj={1:\"nikhil\",2:\"nfdj\"}\n",
    "# key=int(input(\"enter key\"))\n",
    "# print(dicj.get(key,\"nfid\"))"
   ]
  },
  {
   "cell_type": "code",
   "execution_count": null,
   "metadata": {
    "ExecuteTime": {
     "start_time": "2020-04-27T14:01:57.736Z"
    }
   },
   "outputs": [],
   "source": [
    "    \n",
    " \n",
    "    "
   ]
  },
  {
   "cell_type": "code",
   "execution_count": null,
   "metadata": {},
   "outputs": [],
   "source": []
  }
 ],
 "metadata": {
  "kernelspec": {
   "display_name": "Python 3",
   "language": "python",
   "name": "python3"
  },
  "language_info": {
   "codemirror_mode": {
    "name": "ipython",
    "version": 3
   },
   "file_extension": ".py",
   "mimetype": "text/x-python",
   "name": "python",
   "nbconvert_exporter": "python",
   "pygments_lexer": "ipython3",
   "version": "3.8.5"
  },
  "toc": {
   "base_numbering": 1,
   "nav_menu": {},
   "number_sections": true,
   "sideBar": true,
   "skip_h1_title": false,
   "title_cell": "Table of Contents",
   "title_sidebar": "Contents",
   "toc_cell": false,
   "toc_position": {},
   "toc_section_display": true,
   "toc_window_display": false
  }
 },
 "nbformat": 4,
 "nbformat_minor": 2
}

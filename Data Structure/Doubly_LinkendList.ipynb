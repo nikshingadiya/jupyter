{
 "cells": [
  {
   "cell_type": "code",
   "execution_count": null,
   "metadata": {},
   "outputs": [],
   "source": []
  },
  {
   "cell_type": "code",
   "execution_count": 1,
   "metadata": {
    "ExecuteTime": {
     "end_time": "2021-06-08T08:03:37.961417Z",
     "start_time": "2021-06-08T08:03:37.931435Z"
    }
   },
   "outputs": [],
   "source": [
    "class Node(object):\n",
    "    def __init__(self):\n",
    "        self.pre=None\n",
    "        self.key=None\n",
    "        self.next=None\n"
   ]
  },
  {
   "cell_type": "code",
   "execution_count": 2,
   "metadata": {
    "ExecuteTime": {
     "end_time": "2021-06-08T08:03:38.610460Z",
     "start_time": "2021-06-08T08:03:38.604459Z"
    }
   },
   "outputs": [],
   "source": [
    "def CreateNode():\n",
    "    nd=Node()\n",
    "    x=int(input(\"please enter the key\"))\n",
    "    nd.key=x\n",
    "    return nd\n"
   ]
  },
  {
   "cell_type": "code",
   "execution_count": 3,
   "metadata": {
    "ExecuteTime": {
     "end_time": "2021-06-08T08:03:39.481798Z",
     "start_time": "2021-06-08T08:03:39.457812Z"
    }
   },
   "outputs": [],
   "source": [
    "class Doubly_LinkendList(object):\n",
    "    def __init__(self):\n",
    "          self.head=None\n",
    "          self.tail=None\n",
    "        \n",
    "    def PushFront(self):\n",
    "        nd=CreateNode()\n",
    "        if(self.head==None):\n",
    "            self.head=nd\n",
    "            self.tail=nd\n",
    "        else:\n",
    "            nd.next=self.head \n",
    "            self.head.pre=nd\n",
    "            self.head=nd\n",
    "    def Pop_Back(self):\n",
    "        if((self.head==None)and (self.tail==None) ):\n",
    "            print(\"List is empty \")\n",
    "        else:\n",
    "            if(self.head.next==None):\n",
    "                print(\"deleted key :\"+str(self.tail.key))\n",
    "                self.head=None\n",
    "                self.tail=None\n",
    "            else:\n",
    "                print(\"Deleted key :\"+str(self.tail.key))\n",
    "                temp=self.tail.pre\n",
    "                self.tail.pre.next=None\n",
    "                self.tail=temp\n",
    "            \n",
    "    def Top_Back(self):\n",
    "        if(self.head==None):\n",
    "            print(\"List is empty\")\n",
    "        else:\n",
    "            print(\"Top-Back: \"+str(self.tail.key))\n",
    "    def Top_Front(self):\n",
    "        if(self.head==None):\n",
    "             print(\"List is empty\")\n",
    "        else:\n",
    "            print(\"Top-Front\"+str(self.head.key))       \n",
    "                     \n",
    "    def Display(self):\n",
    "        if(self.head==None):\n",
    "            print(\"List is empty\")\n",
    "        else:\n",
    "            temp=self.head\n",
    "            while(temp!=None):\n",
    "                \n",
    "                print(temp.key)\n",
    "                temp=temp.next\n",
    "    def invalid_choice(self):\n",
    "        print(\"invaild choice \")\n",
    "    def Menu(self):\n",
    "       \n",
    "        option={1:self.PushFront,2:self.Display,4:self.Top_Back,5:self.Top_Front,6:self.Pop_Back}\n",
    "        while(3):\n",
    "            print(\"1.PushFront\")\n",
    "            print(\"2.Display\")\n",
    "            print(\"4.Top_Back\")\n",
    "            print(\"5.Top_Front\")\n",
    "            print(\"6.Pop_Back\")\n",
    "            print(\"3.exit\")\n",
    "            y=int(input(\"please enter the option\"))\n",
    "            if(y==3):\n",
    "                self.head=None\n",
    "                self.tail=None\n",
    "                break\n",
    "            else:\n",
    "                option.get(y,self.invalid_choice)()\n",
    "            \n",
    "            \n",
    "        \n",
    "        \n",
    "            \n",
    "    \n",
    "        \n",
    "        \n",
    "        \n",
    "\n",
    "            "
   ]
  },
  {
   "cell_type": "code",
   "execution_count": 4,
   "metadata": {
    "ExecuteTime": {
     "end_time": "2021-06-08T08:03:40.358036Z",
     "start_time": "2021-06-08T08:03:40.352040Z"
    }
   },
   "outputs": [],
   "source": [
    "f=Doubly_LinkendList()\n"
   ]
  },
  {
   "cell_type": "code",
   "execution_count": null,
   "metadata": {
    "ExecuteTime": {
     "start_time": "2021-06-08T08:03:43.153Z"
    },
    "scrolled": true
   },
   "outputs": [
    {
     "name": "stdout",
     "output_type": "stream",
     "text": [
      "1.PushFront\n",
      "2.Display\n",
      "4.Top_Back\n",
      "5.Top_Front\n",
      "6.Pop_Back\n",
      "3.exit\n",
      "please enter the option1\n",
      "please enter the key78\n",
      "1.PushFront\n",
      "2.Display\n",
      "4.Top_Back\n",
      "5.Top_Front\n",
      "6.Pop_Back\n",
      "3.exit\n",
      "please enter the option2\n",
      "78\n",
      "1.PushFront\n",
      "2.Display\n",
      "4.Top_Back\n",
      "5.Top_Front\n",
      "6.Pop_Back\n",
      "3.exit\n",
      "please enter the option6\n",
      "deleted key :78\n",
      "1.PushFront\n",
      "2.Display\n",
      "4.Top_Back\n",
      "5.Top_Front\n",
      "6.Pop_Back\n",
      "3.exit\n",
      "please enter the option2\n",
      "List is empty\n",
      "1.PushFront\n",
      "2.Display\n",
      "4.Top_Back\n",
      "5.Top_Front\n",
      "6.Pop_Back\n",
      "3.exit\n",
      "please enter the option1\n",
      "please enter the key79\n",
      "1.PushFront\n",
      "2.Display\n",
      "4.Top_Back\n",
      "5.Top_Front\n",
      "6.Pop_Back\n",
      "3.exit\n",
      "please enter the option4\n",
      "Top-Back: 79\n",
      "1.PushFront\n",
      "2.Display\n",
      "4.Top_Back\n",
      "5.Top_Front\n",
      "6.Pop_Back\n",
      "3.exit\n",
      "please enter the option5\n",
      "Top-Front79\n",
      "1.PushFront\n",
      "2.Display\n",
      "4.Top_Back\n",
      "5.Top_Front\n",
      "6.Pop_Back\n",
      "3.exit\n",
      "please enter the option1\n",
      "please enter the key89\n",
      "1.PushFront\n",
      "2.Display\n",
      "4.Top_Back\n",
      "5.Top_Front\n",
      "6.Pop_Back\n",
      "3.exit\n",
      "please enter the option2\n",
      "89\n",
      "79\n",
      "1.PushFront\n",
      "2.Display\n",
      "4.Top_Back\n",
      "5.Top_Front\n",
      "6.Pop_Back\n",
      "3.exit\n",
      "please enter the option5\n",
      "Top-Front89\n",
      "1.PushFront\n",
      "2.Display\n",
      "4.Top_Back\n",
      "5.Top_Front\n",
      "6.Pop_Back\n",
      "3.exit\n"
     ]
    }
   ],
   "source": [
    "f.Menu()"
   ]
  },
  {
   "cell_type": "code",
   "execution_count": null,
   "metadata": {
    "ExecuteTime": {
     "start_time": "2020-04-29T18:28:53.827Z"
    }
   },
   "outputs": [],
   "source": [
    "###### class A(object):\n",
    "    y=6\n",
    "    def __init__(self):\n",
    "        self.x=5           \n",
    "    def fig(self):\n",
    "        self.x=self.x+10\n",
    "        \n",
    "        print()"
   ]
  },
  {
   "cell_type": "code",
   "execution_count": null,
   "metadata": {
    "ExecuteTime": {
     "start_time": "2020-04-29T18:28:53.832Z"
    }
   },
   "outputs": [],
   "source": [
    "\n",
    "a=A()\n",
    "a.fig()\n",
    "a.x"
   ]
  },
  {
   "cell_type": "code",
   "execution_count": null,
   "metadata": {},
   "outputs": [],
   "source": []
  }
 ],
 "metadata": {
  "kernelspec": {
   "display_name": "Python 3",
   "language": "python",
   "name": "python3"
  },
  "language_info": {
   "codemirror_mode": {
    "name": "ipython",
    "version": 3
   },
   "file_extension": ".py",
   "mimetype": "text/x-python",
   "name": "python",
   "nbconvert_exporter": "python",
   "pygments_lexer": "ipython3",
   "version": "3.8.5"
  },
  "toc": {
   "base_numbering": 1,
   "nav_menu": {},
   "number_sections": true,
   "sideBar": true,
   "skip_h1_title": false,
   "title_cell": "Table of Contents",
   "title_sidebar": "Contents",
   "toc_cell": false,
   "toc_position": {},
   "toc_section_display": true,
   "toc_window_display": false
  }
 },
 "nbformat": 4,
 "nbformat_minor": 2
}

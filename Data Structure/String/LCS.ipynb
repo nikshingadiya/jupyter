{
 "cells": [
  {
   "cell_type": "code",
   "execution_count": 418,
   "metadata": {
    "ExecuteTime": {
     "end_time": "2021-07-07T12:55:41.491119Z",
     "start_time": "2021-07-07T12:55:41.485121Z"
    }
   },
   "outputs": [],
   "source": [
    "x=\"AGGTAB\"\n",
    "y=\"GXTXAYB\"\n",
    "m=len(x)\n",
    "n=len(y)\n",
    "arr = [[0 for i in range(n)]\n",
    "          for i in range(m)]\n"
   ]
  },
  {
   "cell_type": "code",
   "execution_count": 419,
   "metadata": {
    "ExecuteTime": {
     "end_time": "2021-07-07T12:55:42.192833Z",
     "start_time": "2021-07-07T12:55:42.184837Z"
    }
   },
   "outputs": [
    {
     "data": {
      "text/plain": [
       "[[0, 0, 0, 0, 0, 0, 0],\n",
       " [0, 0, 0, 0, 0, 0, 0],\n",
       " [0, 0, 0, 0, 0, 0, 0],\n",
       " [0, 0, 0, 0, 0, 0, 0],\n",
       " [0, 0, 0, 0, 0, 0, 0],\n",
       " [0, 0, 0, 0, 0, 0, 0]]"
      ]
     },
     "execution_count": 419,
     "metadata": {},
     "output_type": "execute_result"
    }
   ],
   "source": [
    "arr"
   ]
  },
  {
   "cell_type": "code",
   "execution_count": 437,
   "metadata": {
    "ExecuteTime": {
     "end_time": "2021-07-07T13:00:02.422776Z",
     "start_time": "2021-07-07T13:00:02.408784Z"
    }
   },
   "outputs": [],
   "source": [
    "def LCS(X, Y, m, n, T):\n",
    " \n",
    "    # return an empty string if the end of either sequence is reached\n",
    "    if m == 0 or n == 0:\n",
    "        return str()\n",
    " \n",
    "    # if the last character of `X` and `Y` matches\n",
    "    if X[m - 1] == Y[n - 1]:\n",
    "        # append current character (`X[m-1]` or `Y[n-1]`) to LCS of\n",
    "        # substring `X[0…m-2]` and `Y[0…n-2]`\n",
    "        return LCS(X, Y, m - 1, n - 1, T) + X[m-1]\n",
    " \n",
    "    # otherwise, if the last character of `X` and `Y` are different\n",
    " \n",
    "    # if a top cell of the current cell has more value than the left\n",
    "    # cell, then drop the current character of string `X` and find LCS\n",
    "    # of substring `X[0…m-2]`, `Y[0…n-1]`\n",
    "    \n",
    "    if T[m - 1][n] > T[m][n - 1]:\n",
    "        return LCS(X, Y, m - 1, n, T)\n",
    "    else:\n",
    "        # if a left cell of the current cell has more value than the top\n",
    "        # cell, then drop the current character of string `Y` and find LCS\n",
    "        # of substring `X[0…m-1]`, `Y[0…n-2]`\n",
    "        return LCS(X, Y, m, n - 1, T)\n",
    " \n",
    " \n",
    "# Function to fill the lookup table by finding the length of LCS\n",
    "# of substring `X[0…m-1]` and `Y[0…n-1]`\n",
    "def LCSLength(X, Y, m, n, T):\n",
    " \n",
    "    # fill the lookup table in a bottom-up manner\n",
    "    for i in range(1, m + 1):\n",
    "        for j in range(1, n + 1):\n",
    "            # if current character of `X` and `Y` matches\n",
    "            if X[i - 1] == Y[j - 1]:\n",
    "                T[i][j] = T[i - 1][j - 1] + 1\n",
    "            # otherwise, if the current character of `X` and `Y` don't match\n",
    "            else:\n",
    "                T[i][j] = max(T[i - 1][j], T[i][j - 1])"
   ]
  },
  {
   "cell_type": "code",
   "execution_count": 438,
   "metadata": {
    "ExecuteTime": {
     "end_time": "2021-07-07T13:00:02.926112Z",
     "start_time": "2021-07-07T13:00:02.914138Z"
    }
   },
   "outputs": [
    {
     "data": {
      "text/plain": [
       "[[0, 0, 0, 0, 0, 0, 0, 0],\n",
       " [0, 0, 0, 0, 0, 1, 1, 1],\n",
       " [0, 1, 1, 1, 1, 1, 1, 1],\n",
       " [0, 1, 1, 1, 1, 1, 1, 1],\n",
       " [0, 1, 1, 2, 2, 2, 2, 2],\n",
       " [0, 1, 1, 2, 2, 3, 3, 3],\n",
       " [0, 1, 1, 2, 2, 3, 3, 4]]"
      ]
     },
     "execution_count": 438,
     "metadata": {},
     "output_type": "execute_result"
    }
   ],
   "source": [
    "T"
   ]
  },
  {
   "cell_type": "code",
   "execution_count": 439,
   "metadata": {
    "ExecuteTime": {
     "end_time": "2021-07-07T13:00:03.400647Z",
     "start_time": "2021-07-07T13:00:03.393647Z"
    }
   },
   "outputs": [],
   "source": [
    "T = [[0 for x in range(n + 1)] for y in range(m + 1)]"
   ]
  },
  {
   "cell_type": "code",
   "execution_count": 440,
   "metadata": {
    "ExecuteTime": {
     "end_time": "2021-07-07T13:00:04.014837Z",
     "start_time": "2021-07-07T13:00:04.009841Z"
    }
   },
   "outputs": [],
   "source": [
    "LCSLength(x,y,m,n,T)"
   ]
  },
  {
   "cell_type": "code",
   "execution_count": 441,
   "metadata": {
    "ExecuteTime": {
     "end_time": "2021-07-07T13:00:04.550188Z",
     "start_time": "2021-07-07T13:00:04.544190Z"
    }
   },
   "outputs": [
    {
     "name": "stdout",
     "output_type": "stream",
     "text": [
      "GTAB\n"
     ]
    }
   ],
   "source": [
    "print(LCS(x, y, m, n, T))"
   ]
  },
  {
   "cell_type": "code",
   "execution_count": 512,
   "metadata": {
    "ExecuteTime": {
     "end_time": "2021-07-07T13:14:23.655521Z",
     "start_time": "2021-07-07T13:14:23.639528Z"
    }
   },
   "outputs": [],
   "source": [
    "def LCS_Memo(s1,s2,m,n,arr):\n",
    "        \n",
    "        if m==0 or n==0:\n",
    "            return 0\n",
    "            \n",
    "        elif arr[m-1][n-1]!=0:\n",
    "            \n",
    "            return arr[m-1][n-1]\n",
    "    \n",
    "        elif s1[m-1]==s2[n-1]:\n",
    "            arr[m-1][n-1]=1 + LCS_Memo(s1, s2, m-1, n-1,arr)\n",
    "            return arr[m-1][n-1]\n",
    "        else:\n",
    "            temp1=LCS_Memo(s1,s2,m-1,n,arr)\n",
    "            temp2=LCS_Memo(s1,s2,m,n-1,arr)\n",
    "            arr[m-1][n-1]=max(temp1,temp2)\n",
    "            return arr[m-1][n-1]\n",
    "        \n",
    "def LCS_2(X,Y,m,n,arr):\n",
    "    if m==0 or n==0:\n",
    "        return str()\n",
    "    \n",
    "    if X[m - 1] == Y[n - 1]:\n",
    "        # append current character (`X[m-1]` or `Y[n-1]`) to LCS of\n",
    "        # substring `X[0…m-2]` and `Y[0…n-2]`\n",
    "        \n",
    "        return LCS_2(X, Y, m - 1, n - 1, arr) + X[m-1]\n",
    "    \n",
    "    if arr[m - 2][n-1] >arr[m-1][n-2]:\n",
    "\n",
    "        return LCS_2(X, Y, m - 1, n, arr)\n",
    "    else:\n",
    "\n",
    "        return LCS_2(X, Y, m, n - 1, arr)\n",
    "                       "
   ]
  },
  {
   "cell_type": "code",
   "execution_count": 513,
   "metadata": {
    "ExecuteTime": {
     "end_time": "2021-07-07T13:14:24.317628Z",
     "start_time": "2021-07-07T13:14:24.301999Z"
    },
    "scrolled": true
   },
   "outputs": [
    {
     "data": {
      "text/plain": [
       "('AGGTAB', 'GXTXAYB')"
      ]
     },
     "execution_count": 513,
     "metadata": {},
     "output_type": "execute_result"
    }
   ],
   "source": [
    "x,y"
   ]
  },
  {
   "cell_type": "code",
   "execution_count": 514,
   "metadata": {
    "ExecuteTime": {
     "end_time": "2021-07-07T13:14:24.914882Z",
     "start_time": "2021-07-07T13:14:24.906886Z"
    }
   },
   "outputs": [
    {
     "data": {
      "text/plain": [
       "4"
      ]
     },
     "execution_count": 514,
     "metadata": {},
     "output_type": "execute_result"
    }
   ],
   "source": [
    "LCS_Memo(x,y,m,n,arr)"
   ]
  },
  {
   "cell_type": "code",
   "execution_count": 515,
   "metadata": {
    "ExecuteTime": {
     "end_time": "2021-07-07T13:14:25.457323Z",
     "start_time": "2021-07-07T13:14:25.449327Z"
    }
   },
   "outputs": [
    {
     "data": {
      "text/plain": [
       "'GTAB'"
      ]
     },
     "execution_count": 515,
     "metadata": {},
     "output_type": "execute_result"
    }
   ],
   "source": [
    "LCS_2(x,y,m,n,arr)"
   ]
  },
  {
   "cell_type": "code",
   "execution_count": 516,
   "metadata": {
    "ExecuteTime": {
     "end_time": "2021-07-07T13:14:26.112409Z",
     "start_time": "2021-07-07T13:14:26.102414Z"
    }
   },
   "outputs": [
    {
     "data": {
      "text/plain": [
       "[[0, 0, 0, 0, 1, 1, 0],\n",
       " [1, 1, 1, 1, 1, 1, 0],\n",
       " [1, 1, 1, 1, 1, 1, 0],\n",
       " [0, 0, 2, 2, 2, 2, 0],\n",
       " [0, 0, 0, 0, 3, 3, 0],\n",
       " [0, 0, 0, 0, 0, 0, 4]]"
      ]
     },
     "execution_count": 516,
     "metadata": {},
     "output_type": "execute_result"
    }
   ],
   "source": [
    "arr"
   ]
  },
  {
   "cell_type": "code",
   "execution_count": null,
   "metadata": {},
   "outputs": [],
   "source": []
  },
  {
   "cell_type": "code",
   "execution_count": null,
   "metadata": {},
   "outputs": [],
   "source": []
  }
 ],
 "metadata": {
  "kernelspec": {
   "display_name": "Python 3",
   "language": "python",
   "name": "python3"
  },
  "language_info": {
   "codemirror_mode": {
    "name": "ipython",
    "version": 3
   },
   "file_extension": ".py",
   "mimetype": "text/x-python",
   "name": "python",
   "nbconvert_exporter": "python",
   "pygments_lexer": "ipython3",
   "version": "3.8.5"
  },
  "toc": {
   "base_numbering": 1,
   "nav_menu": {},
   "number_sections": true,
   "sideBar": true,
   "skip_h1_title": false,
   "title_cell": "Table of Contents",
   "title_sidebar": "Contents",
   "toc_cell": false,
   "toc_position": {},
   "toc_section_display": true,
   "toc_window_display": false
  }
 },
 "nbformat": 4,
 "nbformat_minor": 4
}

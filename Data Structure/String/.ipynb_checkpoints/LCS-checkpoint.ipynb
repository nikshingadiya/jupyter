{
 "cells": [
  {
   "cell_type": "code",
   "execution_count": 267,
   "metadata": {
    "ExecuteTime": {
     "end_time": "2021-07-07T11:25:06.974209Z",
     "start_time": "2021-07-07T11:25:06.961220Z"
    }
   },
   "outputs": [],
   "source": [
    "import array\n",
    "def LCS_Memo(s1,s2,m,n,arr):\n",
    "        \n",
    "        if m==0 or n==0:\n",
    "            return 0\n",
    "            \n",
    "        elif arr[m-1][n-1]!=None:\n",
    "            \n",
    "            return arr[m-1][n-1]\n",
    "        \n",
    "\n",
    "        \n",
    "        elif s1[m-1]==s2[n-1]:\n",
    "            arr[m-1][n-1]=1 + LCS_Memo(s1, s2, m-1, n-1,arr)\n",
    "            return arr[m-1][n-1]\n",
    "        else:\n",
    "            temp1=LCS_Memo(s1,s2,m-1,n,arr)\n",
    "            temp2=LCS_Memo(s1,s2,m,n-1,arr)\n",
    "            arr[m-1][n-1]=max(temp1,temp2)\n",
    "            return arr[m-1][n-1]\n",
    "                \n",
    "                \n",
    "                \n",
    "            \n",
    "            \n",
    "            \n",
    "        \n",
    "        "
   ]
  },
  {
   "cell_type": "code",
   "execution_count": 268,
   "metadata": {
    "ExecuteTime": {
     "end_time": "2021-07-07T11:25:07.517144Z",
     "start_time": "2021-07-07T11:25:07.511148Z"
    }
   },
   "outputs": [],
   "source": [
    "x=\"AGGTAB\"\n",
    "y=\"GXTXAYB\"\n",
    "m=len(x)\n",
    "n=len(y)\n",
    "arr = [[None for i in range(n)]\n",
    "          for i in range(m)]\n"
   ]
  },
  {
   "cell_type": "code",
   "execution_count": 269,
   "metadata": {
    "ExecuteTime": {
     "end_time": "2021-07-07T11:25:07.990564Z",
     "start_time": "2021-07-07T11:25:07.981589Z"
    }
   },
   "outputs": [
    {
     "data": {
      "text/plain": [
       "[[None, None, None, None, None, None, None],\n",
       " [None, None, None, None, None, None, None],\n",
       " [None, None, None, None, None, None, None],\n",
       " [None, None, None, None, None, None, None],\n",
       " [None, None, None, None, None, None, None],\n",
       " [None, None, None, None, None, None, None]]"
      ]
     },
     "execution_count": 269,
     "metadata": {},
     "output_type": "execute_result"
    }
   ],
   "source": [
    "arr"
   ]
  },
  {
   "cell_type": "code",
   "execution_count": 275,
   "metadata": {
    "ExecuteTime": {
     "end_time": "2021-07-07T11:25:51.305110Z",
     "start_time": "2021-07-07T11:25:51.254111Z"
    }
   },
   "outputs": [],
   "source": [
    "arr1=[[None]*n]*m"
   ]
  },
  {
   "cell_type": "code",
   "execution_count": 276,
   "metadata": {
    "ExecuteTime": {
     "end_time": "2021-07-07T11:25:57.526125Z",
     "start_time": "2021-07-07T11:25:57.517127Z"
    }
   },
   "outputs": [
    {
     "data": {
      "text/plain": [
       "2"
      ]
     },
     "execution_count": 276,
     "metadata": {},
     "output_type": "execute_result"
    }
   ],
   "source": [
    "LCS_Memo(x,y,m,n,op)\n"
   ]
  },
  {
   "cell_type": "code",
   "execution_count": 278,
   "metadata": {
    "ExecuteTime": {
     "end_time": "2021-07-07T11:26:26.501866Z",
     "start_time": "2021-07-07T11:26:26.494871Z"
    }
   },
   "outputs": [
    {
     "data": {
      "text/plain": [
       "4"
      ]
     },
     "execution_count": 278,
     "metadata": {},
     "output_type": "execute_result"
    }
   ],
   "source": [
    "LCS_Memo(x,y,m,n,arr)"
   ]
  },
  {
   "cell_type": "code",
   "execution_count": null,
   "metadata": {},
   "outputs": [],
   "source": []
  }
 ],
 "metadata": {
  "kernelspec": {
   "display_name": "Python 3",
   "language": "python",
   "name": "python3"
  },
  "language_info": {
   "codemirror_mode": {
    "name": "ipython",
    "version": 3
   },
   "file_extension": ".py",
   "mimetype": "text/x-python",
   "name": "python",
   "nbconvert_exporter": "python",
   "pygments_lexer": "ipython3",
   "version": "3.8.5"
  },
  "toc": {
   "base_numbering": 1,
   "nav_menu": {},
   "number_sections": true,
   "sideBar": true,
   "skip_h1_title": false,
   "title_cell": "Table of Contents",
   "title_sidebar": "Contents",
   "toc_cell": false,
   "toc_position": {},
   "toc_section_display": true,
   "toc_window_display": false
  }
 },
 "nbformat": 4,
 "nbformat_minor": 4
}

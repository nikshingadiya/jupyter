{
 "cells": [
  {
   "cell_type": "code",
   "execution_count": 2,
   "metadata": {
    "ExecuteTime": {
     "end_time": "2021-08-04T03:16:34.732336Z",
     "start_time": "2021-08-04T03:16:34.716713Z"
    }
   },
   "outputs": [],
   "source": [
    "class Dnode(object):\n",
    "    def __init__(self,x):\n",
    "        self.key=x\n",
    "        self.prev=None\n",
    "        self.next=None\n",
    "        "
   ]
  },
  {
   "cell_type": "code",
   "execution_count": 19,
   "metadata": {
    "ExecuteTime": {
     "end_time": "2021-08-04T03:42:30.989469Z",
     "start_time": "2021-08-04T03:42:30.974483Z"
    }
   },
   "outputs": [],
   "source": [
    "class DLink(object):\n",
    "    def __init__(self):\n",
    "        self.head = None\n",
    "\n",
    "    def push_front(self, data):\n",
    "        if self.head == None:\n",
    "            self.head = Dnode(data)\n",
    "        else:\n",
    "            temp = Dnode(data)\n",
    "            self.head.prev = temp\n",
    "            temp.next = self.head\n",
    "            self.head = temp\n",
    "\n",
    "    def print_list(self):\n",
    "        temp = self.head\n",
    "\n",
    "        while(temp != None):\n",
    "            print(temp.key, end=\" \")\n",
    "            temp = temp.next\n",
    "\n",
    "    def reverse_print(self):\n",
    "        if self.head == None:\n",
    "            return \"Empty List\"\n",
    "        else:\n",
    "            temp = self.head\n",
    "            while(temp.next != None):\n",
    "                temp = temp.next\n",
    "            while(temp != None):\n",
    "                print(temp.key, end=\" \")\n",
    "                temp = temp.prev"
   ]
  },
  {
   "cell_type": "code",
   "execution_count": 20,
   "metadata": {
    "ExecuteTime": {
     "end_time": "2021-08-04T03:42:31.470907Z",
     "start_time": "2021-08-04T03:42:31.466911Z"
    }
   },
   "outputs": [],
   "source": [
    "D=DLink()\n"
   ]
  },
  {
   "cell_type": "code",
   "execution_count": 21,
   "metadata": {
    "ExecuteTime": {
     "end_time": "2021-08-04T03:42:31.904689Z",
     "start_time": "2021-08-04T03:42:31.899693Z"
    }
   },
   "outputs": [],
   "source": [
    "D.push_front(2)\n",
    "D.push_front(3)\n",
    "D.push_front(5)"
   ]
  },
  {
   "cell_type": "code",
   "execution_count": 22,
   "metadata": {
    "ExecuteTime": {
     "end_time": "2021-08-04T03:42:32.303595Z",
     "start_time": "2021-08-04T03:42:32.297597Z"
    }
   },
   "outputs": [
    {
     "name": "stdout",
     "output_type": "stream",
     "text": [
      "5 3 2 "
     ]
    }
   ],
   "source": [
    "D.print_list()"
   ]
  },
  {
   "cell_type": "code",
   "execution_count": 23,
   "metadata": {
    "ExecuteTime": {
     "end_time": "2021-08-04T03:42:33.081455Z",
     "start_time": "2021-08-04T03:42:33.074462Z"
    }
   },
   "outputs": [
    {
     "name": "stdout",
     "output_type": "stream",
     "text": [
      "2 3 5 "
     ]
    }
   ],
   "source": [
    "D.reverse_print()"
   ]
  },
  {
   "cell_type": "code",
   "execution_count": 25,
   "metadata": {
    "ExecuteTime": {
     "end_time": "2021-08-04T04:38:15.383546Z",
     "start_time": "2021-08-04T04:38:15.375551Z"
    }
   },
   "outputs": [
    {
     "data": {
      "text/plain": [
       "3"
      ]
     },
     "execution_count": 25,
     "metadata": {},
     "output_type": "execute_result"
    }
   ],
   "source": [
    "3%8"
   ]
  },
  {
   "cell_type": "code",
   "execution_count": null,
   "metadata": {},
   "outputs": [],
   "source": []
  }
 ],
 "metadata": {
  "kernelspec": {
   "display_name": "Python 3",
   "language": "python",
   "name": "python3"
  },
  "language_info": {
   "codemirror_mode": {
    "name": "ipython",
    "version": 3
   },
   "file_extension": ".py",
   "mimetype": "text/x-python",
   "name": "python",
   "nbconvert_exporter": "python",
   "pygments_lexer": "ipython3",
   "version": "3.8.5"
  },
  "toc": {
   "base_numbering": 1,
   "nav_menu": {},
   "number_sections": true,
   "sideBar": true,
   "skip_h1_title": false,
   "title_cell": "Table of Contents",
   "title_sidebar": "Contents",
   "toc_cell": false,
   "toc_position": {},
   "toc_section_display": true,
   "toc_window_display": false
  }
 },
 "nbformat": 4,
 "nbformat_minor": 4
}

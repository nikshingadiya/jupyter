{
 "cells": [
  {
   "cell_type": "code",
   "execution_count": 5,
   "metadata": {
    "ExecuteTime": {
     "end_time": "2021-07-23T12:49:30.182155Z",
     "start_time": "2021-07-23T12:49:30.174161Z"
    }
   },
   "outputs": [],
   "source": [
    "class Node(object):\n",
    "    def __init__(self,key):\n",
    "        self.key=key\n",
    "        self.link=None\n",
    "    "
   ]
  },
  {
   "cell_type": "code",
   "execution_count": 37,
   "metadata": {
    "ExecuteTime": {
     "end_time": "2021-07-23T12:50:45.052283Z",
     "start_time": "2021-07-23T12:50:45.010300Z"
    }
   },
   "outputs": [],
   "source": [
    "class LinkedList(object):\n",
    "    def __init__(self):\n",
    "        self.head = None\n",
    "        \n",
    "    def getHead(self):\n",
    "        return self.head\n",
    "\n",
    "    def addNodeLast(self, key):\n",
    "        if self.head == None:\n",
    "            self.head = Node(key)\n",
    "        else:\n",
    "            temp = self.head\n",
    "            while(temp.link != None):\n",
    "                temp = temp.link\n",
    "\n",
    "            temp.link = Node(key)\n",
    "\n",
    "    def addNodeFirst(self, key):\n",
    "        if self.head == None:\n",
    "            self.head = Node(key)\n",
    "        else:\n",
    "            temp = Node(key)\n",
    "            temp.link = self.head   # head store not next link\n",
    "            self.head = temp\n",
    "\n",
    "    def addNodeNthPosition(self, nth, key):\n",
    "\n",
    "        x = self.LengthList()\n",
    "        import warnings\n",
    "        warnings.warn(\n",
    "            f\"length of list {x} please don't over this limit\", DeprecationWarning, stacklevel=1)\n",
    "\n",
    "        if nth == 1:\n",
    "            self.addNodeFirst(key)\n",
    "\n",
    "        else:\n",
    "            i = 0\n",
    "            temp = self.head\n",
    "            while(i < nth-2):\n",
    "                temp = temp.link\n",
    "                i += 1\n",
    "\n",
    "            temp1 = Node(key)\n",
    "            temp1.link = temp.link\n",
    "            temp.link = temp1\n",
    "\n",
    "    def LengthList(self):\n",
    "        temp = self.head\n",
    "        length = 0\n",
    "        while(temp.link != None):\n",
    "            length += 1\n",
    "            temp = temp.link\n",
    "        return length\n",
    "\n",
    "    def deleteNodeNthPosition(self, nth):\n",
    "        temp = None\n",
    "        temp1 = None\n",
    "\n",
    "        if self.LengthList() != 0:\n",
    "            if nth == 1:\n",
    "                temp1 = self.head.link\n",
    "                self.head = temp1\n",
    "            else:\n",
    "                if nth > self.LengthList():\n",
    "                    print(\"Invalid Postion Or IndexOut of Bound\")\n",
    "\n",
    "                else:\n",
    "                    i = 0\n",
    "                    temp = self.head\n",
    "                    while(i < nth-2):\n",
    "                        temp = temp.link\n",
    "                        i += 1\n",
    "                    temp1 = temp.link\n",
    "                    temp.link = temp1.link\n",
    "        else:\n",
    "\n",
    "            print(\"List Is empty\")\n",
    "\n",
    "    def deleteNodeFirstPosition(self):\n",
    "\n",
    "        if self.LengthList() != 0:\n",
    "            temp1 = self.head.link\n",
    "            self.head = temp1\n",
    "        else:\n",
    "            print(\"List Is empty\")\n",
    "            \n",
    "    def deleteNodeLastPosition(self):\n",
    "        \n",
    "        if self.LengthList() != 0:\n",
    "            temp=self.head\n",
    "            prev=temp\n",
    "            while(temp.link!=None):\n",
    "                prev=temp\n",
    "                temp=temp.link\n",
    "                \n",
    "            prev.link=None\n",
    "        else:\n",
    "            self.head=None\n",
    "            print(\"List Is empty\")\n",
    "            \n",
    "\n",
    "    def reverseLinked(self):\n",
    "        current = self.head\n",
    "        prev = None\n",
    "        while(current != None):\n",
    "            next1 = current.link\n",
    "            current.link = prev\n",
    "            prev = current\n",
    "            current = next1\n",
    "\n",
    "        self.head = prev\n",
    "\n",
    "        return self.head\n",
    "    \n",
    "    def recurvsivePrint(self,p):\n",
    "        if p==None:\n",
    "            return None\n",
    "        print(p.key)\n",
    "        recurvsivePrint(p.link)\n",
    "            \n",
    "\n",
    "    def __repr__(self):\n",
    "        if self.LengthList() != 0:\n",
    "            temp = self.head\n",
    "            while(temp!= None):\n",
    "                print(temp.key, end=\" \")\n",
    "                temp = temp.link\n",
    "            return \"List Printed \"\n",
    "        else:\n",
    "            print(\"List Is empty\")\n",
    "\n",
    "    def printList(self):\n",
    "        \n",
    "        if self.LengthList() != 0:\n",
    "            temp = self.head\n",
    "            while(temp != None):\n",
    "                print(temp.key, end=\" \")\n",
    "                temp = temp.link\n",
    "        else:\n",
    "            print(\"List Is empty\")"
   ]
  },
  {
   "cell_type": "code",
   "execution_count": 38,
   "metadata": {
    "ExecuteTime": {
     "end_time": "2021-07-23T12:50:45.481965Z",
     "start_time": "2021-07-23T12:50:45.475968Z"
    }
   },
   "outputs": [],
   "source": [
    "L1=LinkedList()"
   ]
  },
  {
   "cell_type": "code",
   "execution_count": 39,
   "metadata": {
    "ExecuteTime": {
     "end_time": "2021-07-23T12:50:46.000852Z",
     "start_time": "2021-07-23T12:50:45.995859Z"
    }
   },
   "outputs": [],
   "source": [
    "L1.addNodeLast(3)"
   ]
  },
  {
   "cell_type": "code",
   "execution_count": 40,
   "metadata": {
    "ExecuteTime": {
     "end_time": "2021-07-23T12:50:46.436502Z",
     "start_time": "2021-07-23T12:50:46.431506Z"
    }
   },
   "outputs": [],
   "source": [
    "L1.addNodeLast(4)\n",
    "L1.addNodeLast(3)\n",
    "L1.addNodeLast(3)\n"
   ]
  },
  {
   "cell_type": "code",
   "execution_count": 41,
   "metadata": {
    "ExecuteTime": {
     "end_time": "2021-07-23T12:50:46.840793Z",
     "start_time": "2021-07-23T12:50:46.835793Z"
    }
   },
   "outputs": [],
   "source": [
    "L1.addNodeLast(5)"
   ]
  },
  {
   "cell_type": "code",
   "execution_count": 42,
   "metadata": {
    "ExecuteTime": {
     "end_time": "2021-07-23T12:50:47.245826Z",
     "start_time": "2021-07-23T12:50:47.237831Z"
    }
   },
   "outputs": [
    {
     "name": "stdout",
     "output_type": "stream",
     "text": [
      "3 4 3 3 5 "
     ]
    }
   ],
   "source": [
    "L1.printList()\n"
   ]
  },
  {
   "cell_type": "code",
   "execution_count": 43,
   "metadata": {
    "ExecuteTime": {
     "end_time": "2021-07-23T12:50:47.639329Z",
     "start_time": "2021-07-23T12:50:47.632330Z"
    }
   },
   "outputs": [
    {
     "data": {
      "text/plain": [
       "<__main__.Node at 0x2258555f2b0>"
      ]
     },
     "execution_count": 43,
     "metadata": {},
     "output_type": "execute_result"
    }
   ],
   "source": [
    "\n",
    "L1.reverseLinked()"
   ]
  },
  {
   "cell_type": "code",
   "execution_count": 44,
   "metadata": {
    "ExecuteTime": {
     "end_time": "2021-07-23T12:50:47.975681Z",
     "start_time": "2021-07-23T12:50:47.964691Z"
    }
   },
   "outputs": [
    {
     "name": "stdout",
     "output_type": "stream",
     "text": [
      "5 3 3 4 3 "
     ]
    },
    {
     "data": {
      "text/plain": [
       "List Printed "
      ]
     },
     "execution_count": 44,
     "metadata": {},
     "output_type": "execute_result"
    }
   ],
   "source": [
    "L1"
   ]
  },
  {
   "cell_type": "code",
   "execution_count": 45,
   "metadata": {
    "ExecuteTime": {
     "end_time": "2021-07-23T12:50:48.352710Z",
     "start_time": "2021-07-23T12:50:48.348707Z"
    }
   },
   "outputs": [],
   "source": [
    "L1.addNodeFirst(5)"
   ]
  },
  {
   "cell_type": "code",
   "execution_count": 46,
   "metadata": {
    "ExecuteTime": {
     "end_time": "2021-07-23T12:50:48.727059Z",
     "start_time": "2021-07-23T12:50:48.721062Z"
    }
   },
   "outputs": [],
   "source": [
    "L1.addNodeLast(8)"
   ]
  },
  {
   "cell_type": "code",
   "execution_count": 17,
   "metadata": {
    "ExecuteTime": {
     "end_time": "2021-07-23T12:49:46.809159Z",
     "start_time": "2021-07-23T12:49:46.804162Z"
    }
   },
   "outputs": [],
   "source": [
    "L1.addNodeFirst(7)"
   ]
  },
  {
   "cell_type": "code",
   "execution_count": 18,
   "metadata": {
    "ExecuteTime": {
     "end_time": "2021-07-23T12:49:47.357317Z",
     "start_time": "2021-07-23T12:49:47.347326Z"
    },
    "scrolled": true
   },
   "outputs": [
    {
     "name": "stdout",
     "output_type": "stream",
     "text": [
      "7 5 5 3 3 4 3 8 "
     ]
    },
    {
     "data": {
      "text/plain": [
       "List Printed "
      ]
     },
     "execution_count": 18,
     "metadata": {},
     "output_type": "execute_result"
    }
   ],
   "source": [
    "\n",
    "L1"
   ]
  },
  {
   "cell_type": "code",
   "execution_count": 19,
   "metadata": {
    "ExecuteTime": {
     "end_time": "2021-07-23T12:49:47.921628Z",
     "start_time": "2021-07-23T12:49:47.915634Z"
    }
   },
   "outputs": [
    {
     "name": "stderr",
     "output_type": "stream",
     "text": [
      "<ipython-input-6-c5880cd17b02>:30: DeprecationWarning: length of list 7 please don't over this limit\n",
      "  warnings.warn(\n"
     ]
    }
   ],
   "source": [
    "L1.addNodeNthPosition(3,2)"
   ]
  },
  {
   "cell_type": "code",
   "execution_count": 20,
   "metadata": {
    "ExecuteTime": {
     "end_time": "2021-07-23T12:49:48.653661Z",
     "start_time": "2021-07-23T12:49:48.647661Z"
    }
   },
   "outputs": [
    {
     "name": "stderr",
     "output_type": "stream",
     "text": [
      "<ipython-input-6-c5880cd17b02>:30: DeprecationWarning: length of list 8 please don't over this limit\n",
      "  warnings.warn(\n"
     ]
    }
   ],
   "source": [
    "L1.addNodeNthPosition(2,1)"
   ]
  },
  {
   "cell_type": "code",
   "execution_count": 21,
   "metadata": {
    "ExecuteTime": {
     "end_time": "2021-07-23T12:49:49.061676Z",
     "start_time": "2021-07-23T12:49:49.051685Z"
    }
   },
   "outputs": [
    {
     "name": "stdout",
     "output_type": "stream",
     "text": [
      "7 1 5 2 5 3 3 4 3 8 "
     ]
    },
    {
     "data": {
      "text/plain": [
       "List Printed "
      ]
     },
     "execution_count": 21,
     "metadata": {},
     "output_type": "execute_result"
    }
   ],
   "source": [
    "L1"
   ]
  },
  {
   "cell_type": "code",
   "execution_count": 22,
   "metadata": {
    "ExecuteTime": {
     "end_time": "2021-07-23T12:49:49.445850Z",
     "start_time": "2021-07-23T12:49:49.439873Z"
    }
   },
   "outputs": [
    {
     "name": "stderr",
     "output_type": "stream",
     "text": [
      "<ipython-input-6-c5880cd17b02>:30: DeprecationWarning: length of list 9 please don't over this limit\n",
      "  warnings.warn(\n"
     ]
    }
   ],
   "source": [
    "L1.addNodeNthPosition(8,4)"
   ]
  },
  {
   "cell_type": "code",
   "execution_count": 23,
   "metadata": {
    "ExecuteTime": {
     "end_time": "2021-07-23T12:49:50.230142Z",
     "start_time": "2021-07-23T12:49:50.222146Z"
    }
   },
   "outputs": [
    {
     "data": {
      "text/plain": [
       "10"
      ]
     },
     "execution_count": 23,
     "metadata": {},
     "output_type": "execute_result"
    }
   ],
   "source": [
    "L1.LengthList()"
   ]
  },
  {
   "cell_type": "code",
   "execution_count": 24,
   "metadata": {
    "ExecuteTime": {
     "end_time": "2021-07-23T12:49:50.624211Z",
     "start_time": "2021-07-23T12:49:50.613219Z"
    }
   },
   "outputs": [
    {
     "name": "stdout",
     "output_type": "stream",
     "text": [
      "7 1 5 2 5 3 3 4 4 3 8 "
     ]
    },
    {
     "data": {
      "text/plain": [
       "List Printed "
      ]
     },
     "execution_count": 24,
     "metadata": {},
     "output_type": "execute_result"
    }
   ],
   "source": [
    "L1"
   ]
  },
  {
   "cell_type": "code",
   "execution_count": 25,
   "metadata": {
    "ExecuteTime": {
     "end_time": "2021-07-23T12:49:51.050417Z",
     "start_time": "2021-07-23T12:49:51.046421Z"
    }
   },
   "outputs": [],
   "source": [
    "L1.deleteNodeFirstPosition()"
   ]
  },
  {
   "cell_type": "code",
   "execution_count": 26,
   "metadata": {
    "ExecuteTime": {
     "end_time": "2021-07-23T12:49:51.494097Z",
     "start_time": "2021-07-23T12:49:51.484103Z"
    }
   },
   "outputs": [
    {
     "name": "stdout",
     "output_type": "stream",
     "text": [
      "1 5 2 5 3 3 4 4 3 8 "
     ]
    },
    {
     "data": {
      "text/plain": [
       "List Printed "
      ]
     },
     "execution_count": 26,
     "metadata": {},
     "output_type": "execute_result"
    }
   ],
   "source": [
    "L1"
   ]
  },
  {
   "cell_type": "code",
   "execution_count": 27,
   "metadata": {
    "ExecuteTime": {
     "end_time": "2021-07-23T12:49:51.918744Z",
     "start_time": "2021-07-23T12:49:51.914745Z"
    }
   },
   "outputs": [],
   "source": [
    "L1.deleteNodeNthPosition(2)"
   ]
  },
  {
   "cell_type": "code",
   "execution_count": 28,
   "metadata": {
    "ExecuteTime": {
     "end_time": "2021-07-23T12:49:52.533884Z",
     "start_time": "2021-07-23T12:49:52.528885Z"
    }
   },
   "outputs": [],
   "source": [
    "L1.deleteNodeNthPosition(1)"
   ]
  },
  {
   "cell_type": "code",
   "execution_count": 29,
   "metadata": {
    "ExecuteTime": {
     "end_time": "2021-07-23T12:49:52.970238Z",
     "start_time": "2021-07-23T12:49:52.966237Z"
    }
   },
   "outputs": [],
   "source": [
    "L1.deleteNodeLastPosition()"
   ]
  },
  {
   "cell_type": "code",
   "execution_count": 30,
   "metadata": {
    "ExecuteTime": {
     "end_time": "2021-07-23T12:49:53.509720Z",
     "start_time": "2021-07-23T12:49:53.501725Z"
    }
   },
   "outputs": [
    {
     "name": "stdout",
     "output_type": "stream",
     "text": [
      "2 5 3 3 4 4 3 "
     ]
    },
    {
     "data": {
      "text/plain": [
       "List Printed "
      ]
     },
     "execution_count": 30,
     "metadata": {},
     "output_type": "execute_result"
    }
   ],
   "source": [
    "L1"
   ]
  },
  {
   "cell_type": "code",
   "execution_count": 31,
   "metadata": {
    "ExecuteTime": {
     "end_time": "2021-07-23T12:49:53.820692Z",
     "start_time": "2021-07-23T12:49:53.816695Z"
    }
   },
   "outputs": [],
   "source": [
    "L1.deleteNodeLastPosition()"
   ]
  },
  {
   "cell_type": "code",
   "execution_count": 32,
   "metadata": {
    "ExecuteTime": {
     "end_time": "2021-07-23T12:49:54.413552Z",
     "start_time": "2021-07-23T12:49:54.402557Z"
    }
   },
   "outputs": [
    {
     "name": "stdout",
     "output_type": "stream",
     "text": [
      "2 5 3 3 4 4 "
     ]
    },
    {
     "data": {
      "text/plain": [
       "List Printed "
      ]
     },
     "execution_count": 32,
     "metadata": {},
     "output_type": "execute_result"
    }
   ],
   "source": [
    "L1"
   ]
  },
  {
   "cell_type": "code",
   "execution_count": 36,
   "metadata": {
    "ExecuteTime": {
     "end_time": "2021-07-23T12:50:41.234696Z",
     "start_time": "2021-07-23T12:50:41.212712Z"
    }
   },
   "outputs": [
    {
     "name": "stdout",
     "output_type": "stream",
     "text": [
      "2\n"
     ]
    },
    {
     "ename": "NameError",
     "evalue": "name 'recurvsivePrint' is not defined",
     "output_type": "error",
     "traceback": [
      "\u001b[1;31m---------------------------------------------------------------------------\u001b[0m",
      "\u001b[1;31mNameError\u001b[0m                                 Traceback (most recent call last)",
      "\u001b[1;32m<ipython-input-36-301da12aa88d>\u001b[0m in \u001b[0;36m<module>\u001b[1;34m\u001b[0m\n\u001b[1;32m----> 1\u001b[1;33m \u001b[0mL1\u001b[0m\u001b[1;33m.\u001b[0m\u001b[0mrecurvsivePrint\u001b[0m\u001b[1;33m(\u001b[0m\u001b[0mL1\u001b[0m\u001b[1;33m.\u001b[0m\u001b[0mgetHead\u001b[0m\u001b[1;33m(\u001b[0m\u001b[1;33m)\u001b[0m\u001b[1;33m)\u001b[0m\u001b[1;33m\u001b[0m\u001b[1;33m\u001b[0m\u001b[0m\n\u001b[0m",
      "\u001b[1;32m<ipython-input-6-c5880cd17b02>\u001b[0m in \u001b[0;36mrecurvsivePrint\u001b[1;34m(self, p)\u001b[0m\n\u001b[0;32m    117\u001b[0m             \u001b[1;32mreturn\u001b[0m \u001b[1;32mNone\u001b[0m\u001b[1;33m\u001b[0m\u001b[1;33m\u001b[0m\u001b[0m\n\u001b[0;32m    118\u001b[0m         \u001b[0mprint\u001b[0m\u001b[1;33m(\u001b[0m\u001b[0mp\u001b[0m\u001b[1;33m.\u001b[0m\u001b[0mkey\u001b[0m\u001b[1;33m)\u001b[0m\u001b[1;33m\u001b[0m\u001b[1;33m\u001b[0m\u001b[0m\n\u001b[1;32m--> 119\u001b[1;33m         \u001b[0mrecurvsivePrint\u001b[0m\u001b[1;33m(\u001b[0m\u001b[0mp\u001b[0m\u001b[1;33m.\u001b[0m\u001b[0mlink\u001b[0m\u001b[1;33m)\u001b[0m\u001b[1;33m\u001b[0m\u001b[1;33m\u001b[0m\u001b[0m\n\u001b[0m\u001b[0;32m    120\u001b[0m \u001b[1;33m\u001b[0m\u001b[0m\n\u001b[0;32m    121\u001b[0m \u001b[1;33m\u001b[0m\u001b[0m\n",
      "\u001b[1;31mNameError\u001b[0m: name 'recurvsivePrint' is not defined"
     ]
    }
   ],
   "source": [
    "L1.recurvsivePrint(L1.getHead())"
   ]
  },
  {
   "cell_type": "code",
   "execution_count": null,
   "metadata": {},
   "outputs": [],
   "source": []
  }
 ],
 "metadata": {
  "kernelspec": {
   "display_name": "Python 3",
   "language": "python",
   "name": "python3"
  },
  "language_info": {
   "codemirror_mode": {
    "name": "ipython",
    "version": 3
   },
   "file_extension": ".py",
   "mimetype": "text/x-python",
   "name": "python",
   "nbconvert_exporter": "python",
   "pygments_lexer": "ipython3",
   "version": "3.8.5"
  },
  "toc": {
   "base_numbering": 1,
   "nav_menu": {},
   "number_sections": true,
   "sideBar": true,
   "skip_h1_title": false,
   "title_cell": "Table of Contents",
   "title_sidebar": "Contents",
   "toc_cell": false,
   "toc_position": {},
   "toc_section_display": true,
   "toc_window_display": false
  }
 },
 "nbformat": 4,
 "nbformat_minor": 4
}

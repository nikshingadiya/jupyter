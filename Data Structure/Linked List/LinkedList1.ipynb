{
 "cells": [
  {
   "cell_type": "code",
   "execution_count": 1,
   "metadata": {
    "ExecuteTime": {
     "end_time": "2021-07-27T09:59:21.763981Z",
     "start_time": "2021-07-27T09:59:21.747962Z"
    }
   },
   "outputs": [],
   "source": [
    "class Node(object):\n",
    "    def __init__(self,key):\n",
    "        self.key=key\n",
    "        self.link=None\n",
    "    "
   ]
  },
  {
   "cell_type": "code",
   "execution_count": 298,
   "metadata": {
    "ExecuteTime": {
     "end_time": "2021-07-27T11:37:25.908716Z",
     "start_time": "2021-07-27T11:37:25.860701Z"
    }
   },
   "outputs": [],
   "source": [
    "class LinkedList(object):\n",
    "    def __init__(self):\n",
    "        self.head = None\n",
    "\n",
    "    def getHead(self):\n",
    "        return self.head\n",
    "\n",
    "    def addNodeLast(self, key):\n",
    "        if self.head == None:\n",
    "            self.head = Node(key)\n",
    "        else:\n",
    "            temp = self.head\n",
    "            while(temp.link != None):\n",
    "                temp = temp.link\n",
    "\n",
    "            temp.link = Node(key)\n",
    "\n",
    "    def addNodeFirst(self, key):\n",
    "        if self.head == None:\n",
    "            self.head = Node(key)\n",
    "        else:\n",
    "            temp = Node(key)\n",
    "            temp.link = self.head   # head store not next link\n",
    "            self.head = temp\n",
    "\n",
    "    def addNodeNthPosition(self, nth, key):\n",
    "\n",
    "        x = self.LengthList()\n",
    "        import warnings\n",
    "        warnings.warn(\n",
    "            f\"length of list {x} please don't over this limit\", DeprecationWarning, stacklevel=1)\n",
    "\n",
    "        if nth == 1:\n",
    "            self.addNodeFirst(key)\n",
    "\n",
    "        else:\n",
    "            i = 0\n",
    "            temp = self.head\n",
    "            while(i < nth-2):\n",
    "                temp = temp.link\n",
    "                i += 1\n",
    "\n",
    "            temp1 = Node(key)\n",
    "            temp1.link = temp.link\n",
    "            temp.link = temp1\n",
    "\n",
    "    def LengthList(self):\n",
    "        temp = self.head\n",
    "        length = 0\n",
    "        while(temp.link != None):\n",
    "            length += 1\n",
    "            temp = temp.link\n",
    "        return length\n",
    "\n",
    "    def deleteNodeNthPosition(self, nth):\n",
    "        temp = None\n",
    "        temp1 = None\n",
    "\n",
    "        if self.LengthList() != 0:\n",
    "            if nth == 1:\n",
    "                temp1 = self.head.link\n",
    "                self.head = temp1\n",
    "            else:\n",
    "                if nth > self.LengthList():\n",
    "                    print(\"Invalid Postion Or IndexOut of Bound\")\n",
    "\n",
    "                else:\n",
    "                    i = 0\n",
    "                    temp = self.head\n",
    "                    while(i < nth-2):\n",
    "                        temp = temp.link\n",
    "                        i += 1\n",
    "                    temp1 = temp.link\n",
    "                    temp.link = temp1.link\n",
    "        else:\n",
    "\n",
    "            print(\"List Is empty\")\n",
    "\n",
    "    def deleteNodeFirstPosition(self):\n",
    "\n",
    "        if self.LengthList() != 0:\n",
    "            temp1 = self.head.link\n",
    "            self.head = temp1\n",
    "        else:\n",
    "            print(\"List Is empty\")\n",
    "\n",
    "    def deleteNodeLastPosition(self):\n",
    "\n",
    "        if self.LengthList() != 0:\n",
    "            temp = self.head\n",
    "            prev = temp\n",
    "            while(temp.link != None):\n",
    "                prev = temp\n",
    "                temp = temp.link\n",
    "\n",
    "            prev.link = None\n",
    "        else:\n",
    "            self.head = None\n",
    "            print(\"List Is empty\")\n",
    "\n",
    "    def reverseLinked(self):\n",
    "        current = self.head\n",
    "        prev = None\n",
    "        while(current != None):\n",
    "            next1 = current.link\n",
    "            current.link = prev\n",
    "            prev = current\n",
    "            current = next1\n",
    "\n",
    "        self.head = prev\n",
    "\n",
    "        return self.head\n",
    "\n",
    "    def recurvsivePrint(self, p):\n",
    "        if p == None:\n",
    "            return None\n",
    "        print(p.key, end=\" \")\n",
    "        self.recurvsivePrint(p.link)\n",
    "\n",
    "    def recurvsiveReversePrint(self, p):\n",
    "        if p == None:\n",
    "            return None\n",
    "\n",
    "        self.recurvsiveReversePrint(p.link)\n",
    "        print(p.key, end=\" \")\n",
    "\n",
    "    def recurvsiveReverseLink(self, p):\n",
    "        if p.link == None:\n",
    "            self.head = p\n",
    "            return None\n",
    "        self.recurvsiveReverseLink(p.link)\n",
    "        q = p.link\n",
    "        q.link = p\n",
    "        p.link = None\n",
    "\n",
    "    def GroupSizeReverse(self, nth):\n",
    "        if self.head==None:\n",
    "            return None\n",
    "        else:\n",
    "            prev=None\n",
    "            curr=self.head\n",
    "            tail=self.head\n",
    "            if (nth!=1):\n",
    "                for i in range(nth):\n",
    "                    next1=curr.link\n",
    "                    curr.link=prev\n",
    "                    prev=curr\n",
    "                    curr=next1\n",
    "\n",
    "\n",
    "                self.head=prev\n",
    "                tail.link=next1\n",
    "                return self.head\n",
    "\n",
    "            else:\n",
    "                return self.head\n",
    "            \n",
    "\n",
    "\n",
    "\n",
    "      \n",
    "    def __repr__(self):\n",
    "        if self.LengthList() != 0:\n",
    "            temp = self.head\n",
    "            while(temp != None):\n",
    "                print(temp.key, end=\" \")\n",
    "                temp = temp.link\n",
    "            return \"List Printed \"\n",
    "        else:\n",
    "            print(\"List Is empty\")\n",
    "\n",
    "    def printList(self):\n",
    "\n",
    "        if self.LengthList() != 0:\n",
    "            temp = self.head\n",
    "            while(temp != None):\n",
    "                print(temp.key, end=\" \")\n",
    "                temp = temp.link\n",
    "        else:\n",
    "            print(\"List Is empty\")\n",
    "    \n",
    "    \n",
    "            \n",
    "    "
   ]
  },
  {
   "cell_type": "code",
   "execution_count": 299,
   "metadata": {
    "ExecuteTime": {
     "end_time": "2021-07-27T11:37:26.436649Z",
     "start_time": "2021-07-27T11:37:26.428669Z"
    }
   },
   "outputs": [],
   "source": [
    "L1=LinkedList()"
   ]
  },
  {
   "cell_type": "code",
   "execution_count": 300,
   "metadata": {
    "ExecuteTime": {
     "end_time": "2021-07-27T11:37:27.020595Z",
     "start_time": "2021-07-27T11:37:27.012599Z"
    }
   },
   "outputs": [],
   "source": [
    "L1.addNodeLast(3)"
   ]
  },
  {
   "cell_type": "code",
   "execution_count": 301,
   "metadata": {
    "ExecuteTime": {
     "end_time": "2021-07-27T11:39:23.709114Z",
     "start_time": "2021-07-27T11:39:23.701113Z"
    }
   },
   "outputs": [],
   "source": [
    "L1.addNodeLast(4)\n",
    "L1.addNodeLast(8)\n",
    "L1.addNodeLast(5)\n",
    "L1.addNodeFirst(10)\n",
    "L1.addNodeFirst(12)\n",
    "L1.addNodeFirst(10)\n"
   ]
  },
  {
   "cell_type": "code",
   "execution_count": 302,
   "metadata": {
    "ExecuteTime": {
     "end_time": "2021-07-27T11:39:24.332501Z",
     "start_time": "2021-07-27T11:39:24.324502Z"
    }
   },
   "outputs": [
    {
     "name": "stdout",
     "output_type": "stream",
     "text": [
      "10 12 10 3 4 8 5 "
     ]
    }
   ],
   "source": [
    "L1.printList()\n"
   ]
  },
  {
   "cell_type": "code",
   "execution_count": 303,
   "metadata": {
    "ExecuteTime": {
     "end_time": "2021-07-27T11:39:35.712831Z",
     "start_time": "2021-07-27T11:39:35.696831Z"
    }
   },
   "outputs": [],
   "source": [
    "x=L1.GroupSizeReverse(2)"
   ]
  },
  {
   "cell_type": "code",
   "execution_count": 304,
   "metadata": {
    "ExecuteTime": {
     "end_time": "2021-07-27T11:39:36.208783Z",
     "start_time": "2021-07-27T11:39:36.200782Z"
    }
   },
   "outputs": [],
   "source": [
    "def Print(head):\n",
    "    temp=head\n",
    "    \n",
    "    while(temp!=None):\n",
    "        print(temp.key,end=\" \")\n",
    "        temp=temp.link\n",
    "    \n",
    "        "
   ]
  },
  {
   "cell_type": "code",
   "execution_count": 305,
   "metadata": {
    "ExecuteTime": {
     "end_time": "2021-07-27T11:39:36.696740Z",
     "start_time": "2021-07-27T11:39:36.680762Z"
    }
   },
   "outputs": [
    {
     "name": "stdout",
     "output_type": "stream",
     "text": [
      "12 10 10 3 4 8 5 "
     ]
    }
   ],
   "source": [
    "Print(x)"
   ]
  },
  {
   "cell_type": "code",
   "execution_count": null,
   "metadata": {
    "ExecuteTime": {
     "end_time": "2021-07-27T11:01:29.033147Z",
     "start_time": "2021-07-27T11:01:24.184Z"
    }
   },
   "outputs": [],
   "source": [
    "\n",
    "L1.reverseLinked()"
   ]
  },
  {
   "cell_type": "code",
   "execution_count": null,
   "metadata": {
    "ExecuteTime": {
     "end_time": "2021-07-27T11:01:29.041148Z",
     "start_time": "2021-07-27T11:01:24.217Z"
    }
   },
   "outputs": [],
   "source": [
    "L1"
   ]
  },
  {
   "cell_type": "code",
   "execution_count": 156,
   "metadata": {
    "ExecuteTime": {
     "end_time": "2021-07-23T13:41:43.137889Z",
     "start_time": "2021-07-23T13:41:43.129890Z"
    }
   },
   "outputs": [],
   "source": [
    "L1.addNodeFirst(5)"
   ]
  },
  {
   "cell_type": "code",
   "execution_count": 157,
   "metadata": {
    "ExecuteTime": {
     "end_time": "2021-07-23T13:41:43.754081Z",
     "start_time": "2021-07-23T13:41:43.738083Z"
    }
   },
   "outputs": [],
   "source": [
    "L1.addNodeLast(8)"
   ]
  },
  {
   "cell_type": "code",
   "execution_count": 158,
   "metadata": {
    "ExecuteTime": {
     "end_time": "2021-07-23T13:41:44.210039Z",
     "start_time": "2021-07-23T13:41:44.194042Z"
    }
   },
   "outputs": [],
   "source": [
    "\n",
    "L1.addNodeFirst(7)"
   ]
  },
  {
   "cell_type": "code",
   "execution_count": 159,
   "metadata": {
    "ExecuteTime": {
     "end_time": "2021-07-23T13:41:57.513077Z",
     "start_time": "2021-07-23T13:41:57.497084Z"
    }
   },
   "outputs": [
    {
     "name": "stdout",
     "output_type": "stream",
     "text": [
      "7 5 5 3 3 4 3 8 "
     ]
    },
    {
     "data": {
      "text/plain": [
       "List Printed "
      ]
     },
     "execution_count": 159,
     "metadata": {},
     "output_type": "execute_result"
    }
   ],
   "source": [
    "L1"
   ]
  },
  {
   "cell_type": "code",
   "execution_count": 160,
   "metadata": {
    "ExecuteTime": {
     "end_time": "2021-07-23T13:41:59.880858Z",
     "start_time": "2021-07-23T13:41:59.864881Z"
    },
    "scrolled": true
   },
   "outputs": [
    {
     "name": "stdout",
     "output_type": "stream",
     "text": [
      "8 3 4 3 3 5 5 7 "
     ]
    }
   ],
   "source": [
    "\n",
    "L1.recurvsiveReversePrint(L1.getHead())"
   ]
  },
  {
   "cell_type": "code",
   "execution_count": 161,
   "metadata": {
    "ExecuteTime": {
     "end_time": "2021-07-23T13:42:01.136745Z",
     "start_time": "2021-07-23T13:42:01.120751Z"
    }
   },
   "outputs": [],
   "source": [
    "L1.recurvsiveReverseLink(L1.getHead())"
   ]
  },
  {
   "cell_type": "code",
   "execution_count": 162,
   "metadata": {
    "ExecuteTime": {
     "end_time": "2021-07-23T13:42:07.928419Z",
     "start_time": "2021-07-23T13:42:07.912442Z"
    }
   },
   "outputs": [
    {
     "name": "stdout",
     "output_type": "stream",
     "text": [
      "8 3 4 3 3 5 5 7 "
     ]
    },
    {
     "data": {
      "text/plain": [
       "List Printed "
      ]
     },
     "execution_count": 162,
     "metadata": {},
     "output_type": "execute_result"
    }
   ],
   "source": [
    "L1"
   ]
  },
  {
   "cell_type": "code",
   "execution_count": 76,
   "metadata": {
    "ExecuteTime": {
     "end_time": "2021-07-23T12:51:19.432774Z",
     "start_time": "2021-07-23T12:51:19.241097Z"
    }
   },
   "outputs": [
    {
     "name": "stderr",
     "output_type": "stream",
     "text": [
      "<ipython-input-64-3e1bdf830e98>:30: DeprecationWarning: length of list 7 please don't over this limit\n",
      "  warnings.warn(\n"
     ]
    }
   ],
   "source": [
    "L1.addNodeNthPosition(3,2)"
   ]
  },
  {
   "cell_type": "code",
   "execution_count": 77,
   "metadata": {
    "ExecuteTime": {
     "end_time": "2021-07-23T12:51:19.523084Z",
     "start_time": "2021-07-23T12:51:19.436752Z"
    }
   },
   "outputs": [
    {
     "name": "stderr",
     "output_type": "stream",
     "text": [
      "<ipython-input-64-3e1bdf830e98>:30: DeprecationWarning: length of list 8 please don't over this limit\n",
      "  warnings.warn(\n"
     ]
    }
   ],
   "source": [
    "L1.addNodeNthPosition(2,1)"
   ]
  },
  {
   "cell_type": "code",
   "execution_count": 78,
   "metadata": {
    "ExecuteTime": {
     "end_time": "2021-07-23T12:51:19.627398Z",
     "start_time": "2021-07-23T12:51:19.527083Z"
    }
   },
   "outputs": [
    {
     "name": "stdout",
     "output_type": "stream",
     "text": [
      "7 1 5 2 5 3 3 4 3 8 "
     ]
    },
    {
     "data": {
      "text/plain": [
       "List Printed "
      ]
     },
     "execution_count": 78,
     "metadata": {},
     "output_type": "execute_result"
    }
   ],
   "source": [
    "L1"
   ]
  },
  {
   "cell_type": "code",
   "execution_count": 79,
   "metadata": {
    "ExecuteTime": {
     "end_time": "2021-07-23T12:51:19.722007Z",
     "start_time": "2021-07-23T12:51:19.633379Z"
    }
   },
   "outputs": [
    {
     "name": "stderr",
     "output_type": "stream",
     "text": [
      "<ipython-input-64-3e1bdf830e98>:30: DeprecationWarning: length of list 9 please don't over this limit\n",
      "  warnings.warn(\n"
     ]
    }
   ],
   "source": [
    "L1.addNodeNthPosition(8,4)"
   ]
  },
  {
   "cell_type": "code",
   "execution_count": 80,
   "metadata": {
    "ExecuteTime": {
     "end_time": "2021-07-23T12:51:19.822410Z",
     "start_time": "2021-07-23T12:51:19.726003Z"
    }
   },
   "outputs": [
    {
     "data": {
      "text/plain": [
       "10"
      ]
     },
     "execution_count": 80,
     "metadata": {},
     "output_type": "execute_result"
    }
   ],
   "source": [
    "L1.LengthList()"
   ]
  },
  {
   "cell_type": "code",
   "execution_count": 81,
   "metadata": {
    "ExecuteTime": {
     "end_time": "2021-07-23T12:51:19.917369Z",
     "start_time": "2021-07-23T12:51:19.826406Z"
    }
   },
   "outputs": [
    {
     "name": "stdout",
     "output_type": "stream",
     "text": [
      "7 1 5 2 5 3 3 4 4 3 8 "
     ]
    },
    {
     "data": {
      "text/plain": [
       "List Printed "
      ]
     },
     "execution_count": 81,
     "metadata": {},
     "output_type": "execute_result"
    }
   ],
   "source": [
    "L1"
   ]
  },
  {
   "cell_type": "code",
   "execution_count": 82,
   "metadata": {
    "ExecuteTime": {
     "end_time": "2021-07-23T12:51:20.020360Z",
     "start_time": "2021-07-23T12:51:19.921366Z"
    }
   },
   "outputs": [],
   "source": [
    "L1.deleteNodeFirstPosition()"
   ]
  },
  {
   "cell_type": "code",
   "execution_count": 83,
   "metadata": {
    "ExecuteTime": {
     "end_time": "2021-07-23T12:51:20.128473Z",
     "start_time": "2021-07-23T12:51:20.025358Z"
    }
   },
   "outputs": [
    {
     "name": "stdout",
     "output_type": "stream",
     "text": [
      "1 5 2 5 3 3 4 4 3 8 "
     ]
    },
    {
     "data": {
      "text/plain": [
       "List Printed "
      ]
     },
     "execution_count": 83,
     "metadata": {},
     "output_type": "execute_result"
    }
   ],
   "source": [
    "L1"
   ]
  },
  {
   "cell_type": "code",
   "execution_count": 84,
   "metadata": {
    "ExecuteTime": {
     "end_time": "2021-07-23T12:51:21.069917Z",
     "start_time": "2021-07-23T12:51:21.064939Z"
    }
   },
   "outputs": [],
   "source": [
    "L1.deleteNodeNthPosition(2)"
   ]
  },
  {
   "cell_type": "code",
   "execution_count": 85,
   "metadata": {
    "ExecuteTime": {
     "end_time": "2021-07-23T12:51:21.510900Z",
     "start_time": "2021-07-23T12:51:21.506902Z"
    }
   },
   "outputs": [],
   "source": [
    "L1.deleteNodeNthPosition(1)"
   ]
  },
  {
   "cell_type": "code",
   "execution_count": 86,
   "metadata": {
    "ExecuteTime": {
     "end_time": "2021-07-23T12:51:21.606843Z",
     "start_time": "2021-07-23T12:51:21.542884Z"
    }
   },
   "outputs": [],
   "source": [
    "L1.deleteNodeLastPosition()"
   ]
  },
  {
   "cell_type": "code",
   "execution_count": 87,
   "metadata": {
    "ExecuteTime": {
     "end_time": "2021-07-23T12:51:21.715658Z",
     "start_time": "2021-07-23T12:51:21.610842Z"
    }
   },
   "outputs": [
    {
     "name": "stdout",
     "output_type": "stream",
     "text": [
      "2 5 3 3 4 4 3 "
     ]
    },
    {
     "data": {
      "text/plain": [
       "List Printed "
      ]
     },
     "execution_count": 87,
     "metadata": {},
     "output_type": "execute_result"
    }
   ],
   "source": [
    "L1"
   ]
  },
  {
   "cell_type": "code",
   "execution_count": 88,
   "metadata": {
    "ExecuteTime": {
     "end_time": "2021-07-23T12:51:23.037236Z",
     "start_time": "2021-07-23T12:51:23.031238Z"
    }
   },
   "outputs": [],
   "source": [
    "L1.deleteNodeLastPosition()"
   ]
  },
  {
   "cell_type": "code",
   "execution_count": 89,
   "metadata": {
    "ExecuteTime": {
     "end_time": "2021-07-23T12:51:23.478981Z",
     "start_time": "2021-07-23T12:51:23.469985Z"
    }
   },
   "outputs": [
    {
     "name": "stdout",
     "output_type": "stream",
     "text": [
      "2 5 3 3 4 4 "
     ]
    },
    {
     "data": {
      "text/plain": [
       "List Printed "
      ]
     },
     "execution_count": 89,
     "metadata": {},
     "output_type": "execute_result"
    }
   ],
   "source": [
    "L1"
   ]
  },
  {
   "cell_type": "code",
   "execution_count": 90,
   "metadata": {
    "ExecuteTime": {
     "end_time": "2021-07-23T12:51:23.630894Z",
     "start_time": "2021-07-23T12:51:23.532949Z"
    }
   },
   "outputs": [
    {
     "name": "stdout",
     "output_type": "stream",
     "text": [
      "2\n",
      "5\n",
      "3\n",
      "3\n",
      "4\n",
      "4\n"
     ]
    }
   ],
   "source": [
    "L1.recurvsivePrint(L1.getHead())"
   ]
  },
  {
   "cell_type": "code",
   "execution_count": null,
   "metadata": {},
   "outputs": [],
   "source": [
    "head=h1\n",
    "head.next=None\n",
    "while(k>0):\n",
    "    temp1=head\n",
    "    head=temp\n",
    "    head.next=temp1\n",
    "    temp=temp.next\n",
    "    k=k-1\n",
    "    \n",
    "while\n",
    "    "
   ]
  },
  {
   "cell_type": "code",
   "execution_count": null,
   "metadata": {},
   "outputs": [],
   "source": []
  },
  {
   "cell_type": "code",
   "execution_count": null,
   "metadata": {},
   "outputs": [],
   "source": []
  },
  {
   "cell_type": "code",
   "execution_count": null,
   "metadata": {},
   "outputs": [],
   "source": []
  }
 ],
 "metadata": {
  "kernelspec": {
   "display_name": "Python 3",
   "language": "python",
   "name": "python3"
  },
  "language_info": {
   "codemirror_mode": {
    "name": "ipython",
    "version": 3
   },
   "file_extension": ".py",
   "mimetype": "text/x-python",
   "name": "python",
   "nbconvert_exporter": "python",
   "pygments_lexer": "ipython3",
   "version": "3.8.5"
  },
  "toc": {
   "base_numbering": 1,
   "nav_menu": {},
   "number_sections": true,
   "sideBar": true,
   "skip_h1_title": false,
   "title_cell": "Table of Contents",
   "title_sidebar": "Contents",
   "toc_cell": false,
   "toc_position": {},
   "toc_section_display": true,
   "toc_window_display": false
  }
 },
 "nbformat": 4,
 "nbformat_minor": 4
}

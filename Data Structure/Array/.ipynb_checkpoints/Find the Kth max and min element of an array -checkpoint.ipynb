{
 "cells": [
  {
   "cell_type": "code",
   "execution_count": 61,
   "metadata": {
    "ExecuteTime": {
     "end_time": "2021-06-24T08:04:33.626921Z",
     "start_time": "2021-06-24T08:04:33.620927Z"
    }
   },
   "outputs": [],
   "source": [
    "l1=[2,4,1,90,16]\n"
   ]
  },
  {
   "cell_type": "code",
   "execution_count": 76,
   "metadata": {
    "ExecuteTime": {
     "end_time": "2021-06-24T08:06:31.880481Z",
     "start_time": "2021-06-24T08:06:31.870488Z"
    }
   },
   "outputs": [],
   "source": [
    "def kth_max(l,kth_max):\n",
    "    \n",
    "    for j in range(kth_max):\n",
    "        \n",
    "        for i in range(len(l)-j-1):\n",
    "            if l[i]>l[i+1]:\n",
    "                l[i],l[i+1]=l[i+1],l[i]\n",
    "        print(l)\n",
    "                \n",
    "        \n",
    "    return l[-kth_max]\n",
    "    \n",
    "    \n",
    "    "
   ]
  },
  {
   "cell_type": "code",
   "execution_count": 85,
   "metadata": {
    "ExecuteTime": {
     "end_time": "2021-06-24T08:07:48.622367Z",
     "start_time": "2021-06-24T08:07:48.612373Z"
    }
   },
   "outputs": [
    {
     "name": "stdout",
     "output_type": "stream",
     "text": [
      "[2, 1, 4, 16, 90]\n",
      "[1, 2, 4, 16, 90]\n",
      "[1, 2, 4, 16, 90]\n",
      "[1, 2, 4, 16, 90]\n",
      "[1, 2, 4, 16, 90]\n"
     ]
    },
    {
     "data": {
      "text/plain": [
       "1"
      ]
     },
     "execution_count": 85,
     "metadata": {},
     "output_type": "execute_result"
    }
   ],
   "source": [
    "kth_max(l1[:],5) # kth_max=len(l1) : bubble sort"
   ]
  },
  {
   "cell_type": "code",
   "execution_count": null,
   "metadata": {},
   "outputs": [],
   "source": []
  },
  {
   "cell_type": "code",
   "execution_count": null,
   "metadata": {},
   "outputs": [],
   "source": []
  },
  {
   "cell_type": "markdown",
   "metadata": {},
   "source": [
    "## Implement 2 smallest element"
   ]
  },
  {
   "cell_type": "code",
   "execution_count": 92,
   "metadata": {
    "ExecuteTime": {
     "end_time": "2021-06-24T08:38:00.769764Z",
     "start_time": "2021-06-24T08:38:00.759769Z"
    }
   },
   "outputs": [
    {
     "name": "stdout",
     "output_type": "stream",
     "text": [
      "[2, 1, 4, 16, 90]\n",
      "[1, 2, 4, 16, 90]\n",
      "[1, 2, 4, 16, 90]\n",
      "[1, 2, 4, 16, 90]\n",
      "1\n"
     ]
    }
   ],
   "source": [
    "arr=l1[:]\n",
    "r=len(arr)-1\n",
    "k=1\n",
    "for j in range(r):\n",
    "        \n",
    "            for i in range(r):\n",
    "                if arr[i]>arr[i+1]:\n",
    "                    arr[i+1],arr[i]=arr[i],arr[i+1]\n",
    "            print(arr)\n",
    "            \n",
    "print(arr[k-1])\n",
    "        \n",
    "          \n",
    "\n",
    "    "
   ]
  },
  {
   "cell_type": "code",
   "execution_count": null,
   "metadata": {},
   "outputs": [],
   "source": []
  }
 ],
 "metadata": {
  "kernelspec": {
   "display_name": "Python 3",
   "language": "python",
   "name": "python3"
  },
  "language_info": {
   "codemirror_mode": {
    "name": "ipython",
    "version": 3
   },
   "file_extension": ".py",
   "mimetype": "text/x-python",
   "name": "python",
   "nbconvert_exporter": "python",
   "pygments_lexer": "ipython3",
   "version": "3.8.5"
  },
  "toc": {
   "base_numbering": 1,
   "nav_menu": {},
   "number_sections": true,
   "sideBar": true,
   "skip_h1_title": false,
   "title_cell": "Table of Contents",
   "title_sidebar": "Contents",
   "toc_cell": false,
   "toc_position": {},
   "toc_section_display": true,
   "toc_window_display": false
  }
 },
 "nbformat": 4,
 "nbformat_minor": 4
}

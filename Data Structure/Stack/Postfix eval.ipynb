{
 "cells": [
  {
   "cell_type": "code",
   "execution_count": 28,
   "metadata": {
    "ExecuteTime": {
     "end_time": "2021-07-11T14:50:10.725455Z",
     "start_time": "2021-07-11T14:50:10.709456Z"
    }
   },
   "outputs": [],
   "source": [
    "class Eval_Post(object):\n",
    "    def __init__(self, expr):\n",
    "        self.stack = []\n",
    "        self.expr = expr+\" )\"\n",
    "#         self.eval = []\n",
    "        self.top = 0\n",
    "\n",
    "    def push(self, x):\n",
    "        self.top += 1\n",
    "        self.stack.append(x)\n",
    "\n",
    "    def pop(self):\n",
    "        if self.top == -1:\n",
    "            print(\"Stack empty\")\n",
    "            return\n",
    "        else:\n",
    "            self.top -= 1\n",
    "            return self.stack.pop()\n",
    "\n",
    "    def evaluation(self):\n",
    "        try:\n",
    "            self.expr = self.expr.split(\" \")\n",
    "            i = 0\n",
    "\n",
    "            while(self.expr[i] != ')'):\n",
    "\n",
    "\n",
    "                        if self.expr[i].isdigit():\n",
    "                            self.push(int(self.expr[i]))\n",
    "                            i+=1\n",
    "                        else:\n",
    "                            val1 = self.pop()\n",
    "                            val2 = self.pop()\n",
    "\n",
    "                            # switch statement to perform operation\n",
    "                            switcher ={'+':val2 + val1, '-':val2-val1, '*':val2 * val1, '/':val2 / val1, '^':val2**val1}\n",
    "                            self.push(switcher.get(self.expr[i]))\n",
    "                            i+=1\n",
    "        except :\n",
    "                print(\"Error Your Expression should be space seprated\\n\")\n",
    "                print(\"Example:\",\"'7 6 2 + * 12 4 / -'\")\n",
    "                return None\n",
    "            \n",
    "\n",
    "                \n",
    "                \n",
    "\n",
    "        \n",
    "        return self.stack.pop()                "
   ]
  },
  {
   "cell_type": "code",
   "execution_count": 29,
   "metadata": {
    "ExecuteTime": {
     "end_time": "2021-07-11T14:50:11.287439Z",
     "start_time": "2021-07-11T14:50:11.279440Z"
    }
   },
   "outputs": [],
   "source": [
    "exp=\"100 200 + 2 / 5 * 7 +\""
   ]
  },
  {
   "cell_type": "code",
   "execution_count": 30,
   "metadata": {
    "ExecuteTime": {
     "end_time": "2021-07-11T14:50:11.825900Z",
     "start_time": "2021-07-11T14:50:11.809901Z"
    },
    "scrolled": false
   },
   "outputs": [
    {
     "data": {
      "text/plain": [
       "757.0"
      ]
     },
     "execution_count": 30,
     "metadata": {},
     "output_type": "execute_result"
    }
   ],
   "source": [
    "b=Eval_Post(exp)\n",
    "b.evaluation()"
   ]
  },
  {
   "cell_type": "code",
   "execution_count": null,
   "metadata": {},
   "outputs": [],
   "source": []
  }
 ],
 "metadata": {
  "kernelspec": {
   "display_name": "Python 3",
   "language": "python",
   "name": "python3"
  },
  "language_info": {
   "codemirror_mode": {
    "name": "ipython",
    "version": 3
   },
   "file_extension": ".py",
   "mimetype": "text/x-python",
   "name": "python",
   "nbconvert_exporter": "python",
   "pygments_lexer": "ipython3",
   "version": "3.8.5"
  },
  "toc": {
   "base_numbering": 1,
   "nav_menu": {},
   "number_sections": true,
   "sideBar": true,
   "skip_h1_title": false,
   "title_cell": "Table of Contents",
   "title_sidebar": "Contents",
   "toc_cell": false,
   "toc_position": {},
   "toc_section_display": true,
   "toc_window_display": false
  }
 },
 "nbformat": 4,
 "nbformat_minor": 4
}

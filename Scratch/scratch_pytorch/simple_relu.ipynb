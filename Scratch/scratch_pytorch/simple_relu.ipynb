{
 "cells": [
  {
   "cell_type": "code",
   "execution_count": null,
   "metadata": {},
   "outputs": [],
   "source": [
    "import numpy as np\n",
    "from numpy import ndarray\n",
    "from typing import Callable,List"
   ]
  },
  {
   "cell_type": "markdown",
   "metadata": {},
   "source": [
    "## Relu"
   ]
  },
  {
   "cell_type": "code",
   "execution_count": 5,
   "metadata": {},
   "outputs": [],
   "source": [
    "\n",
    "\n",
    "def leaky_relu(x: ndarray)->ndarray:\n",
    "\n",
    "    '''Apply \"leaky_relu\" function to each element in array'''\n",
    "\n",
    "    return np.maximum(0.2*x,x)"
   ]
  },
  {
   "cell_type": "code",
   "execution_count": 22,
   "metadata": {},
   "outputs": [],
   "source": [
    "def simple_fun(x: ndarray)->ndarray:\n",
    "\n",
    "    '''Apply \"simple_fun\" function to each element in array'''\n",
    "\n",
    "    return x*2"
   ]
  },
  {
   "cell_type": "markdown",
   "metadata": {},
   "source": [
    "## Derivaties"
   ]
  },
  {
   "cell_type": "code",
   "execution_count": 23,
   "metadata": {},
   "outputs": [],
   "source": [
    "from typing import Callable"
   ]
  },
  {
   "cell_type": "code",
   "execution_count": 24,
   "metadata": {},
   "outputs": [],
   "source": [
    "def dev(fun:Callable[[ndarray],ndarray],input_:ndarray,delta:float=0.02)->ndarray:\n",
    "\n",
    "    '''Evaluates the derivative of a function \"func\" at every element in the\n",
    "    input_ array.'''\n",
    "\n",
    "    return (fun(input_+delta)-fun(input_-delta))/(2*delta)\n",
    "\n"
   ]
  },
  {
   "cell_type": "markdown",
   "metadata": {},
   "source": [
    "## Nested Function"
   ]
  },
  {
   "cell_type": "code",
   "execution_count": 25,
   "metadata": {},
   "outputs": [
    {
     "data": {
      "text/plain": [
       "array([134.,   4.,   6.])"
      ]
     },
     "execution_count": 25,
     "metadata": {},
     "output_type": "execute_result"
    }
   ],
   "source": [
    "from typing import List\n",
    "\n",
    "Array_Function=Callable[[ndarray],ndarray]\n",
    "\n",
    "Chain=List[Array_Function]\n",
    "\n",
    "\n",
    "def chain_lenght_2(chain: Chain,x:ndarray)->ndarray:\n",
    "    '''\n",
    "    Evalute of Function two chain \n",
    "    '''\n",
    "    \n",
    "    assert len(chain)==2 ,\\\n",
    "    \"chain length is not equal 2\"\n",
    "    \n",
    "    f1=chain[0]\n",
    "    f2=chain[1]\n",
    "\n",
    "    return f2(f1(x))\n",
    "\n",
    "chain=[leaky_relu,simple_fun]\n",
    "x=np.array([67,2,3])\n",
    "\n",
    "chain_lenght_2(chain=chain,x=x)\n",
    "\n"
   ]
  },
  {
   "cell_type": "code",
   "execution_count": null,
   "metadata": {},
   "outputs": [],
   "source": [
    "Page=27"
   ]
  }
 ],
 "metadata": {
  "kernelspec": {
   "display_name": "Python 3",
   "language": "python",
   "name": "python3"
  },
  "language_info": {
   "codemirror_mode": {
    "name": "ipython",
    "version": 3
   },
   "file_extension": ".py",
   "mimetype": "text/x-python",
   "name": "python",
   "nbconvert_exporter": "python",
   "pygments_lexer": "ipython3",
   "version": "3.8.10"
  }
 },
 "nbformat": 4,
 "nbformat_minor": 2
}

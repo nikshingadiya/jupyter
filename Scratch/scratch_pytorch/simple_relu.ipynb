{
 "cells": [
  {
   "cell_type": "code",
   "execution_count": 1,
   "metadata": {},
   "outputs": [],
   "source": [
    "import numpy as np\n",
    "from numpy import ndarray\n",
    "from typing import Callable,List\n",
    "from numpy import poly1d as pld\n",
    "\n"
   ]
  },
  {
   "cell_type": "markdown",
   "metadata": {},
   "source": [
    "## Relu"
   ]
  },
  {
   "cell_type": "code",
   "execution_count": 35,
   "metadata": {},
   "outputs": [],
   "source": [
    "\n",
    "\n",
    "def leaky_relu(x: ndarray)->ndarray:\n",
    "\n",
    "    '''Apply \"leaky_relu\" function to each element in array'''\n",
    "\n",
    "    return np.maximum(0.2*x,x)"
   ]
  },
  {
   "cell_type": "code",
   "execution_count": 36,
   "metadata": {},
   "outputs": [],
   "source": [
    "def simple_fun(x: ndarray)->ndarray:\n",
    "\n",
    "    '''Apply \"simple_fun\" function to each element in array'''\n",
    "\n",
    "    return x**2"
   ]
  },
  {
   "cell_type": "code",
   "execution_count": 67,
   "metadata": {},
   "outputs": [],
   "source": [
    "\n",
    "def sigmoid(x: ndarray)->ndarray:\n",
    "    '''sigmoid value return'''\n",
    "    return 1/(1+np.e**(-x))"
   ]
  },
  {
   "cell_type": "markdown",
   "metadata": {},
   "source": [
    "## Derivaties"
   ]
  },
  {
   "cell_type": "code",
   "execution_count": 68,
   "metadata": {},
   "outputs": [],
   "source": [
    "from sympy import *\n",
    "import numpy as np\n",
    "\n",
    "def fun_derive(func,value:ndarray)->ndarray:\n",
    "    x = Symbol('x')\n",
    "    expr = func(x)\n",
    "    derivative_expr = expr.diff(x)\n",
    "    f = lambdify(x, derivative_expr, 'numpy')\n",
    "    derive_value=f(value)\n",
    "    return derive_value\n"
   ]
  },
  {
   "cell_type": "code",
   "execution_count": 69,
   "metadata": {},
   "outputs": [],
   "source": [
    "from typing import Callable"
   ]
  },
  {
   "cell_type": "code",
   "execution_count": 70,
   "metadata": {},
   "outputs": [],
   "source": [
    "def dev(fun:Callable[[ndarray],ndarray],input_:ndarray,delta:float=0.02)->ndarray:\n",
    "\n",
    "    '''Evaluates the derivative of a function \"func\" at every element in the\n",
    "    input_ array.'''\n",
    "\n",
    "    return (fun(input_+delta)-fun(input_-delta))/(2*delta)\n",
    "\n"
   ]
  },
  {
   "cell_type": "markdown",
   "metadata": {},
   "source": [
    "## Nested Function"
   ]
  },
  {
   "cell_type": "code",
   "execution_count": 71,
   "metadata": {},
   "outputs": [
    {
     "data": {
      "text/plain": [
       "array([1.3467e+04, 1.2000e+01, 2.7000e+01])"
      ]
     },
     "execution_count": 71,
     "metadata": {},
     "output_type": "execute_result"
    }
   ],
   "source": [
    "from typing import List\n",
    "\n",
    "Array_Function=Callable[[ndarray],ndarray]\n",
    "\n",
    "Chain=List[Array_Function]\n",
    "\n",
    "\n",
    "def chain_lenght_2(chain: Chain,x:ndarray)->ndarray:\n",
    "    '''\n",
    "    Evalute of Function two chain \n",
    "    '''\n",
    "    \n",
    "    assert len(chain)==2 ,\\\n",
    "    \"chain length is not equal 2\"\n",
    "    \n",
    "    f1=chain[0]\n",
    "    f2=chain[1]\n",
    "\n",
    "    return f2(f1(x))\n",
    "\n",
    "chain=[leaky_relu,simple_fun]\n",
    "x=np.array([67,2,3])\n",
    "\n",
    "chain_lenght_2(chain=chain,x=x)\n",
    "\n"
   ]
  },
  {
   "cell_type": "markdown",
   "metadata": {},
   "source": [
    "## derivation of chain\n"
   ]
  },
  {
   "cell_type": "code",
   "execution_count": 72,
   "metadata": {},
   "outputs": [],
   "source": [
    "import numpy as np\n",
    "\n",
    "def deriv_1(f: Callable, x: ndarray, eps: float = 1e-6) -> ndarray:\n",
    "    '''Compute the derivative of a function using finite differences'''\n",
    "    return (f(x + eps) - f(x - eps)) / (2 * eps)"
   ]
  },
  {
   "cell_type": "code",
   "execution_count": 73,
   "metadata": {},
   "outputs": [],
   "source": [
    "def chain_lenght_2_deriv(chain: Chain,input_range:ndarray)->ndarray:\n",
    "    '''\n",
    "    Deriv of Function two chain \n",
    "    '''\n",
    "    \n",
    "    assert len(chain)==2 ,\\\n",
    "    \"chain length is not equal 2\"\n",
    "\n",
    "    assert input_range.ndim == 1, \\\n",
    "    \"Function requires a 1 dimensional ndarray as input_range\"\n",
    "    f1=chain[0]\n",
    "    f2=chain[1]\n",
    "\n",
    "    \n",
    "    f1_of_x=f1(input_range)\n",
    "\n",
    "    #df1/du\n",
    "    f1_deriv=fun_derive(f1,input_range)\n",
    "\n",
    "    #df2/du\n",
    "    f2_deriv=fun_derive(f2,f1_of_x)\n",
    "\n",
    "    return f1_deriv*f2_deriv"
   ]
  },
  {
   "cell_type": "code",
   "execution_count": 74,
   "metadata": {},
   "outputs": [],
   "source": [
    "PLOT_RANG=np.arange(-3,3,0.01)"
   ]
  },
  {
   "cell_type": "code",
   "execution_count": 75,
   "metadata": {},
   "outputs": [],
   "source": [
    "chain1=[simple_fun,sigmoid]\n",
    "chain2=[sigmoid,simple_fun]\n"
   ]
  },
  {
   "cell_type": "code",
   "execution_count": 90,
   "metadata": {},
   "outputs": [],
   "source": [
    "y0=chain_lenght_2(chain1,PLOT_RANG)\n",
    "y=chain_lenght_2_deriv(chain1,PLOT_RANG)\n"
   ]
  },
  {
   "cell_type": "code",
   "execution_count": 91,
   "metadata": {},
   "outputs": [
    {
     "data": {
      "image/png": "[encoded data removed]",
      "text/plain": [
       "<Figure size 640x480 with 1 Axes>"
      ]
     },
     "metadata": {},
     "output_type": "display_data"
    }
   ],
   "source": [
    "import matplotlib.pyplot as plt\n",
    "plt.plot(PLOT_RANG,y0)\n",
    "plt.plot(PLOT_RANG,y)\n",
    "plt.show()"
   ]
  },
  {
   "cell_type": "code",
   "execution_count": null,
   "metadata": {},
   "outputs": [],
   "source": [
    "import matplotlib.pyplot as plt\n",
    "plt.plot(PLOT_RANG,y)\n",
    "\n",
    "plt.show()"
   ]
  },
  {
   "cell_type": "code",
   "execution_count": 77,
   "metadata": {},
   "outputs": [
    {
     "name": "stdout",
     "output_type": "stream",
     "text": [
      "[0.19661193 0.10499359 0.04517666 0.01766271 0.00664806]\n"
     ]
    }
   ],
   "source": [
    "\n",
    "# # Example usage\n",
    "# def my_function(x):\n",
    "#     return x**2 + 1\n",
    "\n",
    "# # Convert the derivative of my_function into a numpy function\n",
    "# # f_derivative = function_to_numpy_derivative(my_function)\n",
    "\n",
    "# # Evaluate the derivative function at some points\n",
    "# x_values = np.array([1.0, 2.0, 3.0, 4.0, 5.0])\n",
    "# derivative_values = function_to_numpy_derivative(sigmoid,value=x_values)\n",
    "\n",
    "# print(derivative_values)\n"
   ]
  },
  {
   "cell_type": "code",
   "execution_count": null,
   "metadata": {},
   "outputs": [],
   "source": []
  },
  {
   "cell_type": "code",
   "execution_count": null,
   "metadata": {},
   "outputs": [],
   "source": []
  }
 ],
 "metadata": {
  "kernelspec": {
   "display_name": "Python 3",
   "language": "python",
   "name": "python3"
  },
  "language_info": {
   "codemirror_mode": {
    "name": "ipython",
    "version": 3
   },
   "file_extension": ".py",
   "mimetype": "text/x-python",
   "name": "python",
   "nbconvert_exporter": "python",
   "pygments_lexer": "ipython3",
   "version": "3.8.10"
  }
 },
 "nbformat": 4,
 "nbformat_minor": 2
}

{
 "cells": [
  {
   "cell_type": "code",
   "execution_count": null,
   "metadata": {},
   "outputs": [],
   "source": [
    "import numpy as np\n",
    "import matplotlib.pyplot as plt\n",
    "import h5py\n",
    "import scipy\n",
    "from PIL import Image\n",
    "from scipy import ndimage\n",
    "from lr_utils import load_dataset\n",
    "\n",
    "%matplotlib inline"
   ]
  },
  {
   "attachments": {},
   "cell_type": "markdown",
   "metadata": {},
   "source": [
    "## sigmoid  \n",
    "s=1+(1/1+e^(-z))"
   ]
  },
  {
   "cell_type": "code",
   "execution_count": 3,
   "metadata": {},
   "outputs": [],
   "source": [
    "def sigmoid(z):\n",
    "\n",
    "    score=1/(1+np.e**(-z))\n",
    "\n",
    "    return score\n",
    "\n",
    "\n"
   ]
  },
  {
   "cell_type": "code",
   "execution_count": 8,
   "metadata": {},
   "outputs": [
    {
     "name": "stdout",
     "output_type": "stream",
     "text": [
      "sigmoid([0, 2]) = [0.5        0.88079708]\n"
     ]
    }
   ],
   "source": [
    "print(\"sigmoid([0, 2]) = \" + str(sigmoid(np.array([0,2]))))"
   ]
  },
  {
   "cell_type": "code",
   "execution_count": 9,
   "metadata": {},
   "outputs": [
    {
     "data": {
      "text/plain": [
       "array([0.73105858, 0.88079708])"
      ]
     },
     "execution_count": 9,
     "metadata": {},
     "output_type": "execute_result"
    }
   ],
   "source": [
    "sigmoid(np.array([1,2]))"
   ]
  },
  {
   "attachments": {},
   "cell_type": "markdown",
   "metadata": {},
   "source": [
    "## Initilize dimensions\n",
    "z=w*x^(i)+b"
   ]
  },
  {
   "cell_type": "code",
   "execution_count": 15,
   "metadata": {},
   "outputs": [],
   "source": [
    "def initialize_with_zeros(dim):\n",
    "    \"\"\"\n",
    "    This function creates a vector of zerX=np.array([[1,1]])os of shape (dim, 1) for w and initializes b to 0.\n",
    "    \n",
    "    Argument:\n",
    "    dim -- size of the w vector we want (or number of parameters in this case)\n",
    "    \n",
    "    Returns:\n",
    "    w -- initialized vector of shape (dim, 1)\n",
    "    b -- initialized scalar (corresponds to the bias)\n",
    "    \"\"\"\n",
    "\n",
    "    w=np.zeros((dim,1))\n",
    "    b=0\n",
    "\n",
    "    assert (w.shape==(dim,1))\n",
    "    assert(isinstance(b, float) or isinstance(b, int))\n",
    "\n",
    "    return w,b\n",
    "\n",
    "\n",
    "    \n",
    "\n",
    "\n",
    "    "
   ]
  },
  {
   "cell_type": "code",
   "execution_count": 16,
   "metadata": {},
   "outputs": [
    {
     "data": {
      "text/plain": [
       "(array([[0.],\n",
       "        [0.],\n",
       "        [0.],\n",
       "        [0.]]),\n",
       " 0)"
      ]
     },
     "execution_count": 16,
     "metadata": {},
     "output_type": "execute_result"
    }
   ],
   "source": [
    "initialize_with_zeros(4)"
   ]
  },
  {
   "attachments": {},
   "cell_type": "markdown",
   "metadata": {},
   "source": [
    "<math xmlns=\"http://www.w3.org/1998/Math/MathML\">\n",
    "  <mi>A</mi>\n",
    "  <mo>=</mo>\n",
    "  <mi>&#x03C3;<!-- σ --></mi>\n",
    "  <mo stretchy=\"false\">(</mo>\n",
    "  <msup>\n",
    "    <mi>w</mi>\n",
    "    <mi>T</mi>\n",
    "  </msup>\n",
    "  <mi>X</mi>\n",
    "  <mo>+</mo>\n",
    "  <mi>b</mi>\n",
    "  <mo stretchy=\"false\">)</mo>\n",
    "  <mo>=</mo>\n",
    "  <mo stretchy=\"false\">(</mo>\n",
    "  <msup>\n",
    "    <mi>a</mi>\n",
    "    <mrow>\n",
    "      <mo stretchy=\"false\">(</mo>\n",
    "      <mn>1</mn>\n",
    "      <mo stretchy=\"false\">)</mo>\n",
    "    </mrow>\n",
    "  </msup>\n",
    "  <mo>,</mo>\n",
    "  <msup>\n",
    "    <mi>a</mi>\n",
    "    <mrow>\n",
    "      <mo stretchy=\"false\">(</mo>\n",
    "      <mn>2</mn>\n",
    "      <mo stretchy=\"false\">)</mo>\n",
    "    </mrow>\n",
    "  </msup>\n",
    "  <mo>,</mo>\n",
    "  <mo>.</mo>\n",
    "  <mo>.</mo>\n",
    "  <mo>.</mo>\n",
    "  <mo>,</mo>\n",
    "  <msup>\n",
    "    <mi>a</mi>\n",
    "    <mrow>\n",
    "      <mo stretchy=\"false\">(</mo>\n",
    "      <mi>m</mi>\n",
    "      <mo>&#x2212;<!-- − --></mo>\n",
    "      <mn>1</mn>\n",
    "      <mo stretchy=\"false\">)</mo>\n",
    "    </mrow>\n",
    "  </msup>\n",
    "  <mo>,</mo>\n",
    "  <msup>\n",
    "    <mi>a</mi>\n",
    "    <mrow>\n",
    "      <mo stretchy=\"false\">(</mo>\n",
    "      <mi>m</mi>\n",
    "      <mo stretchy=\"false\">)</mo>\n",
    "    </mrow>\n",
    "  </msup>\n",
    "  <mo stretchy=\"false\">)</mo>\n",
    "</math>\n"
   ]
  },
  {
   "attachments": {},
   "cell_type": "markdown",
   "metadata": {},
   "source": [
    "<math xmlns=\"http://www.w3.org/1998/Math/MathML\" display=\"block\">\n",
    "  <mtable displaystyle=\"true\">\n",
    "    <mlabeledtr>\n",
    "      <mtd id=\"mjx-eqn-3\">\n",
    "        <mtext>(3)</mtext>\n",
    "      </mtd>\n",
    "      <mtd>\n",
    "              <mi class=\"MJX-tex-caligraphic\" mathvariant=\"script\">L</mi>\n",
    "        <mo stretchy=\"false\">(</mo>\n",
    "        <msup>\n",
    "          <mi>a</mi>\n",
    "          <mrow>\n",
    "            <mo stretchy=\"false\">(</mo>\n",
    "            <mi>i</mi>\n",
    "            <mo stretchy=\"false\">)</mo>\n",
    "          </mrow>\n",
    "        </msup>\n",
    "        <mo>,</mo>\n",
    "        <msup>\n",
    "          <mi>y</mi>\n",
    "          <mrow>\n",
    "            <mo stretchy=\"false\">(</mo>\n",
    "            <mi>i</mi>\n",
    "            <mo stretchy=\"false\">)</mo>\n",
    "          </mrow>\n",
    "        </msup>\n",
    "        <mo stretchy=\"false\">)</mo>\n",
    "        <mo>=</mo>\n",
    "        <mo>&#x2212;<!-- − --></mo>\n",
    "        <msup>\n",
    "          <mi>y</mi>\n",
    "          <mrow>\n",
    "            <mo stretchy=\"false\">(</mo>\n",
    "            <mi>i</mi>\n",
    "            <mo stretchy=\"false\">)</mo>\n",
    "          </mrow>\n",
    "        </msup>\n",
    "        <mi>log</mi>\n",
    "        <mo>&#x2061;<!-- ⁡ --></mo>\n",
    "        <mo stretchy=\"false\">(</mo>\n",
    "        <msup>\n",
    "          <mi>a</mi>\n",
    "          <mrow>\n",
    "            <mo stretchy=\"false\">(</mo>\n",
    "            <mi>i</mi>\n",
    "            <mo stretchy=\"false\">)</mo>\n",
    "          </mrow>\n",
    "        </msup>\n",
    "        <mo stretchy=\"false\">)</mo>\n",
    "        <mo>&#x2212;<!-- − --></mo>\n",
    "        <mo stretchy=\"false\">(</mo>\n",
    "        <mn>1</mn>\n",
    "        <mo>&#x2212;<!-- − --></mo>\n",
    "        <msup>\n",
    "          <mi>y</mi>\n",
    "          <mrow>\n",
    "            <mo stretchy=\"false\">(</mo>\n",
    "            <mi>i</mi>\n",
    "            <mo stretchy=\"false\">)</mo>\n",
    "          </mrow>\n",
    "        </msup>\n",
    "        <mo stretchy=\"false\">)</mo>\n",
    "        <mi>log</mi>\n",
    "        <mo>&#x2061;<!-- ⁡ --></mo>\n",
    "        <mo stretchy=\"false\">(</mo>\n",
    "        <mn>1</mn>\n",
    "        <mo>&#x2212;<!-- − --></mo>\n",
    "        <msup>\n",
    "          <mi>a</mi>\n",
    "          <mrow>\n",
    "            <mo stretchy=\"false\">(</mo>\n",
    "            <mi>i</mi>\n",
    "            <mo stretchy=\"false\">)</mo>\n",
    "          </mrow>\n",
    "        </msup>\n",
    "        <mo stretchy=\"false\">)</mo>\n",
    "      </mtd>\n",
    "    </mlabeledtr>\n",
    "  </mtable>\n",
    "</math>\n"
   ]
  },
  {
   "cell_type": "code",
   "execution_count": null,
   "metadata": {},
   "outputs": [],
   "source": [
    "pip install nbconvert"
   ]
  },
  {
   "attachments": {},
   "cell_type": "markdown",
   "metadata": {},
   "source": [
    "$$\n",
    "J = -\\frac{1}{m}\\sum_{i=1}^{m}y^{(i)}\\log(a^{(i)})+(1-y^{(i)})\\log(1-a^{(i)})\n",
    "$$"
   ]
  },
  {
   "cell_type": "code",
   "execution_count": 43,
   "metadata": {},
   "outputs": [],
   "source": [
    "def propagate(w, b, X, Y):\n",
    "    \n",
    "    m=X.shape[1]\n",
    "    \n",
    "    A=sigmoid(np.dot(w.T,X)+b)\n",
    "\n",
    "    cost = (np.sum((-np.log(A)*Y)+(-np.log(1-A)*(1-Y))))/m\n",
    "\n",
    "    dw = (np.dot(X,(A-Y).T))/m\n",
    "    db = (np.sum(A-Y))/m\n",
    "\n",
    "\n",
    "    assert(dw.shape == w.shape)\n",
    "    assert(db.dtype == float)\n",
    "    cost = np.squeeze(cost)\n",
    "    assert(cost.shape == ())\n",
    "    \n",
    "    grads = {\"dw\": dw,\n",
    "             \"db\": db}\n",
    "    \n",
    "    return grads, cost"
   ]
  },
  {
   "cell_type": "code",
   "execution_count": 44,
   "metadata": {},
   "outputs": [],
   "source": [
    "w=np.array([[1.],[2.]])\n",
    "b=1\n",
    "X=np.array([[1.,2.,-1.],[3.,4.,-3.2]])\n",
    "y=np.array([1,0,1])"
   ]
  },
  {
   "cell_type": "code",
   "execution_count": 51,
   "metadata": {},
   "outputs": [],
   "source": [
    "def optimize(w, b, X, Y, num_iterations, learning_rate, print_cost = False):\n",
    "    costs = []\n",
    "    for i in range(num_iterations):\n",
    "\n",
    "        grads,cost=propagate(w,b,X,Y)\n",
    "\n",
    "        dw = grads[\"dw\"]\n",
    "        db = grads[\"db\"]\n",
    "\n",
    "        w=w-(learning_rate)*dw\n",
    "        b=b-(learning_rate)*db\n",
    "\n",
    "        if i % 100 == 0:\n",
    "            costs.append(cost)\n",
    "        \n",
    "        # Print the cost every 100 training iterations\n",
    "        if print_cost and i % 100 == 0:\n",
    "            print (\"Cost after iteration %i: %f\" %(i, cost))\n",
    "        \n",
    "    params = {\"w\": w,\n",
    "              \"b\": b}\n",
    "    \n",
    "    grads = {\"dw\": dw,\n",
    "             \"db\": db}\n",
    "\n",
    "    return params, grads, costs\n"
   ]
  },
  {
   "cell_type": "code",
   "execution_count": 52,
   "metadata": {},
   "outputs": [],
   "source": [
    "w=np.array([[1.],[2.]])\n",
    "b=1\n",
    "X=np.array([[1.,2.,-1.],[3.,4.,-3.2]])\n",
    "Y=np.array([1,0,1])"
   ]
  },
  {
   "cell_type": "code",
   "execution_count": 55,
   "metadata": {},
   "outputs": [
    {
     "name": "stdout",
     "output_type": "stream",
     "text": [
      "Cost after iteration 0: 5.800671\n",
      "Cost after iteration 100: 5.733191\n",
      "Cost after iteration 200: 5.665723\n",
      "Cost after iteration 300: 5.598266\n",
      "Cost after iteration 400: 5.530822\n",
      "Cost after iteration 500: 5.463393\n",
      "Cost after iteration 600: 5.395978\n",
      "Cost after iteration 700: 5.328581\n",
      "Cost after iteration 800: 5.261201\n",
      "Cost after iteration 900: 5.193841\n"
     ]
    }
   ],
   "source": [
    "result=optimize(w, b, X, Y, 1000, 0.0001, print_cost = True)"
   ]
  },
  {
   "cell_type": "code",
   "execution_count": 66,
   "metadata": {},
   "outputs": [
    {
     "data": {
      "text/plain": [
       "(2, 1)"
      ]
     },
     "execution_count": 66,
     "metadata": {},
     "output_type": "execute_result"
    }
   ],
   "source": [
    "result[0]['w'].shape\n"
   ]
  },
  {
   "cell_type": "code",
   "execution_count": 74,
   "metadata": {},
   "outputs": [],
   "source": [
    "def predict(X,result):\n",
    "    m = X.shape[1]\n",
    "    Y_prediction = np.zeros((1,m))\n",
    "    w=result[0]['w']\n",
    "    b=result[0]['b']\n",
    "    w = w.reshape(X.shape[0], 1)\n",
    "\n",
    "    A=sigmoid(np.dot(w.T,X)+b)\n",
    "\n",
    "    print(A)\n",
    "\n",
    "\n",
    "    \n",
    "\n"
   ]
  },
  {
   "cell_type": "code",
   "execution_count": 77,
   "metadata": {},
   "outputs": [],
   "source": [
    "X = np.array([[1.,-1.1,-3.2],[1.2,2.,0.1]])"
   ]
  },
  {
   "cell_type": "code",
   "execution_count": 79,
   "metadata": {},
   "outputs": [
    {
     "data": {
      "text/plain": [
       "(2, 3)"
      ]
     },
     "execution_count": 79,
     "metadata": {},
     "output_type": "execute_result"
    }
   ],
   "source": [
    "X.shape"
   ]
  },
  {
   "cell_type": "code",
   "execution_count": 78,
   "metadata": {},
   "outputs": [
    {
     "name": "stdout",
     "output_type": "stream",
     "text": [
      "[[0.98223224 0.97154288 0.15389421]]\n"
     ]
    }
   ],
   "source": [
    "predict(X,result)"
   ]
  },
  {
   "cell_type": "code",
   "execution_count": null,
   "metadata": {},
   "outputs": [],
   "source": []
  },
  {
   "cell_type": "code",
   "execution_count": null,
   "metadata": {},
   "outputs": [],
   "source": []
  }
 ],
 "metadata": {
  "kernelspec": {
   "display_name": "Python 3",
   "language": "python",
   "name": "python3"
  },
  "language_info": {
   "codemirror_mode": {
    "name": "ipython",
    "version": 3
   },
   "file_extension": ".py",
   "mimetype": "text/x-python",
   "name": "python",
   "nbconvert_exporter": "python",
   "pygments_lexer": "ipython3",
   "version": "3.8.10"
  },
  "orig_nbformat": 4
 },
 "nbformat": 4,
 "nbformat_minor": 2
}

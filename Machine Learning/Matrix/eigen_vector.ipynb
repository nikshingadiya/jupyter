{
 "cells": [
  {
   "cell_type": "markdown",
   "metadata": {},
   "source": [
    "<b> matrix problem  and solution </b>\n",
    "<br>\n",
    "<a> https://www.shelovesmath.com/algebra/advanced-algebra/matrices-and-solving-systems-with-matrices/ </a>"
   ]
  },
  {
   "cell_type": "code",
   "execution_count": 1,
   "metadata": {
    "ExecuteTime": {
     "end_time": "2020-11-10T05:22:28.361639Z",
     "start_time": "2020-11-10T05:22:26.032462Z"
    }
   },
   "outputs": [],
   "source": [
    "import numpy as np \n",
    "import matplotlib.pyplot as plt\n",
    "import numpy.linalg as la \n",
    "import sympy  \n",
    "from sympy import *"
   ]
  },
  {
   "cell_type": "code",
   "execution_count": 26,
   "metadata": {
    "ExecuteTime": {
     "end_time": "2020-11-10T06:43:01.426902Z",
     "start_time": "2020-11-10T06:43:01.410909Z"
    }
   },
   "outputs": [
    {
     "name": "stdout",
     "output_type": "stream",
     "text": [
      "[[10 10]\n",
      " [20 30]]\n"
     ]
    },
    {
     "data": {
      "text/plain": [
       "array([ 19.4, -11.6])"
      ]
     },
     "execution_count": 26,
     "metadata": {},
     "output_type": "execute_result"
    }
   ],
   "source": [
    "M = np.array([[10, 10], [20, 30]]) \n",
    "j=np.array([78,40])\n",
    "print(M)\n",
    "x=la.solve(M,j)\n",
    "   \n",
    "\n",
    "x"
   ]
  },
  {
   "cell_type": "code",
   "execution_count": 28,
   "metadata": {
    "ExecuteTime": {
     "end_time": "2020-11-10T06:46:07.800452Z",
     "start_time": "2020-11-10T06:46:07.795454Z"
    }
   },
   "outputs": [],
   "source": [
    "z=np.array([19.4,11.6])"
   ]
  },
  {
   "cell_type": "code",
   "execution_count": 29,
   "metadata": {
    "ExecuteTime": {
     "end_time": "2020-11-10T06:46:08.597555Z",
     "start_time": "2020-11-10T06:46:08.477410Z"
    }
   },
   "outputs": [
    {
     "data": {
      "text/plain": [
       "array([310., 736.])"
      ]
     },
     "execution_count": 29,
     "metadata": {},
     "output_type": "execute_result"
    }
   ],
   "source": [
    "Ma=np.array([[10,9],[20,10]])\n",
    "M @ z"
   ]
  },
  {
   "cell_type": "code",
   "execution_count": 9,
   "metadata": {
    "ExecuteTime": {
     "end_time": "2020-11-10T05:34:10.353515Z",
     "start_time": "2020-11-10T05:34:10.346522Z"
    }
   },
   "outputs": [],
   "source": [
    "over_land_uses=np.array([[0.8,0.1,0.1],[0.1,0.7,0.2],[0,0.1,0.9]])\n",
    "transformation=np.array([30,20,50])"
   ]
  },
  {
   "cell_type": "code",
   "execution_count": null,
   "metadata": {},
   "outputs": [],
   "source": []
  },
  {
   "cell_type": "code",
   "execution_count": 48,
   "metadata": {
    "ExecuteTime": {
     "end_time": "2020-11-10T04:37:26.791338Z",
     "start_time": "2020-11-10T04:37:26.781347Z"
    },
    "scrolled": true
   },
   "outputs": [
    {
     "data": {
      "text/plain": [
       "(array([0.6, 0.8, 1. ]),\n",
       " array([[ 0.30151134,  0.90453403,  0.57735027],\n",
       "        [-0.90453403,  0.30151134,  0.57735027],\n",
       "        [ 0.30151134, -0.30151134,  0.57735027]]))"
      ]
     },
     "execution_count": 48,
     "metadata": {},
     "output_type": "execute_result"
    }
   ],
   "source": [
    "k,X=np.linalg.eig(over_land_uses)\n",
    "k,X"
   ]
  },
  {
   "cell_type": "code",
   "execution_count": 69,
   "metadata": {
    "ExecuteTime": {
     "end_time": "2020-11-10T04:47:44.943567Z",
     "start_time": "2020-11-10T04:47:44.935570Z"
    }
   },
   "outputs": [
    {
     "data": {
      "text/plain": [
       "array([12.5, 25. , 62.5])"
      ]
     },
     "execution_count": 69,
     "metadata": {},
     "output_type": "execute_result"
    }
   ],
   "source": [
    "transformation @ X @  np.diag(k**100) @ la.inv(X)"
   ]
  },
  {
   "cell_type": "code",
   "execution_count": 70,
   "metadata": {
    "ExecuteTime": {
     "end_time": "2020-11-10T04:47:45.599926Z",
     "start_time": "2020-11-10T04:47:45.590931Z"
    }
   },
   "outputs": [
    {
     "data": {
      "text/plain": [
       "array([12.5, 25. , 62.5])"
      ]
     },
     "execution_count": 70,
     "metadata": {},
     "output_type": "execute_result"
    }
   ],
   "source": [
    "transformation @ B @ np.linalg.matrix_power(over_land_uses, 100)"
   ]
  },
  {
   "cell_type": "code",
   "execution_count": null,
   "metadata": {},
   "outputs": [],
   "source": []
  },
  {
   "cell_type": "code",
   "execution_count": 57,
   "metadata": {
    "ExecuteTime": {
     "end_time": "2020-11-10T04:45:27.979225Z",
     "start_time": "2020-11-10T04:45:27.970231Z"
    }
   },
   "outputs": [
    {
     "data": {
      "text/plain": [
       "array([[0.125, 0.25 , 0.625],\n",
       "       [0.125, 0.25 , 0.625],\n",
       "       [0.125, 0.25 , 0.625]])"
      ]
     },
     "execution_count": 57,
     "metadata": {},
     "output_type": "execute_result"
    }
   ],
   "source": [
    "B"
   ]
  },
  {
   "cell_type": "code",
   "execution_count": 46,
   "metadata": {
    "ExecuteTime": {
     "end_time": "2020-11-10T04:35:31.757079Z",
     "start_time": "2020-11-10T04:35:31.748084Z"
    }
   },
   "outputs": [
    {
     "data": {
      "text/plain": [
       "array([12.5, 25. , 62.5])"
      ]
     },
     "execution_count": 46,
     "metadata": {},
     "output_type": "execute_result"
    }
   ],
   "source": []
  },
  {
   "cell_type": "code",
   "execution_count": 15,
   "metadata": {
    "ExecuteTime": {
     "end_time": "2020-11-09T15:52:07.860766Z",
     "start_time": "2020-11-09T15:52:07.636578Z"
    }
   },
   "outputs": [],
   "source": [
    "A=np.array([[3,1],[0,2]])\n",
    "A_inv=la.inv(A)"
   ]
  },
  {
   "cell_type": "code",
   "execution_count": 16,
   "metadata": {
    "ExecuteTime": {
     "end_time": "2020-11-09T15:52:30.003794Z",
     "start_time": "2020-11-09T15:52:29.987793Z"
    }
   },
   "outputs": [],
   "source": [
    "M=np.array([1,2])"
   ]
  },
  {
   "cell_type": "code",
   "execution_count": 21,
   "metadata": {
    "ExecuteTime": {
     "end_time": "2020-11-09T15:56:54.567958Z",
     "start_time": "2020-11-09T15:56:54.559955Z"
    }
   },
   "outputs": [],
   "source": [
    "z=A @ M"
   ]
  },
  {
   "cell_type": "code",
   "execution_count": 19,
   "metadata": {
    "ExecuteTime": {
     "end_time": "2020-11-09T15:53:58.749391Z",
     "start_time": "2020-11-09T15:53:58.733409Z"
    }
   },
   "outputs": [
    {
     "data": {
      "text/plain": [
       "array([[ 0.33333333, -0.16666667],\n",
       "       [ 0.        ,  0.5       ]])"
      ]
     },
     "execution_count": 19,
     "metadata": {},
     "output_type": "execute_result"
    }
   ],
   "source": [
    "A_inv"
   ]
  },
  {
   "cell_type": "code",
   "execution_count": 22,
   "metadata": {
    "ExecuteTime": {
     "end_time": "2020-11-09T15:56:58.423100Z",
     "start_time": "2020-11-09T15:56:58.407101Z"
    }
   },
   "outputs": [
    {
     "data": {
      "text/plain": [
       "array([1., 2.])"
      ]
     },
     "execution_count": 22,
     "metadata": {},
     "output_type": "execute_result"
    }
   ],
   "source": [
    "A_inv @ z"
   ]
  },
  {
   "cell_type": "code",
   "execution_count": 9,
   "metadata": {
    "ExecuteTime": {
     "end_time": "2020-11-09T14:48:32.687321Z",
     "start_time": "2020-11-09T14:48:32.679322Z"
    }
   },
   "outputs": [],
   "source": [
    "D,T=np.linalg.eig(A)"
   ]
  },
  {
   "cell_type": "code",
   "execution_count": 10,
   "metadata": {
    "ExecuteTime": {
     "end_time": "2020-11-09T14:48:47.834926Z",
     "start_time": "2020-11-09T14:48:47.754929Z"
    }
   },
   "outputs": [
    {
     "data": {
      "text/plain": [
       "array([[ 3.        , -1.41421356],\n",
       "       [ 0.        ,  1.41421356]])"
      ]
     },
     "execution_count": 10,
     "metadata": {},
     "output_type": "execute_result"
    }
   ],
   "source": [
    "T @ np.diag(D)  "
   ]
  },
  {
   "cell_type": "code",
   "execution_count": 11,
   "metadata": {
    "ExecuteTime": {
     "end_time": "2020-11-09T14:48:55.391672Z",
     "start_time": "2020-11-09T14:48:55.375673Z"
    }
   },
   "outputs": [
    {
     "data": {
      "text/plain": [
       "array([[ 3.        , -1.41421356],\n",
       "       [ 0.        ,  1.41421356]])"
      ]
     },
     "execution_count": 11,
     "metadata": {},
     "output_type": "execute_result"
    }
   ],
   "source": [
    "A @ T"
   ]
  },
  {
   "cell_type": "code",
   "execution_count": null,
   "metadata": {},
   "outputs": [],
   "source": []
  },
  {
   "cell_type": "code",
   "execution_count": 3,
   "metadata": {
    "ExecuteTime": {
     "end_time": "2020-09-02T11:23:58.613866Z",
     "start_time": "2020-09-02T11:23:58.598242Z"
    }
   },
   "outputs": [],
   "source": [
    "A=np.array([[1,2],[4,3]])"
   ]
  },
  {
   "cell_type": "code",
   "execution_count": 4,
   "metadata": {
    "ExecuteTime": {
     "end_time": "2020-09-02T11:24:00.657666Z",
     "start_time": "2020-09-02T11:23:59.854972Z"
    }
   },
   "outputs": [],
   "source": [
    "k,B=np.linalg.eig(A)"
   ]
  },
  {
   "cell_type": "code",
   "execution_count": 30,
   "metadata": {
    "ExecuteTime": {
     "end_time": "2020-09-02T11:33:46.095357Z",
     "start_time": "2020-09-02T11:33:46.079733Z"
    }
   },
   "outputs": [],
   "source": []
  },
  {
   "cell_type": "code",
   "execution_count": 31,
   "metadata": {
    "ExecuteTime": {
     "end_time": "2020-09-02T11:33:46.603807Z",
     "start_time": "2020-09-02T11:33:46.572556Z"
    }
   },
   "outputs": [
    {
     "data": {
      "text/plain": [
       "array([[1, 1],\n",
       "       [0, 8]])"
      ]
     },
     "execution_count": 31,
     "metadata": {},
     "output_type": "execute_result"
    }
   ],
   "source": [
    "B"
   ]
  },
  {
   "cell_type": "code",
   "execution_count": 7,
   "metadata": {
    "ExecuteTime": {
     "end_time": "2020-09-02T11:24:03.387858Z",
     "start_time": "2020-09-02T11:24:03.372256Z"
    }
   },
   "outputs": [
    {
     "data": {
      "text/plain": [
       "(array([1., 2.]),\n",
       " array([[1.        , 0.70710678],\n",
       "        [0.        , 0.70710678]]))"
      ]
     },
     "execution_count": 7,
     "metadata": {},
     "output_type": "execute_result"
    }
   ],
   "source": [
    "np.linalg.eig(B)"
   ]
  },
  {
   "cell_type": "code",
   "execution_count": null,
   "metadata": {
    "ExecuteTime": {
     "end_time": "2020-09-02T10:52:04.406462Z",
     "start_time": "2020-09-02T10:52:00.486386Z"
    },
    "code_folding": [
     0
    ]
   },
   "outputs": [],
   "source": [
    "#import numpy as np\n",
    "import matplotlib.pyplot as plt\n",
    "M = np.array([[1,1],[-2,2],[4,-7]])\n",
    "\n",
    "print(\"vector:1\")\n",
    "print(M[0,:])\n",
    "# print(\"vector:2\")\n",
    "# print(M[1,:])\n",
    "rows,cols = M.T.shape\n",
    "print(cols)\n",
    "\n",
    "for i,l in enumerate(range(0,cols)):\n",
    "    print(\"Iteration: {}-{}\".format(i,l))\n",
    "    print(\"vector:{}\".format(i))\n",
    "    print(M[i,:])\n",
    "    v1 = [0,0],[M[i,0],M[i,1]]\n",
    "    # v1 = [M[i,0]],[M[i,1]]\n",
    "    print(v1)\n",
    "    plt.figure(i)\n",
    "    plt.plot(v1)\n",
    "    plt.show()"
   ]
  },
  {
   "cell_type": "code",
   "execution_count": 8,
   "metadata": {
    "ExecuteTime": {
     "end_time": "2020-09-02T11:24:12.818775Z",
     "start_time": "2020-09-02T11:24:07.595358Z"
    }
   },
   "outputs": [],
   "source": [
    "%matplotlib qt "
   ]
  },
  {
   "cell_type": "code",
   "execution_count": 17,
   "metadata": {
    "ExecuteTime": {
     "end_time": "2020-09-02T10:56:02.245189Z",
     "start_time": "2020-09-02T10:56:02.229561Z"
    }
   },
   "outputs": [],
   "source": [
    "import matplotlib.artist as Df\n"
   ]
  },
  {
   "cell_type": "code",
   "execution_count": 42,
   "metadata": {
    "ExecuteTime": {
     "end_time": "2020-09-02T11:37:24.463362Z",
     "start_time": "2020-09-02T11:37:24.432155Z"
    }
   },
   "outputs": [],
   "source": [
    "A=np.array([[1,2],[4,3]])\n",
    "B =np.array([[1,1],[0,8]])"
   ]
  },
  {
   "cell_type": "code",
   "execution_count": 67,
   "metadata": {
    "ExecuteTime": {
     "end_time": "2020-09-02T11:48:41.043720Z",
     "start_time": "2020-09-02T11:48:40.849668Z"
    }
   },
   "outputs": [],
   "source": [
    "\n",
    "fig = plt.figure()\n",
    "ax = fig.add_subplot(1, 2, 1)\n",
    "x,y = np.meshgrid(np.linspace(-5,5,8),np.linspace(-5,5,8))\n",
    "u=np.array([[1,2],[4,3]])\n",
    "\n",
    "\n",
    "ax.quiver(x,y,u)\n",
    "plt.grid()\n",
    "ax= fig.add_subplot(1,2,2)\n",
    "ax.quiver(x,y,headwidth=3.0,headlength=3.0)\n",
    "fig.subplots_adjust(hspace=1.5, wspace=0.4)\n",
    "plt.grid()\n",
    "plt.show()"
   ]
  },
  {
   "cell_type": "code",
   "execution_count": 35,
   "metadata": {
    "ExecuteTime": {
     "end_time": "2020-09-02T11:08:37.479596Z",
     "start_time": "2020-09-02T11:08:37.463966Z"
    }
   },
   "outputs": [
    {
     "data": {
      "text/plain": [
       "<matplotlib.quiver.Quiver at 0x1bbedd8fe48>"
      ]
     },
     "execution_count": 35,
     "metadata": {},
     "output_type": "execute_result"
    }
   ],
   "source": []
  },
  {
   "cell_type": "code",
   "execution_count": 36,
   "metadata": {
    "ExecuteTime": {
     "end_time": "2020-09-02T10:38:40.291245Z",
     "start_time": "2020-09-02T10:38:40.269065Z"
    }
   },
   "outputs": [],
   "source": [
    "xx, yy = np.meshgrid(xvalues, yvalues)"
   ]
  },
  {
   "cell_type": "code",
   "execution_count": 37,
   "metadata": {
    "ExecuteTime": {
     "end_time": "2020-09-02T10:38:43.751613Z",
     "start_time": "2020-09-02T10:38:43.735983Z"
    }
   },
   "outputs": [
    {
     "data": {
      "text/plain": [
       "array([[0, 1, 2, 3, 4],\n",
       "       [0, 1, 2, 3, 4],\n",
       "       [0, 1, 2, 3, 4],\n",
       "       [0, 1, 2, 3, 4],\n",
       "       [0, 1, 2, 3, 4]])"
      ]
     },
     "execution_count": 37,
     "metadata": {},
     "output_type": "execute_result"
    }
   ],
   "source": [
    "xx"
   ]
  },
  {
   "cell_type": "code",
   "execution_count": 15,
   "metadata": {
    "ExecuteTime": {
     "end_time": "2020-09-10T15:44:10.029030Z",
     "start_time": "2020-09-10T15:44:10.013397Z"
    }
   },
   "outputs": [],
   "source": [
    "a=np.array([[0,1/2,0,0],[1/3,0,0,1/2],[1/3,0,0,1/2],[1/3,1/2,1,0]])"
   ]
  },
  {
   "cell_type": "code",
   "execution_count": 16,
   "metadata": {
    "ExecuteTime": {
     "end_time": "2020-09-10T15:44:10.632894Z",
     "start_time": "2020-09-10T15:44:10.595125Z"
    }
   },
   "outputs": [
    {
     "data": {
      "text/plain": [
       "array([[0.        , 0.5       , 0.        , 0.        ],\n",
       "       [0.33333333, 0.        , 0.        , 0.5       ],\n",
       "       [0.33333333, 0.        , 0.        , 0.5       ],\n",
       "       [0.33333333, 0.5       , 1.        , 0.        ]])"
      ]
     },
     "execution_count": 16,
     "metadata": {},
     "output_type": "execute_result"
    }
   ],
   "source": [
    "a"
   ]
  },
  {
   "cell_type": "code",
   "execution_count": 17,
   "metadata": {
    "ExecuteTime": {
     "end_time": "2020-09-10T15:44:15.611714Z",
     "start_time": "2020-09-10T15:44:15.580457Z"
    }
   },
   "outputs": [
    {
     "data": {
      "text/plain": [
       "array([0.25, 0.25, 0.25, 0.25])"
      ]
     },
     "execution_count": 17,
     "metadata": {},
     "output_type": "execute_result"
    }
   ],
   "source": [
    "b=np.array([1/4,1/4,1/4,1/4])\n",
    "b"
   ]
  },
  {
   "cell_type": "code",
   "execution_count": 18,
   "metadata": {
    "ExecuteTime": {
     "end_time": "2020-09-10T15:44:16.269096Z",
     "start_time": "2020-09-10T15:44:16.237903Z"
    }
   },
   "outputs": [
    {
     "data": {
      "text/plain": [
       "(array([ 1.00000000e+00, -9.17517095e-02, -9.08248290e-01,  5.88174157e-17]),\n",
       " array([[-2.22988244e-01, -8.25340062e-01,  2.62323812e-01,\n",
       "         -8.01783726e-01],\n",
       "        [-4.45976488e-01,  1.51452723e-01, -4.76510307e-01,\n",
       "         -1.04906215e-16],\n",
       "        [-4.45976488e-01,  1.51452723e-01, -4.76510307e-01,\n",
       "          2.67261242e-01],\n",
       "        [-7.43294146e-01,  5.22434615e-01,  6.90696802e-01,\n",
       "          5.34522484e-01]]))"
      ]
     },
     "execution_count": 18,
     "metadata": {},
     "output_type": "execute_result"
    }
   ],
   "source": [
    "eigen_vect=np.linalg.eig(a)\n",
    "eigen_vect "
   ]
  },
  {
   "cell_type": "code",
   "execution_count": 19,
   "metadata": {
    "ExecuteTime": {
     "end_time": "2020-09-10T15:44:16.912400Z",
     "start_time": "2020-09-10T15:44:16.874677Z"
    }
   },
   "outputs": [],
   "source": [
    "dia=np.diag(a)"
   ]
  },
  {
   "cell_type": "code",
   "execution_count": 20,
   "metadata": {
    "ExecuteTime": {
     "end_time": "2020-09-10T15:44:17.760945Z",
     "start_time": "2020-09-10T15:44:17.714073Z"
    }
   },
   "outputs": [
    {
     "ename": "LinAlgError",
     "evalue": "Singular matrix",
     "output_type": "error",
     "traceback": [
      "\u001b[1;31m---------------------------------------------------------------------------\u001b[0m",
      "\u001b[1;31mLinAlgError\u001b[0m                               Traceback (most recent call last)",
      "\u001b[1;32m<ipython-input-20-716a869ae082>\u001b[0m in \u001b[0;36m<module>\u001b[1;34m\u001b[0m\n\u001b[1;32m----> 1\u001b[1;33m \u001b[0ma_inv\u001b[0m\u001b[1;33m=\u001b[0m\u001b[0mnp\u001b[0m\u001b[1;33m.\u001b[0m\u001b[0mlinalg\u001b[0m\u001b[1;33m.\u001b[0m\u001b[0minv\u001b[0m\u001b[1;33m(\u001b[0m\u001b[0ma\u001b[0m\u001b[1;33m)\u001b[0m\u001b[1;33m\u001b[0m\u001b[1;33m\u001b[0m\u001b[0m\n\u001b[0m",
      "\u001b[1;32m<__array_function__ internals>\u001b[0m in \u001b[0;36minv\u001b[1;34m(*args, **kwargs)\u001b[0m\n",
      "\u001b[1;32m~\\anaconda3\\lib\\site-packages\\numpy\\linalg\\linalg.py\u001b[0m in \u001b[0;36minv\u001b[1;34m(a)\u001b[0m\n\u001b[0;32m    545\u001b[0m     \u001b[0msignature\u001b[0m \u001b[1;33m=\u001b[0m \u001b[1;34m'D->D'\u001b[0m \u001b[1;32mif\u001b[0m \u001b[0misComplexType\u001b[0m\u001b[1;33m(\u001b[0m\u001b[0mt\u001b[0m\u001b[1;33m)\u001b[0m \u001b[1;32melse\u001b[0m \u001b[1;34m'd->d'\u001b[0m\u001b[1;33m\u001b[0m\u001b[1;33m\u001b[0m\u001b[0m\n\u001b[0;32m    546\u001b[0m     \u001b[0mextobj\u001b[0m \u001b[1;33m=\u001b[0m \u001b[0mget_linalg_error_extobj\u001b[0m\u001b[1;33m(\u001b[0m\u001b[0m_raise_linalgerror_singular\u001b[0m\u001b[1;33m)\u001b[0m\u001b[1;33m\u001b[0m\u001b[1;33m\u001b[0m\u001b[0m\n\u001b[1;32m--> 547\u001b[1;33m     \u001b[0mainv\u001b[0m \u001b[1;33m=\u001b[0m \u001b[0m_umath_linalg\u001b[0m\u001b[1;33m.\u001b[0m\u001b[0minv\u001b[0m\u001b[1;33m(\u001b[0m\u001b[0ma\u001b[0m\u001b[1;33m,\u001b[0m \u001b[0msignature\u001b[0m\u001b[1;33m=\u001b[0m\u001b[0msignature\u001b[0m\u001b[1;33m,\u001b[0m \u001b[0mextobj\u001b[0m\u001b[1;33m=\u001b[0m\u001b[0mextobj\u001b[0m\u001b[1;33m)\u001b[0m\u001b[1;33m\u001b[0m\u001b[1;33m\u001b[0m\u001b[0m\n\u001b[0m\u001b[0;32m    548\u001b[0m     \u001b[1;32mreturn\u001b[0m \u001b[0mwrap\u001b[0m\u001b[1;33m(\u001b[0m\u001b[0mainv\u001b[0m\u001b[1;33m.\u001b[0m\u001b[0mastype\u001b[0m\u001b[1;33m(\u001b[0m\u001b[0mresult_t\u001b[0m\u001b[1;33m,\u001b[0m \u001b[0mcopy\u001b[0m\u001b[1;33m=\u001b[0m\u001b[1;32mFalse\u001b[0m\u001b[1;33m)\u001b[0m\u001b[1;33m)\u001b[0m\u001b[1;33m\u001b[0m\u001b[1;33m\u001b[0m\u001b[0m\n\u001b[0;32m    549\u001b[0m \u001b[1;33m\u001b[0m\u001b[0m\n",
      "\u001b[1;32m~\\anaconda3\\lib\\site-packages\\numpy\\linalg\\linalg.py\u001b[0m in \u001b[0;36m_raise_linalgerror_singular\u001b[1;34m(err, flag)\u001b[0m\n\u001b[0;32m     95\u001b[0m \u001b[1;33m\u001b[0m\u001b[0m\n\u001b[0;32m     96\u001b[0m \u001b[1;32mdef\u001b[0m \u001b[0m_raise_linalgerror_singular\u001b[0m\u001b[1;33m(\u001b[0m\u001b[0merr\u001b[0m\u001b[1;33m,\u001b[0m \u001b[0mflag\u001b[0m\u001b[1;33m)\u001b[0m\u001b[1;33m:\u001b[0m\u001b[1;33m\u001b[0m\u001b[1;33m\u001b[0m\u001b[0m\n\u001b[1;32m---> 97\u001b[1;33m     \u001b[1;32mraise\u001b[0m \u001b[0mLinAlgError\u001b[0m\u001b[1;33m(\u001b[0m\u001b[1;34m\"Singular matrix\"\u001b[0m\u001b[1;33m)\u001b[0m\u001b[1;33m\u001b[0m\u001b[1;33m\u001b[0m\u001b[0m\n\u001b[0m\u001b[0;32m     98\u001b[0m \u001b[1;33m\u001b[0m\u001b[0m\n\u001b[0;32m     99\u001b[0m \u001b[1;32mdef\u001b[0m \u001b[0m_raise_linalgerror_nonposdef\u001b[0m\u001b[1;33m(\u001b[0m\u001b[0merr\u001b[0m\u001b[1;33m,\u001b[0m \u001b[0mflag\u001b[0m\u001b[1;33m)\u001b[0m\u001b[1;33m:\u001b[0m\u001b[1;33m\u001b[0m\u001b[1;33m\u001b[0m\u001b[0m\n",
      "\u001b[1;31mLinAlgError\u001b[0m: Singular matrix"
     ]
    }
   ],
   "source": [
    "a_inv=np.linalg.inv(a)"
   ]
  },
  {
   "cell_type": "code",
   "execution_count": 21,
   "metadata": {
    "ExecuteTime": {
     "end_time": "2020-09-10T15:46:04.211223Z",
     "start_time": "2020-09-10T15:46:04.106445Z"
    }
   },
   "outputs": [
    {
     "data": {
      "text/plain": [
       "0.0"
      ]
     },
     "execution_count": 21,
     "metadata": {},
     "output_type": "execute_result"
    }
   ],
   "source": [
    "np.linalg.det(a)"
   ]
  },
  {
   "cell_type": "code",
   "execution_count": 28,
   "metadata": {
    "ExecuteTime": {
     "end_time": "2020-09-11T13:04:27.218641Z",
     "start_time": "2020-09-11T13:04:27.187394Z"
    }
   },
   "outputs": [],
   "source": [
    "b=np.array([[1,2,3],[1,4,5],[4,8,7]])"
   ]
  },
  {
   "cell_type": "code",
   "execution_count": 29,
   "metadata": {
    "ExecuteTime": {
     "end_time": "2020-09-11T13:04:27.845669Z",
     "start_time": "2020-09-11T13:04:27.814419Z"
    }
   },
   "outputs": [],
   "source": [
    "evals,eigv=la.eig(b)"
   ]
  },
  {
   "cell_type": "code",
   "execution_count": 30,
   "metadata": {
    "ExecuteTime": {
     "end_time": "2020-09-11T13:04:28.478483Z",
     "start_time": "2020-09-11T13:04:28.462858Z"
    }
   },
   "outputs": [
    {
     "data": {
      "text/plain": [
       "array([13.08773064,  0.48563159, -1.57336223])"
      ]
     },
     "execution_count": 30,
     "metadata": {},
     "output_type": "execute_result"
    }
   ],
   "source": [
    "evals"
   ]
  },
  {
   "cell_type": "code",
   "execution_count": 31,
   "metadata": {
    "ExecuteTime": {
     "end_time": "2020-09-11T13:04:29.017556Z",
     "start_time": "2020-09-11T13:04:29.001923Z"
    }
   },
   "outputs": [],
   "source": [
    "lam=np.diag(evals)"
   ]
  },
  {
   "cell_type": "code",
   "execution_count": 32,
   "metadata": {
    "ExecuteTime": {
     "end_time": "2020-09-11T13:04:29.481102Z",
     "start_time": "2020-09-11T13:04:29.449855Z"
    }
   },
   "outputs": [
    {
     "data": {
      "text/plain": [
       "array([[13.08773064,  0.        ,  0.        ],\n",
       "       [ 0.        ,  0.48563159,  0.        ],\n",
       "       [ 0.        ,  0.        , -1.57336223]])"
      ]
     },
     "execution_count": 32,
     "metadata": {},
     "output_type": "execute_result"
    }
   ],
   "source": [
    "lam"
   ]
  },
  {
   "cell_type": "code",
   "execution_count": 33,
   "metadata": {
    "ExecuteTime": {
     "end_time": "2020-09-11T13:04:29.951165Z",
     "start_time": "2020-09-11T13:04:29.935541Z"
    }
   },
   "outputs": [],
   "source": [
    "eigv_inv=la.inv(eigv)"
   ]
  },
  {
   "cell_type": "code",
   "execution_count": 52,
   "metadata": {
    "ExecuteTime": {
     "end_time": "2020-09-11T13:07:01.184370Z",
     "start_time": "2020-09-11T13:07:01.168745Z"
    }
   },
   "outputs": [
    {
     "data": {
      "text/plain": [
       "array([[4.02891380e+110, 9.51129502e+110, 9.79728245e+110],\n",
       "       [6.85901696e+110, 1.61924869e+111, 1.66793657e+111],\n",
       "       [1.16607970e+111, 2.75283328e+111, 2.83560600e+111]])"
      ]
     },
     "execution_count": 52,
     "metadata": {},
     "output_type": "execute_result"
    }
   ],
   "source": [
    "\n",
    "B=eigv @ (lam)**100 @ eigv_inv\n",
    "B"
   ]
  },
  {
   "cell_type": "code",
   "execution_count": 51,
   "metadata": {
    "ExecuteTime": {
     "end_time": "2020-09-11T13:06:56.407380Z",
     "start_time": "2020-09-11T13:06:56.391755Z"
    }
   },
   "outputs": [
    {
     "data": {
      "text/plain": [
       "array([[          1,           0,  -818408495],\n",
       "       [          1,           0, -1971132175],\n",
       "       [          0,           0,  1027218017]], dtype=int32)"
      ]
     },
     "execution_count": 51,
     "metadata": {},
     "output_type": "execute_result"
    }
   ],
   "source": [
    "\n",
    "(b)**100"
   ]
  },
  {
   "cell_type": "code",
   "execution_count": null,
   "metadata": {},
   "outputs": [],
   "source": []
  },
  {
   "cell_type": "code",
   "execution_count": null,
   "metadata": {},
   "outputs": [],
   "source": []
  }
 ],
 "metadata": {
  "kernelspec": {
   "display_name": "Python 3",
   "language": "python",
   "name": "python3"
  },
  "language_info": {
   "codemirror_mode": {
    "name": "ipython",
    "version": 3
   },
   "file_extension": ".py",
   "mimetype": "text/x-python",
   "name": "python",
   "nbconvert_exporter": "python",
   "pygments_lexer": "ipython3",
   "version": "3.7.6"
  },
  "toc": {
   "base_numbering": 1,
   "nav_menu": {},
   "number_sections": true,
   "sideBar": true,
   "skip_h1_title": false,
   "title_cell": "Table of Contents",
   "title_sidebar": "Contents",
   "toc_cell": false,
   "toc_position": {},
   "toc_section_display": true,
   "toc_window_display": false
  }
 },
 "nbformat": 4,
 "nbformat_minor": 4
}

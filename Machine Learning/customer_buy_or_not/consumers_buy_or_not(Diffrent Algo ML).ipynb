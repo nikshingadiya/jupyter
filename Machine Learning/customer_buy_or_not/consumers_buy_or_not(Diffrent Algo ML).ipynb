{
 "cells": [
  {
   "cell_type": "code",
   "execution_count": 1,
   "metadata": {
    "ExecuteTime": {
     "end_time": "2021-06-21T12:42:29.939509Z",
     "start_time": "2021-06-21T12:41:26.035352Z"
    }
   },
   "outputs": [],
   "source": [
    "#import libraries\n",
    "import numpy \n",
    "import numpy as np\n",
    "import pandas as pd\n",
    "import seaborn as sns\n",
    "import matplotlib.pyplot as plt\n",
    "from sklearn import metrics\n",
    "import matplotlib.patches as mpatches\n",
    "from sklearn.metrics import classification_report\n",
    "from sklearn.metrics import confusion_matrix\n",
    "import scipy.stats as st \n",
    "# import dtale \n",
    "import warnings\n",
    "from sklearn.model_selection import StratifiedKFold \n",
    "\n",
    "from imblearn.over_sampling import RandomOverSampler\n",
    "from sklearn.tree import DecisionTreeClassifier\n",
    "from sklearn.model_selection import cross_val_score\n",
    "warnings.filterwarnings('ignore')\n",
    "import pandas_profiling as pdp\n",
    "from sklearn.model_selection import train_test_split\n",
    "from sklearn.neighbors import KNeighborsClassifier\n",
    "from sklearn.metrics import roc_curve"
   ]
  },
  {
   "cell_type": "code",
   "execution_count": 10,
   "metadata": {
    "ExecuteTime": {
     "end_time": "2021-06-21T09:05:59.198669Z",
     "start_time": "2021-06-21T09:05:59.190670Z"
    }
   },
   "outputs": [],
   "source": [
    "# pip install pandas_profiling\n"
   ]
  },
  {
   "cell_type": "code",
   "execution_count": 2,
   "metadata": {
    "ExecuteTime": {
     "end_time": "2021-06-21T12:42:52.910751Z",
     "start_time": "2021-06-21T12:42:52.593140Z"
    }
   },
   "outputs": [],
   "source": [
    "fd_dlvry=pd.read_csv('../../data/Banglore_food_delivery/onlinedeliverydata.csv')"
   ]
  },
  {
   "cell_type": "code",
   "execution_count": 12,
   "metadata": {
    "ExecuteTime": {
     "end_time": "2021-06-21T09:06:00.523675Z",
     "start_time": "2021-06-21T09:06:00.514519Z"
    }
   },
   "outputs": [],
   "source": [
    "fd_ori=fd_dlvry.copy(deep=True)\n",
    "#future uses one copy create"
   ]
  },
  {
   "cell_type": "code",
   "execution_count": 3,
   "metadata": {
    "ExecuteTime": {
     "end_time": "2021-06-21T12:42:56.710902Z",
     "start_time": "2021-06-21T12:42:56.697910Z"
    }
   },
   "outputs": [
    {
     "data": {
      "text/plain": [
       "(388, 55)"
      ]
     },
     "execution_count": 3,
     "metadata": {},
     "output_type": "execute_result"
    }
   ],
   "source": [
    "fd_dlvry.shape"
   ]
  },
  {
   "cell_type": "code",
   "execution_count": 16,
   "metadata": {
    "ExecuteTime": {
     "end_time": "2021-06-21T13:19:22.543945Z",
     "start_time": "2021-06-21T13:19:22.532955Z"
    }
   },
   "outputs": [
    {
     "data": {
      "text/plain": [
       "{'Male': 222, 'Female': 166}"
      ]
     },
     "execution_count": 16,
     "metadata": {},
     "output_type": "execute_result"
    }
   ],
   "source": [
    "dict(fd_dlvry[\"Gender\"].value_counts())"
   ]
  },
  {
   "cell_type": "code",
   "execution_count": 14,
   "metadata": {
    "ExecuteTime": {
     "end_time": "2021-06-21T09:06:01.530142Z",
     "start_time": "2021-06-21T09:06:01.471938Z"
    },
    "scrolled": true
   },
   "outputs": [
    {
     "data": {
      "text/html": [
       "<div>\n",
       "<style scoped>\n",
       "    .dataframe tbody tr th:only-of-type {\n",
       "        vertical-align: middle;\n",
       "    }\n",
       "\n",
       "    .dataframe tbody tr th {\n",
       "        vertical-align: top;\n",
       "    }\n",
       "\n",
       "    .dataframe thead th {\n",
       "        text-align: right;\n",
       "    }\n",
       "</style>\n",
       "<table border=\"1\" class=\"dataframe\">\n",
       "  <thead>\n",
       "    <tr style=\"text-align: right;\">\n",
       "      <th></th>\n",
       "      <th>Age</th>\n",
       "      <th>Gender</th>\n",
       "      <th>Marital Status</th>\n",
       "      <th>Occupation</th>\n",
       "      <th>Monthly Income</th>\n",
       "      <th>Educational Qualifications</th>\n",
       "      <th>Family size</th>\n",
       "      <th>latitude</th>\n",
       "      <th>longitude</th>\n",
       "      <th>Pin code</th>\n",
       "      <th>...</th>\n",
       "      <th>Less Delivery time</th>\n",
       "      <th>High Quality of package</th>\n",
       "      <th>Number of calls</th>\n",
       "      <th>Politeness</th>\n",
       "      <th>Freshness</th>\n",
       "      <th>Temperature</th>\n",
       "      <th>Good Taste</th>\n",
       "      <th>Good Quantity</th>\n",
       "      <th>Output</th>\n",
       "      <th>Reviews</th>\n",
       "    </tr>\n",
       "  </thead>\n",
       "  <tbody>\n",
       "    <tr>\n",
       "      <th>0</th>\n",
       "      <td>20</td>\n",
       "      <td>Female</td>\n",
       "      <td>Single</td>\n",
       "      <td>Student</td>\n",
       "      <td>No Income</td>\n",
       "      <td>Post Graduate</td>\n",
       "      <td>4</td>\n",
       "      <td>12.9766</td>\n",
       "      <td>77.5993</td>\n",
       "      <td>560001</td>\n",
       "      <td>...</td>\n",
       "      <td>Moderately Important</td>\n",
       "      <td>Moderately Important</td>\n",
       "      <td>Moderately Important</td>\n",
       "      <td>Moderately Important</td>\n",
       "      <td>Moderately Important</td>\n",
       "      <td>Moderately Important</td>\n",
       "      <td>Moderately Important</td>\n",
       "      <td>Moderately Important</td>\n",
       "      <td>Yes</td>\n",
       "      <td>Nil\\n</td>\n",
       "    </tr>\n",
       "    <tr>\n",
       "      <th>1</th>\n",
       "      <td>24</td>\n",
       "      <td>Female</td>\n",
       "      <td>Single</td>\n",
       "      <td>Student</td>\n",
       "      <td>Below Rs.10000</td>\n",
       "      <td>Graduate</td>\n",
       "      <td>3</td>\n",
       "      <td>12.9770</td>\n",
       "      <td>77.5773</td>\n",
       "      <td>560009</td>\n",
       "      <td>...</td>\n",
       "      <td>Very Important</td>\n",
       "      <td>Very Important</td>\n",
       "      <td>Very Important</td>\n",
       "      <td>Very Important</td>\n",
       "      <td>Very Important</td>\n",
       "      <td>Very Important</td>\n",
       "      <td>Very Important</td>\n",
       "      <td>Very Important</td>\n",
       "      <td>Yes</td>\n",
       "      <td>Nil</td>\n",
       "    </tr>\n",
       "    <tr>\n",
       "      <th>2</th>\n",
       "      <td>22</td>\n",
       "      <td>Male</td>\n",
       "      <td>Single</td>\n",
       "      <td>Student</td>\n",
       "      <td>Below Rs.10000</td>\n",
       "      <td>Post Graduate</td>\n",
       "      <td>3</td>\n",
       "      <td>12.9551</td>\n",
       "      <td>77.6593</td>\n",
       "      <td>560017</td>\n",
       "      <td>...</td>\n",
       "      <td>Important</td>\n",
       "      <td>Very Important</td>\n",
       "      <td>Moderately Important</td>\n",
       "      <td>Very Important</td>\n",
       "      <td>Very Important</td>\n",
       "      <td>Important</td>\n",
       "      <td>Very Important</td>\n",
       "      <td>Moderately Important</td>\n",
       "      <td>Yes</td>\n",
       "      <td>Many a times payment gateways are an issue, so...</td>\n",
       "    </tr>\n",
       "    <tr>\n",
       "      <th>3</th>\n",
       "      <td>22</td>\n",
       "      <td>Female</td>\n",
       "      <td>Single</td>\n",
       "      <td>Student</td>\n",
       "      <td>No Income</td>\n",
       "      <td>Graduate</td>\n",
       "      <td>6</td>\n",
       "      <td>12.9473</td>\n",
       "      <td>77.5616</td>\n",
       "      <td>560019</td>\n",
       "      <td>...</td>\n",
       "      <td>Very Important</td>\n",
       "      <td>Important</td>\n",
       "      <td>Moderately Important</td>\n",
       "      <td>Very Important</td>\n",
       "      <td>Very Important</td>\n",
       "      <td>Very Important</td>\n",
       "      <td>Very Important</td>\n",
       "      <td>Important</td>\n",
       "      <td>Yes</td>\n",
       "      <td>nil</td>\n",
       "    </tr>\n",
       "    <tr>\n",
       "      <th>4</th>\n",
       "      <td>22</td>\n",
       "      <td>Male</td>\n",
       "      <td>Single</td>\n",
       "      <td>Student</td>\n",
       "      <td>Below Rs.10000</td>\n",
       "      <td>Post Graduate</td>\n",
       "      <td>4</td>\n",
       "      <td>12.9850</td>\n",
       "      <td>77.5533</td>\n",
       "      <td>560010</td>\n",
       "      <td>...</td>\n",
       "      <td>Important</td>\n",
       "      <td>Important</td>\n",
       "      <td>Moderately Important</td>\n",
       "      <td>Important</td>\n",
       "      <td>Important</td>\n",
       "      <td>Important</td>\n",
       "      <td>Very Important</td>\n",
       "      <td>Very Important</td>\n",
       "      <td>Yes</td>\n",
       "      <td>NIL</td>\n",
       "    </tr>\n",
       "  </tbody>\n",
       "</table>\n",
       "<p>5 rows × 55 columns</p>\n",
       "</div>"
      ],
      "text/plain": [
       "   Age  Gender Marital Status Occupation  Monthly Income  \\\n",
       "0   20  Female         Single    Student       No Income   \n",
       "1   24  Female         Single    Student  Below Rs.10000   \n",
       "2   22    Male         Single    Student  Below Rs.10000   \n",
       "3   22  Female         Single    Student       No Income   \n",
       "4   22    Male         Single    Student  Below Rs.10000   \n",
       "\n",
       "  Educational Qualifications  Family size  latitude  longitude  Pin code  ...  \\\n",
       "0              Post Graduate            4   12.9766    77.5993    560001  ...   \n",
       "1                   Graduate            3   12.9770    77.5773    560009  ...   \n",
       "2              Post Graduate            3   12.9551    77.6593    560017  ...   \n",
       "3                   Graduate            6   12.9473    77.5616    560019  ...   \n",
       "4              Post Graduate            4   12.9850    77.5533    560010  ...   \n",
       "\n",
       "     Less Delivery time High Quality of package       Number of calls  \\\n",
       "0  Moderately Important    Moderately Important  Moderately Important   \n",
       "1        Very Important          Very Important        Very Important   \n",
       "2             Important          Very Important  Moderately Important   \n",
       "3        Very Important               Important  Moderately Important   \n",
       "4             Important               Important  Moderately Important   \n",
       "\n",
       "             Politeness            Freshness            Temperature  \\\n",
       "0  Moderately Important  Moderately Important  Moderately Important   \n",
       "1        Very Important        Very Important        Very Important   \n",
       "2        Very Important        Very Important             Important   \n",
       "3        Very Important        Very Important        Very Important   \n",
       "4             Important             Important             Important   \n",
       "\n",
       "            Good Taste          Good Quantity Output  \\\n",
       "0  Moderately Important  Moderately Important    Yes   \n",
       "1        Very Important        Very Important    Yes   \n",
       "2        Very Important  Moderately Important    Yes   \n",
       "3        Very Important             Important    Yes   \n",
       "4        Very Important        Very Important    Yes   \n",
       "\n",
       "                                             Reviews  \n",
       "0                                              Nil\\n  \n",
       "1                                                Nil  \n",
       "2  Many a times payment gateways are an issue, so...  \n",
       "3                                                nil  \n",
       "4                                                NIL  \n",
       "\n",
       "[5 rows x 55 columns]"
      ]
     },
     "execution_count": 14,
     "metadata": {},
     "output_type": "execute_result"
    }
   ],
   "source": [
    "fd_dlvry.head()"
   ]
  },
  {
   "cell_type": "code",
   "execution_count": 15,
   "metadata": {
    "ExecuteTime": {
     "end_time": "2021-06-21T09:06:02.034935Z",
     "start_time": "2021-06-21T09:06:02.003946Z"
    }
   },
   "outputs": [
    {
     "data": {
      "text/plain": [
       "23    73\n",
       "22    57\n",
       "25    52\n",
       "24    50\n",
       "26    35\n",
       "21    23\n",
       "27    21\n",
       "32    16\n",
       "28    15\n",
       "29    14\n",
       "30     9\n",
       "20     9\n",
       "31     8\n",
       "19     4\n",
       "33     1\n",
       "18     1\n",
       "Name: Age, dtype: int64"
      ]
     },
     "execution_count": 15,
     "metadata": {},
     "output_type": "execute_result"
    }
   ],
   "source": [
    "fd_dlvry['Age'].value_counts()"
   ]
  },
  {
   "cell_type": "code",
   "execution_count": 16,
   "metadata": {
    "ExecuteTime": {
     "end_time": "2021-06-21T09:06:02.603810Z",
     "start_time": "2021-06-21T09:06:02.587812Z"
    }
   },
   "outputs": [
    {
     "data": {
      "text/plain": [
       "Yes    301\n",
       "No      87\n",
       "Name: Output, dtype: int64"
      ]
     },
     "execution_count": 16,
     "metadata": {},
     "output_type": "execute_result"
    }
   ],
   "source": [
    "fd_dlvry['Output'].value_counts()"
   ]
  },
  {
   "cell_type": "code",
   "execution_count": 17,
   "metadata": {
    "ExecuteTime": {
     "end_time": "2021-06-21T09:06:03.207673Z",
     "start_time": "2021-06-21T09:06:03.170150Z"
    }
   },
   "outputs": [
    {
     "name": "stdout",
     "output_type": "stream",
     "text": [
      "<class 'pandas.core.frame.DataFrame'>\n",
      "RangeIndex: 388 entries, 0 to 387\n",
      "Data columns (total 55 columns):\n",
      " #   Column                                     Non-Null Count  Dtype  \n",
      "---  ------                                     --------------  -----  \n",
      " 0   Age                                        388 non-null    int64  \n",
      " 1   Gender                                     388 non-null    object \n",
      " 2   Marital Status                             388 non-null    object \n",
      " 3   Occupation                                 388 non-null    object \n",
      " 4   Monthly Income                             388 non-null    object \n",
      " 5   Educational Qualifications                 388 non-null    object \n",
      " 6   Family size                                388 non-null    int64  \n",
      " 7   latitude                                   388 non-null    float64\n",
      " 8   longitude                                  388 non-null    float64\n",
      " 9   Pin code                                   388 non-null    int64  \n",
      " 10  Medium (P1)                                388 non-null    object \n",
      " 11  Medium (P2)                                388 non-null    object \n",
      " 12  Meal(P1)                                   388 non-null    object \n",
      " 13  Meal(P2)                                   388 non-null    object \n",
      " 14  Perference(P1)                             388 non-null    object \n",
      " 15  Perference(P2)                             388 non-null    object \n",
      " 16  Ease and convenient                        388 non-null    object \n",
      " 17  Time saving                                388 non-null    object \n",
      " 18  More restaurant choices                    388 non-null    object \n",
      " 19  Easy Payment option                        388 non-null    object \n",
      " 20  More Offers and Discount                   388 non-null    object \n",
      " 21  Good Food quality                          388 non-null    object \n",
      " 22  Good Tracking system                       388 non-null    object \n",
      " 23  Self Cooking                               388 non-null    object \n",
      " 24  Health Concern                             388 non-null    object \n",
      " 25  Late Delivery                              388 non-null    object \n",
      " 26  Poor Hygiene                               388 non-null    object \n",
      " 27  Bad past experience                        388 non-null    object \n",
      " 28  Unavailability                             388 non-null    object \n",
      " 29  Unaffordable                               388 non-null    object \n",
      " 30  Long delivery time                         388 non-null    object \n",
      " 31  Delay of delivery person getting assigned  388 non-null    object \n",
      " 32  Delay of delivery person picking up food   388 non-null    object \n",
      " 33  Wrong order delivered                      388 non-null    object \n",
      " 34  Missing item                               388 non-null    object \n",
      " 35  Order placed by mistake                    388 non-null    object \n",
      " 36  Influence of time                          388 non-null    object \n",
      " 37  Order Time                                 388 non-null    object \n",
      " 38  Maximum wait time                          388 non-null    object \n",
      " 39  Residence in busy location                 388 non-null    object \n",
      " 40  Google Maps Accuracy                       388 non-null    object \n",
      " 41  Good Road Condition                        388 non-null    object \n",
      " 42  Low quantity low time                      388 non-null    object \n",
      " 43  Delivery person ability                    388 non-null    object \n",
      " 44  Influence of rating                        388 non-null    object \n",
      " 45  Less Delivery time                         388 non-null    object \n",
      " 46  High Quality of package                    388 non-null    object \n",
      " 47  Number of calls                            388 non-null    object \n",
      " 48  Politeness                                 388 non-null    object \n",
      " 49  Freshness                                  388 non-null    object \n",
      " 50  Temperature                                388 non-null    object \n",
      " 51  Good Taste                                 388 non-null    object \n",
      " 52  Good Quantity                              388 non-null    object \n",
      " 53  Output                                     388 non-null    object \n",
      " 54  Reviews                                    388 non-null    object \n",
      "dtypes: float64(2), int64(3), object(50)\n",
      "memory usage: 166.8+ KB\n"
     ]
    }
   ],
   "source": [
    "fd_dlvry.info()"
   ]
  },
  {
   "cell_type": "code",
   "execution_count": 18,
   "metadata": {
    "ExecuteTime": {
     "end_time": "2021-06-21T09:06:03.887348Z",
     "start_time": "2021-06-21T09:06:03.883350Z"
    }
   },
   "outputs": [],
   "source": [
    "# d = dtale.show(fd_dlvry)\n",
    "# d.open_browser()\n",
    "#we can use datle library for EDA"
   ]
  },
  {
   "cell_type": "code",
   "execution_count": 19,
   "metadata": {
    "ExecuteTime": {
     "end_time": "2021-06-21T09:06:04.815567Z",
     "start_time": "2021-06-21T09:06:04.764287Z"
    }
   },
   "outputs": [],
   "source": [
    "# looking data with pdp.ProfileReport \n",
    "data = pd.read_csv('../../data/Banglore_food_delivery/onlinedeliverydata.csv')\n",
    "\n",
    "#Creating the Exploratory Data Analysis of our dataset\n",
    "report = pdp.ProfileReport(data, title='Pandas Profiling Report')\n"
   ]
  },
  {
   "cell_type": "code",
   "execution_count": 20,
   "metadata": {
    "ExecuteTime": {
     "end_time": "2021-06-21T09:14:12.810709Z",
     "start_time": "2021-06-21T09:06:25.824950Z"
    },
    "scrolled": true
   },
   "outputs": [
    {
     "data": {
      "application/vnd.jupyter.widget-view+json": {
       "model_id": "8c9d1637090c426daff1f4a5c3351146",
       "version_major": 2,
       "version_minor": 0
      },
      "text/plain": [
       "HBox(children=(HTML(value='Summarize dataset'), FloatProgress(value=0.0, max=68.0), HTML(value='')))"
      ]
     },
     "metadata": {},
     "output_type": "display_data"
    },
    {
     "name": "stdout",
     "output_type": "stream",
     "text": [
      "\n"
     ]
    },
    {
     "data": {
      "application/vnd.jupyter.widget-view+json": {
       "model_id": "6dd89b684d5a4ed7b988af78fa093d4b",
       "version_major": 2,
       "version_minor": 0
      },
      "text/plain": [
       "HBox(children=(HTML(value='Generate report structure'), FloatProgress(value=0.0, max=1.0), HTML(value='')))"
      ]
     },
     "metadata": {},
     "output_type": "display_data"
    },
    {
     "name": "stdout",
     "output_type": "stream",
     "text": [
      "\n"
     ]
    },
    {
     "data": {
      "application/vnd.jupyter.widget-view+json": {
       "model_id": "",
       "version_major": 2,
       "version_minor": 0
      },
      "text/plain": [
       "HBox(children=(HTML(value='Render widgets'), FloatProgress(value=0.0, max=1.0), HTML(value='')))"
      ]
     },
     "metadata": {},
     "output_type": "display_data"
    },
    {
     "data": {
      "application/vnd.jupyter.widget-view+json": {
       "model_id": "963a5832fd244a6bb24949638084d05f",
       "version_major": 2,
       "version_minor": 0
      },
      "text/plain": [
       "VBox(children=(Tab(children=(Tab(children=(GridBox(children=(VBox(children=(GridspecLayout(children=(HTML(valu…"
      ]
     },
     "metadata": {},
     "output_type": "display_data"
    }
   ],
   "source": [
    "report.widgets"
   ]
  },
  {
   "cell_type": "code",
   "execution_count": 11,
   "metadata": {
    "ExecuteTime": {
     "end_time": "2021-04-09T16:39:49.481980Z",
     "start_time": "2021-04-09T16:39:48.764097Z"
    },
    "code_folding": []
   },
   "outputs": [
    {
     "data": {
      "text/html": [
       "<div>\n",
       "<style scoped>\n",
       "    .dataframe tbody tr th:only-of-type {\n",
       "        vertical-align: middle;\n",
       "    }\n",
       "\n",
       "    .dataframe tbody tr th {\n",
       "        vertical-align: top;\n",
       "    }\n",
       "\n",
       "    .dataframe thead th {\n",
       "        text-align: right;\n",
       "    }\n",
       "</style>\n",
       "<table border=\"1\" class=\"dataframe\">\n",
       "  <thead>\n",
       "    <tr style=\"text-align: right;\">\n",
       "      <th></th>\n",
       "      <th>Age</th>\n",
       "      <th>Gender</th>\n",
       "      <th>Marital Status</th>\n",
       "      <th>Occupation</th>\n",
       "      <th>Monthly Income</th>\n",
       "      <th>Educational Qualifications</th>\n",
       "      <th>Family size</th>\n",
       "      <th>latitude</th>\n",
       "      <th>longitude</th>\n",
       "      <th>Pin code</th>\n",
       "      <th>...</th>\n",
       "      <th>Less Delivery time</th>\n",
       "      <th>High Quality of package</th>\n",
       "      <th>Number of calls</th>\n",
       "      <th>Politeness</th>\n",
       "      <th>Freshness</th>\n",
       "      <th>Temperature</th>\n",
       "      <th>Good Taste</th>\n",
       "      <th>Good Quantity</th>\n",
       "      <th>Output</th>\n",
       "      <th>Reviews</th>\n",
       "    </tr>\n",
       "  </thead>\n",
       "  <tbody>\n",
       "    <tr>\n",
       "      <th>0</th>\n",
       "      <td>20</td>\n",
       "      <td>0</td>\n",
       "      <td>2</td>\n",
       "      <td>3</td>\n",
       "      <td>4</td>\n",
       "      <td>2</td>\n",
       "      <td>4</td>\n",
       "      <td>12.9766</td>\n",
       "      <td>77.5993</td>\n",
       "      <td>560001</td>\n",
       "      <td>...</td>\n",
       "      <td>1</td>\n",
       "      <td>1</td>\n",
       "      <td>1</td>\n",
       "      <td>1</td>\n",
       "      <td>1</td>\n",
       "      <td>1</td>\n",
       "      <td>1</td>\n",
       "      <td>1</td>\n",
       "      <td>1</td>\n",
       "      <td>136</td>\n",
       "    </tr>\n",
       "    <tr>\n",
       "      <th>1</th>\n",
       "      <td>24</td>\n",
       "      <td>0</td>\n",
       "      <td>2</td>\n",
       "      <td>3</td>\n",
       "      <td>2</td>\n",
       "      <td>0</td>\n",
       "      <td>3</td>\n",
       "      <td>12.9770</td>\n",
       "      <td>77.5773</td>\n",
       "      <td>560009</td>\n",
       "      <td>...</td>\n",
       "      <td>4</td>\n",
       "      <td>4</td>\n",
       "      <td>4</td>\n",
       "      <td>4</td>\n",
       "      <td>4</td>\n",
       "      <td>4</td>\n",
       "      <td>4</td>\n",
       "      <td>4</td>\n",
       "      <td>1</td>\n",
       "      <td>135</td>\n",
       "    </tr>\n",
       "    <tr>\n",
       "      <th>2</th>\n",
       "      <td>22</td>\n",
       "      <td>1</td>\n",
       "      <td>2</td>\n",
       "      <td>3</td>\n",
       "      <td>2</td>\n",
       "      <td>2</td>\n",
       "      <td>3</td>\n",
       "      <td>12.9551</td>\n",
       "      <td>77.6593</td>\n",
       "      <td>560017</td>\n",
       "      <td>...</td>\n",
       "      <td>0</td>\n",
       "      <td>4</td>\n",
       "      <td>1</td>\n",
       "      <td>4</td>\n",
       "      <td>4</td>\n",
       "      <td>0</td>\n",
       "      <td>4</td>\n",
       "      <td>1</td>\n",
       "      <td>1</td>\n",
       "      <td>119</td>\n",
       "    </tr>\n",
       "    <tr>\n",
       "      <th>3</th>\n",
       "      <td>22</td>\n",
       "      <td>0</td>\n",
       "      <td>2</td>\n",
       "      <td>3</td>\n",
       "      <td>4</td>\n",
       "      <td>0</td>\n",
       "      <td>6</td>\n",
       "      <td>12.9473</td>\n",
       "      <td>77.5616</td>\n",
       "      <td>560019</td>\n",
       "      <td>...</td>\n",
       "      <td>4</td>\n",
       "      <td>0</td>\n",
       "      <td>1</td>\n",
       "      <td>4</td>\n",
       "      <td>4</td>\n",
       "      <td>4</td>\n",
       "      <td>4</td>\n",
       "      <td>0</td>\n",
       "      <td>1</td>\n",
       "      <td>176</td>\n",
       "    </tr>\n",
       "    <tr>\n",
       "      <th>4</th>\n",
       "      <td>22</td>\n",
       "      <td>1</td>\n",
       "      <td>2</td>\n",
       "      <td>3</td>\n",
       "      <td>2</td>\n",
       "      <td>2</td>\n",
       "      <td>4</td>\n",
       "      <td>12.9850</td>\n",
       "      <td>77.5533</td>\n",
       "      <td>560010</td>\n",
       "      <td>...</td>\n",
       "      <td>0</td>\n",
       "      <td>0</td>\n",
       "      <td>1</td>\n",
       "      <td>0</td>\n",
       "      <td>0</td>\n",
       "      <td>0</td>\n",
       "      <td>4</td>\n",
       "      <td>4</td>\n",
       "      <td>1</td>\n",
       "      <td>129</td>\n",
       "    </tr>\n",
       "  </tbody>\n",
       "</table>\n",
       "<p>5 rows × 55 columns</p>\n",
       "</div>"
      ],
      "text/plain": [
       "   Age  Gender  Marital Status  Occupation  Monthly Income  \\\n",
       "0   20       0               2           3               4   \n",
       "1   24       0               2           3               2   \n",
       "2   22       1               2           3               2   \n",
       "3   22       0               2           3               4   \n",
       "4   22       1               2           3               2   \n",
       "\n",
       "   Educational Qualifications  Family size  latitude  longitude  Pin code  \\\n",
       "0                           2            4   12.9766    77.5993    560001   \n",
       "1                           0            3   12.9770    77.5773    560009   \n",
       "2                           2            3   12.9551    77.6593    560017   \n",
       "3                           0            6   12.9473    77.5616    560019   \n",
       "4                           2            4   12.9850    77.5533    560010   \n",
       "\n",
       "   ...  Less Delivery time  High Quality of package  Number of calls  \\\n",
       "0  ...                   1                        1                1   \n",
       "1  ...                   4                        4                4   \n",
       "2  ...                   0                        4                1   \n",
       "3  ...                   4                        0                1   \n",
       "4  ...                   0                        0                1   \n",
       "\n",
       "   Politeness  Freshness   Temperature  Good Taste   Good Quantity  Output  \\\n",
       "0           1           1            1            1              1       1   \n",
       "1           4           4            4            4              4       1   \n",
       "2           4           4            0            4              1       1   \n",
       "3           4           4            4            4              0       1   \n",
       "4           0           0            0            4              4       1   \n",
       "\n",
       "   Reviews  \n",
       "0      136  \n",
       "1      135  \n",
       "2      119  \n",
       "3      176  \n",
       "4      129  \n",
       "\n",
       "[5 rows x 55 columns]"
      ]
     },
     "execution_count": 11,
     "metadata": {},
     "output_type": "execute_result"
    }
   ],
   "source": [
    "#this library i found on google it's helpful for cleaning data,imputing value and lable encoding\n",
    "import  datacleaner as dc # pip install datacleaner\n",
    "\n",
    "dc.autoclean(fd_dlvry).head()"
   ]
  },
  {
   "cell_type": "code",
   "execution_count": 12,
   "metadata": {
    "ExecuteTime": {
     "end_time": "2021-04-09T16:39:49.495973Z",
     "start_time": "2021-04-09T16:39:49.485977Z"
    },
    "scrolled": false
   },
   "outputs": [
    {
     "data": {
      "text/plain": [
       "array([1, 0])"
      ]
     },
     "execution_count": 12,
     "metadata": {},
     "output_type": "execute_result"
    }
   ],
   "source": [
    "fd_dlvry['Output'].unique()"
   ]
  },
  {
   "cell_type": "code",
   "execution_count": 13,
   "metadata": {
    "ExecuteTime": {
     "end_time": "2021-04-09T16:39:49.709588Z",
     "start_time": "2021-04-09T16:39:49.499971Z"
    }
   },
   "outputs": [
    {
     "data": {
      "text/plain": [
       "array([1, 0])"
      ]
     },
     "execution_count": 13,
     "metadata": {},
     "output_type": "execute_result"
    }
   ],
   "source": [
    "fd_dlvry['Output'].unique()"
   ]
  },
  {
   "cell_type": "code",
   "execution_count": 14,
   "metadata": {
    "ExecuteTime": {
     "end_time": "2021-04-09T16:39:49.895481Z",
     "start_time": "2021-04-09T16:39:49.714584Z"
    }
   },
   "outputs": [
    {
     "data": {
      "text/html": [
       "<div>\n",
       "<style scoped>\n",
       "    .dataframe tbody tr th:only-of-type {\n",
       "        vertical-align: middle;\n",
       "    }\n",
       "\n",
       "    .dataframe tbody tr th {\n",
       "        vertical-align: top;\n",
       "    }\n",
       "\n",
       "    .dataframe thead th {\n",
       "        text-align: right;\n",
       "    }\n",
       "</style>\n",
       "<table border=\"1\" class=\"dataframe\">\n",
       "  <thead>\n",
       "    <tr style=\"text-align: right;\">\n",
       "      <th></th>\n",
       "      <th>Age</th>\n",
       "      <th>Gender</th>\n",
       "      <th>Marital Status</th>\n",
       "      <th>Occupation</th>\n",
       "      <th>Monthly Income</th>\n",
       "      <th>Educational Qualifications</th>\n",
       "      <th>Family size</th>\n",
       "      <th>latitude</th>\n",
       "      <th>longitude</th>\n",
       "      <th>Pin code</th>\n",
       "      <th>...</th>\n",
       "      <th>Less Delivery time</th>\n",
       "      <th>High Quality of package</th>\n",
       "      <th>Number of calls</th>\n",
       "      <th>Politeness</th>\n",
       "      <th>Freshness</th>\n",
       "      <th>Temperature</th>\n",
       "      <th>Good Taste</th>\n",
       "      <th>Good Quantity</th>\n",
       "      <th>Output</th>\n",
       "      <th>Reviews</th>\n",
       "    </tr>\n",
       "  </thead>\n",
       "  <tbody>\n",
       "    <tr>\n",
       "      <th>0</th>\n",
       "      <td>20</td>\n",
       "      <td>Female</td>\n",
       "      <td>Single</td>\n",
       "      <td>Student</td>\n",
       "      <td>No Income</td>\n",
       "      <td>Post Graduate</td>\n",
       "      <td>4</td>\n",
       "      <td>12.9766</td>\n",
       "      <td>77.5993</td>\n",
       "      <td>560001</td>\n",
       "      <td>...</td>\n",
       "      <td>Moderately Important</td>\n",
       "      <td>Moderately Important</td>\n",
       "      <td>Moderately Important</td>\n",
       "      <td>Moderately Important</td>\n",
       "      <td>Moderately Important</td>\n",
       "      <td>Moderately Important</td>\n",
       "      <td>Moderately Important</td>\n",
       "      <td>Moderately Important</td>\n",
       "      <td>Yes</td>\n",
       "      <td>Nil\\n</td>\n",
       "    </tr>\n",
       "    <tr>\n",
       "      <th>1</th>\n",
       "      <td>24</td>\n",
       "      <td>Female</td>\n",
       "      <td>Single</td>\n",
       "      <td>Student</td>\n",
       "      <td>Below Rs.10000</td>\n",
       "      <td>Graduate</td>\n",
       "      <td>3</td>\n",
       "      <td>12.9770</td>\n",
       "      <td>77.5773</td>\n",
       "      <td>560009</td>\n",
       "      <td>...</td>\n",
       "      <td>Very Important</td>\n",
       "      <td>Very Important</td>\n",
       "      <td>Very Important</td>\n",
       "      <td>Very Important</td>\n",
       "      <td>Very Important</td>\n",
       "      <td>Very Important</td>\n",
       "      <td>Very Important</td>\n",
       "      <td>Very Important</td>\n",
       "      <td>Yes</td>\n",
       "      <td>Nil</td>\n",
       "    </tr>\n",
       "    <tr>\n",
       "      <th>2</th>\n",
       "      <td>22</td>\n",
       "      <td>Male</td>\n",
       "      <td>Single</td>\n",
       "      <td>Student</td>\n",
       "      <td>Below Rs.10000</td>\n",
       "      <td>Post Graduate</td>\n",
       "      <td>3</td>\n",
       "      <td>12.9551</td>\n",
       "      <td>77.6593</td>\n",
       "      <td>560017</td>\n",
       "      <td>...</td>\n",
       "      <td>Important</td>\n",
       "      <td>Very Important</td>\n",
       "      <td>Moderately Important</td>\n",
       "      <td>Very Important</td>\n",
       "      <td>Very Important</td>\n",
       "      <td>Important</td>\n",
       "      <td>Very Important</td>\n",
       "      <td>Moderately Important</td>\n",
       "      <td>Yes</td>\n",
       "      <td>Many a times payment gateways are an issue, so...</td>\n",
       "    </tr>\n",
       "    <tr>\n",
       "      <th>3</th>\n",
       "      <td>22</td>\n",
       "      <td>Female</td>\n",
       "      <td>Single</td>\n",
       "      <td>Student</td>\n",
       "      <td>No Income</td>\n",
       "      <td>Graduate</td>\n",
       "      <td>6</td>\n",
       "      <td>12.9473</td>\n",
       "      <td>77.5616</td>\n",
       "      <td>560019</td>\n",
       "      <td>...</td>\n",
       "      <td>Very Important</td>\n",
       "      <td>Important</td>\n",
       "      <td>Moderately Important</td>\n",
       "      <td>Very Important</td>\n",
       "      <td>Very Important</td>\n",
       "      <td>Very Important</td>\n",
       "      <td>Very Important</td>\n",
       "      <td>Important</td>\n",
       "      <td>Yes</td>\n",
       "      <td>nil</td>\n",
       "    </tr>\n",
       "    <tr>\n",
       "      <th>4</th>\n",
       "      <td>22</td>\n",
       "      <td>Male</td>\n",
       "      <td>Single</td>\n",
       "      <td>Student</td>\n",
       "      <td>Below Rs.10000</td>\n",
       "      <td>Post Graduate</td>\n",
       "      <td>4</td>\n",
       "      <td>12.9850</td>\n",
       "      <td>77.5533</td>\n",
       "      <td>560010</td>\n",
       "      <td>...</td>\n",
       "      <td>Important</td>\n",
       "      <td>Important</td>\n",
       "      <td>Moderately Important</td>\n",
       "      <td>Important</td>\n",
       "      <td>Important</td>\n",
       "      <td>Important</td>\n",
       "      <td>Very Important</td>\n",
       "      <td>Very Important</td>\n",
       "      <td>Yes</td>\n",
       "      <td>NIL</td>\n",
       "    </tr>\n",
       "  </tbody>\n",
       "</table>\n",
       "<p>5 rows × 55 columns</p>\n",
       "</div>"
      ],
      "text/plain": [
       "   Age  Gender Marital Status Occupation  Monthly Income  \\\n",
       "0   20  Female         Single    Student       No Income   \n",
       "1   24  Female         Single    Student  Below Rs.10000   \n",
       "2   22    Male         Single    Student  Below Rs.10000   \n",
       "3   22  Female         Single    Student       No Income   \n",
       "4   22    Male         Single    Student  Below Rs.10000   \n",
       "\n",
       "  Educational Qualifications  Family size  latitude  longitude  Pin code  ...  \\\n",
       "0              Post Graduate            4   12.9766    77.5993    560001  ...   \n",
       "1                   Graduate            3   12.9770    77.5773    560009  ...   \n",
       "2              Post Graduate            3   12.9551    77.6593    560017  ...   \n",
       "3                   Graduate            6   12.9473    77.5616    560019  ...   \n",
       "4              Post Graduate            4   12.9850    77.5533    560010  ...   \n",
       "\n",
       "     Less Delivery time High Quality of package       Number of calls  \\\n",
       "0  Moderately Important    Moderately Important  Moderately Important   \n",
       "1        Very Important          Very Important        Very Important   \n",
       "2             Important          Very Important  Moderately Important   \n",
       "3        Very Important               Important  Moderately Important   \n",
       "4             Important               Important  Moderately Important   \n",
       "\n",
       "             Politeness            Freshness            Temperature  \\\n",
       "0  Moderately Important  Moderately Important  Moderately Important   \n",
       "1        Very Important        Very Important        Very Important   \n",
       "2        Very Important        Very Important             Important   \n",
       "3        Very Important        Very Important        Very Important   \n",
       "4             Important             Important             Important   \n",
       "\n",
       "            Good Taste          Good Quantity Output  \\\n",
       "0  Moderately Important  Moderately Important    Yes   \n",
       "1        Very Important        Very Important    Yes   \n",
       "2        Very Important  Moderately Important    Yes   \n",
       "3        Very Important             Important    Yes   \n",
       "4        Very Important        Very Important    Yes   \n",
       "\n",
       "                                             Reviews  \n",
       "0                                              Nil\\n  \n",
       "1                                                Nil  \n",
       "2  Many a times payment gateways are an issue, so...  \n",
       "3                                                nil  \n",
       "4                                                NIL  \n",
       "\n",
       "[5 rows x 55 columns]"
      ]
     },
     "execution_count": 14,
     "metadata": {},
     "output_type": "execute_result"
    }
   ],
   "source": [
    "fd_ori.head()"
   ]
  },
  {
   "cell_type": "code",
   "execution_count": 15,
   "metadata": {
    "ExecuteTime": {
     "end_time": "2021-04-09T16:39:50.104363Z",
     "start_time": "2021-04-09T16:39:49.902477Z"
    }
   },
   "outputs": [
    {
     "data": {
      "text/plain": [
       "Index(['Age', 'Gender', 'Marital Status', 'Occupation', 'Monthly Income',\n",
       "       'Educational Qualifications', 'Family size', 'latitude', 'longitude',\n",
       "       'Pin code', 'Medium (P1)', 'Medium (P2)', 'Meal(P1)', 'Meal(P2)',\n",
       "       'Perference(P1)', 'Perference(P2)', 'Ease and convenient',\n",
       "       'Time saving', 'More restaurant choices', 'Easy Payment option',\n",
       "       'More Offers and Discount', 'Good Food quality', 'Good Tracking system',\n",
       "       'Self Cooking', 'Health Concern', 'Late Delivery', 'Poor Hygiene',\n",
       "       'Bad past experience', 'Unavailability', 'Unaffordable',\n",
       "       'Long delivery time', 'Delay of delivery person getting assigned',\n",
       "       'Delay of delivery person picking up food', 'Wrong order delivered',\n",
       "       'Missing item', 'Order placed by mistake', 'Influence of time',\n",
       "       'Order Time', 'Maximum wait time', 'Residence in busy location',\n",
       "       'Google Maps Accuracy', 'Good Road Condition', 'Low quantity low time',\n",
       "       'Delivery person ability', 'Influence of rating', 'Less Delivery time',\n",
       "       'High Quality of package', 'Number of calls', 'Politeness',\n",
       "       'Freshness ', 'Temperature', 'Good Taste ', 'Good Quantity', 'Output',\n",
       "       'Reviews'],\n",
       "      dtype='object')"
      ]
     },
     "execution_count": 15,
     "metadata": {},
     "output_type": "execute_result"
    }
   ],
   "source": [
    "l1=(fd_ori.columns[:])\n",
    "l1"
   ]
  },
  {
   "cell_type": "code",
   "execution_count": 16,
   "metadata": {
    "ExecuteTime": {
     "end_time": "2021-04-09T16:39:50.309245Z",
     "start_time": "2021-04-09T16:39:50.109360Z"
    },
    "scrolled": true
   },
   "outputs": [
    {
     "name": "stdout",
     "output_type": "stream",
     "text": [
      "<class 'pandas.core.frame.DataFrame'>\n",
      "RangeIndex: 388 entries, 0 to 387\n",
      "Data columns (total 55 columns):\n",
      " #   Column                                     Non-Null Count  Dtype  \n",
      "---  ------                                     --------------  -----  \n",
      " 0   Age                                        388 non-null    int64  \n",
      " 1   Gender                                     388 non-null    int32  \n",
      " 2   Marital Status                             388 non-null    int32  \n",
      " 3   Occupation                                 388 non-null    int32  \n",
      " 4   Monthly Income                             388 non-null    int32  \n",
      " 5   Educational Qualifications                 388 non-null    int32  \n",
      " 6   Family size                                388 non-null    int64  \n",
      " 7   latitude                                   388 non-null    float64\n",
      " 8   longitude                                  388 non-null    float64\n",
      " 9   Pin code                                   388 non-null    int64  \n",
      " 10  Medium (P1)                                388 non-null    int32  \n",
      " 11  Medium (P2)                                388 non-null    int32  \n",
      " 12  Meal(P1)                                   388 non-null    int32  \n",
      " 13  Meal(P2)                                   388 non-null    int32  \n",
      " 14  Perference(P1)                             388 non-null    int32  \n",
      " 15  Perference(P2)                             388 non-null    int32  \n",
      " 16  Ease and convenient                        388 non-null    int32  \n",
      " 17  Time saving                                388 non-null    int32  \n",
      " 18  More restaurant choices                    388 non-null    int32  \n",
      " 19  Easy Payment option                        388 non-null    int32  \n",
      " 20  More Offers and Discount                   388 non-null    int32  \n",
      " 21  Good Food quality                          388 non-null    int32  \n",
      " 22  Good Tracking system                       388 non-null    int32  \n",
      " 23  Self Cooking                               388 non-null    int32  \n",
      " 24  Health Concern                             388 non-null    int32  \n",
      " 25  Late Delivery                              388 non-null    int32  \n",
      " 26  Poor Hygiene                               388 non-null    int32  \n",
      " 27  Bad past experience                        388 non-null    int32  \n",
      " 28  Unavailability                             388 non-null    int32  \n",
      " 29  Unaffordable                               388 non-null    int32  \n",
      " 30  Long delivery time                         388 non-null    int32  \n",
      " 31  Delay of delivery person getting assigned  388 non-null    int32  \n",
      " 32  Delay of delivery person picking up food   388 non-null    int32  \n",
      " 33  Wrong order delivered                      388 non-null    int32  \n",
      " 34  Missing item                               388 non-null    int32  \n",
      " 35  Order placed by mistake                    388 non-null    int32  \n",
      " 36  Influence of time                          388 non-null    int32  \n",
      " 37  Order Time                                 388 non-null    int32  \n",
      " 38  Maximum wait time                          388 non-null    int32  \n",
      " 39  Residence in busy location                 388 non-null    int32  \n",
      " 40  Google Maps Accuracy                       388 non-null    int32  \n",
      " 41  Good Road Condition                        388 non-null    int32  \n",
      " 42  Low quantity low time                      388 non-null    int32  \n",
      " 43  Delivery person ability                    388 non-null    int32  \n",
      " 44  Influence of rating                        388 non-null    int32  \n",
      " 45  Less Delivery time                         388 non-null    int32  \n",
      " 46  High Quality of package                    388 non-null    int32  \n",
      " 47  Number of calls                            388 non-null    int32  \n",
      " 48  Politeness                                 388 non-null    int32  \n",
      " 49  Freshness                                  388 non-null    int32  \n",
      " 50  Temperature                                388 non-null    int32  \n",
      " 51  Good Taste                                 388 non-null    int32  \n",
      " 52  Good Quantity                              388 non-null    int32  \n",
      " 53  Output                                     388 non-null    int32  \n",
      " 54  Reviews                                    388 non-null    int32  \n",
      "dtypes: float64(2), int32(50), int64(3)\n",
      "memory usage: 91.1 KB\n"
     ]
    }
   ],
   "source": [
    "fd_dlvry.info()"
   ]
  },
  {
   "cell_type": "code",
   "execution_count": 17,
   "metadata": {
    "ExecuteTime": {
     "end_time": "2021-04-09T16:39:50.435175Z",
     "start_time": "2021-04-09T16:39:50.314243Z"
    }
   },
   "outputs": [
    {
     "data": {
      "text/plain": [
       "Index(['Age', 'Gender', 'Marital Status', 'Occupation', 'Monthly Income',\n",
       "       'Educational Qualifications', 'Family size', 'latitude', 'longitude',\n",
       "       'Pin code', 'Medium (P1)', 'Medium (P2)', 'Meal(P1)', 'Meal(P2)',\n",
       "       'Perference(P1)', 'Perference(P2)', 'Ease and convenient',\n",
       "       'Time saving', 'More restaurant choices', 'Easy Payment option',\n",
       "       'More Offers and Discount', 'Good Food quality', 'Good Tracking system',\n",
       "       'Self Cooking', 'Health Concern', 'Late Delivery', 'Poor Hygiene',\n",
       "       'Bad past experience', 'Unavailability', 'Unaffordable',\n",
       "       'Long delivery time', 'Delay of delivery person getting assigned',\n",
       "       'Delay of delivery person picking up food', 'Wrong order delivered',\n",
       "       'Missing item', 'Order placed by mistake', 'Influence of time',\n",
       "       'Order Time', 'Maximum wait time', 'Residence in busy location',\n",
       "       'Google Maps Accuracy', 'Good Road Condition', 'Low quantity low time',\n",
       "       'Delivery person ability', 'Influence of rating', 'Less Delivery time',\n",
       "       'High Quality of package', 'Number of calls', 'Politeness',\n",
       "       'Freshness ', 'Temperature', 'Good Taste ', 'Good Quantity', 'Output'],\n",
       "      dtype='object')"
      ]
     },
     "execution_count": 17,
     "metadata": {},
     "output_type": "execute_result"
    }
   ],
   "source": [
    "df=fd_ori.drop('Reviews',axis=1) #drop reviews because it's take NLP in future i will try it\n",
    "df.columns"
   ]
  },
  {
   "cell_type": "code",
   "execution_count": null,
   "metadata": {},
   "outputs": [],
   "source": []
  },
  {
   "cell_type": "code",
   "execution_count": 18,
   "metadata": {
    "ExecuteTime": {
     "end_time": "2021-04-09T16:39:50.656047Z",
     "start_time": "2021-04-09T16:39:50.439173Z"
    }
   },
   "outputs": [],
   "source": [
    "%matplotlib inline"
   ]
  },
  {
   "cell_type": "code",
   "execution_count": 19,
   "metadata": {
    "ExecuteTime": {
     "end_time": "2021-04-09T16:39:50.747997Z",
     "start_time": "2021-04-09T16:39:50.661044Z"
    }
   },
   "outputs": [],
   "source": [
    "# we needs to back map for lable encoding \n",
    "lbl=dict()\n",
    "for i in fd_ori.columns:\n",
    "    if i not in  ['latitude','longitude','Pin code','Output','Reviews']:\n",
    "                  lbl[i]=dict(zip(fd_ori[i].unique(), fd_dlvry[i].unique()))\n",
    "    "
   ]
  },
  {
   "cell_type": "code",
   "execution_count": 20,
   "metadata": {
    "ExecuteTime": {
     "end_time": "2021-04-09T16:39:50.872922Z",
     "start_time": "2021-04-09T16:39:50.751993Z"
    },
    "scrolled": false
   },
   "outputs": [
    {
     "data": {
      "text/plain": [
       "{'Age': {20: 20,\n",
       "  24: 24,\n",
       "  22: 22,\n",
       "  27: 27,\n",
       "  23: 23,\n",
       "  21: 21,\n",
       "  28: 28,\n",
       "  25: 25,\n",
       "  32: 32,\n",
       "  30: 30,\n",
       "  31: 31,\n",
       "  26: 26,\n",
       "  18: 18,\n",
       "  19: 19,\n",
       "  33: 33,\n",
       "  29: 29},\n",
       " 'Gender': {'Female': 0, 'Male': 1},\n",
       " 'Marital Status': {'Single': 2, 'Married': 0, 'Prefer not to say': 1},\n",
       " 'Occupation': {'Student': 3,\n",
       "  'Employee': 0,\n",
       "  'Self Employeed': 2,\n",
       "  'House wife': 1},\n",
       " 'Monthly Income': {'No Income': 4,\n",
       "  'Below Rs.10000': 2,\n",
       "  'More than 50000': 3,\n",
       "  '10001 to 25000': 0,\n",
       "  '25001 to 50000': 1},\n",
       " 'Educational Qualifications': {'Post Graduate': 2,\n",
       "  'Graduate': 0,\n",
       "  'Ph.D': 1,\n",
       "  'Uneducated': 4,\n",
       "  'School': 3},\n",
       " 'Family size': {4: 4, 3: 3, 6: 6, 2: 2, 5: 5, 1: 1},\n",
       " 'Medium (P1)': {'Food delivery apps': 1,\n",
       "  'Walk-in': 2,\n",
       "  'Direct call': 0,\n",
       "  'Web browser': 3},\n",
       " 'Medium (P2)': {' Web browser': 2, ' Direct call': 0, ' Walk-in': 1},\n",
       " 'Meal(P1)': {'Breakfast': 0, 'Snacks': 3, 'Lunch': 2, 'Dinner': 1},\n",
       " 'Meal(P2)': {' Lunch': 1, ' Dinner': 0, ' Snacks': 2},\n",
       " 'Perference(P1)': {'Non Veg foods (Lunch / Dinner)': 1,\n",
       "  'Veg foods (Breakfast / Lunch / Dinner)': 3,\n",
       "  'Bakery items (snacks)': 0,\n",
       "  'Sweets': 2},\n",
       " 'Perference(P2)': {' Bakery items (snacks)': 0,\n",
       "  ' Veg foods (Breakfast / Lunch / Dinner)': 3,\n",
       "  ' Ice cream / Cool drinks': 1,\n",
       "  ' Sweets': 2},\n",
       " 'Ease and convenient': {'Neutral': 2,\n",
       "  'Strongly agree': 3,\n",
       "  'Agree': 0,\n",
       "  'Strongly disagree': 4,\n",
       "  'Disagree': 1},\n",
       " 'Time saving': {'Neutral': 2,\n",
       "  'Strongly agree': 3,\n",
       "  'Agree': 0,\n",
       "  'Disagree': 1,\n",
       "  'Strongly disagree': 4},\n",
       " 'More restaurant choices': {'Neutral': 2,\n",
       "  'Strongly agree': 3,\n",
       "  'Agree': 0,\n",
       "  'Strongly disagree': 4,\n",
       "  'Disagree': 1},\n",
       " 'Easy Payment option': {'Neutral': 2,\n",
       "  'Strongly agree': 3,\n",
       "  'Agree': 0,\n",
       "  'Disagree': 1,\n",
       "  'Strongly disagree': 4},\n",
       " 'More Offers and Discount': {'Neutral': 2,\n",
       "  'Strongly agree': 3,\n",
       "  'Agree': 0,\n",
       "  'Disagree': 1,\n",
       "  'Strongly disagree': 4},\n",
       " 'Good Food quality': {'Neutral': 2,\n",
       "  'Disagree': 1,\n",
       "  'Agree': 0,\n",
       "  'Strongly agree': 3,\n",
       "  'Strongly disagree': 4},\n",
       " 'Good Tracking system': {'Neutral': 2,\n",
       "  'Agree': 0,\n",
       "  'Strongly agree': 3,\n",
       "  'Disagree': 1,\n",
       "  'Strongly disagree': 4},\n",
       " 'Self Cooking': {'Neutral': 2,\n",
       "  'Strongly agree': 3,\n",
       "  'Disagree': 1,\n",
       "  'Agree': 0,\n",
       "  'Strongly disagree': 4},\n",
       " 'Health Concern': {'Neutral': 2,\n",
       "  'Strongly agree': 3,\n",
       "  'Agree': 0,\n",
       "  'Strongly disagree': 4,\n",
       "  'Disagree': 1},\n",
       " 'Late Delivery': {'Neutral': 2,\n",
       "  'Agree': 0,\n",
       "  'Strongly agree': 3,\n",
       "  'Disagree': 1,\n",
       "  'Strongly disagree': 4},\n",
       " 'Poor Hygiene': {'Neutral': 2,\n",
       "  'Strongly agree': 3,\n",
       "  'Agree': 0,\n",
       "  'Disagree': 1,\n",
       "  'Strongly disagree': 4},\n",
       " 'Bad past experience': {'Neutral': 2,\n",
       "  'Strongly agree': 3,\n",
       "  'Agree': 0,\n",
       "  'Disagree': 1,\n",
       "  'Strongly disagree': 4},\n",
       " 'Unavailability': {'Neutral': 2,\n",
       "  'Strongly agree': 3,\n",
       "  'Agree': 0,\n",
       "  'Disagree': 1,\n",
       "  'Strongly disagree': 4},\n",
       " 'Unaffordable': {'Neutral': 2,\n",
       "  'Strongly agree': 3,\n",
       "  'Agree': 0,\n",
       "  'Disagree': 1,\n",
       "  'Strongly disagree': 4},\n",
       " 'Long delivery time': {'Agree': 0,\n",
       "  'Strongly agree': 3,\n",
       "  'Neutral': 2,\n",
       "  'Disagree': 1,\n",
       "  'Strongly disagree': 4},\n",
       " 'Delay of delivery person getting assigned': {'Agree': 0,\n",
       "  'Strongly agree': 3,\n",
       "  'Disagree': 1,\n",
       "  'Neutral': 2,\n",
       "  'Strongly disagree': 4},\n",
       " 'Delay of delivery person picking up food': {'Agree': 0,\n",
       "  'Strongly agree': 3,\n",
       "  'Neutral': 2,\n",
       "  'Disagree': 1,\n",
       "  'Strongly disagree': 4},\n",
       " 'Wrong order delivered': {'Agree': 0,\n",
       "  'Strongly agree': 3,\n",
       "  'Disagree': 1,\n",
       "  'Neutral': 2,\n",
       "  'Strongly disagree': 4},\n",
       " 'Missing item': {'Agree': 0,\n",
       "  'Strongly agree': 3,\n",
       "  'Disagree': 1,\n",
       "  'Neutral': 2,\n",
       "  'Strongly disagree': 4},\n",
       " 'Order placed by mistake': {'Agree': 0,\n",
       "  'Strongly agree': 3,\n",
       "  'Neutral': 2,\n",
       "  'Disagree': 1,\n",
       "  'Strongly disagree': 4},\n",
       " 'Influence of time': {'Yes': 2, 'No': 1, 'Maybe': 0},\n",
       " 'Order Time': {'Weekend (Sat & Sun)': 2,\n",
       "  'Anytime (Mon-Sun)': 0,\n",
       "  'Weekdays (Mon-Fri)': 1},\n",
       " 'Maximum wait time': {'30 minutes': 1,\n",
       "  '45 minutes': 2,\n",
       "  '60 minutes': 3,\n",
       "  'More than 60 minutes': 4,\n",
       "  '15 minutes': 0},\n",
       " 'Residence in busy location': {'Agree': 0,\n",
       "  'Strongly Agree': 3,\n",
       "  'Disagree': 1,\n",
       "  'Neutral': 2,\n",
       "  'Strongly disagree': 4},\n",
       " 'Google Maps Accuracy': {'Neutral': 2,\n",
       "  'Strongly Agree': 3,\n",
       "  'Agree': 0,\n",
       "  'Disagree': 1,\n",
       "  'Strongly disagree': 4},\n",
       " 'Good Road Condition': {'Neutral': 2,\n",
       "  'Disagree': 1,\n",
       "  'Agree': 0,\n",
       "  'Strongly Agree': 3,\n",
       "  'Strongly disagree': 4},\n",
       " 'Low quantity low time': {'Neutral': 2,\n",
       "  'Strongly disagree': 4,\n",
       "  'Agree': 0,\n",
       "  'Disagree': 1,\n",
       "  'Strongly Agree': 3},\n",
       " 'Delivery person ability': {'Neutral': 2,\n",
       "  'Agree': 0,\n",
       "  'Strongly Agree': 3,\n",
       "  'Disagree': 1,\n",
       "  'Strongly disagree': 4},\n",
       " 'Influence of rating': {'Yes': 2, 'Maybe': 0, 'No': 1},\n",
       " 'Less Delivery time': {'Moderately Important': 1,\n",
       "  'Very Important': 4,\n",
       "  'Important': 0,\n",
       "  'Slightly Important': 2,\n",
       "  'Unimportant': 3},\n",
       " 'High Quality of package': {'Moderately Important': 1,\n",
       "  'Very Important': 4,\n",
       "  'Important': 0,\n",
       "  'Unimportant': 3,\n",
       "  'Slightly Important': 2},\n",
       " 'Number of calls': {'Moderately Important': 1,\n",
       "  'Very Important': 4,\n",
       "  'Unimportant': 3,\n",
       "  'Important': 0,\n",
       "  'Slightly Important': 2},\n",
       " 'Politeness': {'Moderately Important': 1,\n",
       "  'Very Important': 4,\n",
       "  'Important': 0,\n",
       "  'Slightly Important': 2,\n",
       "  'Unimportant': 3},\n",
       " 'Freshness ': {'Moderately Important': 1,\n",
       "  'Very Important': 4,\n",
       "  'Important': 0,\n",
       "  'Slightly Important': 2,\n",
       "  'Unimportant': 3},\n",
       " 'Temperature': {'Moderately Important': 1,\n",
       "  'Very Important': 4,\n",
       "  'Important': 0,\n",
       "  'Slightly Important': 2,\n",
       "  'Unimportant': 3},\n",
       " 'Good Taste ': {'Moderately Important': 1,\n",
       "  'Very Important': 4,\n",
       "  'Important': 0,\n",
       "  'Slightly Important': 2,\n",
       "  'Unimportant': 3},\n",
       " 'Good Quantity': {'Moderately Important': 1,\n",
       "  'Very Important': 4,\n",
       "  'Important': 0,\n",
       "  'Slightly Important': 2,\n",
       "  'Unimportant': 3}}"
      ]
     },
     "execution_count": 20,
     "metadata": {},
     "output_type": "execute_result"
    }
   ],
   "source": [
    "lbl"
   ]
  },
  {
   "cell_type": "code",
   "execution_count": 21,
   "metadata": {
    "ExecuteTime": {
     "end_time": "2021-04-09T16:39:51.051821Z",
     "start_time": "2021-04-09T16:39:50.877920Z"
    },
    "code_folding": []
   },
   "outputs": [],
   "source": [
    "# practice chi-squared test\n",
    "# df=pd.crosstab(fd_ori['Meal(P1)'],fd_ori['Occupation'])\n",
    "# df\n",
    "\n",
    "# stat, p, dof, expected = st.chi2_contingency(df,correction=True)\n",
    "# stat, p, dof, expected\n",
    "\n",
    "\n"
   ]
  },
  {
   "cell_type": "markdown",
   "metadata": {},
   "source": [
    "#  method 1: Feature selection by phi coefficient"
   ]
  },
  {
   "cell_type": "code",
   "execution_count": 22,
   "metadata": {
    "ExecuteTime": {
     "end_time": "2021-04-09T16:39:52.694070Z",
     "start_time": "2021-04-09T16:39:51.059816Z"
    },
    "scrolled": true
   },
   "outputs": [
    {
     "data": {
      "text/plain": [
       "{'Output': [('Age', 0.41916612670006054),\n",
       "  ('Ease and convenient', 0.6944483749782563),\n",
       "  ('Time saving', 0.6333333550979008),\n",
       "  ('More restaurant choices', 0.5897138785369491),\n",
       "  ('Easy Payment option', 0.5571767618313485),\n",
       "  ('More Offers and Discount', 0.5564505912203883),\n",
       "  ('Good Food quality', 0.4243449172824401),\n",
       "  ('Good Tracking system', 0.41749280981704445),\n",
       "  ('Unaffordable', 0.40917014994986045),\n",
       "  ('Maximum wait time', 0.4135981980209824)]}"
      ]
     },
     "execution_count": 22,
     "metadata": {},
     "output_type": "execute_result"
    }
   ],
   "source": [
    "#phi perform for find relation between \n",
    "crv={}\n",
    "l1=[]\n",
    "for i in fd_ori.columns:\n",
    "    if i not in  ['latitude','longitude','Pin code','Output','Reviews']:\n",
    "        '''we are not using lat and long because in EDA all location diffrent (reference dtale lib)'''\n",
    "        df=pd.crosstab(fd_ori['Output'],fd_ori[i])\n",
    "        stat, p, dof, expected = st.chi2_contingency(df,correction=True)\n",
    "     \n",
    "        deno=sum(df.sum())\n",
    "        x=numpy.sqrt(stat / deno)\n",
    "        if(x>0.40): #thresold\n",
    "             l1.append((i,x))\n",
    "\n",
    "\n",
    "crv['Output']=l1\n",
    "        \n",
    "crv"
   ]
  },
  {
   "cell_type": "code",
   "execution_count": 23,
   "metadata": {
    "ExecuteTime": {
     "end_time": "2021-04-09T16:39:52.716054Z",
     "start_time": "2021-04-09T16:39:52.706061Z"
    },
    "code_folding": []
   },
   "outputs": [
    {
     "data": {
      "text/plain": [
       "['Age',\n",
       " 'Ease and convenient',\n",
       " 'Time saving',\n",
       " 'More restaurant choices',\n",
       " 'Easy Payment option',\n",
       " 'More Offers and Discount',\n",
       " 'Good Food quality',\n",
       " 'Good Tracking system',\n",
       " 'Unaffordable',\n",
       " 'Maximum wait time']"
      ]
     },
     "execution_count": 23,
     "metadata": {},
     "output_type": "execute_result"
    }
   ],
   "source": [
    "#Extract the feature from above dictionary \n",
    "basic_f0=[]\n",
    "for i in l1:\n",
    "    basic_f0.append(i[0])\n",
    "\n",
    "basic_f0"
   ]
  },
  {
   "cell_type": "code",
   "execution_count": 24,
   "metadata": {
    "ExecuteTime": {
     "end_time": "2021-04-09T16:39:52.857983Z",
     "start_time": "2021-04-09T16:39:52.725051Z"
    }
   },
   "outputs": [],
   "source": [
    "X=fd_dlvry[basic_f0] # select X \n",
    "y=fd_dlvry['Output'] # select Y\n"
   ]
  },
  {
   "cell_type": "code",
   "execution_count": 25,
   "metadata": {
    "ExecuteTime": {
     "end_time": "2021-04-09T16:39:53.019716Z",
     "start_time": "2021-04-09T16:39:52.861971Z"
    }
   },
   "outputs": [
    {
     "data": {
      "text/plain": [
       "array([1, 0])"
      ]
     },
     "execution_count": 25,
     "metadata": {},
     "output_type": "execute_result"
    }
   ],
   "source": [
    "y.unique()"
   ]
  },
  {
   "cell_type": "code",
   "execution_count": 26,
   "metadata": {
    "ExecuteTime": {
     "end_time": "2021-04-09T16:39:53.187617Z",
     "start_time": "2021-04-09T16:39:53.023711Z"
    }
   },
   "outputs": [],
   "source": [
    "%matplotlib inline"
   ]
  },
  {
   "cell_type": "code",
   "execution_count": 27,
   "metadata": {
    "ExecuteTime": {
     "end_time": "2021-04-09T16:39:53.420496Z",
     "start_time": "2021-04-09T16:39:53.193615Z"
    },
    "scrolled": true
   },
   "outputs": [
    {
     "data": {
      "text/plain": [
       "['Age',\n",
       " 'Ease and convenient',\n",
       " 'Time saving',\n",
       " 'More restaurant choices',\n",
       " 'Easy Payment option',\n",
       " 'More Offers and Discount',\n",
       " 'Good Food quality',\n",
       " 'Good Tracking system',\n",
       " 'Unaffordable',\n",
       " 'Maximum wait time']"
      ]
     },
     "execution_count": 27,
     "metadata": {},
     "output_type": "execute_result"
    }
   ],
   "source": [
    "basic_f0"
   ]
  },
  {
   "cell_type": "code",
   "execution_count": 28,
   "metadata": {
    "ExecuteTime": {
     "end_time": "2021-04-09T16:39:53.961176Z",
     "start_time": "2021-04-09T16:39:53.429479Z"
    },
    "scrolled": true
   },
   "outputs": [
    {
     "data": {
      "text/plain": [
       "<AxesSubplot:xlabel='Output', ylabel='count'>"
      ]
     },
     "execution_count": 28,
     "metadata": {},
     "output_type": "execute_result"
    },
    {
     "data": {
      "image/png": "[encoded data removed]",
      "text/plain": [
       "<Figure size 432x288 with 1 Axes>"
      ]
     },
     "metadata": {
      "needs_background": "light"
     },
     "output_type": "display_data"
    }
   ],
   "source": [
    "sns.countplot(fd_ori['Output']) # look target feature"
   ]
  },
  {
   "cell_type": "markdown",
   "metadata": {
    "ExecuteTime": {
     "end_time": "2020-12-19T04:21:54.351232Z",
     "start_time": "2020-12-19T04:21:54.343232Z"
    }
   },
   "source": [
    "#  KNN Algorithm  "
   ]
  },
  {
   "cell_type": "code",
   "execution_count": null,
   "metadata": {
    "ExecuteTime": {
     "end_time": "2021-04-05T06:16:47.052439Z",
     "start_time": "2021-04-05T06:16:47.043443Z"
    }
   },
   "outputs": [],
   "source": []
  },
  {
   "cell_type": "code",
   "execution_count": 29,
   "metadata": {
    "ExecuteTime": {
     "end_time": "2021-04-09T16:39:54.014144Z",
     "start_time": "2021-04-09T16:39:53.966173Z"
    }
   },
   "outputs": [],
   "source": [
    "# train_test_split by sklearn \n",
    "X=fd_dlvry[basic_f0]\n",
    "y=fd_dlvry['Output']\n",
    "# from imblearn.under_sampling import NearMiss\n",
    "# nm=NearMiss()\n",
    "# Make data balanced\n",
    "from imblearn.over_sampling import RandomOverSampler\n",
    "nm=RandomOverSampler(0.5)\n",
    "X,y=nm.fit_resample(X,y)\n",
    "X_train, X_test, y_train, y_test = train_test_split(X, y, test_size = 0.33)"
   ]
  },
  {
   "cell_type": "code",
   "execution_count": 30,
   "metadata": {
    "ExecuteTime": {
     "end_time": "2021-04-09T16:39:54.195076Z",
     "start_time": "2021-04-09T16:39:54.019142Z"
    }
   },
   "outputs": [
    {
     "data": {
      "text/plain": [
       "1    301\n",
       "0     87\n",
       "Name: Output, dtype: int64"
      ]
     },
     "execution_count": 30,
     "metadata": {},
     "output_type": "execute_result"
    }
   ],
   "source": [
    "fd_dlvry['Output'].value_counts()"
   ]
  },
  {
   "cell_type": "code",
   "execution_count": 31,
   "metadata": {
    "ExecuteTime": {
     "end_time": "2021-04-09T16:39:54.351520Z",
     "start_time": "2021-04-09T16:39:54.201065Z"
    }
   },
   "outputs": [
    {
     "data": {
      "text/plain": [
       "((451, 10), (451,))"
      ]
     },
     "execution_count": 31,
     "metadata": {},
     "output_type": "execute_result"
    }
   ],
   "source": [
    "X.shape,y.shape"
   ]
  },
  {
   "cell_type": "code",
   "execution_count": 32,
   "metadata": {
    "ExecuteTime": {
     "end_time": "2021-04-09T16:39:56.537914Z",
     "start_time": "2021-04-09T16:39:54.355519Z"
    }
   },
   "outputs": [
    {
     "data": {
      "image/png": "[encoded data removed]",
      "text/plain": [
       "<Figure size 432x288 with 1 Axes>"
      ]
     },
     "metadata": {
      "needs_background": "light"
     },
     "output_type": "display_data"
    }
   ],
   "source": [
    "#select best knneighbour find \n",
    "plt.figure()\n",
    "training_accuracy = []\n",
    "test_accuracy = []\n",
    "# try n_neighbors from 1 to 10\n",
    "neighbors_settings = range(1, 11)\n",
    "for i in neighbors_settings:\n",
    "    clf = KNeighborsClassifier(n_neighbors=i)\n",
    "    clf.fit(X_train, y_train)\n",
    "    training_accuracy.append(clf.score(X_train, y_train))\n",
    "    # record generalization accuracy\n",
    "    test_accuracy.append(clf.score(X_test, y_test))\n",
    "plt.plot(neighbors_settings,training_accuracy,label=\"training accuracy\")\n",
    "plt.plot(neighbors_settings,test_accuracy,label=\"test accuracy\")\n",
    "plt.ylabel(\"Accuracy\")\n",
    "plt.xlabel(\"n_neighbors\")\n",
    "plt.legend()\n",
    "\n",
    "plt.show()"
   ]
  },
  {
   "cell_type": "code",
   "execution_count": 33,
   "metadata": {
    "ExecuteTime": {
     "end_time": "2021-04-09T16:39:58.942983Z",
     "start_time": "2021-04-09T16:39:56.542424Z"
    }
   },
   "outputs": [
    {
     "data": {
      "image/png": "[encoded data removed]",
      "text/plain": [
       "<Figure size 432x288 with 1 Axes>"
      ]
     },
     "metadata": {
      "needs_background": "light"
     },
     "output_type": "display_data"
    }
   ],
   "source": [
    "# appropriate test size find \n",
    "plt.figure()\n",
    "training_accuracy = []\n",
    "test_accuracy = []\n",
    "# try n_neighbors from 1 to 10\n",
    "test_size= numpy.arange(0.1, 0.9,0.05)\n",
    "knn = KNeighborsClassifier(n_neighbors = 3,p=1)\n",
    "for i in test_size:\n",
    "    \n",
    "        X_train, X_test, y_train, y_test = train_test_split(X, y, test_size = i)\n",
    "        knn.fit(X_train, y_train)\n",
    "        training_accuracy.append(knn.score(X_test, y_test))\n",
    "        test_accuracy.append(knn.score(X_train, y_train))\n",
    "  \n",
    "\n",
    "    \n",
    "plt.plot(test_size,training_accuracy,label=\"training accuracy\")\n",
    "plt.plot(test_size,test_accuracy,label=\"test accuracy\")\n",
    "plt.ylabel(\"Accuracy\")\n",
    "plt.xlabel(\"test_size\")\n",
    "plt.legend()\n",
    "\n",
    "plt.show()"
   ]
  },
  {
   "cell_type": "code",
   "execution_count": 34,
   "metadata": {
    "ExecuteTime": {
     "end_time": "2021-04-09T16:39:58.958998Z",
     "start_time": "2021-04-09T16:39:58.947979Z"
    }
   },
   "outputs": [],
   "source": [
    "#split data\n",
    "X_train,X_test,y_train,y_test=train_test_split(X,y,test_size=0.25)"
   ]
  },
  {
   "cell_type": "code",
   "execution_count": 35,
   "metadata": {
    "ExecuteTime": {
     "end_time": "2021-04-09T16:39:59.101020Z",
     "start_time": "2021-04-09T16:39:58.972014Z"
    }
   },
   "outputs": [
    {
     "data": {
      "text/plain": [
       "0.9292035398230089"
      ]
     },
     "execution_count": 35,
     "metadata": {},
     "output_type": "execute_result"
    }
   ],
   "source": [
    "# fit data and perform the knn algo\n",
    "neigh = KNeighborsClassifier(n_neighbors=5,p=1)\n",
    "\n",
    "knn=neigh.fit(X_train,y_train)\n",
    "\n",
    "knn.score(X_test,y_test)\n"
   ]
  },
  {
   "cell_type": "code",
   "execution_count": 36,
   "metadata": {
    "ExecuteTime": {
     "end_time": "2021-04-09T16:39:59.228947Z",
     "start_time": "2021-04-09T16:39:59.106017Z"
    }
   },
   "outputs": [],
   "source": [
    "#y_pred for confusion matrix\n",
    "y_pred=knn.predict(X_test)"
   ]
  },
  {
   "cell_type": "code",
   "execution_count": 37,
   "metadata": {
    "ExecuteTime": {
     "end_time": "2021-04-09T16:39:59.336886Z",
     "start_time": "2021-04-09T16:39:59.232948Z"
    }
   },
   "outputs": [
    {
     "data": {
      "text/plain": [
       "array([[29,  4],\n",
       "       [ 4, 76]], dtype=int64)"
      ]
     },
     "execution_count": 37,
     "metadata": {},
     "output_type": "execute_result"
    }
   ],
   "source": [
    "#confusion matrix \n",
    "cf_matrix_n=confusion_matrix(y_test, y_pred)\n",
    "cf_matrix_n"
   ]
  },
  {
   "cell_type": "code",
   "execution_count": 38,
   "metadata": {
    "ExecuteTime": {
     "end_time": "2021-04-09T16:39:59.452820Z",
     "start_time": "2021-04-09T16:39:59.342883Z"
    },
    "scrolled": false
   },
   "outputs": [
    {
     "name": "stdout",
     "output_type": "stream",
     "text": [
      "              precision    recall  f1-score   support\n",
      "\n",
      "           0       0.88      0.88      0.88        33\n",
      "           1       0.95      0.95      0.95        80\n",
      "\n",
      "    accuracy                           0.93       113\n",
      "   macro avg       0.91      0.91      0.91       113\n",
      "weighted avg       0.93      0.93      0.93       113\n",
      "\n"
     ]
    }
   ],
   "source": [
    "#classification report \n",
    "print(classification_report(y_test,y_pred))"
   ]
  },
  {
   "cell_type": "code",
   "execution_count": 39,
   "metadata": {
    "ExecuteTime": {
     "end_time": "2021-04-09T16:40:00.300874Z",
     "start_time": "2021-04-09T16:39:59.458815Z"
    }
   },
   "outputs": [
    {
     "data": {
      "image/png": "[encoded data removed]",
      "text/plain": [
       "<Figure size 432x288 with 1 Axes>"
      ]
     },
     "metadata": {
      "needs_background": "light"
     },
     "output_type": "display_data"
    }
   ],
   "source": [
    "from sklearn.metrics import roc_curve\n",
    "fpr, tpr, thresholds=roc_curve(y_test, y_pred)\n",
    "AUC=round(metrics.auc(fpr, tpr),2)\n",
    "\n",
    "plt.plot([0,1], [0,1], linestyle='--', label='No Skill')\n",
    "plt.plot(fpr, tpr, marker='.', label=f'knn AUC={AUC}')\n",
    "# axis labels\n",
    "plt.xlabel('False Positive Rate')\n",
    "plt.ylabel('True Positive Rate')\n",
    "plt.legend()\n",
    "# show the plot\n",
    "plt.show()\n"
   ]
  },
  {
   "cell_type": "markdown",
   "metadata": {
    "ExecuteTime": {
     "end_time": "2020-12-19T04:23:45.286574Z",
     "start_time": "2020-12-19T04:23:45.278579Z"
    }
   },
   "source": [
    "<b> Conclusion: </b>"
   ]
  },
  {
   "cell_type": "code",
   "execution_count": 40,
   "metadata": {
    "ExecuteTime": {
     "end_time": "2021-04-09T16:40:00.314866Z",
     "start_time": "2021-04-09T16:40:00.304871Z"
    }
   },
   "outputs": [
    {
     "data": {
      "text/plain": [
       "'Here weighted avg f1-score is good and AUC is greate but problems here Knn is not learning something\\nknn just use more memory space for perform operation and mostly features are categorical so noise affect\\non this algorithms\\n'"
      ]
     },
     "execution_count": 40,
     "metadata": {},
     "output_type": "execute_result"
    }
   ],
   "source": [
    "'''Here weighted avg f1-score is good and AUC is greate but problems here Knn is not learning something\n",
    "knn just use more memory space for perform operation and mostly features are categorical so noise affect\n",
    "on this algorithms\n",
    "'''"
   ]
  },
  {
   "cell_type": "markdown",
   "metadata": {
    "ExecuteTime": {
     "end_time": "2020-12-30T12:59:28.745150Z",
     "start_time": "2020-12-30T12:59:28.737155Z"
    }
   },
   "source": [
    "<b> Cross-Validation </b>"
   ]
  },
  {
   "cell_type": "code",
   "execution_count": 41,
   "metadata": {
    "ExecuteTime": {
     "end_time": "2021-04-09T16:40:00.755808Z",
     "start_time": "2021-04-09T16:40:00.318863Z"
    }
   },
   "outputs": [
    {
     "name": "stdout",
     "output_type": "stream",
     "text": [
      "mean:=0.8873873873873874 std :0.05326953503842964\n"
     ]
    }
   ],
   "source": [
    "#without StratifiedKFold \n",
    "Knn=KNeighborsClassifier(n_neighbors=5,p=1)\n",
    "score=cross_val_score(knn,X,y,cv=12)\n",
    "print(\"mean:=\"+str(score.mean()),\"std :\"+str(score.std()))"
   ]
  },
  {
   "cell_type": "code",
   "execution_count": 42,
   "metadata": {
    "ExecuteTime": {
     "end_time": "2021-04-09T16:40:01.212958Z",
     "start_time": "2021-04-09T16:40:00.762802Z"
    }
   },
   "outputs": [
    {
     "name": "stdout",
     "output_type": "stream",
     "text": [
      "List of possible accuracy: [0.9210526315789473, 0.8157894736842105, 0.9210526315789473, 0.8157894736842105, 1.0, 0.7631578947368421, 0.868421052631579, 0.8918918918918919, 0.8918918918918919, 0.8648648648648649, 0.8648648648648649, 0.8648648648648649]\n",
      "\n",
      "Maximum Accuracy That can be obtained from this model is: 100.0 %\n",
      "\n",
      "Minimum Accuracy: 76.31578947368422 %\n",
      "\n",
      "Average Accuracy That can be obtained from this model is:: 0.8736367946894262\n",
      "\n",
      "Standard Deviation is: 0.05794173555781533\n"
     ]
    }
   ],
   "source": [
    "#with StratifiedKFold \n",
    "import numpy as np\n",
    "from sklearn.model_selection import StratifiedKFold \n",
    "skf = StratifiedKFold(n_splits=12, shuffle=True, random_state=1) \n",
    "lst_accu_stratified = [] \n",
    "\n",
    "for train_index, test_index in skf.split(X, y): \n",
    "    x_train_fold, x_test_fold = X.loc[train_index,:], X.loc[test_index,:] \n",
    "    y_train_fold, y_test_fold = y[train_index], y[test_index] \n",
    "    knn.fit(x_train_fold, y_train_fold) \n",
    "    lst_accu_stratified.append(knn.score(x_test_fold, y_test_fold))\n",
    "    \n",
    "    \n",
    "print('List of possible accuracy:', lst_accu_stratified) \n",
    "print('\\nMaximum Accuracy That can be obtained from this model is:', \n",
    "      max(lst_accu_stratified)*100, '%') \n",
    "print('\\nMinimum Accuracy:', \n",
    "      min(lst_accu_stratified)*100, '%') \n",
    "print('\\nAverage Accuracy That can be obtained from this model is::',np.mean(lst_accu_stratified)) \n",
    "print('\\nStandard Deviation is:',np.std(lst_accu_stratified)) "
   ]
  },
  {
   "cell_type": "markdown",
   "metadata": {},
   "source": [
    "# method 2: feature selection using SelectKBest"
   ]
  },
  {
   "cell_type": "code",
   "execution_count": 43,
   "metadata": {
    "ExecuteTime": {
     "end_time": "2021-04-09T16:40:01.527838Z",
     "start_time": "2021-04-09T16:40:01.217955Z"
    }
   },
   "outputs": [],
   "source": [
    "from sklearn.feature_selection import SelectKBest\n",
    "from sklearn.feature_selection import chi2,mutual_info_classif"
   ]
  },
  {
   "cell_type": "code",
   "execution_count": 44,
   "metadata": {
    "ExecuteTime": {
     "end_time": "2021-04-09T16:40:01.544828Z",
     "start_time": "2021-04-09T16:40:01.532836Z"
    }
   },
   "outputs": [],
   "source": [
    "def select_features(X_train, y_train, X_test):\n",
    "    fs = SelectKBest(score_func=chi2, k='all')\n",
    "    fs.fit(X_train, y_train)\n",
    "    X_train_fs = fs.transform(X_train)\n",
    "    X_test_fs = fs.transform(X_test)\n",
    "    return X_train_fs, X_test_fs, fs"
   ]
  },
  {
   "cell_type": "code",
   "execution_count": 45,
   "metadata": {
    "ExecuteTime": {
     "end_time": "2021-04-09T16:40:01.828668Z",
     "start_time": "2021-04-09T16:40:01.549826Z"
    }
   },
   "outputs": [
    {
     "data": {
      "text/plain": [
       "(451, 50)"
      ]
     },
     "execution_count": 45,
     "metadata": {},
     "output_type": "execute_result"
    }
   ],
   "source": [
    "#select feature \n",
    "l1=['latitude','longitude','Pin code','Output','Reviews']\n",
    "X=fd_dlvry[fd_dlvry.columns[~fd_dlvry.columns.isin(l1)]]\n",
    "y=fd_dlvry['Output']\n",
    "nm=RandomOverSampler(0.5)\n",
    "X,y=nm.fit_resample(X,y)\n",
    "X.shape"
   ]
  },
  {
   "cell_type": "code",
   "execution_count": 46,
   "metadata": {
    "ExecuteTime": {
     "end_time": "2021-04-09T16:40:01.966598Z",
     "start_time": "2021-04-09T16:40:01.833664Z"
    }
   },
   "outputs": [],
   "source": [
    "X_train, X_test, y_train, y_test = train_test_split(X, y, test_size=0.33, random_state=1)"
   ]
  },
  {
   "cell_type": "code",
   "execution_count": 47,
   "metadata": {
    "ExecuteTime": {
     "end_time": "2021-04-09T16:40:03.121935Z",
     "start_time": "2021-04-09T16:40:01.971595Z"
    }
   },
   "outputs": [
    {
     "name": "stdout",
     "output_type": "stream",
     "text": [
      "Feature 0: 9.217348\n",
      "Feature 1: 0.002555\n",
      "Feature 2: 22.200005\n",
      "Feature 3: 28.329415\n",
      "Feature 4: 17.994555\n",
      "Feature 5: 8.078422\n",
      "Feature 6: 1.075916\n",
      "Feature 7: 0.191377\n",
      "Feature 8: 0.691791\n",
      "Feature 9: 0.080650\n",
      "Feature 10: 0.153874\n",
      "Feature 11: 3.022678\n",
      "Feature 12: 0.039712\n",
      "Feature 13: 5.905818\n",
      "Feature 14: 2.419491\n",
      "Feature 15: 2.405375\n",
      "Feature 16: 7.461723\n",
      "Feature 17: 15.314500\n",
      "Feature 18: 4.849025\n",
      "Feature 19: 0.004962\n",
      "Feature 20: 44.507042\n",
      "Feature 21: 5.782612\n",
      "Feature 22: 18.199132\n",
      "Feature 23: 0.228425\n",
      "Feature 24: 30.239774\n",
      "Feature 25: 4.786544\n",
      "Feature 26: 16.714680\n",
      "Feature 27: 1.473942\n",
      "Feature 28: 1.277291\n",
      "Feature 29: 16.658641\n",
      "Feature 30: 1.381590\n",
      "Feature 31: 0.188008\n",
      "Feature 32: 2.024413\n",
      "Feature 33: 0.371258\n",
      "Feature 34: 11.020739\n",
      "Feature 35: 26.405555\n",
      "Feature 36: 9.474307\n",
      "Feature 37: 7.265941\n",
      "Feature 38: 1.609182\n",
      "Feature 39: 9.799662\n",
      "Feature 40: 0.477918\n",
      "Feature 41: 0.550171\n",
      "Feature 42: 6.920005\n",
      "Feature 43: 0.800753\n",
      "Feature 44: 0.010495\n",
      "Feature 45: 1.122362\n",
      "Feature 46: 10.568676\n",
      "Feature 47: 3.064822\n",
      "Feature 48: 11.309816\n",
      "Feature 49: 0.139994\n"
     ]
    },
    {
     "data": {
      "image/png": "[encoded data removed]",
      "text/plain": [
       "<Figure size 432x288 with 1 Axes>"
      ]
     },
     "metadata": {
      "needs_background": "light"
     },
     "output_type": "display_data"
    }
   ],
   "source": [
    "X_train_fs, X_test_fs, fs = select_features(X_train, y_train, X_test)\n",
    "for i in range(len(fs.scores_)):\n",
    "     print('Feature %d: %f' % (i, fs.scores_[i]))\n",
    "# plot the scores\n",
    "plt.bar([i for i in range(len(fs.scores_))], fs.scores_)\n",
    "\n",
    "plt.show()"
   ]
  },
  {
   "cell_type": "code",
   "execution_count": null,
   "metadata": {},
   "outputs": [],
   "source": []
  },
  {
   "cell_type": "code",
   "execution_count": 48,
   "metadata": {
    "ExecuteTime": {
     "end_time": "2021-04-09T16:40:03.138924Z",
     "start_time": "2021-04-09T16:40:03.126932Z"
    },
    "scrolled": true
   },
   "outputs": [
    {
     "name": "stdout",
     "output_type": "stream",
     "text": [
      "Marital Status\n",
      "Occupation\n",
      "Monthly Income\n",
      "More Offers and Discount\n",
      "Self Cooking\n",
      "Late Delivery\n",
      "Bad past experience\n",
      "Unaffordable\n",
      "Delay of delivery person picking up food\n",
      "Order Time\n",
      "Maximum wait time\n",
      "Freshness \n",
      "Good Taste \n"
     ]
    }
   ],
   "source": [
    "# Extract feature \n",
    "basic_f1=[]\n",
    "for i in range(len(fs.scores_)):\n",
    "    if(fs.scores_[i]>10): # set Thresold\n",
    "        print(X_test.columns[i])\n",
    "        basic_f1.append(X_test.columns[i])"
   ]
  },
  {
   "cell_type": "markdown",
   "metadata": {},
   "source": [
    "# KNN Algorithm "
   ]
  },
  {
   "cell_type": "code",
   "execution_count": 49,
   "metadata": {
    "ExecuteTime": {
     "end_time": "2021-04-09T16:40:03.232871Z",
     "start_time": "2021-04-09T16:40:03.145920Z"
    }
   },
   "outputs": [],
   "source": [
    "X=fd_dlvry[basic_f1]\n",
    "y=fd_dlvry['Output']\n",
    "\n",
    "nm=RandomOverSampler()\n",
    "X,y=nm.fit_resample(X,y)"
   ]
  },
  {
   "cell_type": "code",
   "execution_count": 50,
   "metadata": {
    "ExecuteTime": {
     "end_time": "2021-04-09T16:40:03.328816Z",
     "start_time": "2021-04-09T16:40:03.236869Z"
    }
   },
   "outputs": [
    {
     "data": {
      "text/plain": [
       "(602, 13)"
      ]
     },
     "execution_count": 50,
     "metadata": {},
     "output_type": "execute_result"
    }
   ],
   "source": [
    "X.shape"
   ]
  },
  {
   "cell_type": "code",
   "execution_count": 51,
   "metadata": {
    "ExecuteTime": {
     "end_time": "2021-04-09T16:40:05.127386Z",
     "start_time": "2021-04-09T16:40:03.332815Z"
    },
    "code_folding": []
   },
   "outputs": [
    {
     "data": {
      "image/png": "[encoded data removed]",
      "text/plain": [
       "<Figure size 432x288 with 1 Axes>"
      ]
     },
     "metadata": {
      "needs_background": "light"
     },
     "output_type": "display_data"
    }
   ],
   "source": [
    "#neighbour find \n",
    "plt.figure()\n",
    "training_accuracy = []\n",
    "test_accuracy = []\n",
    "# try n_neighbors from 1 to 10\n",
    "neighbors_settings = range(1, 11)\n",
    "for i in neighbors_settings:\n",
    "    clf = KNeighborsClassifier(n_neighbors=i,p=1)\n",
    "    clf.fit(X_train, y_train)\n",
    "    training_accuracy.append(clf.score(X_train, y_train))\n",
    "    # record generalization accuracy\n",
    "    test_accuracy.append(clf.score(X_test, y_test))\n",
    "plt.plot(neighbors_settings,training_accuracy,label=\"training accuracy\")\n",
    "plt.plot(neighbors_settings,test_accuracy,label=\"test accuracy\")\n",
    "plt.ylabel(\"Accuracy\")\n",
    "plt.xlabel(\"n_neighbors\")\n",
    "plt.legend()\n",
    "\n",
    "plt.show()"
   ]
  },
  {
   "cell_type": "code",
   "execution_count": 52,
   "metadata": {
    "ExecuteTime": {
     "end_time": "2021-04-09T16:40:05.138379Z",
     "start_time": "2021-04-09T16:40:05.132382Z"
    },
    "code_folding": [
     0
    ]
   },
   "outputs": [],
   "source": [
    "# here some Extra work it's take long time to running\n",
    "# plt.figure()\n",
    "# training_accuracy = []\n",
    "# test_accuracy = []\n",
    "# # try n_neighbors from 1 to 10\n",
    "# test_size= numpy.arange(0.1, 0.9,0.05)\n",
    "# knn = KNeighborsClassifier(n_neighbors = 3)\n",
    "# for i in test_size:\n",
    "    \n",
    "    \n",
    "#     test_score = []\n",
    "#     train_score=[]\n",
    "#     for j in range(1,1000):\n",
    "#         X_train, X_test, y_train, y_test = train_test_split(X, y, test_size = i,random_state=6)\n",
    "#         knn.fit(X_train, y_train)\n",
    "#         test_score.append(knn.score(X_test, y_test))\n",
    "#         train_score.append(knn.score(X_train, y_train))\n",
    "  \n",
    "\n",
    "       \n",
    "#     training_accuracy.append(np.mean(train_score))\n",
    "#     # record generalization accuracy\n",
    "#     test_accuracy.append(np.mean(test_score))\n",
    "\n",
    "# plt.plot(test_size,training_accuracy,label=\"training accuracy\")\n",
    "# plt.plot(test_size,test_accuracy,label=\"test accuracy\")\n",
    "# plt.ylabel(\"Accuracy\")\n",
    "# plt.xlabel(\"test_size\")\n",
    "# plt.legend()\n",
    "\n",
    "# plt.show()"
   ]
  },
  {
   "cell_type": "code",
   "execution_count": 53,
   "metadata": {
    "ExecuteTime": {
     "end_time": "2021-04-09T16:40:07.772706Z",
     "start_time": "2021-04-09T16:40:05.144377Z"
    },
    "code_folding": []
   },
   "outputs": [
    {
     "data": {
      "image/png": "[encoded data removed]",
      "text/plain": [
       "<Figure size 432x288 with 1 Axes>"
      ]
     },
     "metadata": {
      "needs_background": "light"
     },
     "output_type": "display_data"
    }
   ],
   "source": [
    "# appropriate test size find \n",
    "plt.figure()\n",
    "training_accuracy = []\n",
    "test_accuracy = []\n",
    "# try n_neighbors from 1 to 10\n",
    "test_size= numpy.arange(0.1, 0.9,0.05)\n",
    "knn = KNeighborsClassifier(n_neighbors = 5)\n",
    "for i in test_size:\n",
    "    \n",
    "        X_train, X_test, y_train, y_test = train_test_split(X, y, test_size = i)\n",
    "        knn.fit(X_train, y_train)\n",
    "        training_accuracy.append(knn.score(X_train,y_train))\n",
    "        test_accuracy.append(knn.score(X_test,y_test))\n",
    "  \n",
    "\n",
    "    \n",
    "plt.plot(test_size,training_accuracy,label=\"training accuracy\")\n",
    "plt.plot(test_size,test_accuracy,label=\"test accuracy\")\n",
    "plt.ylabel(\"Accuracy\")\n",
    "plt.xlabel(\"test_size\")\n",
    "plt.legend()\n",
    "\n",
    "plt.show()"
   ]
  },
  {
   "cell_type": "code",
   "execution_count": 54,
   "metadata": {
    "ExecuteTime": {
     "end_time": "2021-04-09T16:40:07.851665Z",
     "start_time": "2021-04-09T16:40:07.778703Z"
    }
   },
   "outputs": [
    {
     "data": {
      "text/plain": [
       "0.8008298755186722"
      ]
     },
     "execution_count": 54,
     "metadata": {},
     "output_type": "execute_result"
    }
   ],
   "source": [
    "#split data into test data and train data\n",
    "X_train,X_test,y_train,y_test=train_test_split(X,y,test_size=0.4)\n",
    "\n",
    "neigh = KNeighborsClassifier(n_neighbors=5)\n",
    "\n",
    "knn=neigh.fit(X_train,y_train)\n",
    "\n",
    "knn.score(X_test,y_test)"
   ]
  },
  {
   "cell_type": "code",
   "execution_count": 55,
   "metadata": {
    "ExecuteTime": {
     "end_time": "2021-04-09T16:40:07.972595Z",
     "start_time": "2021-04-09T16:40:07.855661Z"
    }
   },
   "outputs": [],
   "source": [
    "y_pred=knn.predict(X_test)"
   ]
  },
  {
   "cell_type": "code",
   "execution_count": 56,
   "metadata": {
    "ExecuteTime": {
     "end_time": "2021-04-09T16:40:08.024564Z",
     "start_time": "2021-04-09T16:40:07.978591Z"
    }
   },
   "outputs": [
    {
     "data": {
      "text/plain": [
       "array([[112,  18],\n",
       "       [ 30,  81]], dtype=int64)"
      ]
     },
     "execution_count": 56,
     "metadata": {},
     "output_type": "execute_result"
    }
   ],
   "source": [
    "#confusion matrix \n",
    "cf_matrix_n=confusion_matrix(y_test, y_pred)\n",
    "cf_matrix_n"
   ]
  },
  {
   "cell_type": "code",
   "execution_count": 57,
   "metadata": {
    "ExecuteTime": {
     "end_time": "2021-04-09T16:40:08.148492Z",
     "start_time": "2021-04-09T16:40:08.030559Z"
    }
   },
   "outputs": [
    {
     "name": "stdout",
     "output_type": "stream",
     "text": [
      "              precision    recall  f1-score   support\n",
      "\n",
      "           0       0.79      0.86      0.82       130\n",
      "           1       0.82      0.73      0.77       111\n",
      "\n",
      "    accuracy                           0.80       241\n",
      "   macro avg       0.80      0.80      0.80       241\n",
      "weighted avg       0.80      0.80      0.80       241\n",
      "\n"
     ]
    }
   ],
   "source": [
    "#classification report\n",
    "print(classification_report(y_test,y_pred))"
   ]
  },
  {
   "cell_type": "code",
   "execution_count": 58,
   "metadata": {
    "ExecuteTime": {
     "end_time": "2021-04-09T16:40:08.802279Z",
     "start_time": "2021-04-09T16:40:08.153490Z"
    },
    "scrolled": true
   },
   "outputs": [
    {
     "data": {
      "image/png": "[encoded data removed]",
      "text/plain": [
       "<Figure size 432x288 with 1 Axes>"
      ]
     },
     "metadata": {
      "needs_background": "light"
     },
     "output_type": "display_data"
    }
   ],
   "source": [
    "from sklearn.metrics import roc_curve\n",
    "fpr, tpr, thresholds=roc_curve(y_test, y_pred)\n",
    "AUC=round(metrics.auc(fpr, tpr),2)\n",
    "\n",
    "plt.plot([0,1], [0,1], linestyle='--', label='No Skill')\n",
    "plt.plot(fpr, tpr, marker='.', label=f'knn AUC={AUC}')\n",
    "# axis labels\n",
    "plt.xlabel('False Positive Rate')\n",
    "plt.ylabel('True Positive Rate')\n",
    "plt.legend()\n",
    "# show the plot\n",
    "plt.show()\n"
   ]
  },
  {
   "cell_type": "markdown",
   "metadata": {},
   "source": [
    "<b> Conclusion:</b>"
   ]
  },
  {
   "cell_type": "code",
   "execution_count": 59,
   "metadata": {
    "ExecuteTime": {
     "end_time": "2021-04-09T16:40:08.816271Z",
     "start_time": "2021-04-09T16:40:08.806275Z"
    }
   },
   "outputs": [
    {
     "data": {
      "text/plain": [
       "'feature selection method affect our model,AUC decrease as compare to the first one'"
      ]
     },
     "execution_count": 59,
     "metadata": {},
     "output_type": "execute_result"
    }
   ],
   "source": [
    "'''feature selection method affect our model,AUC decrease as compare to the first one'''"
   ]
  },
  {
   "cell_type": "markdown",
   "metadata": {},
   "source": [
    "<b> Cross-Validation </b>"
   ]
  },
  {
   "cell_type": "code",
   "execution_count": 60,
   "metadata": {
    "ExecuteTime": {
     "end_time": "2021-04-09T16:40:09.326990Z",
     "start_time": "2021-04-09T16:40:08.820269Z"
    },
    "scrolled": true
   },
   "outputs": [
    {
     "name": "stdout",
     "output_type": "stream",
     "text": [
      "mean:=0.833921568627451 std :0.05886066366016818\n"
     ]
    }
   ],
   "source": [
    "#without StratifiedKFold \n",
    "Knn=KNeighborsClassifier(n_neighbors=5,p=1)\n",
    "score=cross_val_score(knn,X,y,cv=12)\n",
    "print(\"mean:=\"+str(score.mean()),\"std :\"+str(score.std()))"
   ]
  },
  {
   "cell_type": "code",
   "execution_count": 61,
   "metadata": {
    "ExecuteTime": {
     "end_time": "2021-04-09T16:40:09.755654Z",
     "start_time": "2021-04-09T16:40:09.331986Z"
    }
   },
   "outputs": [
    {
     "name": "stdout",
     "output_type": "stream",
     "text": [
      "List of possible accuracy: [0.8627450980392157, 0.8627450980392157, 0.8, 0.84, 0.82, 0.86, 0.86, 0.78, 0.82, 0.86, 0.84, 0.84]\n",
      "\n",
      "Maximum Accuracy That can be obtained from this model is: 86.27450980392157 %\n",
      "\n",
      "Minimum Accuracy: 78.0 %\n",
      "\n",
      "Average Accuracy That can be obtained from this model is:: 0.8371241830065359\n",
      "\n",
      "Standard Deviation is: 0.026037529147156523\n"
     ]
    }
   ],
   "source": [
    "#with StratifiedKFold \n",
    "import numpy as np\n",
    "from sklearn.model_selection import StratifiedKFold \n",
    "skf = StratifiedKFold(n_splits=12, shuffle=True, random_state=1) \n",
    "lst_accu_stratified = [] \n",
    "\n",
    "for train_index, test_index in skf.split(X, y): \n",
    "    x_train_fold, x_test_fold = X.loc[train_index,:], X.loc[test_index,:] \n",
    "    y_train_fold, y_test_fold = y[train_index], y[test_index] \n",
    "    knn.fit(x_train_fold, y_train_fold) \n",
    "    lst_accu_stratified.append(knn.score(x_test_fold, y_test_fold))\n",
    "    \n",
    "    \n",
    "print('List of possible accuracy:', lst_accu_stratified) \n",
    "print('\\nMaximum Accuracy That can be obtained from this model is:', \n",
    "      max(lst_accu_stratified)*100, '%') \n",
    "print('\\nMinimum Accuracy:', \n",
    "      min(lst_accu_stratified)*100, '%') \n",
    "print('\\nAverage Accuracy That can be obtained from this model is::',np.mean(lst_accu_stratified)) \n",
    "print('\\nStandard Deviation is:',np.std(lst_accu_stratified)) "
   ]
  },
  {
   "cell_type": "markdown",
   "metadata": {},
   "source": [
    "#  Logistics Regression\n"
   ]
  },
  {
   "cell_type": "code",
   "execution_count": 62,
   "metadata": {
    "ExecuteTime": {
     "end_time": "2021-04-09T16:40:09.769646Z",
     "start_time": "2021-04-09T16:40:09.763649Z"
    }
   },
   "outputs": [],
   "source": [
    "from sklearn.linear_model import LogisticRegression"
   ]
  },
  {
   "cell_type": "code",
   "execution_count": 63,
   "metadata": {
    "ExecuteTime": {
     "end_time": "2021-04-09T16:40:09.871587Z",
     "start_time": "2021-04-09T16:40:09.776642Z"
    }
   },
   "outputs": [],
   "source": [
    "# Here we are using  both method for feature selection  means we takes union both feature union\n",
    "\n",
    "f_feature=list(set(basic_f0).union(set(basic_f1)))"
   ]
  },
  {
   "cell_type": "code",
   "execution_count": 64,
   "metadata": {
    "ExecuteTime": {
     "end_time": "2021-04-09T16:40:09.941548Z",
     "start_time": "2021-04-09T16:40:09.877584Z"
    }
   },
   "outputs": [
    {
     "data": {
      "text/plain": [
       "['Easy Payment option',\n",
       " 'Good Food quality',\n",
       " 'Age',\n",
       " 'Time saving',\n",
       " 'More Offers and Discount',\n",
       " 'Freshness ',\n",
       " 'Occupation',\n",
       " 'Delay of delivery person picking up food',\n",
       " 'Order Time',\n",
       " 'Maximum wait time',\n",
       " 'Ease and convenient',\n",
       " 'Bad past experience',\n",
       " 'More restaurant choices',\n",
       " 'Good Taste ',\n",
       " 'Good Tracking system',\n",
       " 'Late Delivery',\n",
       " 'Monthly Income',\n",
       " 'Unaffordable',\n",
       " 'Self Cooking',\n",
       " 'Marital Status']"
      ]
     },
     "execution_count": 64,
     "metadata": {},
     "output_type": "execute_result"
    }
   ],
   "source": [
    "f_feature"
   ]
  },
  {
   "cell_type": "markdown",
   "metadata": {
    "ExecuteTime": {
     "end_time": "2021-02-22T04:01:37.917350Z",
     "start_time": "2021-02-22T04:01:37.909356Z"
    }
   },
   "source": [
    "# Now we need to use some domain knowlegde for selecting feature\n",
    "Group 1: {'Ease and convenient','Easy Payment option'}\\\n",
    "Group 2 :{'Order Time','Time saving','Delay of delivery person picking up food','Maximum wait time'}\\\n",
    "f_feature=['Ease and convenient','Self Cooking','Maximum wait time','More restaurant choices',\n",
    "  'Unaffordable', 'More Offers and Discount', 'Good Food quality', 'Good Tracking system', 'Age', 'Bad past experience']"
   ]
  },
  {
   "cell_type": "code",
   "execution_count": 65,
   "metadata": {
    "ExecuteTime": {
     "end_time": "2021-04-09T16:40:10.068478Z",
     "start_time": "2021-04-09T16:40:09.947544Z"
    }
   },
   "outputs": [],
   "source": [
    "#select X,y \n",
    "\n",
    "X=fd_dlvry[f_feature]\n",
    "y=fd_dlvry['Output']\n",
    "from imblearn.under_sampling import NearMiss\n",
    "# nm=NearMiss()\n",
    "#try to making data balnaced \n",
    "nm=RandomOverSampler()\n",
    "X,y=nm.fit_resample(X,y)\n",
    "\n",
    "X_train, X_test, y_train, y_test = train_test_split(X, y, test_size = 0.33)"
   ]
  },
  {
   "cell_type": "code",
   "execution_count": 66,
   "metadata": {
    "ExecuteTime": {
     "end_time": "2021-04-09T16:40:10.204397Z",
     "start_time": "2021-04-09T16:40:10.073472Z"
    }
   },
   "outputs": [
    {
     "data": {
      "text/plain": [
       "(602, 20)"
      ]
     },
     "execution_count": 66,
     "metadata": {},
     "output_type": "execute_result"
    }
   ],
   "source": [
    "X.shape"
   ]
  },
  {
   "cell_type": "code",
   "execution_count": 67,
   "metadata": {
    "ExecuteTime": {
     "end_time": "2021-04-09T16:40:10.307342Z",
     "start_time": "2021-04-09T16:40:10.211395Z"
    }
   },
   "outputs": [
    {
     "data": {
      "text/plain": [
       "['Easy Payment option',\n",
       " 'Good Food quality',\n",
       " 'Age',\n",
       " 'Time saving',\n",
       " 'More Offers and Discount',\n",
       " 'Freshness ',\n",
       " 'Occupation',\n",
       " 'Delay of delivery person picking up food',\n",
       " 'Order Time',\n",
       " 'Maximum wait time',\n",
       " 'Ease and convenient',\n",
       " 'Bad past experience',\n",
       " 'More restaurant choices',\n",
       " 'Good Taste ',\n",
       " 'Good Tracking system',\n",
       " 'Late Delivery',\n",
       " 'Monthly Income',\n",
       " 'Unaffordable',\n",
       " 'Self Cooking',\n",
       " 'Marital Status']"
      ]
     },
     "execution_count": 67,
     "metadata": {},
     "output_type": "execute_result"
    }
   ],
   "source": [
    "f_feature"
   ]
  },
  {
   "cell_type": "code",
   "execution_count": 68,
   "metadata": {
    "ExecuteTime": {
     "end_time": "2021-04-09T16:40:10.482239Z",
     "start_time": "2021-04-09T16:40:10.344318Z"
    }
   },
   "outputs": [],
   "source": [
    "Lg=LogisticRegression()"
   ]
  },
  {
   "cell_type": "code",
   "execution_count": 69,
   "metadata": {
    "ExecuteTime": {
     "end_time": "2021-04-09T16:41:09.645269Z",
     "start_time": "2021-04-09T16:40:10.495232Z"
    },
    "code_folding": []
   },
   "outputs": [
    {
     "data": {
      "image/png": "[encoded data removed]",
      "text/plain": [
       "<Figure size 432x288 with 1 Axes>"
      ]
     },
     "metadata": {
      "needs_background": "light"
     },
     "output_type": "display_data"
    }
   ],
   "source": [
    "#\n",
    "plt.figure()\n",
    "training_accuracy = []\n",
    "test_accuracy = []\n",
    "# try n_neighbors from 1 to 10\n",
    "test_size= numpy.arange(0.1, 0.9,0.05)\n",
    "\n",
    "for i in test_size:\n",
    "        t_s=[]\n",
    "        tn_=[]\n",
    "        for j in range(0,50):\n",
    "            X_train, X_test, y_train, y_test = train_test_split(X, y, test_size = i,random_state=np.random.randint(0,100))\n",
    "            Lg.fit(X_train, y_train)\n",
    "            \n",
    "            t_s.append(Lg.score(X_test,y_test))\n",
    "            tn_.append(Lg.score(X_train,y_train))\n",
    "        training_accuracy.append(np.mean(t_s))\n",
    "        test_accuracy.append(np.mean(tn_))\n",
    "\n",
    "\n",
    "    \n",
    "plt.plot(test_size,training_accuracy,label=\"training accuracy\")\n",
    "plt.plot(test_size,test_accuracy,label=\"test accuracy\")\n",
    "plt.ylabel(\"Accuracy\")\n",
    "plt.xlabel(\"test_size\")\n",
    "plt.legend()\n",
    "\n",
    "plt.show()\n",
    "\n",
    "\n"
   ]
  },
  {
   "cell_type": "code",
   "execution_count": 70,
   "metadata": {
    "ExecuteTime": {
     "end_time": "2021-04-09T16:41:09.721224Z",
     "start_time": "2021-04-09T16:41:09.650265Z"
    }
   },
   "outputs": [
    {
     "data": {
      "text/plain": [
       "0.7182320441988951"
      ]
     },
     "execution_count": 70,
     "metadata": {},
     "output_type": "execute_result"
    }
   ],
   "source": [
    "#data split into train and test size \n",
    "X_train,X_test,y_train,y_test=train_test_split(X,y,test_size=0.3)\n",
    "Lg.fit(X_train,y_train)\n",
    "Lg.score(X_test,y_test)"
   ]
  },
  {
   "cell_type": "code",
   "execution_count": 71,
   "metadata": {
    "ExecuteTime": {
     "end_time": "2021-04-09T16:41:09.823166Z",
     "start_time": "2021-04-09T16:41:09.725222Z"
    }
   },
   "outputs": [],
   "source": [
    "y_pred=Lg.predict(X_test)"
   ]
  },
  {
   "cell_type": "code",
   "execution_count": 72,
   "metadata": {
    "ExecuteTime": {
     "end_time": "2021-04-09T16:41:09.949095Z",
     "start_time": "2021-04-09T16:41:09.829165Z"
    }
   },
   "outputs": [
    {
     "data": {
      "text/plain": [
       "array([[67, 22],\n",
       "       [29, 63]], dtype=int64)"
      ]
     },
     "execution_count": 72,
     "metadata": {},
     "output_type": "execute_result"
    }
   ],
   "source": [
    "cf_matrix=confusion_matrix(y_test, y_pred)\n",
    "cf_matrix"
   ]
  },
  {
   "cell_type": "code",
   "execution_count": 73,
   "metadata": {
    "ExecuteTime": {
     "end_time": "2021-04-09T16:41:10.059031Z",
     "start_time": "2021-04-09T16:41:09.953093Z"
    }
   },
   "outputs": [
    {
     "name": "stdout",
     "output_type": "stream",
     "text": [
      "              precision    recall  f1-score   support\n",
      "\n",
      "           0       0.70      0.75      0.72        89\n",
      "           1       0.74      0.68      0.71        92\n",
      "\n",
      "    accuracy                           0.72       181\n",
      "   macro avg       0.72      0.72      0.72       181\n",
      "weighted avg       0.72      0.72      0.72       181\n",
      "\n"
     ]
    }
   ],
   "source": [
    "print(classification_report(y_test,y_pred))"
   ]
  },
  {
   "cell_type": "code",
   "execution_count": 74,
   "metadata": {
    "ExecuteTime": {
     "end_time": "2021-04-09T16:41:11.345298Z",
     "start_time": "2021-04-09T16:41:10.064030Z"
    },
    "scrolled": true
   },
   "outputs": [
    {
     "data": {
      "image/png": "[encoded data removed]",
      "text/plain": [
       "<Figure size 720x432 with 1 Axes>"
      ]
     },
     "metadata": {
      "needs_background": "light"
     },
     "output_type": "display_data"
    }
   ],
   "source": [
    "thresolds = [0.2,0.3,0.4,0.5,0.55,0.6,0.62,0.65,0.7,0.8]\n",
    "plt.figure(figsize=(10,6))\n",
    "for i in thresolds:\n",
    "    y_pred_proba = (Lg.predict_proba(X_test)[:,1]>=i).astype(int)\n",
    "    fpr, tpr, m= metrics.roc_curve(y_test,  y_pred_proba)\n",
    "    auc = metrics.roc_auc_score(y_test, y_pred_proba)\n",
    "    plt.plot(fpr,tpr,label=f\"data 1, auc={auc} thresold={i}\")\n",
    "    plt.legend(loc=4)\n",
    "\n",
    "\n",
    "\n",
    "plt.xlabel('fpr')\n",
    "plt.ylabel('tpr')\n",
    "plt.show()"
   ]
  },
  {
   "cell_type": "code",
   "execution_count": 75,
   "metadata": {
    "ExecuteTime": {
     "end_time": "2021-04-09T16:41:11.357292Z",
     "start_time": "2021-04-09T16:41:11.349296Z"
    }
   },
   "outputs": [
    {
     "data": {
      "text/plain": [
       "'In Knn weighted avg f1-score is good and AUC is great but problems in Knn is not learning something\\nknn just use more memory space for perform operation and mostly features are categorical so noise affect\\non this algorithms. Here we can see if we set thresold 0.65 in Logistics regression we get better model  and here algorithms \\nsomething learn \\n'"
      ]
     },
     "execution_count": 75,
     "metadata": {},
     "output_type": "execute_result"
    }
   ],
   "source": [
    "'''In Knn weighted avg f1-score is good and AUC is great but problems in Knn is not learning something\n",
    "knn just use more memory space for perform operation and mostly features are categorical so noise affect\n",
    "on this algorithms. Here we can see if we set thresold 0.65 in Logistics regression we get better model  and here algorithms \n",
    "something learn \n",
    "'''"
   ]
  },
  {
   "cell_type": "markdown",
   "metadata": {},
   "source": [
    "<b> Cross-Validation </b>"
   ]
  },
  {
   "cell_type": "code",
   "execution_count": 76,
   "metadata": {
    "ExecuteTime": {
     "end_time": "2021-04-09T16:41:12.065886Z",
     "start_time": "2021-04-09T16:41:11.362287Z"
    }
   },
   "outputs": [
    {
     "name": "stdout",
     "output_type": "stream",
     "text": [
      "List of possible accuracy: [0.73770492 0.80327869 0.86666667 0.68333333 0.73333333 0.73333333\n",
      " 0.78333333 0.76666667 0.73333333 0.8       ]\n",
      "\n",
      "Maximum Accuracy That can be obtained from this model is: 86.66666666666667 %\n",
      "\n",
      "Minimum Accuracy: 78.0 %\n",
      "\n",
      "Average Accuracy That can be obtained from this model is:: 0.7640983606557377\n",
      "\n",
      "Standard Deviation is: 0.04876466726787546\n"
     ]
    }
   ],
   "source": [
    "score=cross_val_score(Lg,X,y,cv=10)\n",
    "print('List of possible accuracy:', score) \n",
    "print('\\nMaximum Accuracy That can be obtained from this model is:', \n",
    "      max(score)*100, '%') \n",
    "print('\\nMinimum Accuracy:', \n",
    "      min(lst_accu_stratified)*100, '%') \n",
    "print('\\nAverage Accuracy That can be obtained from this model is::',np.mean(score)) \n",
    "print('\\nStandard Deviation is:',np.std(score)) "
   ]
  },
  {
   "cell_type": "code",
   "execution_count": 77,
   "metadata": {
    "ExecuteTime": {
     "end_time": "2021-04-09T16:41:12.624567Z",
     "start_time": "2021-04-09T16:41:12.069883Z"
    }
   },
   "outputs": [
    {
     "name": "stdout",
     "output_type": "stream",
     "text": [
      "List of possible accuracy: [0.7647058823529411, 0.7450980392156863, 0.7, 0.78, 0.84, 0.76, 0.82, 0.72, 0.76, 0.82, 0.8, 0.82]\n",
      "\n",
      "Maximum Accuracy That can be obtained from this model is: 84.0 %\n",
      "\n",
      "Minimum Accuracy: 70.0 %\n",
      "\n",
      "Average Accuracy That can be obtained from this model is:: 0.777483660130719\n",
      "\n",
      " Median Accuracy That can be obtained from this model is:: 0.7723529411764706\n",
      "\n",
      "Standard Deviation is: 0.041809162976093966\n"
     ]
    }
   ],
   "source": [
    "import numpy as np\n",
    "from sklearn.model_selection import StratifiedKFold \n",
    "skf = StratifiedKFold(n_splits=12, shuffle=True, random_state=1) \n",
    "lst_accu_stratified = [] \n",
    "\n",
    "for train_index, test_index in skf.split(X, y): \n",
    "    x_train_fold, x_test_fold = X.loc[train_index,:], X.loc[test_index,:] \n",
    "    y_train_fold, y_test_fold = y[train_index], y[test_index] \n",
    "    Lg.fit(x_train_fold, y_train_fold) \n",
    "    lst_accu_stratified.append(Lg.score(x_test_fold, y_test_fold))\n",
    "    \n",
    "    \n",
    "print('List of possible accuracy:', lst_accu_stratified) \n",
    "print('\\nMaximum Accuracy That can be obtained from this model is:', \n",
    "      max(lst_accu_stratified)*100, '%') \n",
    "print('\\nMinimum Accuracy:', \n",
    "      min(lst_accu_stratified)*100, '%') \n",
    "print('\\nAverage Accuracy That can be obtained from this model is::',np.mean(lst_accu_stratified)) \n",
    "print('\\n Median Accuracy That can be obtained from this model is::',np.median(lst_accu_stratified)) \n",
    "print('\\nStandard Deviation is:',np.std(lst_accu_stratified)) "
   ]
  },
  {
   "cell_type": "code",
   "execution_count": 78,
   "metadata": {
    "ExecuteTime": {
     "end_time": "2021-04-09T16:41:13.035332Z",
     "start_time": "2021-04-09T16:41:12.628565Z"
    }
   },
   "outputs": [
    {
     "data": {
      "text/plain": [
       "array([0.76243094, 0.74585635, 0.73480663, 0.72375691, 0.77900552])"
      ]
     },
     "execution_count": 78,
     "metadata": {},
     "output_type": "execute_result"
    }
   ],
   "source": [
    "from sklearn.model_selection import ShuffleSplit\n",
    "cv = ShuffleSplit(n_splits=5, test_size=0.3, random_state=0)\n",
    "cross_val_score(Lg, X, y, cv=cv)"
   ]
  },
  {
   "cell_type": "markdown",
   "metadata": {},
   "source": [
    "# DecisionTree (feature selection with both method)  "
   ]
  },
  {
   "cell_type": "code",
   "execution_count": 79,
   "metadata": {
    "ExecuteTime": {
     "end_time": "2021-04-09T16:41:13.078307Z",
     "start_time": "2021-04-09T16:41:13.040328Z"
    }
   },
   "outputs": [
    {
     "data": {
      "text/plain": [
       "1    301\n",
       "0     87\n",
       "Name: Output, dtype: int64"
      ]
     },
     "execution_count": 79,
     "metadata": {},
     "output_type": "execute_result"
    }
   ],
   "source": [
    "X=fd_dlvry[f_feature]\n",
    "y=fd_dlvry['Output']\n",
    "nm=RandomOverSampler() # try to making data balanced \n",
    "X,y=nm.fit_resample(X,y)\n",
    "fd_dlvry['Output'].value_counts()"
   ]
  },
  {
   "cell_type": "code",
   "execution_count": 80,
   "metadata": {
    "ExecuteTime": {
     "end_time": "2021-04-09T16:41:13.227222Z",
     "start_time": "2021-04-09T16:41:13.082305Z"
    }
   },
   "outputs": [
    {
     "data": {
      "text/plain": [
       "DecisionTreeClassifier(max_depth=6, min_samples_leaf=2, min_samples_split=4,\n",
       "                       random_state=0)"
      ]
     },
     "execution_count": 80,
     "metadata": {},
     "output_type": "execute_result"
    }
   ],
   "source": [
    "X_train, X_test, y_train, y_test = train_test_split(X, y, test_size = 0.33)\n",
    "clf=DecisionTreeClassifier(random_state=0,max_depth=6,min_samples_leaf=2,min_samples_split=4)\n",
    "clf.fit(X,y)"
   ]
  },
  {
   "cell_type": "code",
   "execution_count": 81,
   "metadata": {
    "ExecuteTime": {
     "end_time": "2021-04-09T16:41:13.314172Z",
     "start_time": "2021-04-09T16:41:13.231219Z"
    }
   },
   "outputs": [
    {
     "data": {
      "text/plain": [
       "0.964824120603015"
      ]
     },
     "execution_count": 81,
     "metadata": {},
     "output_type": "execute_result"
    }
   ],
   "source": [
    "clf.score(X_test,y_test)"
   ]
  },
  {
   "cell_type": "code",
   "execution_count": 82,
   "metadata": {
    "ExecuteTime": {
     "end_time": "2021-04-09T16:41:13.529049Z",
     "start_time": "2021-04-09T16:41:13.319170Z"
    }
   },
   "outputs": [
    {
     "data": {
      "text/plain": [
       "array([0, 1, 1, 1, 1, 1, 0, 1, 0, 1, 0, 1, 1, 0, 1, 0, 0, 0, 1, 0, 1, 0,\n",
       "       0, 0, 0, 0, 1, 1, 0, 0, 0, 1, 0, 0, 1, 1, 0, 1, 1, 0, 1, 0, 0, 0,\n",
       "       0, 0, 1, 1, 1, 0, 1, 1, 0, 1, 0, 1, 1, 0, 0, 0, 1, 0, 0, 0, 0, 0,\n",
       "       0, 1, 1, 1, 1, 0, 0, 0, 0, 0, 0, 1, 0, 1, 1, 1, 0, 0, 0, 1, 0, 0,\n",
       "       0, 0, 0, 1, 0, 1, 1, 0, 0, 0, 1, 0, 0, 0, 1, 0, 1, 0, 1, 1, 1, 1,\n",
       "       0, 0, 1, 0, 0, 1, 1, 1, 0, 1, 1, 0, 1, 1, 1, 0, 1, 1, 1, 1, 0, 1,\n",
       "       0, 0, 0, 0, 0, 0, 0, 1, 1, 0, 1, 1, 0, 1, 1, 0, 1, 0, 0, 0, 1, 1,\n",
       "       1, 0, 1, 1, 1, 0, 1, 1, 1, 1, 1, 0, 1, 1, 1, 0, 0, 0, 1, 0, 0, 1,\n",
       "       1, 0, 1, 1, 0, 1, 0, 0, 0, 0, 0, 1, 1, 0, 1, 0, 1, 0, 0, 0, 1, 1,\n",
       "       1])"
      ]
     },
     "execution_count": 82,
     "metadata": {},
     "output_type": "execute_result"
    }
   ],
   "source": [
    "y_pred=clf.predict(X_test)\n",
    "y_pred"
   ]
  },
  {
   "cell_type": "code",
   "execution_count": 83,
   "metadata": {
    "ExecuteTime": {
     "end_time": "2021-04-09T16:41:13.630992Z",
     "start_time": "2021-04-09T16:41:13.533047Z"
    }
   },
   "outputs": [
    {
     "name": "stdout",
     "output_type": "stream",
     "text": [
      "[[99  3]\n",
      " [ 4 93]]\n"
     ]
    }
   ],
   "source": [
    "print(confusion_matrix(y_test,y_pred))"
   ]
  },
  {
   "cell_type": "code",
   "execution_count": 84,
   "metadata": {
    "ExecuteTime": {
     "end_time": "2021-04-09T16:41:13.736933Z",
     "start_time": "2021-04-09T16:41:13.635988Z"
    },
    "scrolled": true
   },
   "outputs": [
    {
     "name": "stdout",
     "output_type": "stream",
     "text": [
      "              precision    recall  f1-score   support\n",
      "\n",
      "           0       0.96      0.97      0.97       102\n",
      "           1       0.97      0.96      0.96        97\n",
      "\n",
      "    accuracy                           0.96       199\n",
      "   macro avg       0.96      0.96      0.96       199\n",
      "weighted avg       0.96      0.96      0.96       199\n",
      "\n"
     ]
    }
   ],
   "source": [
    "print(classification_report(y_test,y_pred))"
   ]
  },
  {
   "cell_type": "code",
   "execution_count": 85,
   "metadata": {
    "ExecuteTime": {
     "end_time": "2021-04-09T16:41:14.037758Z",
     "start_time": "2021-04-09T16:41:13.740928Z"
    }
   },
   "outputs": [
    {
     "data": {
      "text/plain": [
       "array([0.94117647, 0.80392157, 0.86      , 0.94      , 0.92      ,\n",
       "       0.96      , 0.86      , 1.        , 0.84      , 0.98      ,\n",
       "       0.98      , 0.98      ])"
      ]
     },
     "execution_count": 85,
     "metadata": {},
     "output_type": "execute_result"
    }
   ],
   "source": [
    "cross_val_score(clf, X, y, cv=12)"
   ]
  },
  {
   "cell_type": "code",
   "execution_count": 86,
   "metadata": {
    "ExecuteTime": {
     "end_time": "2021-04-09T16:41:14.291613Z",
     "start_time": "2021-04-09T16:41:14.042755Z"
    }
   },
   "outputs": [
    {
     "name": "stdout",
     "output_type": "stream",
     "text": [
      "List of possible accuracy: [0.7843137254901961, 0.803921568627451, 0.78, 0.72, 0.9, 0.72, 0.8, 0.68, 0.74, 0.84, 0.82, 0.84]\n",
      "\n",
      "Maximum Accuracy That can be obtained from this model is: 90.0 %\n",
      "\n",
      "Minimum Accuracy: 68.0 %\n",
      "\n",
      "Average Accuracy That can be obtained from this model is:: 0.7856862745098039\n",
      "\n",
      " Median Accuracy That can be obtained from this model is:: 0.7921568627450981\n",
      "\n",
      "Standard Deviation is: 0.05958386600665798\n"
     ]
    }
   ],
   "source": [
    "lst_accu_stratified = [] \n",
    "\n",
    "for train_index, test_index in skf.split(X, y): \n",
    "    x_train_fold, x_test_fold = X.loc[train_index,:], X.loc[test_index,:] \n",
    "    y_train_fold, y_test_fold = y[train_index], y[test_index] \n",
    "    clf.fit(x_train_fold, y_train_fold) \n",
    "    lst_accu_stratified.append(Lg.score(x_test_fold, y_test_fold))\n",
    "    \n",
    "    \n",
    "print('List of possible accuracy:', lst_accu_stratified) \n",
    "print('\\nMaximum Accuracy That can be obtained from this model is:', \n",
    "      max(lst_accu_stratified)*100, '%') \n",
    "print('\\nMinimum Accuracy:', \n",
    "      min(lst_accu_stratified)*100, '%') \n",
    "print('\\nAverage Accuracy That can be obtained from this model is::',np.mean(lst_accu_stratified)) \n",
    "print('\\n Median Accuracy That can be obtained from this model is::',np.median(lst_accu_stratified)) \n",
    "print('\\nStandard Deviation is:',np.std(lst_accu_stratified)) "
   ]
  },
  {
   "cell_type": "code",
   "execution_count": 87,
   "metadata": {
    "ExecuteTime": {
     "end_time": "2021-04-09T16:41:21.567756Z",
     "start_time": "2021-04-09T16:41:14.296610Z"
    }
   },
   "outputs": [
    {
     "data": {
      "text/plain": [
       "'gini.png'"
      ]
     },
     "execution_count": 87,
     "metadata": {},
     "output_type": "execute_result"
    }
   ],
   "source": [
    "import graphviz\n",
    "import sklearn.tree as tree\n",
    "# DOT data\n",
    "dot_data = tree.export_graphviz(clf, out_file=None, \n",
    "                                feature_names=X.columns,  \n",
    "                                class_names='01',\n",
    "                                filled=True)\n",
    "\n",
    "# # Draw graph\n",
    "graph = graphviz.Source(dot_data,format=\"png\") \n",
    "graph.render('gini')\n",
    "# graph"
   ]
  },
  {
   "cell_type": "markdown",
   "metadata": {},
   "source": [
    "# Feature selection with Decision Tree "
   ]
  },
  {
   "cell_type": "code",
   "execution_count": 88,
   "metadata": {
    "ExecuteTime": {
     "end_time": "2021-04-09T16:41:21.614730Z",
     "start_time": "2021-04-09T16:41:21.571758Z"
    }
   },
   "outputs": [],
   "source": [
    "fd_dlvry=pd.read_csv('../../data/Banglore_food_delivery/onlinedeliverydata.csv')\n",
    "\n",
    "fd_dlvry.drop(['Pin code','longitude','latitude','Reviews'],axis=1,inplace=True)\n",
    "\n",
    "fd_dlvry['Output']=fd_dlvry['Output'].replace({'Yes':1,'No':0})"
   ]
  },
  {
   "cell_type": "code",
   "execution_count": 89,
   "metadata": {
    "ExecuteTime": {
     "end_time": "2021-04-09T16:41:21.819350Z",
     "start_time": "2021-04-09T16:41:21.618729Z"
    }
   },
   "outputs": [
    {
     "data": {
      "text/plain": [
       "(388, 223)"
      ]
     },
     "execution_count": 89,
     "metadata": {},
     "output_type": "execute_result"
    }
   ],
   "source": [
    "fd_ori=fd_dlvry.copy(deep=True)\n",
    "df=pd.get_dummies(fd_dlvry)\n",
    "df.shape"
   ]
  },
  {
   "cell_type": "code",
   "execution_count": 90,
   "metadata": {
    "ExecuteTime": {
     "end_time": "2021-04-09T16:41:21.849333Z",
     "start_time": "2021-04-09T16:41:21.824347Z"
    }
   },
   "outputs": [],
   "source": [
    "l1=[]\n",
    "for i in df.columns:\n",
    "    if(i!='Output'):\n",
    "        l1.append(i)\n",
    "    "
   ]
  },
  {
   "cell_type": "code",
   "execution_count": 91,
   "metadata": {
    "ExecuteTime": {
     "end_time": "2021-04-09T16:41:22.111183Z",
     "start_time": "2021-04-09T16:41:21.854331Z"
    }
   },
   "outputs": [],
   "source": [
    "X=df[l1]\n",
    "y=df['Output']\n",
    "nm=RandomOverSampler()\n",
    "X,y=nm.fit_resample(X,y)\n"
   ]
  },
  {
   "cell_type": "code",
   "execution_count": 92,
   "metadata": {
    "ExecuteTime": {
     "end_time": "2021-04-09T16:41:22.231114Z",
     "start_time": "2021-04-09T16:41:22.115184Z"
    }
   },
   "outputs": [
    {
     "data": {
      "text/plain": [
       "DecisionTreeClassifier(max_depth=6, min_samples_leaf=2, min_samples_split=4,\n",
       "                       random_state=0)"
      ]
     },
     "execution_count": 92,
     "metadata": {},
     "output_type": "execute_result"
    }
   ],
   "source": [
    "X_train, X_test, y_train, y_test = train_test_split(X, y, test_size = 0.33)\n",
    "clf=DecisionTreeClassifier(random_state=0,max_depth=6,min_samples_leaf=2,min_samples_split=4)\n",
    "clf.fit(X,y)"
   ]
  },
  {
   "cell_type": "code",
   "execution_count": 93,
   "metadata": {
    "ExecuteTime": {
     "end_time": "2021-04-09T16:41:22.338054Z",
     "start_time": "2021-04-09T16:41:22.235113Z"
    }
   },
   "outputs": [
    {
     "data": {
      "text/plain": [
       "0.9698492462311558"
      ]
     },
     "execution_count": 93,
     "metadata": {},
     "output_type": "execute_result"
    }
   ],
   "source": [
    "clf.score(X_test,y_test)"
   ]
  },
  {
   "cell_type": "code",
   "execution_count": 94,
   "metadata": {
    "ExecuteTime": {
     "end_time": "2021-04-09T16:41:22.442994Z",
     "start_time": "2021-04-09T16:41:22.344049Z"
    }
   },
   "outputs": [
    {
     "data": {
      "text/plain": [
       "array([0.01944862, 0.        , 0.        , 0.00706532, 0.        ,\n",
       "       0.        , 0.        , 0.        , 0.        , 0.        ,\n",
       "       0.        , 0.        , 0.        , 0.        , 0.        ,\n",
       "       0.        , 0.        , 0.        , 0.        , 0.        ,\n",
       "       0.        , 0.        , 0.        , 0.        , 0.        ,\n",
       "       0.        , 0.        , 0.        , 0.        , 0.        ,\n",
       "       0.        , 0.        , 0.        , 0.        , 0.        ,\n",
       "       0.        , 0.        , 0.        , 0.        , 0.        ,\n",
       "       0.        , 0.01127087, 0.        , 0.        , 0.4267788 ,\n",
       "       0.        , 0.        , 0.        , 0.        , 0.        ,\n",
       "       0.        , 0.        , 0.        , 0.        , 0.16964191,\n",
       "       0.        , 0.        , 0.        , 0.        , 0.        ,\n",
       "       0.        , 0.        , 0.        , 0.0008406 , 0.        ,\n",
       "       0.        , 0.        , 0.        , 0.05508952, 0.        ,\n",
       "       0.        , 0.        , 0.        , 0.        , 0.        ,\n",
       "       0.00088853, 0.        , 0.        , 0.        , 0.00190741,\n",
       "       0.        , 0.        , 0.        , 0.        , 0.        ,\n",
       "       0.        , 0.        , 0.        , 0.        , 0.0251316 ,\n",
       "       0.        , 0.        , 0.        , 0.        , 0.        ,\n",
       "       0.        , 0.        , 0.        , 0.        , 0.        ,\n",
       "       0.00339135, 0.        , 0.00501507, 0.0134241 , 0.03346729,\n",
       "       0.        , 0.        , 0.        , 0.11392173, 0.        ,\n",
       "       0.        , 0.        , 0.        , 0.        , 0.        ,\n",
       "       0.        , 0.        , 0.        , 0.        , 0.01779474,\n",
       "       0.01354186, 0.        , 0.        , 0.        , 0.        ,\n",
       "       0.        , 0.        , 0.        , 0.        , 0.        ,\n",
       "       0.        , 0.        , 0.        , 0.        , 0.        ,\n",
       "       0.03440502, 0.        , 0.        , 0.        , 0.        ,\n",
       "       0.        , 0.        , 0.        , 0.        , 0.        ,\n",
       "       0.        , 0.        , 0.        , 0.        , 0.02811253,\n",
       "       0.        , 0.        , 0.        , 0.        , 0.        ,\n",
       "       0.        , 0.        , 0.        , 0.        , 0.        ,\n",
       "       0.        , 0.        , 0.        , 0.        , 0.        ,\n",
       "       0.        , 0.000757  , 0.        , 0.        , 0.        ,\n",
       "       0.        , 0.        , 0.        , 0.        , 0.        ,\n",
       "       0.        , 0.        , 0.        , 0.        , 0.        ,\n",
       "       0.        , 0.        , 0.        , 0.        , 0.        ,\n",
       "       0.        , 0.        , 0.        , 0.        , 0.        ,\n",
       "       0.        , 0.01177553, 0.        , 0.        , 0.        ,\n",
       "       0.        , 0.        , 0.        , 0.        , 0.        ,\n",
       "       0.        , 0.        , 0.        , 0.        , 0.        ,\n",
       "       0.        , 0.        , 0.        , 0.        , 0.        ,\n",
       "       0.        , 0.        , 0.        , 0.        , 0.        ,\n",
       "       0.        , 0.        , 0.        , 0.0063306 , 0.        ,\n",
       "       0.        , 0.        ])"
      ]
     },
     "execution_count": 94,
     "metadata": {},
     "output_type": "execute_result"
    }
   ],
   "source": [
    "clf.feature_importances_"
   ]
  },
  {
   "cell_type": "code",
   "execution_count": 95,
   "metadata": {
    "ExecuteTime": {
     "end_time": "2021-04-09T16:41:22.582914Z",
     "start_time": "2021-04-09T16:41:22.446990Z"
    }
   },
   "outputs": [],
   "source": [
    "def feature_extract(clf,l1):\n",
    "    values = clf.feature_importances_\n",
    "    importances = [(l1[i], values[i]) for i in range(len(l1))]\n",
    "    importances.sort(reverse=True, key=lambda x:x[1])\n",
    "    l3=[]\n",
    "    for i in importances[:12]:\n",
    "        l3.append(i[0])\n",
    "    return l3\n",
    "\n",
    "    "
   ]
  },
  {
   "cell_type": "code",
   "execution_count": 96,
   "metadata": {
    "ExecuteTime": {
     "end_time": "2021-04-09T16:41:22.693856Z",
     "start_time": "2021-04-09T16:41:22.586913Z"
    }
   },
   "outputs": [
    {
     "data": {
      "text/plain": [
       "['Ease and convenient_Disagree',\n",
       " 'More restaurant choices_Disagree',\n",
       " 'Unaffordable_Agree',\n",
       " 'Good Food quality_Agree',\n",
       " 'Missing item_Neutral',\n",
       " 'Unavailability_Disagree',\n",
       " 'Maximum wait time_15 minutes',\n",
       " 'Late Delivery_Disagree',\n",
       " 'Age',\n",
       " 'Delay of delivery person getting assigned_Disagree',\n",
       " 'Delay of delivery person getting assigned_Neutral',\n",
       " 'Unavailability_Agree']"
      ]
     },
     "execution_count": 96,
     "metadata": {},
     "output_type": "execute_result"
    }
   ],
   "source": [
    "feature_extract(clf,l1)"
   ]
  },
  {
   "cell_type": "code",
   "execution_count": 97,
   "metadata": {
    "ExecuteTime": {
     "end_time": "2021-04-09T16:41:22.949704Z",
     "start_time": "2021-04-09T16:41:22.697848Z"
    }
   },
   "outputs": [],
   "source": [
    "X=df[l1]\n",
    "y=df['Output']\n",
    "nm=RandomOverSampler()\n",
    "X,y=nm.fit_resample(X,y)\n"
   ]
  },
  {
   "cell_type": "code",
   "execution_count": 98,
   "metadata": {
    "ExecuteTime": {
     "end_time": "2021-04-09T16:41:23.010669Z",
     "start_time": "2021-04-09T16:41:22.953702Z"
    }
   },
   "outputs": [
    {
     "data": {
      "text/plain": [
       "DecisionTreeClassifier(max_depth=6, min_samples_leaf=2, min_samples_split=4,\n",
       "                       random_state=0)"
      ]
     },
     "execution_count": 98,
     "metadata": {},
     "output_type": "execute_result"
    }
   ],
   "source": [
    "X_train, X_test, y_train, y_test = train_test_split(X, y, test_size = 0.33)\n",
    "clf=DecisionTreeClassifier(random_state=0,max_depth=6,min_samples_leaf=2,min_samples_split=4)\n",
    "clf.fit(X,y)"
   ]
  },
  {
   "cell_type": "code",
   "execution_count": 99,
   "metadata": {
    "ExecuteTime": {
     "end_time": "2021-04-09T16:41:23.249533Z",
     "start_time": "2021-04-09T16:41:23.014668Z"
    }
   },
   "outputs": [
    {
     "data": {
      "text/plain": [
       "0.9798994974874372"
      ]
     },
     "execution_count": 99,
     "metadata": {},
     "output_type": "execute_result"
    }
   ],
   "source": [
    "clf.score(X_test,y_test)"
   ]
  },
  {
   "cell_type": "code",
   "execution_count": 100,
   "metadata": {
    "ExecuteTime": {
     "end_time": "2021-04-09T16:41:23.426431Z",
     "start_time": "2021-04-09T16:41:23.254531Z"
    }
   },
   "outputs": [
    {
     "data": {
      "text/plain": [
       "array([1, 0, 1, 1, 0, 1, 1, 0, 0, 1, 0, 1, 0, 0, 0, 1, 1, 0, 1, 1, 1, 0,\n",
       "       1, 1, 1, 1, 1, 1, 1, 1, 1, 0, 0, 1, 0, 0, 1, 0, 1, 0, 1, 0, 1, 0,\n",
       "       0, 1, 1, 0, 1, 1, 1, 0, 0, 0, 1, 1, 1, 1, 1, 0, 1, 0, 0, 1, 1, 1,\n",
       "       1, 1, 0, 0, 0, 1, 1, 0, 0, 1, 1, 1, 1, 1, 0, 0, 0, 0, 0, 0, 1, 1,\n",
       "       0, 1, 0, 0, 0, 0, 1, 1, 1, 0, 1, 1, 0, 0, 0, 1, 1, 0, 1, 1, 1, 0,\n",
       "       1, 1, 1, 0, 0, 0, 0, 1, 1, 1, 1, 1, 0, 1, 0, 1, 0, 1, 1, 0, 0, 0,\n",
       "       0, 0, 1, 1, 0, 1, 1, 0, 1, 0, 1, 1, 0, 0, 0, 0, 0, 0, 1, 0, 0, 0,\n",
       "       1, 1, 1, 0, 1, 1, 0, 0, 0, 0, 1, 0, 1, 0, 0, 0, 0, 0, 0, 1, 0, 1,\n",
       "       0, 1, 1, 1, 0, 1, 1, 1, 1, 0, 0, 0, 1, 1, 0, 0, 0, 0, 0, 1, 1, 1,\n",
       "       1], dtype=int64)"
      ]
     },
     "execution_count": 100,
     "metadata": {},
     "output_type": "execute_result"
    }
   ],
   "source": [
    "y_pred=clf.predict(X_test)\n",
    "y_pred"
   ]
  },
  {
   "cell_type": "code",
   "execution_count": 101,
   "metadata": {
    "ExecuteTime": {
     "end_time": "2021-04-09T16:41:23.586339Z",
     "start_time": "2021-04-09T16:41:23.430430Z"
    }
   },
   "outputs": [
    {
     "name": "stdout",
     "output_type": "stream",
     "text": [
      "[[ 93   2]\n",
      " [  2 102]]\n"
     ]
    }
   ],
   "source": [
    "print(confusion_matrix(y_test,y_pred))"
   ]
  },
  {
   "cell_type": "code",
   "execution_count": 102,
   "metadata": {
    "ExecuteTime": {
     "end_time": "2021-04-09T16:41:23.720267Z",
     "start_time": "2021-04-09T16:41:23.590338Z"
    }
   },
   "outputs": [
    {
     "name": "stdout",
     "output_type": "stream",
     "text": [
      "              precision    recall  f1-score   support\n",
      "\n",
      "           0       0.98      0.98      0.98        95\n",
      "           1       0.98      0.98      0.98       104\n",
      "\n",
      "    accuracy                           0.98       199\n",
      "   macro avg       0.98      0.98      0.98       199\n",
      "weighted avg       0.98      0.98      0.98       199\n",
      "\n"
     ]
    }
   ],
   "source": [
    "print(classification_report(y_test,y_pred))"
   ]
  },
  {
   "cell_type": "code",
   "execution_count": 103,
   "metadata": {
    "ExecuteTime": {
     "end_time": "2021-04-09T16:41:24.397877Z",
     "start_time": "2021-04-09T16:41:23.725260Z"
    }
   },
   "outputs": [
    {
     "name": "stdout",
     "output_type": "stream",
     "text": [
      "List of possible accuracy: [0.8627450980392157, 0.9411764705882353, 0.92, 0.98, 0.92, 0.92, 0.92, 0.9, 0.92, 0.88, 0.98, 0.94]\n",
      "\n",
      "Maximum Accuracy That can be obtained from this model is: 98.0 %\n",
      "\n",
      "Minimum Accuracy: 86.27450980392157 %\n",
      "\n",
      "Average Accuracy That can be obtained from this model is:: 0.9236601307189544\n",
      "\n",
      " Median Accuracy That can be obtained from this model is:: 0.92\n",
      "\n",
      "Standard Deviation is: 0.03312326476279602\n"
     ]
    }
   ],
   "source": [
    "lst_accu_stratified = [] \n",
    "x=0\n",
    "feature_common=pd.DataFrame()\n",
    "for train_index, test_index in skf.split(X, y): \n",
    "    x_train_fold, x_test_fold = X.loc[train_index,:], X.loc[test_index,:] \n",
    "    y_train_fold, y_test_fold = y[train_index], y[test_index] \n",
    "    clf.fit(x_train_fold, y_train_fold)\n",
    "    feature_common[x]=feature_extract(clf,l1)\n",
    "    x+=1\n",
    "    lst_accu_stratified.append(clf.score(x_test_fold, y_test_fold))\n",
    "    \n",
    "    \n",
    "print('List of possible accuracy:', lst_accu_stratified) \n",
    "print('\\nMaximum Accuracy That can be obtained from this model is:', \n",
    "      max(lst_accu_stratified)*100, '%') \n",
    "print('\\nMinimum Accuracy:', \n",
    "      min(lst_accu_stratified)*100, '%') \n",
    "print('\\nAverage Accuracy That can be obtained from this model is::',np.mean(lst_accu_stratified)) \n",
    "print('\\n Median Accuracy That can be obtained from this model is::',np.median(lst_accu_stratified)) \n",
    "print('\\nStandard Deviation is:',np.std(lst_accu_stratified)) "
   ]
  },
  {
   "cell_type": "code",
   "execution_count": 104,
   "metadata": {
    "ExecuteTime": {
     "end_time": "2021-04-09T16:41:24.446852Z",
     "start_time": "2021-04-09T16:41:24.400874Z"
    },
    "scrolled": true
   },
   "outputs": [
    {
     "data": {
      "text/html": [
       "<div>\n",
       "<style scoped>\n",
       "    .dataframe tbody tr th:only-of-type {\n",
       "        vertical-align: middle;\n",
       "    }\n",
       "\n",
       "    .dataframe tbody tr th {\n",
       "        vertical-align: top;\n",
       "    }\n",
       "\n",
       "    .dataframe thead th {\n",
       "        text-align: right;\n",
       "    }\n",
       "</style>\n",
       "<table border=\"1\" class=\"dataframe\">\n",
       "  <thead>\n",
       "    <tr style=\"text-align: right;\">\n",
       "      <th></th>\n",
       "      <th>0</th>\n",
       "      <th>1</th>\n",
       "      <th>2</th>\n",
       "      <th>3</th>\n",
       "      <th>4</th>\n",
       "      <th>5</th>\n",
       "      <th>6</th>\n",
       "      <th>7</th>\n",
       "      <th>8</th>\n",
       "      <th>9</th>\n",
       "      <th>10</th>\n",
       "      <th>11</th>\n",
       "    </tr>\n",
       "  </thead>\n",
       "  <tbody>\n",
       "    <tr>\n",
       "      <th>0</th>\n",
       "      <td>Ease and convenient_Disagree</td>\n",
       "      <td>Ease and convenient_Disagree</td>\n",
       "      <td>Ease and convenient_Disagree</td>\n",
       "      <td>Ease and convenient_Disagree</td>\n",
       "      <td>Ease and convenient_Disagree</td>\n",
       "      <td>Ease and convenient_Disagree</td>\n",
       "      <td>Ease and convenient_Disagree</td>\n",
       "      <td>Ease and convenient_Disagree</td>\n",
       "      <td>Ease and convenient_Disagree</td>\n",
       "      <td>Ease and convenient_Disagree</td>\n",
       "      <td>Ease and convenient_Disagree</td>\n",
       "      <td>Ease and convenient_Disagree</td>\n",
       "    </tr>\n",
       "    <tr>\n",
       "      <th>1</th>\n",
       "      <td>More restaurant choices_Disagree</td>\n",
       "      <td>More restaurant choices_Disagree</td>\n",
       "      <td>More restaurant choices_Disagree</td>\n",
       "      <td>More restaurant choices_Disagree</td>\n",
       "      <td>More restaurant choices_Disagree</td>\n",
       "      <td>More restaurant choices_Disagree</td>\n",
       "      <td>More restaurant choices_Disagree</td>\n",
       "      <td>More restaurant choices_Disagree</td>\n",
       "      <td>More restaurant choices_Disagree</td>\n",
       "      <td>More restaurant choices_Disagree</td>\n",
       "      <td>More restaurant choices_Disagree</td>\n",
       "      <td>More restaurant choices_Disagree</td>\n",
       "    </tr>\n",
       "    <tr>\n",
       "      <th>2</th>\n",
       "      <td>Politeness_Very Important</td>\n",
       "      <td>Missing item_Neutral</td>\n",
       "      <td>Missing item_Neutral</td>\n",
       "      <td>Politeness_Very Important</td>\n",
       "      <td>Missing item_Neutral</td>\n",
       "      <td>Unaffordable_Agree</td>\n",
       "      <td>Missing item_Neutral</td>\n",
       "      <td>Missing item_Neutral</td>\n",
       "      <td>Missing item_Neutral</td>\n",
       "      <td>High Quality of package_Very Important</td>\n",
       "      <td>Missing item_Neutral</td>\n",
       "      <td>Occupation_Student</td>\n",
       "    </tr>\n",
       "    <tr>\n",
       "      <th>3</th>\n",
       "      <td>Missing item_Neutral</td>\n",
       "      <td>Politeness_Very Important</td>\n",
       "      <td>Politeness_Very Important</td>\n",
       "      <td>Missing item_Neutral</td>\n",
       "      <td>Politeness_Very Important</td>\n",
       "      <td>Occupation_Student</td>\n",
       "      <td>Occupation_Student</td>\n",
       "      <td>Politeness_Very Important</td>\n",
       "      <td>Politeness_Very Important</td>\n",
       "      <td>Unaffordable_Agree</td>\n",
       "      <td>Politeness_Very Important</td>\n",
       "      <td>Missing item_Neutral</td>\n",
       "    </tr>\n",
       "    <tr>\n",
       "      <th>4</th>\n",
       "      <td>Bad past experience_Agree</td>\n",
       "      <td>Delivery person ability_Strongly Agree</td>\n",
       "      <td>Unavailability_Disagree</td>\n",
       "      <td>Time saving_Disagree</td>\n",
       "      <td>Time saving_Disagree</td>\n",
       "      <td>Missing item_Neutral</td>\n",
       "      <td>Unaffordable_Agree</td>\n",
       "      <td>Age</td>\n",
       "      <td>Unavailability_Disagree</td>\n",
       "      <td>Occupation_Student</td>\n",
       "      <td>Delivery person ability_Strongly Agree</td>\n",
       "      <td>Unaffordable_Agree</td>\n",
       "    </tr>\n",
       "    <tr>\n",
       "      <th>5</th>\n",
       "      <td>Unaffordable_Strongly disagree</td>\n",
       "      <td>Unavailability_Disagree</td>\n",
       "      <td>Delivery person ability_Strongly Agree</td>\n",
       "      <td>Bad past experience_Agree</td>\n",
       "      <td>Influence of rating_Yes</td>\n",
       "      <td>Perference(P2)_ Sweets</td>\n",
       "      <td>Perference(P2)_ Sweets</td>\n",
       "      <td>Delay of delivery person picking up food_Agree</td>\n",
       "      <td>Delivery person ability_Strongly Agree</td>\n",
       "      <td>Unavailability_Disagree</td>\n",
       "      <td>Unavailability_Disagree</td>\n",
       "      <td>Perference(P2)_ Sweets</td>\n",
       "    </tr>\n",
       "    <tr>\n",
       "      <th>6</th>\n",
       "      <td>Late Delivery_Disagree</td>\n",
       "      <td>Bad past experience_Agree</td>\n",
       "      <td>Unaffordable_Strongly disagree</td>\n",
       "      <td>Late Delivery_Disagree</td>\n",
       "      <td>Unaffordable_Strongly disagree</td>\n",
       "      <td>Unavailability_Disagree</td>\n",
       "      <td>Unavailability_Disagree</td>\n",
       "      <td>Unaffordable_Strongly disagree</td>\n",
       "      <td>Bad past experience_Agree</td>\n",
       "      <td>Meal(P1)_Breakfast</td>\n",
       "      <td>Unaffordable_Strongly disagree</td>\n",
       "      <td>Unavailability_Disagree</td>\n",
       "    </tr>\n",
       "    <tr>\n",
       "      <th>7</th>\n",
       "      <td>Good Road Condition_Strongly Agree</td>\n",
       "      <td>Late Delivery_Disagree</td>\n",
       "      <td>Bad past experience_Agree</td>\n",
       "      <td>Unaffordable_Strongly disagree</td>\n",
       "      <td>Age</td>\n",
       "      <td>Late Delivery_Disagree</td>\n",
       "      <td>Maximum wait time_15 minutes</td>\n",
       "      <td>Temperature_Moderately Important</td>\n",
       "      <td>Late Delivery_Disagree</td>\n",
       "      <td>Missing item_Strongly agree</td>\n",
       "      <td>Bad past experience_Agree</td>\n",
       "      <td>Maximum wait time_15 minutes</td>\n",
       "    </tr>\n",
       "    <tr>\n",
       "      <th>8</th>\n",
       "      <td>Time saving_Disagree</td>\n",
       "      <td>Temperature_Moderately Important</td>\n",
       "      <td>Late Delivery_Disagree</td>\n",
       "      <td>Long delivery time_Strongly agree</td>\n",
       "      <td>Late Delivery_Disagree</td>\n",
       "      <td>Maximum wait time_15 minutes</td>\n",
       "      <td>Delay of delivery person getting assigned_Stro...</td>\n",
       "      <td>Late Delivery_Disagree</td>\n",
       "      <td>Influence of time_Maybe</td>\n",
       "      <td>Marital Status_Prefer not to say</td>\n",
       "      <td>Late Delivery_Disagree</td>\n",
       "      <td>Late Delivery_Disagree</td>\n",
       "    </tr>\n",
       "    <tr>\n",
       "      <th>9</th>\n",
       "      <td>Delay of delivery person getting assigned_Stro...</td>\n",
       "      <td>Long delivery time_Strongly agree</td>\n",
       "      <td>More Offers and Discount_Disagree</td>\n",
       "      <td>Wrong order delivered_Strongly disagree</td>\n",
       "      <td>Maximum wait time_15 minutes</td>\n",
       "      <td>Medium (P2)_ Direct call</td>\n",
       "      <td>Late Delivery_Disagree</td>\n",
       "      <td>Bad past experience_Agree</td>\n",
       "      <td>Delay of delivery person picking up food_Neutral</td>\n",
       "      <td>Late Delivery_Disagree</td>\n",
       "      <td>Long delivery time_Strongly agree</td>\n",
       "      <td>Delay of delivery person getting assigned_Stro...</td>\n",
       "    </tr>\n",
       "    <tr>\n",
       "      <th>10</th>\n",
       "      <td>Influence of time_No</td>\n",
       "      <td>Unaffordable_Strongly disagree</td>\n",
       "      <td>Long delivery time_Strongly agree</td>\n",
       "      <td>Influence of time_No</td>\n",
       "      <td>Unaffordable_Agree</td>\n",
       "      <td>Bad past experience_Strongly disagree</td>\n",
       "      <td>Delay of delivery person getting assigned_Disa...</td>\n",
       "      <td>Delivery person ability_Strongly Agree</td>\n",
       "      <td>More Offers and Discount_Disagree</td>\n",
       "      <td>Maximum wait time_45 minutes</td>\n",
       "      <td>More Offers and Discount_Disagree</td>\n",
       "      <td>High Quality of package_Important</td>\n",
       "    </tr>\n",
       "    <tr>\n",
       "      <th>11</th>\n",
       "      <td>Temperature_Moderately Important</td>\n",
       "      <td>Delay of delivery person getting assigned_Agree</td>\n",
       "      <td>Time saving_Neutral</td>\n",
       "      <td>Good Food quality_Agree</td>\n",
       "      <td>Delay of delivery person getting assigned_Agree</td>\n",
       "      <td>Temperature_Moderately Important</td>\n",
       "      <td>Time saving_Disagree</td>\n",
       "      <td>More Offers and Discount_Disagree</td>\n",
       "      <td>Time saving_Neutral</td>\n",
       "      <td>Good Tracking system_Agree</td>\n",
       "      <td>Perference(P2)_ Veg foods (Breakfast / Lunch /...</td>\n",
       "      <td>Bad past experience_Strongly disagree</td>\n",
       "    </tr>\n",
       "  </tbody>\n",
       "</table>\n",
       "</div>"
      ],
      "text/plain": [
       "                                                   0   \\\n",
       "0                        Ease and convenient_Disagree   \n",
       "1                    More restaurant choices_Disagree   \n",
       "2                           Politeness_Very Important   \n",
       "3                                Missing item_Neutral   \n",
       "4                           Bad past experience_Agree   \n",
       "5                      Unaffordable_Strongly disagree   \n",
       "6                              Late Delivery_Disagree   \n",
       "7                  Good Road Condition_Strongly Agree   \n",
       "8                                Time saving_Disagree   \n",
       "9   Delay of delivery person getting assigned_Stro...   \n",
       "10                               Influence of time_No   \n",
       "11                   Temperature_Moderately Important   \n",
       "\n",
       "                                                 1   \\\n",
       "0                      Ease and convenient_Disagree   \n",
       "1                  More restaurant choices_Disagree   \n",
       "2                              Missing item_Neutral   \n",
       "3                         Politeness_Very Important   \n",
       "4            Delivery person ability_Strongly Agree   \n",
       "5                           Unavailability_Disagree   \n",
       "6                         Bad past experience_Agree   \n",
       "7                            Late Delivery_Disagree   \n",
       "8                  Temperature_Moderately Important   \n",
       "9                 Long delivery time_Strongly agree   \n",
       "10                   Unaffordable_Strongly disagree   \n",
       "11  Delay of delivery person getting assigned_Agree   \n",
       "\n",
       "                                        2   \\\n",
       "0             Ease and convenient_Disagree   \n",
       "1         More restaurant choices_Disagree   \n",
       "2                     Missing item_Neutral   \n",
       "3                Politeness_Very Important   \n",
       "4                  Unavailability_Disagree   \n",
       "5   Delivery person ability_Strongly Agree   \n",
       "6           Unaffordable_Strongly disagree   \n",
       "7                Bad past experience_Agree   \n",
       "8                   Late Delivery_Disagree   \n",
       "9        More Offers and Discount_Disagree   \n",
       "10       Long delivery time_Strongly agree   \n",
       "11                     Time saving_Neutral   \n",
       "\n",
       "                                         3   \\\n",
       "0              Ease and convenient_Disagree   \n",
       "1          More restaurant choices_Disagree   \n",
       "2                 Politeness_Very Important   \n",
       "3                      Missing item_Neutral   \n",
       "4                      Time saving_Disagree   \n",
       "5                 Bad past experience_Agree   \n",
       "6                    Late Delivery_Disagree   \n",
       "7            Unaffordable_Strongly disagree   \n",
       "8         Long delivery time_Strongly agree   \n",
       "9   Wrong order delivered_Strongly disagree   \n",
       "10                     Influence of time_No   \n",
       "11                  Good Food quality_Agree   \n",
       "\n",
       "                                                 4   \\\n",
       "0                      Ease and convenient_Disagree   \n",
       "1                  More restaurant choices_Disagree   \n",
       "2                              Missing item_Neutral   \n",
       "3                         Politeness_Very Important   \n",
       "4                              Time saving_Disagree   \n",
       "5                           Influence of rating_Yes   \n",
       "6                    Unaffordable_Strongly disagree   \n",
       "7                                               Age   \n",
       "8                            Late Delivery_Disagree   \n",
       "9                      Maximum wait time_15 minutes   \n",
       "10                               Unaffordable_Agree   \n",
       "11  Delay of delivery person getting assigned_Agree   \n",
       "\n",
       "                                       5   \\\n",
       "0            Ease and convenient_Disagree   \n",
       "1        More restaurant choices_Disagree   \n",
       "2                      Unaffordable_Agree   \n",
       "3                      Occupation_Student   \n",
       "4                    Missing item_Neutral   \n",
       "5                  Perference(P2)_ Sweets   \n",
       "6                 Unavailability_Disagree   \n",
       "7                  Late Delivery_Disagree   \n",
       "8            Maximum wait time_15 minutes   \n",
       "9                Medium (P2)_ Direct call   \n",
       "10  Bad past experience_Strongly disagree   \n",
       "11       Temperature_Moderately Important   \n",
       "\n",
       "                                                   6   \\\n",
       "0                        Ease and convenient_Disagree   \n",
       "1                    More restaurant choices_Disagree   \n",
       "2                                Missing item_Neutral   \n",
       "3                                  Occupation_Student   \n",
       "4                                  Unaffordable_Agree   \n",
       "5                              Perference(P2)_ Sweets   \n",
       "6                             Unavailability_Disagree   \n",
       "7                        Maximum wait time_15 minutes   \n",
       "8   Delay of delivery person getting assigned_Stro...   \n",
       "9                              Late Delivery_Disagree   \n",
       "10  Delay of delivery person getting assigned_Disa...   \n",
       "11                               Time saving_Disagree   \n",
       "\n",
       "                                                7   \\\n",
       "0                     Ease and convenient_Disagree   \n",
       "1                 More restaurant choices_Disagree   \n",
       "2                             Missing item_Neutral   \n",
       "3                        Politeness_Very Important   \n",
       "4                                              Age   \n",
       "5   Delay of delivery person picking up food_Agree   \n",
       "6                   Unaffordable_Strongly disagree   \n",
       "7                 Temperature_Moderately Important   \n",
       "8                           Late Delivery_Disagree   \n",
       "9                        Bad past experience_Agree   \n",
       "10          Delivery person ability_Strongly Agree   \n",
       "11               More Offers and Discount_Disagree   \n",
       "\n",
       "                                                  8   \\\n",
       "0                       Ease and convenient_Disagree   \n",
       "1                   More restaurant choices_Disagree   \n",
       "2                               Missing item_Neutral   \n",
       "3                          Politeness_Very Important   \n",
       "4                            Unavailability_Disagree   \n",
       "5             Delivery person ability_Strongly Agree   \n",
       "6                          Bad past experience_Agree   \n",
       "7                             Late Delivery_Disagree   \n",
       "8                            Influence of time_Maybe   \n",
       "9   Delay of delivery person picking up food_Neutral   \n",
       "10                 More Offers and Discount_Disagree   \n",
       "11                               Time saving_Neutral   \n",
       "\n",
       "                                        9   \\\n",
       "0             Ease and convenient_Disagree   \n",
       "1         More restaurant choices_Disagree   \n",
       "2   High Quality of package_Very Important   \n",
       "3                       Unaffordable_Agree   \n",
       "4                       Occupation_Student   \n",
       "5                  Unavailability_Disagree   \n",
       "6                       Meal(P1)_Breakfast   \n",
       "7              Missing item_Strongly agree   \n",
       "8         Marital Status_Prefer not to say   \n",
       "9                   Late Delivery_Disagree   \n",
       "10            Maximum wait time_45 minutes   \n",
       "11              Good Tracking system_Agree   \n",
       "\n",
       "                                                   10  \\\n",
       "0                        Ease and convenient_Disagree   \n",
       "1                    More restaurant choices_Disagree   \n",
       "2                                Missing item_Neutral   \n",
       "3                           Politeness_Very Important   \n",
       "4              Delivery person ability_Strongly Agree   \n",
       "5                             Unavailability_Disagree   \n",
       "6                      Unaffordable_Strongly disagree   \n",
       "7                           Bad past experience_Agree   \n",
       "8                              Late Delivery_Disagree   \n",
       "9                   Long delivery time_Strongly agree   \n",
       "10                  More Offers and Discount_Disagree   \n",
       "11  Perference(P2)_ Veg foods (Breakfast / Lunch /...   \n",
       "\n",
       "                                                   11  \n",
       "0                        Ease and convenient_Disagree  \n",
       "1                    More restaurant choices_Disagree  \n",
       "2                                  Occupation_Student  \n",
       "3                                Missing item_Neutral  \n",
       "4                                  Unaffordable_Agree  \n",
       "5                              Perference(P2)_ Sweets  \n",
       "6                             Unavailability_Disagree  \n",
       "7                        Maximum wait time_15 minutes  \n",
       "8                              Late Delivery_Disagree  \n",
       "9   Delay of delivery person getting assigned_Stro...  \n",
       "10                  High Quality of package_Important  \n",
       "11              Bad past experience_Strongly disagree  "
      ]
     },
     "execution_count": 104,
     "metadata": {},
     "output_type": "execute_result"
    }
   ],
   "source": [
    "feature_common"
   ]
  },
  {
   "cell_type": "code",
   "execution_count": 105,
   "metadata": {
    "ExecuteTime": {
     "end_time": "2021-04-09T16:41:24.800646Z",
     "start_time": "2021-04-09T16:41:24.451846Z"
    }
   },
   "outputs": [],
   "source": [
    "l2=feature_extract(clf,l1)"
   ]
  },
  {
   "cell_type": "code",
   "execution_count": 106,
   "metadata": {
    "ExecuteTime": {
     "end_time": "2021-04-09T16:41:24.961555Z",
     "start_time": "2021-04-09T16:41:24.804644Z"
    }
   },
   "outputs": [],
   "source": [
    "relation_between_feature=pd.DataFrame(index=l2)"
   ]
  },
  {
   "cell_type": "code",
   "execution_count": 107,
   "metadata": {
    "ExecuteTime": {
     "end_time": "2021-04-09T16:41:25.130458Z",
     "start_time": "2021-04-09T16:41:24.966553Z"
    },
    "scrolled": false
   },
   "outputs": [
    {
     "data": {
      "text/html": [
       "<div>\n",
       "<style scoped>\n",
       "    .dataframe tbody tr th:only-of-type {\n",
       "        vertical-align: middle;\n",
       "    }\n",
       "\n",
       "    .dataframe tbody tr th {\n",
       "        vertical-align: top;\n",
       "    }\n",
       "\n",
       "    .dataframe thead th {\n",
       "        text-align: right;\n",
       "    }\n",
       "</style>\n",
       "<table border=\"1\" class=\"dataframe\">\n",
       "  <thead>\n",
       "    <tr style=\"text-align: right;\">\n",
       "      <th></th>\n",
       "    </tr>\n",
       "  </thead>\n",
       "  <tbody>\n",
       "    <tr>\n",
       "      <th>Ease and convenient_Disagree</th>\n",
       "    </tr>\n",
       "    <tr>\n",
       "      <th>More restaurant choices_Disagree</th>\n",
       "    </tr>\n",
       "    <tr>\n",
       "      <th>Occupation_Student</th>\n",
       "    </tr>\n",
       "    <tr>\n",
       "      <th>Missing item_Neutral</th>\n",
       "    </tr>\n",
       "    <tr>\n",
       "      <th>Unaffordable_Agree</th>\n",
       "    </tr>\n",
       "  </tbody>\n",
       "</table>\n",
       "</div>"
      ],
      "text/plain": [
       "Empty DataFrame\n",
       "Columns: []\n",
       "Index: [Ease and convenient_Disagree, More restaurant choices_Disagree, Occupation_Student, Missing item_Neutral, Unaffordable_Agree]"
      ]
     },
     "execution_count": 107,
     "metadata": {},
     "output_type": "execute_result"
    }
   ],
   "source": [
    "relation_between_feature.head()"
   ]
  },
  {
   "cell_type": "code",
   "execution_count": 108,
   "metadata": {
    "ExecuteTime": {
     "end_time": "2021-04-09T16:41:25.431286Z",
     "start_time": "2021-04-09T16:41:25.135456Z"
    }
   },
   "outputs": [
    {
     "data": {
      "text/html": [
       "<div>\n",
       "<style scoped>\n",
       "    .dataframe tbody tr th:only-of-type {\n",
       "        vertical-align: middle;\n",
       "    }\n",
       "\n",
       "    .dataframe tbody tr th {\n",
       "        vertical-align: top;\n",
       "    }\n",
       "\n",
       "    .dataframe thead th {\n",
       "        text-align: right;\n",
       "    }\n",
       "</style>\n",
       "<table border=\"1\" class=\"dataframe\">\n",
       "  <thead>\n",
       "    <tr style=\"text-align: right;\">\n",
       "      <th></th>\n",
       "      <th>Ease and convenient_Disagree</th>\n",
       "      <th>More restaurant choices_Disagree</th>\n",
       "      <th>Occupation_Student</th>\n",
       "      <th>Missing item_Neutral</th>\n",
       "      <th>Unaffordable_Agree</th>\n",
       "      <th>Perference(P2)_ Sweets</th>\n",
       "      <th>Unavailability_Disagree</th>\n",
       "      <th>Maximum wait time_15 minutes</th>\n",
       "      <th>Late Delivery_Disagree</th>\n",
       "      <th>Delay of delivery person getting assigned_Strongly agree</th>\n",
       "      <th>High Quality of package_Important</th>\n",
       "      <th>Bad past experience_Strongly disagree</th>\n",
       "    </tr>\n",
       "  </thead>\n",
       "  <tbody>\n",
       "    <tr>\n",
       "      <th>0</th>\n",
       "      <td>0</td>\n",
       "      <td>0</td>\n",
       "      <td>1</td>\n",
       "      <td>0</td>\n",
       "      <td>0</td>\n",
       "      <td>0</td>\n",
       "      <td>0</td>\n",
       "      <td>0</td>\n",
       "      <td>0</td>\n",
       "      <td>0</td>\n",
       "      <td>0</td>\n",
       "      <td>0</td>\n",
       "    </tr>\n",
       "    <tr>\n",
       "      <th>1</th>\n",
       "      <td>0</td>\n",
       "      <td>0</td>\n",
       "      <td>1</td>\n",
       "      <td>0</td>\n",
       "      <td>0</td>\n",
       "      <td>0</td>\n",
       "      <td>0</td>\n",
       "      <td>0</td>\n",
       "      <td>0</td>\n",
       "      <td>1</td>\n",
       "      <td>0</td>\n",
       "      <td>0</td>\n",
       "    </tr>\n",
       "    <tr>\n",
       "      <th>2</th>\n",
       "      <td>0</td>\n",
       "      <td>0</td>\n",
       "      <td>1</td>\n",
       "      <td>0</td>\n",
       "      <td>1</td>\n",
       "      <td>0</td>\n",
       "      <td>0</td>\n",
       "      <td>0</td>\n",
       "      <td>0</td>\n",
       "      <td>0</td>\n",
       "      <td>0</td>\n",
       "      <td>0</td>\n",
       "    </tr>\n",
       "    <tr>\n",
       "      <th>3</th>\n",
       "      <td>0</td>\n",
       "      <td>0</td>\n",
       "      <td>1</td>\n",
       "      <td>0</td>\n",
       "      <td>0</td>\n",
       "      <td>0</td>\n",
       "      <td>1</td>\n",
       "      <td>0</td>\n",
       "      <td>0</td>\n",
       "      <td>0</td>\n",
       "      <td>1</td>\n",
       "      <td>0</td>\n",
       "    </tr>\n",
       "    <tr>\n",
       "      <th>4</th>\n",
       "      <td>0</td>\n",
       "      <td>0</td>\n",
       "      <td>1</td>\n",
       "      <td>1</td>\n",
       "      <td>0</td>\n",
       "      <td>0</td>\n",
       "      <td>0</td>\n",
       "      <td>0</td>\n",
       "      <td>0</td>\n",
       "      <td>1</td>\n",
       "      <td>1</td>\n",
       "      <td>0</td>\n",
       "    </tr>\n",
       "    <tr>\n",
       "      <th>...</th>\n",
       "      <td>...</td>\n",
       "      <td>...</td>\n",
       "      <td>...</td>\n",
       "      <td>...</td>\n",
       "      <td>...</td>\n",
       "      <td>...</td>\n",
       "      <td>...</td>\n",
       "      <td>...</td>\n",
       "      <td>...</td>\n",
       "      <td>...</td>\n",
       "      <td>...</td>\n",
       "      <td>...</td>\n",
       "    </tr>\n",
       "    <tr>\n",
       "      <th>597</th>\n",
       "      <td>1</td>\n",
       "      <td>1</td>\n",
       "      <td>1</td>\n",
       "      <td>1</td>\n",
       "      <td>1</td>\n",
       "      <td>0</td>\n",
       "      <td>0</td>\n",
       "      <td>1</td>\n",
       "      <td>0</td>\n",
       "      <td>0</td>\n",
       "      <td>0</td>\n",
       "      <td>0</td>\n",
       "    </tr>\n",
       "    <tr>\n",
       "      <th>598</th>\n",
       "      <td>1</td>\n",
       "      <td>1</td>\n",
       "      <td>0</td>\n",
       "      <td>0</td>\n",
       "      <td>1</td>\n",
       "      <td>1</td>\n",
       "      <td>0</td>\n",
       "      <td>0</td>\n",
       "      <td>1</td>\n",
       "      <td>0</td>\n",
       "      <td>1</td>\n",
       "      <td>0</td>\n",
       "    </tr>\n",
       "    <tr>\n",
       "      <th>599</th>\n",
       "      <td>0</td>\n",
       "      <td>0</td>\n",
       "      <td>1</td>\n",
       "      <td>0</td>\n",
       "      <td>0</td>\n",
       "      <td>0</td>\n",
       "      <td>0</td>\n",
       "      <td>0</td>\n",
       "      <td>1</td>\n",
       "      <td>1</td>\n",
       "      <td>1</td>\n",
       "      <td>1</td>\n",
       "    </tr>\n",
       "    <tr>\n",
       "      <th>600</th>\n",
       "      <td>0</td>\n",
       "      <td>1</td>\n",
       "      <td>0</td>\n",
       "      <td>0</td>\n",
       "      <td>0</td>\n",
       "      <td>0</td>\n",
       "      <td>0</td>\n",
       "      <td>0</td>\n",
       "      <td>0</td>\n",
       "      <td>0</td>\n",
       "      <td>0</td>\n",
       "      <td>0</td>\n",
       "    </tr>\n",
       "    <tr>\n",
       "      <th>601</th>\n",
       "      <td>1</td>\n",
       "      <td>1</td>\n",
       "      <td>0</td>\n",
       "      <td>1</td>\n",
       "      <td>1</td>\n",
       "      <td>0</td>\n",
       "      <td>0</td>\n",
       "      <td>0</td>\n",
       "      <td>0</td>\n",
       "      <td>0</td>\n",
       "      <td>0</td>\n",
       "      <td>0</td>\n",
       "    </tr>\n",
       "  </tbody>\n",
       "</table>\n",
       "<p>602 rows × 12 columns</p>\n",
       "</div>"
      ],
      "text/plain": [
       "     Ease and convenient_Disagree  More restaurant choices_Disagree  \\\n",
       "0                               0                                 0   \n",
       "1                               0                                 0   \n",
       "2                               0                                 0   \n",
       "3                               0                                 0   \n",
       "4                               0                                 0   \n",
       "..                            ...                               ...   \n",
       "597                             1                                 1   \n",
       "598                             1                                 1   \n",
       "599                             0                                 0   \n",
       "600                             0                                 1   \n",
       "601                             1                                 1   \n",
       "\n",
       "     Occupation_Student  Missing item_Neutral  Unaffordable_Agree  \\\n",
       "0                     1                     0                   0   \n",
       "1                     1                     0                   0   \n",
       "2                     1                     0                   1   \n",
       "3                     1                     0                   0   \n",
       "4                     1                     1                   0   \n",
       "..                  ...                   ...                 ...   \n",
       "597                   1                     1                   1   \n",
       "598                   0                     0                   1   \n",
       "599                   1                     0                   0   \n",
       "600                   0                     0                   0   \n",
       "601                   0                     1                   1   \n",
       "\n",
       "     Perference(P2)_ Sweets  Unavailability_Disagree  \\\n",
       "0                         0                        0   \n",
       "1                         0                        0   \n",
       "2                         0                        0   \n",
       "3                         0                        1   \n",
       "4                         0                        0   \n",
       "..                      ...                      ...   \n",
       "597                       0                        0   \n",
       "598                       1                        0   \n",
       "599                       0                        0   \n",
       "600                       0                        0   \n",
       "601                       0                        0   \n",
       "\n",
       "     Maximum wait time_15 minutes  Late Delivery_Disagree  \\\n",
       "0                               0                       0   \n",
       "1                               0                       0   \n",
       "2                               0                       0   \n",
       "3                               0                       0   \n",
       "4                               0                       0   \n",
       "..                            ...                     ...   \n",
       "597                             1                       0   \n",
       "598                             0                       1   \n",
       "599                             0                       1   \n",
       "600                             0                       0   \n",
       "601                             0                       0   \n",
       "\n",
       "     Delay of delivery person getting assigned_Strongly agree  \\\n",
       "0                                                    0          \n",
       "1                                                    1          \n",
       "2                                                    0          \n",
       "3                                                    0          \n",
       "4                                                    1          \n",
       "..                                                 ...          \n",
       "597                                                  0          \n",
       "598                                                  0          \n",
       "599                                                  1          \n",
       "600                                                  0          \n",
       "601                                                  0          \n",
       "\n",
       "     High Quality of package_Important  Bad past experience_Strongly disagree  \n",
       "0                                    0                                      0  \n",
       "1                                    0                                      0  \n",
       "2                                    0                                      0  \n",
       "3                                    1                                      0  \n",
       "4                                    1                                      0  \n",
       "..                                 ...                                    ...  \n",
       "597                                  0                                      0  \n",
       "598                                  1                                      0  \n",
       "599                                  1                                      1  \n",
       "600                                  0                                      0  \n",
       "601                                  0                                      0  \n",
       "\n",
       "[602 rows x 12 columns]"
      ]
     },
     "execution_count": 108,
     "metadata": {},
     "output_type": "execute_result"
    }
   ],
   "source": [
    "X[l2]"
   ]
  },
  {
   "cell_type": "code",
   "execution_count": 109,
   "metadata": {
    "ExecuteTime": {
     "end_time": "2021-04-09T16:41:29.330312Z",
     "start_time": "2021-04-09T16:41:25.435284Z"
    }
   },
   "outputs": [],
   "source": [
    "\n",
    "for i in l2:\n",
    "    l1=[]\n",
    "    for j in l2:\n",
    "        df_t=pd.crosstab(X[j],X[i])\n",
    "        stat, p, dof, expected = st.chi2_contingency(df_t,correction=True)\n",
    "        t=min(df_t.shape)-1\n",
    "        deno=sum(df_t.sum())\n",
    "        x=np.sqrt(stat / deno)\n",
    "        l1.append(x)\n",
    "    relation_between_feature[i]=l1\n",
    "    \n",
    "\n",
    "\n",
    "\n",
    "        \n"
   ]
  },
  {
   "cell_type": "code",
   "execution_count": 110,
   "metadata": {
    "ExecuteTime": {
     "end_time": "2021-04-09T16:41:29.392372Z",
     "start_time": "2021-04-09T16:41:29.330312Z"
    },
    "scrolled": false
   },
   "outputs": [
    {
     "data": {
      "text/html": [
       "<div>\n",
       "<style scoped>\n",
       "    .dataframe tbody tr th:only-of-type {\n",
       "        vertical-align: middle;\n",
       "    }\n",
       "\n",
       "    .dataframe tbody tr th {\n",
       "        vertical-align: top;\n",
       "    }\n",
       "\n",
       "    .dataframe thead th {\n",
       "        text-align: right;\n",
       "    }\n",
       "</style>\n",
       "<table border=\"1\" class=\"dataframe\">\n",
       "  <thead>\n",
       "    <tr style=\"text-align: right;\">\n",
       "      <th></th>\n",
       "      <th>Ease and convenient_Disagree</th>\n",
       "      <th>More restaurant choices_Disagree</th>\n",
       "      <th>Occupation_Student</th>\n",
       "      <th>Missing item_Neutral</th>\n",
       "      <th>Unaffordable_Agree</th>\n",
       "      <th>Perference(P2)_ Sweets</th>\n",
       "      <th>Unavailability_Disagree</th>\n",
       "      <th>Maximum wait time_15 minutes</th>\n",
       "      <th>Late Delivery_Disagree</th>\n",
       "      <th>Delay of delivery person getting assigned_Strongly agree</th>\n",
       "      <th>High Quality of package_Important</th>\n",
       "      <th>Bad past experience_Strongly disagree</th>\n",
       "    </tr>\n",
       "  </thead>\n",
       "  <tbody>\n",
       "    <tr>\n",
       "      <th>Ease and convenient_Disagree</th>\n",
       "      <td>0.996217</td>\n",
       "      <td>0.457911</td>\n",
       "      <td>0.262644</td>\n",
       "      <td>0.026529</td>\n",
       "      <td>0.287400</td>\n",
       "      <td>0.306028</td>\n",
       "      <td>0.117532</td>\n",
       "      <td>0.401575</td>\n",
       "      <td>0.064385</td>\n",
       "      <td>0.157233</td>\n",
       "      <td>0.150037</td>\n",
       "      <td>0.167755</td>\n",
       "    </tr>\n",
       "    <tr>\n",
       "      <th>More restaurant choices_Disagree</th>\n",
       "      <td>0.457911</td>\n",
       "      <td>0.995637</td>\n",
       "      <td>0.332012</td>\n",
       "      <td>0.058896</td>\n",
       "      <td>0.091603</td>\n",
       "      <td>0.278781</td>\n",
       "      <td>0.010809</td>\n",
       "      <td>0.265637</td>\n",
       "      <td>0.059832</td>\n",
       "      <td>0.062879</td>\n",
       "      <td>0.069187</td>\n",
       "      <td>0.123781</td>\n",
       "    </tr>\n",
       "    <tr>\n",
       "      <th>Occupation_Student</th>\n",
       "      <td>0.262644</td>\n",
       "      <td>0.332012</td>\n",
       "      <td>0.996630</td>\n",
       "      <td>0.058540</td>\n",
       "      <td>0.054972</td>\n",
       "      <td>0.079206</td>\n",
       "      <td>0.074880</td>\n",
       "      <td>0.159565</td>\n",
       "      <td>0.072938</td>\n",
       "      <td>0.051460</td>\n",
       "      <td>0.024764</td>\n",
       "      <td>0.136224</td>\n",
       "    </tr>\n",
       "    <tr>\n",
       "      <th>Missing item_Neutral</th>\n",
       "      <td>0.026529</td>\n",
       "      <td>0.058896</td>\n",
       "      <td>0.058540</td>\n",
       "      <td>0.994625</td>\n",
       "      <td>0.049314</td>\n",
       "      <td>0.215496</td>\n",
       "      <td>0.128236</td>\n",
       "      <td>0.104858</td>\n",
       "      <td>0.152888</td>\n",
       "      <td>0.093115</td>\n",
       "      <td>0.212776</td>\n",
       "      <td>0.095823</td>\n",
       "    </tr>\n",
       "    <tr>\n",
       "      <th>Unaffordable_Agree</th>\n",
       "      <td>0.287400</td>\n",
       "      <td>0.091603</td>\n",
       "      <td>0.054972</td>\n",
       "      <td>0.049314</td>\n",
       "      <td>0.995541</td>\n",
       "      <td>0.004618</td>\n",
       "      <td>0.294204</td>\n",
       "      <td>0.056154</td>\n",
       "      <td>0.062337</td>\n",
       "      <td>0.009234</td>\n",
       "      <td>0.103189</td>\n",
       "      <td>0.120290</td>\n",
       "    </tr>\n",
       "    <tr>\n",
       "      <th>Perference(P2)_ Sweets</th>\n",
       "      <td>0.306028</td>\n",
       "      <td>0.278781</td>\n",
       "      <td>0.079206</td>\n",
       "      <td>0.215496</td>\n",
       "      <td>0.004618</td>\n",
       "      <td>0.994553</td>\n",
       "      <td>0.216388</td>\n",
       "      <td>0.055389</td>\n",
       "      <td>0.067905</td>\n",
       "      <td>0.077793</td>\n",
       "      <td>0.054034</td>\n",
       "      <td>0.112265</td>\n",
       "    </tr>\n",
       "    <tr>\n",
       "      <th>Unavailability_Disagree</th>\n",
       "      <td>0.117532</td>\n",
       "      <td>0.010809</td>\n",
       "      <td>0.074880</td>\n",
       "      <td>0.128236</td>\n",
       "      <td>0.294204</td>\n",
       "      <td>0.216388</td>\n",
       "      <td>0.996256</td>\n",
       "      <td>0.122654</td>\n",
       "      <td>0.003714</td>\n",
       "      <td>0.067353</td>\n",
       "      <td>0.022356</td>\n",
       "      <td>0.051464</td>\n",
       "    </tr>\n",
       "    <tr>\n",
       "      <th>Maximum wait time_15 minutes</th>\n",
       "      <td>0.401575</td>\n",
       "      <td>0.265637</td>\n",
       "      <td>0.159565</td>\n",
       "      <td>0.104858</td>\n",
       "      <td>0.056154</td>\n",
       "      <td>0.055389</td>\n",
       "      <td>0.122654</td>\n",
       "      <td>0.994589</td>\n",
       "      <td>0.037144</td>\n",
       "      <td>0.079167</td>\n",
       "      <td>0.079818</td>\n",
       "      <td>0.059314</td>\n",
       "    </tr>\n",
       "    <tr>\n",
       "      <th>Late Delivery_Disagree</th>\n",
       "      <td>0.064385</td>\n",
       "      <td>0.059832</td>\n",
       "      <td>0.072938</td>\n",
       "      <td>0.152888</td>\n",
       "      <td>0.062337</td>\n",
       "      <td>0.067905</td>\n",
       "      <td>0.003714</td>\n",
       "      <td>0.037144</td>\n",
       "      <td>0.993955</td>\n",
       "      <td>0.031054</td>\n",
       "      <td>0.052223</td>\n",
       "      <td>0.048754</td>\n",
       "    </tr>\n",
       "    <tr>\n",
       "      <th>Delay of delivery person getting assigned_Strongly agree</th>\n",
       "      <td>0.157233</td>\n",
       "      <td>0.062879</td>\n",
       "      <td>0.051460</td>\n",
       "      <td>0.093115</td>\n",
       "      <td>0.009234</td>\n",
       "      <td>0.077793</td>\n",
       "      <td>0.067353</td>\n",
       "      <td>0.079167</td>\n",
       "      <td>0.031054</td>\n",
       "      <td>0.992636</td>\n",
       "      <td>0.132505</td>\n",
       "      <td>0.003431</td>\n",
       "    </tr>\n",
       "    <tr>\n",
       "      <th>High Quality of package_Important</th>\n",
       "      <td>0.150037</td>\n",
       "      <td>0.069187</td>\n",
       "      <td>0.024764</td>\n",
       "      <td>0.212776</td>\n",
       "      <td>0.103189</td>\n",
       "      <td>0.054034</td>\n",
       "      <td>0.022356</td>\n",
       "      <td>0.079818</td>\n",
       "      <td>0.052223</td>\n",
       "      <td>0.132505</td>\n",
       "      <td>0.996515</td>\n",
       "      <td>0.005554</td>\n",
       "    </tr>\n",
       "    <tr>\n",
       "      <th>Bad past experience_Strongly disagree</th>\n",
       "      <td>0.167755</td>\n",
       "      <td>0.123781</td>\n",
       "      <td>0.136224</td>\n",
       "      <td>0.095823</td>\n",
       "      <td>0.120290</td>\n",
       "      <td>0.112265</td>\n",
       "      <td>0.051464</td>\n",
       "      <td>0.059314</td>\n",
       "      <td>0.048754</td>\n",
       "      <td>0.003431</td>\n",
       "      <td>0.005554</td>\n",
       "      <td>0.985228</td>\n",
       "    </tr>\n",
       "  </tbody>\n",
       "</table>\n",
       "</div>"
      ],
      "text/plain": [
       "                                                    Ease and convenient_Disagree  \\\n",
       "Ease and convenient_Disagree                                            0.996217   \n",
       "More restaurant choices_Disagree                                        0.457911   \n",
       "Occupation_Student                                                      0.262644   \n",
       "Missing item_Neutral                                                    0.026529   \n",
       "Unaffordable_Agree                                                      0.287400   \n",
       "Perference(P2)_ Sweets                                                  0.306028   \n",
       "Unavailability_Disagree                                                 0.117532   \n",
       "Maximum wait time_15 minutes                                            0.401575   \n",
       "Late Delivery_Disagree                                                  0.064385   \n",
       "Delay of delivery person getting assigned_Stron...                      0.157233   \n",
       "High Quality of package_Important                                       0.150037   \n",
       "Bad past experience_Strongly disagree                                   0.167755   \n",
       "\n",
       "                                                    More restaurant choices_Disagree  \\\n",
       "Ease and convenient_Disagree                                                0.457911   \n",
       "More restaurant choices_Disagree                                            0.995637   \n",
       "Occupation_Student                                                          0.332012   \n",
       "Missing item_Neutral                                                        0.058896   \n",
       "Unaffordable_Agree                                                          0.091603   \n",
       "Perference(P2)_ Sweets                                                      0.278781   \n",
       "Unavailability_Disagree                                                     0.010809   \n",
       "Maximum wait time_15 minutes                                                0.265637   \n",
       "Late Delivery_Disagree                                                      0.059832   \n",
       "Delay of delivery person getting assigned_Stron...                          0.062879   \n",
       "High Quality of package_Important                                           0.069187   \n",
       "Bad past experience_Strongly disagree                                       0.123781   \n",
       "\n",
       "                                                    Occupation_Student  \\\n",
       "Ease and convenient_Disagree                                  0.262644   \n",
       "More restaurant choices_Disagree                              0.332012   \n",
       "Occupation_Student                                            0.996630   \n",
       "Missing item_Neutral                                          0.058540   \n",
       "Unaffordable_Agree                                            0.054972   \n",
       "Perference(P2)_ Sweets                                        0.079206   \n",
       "Unavailability_Disagree                                       0.074880   \n",
       "Maximum wait time_15 minutes                                  0.159565   \n",
       "Late Delivery_Disagree                                        0.072938   \n",
       "Delay of delivery person getting assigned_Stron...            0.051460   \n",
       "High Quality of package_Important                             0.024764   \n",
       "Bad past experience_Strongly disagree                         0.136224   \n",
       "\n",
       "                                                    Missing item_Neutral  \\\n",
       "Ease and convenient_Disagree                                    0.026529   \n",
       "More restaurant choices_Disagree                                0.058896   \n",
       "Occupation_Student                                              0.058540   \n",
       "Missing item_Neutral                                            0.994625   \n",
       "Unaffordable_Agree                                              0.049314   \n",
       "Perference(P2)_ Sweets                                          0.215496   \n",
       "Unavailability_Disagree                                         0.128236   \n",
       "Maximum wait time_15 minutes                                    0.104858   \n",
       "Late Delivery_Disagree                                          0.152888   \n",
       "Delay of delivery person getting assigned_Stron...              0.093115   \n",
       "High Quality of package_Important                               0.212776   \n",
       "Bad past experience_Strongly disagree                           0.095823   \n",
       "\n",
       "                                                    Unaffordable_Agree  \\\n",
       "Ease and convenient_Disagree                                  0.287400   \n",
       "More restaurant choices_Disagree                              0.091603   \n",
       "Occupation_Student                                            0.054972   \n",
       "Missing item_Neutral                                          0.049314   \n",
       "Unaffordable_Agree                                            0.995541   \n",
       "Perference(P2)_ Sweets                                        0.004618   \n",
       "Unavailability_Disagree                                       0.294204   \n",
       "Maximum wait time_15 minutes                                  0.056154   \n",
       "Late Delivery_Disagree                                        0.062337   \n",
       "Delay of delivery person getting assigned_Stron...            0.009234   \n",
       "High Quality of package_Important                             0.103189   \n",
       "Bad past experience_Strongly disagree                         0.120290   \n",
       "\n",
       "                                                    Perference(P2)_ Sweets  \\\n",
       "Ease and convenient_Disagree                                      0.306028   \n",
       "More restaurant choices_Disagree                                  0.278781   \n",
       "Occupation_Student                                                0.079206   \n",
       "Missing item_Neutral                                              0.215496   \n",
       "Unaffordable_Agree                                                0.004618   \n",
       "Perference(P2)_ Sweets                                            0.994553   \n",
       "Unavailability_Disagree                                           0.216388   \n",
       "Maximum wait time_15 minutes                                      0.055389   \n",
       "Late Delivery_Disagree                                            0.067905   \n",
       "Delay of delivery person getting assigned_Stron...                0.077793   \n",
       "High Quality of package_Important                                 0.054034   \n",
       "Bad past experience_Strongly disagree                             0.112265   \n",
       "\n",
       "                                                    Unavailability_Disagree  \\\n",
       "Ease and convenient_Disagree                                       0.117532   \n",
       "More restaurant choices_Disagree                                   0.010809   \n",
       "Occupation_Student                                                 0.074880   \n",
       "Missing item_Neutral                                               0.128236   \n",
       "Unaffordable_Agree                                                 0.294204   \n",
       "Perference(P2)_ Sweets                                             0.216388   \n",
       "Unavailability_Disagree                                            0.996256   \n",
       "Maximum wait time_15 minutes                                       0.122654   \n",
       "Late Delivery_Disagree                                             0.003714   \n",
       "Delay of delivery person getting assigned_Stron...                 0.067353   \n",
       "High Quality of package_Important                                  0.022356   \n",
       "Bad past experience_Strongly disagree                              0.051464   \n",
       "\n",
       "                                                    Maximum wait time_15 minutes  \\\n",
       "Ease and convenient_Disagree                                            0.401575   \n",
       "More restaurant choices_Disagree                                        0.265637   \n",
       "Occupation_Student                                                      0.159565   \n",
       "Missing item_Neutral                                                    0.104858   \n",
       "Unaffordable_Agree                                                      0.056154   \n",
       "Perference(P2)_ Sweets                                                  0.055389   \n",
       "Unavailability_Disagree                                                 0.122654   \n",
       "Maximum wait time_15 minutes                                            0.994589   \n",
       "Late Delivery_Disagree                                                  0.037144   \n",
       "Delay of delivery person getting assigned_Stron...                      0.079167   \n",
       "High Quality of package_Important                                       0.079818   \n",
       "Bad past experience_Strongly disagree                                   0.059314   \n",
       "\n",
       "                                                    Late Delivery_Disagree  \\\n",
       "Ease and convenient_Disagree                                      0.064385   \n",
       "More restaurant choices_Disagree                                  0.059832   \n",
       "Occupation_Student                                                0.072938   \n",
       "Missing item_Neutral                                              0.152888   \n",
       "Unaffordable_Agree                                                0.062337   \n",
       "Perference(P2)_ Sweets                                            0.067905   \n",
       "Unavailability_Disagree                                           0.003714   \n",
       "Maximum wait time_15 minutes                                      0.037144   \n",
       "Late Delivery_Disagree                                            0.993955   \n",
       "Delay of delivery person getting assigned_Stron...                0.031054   \n",
       "High Quality of package_Important                                 0.052223   \n",
       "Bad past experience_Strongly disagree                             0.048754   \n",
       "\n",
       "                                                    Delay of delivery person getting assigned_Strongly agree  \\\n",
       "Ease and convenient_Disagree                                                                 0.157233          \n",
       "More restaurant choices_Disagree                                                             0.062879          \n",
       "Occupation_Student                                                                           0.051460          \n",
       "Missing item_Neutral                                                                         0.093115          \n",
       "Unaffordable_Agree                                                                           0.009234          \n",
       "Perference(P2)_ Sweets                                                                       0.077793          \n",
       "Unavailability_Disagree                                                                      0.067353          \n",
       "Maximum wait time_15 minutes                                                                 0.079167          \n",
       "Late Delivery_Disagree                                                                       0.031054          \n",
       "Delay of delivery person getting assigned_Stron...                                           0.992636          \n",
       "High Quality of package_Important                                                            0.132505          \n",
       "Bad past experience_Strongly disagree                                                        0.003431          \n",
       "\n",
       "                                                    High Quality of package_Important  \\\n",
       "Ease and convenient_Disagree                                                 0.150037   \n",
       "More restaurant choices_Disagree                                             0.069187   \n",
       "Occupation_Student                                                           0.024764   \n",
       "Missing item_Neutral                                                         0.212776   \n",
       "Unaffordable_Agree                                                           0.103189   \n",
       "Perference(P2)_ Sweets                                                       0.054034   \n",
       "Unavailability_Disagree                                                      0.022356   \n",
       "Maximum wait time_15 minutes                                                 0.079818   \n",
       "Late Delivery_Disagree                                                       0.052223   \n",
       "Delay of delivery person getting assigned_Stron...                           0.132505   \n",
       "High Quality of package_Important                                            0.996515   \n",
       "Bad past experience_Strongly disagree                                        0.005554   \n",
       "\n",
       "                                                    Bad past experience_Strongly disagree  \n",
       "Ease and convenient_Disagree                                                     0.167755  \n",
       "More restaurant choices_Disagree                                                 0.123781  \n",
       "Occupation_Student                                                               0.136224  \n",
       "Missing item_Neutral                                                             0.095823  \n",
       "Unaffordable_Agree                                                               0.120290  \n",
       "Perference(P2)_ Sweets                                                           0.112265  \n",
       "Unavailability_Disagree                                                          0.051464  \n",
       "Maximum wait time_15 minutes                                                     0.059314  \n",
       "Late Delivery_Disagree                                                           0.048754  \n",
       "Delay of delivery person getting assigned_Stron...                               0.003431  \n",
       "High Quality of package_Important                                                0.005554  \n",
       "Bad past experience_Strongly disagree                                            0.985228  "
      ]
     },
     "execution_count": 110,
     "metadata": {},
     "output_type": "execute_result"
    }
   ],
   "source": [
    "relation_between_feature"
   ]
  },
  {
   "cell_type": "code",
   "execution_count": 111,
   "metadata": {
    "ExecuteTime": {
     "end_time": "2021-04-09T16:41:29.596259Z",
     "start_time": "2021-04-09T16:41:29.399366Z"
    }
   },
   "outputs": [
    {
     "data": {
      "text/plain": [
       "(388, 51)"
      ]
     },
     "execution_count": 111,
     "metadata": {},
     "output_type": "execute_result"
    }
   ],
   "source": [
    "fd_dlvry.shape"
   ]
  },
  {
   "cell_type": "code",
   "execution_count": 112,
   "metadata": {
    "ExecuteTime": {
     "end_time": "2021-04-09T16:41:29.982034Z",
     "start_time": "2021-04-09T16:41:29.601252Z"
    },
    "scrolled": false
   },
   "outputs": [
    {
     "data": {
      "text/html": [
       "<style  type=\"text/css\" >\n",
       "#T_6f5aef04_9952_11eb_b918_acd1b8c9087crow0_col1,#T_6f5aef04_9952_11eb_b918_acd1b8c9087crow0_col2,#T_6f5aef04_9952_11eb_b918_acd1b8c9087crow0_col4,#T_6f5aef04_9952_11eb_b918_acd1b8c9087crow0_col5,#T_6f5aef04_9952_11eb_b918_acd1b8c9087crow0_col7,#T_6f5aef04_9952_11eb_b918_acd1b8c9087crow1_col0,#T_6f5aef04_9952_11eb_b918_acd1b8c9087crow1_col2,#T_6f5aef04_9952_11eb_b918_acd1b8c9087crow1_col5,#T_6f5aef04_9952_11eb_b918_acd1b8c9087crow1_col7,#T_6f5aef04_9952_11eb_b918_acd1b8c9087crow2_col0,#T_6f5aef04_9952_11eb_b918_acd1b8c9087crow2_col1,#T_6f5aef04_9952_11eb_b918_acd1b8c9087crow4_col0,#T_6f5aef04_9952_11eb_b918_acd1b8c9087crow4_col6,#T_6f5aef04_9952_11eb_b918_acd1b8c9087crow5_col0,#T_6f5aef04_9952_11eb_b918_acd1b8c9087crow5_col1,#T_6f5aef04_9952_11eb_b918_acd1b8c9087crow6_col4,#T_6f5aef04_9952_11eb_b918_acd1b8c9087crow7_col0,#T_6f5aef04_9952_11eb_b918_acd1b8c9087crow7_col1,#T_6f5aef04_9952_11eb_b918_acd1b8c9087crow11_col11{\n",
       "            background:  red;\n",
       "        }</style><table id=\"T_6f5aef04_9952_11eb_b918_acd1b8c9087c\" ><thead>    <tr>        <th class=\"blank level0\" ></th>        <th class=\"col_heading level0 col0\" >Ease and convenient_Disagree</th>        <th class=\"col_heading level0 col1\" >More restaurant choices_Disagree</th>        <th class=\"col_heading level0 col2\" >Occupation_Student</th>        <th class=\"col_heading level0 col3\" >Missing item_Neutral</th>        <th class=\"col_heading level0 col4\" >Unaffordable_Agree</th>        <th class=\"col_heading level0 col5\" >Perference(P2)_ Sweets</th>        <th class=\"col_heading level0 col6\" >Unavailability_Disagree</th>        <th class=\"col_heading level0 col7\" >Maximum wait time_15 minutes</th>        <th class=\"col_heading level0 col8\" >Late Delivery_Disagree</th>        <th class=\"col_heading level0 col9\" >Delay of delivery person getting assigned_Strongly agree</th>        <th class=\"col_heading level0 col10\" >High Quality of package_Important</th>        <th class=\"col_heading level0 col11\" >Bad past experience_Strongly disagree</th>    </tr></thead><tbody>\n",
       "                <tr>\n",
       "                        <th id=\"T_6f5aef04_9952_11eb_b918_acd1b8c9087clevel0_row0\" class=\"row_heading level0 row0\" >Ease and convenient_Disagree</th>\n",
       "                        <td id=\"T_6f5aef04_9952_11eb_b918_acd1b8c9087crow0_col0\" class=\"data row0 col0\" >0.996217</td>\n",
       "                        <td id=\"T_6f5aef04_9952_11eb_b918_acd1b8c9087crow0_col1\" class=\"data row0 col1\" >0.457911</td>\n",
       "                        <td id=\"T_6f5aef04_9952_11eb_b918_acd1b8c9087crow0_col2\" class=\"data row0 col2\" >0.262644</td>\n",
       "                        <td id=\"T_6f5aef04_9952_11eb_b918_acd1b8c9087crow0_col3\" class=\"data row0 col3\" >0.026529</td>\n",
       "                        <td id=\"T_6f5aef04_9952_11eb_b918_acd1b8c9087crow0_col4\" class=\"data row0 col4\" >0.287400</td>\n",
       "                        <td id=\"T_6f5aef04_9952_11eb_b918_acd1b8c9087crow0_col5\" class=\"data row0 col5\" >0.306028</td>\n",
       "                        <td id=\"T_6f5aef04_9952_11eb_b918_acd1b8c9087crow0_col6\" class=\"data row0 col6\" >0.117532</td>\n",
       "                        <td id=\"T_6f5aef04_9952_11eb_b918_acd1b8c9087crow0_col7\" class=\"data row0 col7\" >0.401575</td>\n",
       "                        <td id=\"T_6f5aef04_9952_11eb_b918_acd1b8c9087crow0_col8\" class=\"data row0 col8\" >0.064385</td>\n",
       "                        <td id=\"T_6f5aef04_9952_11eb_b918_acd1b8c9087crow0_col9\" class=\"data row0 col9\" >0.157233</td>\n",
       "                        <td id=\"T_6f5aef04_9952_11eb_b918_acd1b8c9087crow0_col10\" class=\"data row0 col10\" >0.150037</td>\n",
       "                        <td id=\"T_6f5aef04_9952_11eb_b918_acd1b8c9087crow0_col11\" class=\"data row0 col11\" >0.167755</td>\n",
       "            </tr>\n",
       "            <tr>\n",
       "                        <th id=\"T_6f5aef04_9952_11eb_b918_acd1b8c9087clevel0_row1\" class=\"row_heading level0 row1\" >More restaurant choices_Disagree</th>\n",
       "                        <td id=\"T_6f5aef04_9952_11eb_b918_acd1b8c9087crow1_col0\" class=\"data row1 col0\" >0.457911</td>\n",
       "                        <td id=\"T_6f5aef04_9952_11eb_b918_acd1b8c9087crow1_col1\" class=\"data row1 col1\" >0.995637</td>\n",
       "                        <td id=\"T_6f5aef04_9952_11eb_b918_acd1b8c9087crow1_col2\" class=\"data row1 col2\" >0.332012</td>\n",
       "                        <td id=\"T_6f5aef04_9952_11eb_b918_acd1b8c9087crow1_col3\" class=\"data row1 col3\" >0.058896</td>\n",
       "                        <td id=\"T_6f5aef04_9952_11eb_b918_acd1b8c9087crow1_col4\" class=\"data row1 col4\" >0.091603</td>\n",
       "                        <td id=\"T_6f5aef04_9952_11eb_b918_acd1b8c9087crow1_col5\" class=\"data row1 col5\" >0.278781</td>\n",
       "                        <td id=\"T_6f5aef04_9952_11eb_b918_acd1b8c9087crow1_col6\" class=\"data row1 col6\" >0.010809</td>\n",
       "                        <td id=\"T_6f5aef04_9952_11eb_b918_acd1b8c9087crow1_col7\" class=\"data row1 col7\" >0.265637</td>\n",
       "                        <td id=\"T_6f5aef04_9952_11eb_b918_acd1b8c9087crow1_col8\" class=\"data row1 col8\" >0.059832</td>\n",
       "                        <td id=\"T_6f5aef04_9952_11eb_b918_acd1b8c9087crow1_col9\" class=\"data row1 col9\" >0.062879</td>\n",
       "                        <td id=\"T_6f5aef04_9952_11eb_b918_acd1b8c9087crow1_col10\" class=\"data row1 col10\" >0.069187</td>\n",
       "                        <td id=\"T_6f5aef04_9952_11eb_b918_acd1b8c9087crow1_col11\" class=\"data row1 col11\" >0.123781</td>\n",
       "            </tr>\n",
       "            <tr>\n",
       "                        <th id=\"T_6f5aef04_9952_11eb_b918_acd1b8c9087clevel0_row2\" class=\"row_heading level0 row2\" >Occupation_Student</th>\n",
       "                        <td id=\"T_6f5aef04_9952_11eb_b918_acd1b8c9087crow2_col0\" class=\"data row2 col0\" >0.262644</td>\n",
       "                        <td id=\"T_6f5aef04_9952_11eb_b918_acd1b8c9087crow2_col1\" class=\"data row2 col1\" >0.332012</td>\n",
       "                        <td id=\"T_6f5aef04_9952_11eb_b918_acd1b8c9087crow2_col2\" class=\"data row2 col2\" >0.996630</td>\n",
       "                        <td id=\"T_6f5aef04_9952_11eb_b918_acd1b8c9087crow2_col3\" class=\"data row2 col3\" >0.058540</td>\n",
       "                        <td id=\"T_6f5aef04_9952_11eb_b918_acd1b8c9087crow2_col4\" class=\"data row2 col4\" >0.054972</td>\n",
       "                        <td id=\"T_6f5aef04_9952_11eb_b918_acd1b8c9087crow2_col5\" class=\"data row2 col5\" >0.079206</td>\n",
       "                        <td id=\"T_6f5aef04_9952_11eb_b918_acd1b8c9087crow2_col6\" class=\"data row2 col6\" >0.074880</td>\n",
       "                        <td id=\"T_6f5aef04_9952_11eb_b918_acd1b8c9087crow2_col7\" class=\"data row2 col7\" >0.159565</td>\n",
       "                        <td id=\"T_6f5aef04_9952_11eb_b918_acd1b8c9087crow2_col8\" class=\"data row2 col8\" >0.072938</td>\n",
       "                        <td id=\"T_6f5aef04_9952_11eb_b918_acd1b8c9087crow2_col9\" class=\"data row2 col9\" >0.051460</td>\n",
       "                        <td id=\"T_6f5aef04_9952_11eb_b918_acd1b8c9087crow2_col10\" class=\"data row2 col10\" >0.024764</td>\n",
       "                        <td id=\"T_6f5aef04_9952_11eb_b918_acd1b8c9087crow2_col11\" class=\"data row2 col11\" >0.136224</td>\n",
       "            </tr>\n",
       "            <tr>\n",
       "                        <th id=\"T_6f5aef04_9952_11eb_b918_acd1b8c9087clevel0_row3\" class=\"row_heading level0 row3\" >Missing item_Neutral</th>\n",
       "                        <td id=\"T_6f5aef04_9952_11eb_b918_acd1b8c9087crow3_col0\" class=\"data row3 col0\" >0.026529</td>\n",
       "                        <td id=\"T_6f5aef04_9952_11eb_b918_acd1b8c9087crow3_col1\" class=\"data row3 col1\" >0.058896</td>\n",
       "                        <td id=\"T_6f5aef04_9952_11eb_b918_acd1b8c9087crow3_col2\" class=\"data row3 col2\" >0.058540</td>\n",
       "                        <td id=\"T_6f5aef04_9952_11eb_b918_acd1b8c9087crow3_col3\" class=\"data row3 col3\" >0.994625</td>\n",
       "                        <td id=\"T_6f5aef04_9952_11eb_b918_acd1b8c9087crow3_col4\" class=\"data row3 col4\" >0.049314</td>\n",
       "                        <td id=\"T_6f5aef04_9952_11eb_b918_acd1b8c9087crow3_col5\" class=\"data row3 col5\" >0.215496</td>\n",
       "                        <td id=\"T_6f5aef04_9952_11eb_b918_acd1b8c9087crow3_col6\" class=\"data row3 col6\" >0.128236</td>\n",
       "                        <td id=\"T_6f5aef04_9952_11eb_b918_acd1b8c9087crow3_col7\" class=\"data row3 col7\" >0.104858</td>\n",
       "                        <td id=\"T_6f5aef04_9952_11eb_b918_acd1b8c9087crow3_col8\" class=\"data row3 col8\" >0.152888</td>\n",
       "                        <td id=\"T_6f5aef04_9952_11eb_b918_acd1b8c9087crow3_col9\" class=\"data row3 col9\" >0.093115</td>\n",
       "                        <td id=\"T_6f5aef04_9952_11eb_b918_acd1b8c9087crow3_col10\" class=\"data row3 col10\" >0.212776</td>\n",
       "                        <td id=\"T_6f5aef04_9952_11eb_b918_acd1b8c9087crow3_col11\" class=\"data row3 col11\" >0.095823</td>\n",
       "            </tr>\n",
       "            <tr>\n",
       "                        <th id=\"T_6f5aef04_9952_11eb_b918_acd1b8c9087clevel0_row4\" class=\"row_heading level0 row4\" >Unaffordable_Agree</th>\n",
       "                        <td id=\"T_6f5aef04_9952_11eb_b918_acd1b8c9087crow4_col0\" class=\"data row4 col0\" >0.287400</td>\n",
       "                        <td id=\"T_6f5aef04_9952_11eb_b918_acd1b8c9087crow4_col1\" class=\"data row4 col1\" >0.091603</td>\n",
       "                        <td id=\"T_6f5aef04_9952_11eb_b918_acd1b8c9087crow4_col2\" class=\"data row4 col2\" >0.054972</td>\n",
       "                        <td id=\"T_6f5aef04_9952_11eb_b918_acd1b8c9087crow4_col3\" class=\"data row4 col3\" >0.049314</td>\n",
       "                        <td id=\"T_6f5aef04_9952_11eb_b918_acd1b8c9087crow4_col4\" class=\"data row4 col4\" >0.995541</td>\n",
       "                        <td id=\"T_6f5aef04_9952_11eb_b918_acd1b8c9087crow4_col5\" class=\"data row4 col5\" >0.004618</td>\n",
       "                        <td id=\"T_6f5aef04_9952_11eb_b918_acd1b8c9087crow4_col6\" class=\"data row4 col6\" >0.294204</td>\n",
       "                        <td id=\"T_6f5aef04_9952_11eb_b918_acd1b8c9087crow4_col7\" class=\"data row4 col7\" >0.056154</td>\n",
       "                        <td id=\"T_6f5aef04_9952_11eb_b918_acd1b8c9087crow4_col8\" class=\"data row4 col8\" >0.062337</td>\n",
       "                        <td id=\"T_6f5aef04_9952_11eb_b918_acd1b8c9087crow4_col9\" class=\"data row4 col9\" >0.009234</td>\n",
       "                        <td id=\"T_6f5aef04_9952_11eb_b918_acd1b8c9087crow4_col10\" class=\"data row4 col10\" >0.103189</td>\n",
       "                        <td id=\"T_6f5aef04_9952_11eb_b918_acd1b8c9087crow4_col11\" class=\"data row4 col11\" >0.120290</td>\n",
       "            </tr>\n",
       "            <tr>\n",
       "                        <th id=\"T_6f5aef04_9952_11eb_b918_acd1b8c9087clevel0_row5\" class=\"row_heading level0 row5\" >Perference(P2)_ Sweets</th>\n",
       "                        <td id=\"T_6f5aef04_9952_11eb_b918_acd1b8c9087crow5_col0\" class=\"data row5 col0\" >0.306028</td>\n",
       "                        <td id=\"T_6f5aef04_9952_11eb_b918_acd1b8c9087crow5_col1\" class=\"data row5 col1\" >0.278781</td>\n",
       "                        <td id=\"T_6f5aef04_9952_11eb_b918_acd1b8c9087crow5_col2\" class=\"data row5 col2\" >0.079206</td>\n",
       "                        <td id=\"T_6f5aef04_9952_11eb_b918_acd1b8c9087crow5_col3\" class=\"data row5 col3\" >0.215496</td>\n",
       "                        <td id=\"T_6f5aef04_9952_11eb_b918_acd1b8c9087crow5_col4\" class=\"data row5 col4\" >0.004618</td>\n",
       "                        <td id=\"T_6f5aef04_9952_11eb_b918_acd1b8c9087crow5_col5\" class=\"data row5 col5\" >0.994553</td>\n",
       "                        <td id=\"T_6f5aef04_9952_11eb_b918_acd1b8c9087crow5_col6\" class=\"data row5 col6\" >0.216388</td>\n",
       "                        <td id=\"T_6f5aef04_9952_11eb_b918_acd1b8c9087crow5_col7\" class=\"data row5 col7\" >0.055389</td>\n",
       "                        <td id=\"T_6f5aef04_9952_11eb_b918_acd1b8c9087crow5_col8\" class=\"data row5 col8\" >0.067905</td>\n",
       "                        <td id=\"T_6f5aef04_9952_11eb_b918_acd1b8c9087crow5_col9\" class=\"data row5 col9\" >0.077793</td>\n",
       "                        <td id=\"T_6f5aef04_9952_11eb_b918_acd1b8c9087crow5_col10\" class=\"data row5 col10\" >0.054034</td>\n",
       "                        <td id=\"T_6f5aef04_9952_11eb_b918_acd1b8c9087crow5_col11\" class=\"data row5 col11\" >0.112265</td>\n",
       "            </tr>\n",
       "            <tr>\n",
       "                        <th id=\"T_6f5aef04_9952_11eb_b918_acd1b8c9087clevel0_row6\" class=\"row_heading level0 row6\" >Unavailability_Disagree</th>\n",
       "                        <td id=\"T_6f5aef04_9952_11eb_b918_acd1b8c9087crow6_col0\" class=\"data row6 col0\" >0.117532</td>\n",
       "                        <td id=\"T_6f5aef04_9952_11eb_b918_acd1b8c9087crow6_col1\" class=\"data row6 col1\" >0.010809</td>\n",
       "                        <td id=\"T_6f5aef04_9952_11eb_b918_acd1b8c9087crow6_col2\" class=\"data row6 col2\" >0.074880</td>\n",
       "                        <td id=\"T_6f5aef04_9952_11eb_b918_acd1b8c9087crow6_col3\" class=\"data row6 col3\" >0.128236</td>\n",
       "                        <td id=\"T_6f5aef04_9952_11eb_b918_acd1b8c9087crow6_col4\" class=\"data row6 col4\" >0.294204</td>\n",
       "                        <td id=\"T_6f5aef04_9952_11eb_b918_acd1b8c9087crow6_col5\" class=\"data row6 col5\" >0.216388</td>\n",
       "                        <td id=\"T_6f5aef04_9952_11eb_b918_acd1b8c9087crow6_col6\" class=\"data row6 col6\" >0.996256</td>\n",
       "                        <td id=\"T_6f5aef04_9952_11eb_b918_acd1b8c9087crow6_col7\" class=\"data row6 col7\" >0.122654</td>\n",
       "                        <td id=\"T_6f5aef04_9952_11eb_b918_acd1b8c9087crow6_col8\" class=\"data row6 col8\" >0.003714</td>\n",
       "                        <td id=\"T_6f5aef04_9952_11eb_b918_acd1b8c9087crow6_col9\" class=\"data row6 col9\" >0.067353</td>\n",
       "                        <td id=\"T_6f5aef04_9952_11eb_b918_acd1b8c9087crow6_col10\" class=\"data row6 col10\" >0.022356</td>\n",
       "                        <td id=\"T_6f5aef04_9952_11eb_b918_acd1b8c9087crow6_col11\" class=\"data row6 col11\" >0.051464</td>\n",
       "            </tr>\n",
       "            <tr>\n",
       "                        <th id=\"T_6f5aef04_9952_11eb_b918_acd1b8c9087clevel0_row7\" class=\"row_heading level0 row7\" >Maximum wait time_15 minutes</th>\n",
       "                        <td id=\"T_6f5aef04_9952_11eb_b918_acd1b8c9087crow7_col0\" class=\"data row7 col0\" >0.401575</td>\n",
       "                        <td id=\"T_6f5aef04_9952_11eb_b918_acd1b8c9087crow7_col1\" class=\"data row7 col1\" >0.265637</td>\n",
       "                        <td id=\"T_6f5aef04_9952_11eb_b918_acd1b8c9087crow7_col2\" class=\"data row7 col2\" >0.159565</td>\n",
       "                        <td id=\"T_6f5aef04_9952_11eb_b918_acd1b8c9087crow7_col3\" class=\"data row7 col3\" >0.104858</td>\n",
       "                        <td id=\"T_6f5aef04_9952_11eb_b918_acd1b8c9087crow7_col4\" class=\"data row7 col4\" >0.056154</td>\n",
       "                        <td id=\"T_6f5aef04_9952_11eb_b918_acd1b8c9087crow7_col5\" class=\"data row7 col5\" >0.055389</td>\n",
       "                        <td id=\"T_6f5aef04_9952_11eb_b918_acd1b8c9087crow7_col6\" class=\"data row7 col6\" >0.122654</td>\n",
       "                        <td id=\"T_6f5aef04_9952_11eb_b918_acd1b8c9087crow7_col7\" class=\"data row7 col7\" >0.994589</td>\n",
       "                        <td id=\"T_6f5aef04_9952_11eb_b918_acd1b8c9087crow7_col8\" class=\"data row7 col8\" >0.037144</td>\n",
       "                        <td id=\"T_6f5aef04_9952_11eb_b918_acd1b8c9087crow7_col9\" class=\"data row7 col9\" >0.079167</td>\n",
       "                        <td id=\"T_6f5aef04_9952_11eb_b918_acd1b8c9087crow7_col10\" class=\"data row7 col10\" >0.079818</td>\n",
       "                        <td id=\"T_6f5aef04_9952_11eb_b918_acd1b8c9087crow7_col11\" class=\"data row7 col11\" >0.059314</td>\n",
       "            </tr>\n",
       "            <tr>\n",
       "                        <th id=\"T_6f5aef04_9952_11eb_b918_acd1b8c9087clevel0_row8\" class=\"row_heading level0 row8\" >Late Delivery_Disagree</th>\n",
       "                        <td id=\"T_6f5aef04_9952_11eb_b918_acd1b8c9087crow8_col0\" class=\"data row8 col0\" >0.064385</td>\n",
       "                        <td id=\"T_6f5aef04_9952_11eb_b918_acd1b8c9087crow8_col1\" class=\"data row8 col1\" >0.059832</td>\n",
       "                        <td id=\"T_6f5aef04_9952_11eb_b918_acd1b8c9087crow8_col2\" class=\"data row8 col2\" >0.072938</td>\n",
       "                        <td id=\"T_6f5aef04_9952_11eb_b918_acd1b8c9087crow8_col3\" class=\"data row8 col3\" >0.152888</td>\n",
       "                        <td id=\"T_6f5aef04_9952_11eb_b918_acd1b8c9087crow8_col4\" class=\"data row8 col4\" >0.062337</td>\n",
       "                        <td id=\"T_6f5aef04_9952_11eb_b918_acd1b8c9087crow8_col5\" class=\"data row8 col5\" >0.067905</td>\n",
       "                        <td id=\"T_6f5aef04_9952_11eb_b918_acd1b8c9087crow8_col6\" class=\"data row8 col6\" >0.003714</td>\n",
       "                        <td id=\"T_6f5aef04_9952_11eb_b918_acd1b8c9087crow8_col7\" class=\"data row8 col7\" >0.037144</td>\n",
       "                        <td id=\"T_6f5aef04_9952_11eb_b918_acd1b8c9087crow8_col8\" class=\"data row8 col8\" >0.993955</td>\n",
       "                        <td id=\"T_6f5aef04_9952_11eb_b918_acd1b8c9087crow8_col9\" class=\"data row8 col9\" >0.031054</td>\n",
       "                        <td id=\"T_6f5aef04_9952_11eb_b918_acd1b8c9087crow8_col10\" class=\"data row8 col10\" >0.052223</td>\n",
       "                        <td id=\"T_6f5aef04_9952_11eb_b918_acd1b8c9087crow8_col11\" class=\"data row8 col11\" >0.048754</td>\n",
       "            </tr>\n",
       "            <tr>\n",
       "                        <th id=\"T_6f5aef04_9952_11eb_b918_acd1b8c9087clevel0_row9\" class=\"row_heading level0 row9\" >Delay of delivery person getting assigned_Strongly agree</th>\n",
       "                        <td id=\"T_6f5aef04_9952_11eb_b918_acd1b8c9087crow9_col0\" class=\"data row9 col0\" >0.157233</td>\n",
       "                        <td id=\"T_6f5aef04_9952_11eb_b918_acd1b8c9087crow9_col1\" class=\"data row9 col1\" >0.062879</td>\n",
       "                        <td id=\"T_6f5aef04_9952_11eb_b918_acd1b8c9087crow9_col2\" class=\"data row9 col2\" >0.051460</td>\n",
       "                        <td id=\"T_6f5aef04_9952_11eb_b918_acd1b8c9087crow9_col3\" class=\"data row9 col3\" >0.093115</td>\n",
       "                        <td id=\"T_6f5aef04_9952_11eb_b918_acd1b8c9087crow9_col4\" class=\"data row9 col4\" >0.009234</td>\n",
       "                        <td id=\"T_6f5aef04_9952_11eb_b918_acd1b8c9087crow9_col5\" class=\"data row9 col5\" >0.077793</td>\n",
       "                        <td id=\"T_6f5aef04_9952_11eb_b918_acd1b8c9087crow9_col6\" class=\"data row9 col6\" >0.067353</td>\n",
       "                        <td id=\"T_6f5aef04_9952_11eb_b918_acd1b8c9087crow9_col7\" class=\"data row9 col7\" >0.079167</td>\n",
       "                        <td id=\"T_6f5aef04_9952_11eb_b918_acd1b8c9087crow9_col8\" class=\"data row9 col8\" >0.031054</td>\n",
       "                        <td id=\"T_6f5aef04_9952_11eb_b918_acd1b8c9087crow9_col9\" class=\"data row9 col9\" >0.992636</td>\n",
       "                        <td id=\"T_6f5aef04_9952_11eb_b918_acd1b8c9087crow9_col10\" class=\"data row9 col10\" >0.132505</td>\n",
       "                        <td id=\"T_6f5aef04_9952_11eb_b918_acd1b8c9087crow9_col11\" class=\"data row9 col11\" >0.003431</td>\n",
       "            </tr>\n",
       "            <tr>\n",
       "                        <th id=\"T_6f5aef04_9952_11eb_b918_acd1b8c9087clevel0_row10\" class=\"row_heading level0 row10\" >High Quality of package_Important</th>\n",
       "                        <td id=\"T_6f5aef04_9952_11eb_b918_acd1b8c9087crow10_col0\" class=\"data row10 col0\" >0.150037</td>\n",
       "                        <td id=\"T_6f5aef04_9952_11eb_b918_acd1b8c9087crow10_col1\" class=\"data row10 col1\" >0.069187</td>\n",
       "                        <td id=\"T_6f5aef04_9952_11eb_b918_acd1b8c9087crow10_col2\" class=\"data row10 col2\" >0.024764</td>\n",
       "                        <td id=\"T_6f5aef04_9952_11eb_b918_acd1b8c9087crow10_col3\" class=\"data row10 col3\" >0.212776</td>\n",
       "                        <td id=\"T_6f5aef04_9952_11eb_b918_acd1b8c9087crow10_col4\" class=\"data row10 col4\" >0.103189</td>\n",
       "                        <td id=\"T_6f5aef04_9952_11eb_b918_acd1b8c9087crow10_col5\" class=\"data row10 col5\" >0.054034</td>\n",
       "                        <td id=\"T_6f5aef04_9952_11eb_b918_acd1b8c9087crow10_col6\" class=\"data row10 col6\" >0.022356</td>\n",
       "                        <td id=\"T_6f5aef04_9952_11eb_b918_acd1b8c9087crow10_col7\" class=\"data row10 col7\" >0.079818</td>\n",
       "                        <td id=\"T_6f5aef04_9952_11eb_b918_acd1b8c9087crow10_col8\" class=\"data row10 col8\" >0.052223</td>\n",
       "                        <td id=\"T_6f5aef04_9952_11eb_b918_acd1b8c9087crow10_col9\" class=\"data row10 col9\" >0.132505</td>\n",
       "                        <td id=\"T_6f5aef04_9952_11eb_b918_acd1b8c9087crow10_col10\" class=\"data row10 col10\" >0.996515</td>\n",
       "                        <td id=\"T_6f5aef04_9952_11eb_b918_acd1b8c9087crow10_col11\" class=\"data row10 col11\" >0.005554</td>\n",
       "            </tr>\n",
       "            <tr>\n",
       "                        <th id=\"T_6f5aef04_9952_11eb_b918_acd1b8c9087clevel0_row11\" class=\"row_heading level0 row11\" >Bad past experience_Strongly disagree</th>\n",
       "                        <td id=\"T_6f5aef04_9952_11eb_b918_acd1b8c9087crow11_col0\" class=\"data row11 col0\" >0.167755</td>\n",
       "                        <td id=\"T_6f5aef04_9952_11eb_b918_acd1b8c9087crow11_col1\" class=\"data row11 col1\" >0.123781</td>\n",
       "                        <td id=\"T_6f5aef04_9952_11eb_b918_acd1b8c9087crow11_col2\" class=\"data row11 col2\" >0.136224</td>\n",
       "                        <td id=\"T_6f5aef04_9952_11eb_b918_acd1b8c9087crow11_col3\" class=\"data row11 col3\" >0.095823</td>\n",
       "                        <td id=\"T_6f5aef04_9952_11eb_b918_acd1b8c9087crow11_col4\" class=\"data row11 col4\" >0.120290</td>\n",
       "                        <td id=\"T_6f5aef04_9952_11eb_b918_acd1b8c9087crow11_col5\" class=\"data row11 col5\" >0.112265</td>\n",
       "                        <td id=\"T_6f5aef04_9952_11eb_b918_acd1b8c9087crow11_col6\" class=\"data row11 col6\" >0.051464</td>\n",
       "                        <td id=\"T_6f5aef04_9952_11eb_b918_acd1b8c9087crow11_col7\" class=\"data row11 col7\" >0.059314</td>\n",
       "                        <td id=\"T_6f5aef04_9952_11eb_b918_acd1b8c9087crow11_col8\" class=\"data row11 col8\" >0.048754</td>\n",
       "                        <td id=\"T_6f5aef04_9952_11eb_b918_acd1b8c9087crow11_col9\" class=\"data row11 col9\" >0.003431</td>\n",
       "                        <td id=\"T_6f5aef04_9952_11eb_b918_acd1b8c9087crow11_col10\" class=\"data row11 col10\" >0.005554</td>\n",
       "                        <td id=\"T_6f5aef04_9952_11eb_b918_acd1b8c9087crow11_col11\" class=\"data row11 col11\" >0.985228</td>\n",
       "            </tr>\n",
       "    </tbody></table>"
      ],
      "text/plain": [
       "<pandas.io.formats.style.Styler at 0x21c442147c0>"
      ]
     },
     "execution_count": 112,
     "metadata": {},
     "output_type": "execute_result"
    }
   ],
   "source": [
    "relation_between_feature.style.apply(lambda x: [\"background: red\" if v>0.25 and v<0.99 else \"\" for v in x], axis = 1)"
   ]
  },
  {
   "cell_type": "code",
   "execution_count": 113,
   "metadata": {
    "ExecuteTime": {
     "end_time": "2021-04-09T16:41:29.992027Z",
     "start_time": "2021-04-09T16:41:29.986031Z"
    }
   },
   "outputs": [],
   "source": [
    "multicolinear_feature=[\"Perference(P2)_ Sweets\",\"Maximum wait time_15 minutes\",\"More restaurant choices_Disagree\"]"
   ]
  },
  {
   "cell_type": "code",
   "execution_count": 114,
   "metadata": {
    "ExecuteTime": {
     "end_time": "2021-04-09T16:41:30.315843Z",
     "start_time": "2021-04-09T16:41:29.997024Z"
    }
   },
   "outputs": [],
   "source": [
    "final_feature=list(relation_between_feature.columns)"
   ]
  },
  {
   "cell_type": "code",
   "execution_count": 115,
   "metadata": {
    "ExecuteTime": {
     "end_time": "2021-04-09T16:41:30.460760Z",
     "start_time": "2021-04-09T16:41:30.318841Z"
    }
   },
   "outputs": [
    {
     "data": {
      "text/plain": [
       "['Ease and convenient_Disagree',\n",
       " 'More restaurant choices_Disagree',\n",
       " 'Occupation_Student',\n",
       " 'Missing item_Neutral',\n",
       " 'Unaffordable_Agree',\n",
       " 'Perference(P2)_ Sweets',\n",
       " 'Unavailability_Disagree',\n",
       " 'Maximum wait time_15 minutes',\n",
       " 'Late Delivery_Disagree',\n",
       " 'Delay of delivery person getting assigned_Strongly agree',\n",
       " 'High Quality of package_Important',\n",
       " 'Bad past experience_Strongly disagree']"
      ]
     },
     "execution_count": 115,
     "metadata": {},
     "output_type": "execute_result"
    }
   ],
   "source": [
    "final_feature"
   ]
  },
  {
   "cell_type": "code",
   "execution_count": 116,
   "metadata": {
    "ExecuteTime": {
     "end_time": "2021-04-09T16:41:30.601679Z",
     "start_time": "2021-04-09T16:41:30.465757Z"
    }
   },
   "outputs": [],
   "source": [
    "set1 = set(final_feature)\n",
    "set2 = set(multicolinear_feature)\n",
    "final_feature = list(set1 - set2)"
   ]
  },
  {
   "cell_type": "code",
   "execution_count": 117,
   "metadata": {
    "ExecuteTime": {
     "end_time": "2021-04-09T16:41:30.695630Z",
     "start_time": "2021-04-09T16:41:30.606676Z"
    }
   },
   "outputs": [
    {
     "data": {
      "text/plain": [
       "['High Quality of package_Important',\n",
       " 'Unaffordable_Agree',\n",
       " 'Occupation_Student',\n",
       " 'Bad past experience_Strongly disagree',\n",
       " 'Late Delivery_Disagree',\n",
       " 'Missing item_Neutral',\n",
       " 'Ease and convenient_Disagree',\n",
       " 'Delay of delivery person getting assigned_Strongly agree',\n",
       " 'Unavailability_Disagree']"
      ]
     },
     "execution_count": 117,
     "metadata": {},
     "output_type": "execute_result"
    }
   ],
   "source": [
    "final_feature"
   ]
  },
  {
   "cell_type": "code",
   "execution_count": 118,
   "metadata": {
    "ExecuteTime": {
     "end_time": "2021-04-09T16:41:31.921151Z",
     "start_time": "2021-04-09T16:41:30.699625Z"
    }
   },
   "outputs": [
    {
     "data": {
      "text/plain": [
       "'fgini.png'"
      ]
     },
     "execution_count": 118,
     "metadata": {},
     "output_type": "execute_result"
    }
   ],
   "source": [
    "\n",
    "import graphviz\n",
    "import sklearn.tree as tree\n",
    "# DOT data\n",
    "dot_data = tree.export_graphviz(clf, out_file=None, \n",
    "                                feature_names=X.columns,  \n",
    "                                class_names='01',\n",
    "                                filled=True)\n",
    "\n",
    "# # Draw graph\n",
    "graph = graphviz.Source(dot_data,format=\"png\") \n",
    "graph.render('fgini')\n",
    "# graph"
   ]
  },
  {
   "cell_type": "markdown",
   "metadata": {},
   "source": [
    "# Decesion Tree model"
   ]
  },
  {
   "cell_type": "code",
   "execution_count": 119,
   "metadata": {
    "ExecuteTime": {
     "end_time": "2021-04-09T16:41:31.990114Z",
     "start_time": "2021-04-09T16:41:31.926149Z"
    }
   },
   "outputs": [],
   "source": [
    "fd_dlvry=pd.read_csv('../../data/Banglore_food_delivery/onlinedeliverydata.csv')\n",
    "\n",
    "fd_dlvry.drop(['Pin code','longitude','latitude','Reviews'],axis=1,inplace=True)\n",
    "\n",
    "fd_dlvry['Output']=fd_dlvry['Output'].replace({'Yes':1,'No':0})"
   ]
  },
  {
   "cell_type": "code",
   "execution_count": 120,
   "metadata": {
    "ExecuteTime": {
     "end_time": "2021-04-09T16:41:32.129031Z",
     "start_time": "2021-04-09T16:41:31.994107Z"
    }
   },
   "outputs": [
    {
     "data": {
      "text/html": [
       "<div>\n",
       "<style scoped>\n",
       "    .dataframe tbody tr th:only-of-type {\n",
       "        vertical-align: middle;\n",
       "    }\n",
       "\n",
       "    .dataframe tbody tr th {\n",
       "        vertical-align: top;\n",
       "    }\n",
       "\n",
       "    .dataframe thead th {\n",
       "        text-align: right;\n",
       "    }\n",
       "</style>\n",
       "<table border=\"1\" class=\"dataframe\">\n",
       "  <thead>\n",
       "    <tr style=\"text-align: right;\">\n",
       "      <th></th>\n",
       "      <th>Age</th>\n",
       "      <th>Gender</th>\n",
       "      <th>Marital Status</th>\n",
       "      <th>Occupation</th>\n",
       "      <th>Monthly Income</th>\n",
       "      <th>Educational Qualifications</th>\n",
       "      <th>Family size</th>\n",
       "      <th>Medium (P1)</th>\n",
       "      <th>Medium (P2)</th>\n",
       "      <th>Meal(P1)</th>\n",
       "      <th>...</th>\n",
       "      <th>Influence of rating</th>\n",
       "      <th>Less Delivery time</th>\n",
       "      <th>High Quality of package</th>\n",
       "      <th>Number of calls</th>\n",
       "      <th>Politeness</th>\n",
       "      <th>Freshness</th>\n",
       "      <th>Temperature</th>\n",
       "      <th>Good Taste</th>\n",
       "      <th>Good Quantity</th>\n",
       "      <th>Output</th>\n",
       "    </tr>\n",
       "  </thead>\n",
       "  <tbody>\n",
       "    <tr>\n",
       "      <th>0</th>\n",
       "      <td>20</td>\n",
       "      <td>Female</td>\n",
       "      <td>Single</td>\n",
       "      <td>Student</td>\n",
       "      <td>No Income</td>\n",
       "      <td>Post Graduate</td>\n",
       "      <td>4</td>\n",
       "      <td>Food delivery apps</td>\n",
       "      <td>Web browser</td>\n",
       "      <td>Breakfast</td>\n",
       "      <td>...</td>\n",
       "      <td>Yes</td>\n",
       "      <td>Moderately Important</td>\n",
       "      <td>Moderately Important</td>\n",
       "      <td>Moderately Important</td>\n",
       "      <td>Moderately Important</td>\n",
       "      <td>Moderately Important</td>\n",
       "      <td>Moderately Important</td>\n",
       "      <td>Moderately Important</td>\n",
       "      <td>Moderately Important</td>\n",
       "      <td>1</td>\n",
       "    </tr>\n",
       "    <tr>\n",
       "      <th>1</th>\n",
       "      <td>24</td>\n",
       "      <td>Female</td>\n",
       "      <td>Single</td>\n",
       "      <td>Student</td>\n",
       "      <td>Below Rs.10000</td>\n",
       "      <td>Graduate</td>\n",
       "      <td>3</td>\n",
       "      <td>Food delivery apps</td>\n",
       "      <td>Web browser</td>\n",
       "      <td>Snacks</td>\n",
       "      <td>...</td>\n",
       "      <td>Yes</td>\n",
       "      <td>Very Important</td>\n",
       "      <td>Very Important</td>\n",
       "      <td>Very Important</td>\n",
       "      <td>Very Important</td>\n",
       "      <td>Very Important</td>\n",
       "      <td>Very Important</td>\n",
       "      <td>Very Important</td>\n",
       "      <td>Very Important</td>\n",
       "      <td>1</td>\n",
       "    </tr>\n",
       "    <tr>\n",
       "      <th>2</th>\n",
       "      <td>22</td>\n",
       "      <td>Male</td>\n",
       "      <td>Single</td>\n",
       "      <td>Student</td>\n",
       "      <td>Below Rs.10000</td>\n",
       "      <td>Post Graduate</td>\n",
       "      <td>3</td>\n",
       "      <td>Food delivery apps</td>\n",
       "      <td>Direct call</td>\n",
       "      <td>Lunch</td>\n",
       "      <td>...</td>\n",
       "      <td>Yes</td>\n",
       "      <td>Important</td>\n",
       "      <td>Very Important</td>\n",
       "      <td>Moderately Important</td>\n",
       "      <td>Very Important</td>\n",
       "      <td>Very Important</td>\n",
       "      <td>Important</td>\n",
       "      <td>Very Important</td>\n",
       "      <td>Moderately Important</td>\n",
       "      <td>1</td>\n",
       "    </tr>\n",
       "    <tr>\n",
       "      <th>3</th>\n",
       "      <td>22</td>\n",
       "      <td>Female</td>\n",
       "      <td>Single</td>\n",
       "      <td>Student</td>\n",
       "      <td>No Income</td>\n",
       "      <td>Graduate</td>\n",
       "      <td>6</td>\n",
       "      <td>Food delivery apps</td>\n",
       "      <td>Walk-in</td>\n",
       "      <td>Snacks</td>\n",
       "      <td>...</td>\n",
       "      <td>Yes</td>\n",
       "      <td>Very Important</td>\n",
       "      <td>Important</td>\n",
       "      <td>Moderately Important</td>\n",
       "      <td>Very Important</td>\n",
       "      <td>Very Important</td>\n",
       "      <td>Very Important</td>\n",
       "      <td>Very Important</td>\n",
       "      <td>Important</td>\n",
       "      <td>1</td>\n",
       "    </tr>\n",
       "    <tr>\n",
       "      <th>4</th>\n",
       "      <td>22</td>\n",
       "      <td>Male</td>\n",
       "      <td>Single</td>\n",
       "      <td>Student</td>\n",
       "      <td>Below Rs.10000</td>\n",
       "      <td>Post Graduate</td>\n",
       "      <td>4</td>\n",
       "      <td>Walk-in</td>\n",
       "      <td>Direct call</td>\n",
       "      <td>Lunch</td>\n",
       "      <td>...</td>\n",
       "      <td>Yes</td>\n",
       "      <td>Important</td>\n",
       "      <td>Important</td>\n",
       "      <td>Moderately Important</td>\n",
       "      <td>Important</td>\n",
       "      <td>Important</td>\n",
       "      <td>Important</td>\n",
       "      <td>Very Important</td>\n",
       "      <td>Very Important</td>\n",
       "      <td>1</td>\n",
       "    </tr>\n",
       "  </tbody>\n",
       "</table>\n",
       "<p>5 rows × 51 columns</p>\n",
       "</div>"
      ],
      "text/plain": [
       "   Age  Gender Marital Status Occupation  Monthly Income  \\\n",
       "0   20  Female         Single    Student       No Income   \n",
       "1   24  Female         Single    Student  Below Rs.10000   \n",
       "2   22    Male         Single    Student  Below Rs.10000   \n",
       "3   22  Female         Single    Student       No Income   \n",
       "4   22    Male         Single    Student  Below Rs.10000   \n",
       "\n",
       "  Educational Qualifications  Family size         Medium (P1)   Medium (P2)  \\\n",
       "0              Post Graduate            4  Food delivery apps   Web browser   \n",
       "1                   Graduate            3  Food delivery apps   Web browser   \n",
       "2              Post Graduate            3  Food delivery apps   Direct call   \n",
       "3                   Graduate            6  Food delivery apps       Walk-in   \n",
       "4              Post Graduate            4             Walk-in   Direct call   \n",
       "\n",
       "    Meal(P1)  ... Influence of rating    Less Delivery time  \\\n",
       "0  Breakfast  ...                 Yes  Moderately Important   \n",
       "1     Snacks  ...                 Yes        Very Important   \n",
       "2      Lunch  ...                 Yes             Important   \n",
       "3     Snacks  ...                 Yes        Very Important   \n",
       "4      Lunch  ...                 Yes             Important   \n",
       "\n",
       "  High Quality of package       Number of calls            Politeness  \\\n",
       "0    Moderately Important  Moderately Important  Moderately Important   \n",
       "1          Very Important        Very Important        Very Important   \n",
       "2          Very Important  Moderately Important        Very Important   \n",
       "3               Important  Moderately Important        Very Important   \n",
       "4               Important  Moderately Important             Important   \n",
       "\n",
       "             Freshness            Temperature           Good Taste   \\\n",
       "0  Moderately Important  Moderately Important  Moderately Important   \n",
       "1        Very Important        Very Important        Very Important   \n",
       "2        Very Important             Important        Very Important   \n",
       "3        Very Important        Very Important        Very Important   \n",
       "4             Important             Important        Very Important   \n",
       "\n",
       "          Good Quantity Output  \n",
       "0  Moderately Important      1  \n",
       "1        Very Important      1  \n",
       "2  Moderately Important      1  \n",
       "3             Important      1  \n",
       "4        Very Important      1  \n",
       "\n",
       "[5 rows x 51 columns]"
      ]
     },
     "execution_count": 120,
     "metadata": {},
     "output_type": "execute_result"
    }
   ],
   "source": [
    "fd_dlvry.head()"
   ]
  },
  {
   "cell_type": "code",
   "execution_count": 121,
   "metadata": {
    "ExecuteTime": {
     "end_time": "2021-04-09T16:41:32.456843Z",
     "start_time": "2021-04-09T16:41:32.133028Z"
    }
   },
   "outputs": [
    {
     "data": {
      "text/plain": [
       "(388, 223)"
      ]
     },
     "execution_count": 121,
     "metadata": {},
     "output_type": "execute_result"
    }
   ],
   "source": [
    "fd_ori=fd_dlvry.copy(deep=True)\n",
    "df=pd.get_dummies(fd_dlvry)\n",
    "df.shape"
   ]
  },
  {
   "cell_type": "code",
   "execution_count": 122,
   "metadata": {
    "ExecuteTime": {
     "end_time": "2021-04-09T16:41:32.466837Z",
     "start_time": "2021-04-09T16:41:32.460841Z"
    }
   },
   "outputs": [],
   "source": [
    "final_feature=['Unaffordable_Agree',\n",
    " 'Delay of delivery person getting assigned_Strongly agree',\n",
    " 'Long delivery time_Agree',\n",
    " 'Wrong order delivered_Strongly disagree',\n",
    " 'Missing item_Neutral',\n",
    " 'Unavailability_Disagree',\n",
    " 'Occupation_Student',\n",
    " 'Ease and convenient_Disagree',\n",
    " 'Late Delivery_Disagree']"
   ]
  },
  {
   "cell_type": "code",
   "execution_count": 123,
   "metadata": {
    "ExecuteTime": {
     "end_time": "2021-04-09T16:41:32.581773Z",
     "start_time": "2021-04-09T16:41:32.470834Z"
    }
   },
   "outputs": [
    {
     "data": {
      "text/plain": [
       "['Unaffordable_Agree',\n",
       " 'Delay of delivery person getting assigned_Strongly agree',\n",
       " 'Long delivery time_Agree',\n",
       " 'Wrong order delivered_Strongly disagree',\n",
       " 'Missing item_Neutral',\n",
       " 'Unavailability_Disagree',\n",
       " 'Occupation_Student',\n",
       " 'Ease and convenient_Disagree',\n",
       " 'Late Delivery_Disagree']"
      ]
     },
     "execution_count": 123,
     "metadata": {},
     "output_type": "execute_result"
    }
   ],
   "source": [
    "final_feature"
   ]
  },
  {
   "cell_type": "code",
   "execution_count": 124,
   "metadata": {
    "ExecuteTime": {
     "end_time": "2021-04-09T16:41:32.679716Z",
     "start_time": "2021-04-09T16:41:32.587768Z"
    }
   },
   "outputs": [],
   "source": [
    "X=df[final_feature]\n",
    "y=df['Output']\n",
    "nm=RandomOverSampler()\n",
    "X,y=nm.fit_resample(X,y)\n"
   ]
  },
  {
   "cell_type": "code",
   "execution_count": 125,
   "metadata": {
    "ExecuteTime": {
     "end_time": "2021-04-09T16:41:32.895596Z",
     "start_time": "2021-04-09T16:41:32.683715Z"
    }
   },
   "outputs": [
    {
     "data": {
      "text/plain": [
       "DecisionTreeClassifier(max_depth=6, min_samples_leaf=2, min_samples_split=4,\n",
       "                       random_state=0)"
      ]
     },
     "execution_count": 125,
     "metadata": {},
     "output_type": "execute_result"
    }
   ],
   "source": [
    "X_train, X_test, y_train, y_test = train_test_split(X, y, test_size = 0.33)\n",
    "clf=DecisionTreeClassifier(random_state=0,max_depth=6,min_samples_leaf=2,min_samples_split=4)\n",
    "clf.fit(X,y)"
   ]
  },
  {
   "cell_type": "code",
   "execution_count": 126,
   "metadata": {
    "ExecuteTime": {
     "end_time": "2021-04-09T16:41:33.038513Z",
     "start_time": "2021-04-09T16:41:32.899593Z"
    }
   },
   "outputs": [
    {
     "data": {
      "text/plain": [
       "0.8944723618090452"
      ]
     },
     "execution_count": 126,
     "metadata": {},
     "output_type": "execute_result"
    }
   ],
   "source": [
    "clf.score(X_test,y_test)"
   ]
  },
  {
   "cell_type": "code",
   "execution_count": 127,
   "metadata": {
    "ExecuteTime": {
     "end_time": "2021-04-09T16:41:33.249390Z",
     "start_time": "2021-04-09T16:41:33.042509Z"
    }
   },
   "outputs": [
    {
     "data": {
      "text/plain": [
       "array([1, 1, 1, 1, 1, 0, 1, 0, 0, 1, 0, 0, 1, 1, 1, 1, 1, 1, 1, 0, 1, 1,\n",
       "       1, 0, 0, 1, 1, 1, 1, 0, 1, 0, 0, 0, 0, 1, 0, 1, 1, 0, 0, 1, 0, 0,\n",
       "       1, 1, 0, 1, 1, 1, 1, 0, 1, 1, 1, 1, 0, 1, 0, 1, 0, 1, 1, 0, 0, 0,\n",
       "       1, 0, 0, 1, 0, 1, 0, 0, 1, 1, 0, 1, 1, 0, 0, 0, 1, 1, 1, 1, 1, 0,\n",
       "       1, 1, 0, 0, 1, 1, 1, 1, 0, 1, 1, 0, 0, 0, 0, 0, 1, 0, 1, 0, 0, 1,\n",
       "       1, 0, 0, 0, 1, 1, 1, 1, 1, 0, 0, 0, 0, 0, 1, 1, 0, 0, 1, 0, 0, 0,\n",
       "       0, 0, 1, 0, 1, 1, 1, 0, 0, 0, 0, 0, 1, 0, 1, 0, 1, 1, 0, 0, 0, 0,\n",
       "       0, 1, 1, 1, 1, 1, 0, 1, 0, 0, 1, 1, 0, 0, 0, 0, 0, 1, 0, 1, 1, 1,\n",
       "       1, 1, 1, 1, 0, 0, 1, 0, 1, 1, 0, 0, 1, 1, 0, 1, 0, 0, 1, 1, 1, 1,\n",
       "       0], dtype=int64)"
      ]
     },
     "execution_count": 127,
     "metadata": {},
     "output_type": "execute_result"
    }
   ],
   "source": [
    "y_pred=clf.predict(X_test)\n",
    "y_pred"
   ]
  },
  {
   "cell_type": "code",
   "execution_count": null,
   "metadata": {
    "ExecuteTime": {
     "end_time": "2021-02-12T05:13:36.330261Z",
     "start_time": "2021-02-12T05:13:36.295282Z"
    }
   },
   "outputs": [],
   "source": []
  },
  {
   "cell_type": "code",
   "execution_count": 128,
   "metadata": {
    "ExecuteTime": {
     "end_time": "2021-04-09T16:41:33.457275Z",
     "start_time": "2021-04-09T16:41:33.254387Z"
    }
   },
   "outputs": [
    {
     "name": "stdout",
     "output_type": "stream",
     "text": [
      "[[87 15]\n",
      " [ 6 91]]\n"
     ]
    }
   ],
   "source": [
    "print(confusion_matrix(y_test,y_pred))"
   ]
  },
  {
   "cell_type": "code",
   "execution_count": 129,
   "metadata": {
    "ExecuteTime": {
     "end_time": "2021-04-09T16:41:33.776089Z",
     "start_time": "2021-04-09T16:41:33.461270Z"
    }
   },
   "outputs": [
    {
     "name": "stdout",
     "output_type": "stream",
     "text": [
      "List of possible accuracy: [0.9019607843137255, 0.8431372549019608, 0.88, 0.9, 0.88, 0.92, 0.84, 0.82, 0.82, 0.94, 0.88, 0.88]\n",
      "\n",
      "Maximum Accuracy That can be obtained from this model is: 94.0 %\n",
      "\n",
      "Minimum Accuracy: 82.0 %\n",
      "\n",
      "Average Accuracy That can be obtained from this model is:: 0.8754248366013074\n",
      "\n",
      " Median Accuracy That can be obtained from this model is:: 0.88\n",
      "\n",
      "Standard Deviation is: 0.03650337037217721\n"
     ]
    }
   ],
   "source": [
    "lst_accu_stratified = [] \n",
    "x=0\n",
    "x=0\n",
    "feature_common=pd.DataFrame()\n",
    "skf = StratifiedKFold(n_splits=12, shuffle=True, random_state=1) \n",
    "for train_index, test_index in skf.split(X, y): \n",
    "    x_train_fold, x_test_fold = X.loc[train_index,:], X.loc[test_index,:] \n",
    "    y_train_fold, y_test_fold = y[train_index], y[test_index] \n",
    "    clf.fit(x_train_fold, y_train_fold)\n",
    "    \n",
    "    lst_accu_stratified.append(clf.score(x_test_fold, y_test_fold))\n",
    "    \n",
    "    \n",
    "print('List of possible accuracy:', lst_accu_stratified) \n",
    "print('\\nMaximum Accuracy That can be obtained from this model is:', \n",
    "      max(lst_accu_stratified)*100, '%') \n",
    "print('\\nMinimum Accuracy:', \n",
    "      min(lst_accu_stratified)*100, '%') \n",
    "print('\\nAverage Accuracy That can be obtained from this model is::',np.mean(lst_accu_stratified)) \n",
    "print('\\n Median Accuracy That can be obtained from this model is::',np.median(lst_accu_stratified)) \n",
    "print('\\nStandard Deviation is:',np.std(lst_accu_stratified)) "
   ]
  },
  {
   "cell_type": "code",
   "execution_count": 130,
   "metadata": {
    "ExecuteTime": {
     "end_time": "2021-04-09T16:41:33.794080Z",
     "start_time": "2021-04-09T16:41:33.781087Z"
    }
   },
   "outputs": [
    {
     "data": {
      "text/plain": [
       "{'Unaffordable_Agree': 1,\n",
       " 'Delay of delivery person getting assigned_Strongly agree': 0,\n",
       " 'Long delivery time_Agree': 1,\n",
       " 'Wrong order delivered_Strongly disagree': 0,\n",
       " 'Missing item_Neutral': 1,\n",
       " 'Unavailability_Disagree': 0,\n",
       " 'Occupation_Student': 0,\n",
       " 'Ease and convenient_Disagree': 0,\n",
       " 'Late Delivery_Disagree': 0}"
      ]
     },
     "execution_count": 130,
     "metadata": {},
     "output_type": "execute_result"
    }
   ],
   "source": [
    "list_1=[1,0,1,0,1,0,0,0,0]\n",
    "pre=np.array(list_1).reshape(1,-1)\n",
    "nk=dict(zip(X_test.columns,list_1))\n",
    "nk\n"
   ]
  },
  {
   "cell_type": "code",
   "execution_count": 131,
   "metadata": {
    "ExecuteTime": {
     "end_time": "2021-04-09T16:41:33.897021Z",
     "start_time": "2021-04-09T16:41:33.799075Z"
    }
   },
   "outputs": [],
   "source": [
    "# import graphviz\n",
    "# import sklearn.tree as tree\n",
    "# # DOT data\n",
    "# dot_data = tree.export_graphviz(clf, out_file=None, \n",
    "#                                 feature_names=X_test.columns,  \n",
    "#                                 class_names='01',\n",
    "#                                 filled=True)\n",
    "\n",
    "# # # Draw graph\n",
    "# graph = graphviz.Source(dot_data,format=\"png\") \n",
    "# graph.render('fgini')\n",
    "# # graph"
   ]
  },
  {
   "cell_type": "code",
   "execution_count": 132,
   "metadata": {
    "ExecuteTime": {
     "end_time": "2021-04-09T16:41:34.011954Z",
     "start_time": "2021-04-09T16:41:33.902017Z"
    }
   },
   "outputs": [
    {
     "data": {
      "text/plain": [
       "array([0], dtype=int64)"
      ]
     },
     "execution_count": 132,
     "metadata": {},
     "output_type": "execute_result"
    }
   ],
   "source": [
    "clf.predict(pre)"
   ]
  },
  {
   "cell_type": "code",
   "execution_count": 133,
   "metadata": {
    "ExecuteTime": {
     "end_time": "2021-04-09T16:41:34.246824Z",
     "start_time": "2021-04-09T16:41:34.015952Z"
    }
   },
   "outputs": [
    {
     "data": {
      "text/plain": [
       "dict_keys(['Unaffordable_Agree', 'Delay of delivery person getting assigned_Strongly agree', 'Long delivery time_Agree', 'Wrong order delivered_Strongly disagree', 'Missing item_Neutral', 'Unavailability_Disagree', 'Occupation_Student', 'Ease and convenient_Disagree', 'Late Delivery_Disagree'])"
      ]
     },
     "execution_count": 133,
     "metadata": {},
     "output_type": "execute_result"
    }
   ],
   "source": [
    "nk.keys()"
   ]
  },
  {
   "cell_type": "code",
   "execution_count": 134,
   "metadata": {
    "ExecuteTime": {
     "end_time": "2021-04-09T16:41:35.500164Z",
     "start_time": "2021-04-09T16:41:34.251817Z"
    }
   },
   "outputs": [
    {
     "data": {
      "text/plain": [
       "array(['Agree', 'Strongly agree', 'Disagree', 'Neutral',\n",
       "       'Strongly disagree'], dtype=object)"
      ]
     },
     "execution_count": 134,
     "metadata": {},
     "output_type": "execute_result"
    }
   ],
   "source": [
    "fd_dlvry['Missing item'].unique()"
   ]
  },
  {
   "cell_type": "markdown",
   "metadata": {},
   "source": [
    "# Random forest\n"
   ]
  },
  {
   "cell_type": "markdown",
   "metadata": {},
   "source": [
    "## Feature selection by Random forest"
   ]
  },
  {
   "cell_type": "code",
   "execution_count": 135,
   "metadata": {
    "ExecuteTime": {
     "end_time": "2021-04-09T16:41:36.017573Z",
     "start_time": "2021-04-09T16:41:35.505159Z"
    }
   },
   "outputs": [],
   "source": [
    "from sklearn.ensemble import RandomForestClassifier\n",
    "clf=RandomForestClassifier(max_depth=6,min_samples_split=4)"
   ]
  },
  {
   "cell_type": "code",
   "execution_count": 136,
   "metadata": {
    "ExecuteTime": {
     "end_time": "2021-04-09T16:41:36.570809Z",
     "start_time": "2021-04-09T16:41:36.021552Z"
    }
   },
   "outputs": [],
   "source": [
    "from sklearn.feature_selection import SelectFromModel"
   ]
  },
  {
   "cell_type": "code",
   "execution_count": 137,
   "metadata": {
    "ExecuteTime": {
     "end_time": "2021-04-09T16:41:37.360176Z",
     "start_time": "2021-04-09T16:41:36.574808Z"
    }
   },
   "outputs": [],
   "source": [
    "X=df.iloc[:,:-1]\n",
    "y=df.iloc[:,-1]\n",
    "\n",
    "nm=RandomOverSampler()\n",
    "X,y=nm.fit_resample(X,y)"
   ]
  },
  {
   "cell_type": "code",
   "execution_count": null,
   "metadata": {},
   "outputs": [],
   "source": []
  },
  {
   "cell_type": "code",
   "execution_count": 138,
   "metadata": {
    "ExecuteTime": {
     "end_time": "2021-04-09T16:41:38.304092Z",
     "start_time": "2021-04-09T16:41:37.360176Z"
    }
   },
   "outputs": [
    {
     "data": {
      "text/plain": [
       "RandomForestClassifier(max_depth=5)"
      ]
     },
     "execution_count": 138,
     "metadata": {},
     "output_type": "execute_result"
    }
   ],
   "source": [
    "X_train, X_test, y_train, y_test = train_test_split(X, y, test_size = 0.33)\n",
    "clf=RandomForestClassifier(max_depth=5,min_samples_split=2)\n",
    "clf.fit(X_train,y_train)"
   ]
  },
  {
   "cell_type": "code",
   "execution_count": 139,
   "metadata": {
    "ExecuteTime": {
     "end_time": "2021-04-09T16:41:43.167822Z",
     "start_time": "2021-04-09T16:41:38.308090Z"
    }
   },
   "outputs": [
    {
     "name": "stdout",
     "output_type": "stream",
     "text": [
      "List of possible accuracy: [0.8888888888888888, 0.9166666666666666, 0.9444444444444444, 1.0, 0.9444444444444444, 0.9166666666666666, 0.8888888888888888, 0.8611111111111112, 0.9714285714285714, 0.9428571428571428, 0.8857142857142857, 0.9714285714285714]\n",
      "\n",
      "Maximum Accuracy That can be obtained from this model is: 100.0 %\n",
      "\n",
      "Minimum Accuracy: 86.11111111111111 %\n",
      "\n",
      "Average Accuracy That can be obtained from this model is:: 0.9277116402116402\n",
      "\n",
      " Median Accuracy That can be obtained from this model is:: 0.9297619047619048\n",
      "\n",
      "Standard Deviation is: 0.04009895054665435\n"
     ]
    }
   ],
   "source": [
    "lst_accu_stratified = [] \n",
    "x=0\n",
    "feature_common=pd.DataFrame()\n",
    "skf = StratifiedKFold(n_splits=12, shuffle=True, random_state=1) \n",
    "for train_index, test_index in skf.split(X, y): \n",
    "    x_train_fold, x_test_fold = X.loc[train_index,:], X.loc[test_index,:] \n",
    "    y_train_fold, y_test_fold = y[train_index], y[test_index] \n",
    "    clf.fit(x_train_fold, y_train_fold)\n",
    "    feature_common[x]=feature_extract(clf,X_train.columns)\n",
    "    x+=1\n",
    "    lst_accu_stratified.append(clf.score(x_test_fold, y_test_fold))\n",
    "   \n",
    "    \n",
    "    \n",
    "print('List of possible accuracy:', lst_accu_stratified) \n",
    "print('\\nMaximum Accuracy That can be obtained from this model is:', \n",
    "      max(lst_accu_stratified)*100, '%') \n",
    "print('\\nMinimum Accuracy:', \n",
    "      min(lst_accu_stratified)*100, '%') \n",
    "print('\\nAverage Accuracy That can be obtained from this model is::',np.mean(lst_accu_stratified)) \n",
    "print('\\n Median Accuracy That can be obtained from this model is::',np.median(lst_accu_stratified)) \n",
    "print('\\nStandard Deviation is:',np.std(lst_accu_stratified)) "
   ]
  },
  {
   "cell_type": "code",
   "execution_count": 140,
   "metadata": {
    "ExecuteTime": {
     "end_time": "2021-04-09T16:41:43.222789Z",
     "start_time": "2021-04-09T16:41:43.171820Z"
    }
   },
   "outputs": [
    {
     "data": {
      "text/html": [
       "<div>\n",
       "<style scoped>\n",
       "    .dataframe tbody tr th:only-of-type {\n",
       "        vertical-align: middle;\n",
       "    }\n",
       "\n",
       "    .dataframe tbody tr th {\n",
       "        vertical-align: top;\n",
       "    }\n",
       "\n",
       "    .dataframe thead th {\n",
       "        text-align: right;\n",
       "    }\n",
       "</style>\n",
       "<table border=\"1\" class=\"dataframe\">\n",
       "  <thead>\n",
       "    <tr style=\"text-align: right;\">\n",
       "      <th></th>\n",
       "      <th>0</th>\n",
       "      <th>1</th>\n",
       "      <th>2</th>\n",
       "      <th>3</th>\n",
       "      <th>4</th>\n",
       "      <th>5</th>\n",
       "      <th>6</th>\n",
       "      <th>7</th>\n",
       "      <th>8</th>\n",
       "      <th>9</th>\n",
       "      <th>10</th>\n",
       "      <th>11</th>\n",
       "    </tr>\n",
       "  </thead>\n",
       "  <tbody>\n",
       "    <tr>\n",
       "      <th>0</th>\n",
       "      <td>Good Quantity_Important</td>\n",
       "      <td>Good Quantity_Important</td>\n",
       "      <td>Good Quantity_Important</td>\n",
       "      <td>Good Quantity_Important</td>\n",
       "      <td>Good Quantity_Important</td>\n",
       "      <td>Good Quantity_Important</td>\n",
       "      <td>Good Quantity_Important</td>\n",
       "      <td>Good Quantity_Important</td>\n",
       "      <td>Good Quantity_Important</td>\n",
       "      <td>Good Quantity_Important</td>\n",
       "      <td>Good Quantity_Important</td>\n",
       "      <td>Good Quantity_Important</td>\n",
       "    </tr>\n",
       "    <tr>\n",
       "      <th>1</th>\n",
       "      <td>Good Taste _Very Important</td>\n",
       "      <td>Good Taste _Very Important</td>\n",
       "      <td>Good Taste _Very Important</td>\n",
       "      <td>Good Taste _Very Important</td>\n",
       "      <td>Good Taste _Very Important</td>\n",
       "      <td>Good Taste _Very Important</td>\n",
       "      <td>Good Taste _Very Important</td>\n",
       "      <td>Good Taste _Very Important</td>\n",
       "      <td>Good Taste _Very Important</td>\n",
       "      <td>Good Taste _Very Important</td>\n",
       "      <td>Good Taste _Very Important</td>\n",
       "      <td>Good Taste _Very Important</td>\n",
       "    </tr>\n",
       "    <tr>\n",
       "      <th>2</th>\n",
       "      <td>Good Taste _Important</td>\n",
       "      <td>Temperature_Very Important</td>\n",
       "      <td>Freshness _Very Important</td>\n",
       "      <td>Freshness _Very Important</td>\n",
       "      <td>Temperature_Very Important</td>\n",
       "      <td>Freshness _Very Important</td>\n",
       "      <td>Temperature_Very Important</td>\n",
       "      <td>Temperature_Very Important</td>\n",
       "      <td>Temperature_Very Important</td>\n",
       "      <td>Freshness _Very Important</td>\n",
       "      <td>Temperature_Very Important</td>\n",
       "      <td>Freshness _Very Important</td>\n",
       "    </tr>\n",
       "    <tr>\n",
       "      <th>3</th>\n",
       "      <td>Temperature_Very Important</td>\n",
       "      <td>Good Taste _Moderately Important</td>\n",
       "      <td>Good Taste _Important</td>\n",
       "      <td>Temperature_Very Important</td>\n",
       "      <td>Freshness _Very Important</td>\n",
       "      <td>Good Taste _Important</td>\n",
       "      <td>Freshness _Very Important</td>\n",
       "      <td>Freshness _Very Important</td>\n",
       "      <td>Good Taste _Moderately Important</td>\n",
       "      <td>Good Taste _Important</td>\n",
       "      <td>Good Taste _Important</td>\n",
       "      <td>Temperature_Very Important</td>\n",
       "    </tr>\n",
       "    <tr>\n",
       "      <th>4</th>\n",
       "      <td>Freshness _Very Important</td>\n",
       "      <td>Good Taste _Important</td>\n",
       "      <td>Temperature_Very Important</td>\n",
       "      <td>Good Taste _Important</td>\n",
       "      <td>Good Taste _Important</td>\n",
       "      <td>Temperature_Very Important</td>\n",
       "      <td>Good Taste _Moderately Important</td>\n",
       "      <td>Good Taste _Moderately Important</td>\n",
       "      <td>Good Taste _Important</td>\n",
       "      <td>Temperature_Very Important</td>\n",
       "      <td>Freshness _Very Important</td>\n",
       "      <td>Good Taste _Important</td>\n",
       "    </tr>\n",
       "    <tr>\n",
       "      <th>5</th>\n",
       "      <td>Good Taste _Moderately Important</td>\n",
       "      <td>Freshness _Very Important</td>\n",
       "      <td>Good Taste _Moderately Important</td>\n",
       "      <td>Good Quantity_Moderately Important</td>\n",
       "      <td>Good Taste _Moderately Important</td>\n",
       "      <td>Good Quantity_Moderately Important</td>\n",
       "      <td>Good Taste _Important</td>\n",
       "      <td>Good Taste _Important</td>\n",
       "      <td>Freshness _Very Important</td>\n",
       "      <td>Good Taste _Moderately Important</td>\n",
       "      <td>Good Taste _Moderately Important</td>\n",
       "      <td>Good Taste _Moderately Important</td>\n",
       "    </tr>\n",
       "    <tr>\n",
       "      <th>6</th>\n",
       "      <td>Good Quantity_Moderately Important</td>\n",
       "      <td>Good Quantity_Moderately Important</td>\n",
       "      <td>Good Quantity_Moderately Important</td>\n",
       "      <td>Good Taste _Moderately Important</td>\n",
       "      <td>Good Quantity_Moderately Important</td>\n",
       "      <td>Good Taste _Moderately Important</td>\n",
       "      <td>Good Quantity_Slightly Important</td>\n",
       "      <td>Good Quantity_Moderately Important</td>\n",
       "      <td>Good Quantity_Moderately Important</td>\n",
       "      <td>Good Quantity_Moderately Important</td>\n",
       "      <td>Freshness _Important</td>\n",
       "      <td>Good Quantity_Moderately Important</td>\n",
       "    </tr>\n",
       "    <tr>\n",
       "      <th>7</th>\n",
       "      <td>Good Quantity_Slightly Important</td>\n",
       "      <td>Temperature_Important</td>\n",
       "      <td>Freshness _Important</td>\n",
       "      <td>Good Quantity_Slightly Important</td>\n",
       "      <td>Freshness _Important</td>\n",
       "      <td>High Quality of package_Moderately Important</td>\n",
       "      <td>High Quality of package_Very Important</td>\n",
       "      <td>Temperature_Important</td>\n",
       "      <td>Freshness _Important</td>\n",
       "      <td>High Quality of package_Very Important</td>\n",
       "      <td>Good Quantity_Moderately Important</td>\n",
       "      <td>High Quality of package_Very Important</td>\n",
       "    </tr>\n",
       "    <tr>\n",
       "      <th>8</th>\n",
       "      <td>Freshness _Important</td>\n",
       "      <td>Freshness _Important</td>\n",
       "      <td>Temperature_Important</td>\n",
       "      <td>High Quality of package_Moderately Important</td>\n",
       "      <td>Good Quantity_Slightly Important</td>\n",
       "      <td>Good Quantity_Slightly Important</td>\n",
       "      <td>Good Quantity_Moderately Important</td>\n",
       "      <td>Good Quantity_Slightly Important</td>\n",
       "      <td>Politeness_Very Important</td>\n",
       "      <td>Freshness _Important</td>\n",
       "      <td>Good Quantity_Slightly Important</td>\n",
       "      <td>Freshness _Important</td>\n",
       "    </tr>\n",
       "    <tr>\n",
       "      <th>9</th>\n",
       "      <td>Age</td>\n",
       "      <td>Temperature_Slightly Important</td>\n",
       "      <td>High Quality of package_Moderately Important</td>\n",
       "      <td>Politeness_Very Important</td>\n",
       "      <td>Missing item_Strongly agree</td>\n",
       "      <td>Temperature_Important</td>\n",
       "      <td>High Quality of package_Moderately Important</td>\n",
       "      <td>High Quality of package_Moderately Important</td>\n",
       "      <td>Temperature_Important</td>\n",
       "      <td>Age</td>\n",
       "      <td>Temperature_Slightly Important</td>\n",
       "      <td>Good Quantity_Slightly Important</td>\n",
       "    </tr>\n",
       "    <tr>\n",
       "      <th>10</th>\n",
       "      <td>High Quality of package_Very Important</td>\n",
       "      <td>Good Quantity_Slightly Important</td>\n",
       "      <td>Temperature_Slightly Important</td>\n",
       "      <td>High Quality of package_Very Important</td>\n",
       "      <td>Educational Qualifications_Post Graduate</td>\n",
       "      <td>High Quality of package_Very Important</td>\n",
       "      <td>Freshness _Important</td>\n",
       "      <td>Unavailability_Neutral</td>\n",
       "      <td>High Quality of package_Very Important</td>\n",
       "      <td>Temperature_Important</td>\n",
       "      <td>High Quality of package_Moderately Important</td>\n",
       "      <td>Temperature_Important</td>\n",
       "    </tr>\n",
       "    <tr>\n",
       "      <th>11</th>\n",
       "      <td>High Quality of package_Moderately Important</td>\n",
       "      <td>High Quality of package_Very Important</td>\n",
       "      <td>Age</td>\n",
       "      <td>Freshness _Important</td>\n",
       "      <td>High Quality of package_Very Important</td>\n",
       "      <td>Temperature_Slightly Important</td>\n",
       "      <td>Age</td>\n",
       "      <td>Age</td>\n",
       "      <td>High Quality of package_Moderately Important</td>\n",
       "      <td>Good Quantity_Slightly Important</td>\n",
       "      <td>High Quality of package_Very Important</td>\n",
       "      <td>High Quality of package_Moderately Important</td>\n",
       "    </tr>\n",
       "  </tbody>\n",
       "</table>\n",
       "</div>"
      ],
      "text/plain": [
       "                                              0   \\\n",
       "0                        Good Quantity_Important   \n",
       "1                     Good Taste _Very Important   \n",
       "2                          Good Taste _Important   \n",
       "3                     Temperature_Very Important   \n",
       "4                      Freshness _Very Important   \n",
       "5               Good Taste _Moderately Important   \n",
       "6             Good Quantity_Moderately Important   \n",
       "7               Good Quantity_Slightly Important   \n",
       "8                           Freshness _Important   \n",
       "9                                            Age   \n",
       "10        High Quality of package_Very Important   \n",
       "11  High Quality of package_Moderately Important   \n",
       "\n",
       "                                        1   \\\n",
       "0                  Good Quantity_Important   \n",
       "1               Good Taste _Very Important   \n",
       "2               Temperature_Very Important   \n",
       "3         Good Taste _Moderately Important   \n",
       "4                    Good Taste _Important   \n",
       "5                Freshness _Very Important   \n",
       "6       Good Quantity_Moderately Important   \n",
       "7                    Temperature_Important   \n",
       "8                     Freshness _Important   \n",
       "9           Temperature_Slightly Important   \n",
       "10        Good Quantity_Slightly Important   \n",
       "11  High Quality of package_Very Important   \n",
       "\n",
       "                                              2   \\\n",
       "0                        Good Quantity_Important   \n",
       "1                     Good Taste _Very Important   \n",
       "2                      Freshness _Very Important   \n",
       "3                          Good Taste _Important   \n",
       "4                     Temperature_Very Important   \n",
       "5               Good Taste _Moderately Important   \n",
       "6             Good Quantity_Moderately Important   \n",
       "7                           Freshness _Important   \n",
       "8                          Temperature_Important   \n",
       "9   High Quality of package_Moderately Important   \n",
       "10                Temperature_Slightly Important   \n",
       "11                                           Age   \n",
       "\n",
       "                                              3   \\\n",
       "0                        Good Quantity_Important   \n",
       "1                     Good Taste _Very Important   \n",
       "2                      Freshness _Very Important   \n",
       "3                     Temperature_Very Important   \n",
       "4                          Good Taste _Important   \n",
       "5             Good Quantity_Moderately Important   \n",
       "6               Good Taste _Moderately Important   \n",
       "7               Good Quantity_Slightly Important   \n",
       "8   High Quality of package_Moderately Important   \n",
       "9                      Politeness_Very Important   \n",
       "10        High Quality of package_Very Important   \n",
       "11                          Freshness _Important   \n",
       "\n",
       "                                          4   \\\n",
       "0                    Good Quantity_Important   \n",
       "1                 Good Taste _Very Important   \n",
       "2                 Temperature_Very Important   \n",
       "3                  Freshness _Very Important   \n",
       "4                      Good Taste _Important   \n",
       "5           Good Taste _Moderately Important   \n",
       "6         Good Quantity_Moderately Important   \n",
       "7                       Freshness _Important   \n",
       "8           Good Quantity_Slightly Important   \n",
       "9                Missing item_Strongly agree   \n",
       "10  Educational Qualifications_Post Graduate   \n",
       "11    High Quality of package_Very Important   \n",
       "\n",
       "                                              5   \\\n",
       "0                        Good Quantity_Important   \n",
       "1                     Good Taste _Very Important   \n",
       "2                      Freshness _Very Important   \n",
       "3                          Good Taste _Important   \n",
       "4                     Temperature_Very Important   \n",
       "5             Good Quantity_Moderately Important   \n",
       "6               Good Taste _Moderately Important   \n",
       "7   High Quality of package_Moderately Important   \n",
       "8               Good Quantity_Slightly Important   \n",
       "9                          Temperature_Important   \n",
       "10        High Quality of package_Very Important   \n",
       "11                Temperature_Slightly Important   \n",
       "\n",
       "                                              6   \\\n",
       "0                        Good Quantity_Important   \n",
       "1                     Good Taste _Very Important   \n",
       "2                     Temperature_Very Important   \n",
       "3                      Freshness _Very Important   \n",
       "4               Good Taste _Moderately Important   \n",
       "5                          Good Taste _Important   \n",
       "6               Good Quantity_Slightly Important   \n",
       "7         High Quality of package_Very Important   \n",
       "8             Good Quantity_Moderately Important   \n",
       "9   High Quality of package_Moderately Important   \n",
       "10                          Freshness _Important   \n",
       "11                                           Age   \n",
       "\n",
       "                                              7   \\\n",
       "0                        Good Quantity_Important   \n",
       "1                     Good Taste _Very Important   \n",
       "2                     Temperature_Very Important   \n",
       "3                      Freshness _Very Important   \n",
       "4               Good Taste _Moderately Important   \n",
       "5                          Good Taste _Important   \n",
       "6             Good Quantity_Moderately Important   \n",
       "7                          Temperature_Important   \n",
       "8               Good Quantity_Slightly Important   \n",
       "9   High Quality of package_Moderately Important   \n",
       "10                        Unavailability_Neutral   \n",
       "11                                           Age   \n",
       "\n",
       "                                              8   \\\n",
       "0                        Good Quantity_Important   \n",
       "1                     Good Taste _Very Important   \n",
       "2                     Temperature_Very Important   \n",
       "3               Good Taste _Moderately Important   \n",
       "4                          Good Taste _Important   \n",
       "5                      Freshness _Very Important   \n",
       "6             Good Quantity_Moderately Important   \n",
       "7                           Freshness _Important   \n",
       "8                      Politeness_Very Important   \n",
       "9                          Temperature_Important   \n",
       "10        High Quality of package_Very Important   \n",
       "11  High Quality of package_Moderately Important   \n",
       "\n",
       "                                        9   \\\n",
       "0                  Good Quantity_Important   \n",
       "1               Good Taste _Very Important   \n",
       "2                Freshness _Very Important   \n",
       "3                    Good Taste _Important   \n",
       "4               Temperature_Very Important   \n",
       "5         Good Taste _Moderately Important   \n",
       "6       Good Quantity_Moderately Important   \n",
       "7   High Quality of package_Very Important   \n",
       "8                     Freshness _Important   \n",
       "9                                      Age   \n",
       "10                   Temperature_Important   \n",
       "11        Good Quantity_Slightly Important   \n",
       "\n",
       "                                              10  \\\n",
       "0                        Good Quantity_Important   \n",
       "1                     Good Taste _Very Important   \n",
       "2                     Temperature_Very Important   \n",
       "3                          Good Taste _Important   \n",
       "4                      Freshness _Very Important   \n",
       "5               Good Taste _Moderately Important   \n",
       "6                           Freshness _Important   \n",
       "7             Good Quantity_Moderately Important   \n",
       "8               Good Quantity_Slightly Important   \n",
       "9                 Temperature_Slightly Important   \n",
       "10  High Quality of package_Moderately Important   \n",
       "11        High Quality of package_Very Important   \n",
       "\n",
       "                                              11  \n",
       "0                        Good Quantity_Important  \n",
       "1                     Good Taste _Very Important  \n",
       "2                      Freshness _Very Important  \n",
       "3                     Temperature_Very Important  \n",
       "4                          Good Taste _Important  \n",
       "5               Good Taste _Moderately Important  \n",
       "6             Good Quantity_Moderately Important  \n",
       "7         High Quality of package_Very Important  \n",
       "8                           Freshness _Important  \n",
       "9               Good Quantity_Slightly Important  \n",
       "10                         Temperature_Important  \n",
       "11  High Quality of package_Moderately Important  "
      ]
     },
     "execution_count": 140,
     "metadata": {},
     "output_type": "execute_result"
    }
   ],
   "source": [
    "feature_common"
   ]
  },
  {
   "cell_type": "code",
   "execution_count": 141,
   "metadata": {
    "ExecuteTime": {
     "end_time": "2021-04-09T16:41:43.370946Z",
     "start_time": "2021-04-09T16:41:43.227787Z"
    }
   },
   "outputs": [
    {
     "data": {
      "text/plain": [
       "0                          Good Quantity_Important\n",
       "1                       Good Taste _Very Important\n",
       "2                        Freshness _Very Important\n",
       "3                            Good Taste _Important\n",
       "4                       Temperature_Very Important\n",
       "5                 Good Taste _Moderately Important\n",
       "6               Good Quantity_Moderately Important\n",
       "7                             Freshness _Important\n",
       "8                            Temperature_Important\n",
       "9     High Quality of package_Moderately Important\n",
       "10                  Temperature_Slightly Important\n",
       "11                                             Age\n",
       "Name: 2, dtype: object"
      ]
     },
     "execution_count": 141,
     "metadata": {},
     "output_type": "execute_result"
    }
   ],
   "source": [
    "feature_common[2]"
   ]
  },
  {
   "cell_type": "markdown",
   "metadata": {},
   "source": [
    "## Build Model"
   ]
  },
  {
   "cell_type": "code",
   "execution_count": 142,
   "metadata": {
    "ExecuteTime": {
     "end_time": "2021-04-09T16:41:43.567834Z",
     "start_time": "2021-04-09T16:41:43.374941Z"
    }
   },
   "outputs": [],
   "source": [
    "X=df[feature_common[2]]\n",
    "y=df.iloc[:,-1]"
   ]
  },
  {
   "cell_type": "code",
   "execution_count": 143,
   "metadata": {
    "ExecuteTime": {
     "end_time": "2021-04-09T16:41:43.667793Z",
     "start_time": "2021-04-09T16:41:43.571829Z"
    }
   },
   "outputs": [],
   "source": [
    "from  imblearn.under_sampling import RandomUnderSampler\n",
    "\n",
    "nm=RandomUnderSampler()\n",
    "X,y=nm.fit_resample(X,y)"
   ]
  },
  {
   "cell_type": "code",
   "execution_count": 144,
   "metadata": {
    "ExecuteTime": {
     "end_time": "2021-04-09T16:41:44.238836Z",
     "start_time": "2021-04-09T16:41:43.671773Z"
    }
   },
   "outputs": [
    {
     "data": {
      "text/plain": [
       "RandomForestClassifier(max_depth=6, min_samples_split=4)"
      ]
     },
     "execution_count": 144,
     "metadata": {},
     "output_type": "execute_result"
    }
   ],
   "source": [
    "X_train, X_test, y_train, y_test = train_test_split(X, y, test_size = 0.33)\n",
    "clf=RandomForestClassifier(max_depth=6,min_samples_split=4)\n",
    "clf.fit(X_train,y_train)"
   ]
  },
  {
   "cell_type": "code",
   "execution_count": 145,
   "metadata": {
    "ExecuteTime": {
     "end_time": "2021-04-09T16:41:44.283796Z",
     "start_time": "2021-04-09T16:41:44.241816Z"
    }
   },
   "outputs": [
    {
     "data": {
      "text/plain": [
       "0.9739130434782609"
      ]
     },
     "execution_count": 145,
     "metadata": {},
     "output_type": "execute_result"
    }
   ],
   "source": [
    "clf.score(X_test,y_test)"
   ]
  },
  {
   "cell_type": "code",
   "execution_count": 146,
   "metadata": {
    "ExecuteTime": {
     "end_time": "2021-04-09T16:41:44.488676Z",
     "start_time": "2021-04-09T16:41:44.287790Z"
    }
   },
   "outputs": [
    {
     "data": {
      "text/plain": [
       "array([1, 1, 0, 0, 1, 0, 1, 1, 0, 0, 1, 0, 0, 1, 0, 0, 0, 1, 1, 0, 1, 1,\n",
       "       0, 1, 0, 0, 1, 1, 1, 0, 1, 0, 0, 0, 0, 1, 0, 1, 0, 0, 1, 0, 0, 1,\n",
       "       0, 1, 0, 1, 1, 1, 1, 0, 1, 1, 1, 1, 1, 0, 1, 0, 0, 0, 0, 1, 1, 1,\n",
       "       0, 0, 0, 0, 1, 1, 0, 1, 0, 0, 1, 1, 1, 0, 0, 0, 1, 0, 1, 1, 0, 0,\n",
       "       1, 0, 0, 0, 0, 0, 0, 0, 0, 1, 1, 0, 1, 1, 1, 0, 0, 1, 1, 0, 1, 0,\n",
       "       0, 1, 0, 1, 0], dtype=uint8)"
      ]
     },
     "execution_count": 146,
     "metadata": {},
     "output_type": "execute_result"
    }
   ],
   "source": [
    "y_pred=clf.predict(X_test)\n",
    "y_pred"
   ]
  },
  {
   "cell_type": "code",
   "execution_count": 147,
   "metadata": {
    "ExecuteTime": {
     "end_time": "2021-04-09T16:41:44.543646Z",
     "start_time": "2021-04-09T16:41:44.493672Z"
    },
    "scrolled": true
   },
   "outputs": [
    {
     "name": "stdout",
     "output_type": "stream",
     "text": [
      "[[60  2]\n",
      " [ 1 52]]\n"
     ]
    }
   ],
   "source": [
    "print(confusion_matrix(y_test,y_pred))"
   ]
  },
  {
   "cell_type": "code",
   "execution_count": 148,
   "metadata": {
    "ExecuteTime": {
     "end_time": "2021-04-09T16:41:44.676567Z",
     "start_time": "2021-04-09T16:41:44.548642Z"
    }
   },
   "outputs": [
    {
     "name": "stdout",
     "output_type": "stream",
     "text": [
      "              precision    recall  f1-score   support\n",
      "\n",
      "           0       0.98      0.97      0.98        62\n",
      "           1       0.96      0.98      0.97        53\n",
      "\n",
      "    accuracy                           0.97       115\n",
      "   macro avg       0.97      0.97      0.97       115\n",
      "weighted avg       0.97      0.97      0.97       115\n",
      "\n"
     ]
    }
   ],
   "source": [
    "print(classification_report(y_test,y_pred))"
   ]
  },
  {
   "cell_type": "code",
   "execution_count": 149,
   "metadata": {
    "ExecuteTime": {
     "end_time": "2021-04-09T16:41:48.473053Z",
     "start_time": "2021-04-09T16:41:44.680569Z"
    }
   },
   "outputs": [
    {
     "name": "stdout",
     "output_type": "stream",
     "text": [
      "List of possible accuracy: [0.9655172413793104, 0.9655172413793104, 1.0, 1.0, 1.0, 1.0, 0.9310344827586207, 0.9655172413793104, 1.0, 1.0, 1.0, 0.9310344827586207]\n",
      "\n",
      "Maximum Accuracy That can be obtained from this model is: 100.0 %\n",
      "\n",
      "Minimum Accuracy: 93.10344827586206 %\n",
      "\n",
      "Average Accuracy That can be obtained from this model is:: 0.9798850574712644\n",
      "\n",
      " Median Accuracy That can be obtained from this model is:: 1.0\n",
      "\n",
      "Standard Deviation is: 0.026179406836621552\n"
     ]
    }
   ],
   "source": [
    "lst_accu_stratified = [] \n",
    "x=0\n",
    "\n",
    "skf = StratifiedKFold(n_splits=12, shuffle=True, random_state=1) \n",
    "for train_index, test_index in skf.split(X, y): \n",
    "    x_train_fold, x_test_fold = X.loc[train_index,:], X.loc[test_index,:] \n",
    "    y_train_fold, y_test_fold = y[train_index], y[test_index] \n",
    "    clf.fit(x_train_fold, y_train_fold)\n",
    "    \n",
    "    lst_accu_stratified.append(clf.score(x_test_fold, y_test_fold))\n",
    "   \n",
    "    \n",
    "    \n",
    "print('List of possible accuracy:', lst_accu_stratified) \n",
    "print('\\nMaximum Accuracy That can be obtained from this model is:', \n",
    "      max(lst_accu_stratified)*100, '%') \n",
    "print('\\nMinimum Accuracy:', \n",
    "      min(lst_accu_stratified)*100, '%') \n",
    "print('\\nAverage Accuracy That can be obtained from this model is::',np.mean(lst_accu_stratified)) \n",
    "print('\\n Median Accuracy That can be obtained from this model is::',np.median(lst_accu_stratified)) \n",
    "print('\\nStandard Deviation is:',np.std(lst_accu_stratified)) "
   ]
  },
  {
   "cell_type": "markdown",
   "metadata": {},
   "source": [
    "## (Final Model)Using method 1 feature through build model"
   ]
  },
  {
   "cell_type": "code",
   "execution_count": 150,
   "metadata": {
    "ExecuteTime": {
     "end_time": "2021-04-09T16:41:48.516031Z",
     "start_time": "2021-04-09T16:41:48.477052Z"
    }
   },
   "outputs": [],
   "source": [
    "fd_dlvry=pd.read_csv('../../data/Banglore_food_delivery/onlinedeliverydata.csv')\n",
    "fd_ori=fd_dlvry.copy()\n",
    "\n",
    "fd_dlvry.drop(['Pin code','longitude','latitude','Reviews'],axis=1,inplace=True)\n",
    "\n",
    "fd_dlvry['Output']=fd_dlvry['Output'].replace({'Yes':1,'No':0})"
   ]
  },
  {
   "cell_type": "code",
   "execution_count": 151,
   "metadata": {
    "ExecuteTime": {
     "end_time": "2021-04-09T16:41:48.592332Z",
     "start_time": "2021-04-09T16:41:48.520030Z"
    }
   },
   "outputs": [
    {
     "data": {
      "text/plain": [
       "['Age',\n",
       " 'Ease and convenient',\n",
       " 'Time saving',\n",
       " 'More restaurant choices',\n",
       " 'Easy Payment option',\n",
       " 'More Offers and Discount',\n",
       " 'Good Food quality',\n",
       " 'Good Tracking system',\n",
       " 'Unaffordable',\n",
       " 'Maximum wait time']"
      ]
     },
     "execution_count": 151,
     "metadata": {},
     "output_type": "execute_result"
    }
   ],
   "source": [
    "basic_f0"
   ]
  },
  {
   "cell_type": "code",
   "execution_count": 152,
   "metadata": {
    "ExecuteTime": {
     "end_time": "2021-04-09T16:41:48.933137Z",
     "start_time": "2021-04-09T16:41:48.598329Z"
    },
    "scrolled": true
   },
   "outputs": [
    {
     "data": {
      "text/html": [
       "<div>\n",
       "<style scoped>\n",
       "    .dataframe tbody tr th:only-of-type {\n",
       "        vertical-align: middle;\n",
       "    }\n",
       "\n",
       "    .dataframe tbody tr th {\n",
       "        vertical-align: top;\n",
       "    }\n",
       "\n",
       "    .dataframe thead th {\n",
       "        text-align: right;\n",
       "    }\n",
       "</style>\n",
       "<table border=\"1\" class=\"dataframe\">\n",
       "  <thead>\n",
       "    <tr style=\"text-align: right;\">\n",
       "      <th></th>\n",
       "      <th>Age</th>\n",
       "      <th>Gender</th>\n",
       "      <th>Marital Status</th>\n",
       "      <th>Occupation</th>\n",
       "      <th>Monthly Income</th>\n",
       "      <th>Educational Qualifications</th>\n",
       "      <th>Family size</th>\n",
       "      <th>Medium (P1)</th>\n",
       "      <th>Medium (P2)</th>\n",
       "      <th>Meal(P1)</th>\n",
       "      <th>...</th>\n",
       "      <th>Influence of rating</th>\n",
       "      <th>Less Delivery time</th>\n",
       "      <th>High Quality of package</th>\n",
       "      <th>Number of calls</th>\n",
       "      <th>Politeness</th>\n",
       "      <th>Freshness</th>\n",
       "      <th>Temperature</th>\n",
       "      <th>Good Taste</th>\n",
       "      <th>Good Quantity</th>\n",
       "      <th>Output</th>\n",
       "    </tr>\n",
       "  </thead>\n",
       "  <tbody>\n",
       "    <tr>\n",
       "      <th>0</th>\n",
       "      <td>20</td>\n",
       "      <td>0</td>\n",
       "      <td>2</td>\n",
       "      <td>3</td>\n",
       "      <td>4</td>\n",
       "      <td>2</td>\n",
       "      <td>4</td>\n",
       "      <td>1</td>\n",
       "      <td>2</td>\n",
       "      <td>0</td>\n",
       "      <td>...</td>\n",
       "      <td>2</td>\n",
       "      <td>1</td>\n",
       "      <td>1</td>\n",
       "      <td>1</td>\n",
       "      <td>1</td>\n",
       "      <td>1</td>\n",
       "      <td>1</td>\n",
       "      <td>1</td>\n",
       "      <td>1</td>\n",
       "      <td>1</td>\n",
       "    </tr>\n",
       "    <tr>\n",
       "      <th>1</th>\n",
       "      <td>24</td>\n",
       "      <td>0</td>\n",
       "      <td>2</td>\n",
       "      <td>3</td>\n",
       "      <td>2</td>\n",
       "      <td>0</td>\n",
       "      <td>3</td>\n",
       "      <td>1</td>\n",
       "      <td>2</td>\n",
       "      <td>3</td>\n",
       "      <td>...</td>\n",
       "      <td>2</td>\n",
       "      <td>4</td>\n",
       "      <td>4</td>\n",
       "      <td>4</td>\n",
       "      <td>4</td>\n",
       "      <td>4</td>\n",
       "      <td>4</td>\n",
       "      <td>4</td>\n",
       "      <td>4</td>\n",
       "      <td>1</td>\n",
       "    </tr>\n",
       "    <tr>\n",
       "      <th>2</th>\n",
       "      <td>22</td>\n",
       "      <td>1</td>\n",
       "      <td>2</td>\n",
       "      <td>3</td>\n",
       "      <td>2</td>\n",
       "      <td>2</td>\n",
       "      <td>3</td>\n",
       "      <td>1</td>\n",
       "      <td>0</td>\n",
       "      <td>2</td>\n",
       "      <td>...</td>\n",
       "      <td>2</td>\n",
       "      <td>0</td>\n",
       "      <td>4</td>\n",
       "      <td>1</td>\n",
       "      <td>4</td>\n",
       "      <td>4</td>\n",
       "      <td>0</td>\n",
       "      <td>4</td>\n",
       "      <td>1</td>\n",
       "      <td>1</td>\n",
       "    </tr>\n",
       "    <tr>\n",
       "      <th>3</th>\n",
       "      <td>22</td>\n",
       "      <td>0</td>\n",
       "      <td>2</td>\n",
       "      <td>3</td>\n",
       "      <td>4</td>\n",
       "      <td>0</td>\n",
       "      <td>6</td>\n",
       "      <td>1</td>\n",
       "      <td>1</td>\n",
       "      <td>3</td>\n",
       "      <td>...</td>\n",
       "      <td>2</td>\n",
       "      <td>4</td>\n",
       "      <td>0</td>\n",
       "      <td>1</td>\n",
       "      <td>4</td>\n",
       "      <td>4</td>\n",
       "      <td>4</td>\n",
       "      <td>4</td>\n",
       "      <td>0</td>\n",
       "      <td>1</td>\n",
       "    </tr>\n",
       "    <tr>\n",
       "      <th>4</th>\n",
       "      <td>22</td>\n",
       "      <td>1</td>\n",
       "      <td>2</td>\n",
       "      <td>3</td>\n",
       "      <td>2</td>\n",
       "      <td>2</td>\n",
       "      <td>4</td>\n",
       "      <td>2</td>\n",
       "      <td>0</td>\n",
       "      <td>2</td>\n",
       "      <td>...</td>\n",
       "      <td>2</td>\n",
       "      <td>0</td>\n",
       "      <td>0</td>\n",
       "      <td>1</td>\n",
       "      <td>0</td>\n",
       "      <td>0</td>\n",
       "      <td>0</td>\n",
       "      <td>4</td>\n",
       "      <td>4</td>\n",
       "      <td>1</td>\n",
       "    </tr>\n",
       "  </tbody>\n",
       "</table>\n",
       "<p>5 rows × 51 columns</p>\n",
       "</div>"
      ],
      "text/plain": [
       "   Age  Gender  Marital Status  Occupation  Monthly Income  \\\n",
       "0   20       0               2           3               4   \n",
       "1   24       0               2           3               2   \n",
       "2   22       1               2           3               2   \n",
       "3   22       0               2           3               4   \n",
       "4   22       1               2           3               2   \n",
       "\n",
       "   Educational Qualifications  Family size  Medium (P1)  Medium (P2)  \\\n",
       "0                           2            4            1            2   \n",
       "1                           0            3            1            2   \n",
       "2                           2            3            1            0   \n",
       "3                           0            6            1            1   \n",
       "4                           2            4            2            0   \n",
       "\n",
       "   Meal(P1)  ...  Influence of rating  Less Delivery time  \\\n",
       "0         0  ...                    2                   1   \n",
       "1         3  ...                    2                   4   \n",
       "2         2  ...                    2                   0   \n",
       "3         3  ...                    2                   4   \n",
       "4         2  ...                    2                   0   \n",
       "\n",
       "   High Quality of package  Number of calls  Politeness  Freshness   \\\n",
       "0                        1                1           1           1   \n",
       "1                        4                4           4           4   \n",
       "2                        4                1           4           4   \n",
       "3                        0                1           4           4   \n",
       "4                        0                1           0           0   \n",
       "\n",
       "   Temperature  Good Taste   Good Quantity  Output  \n",
       "0            1            1              1       1  \n",
       "1            4            4              4       1  \n",
       "2            0            4              1       1  \n",
       "3            4            4              0       1  \n",
       "4            0            4              4       1  \n",
       "\n",
       "[5 rows x 51 columns]"
      ]
     },
     "execution_count": 152,
     "metadata": {},
     "output_type": "execute_result"
    }
   ],
   "source": [
    "# import  datacleaner as dc # pip install datacleaner\n",
    "dc.autoclean(fd_dlvry).head() "
   ]
  },
  {
   "cell_type": "code",
   "execution_count": 153,
   "metadata": {
    "ExecuteTime": {
     "end_time": "2021-04-09T16:41:48.977114Z",
     "start_time": "2021-04-09T16:41:48.937136Z"
    }
   },
   "outputs": [],
   "source": [
    "lbl=dict()\n",
    "for i in fd_ori.columns:\n",
    "    if i not in  ['latitude','longitude','Pin code','Reviews']:\n",
    "                  lbl[i]=dict(zip(fd_ori[i].unique(), fd_dlvry[i].unique()))"
   ]
  },
  {
   "cell_type": "code",
   "execution_count": 154,
   "metadata": {
    "ExecuteTime": {
     "end_time": "2021-04-09T16:41:49.077060Z",
     "start_time": "2021-04-09T16:41:48.982112Z"
    }
   },
   "outputs": [
    {
     "data": {
      "text/plain": [
       "{'Age': {20: 20,\n",
       "  24: 24,\n",
       "  22: 22,\n",
       "  27: 27,\n",
       "  23: 23,\n",
       "  21: 21,\n",
       "  28: 28,\n",
       "  25: 25,\n",
       "  32: 32,\n",
       "  30: 30,\n",
       "  31: 31,\n",
       "  26: 26,\n",
       "  18: 18,\n",
       "  19: 19,\n",
       "  33: 33,\n",
       "  29: 29},\n",
       " 'Gender': {'Female': 0, 'Male': 1},\n",
       " 'Marital Status': {'Single': 2, 'Married': 0, 'Prefer not to say': 1},\n",
       " 'Occupation': {'Student': 3,\n",
       "  'Employee': 0,\n",
       "  'Self Employeed': 2,\n",
       "  'House wife': 1},\n",
       " 'Monthly Income': {'No Income': 4,\n",
       "  'Below Rs.10000': 2,\n",
       "  'More than 50000': 3,\n",
       "  '10001 to 25000': 0,\n",
       "  '25001 to 50000': 1},\n",
       " 'Educational Qualifications': {'Post Graduate': 2,\n",
       "  'Graduate': 0,\n",
       "  'Ph.D': 1,\n",
       "  'Uneducated': 4,\n",
       "  'School': 3},\n",
       " 'Family size': {4: 4, 3: 3, 6: 6, 2: 2, 5: 5, 1: 1},\n",
       " 'Medium (P1)': {'Food delivery apps': 1,\n",
       "  'Walk-in': 2,\n",
       "  'Direct call': 0,\n",
       "  'Web browser': 3},\n",
       " 'Medium (P2)': {' Web browser': 2, ' Direct call': 0, ' Walk-in': 1},\n",
       " 'Meal(P1)': {'Breakfast': 0, 'Snacks': 3, 'Lunch': 2, 'Dinner': 1},\n",
       " 'Meal(P2)': {' Lunch': 1, ' Dinner': 0, ' Snacks': 2},\n",
       " 'Perference(P1)': {'Non Veg foods (Lunch / Dinner)': 1,\n",
       "  'Veg foods (Breakfast / Lunch / Dinner)': 3,\n",
       "  'Bakery items (snacks)': 0,\n",
       "  'Sweets': 2},\n",
       " 'Perference(P2)': {' Bakery items (snacks)': 0,\n",
       "  ' Veg foods (Breakfast / Lunch / Dinner)': 3,\n",
       "  ' Ice cream / Cool drinks': 1,\n",
       "  ' Sweets': 2},\n",
       " 'Ease and convenient': {'Neutral': 2,\n",
       "  'Strongly agree': 3,\n",
       "  'Agree': 0,\n",
       "  'Strongly disagree': 4,\n",
       "  'Disagree': 1},\n",
       " 'Time saving': {'Neutral': 2,\n",
       "  'Strongly agree': 3,\n",
       "  'Agree': 0,\n",
       "  'Disagree': 1,\n",
       "  'Strongly disagree': 4},\n",
       " 'More restaurant choices': {'Neutral': 2,\n",
       "  'Strongly agree': 3,\n",
       "  'Agree': 0,\n",
       "  'Strongly disagree': 4,\n",
       "  'Disagree': 1},\n",
       " 'Easy Payment option': {'Neutral': 2,\n",
       "  'Strongly agree': 3,\n",
       "  'Agree': 0,\n",
       "  'Disagree': 1,\n",
       "  'Strongly disagree': 4},\n",
       " 'More Offers and Discount': {'Neutral': 2,\n",
       "  'Strongly agree': 3,\n",
       "  'Agree': 0,\n",
       "  'Disagree': 1,\n",
       "  'Strongly disagree': 4},\n",
       " 'Good Food quality': {'Neutral': 2,\n",
       "  'Disagree': 1,\n",
       "  'Agree': 0,\n",
       "  'Strongly agree': 3,\n",
       "  'Strongly disagree': 4},\n",
       " 'Good Tracking system': {'Neutral': 2,\n",
       "  'Agree': 0,\n",
       "  'Strongly agree': 3,\n",
       "  'Disagree': 1,\n",
       "  'Strongly disagree': 4},\n",
       " 'Self Cooking': {'Neutral': 2,\n",
       "  'Strongly agree': 3,\n",
       "  'Disagree': 1,\n",
       "  'Agree': 0,\n",
       "  'Strongly disagree': 4},\n",
       " 'Health Concern': {'Neutral': 2,\n",
       "  'Strongly agree': 3,\n",
       "  'Agree': 0,\n",
       "  'Strongly disagree': 4,\n",
       "  'Disagree': 1},\n",
       " 'Late Delivery': {'Neutral': 2,\n",
       "  'Agree': 0,\n",
       "  'Strongly agree': 3,\n",
       "  'Disagree': 1,\n",
       "  'Strongly disagree': 4},\n",
       " 'Poor Hygiene': {'Neutral': 2,\n",
       "  'Strongly agree': 3,\n",
       "  'Agree': 0,\n",
       "  'Disagree': 1,\n",
       "  'Strongly disagree': 4},\n",
       " 'Bad past experience': {'Neutral': 2,\n",
       "  'Strongly agree': 3,\n",
       "  'Agree': 0,\n",
       "  'Disagree': 1,\n",
       "  'Strongly disagree': 4},\n",
       " 'Unavailability': {'Neutral': 2,\n",
       "  'Strongly agree': 3,\n",
       "  'Agree': 0,\n",
       "  'Disagree': 1,\n",
       "  'Strongly disagree': 4},\n",
       " 'Unaffordable': {'Neutral': 2,\n",
       "  'Strongly agree': 3,\n",
       "  'Agree': 0,\n",
       "  'Disagree': 1,\n",
       "  'Strongly disagree': 4},\n",
       " 'Long delivery time': {'Agree': 0,\n",
       "  'Strongly agree': 3,\n",
       "  'Neutral': 2,\n",
       "  'Disagree': 1,\n",
       "  'Strongly disagree': 4},\n",
       " 'Delay of delivery person getting assigned': {'Agree': 0,\n",
       "  'Strongly agree': 3,\n",
       "  'Disagree': 1,\n",
       "  'Neutral': 2,\n",
       "  'Strongly disagree': 4},\n",
       " 'Delay of delivery person picking up food': {'Agree': 0,\n",
       "  'Strongly agree': 3,\n",
       "  'Neutral': 2,\n",
       "  'Disagree': 1,\n",
       "  'Strongly disagree': 4},\n",
       " 'Wrong order delivered': {'Agree': 0,\n",
       "  'Strongly agree': 3,\n",
       "  'Disagree': 1,\n",
       "  'Neutral': 2,\n",
       "  'Strongly disagree': 4},\n",
       " 'Missing item': {'Agree': 0,\n",
       "  'Strongly agree': 3,\n",
       "  'Disagree': 1,\n",
       "  'Neutral': 2,\n",
       "  'Strongly disagree': 4},\n",
       " 'Order placed by mistake': {'Agree': 0,\n",
       "  'Strongly agree': 3,\n",
       "  'Neutral': 2,\n",
       "  'Disagree': 1,\n",
       "  'Strongly disagree': 4},\n",
       " 'Influence of time': {'Yes': 2, 'No': 1, 'Maybe': 0},\n",
       " 'Order Time': {'Weekend (Sat & Sun)': 2,\n",
       "  'Anytime (Mon-Sun)': 0,\n",
       "  'Weekdays (Mon-Fri)': 1},\n",
       " 'Maximum wait time': {'30 minutes': 1,\n",
       "  '45 minutes': 2,\n",
       "  '60 minutes': 3,\n",
       "  'More than 60 minutes': 4,\n",
       "  '15 minutes': 0},\n",
       " 'Residence in busy location': {'Agree': 0,\n",
       "  'Strongly Agree': 3,\n",
       "  'Disagree': 1,\n",
       "  'Neutral': 2,\n",
       "  'Strongly disagree': 4},\n",
       " 'Google Maps Accuracy': {'Neutral': 2,\n",
       "  'Strongly Agree': 3,\n",
       "  'Agree': 0,\n",
       "  'Disagree': 1,\n",
       "  'Strongly disagree': 4},\n",
       " 'Good Road Condition': {'Neutral': 2,\n",
       "  'Disagree': 1,\n",
       "  'Agree': 0,\n",
       "  'Strongly Agree': 3,\n",
       "  'Strongly disagree': 4},\n",
       " 'Low quantity low time': {'Neutral': 2,\n",
       "  'Strongly disagree': 4,\n",
       "  'Agree': 0,\n",
       "  'Disagree': 1,\n",
       "  'Strongly Agree': 3},\n",
       " 'Delivery person ability': {'Neutral': 2,\n",
       "  'Agree': 0,\n",
       "  'Strongly Agree': 3,\n",
       "  'Disagree': 1,\n",
       "  'Strongly disagree': 4},\n",
       " 'Influence of rating': {'Yes': 2, 'Maybe': 0, 'No': 1},\n",
       " 'Less Delivery time': {'Moderately Important': 1,\n",
       "  'Very Important': 4,\n",
       "  'Important': 0,\n",
       "  'Slightly Important': 2,\n",
       "  'Unimportant': 3},\n",
       " 'High Quality of package': {'Moderately Important': 1,\n",
       "  'Very Important': 4,\n",
       "  'Important': 0,\n",
       "  'Unimportant': 3,\n",
       "  'Slightly Important': 2},\n",
       " 'Number of calls': {'Moderately Important': 1,\n",
       "  'Very Important': 4,\n",
       "  'Unimportant': 3,\n",
       "  'Important': 0,\n",
       "  'Slightly Important': 2},\n",
       " 'Politeness': {'Moderately Important': 1,\n",
       "  'Very Important': 4,\n",
       "  'Important': 0,\n",
       "  'Slightly Important': 2,\n",
       "  'Unimportant': 3},\n",
       " 'Freshness ': {'Moderately Important': 1,\n",
       "  'Very Important': 4,\n",
       "  'Important': 0,\n",
       "  'Slightly Important': 2,\n",
       "  'Unimportant': 3},\n",
       " 'Temperature': {'Moderately Important': 1,\n",
       "  'Very Important': 4,\n",
       "  'Important': 0,\n",
       "  'Slightly Important': 2,\n",
       "  'Unimportant': 3},\n",
       " 'Good Taste ': {'Moderately Important': 1,\n",
       "  'Very Important': 4,\n",
       "  'Important': 0,\n",
       "  'Slightly Important': 2,\n",
       "  'Unimportant': 3},\n",
       " 'Good Quantity': {'Moderately Important': 1,\n",
       "  'Very Important': 4,\n",
       "  'Important': 0,\n",
       "  'Slightly Important': 2,\n",
       "  'Unimportant': 3},\n",
       " 'Output': {'Yes': 1, 'No': 0}}"
      ]
     },
     "execution_count": 154,
     "metadata": {},
     "output_type": "execute_result"
    }
   ],
   "source": [
    "lbl"
   ]
  },
  {
   "cell_type": "code",
   "execution_count": 155,
   "metadata": {
    "ExecuteTime": {
     "end_time": "2021-04-09T16:41:49.222971Z",
     "start_time": "2021-04-09T16:41:49.081052Z"
    }
   },
   "outputs": [],
   "source": [
    "X=fd_dlvry[basic_f0]\n",
    "y=fd_dlvry.iloc[:,-1]\n",
    "from  imblearn.under_sampling import RandomUnderSampler\n",
    "\n",
    "nm=RandomUnderSampler()\n",
    "X,y=nm.fit_resample(X,y)"
   ]
  },
  {
   "cell_type": "code",
   "execution_count": 156,
   "metadata": {
    "ExecuteTime": {
     "end_time": "2021-04-09T16:41:49.424857Z",
     "start_time": "2021-04-09T16:41:49.227980Z"
    },
    "scrolled": true
   },
   "outputs": [
    {
     "data": {
      "text/html": [
       "<div>\n",
       "<style scoped>\n",
       "    .dataframe tbody tr th:only-of-type {\n",
       "        vertical-align: middle;\n",
       "    }\n",
       "\n",
       "    .dataframe tbody tr th {\n",
       "        vertical-align: top;\n",
       "    }\n",
       "\n",
       "    .dataframe thead th {\n",
       "        text-align: right;\n",
       "    }\n",
       "</style>\n",
       "<table border=\"1\" class=\"dataframe\">\n",
       "  <thead>\n",
       "    <tr style=\"text-align: right;\">\n",
       "      <th></th>\n",
       "      <th>Age</th>\n",
       "      <th>Ease and convenient</th>\n",
       "      <th>Time saving</th>\n",
       "      <th>More restaurant choices</th>\n",
       "      <th>Easy Payment option</th>\n",
       "      <th>More Offers and Discount</th>\n",
       "      <th>Good Food quality</th>\n",
       "      <th>Good Tracking system</th>\n",
       "      <th>Unaffordable</th>\n",
       "      <th>Maximum wait time</th>\n",
       "    </tr>\n",
       "  </thead>\n",
       "  <tbody>\n",
       "    <tr>\n",
       "      <th>0</th>\n",
       "      <td>25</td>\n",
       "      <td>3</td>\n",
       "      <td>0</td>\n",
       "      <td>3</td>\n",
       "      <td>3</td>\n",
       "      <td>3</td>\n",
       "      <td>3</td>\n",
       "      <td>3</td>\n",
       "      <td>3</td>\n",
       "      <td>2</td>\n",
       "    </tr>\n",
       "    <tr>\n",
       "      <th>1</th>\n",
       "      <td>24</td>\n",
       "      <td>0</td>\n",
       "      <td>2</td>\n",
       "      <td>3</td>\n",
       "      <td>3</td>\n",
       "      <td>3</td>\n",
       "      <td>0</td>\n",
       "      <td>0</td>\n",
       "      <td>1</td>\n",
       "      <td>2</td>\n",
       "    </tr>\n",
       "    <tr>\n",
       "      <th>2</th>\n",
       "      <td>25</td>\n",
       "      <td>3</td>\n",
       "      <td>0</td>\n",
       "      <td>3</td>\n",
       "      <td>3</td>\n",
       "      <td>3</td>\n",
       "      <td>3</td>\n",
       "      <td>3</td>\n",
       "      <td>3</td>\n",
       "      <td>2</td>\n",
       "    </tr>\n",
       "    <tr>\n",
       "      <th>3</th>\n",
       "      <td>28</td>\n",
       "      <td>1</td>\n",
       "      <td>2</td>\n",
       "      <td>1</td>\n",
       "      <td>1</td>\n",
       "      <td>1</td>\n",
       "      <td>4</td>\n",
       "      <td>2</td>\n",
       "      <td>2</td>\n",
       "      <td>3</td>\n",
       "    </tr>\n",
       "    <tr>\n",
       "      <th>4</th>\n",
       "      <td>27</td>\n",
       "      <td>0</td>\n",
       "      <td>0</td>\n",
       "      <td>1</td>\n",
       "      <td>3</td>\n",
       "      <td>4</td>\n",
       "      <td>1</td>\n",
       "      <td>3</td>\n",
       "      <td>0</td>\n",
       "      <td>2</td>\n",
       "    </tr>\n",
       "  </tbody>\n",
       "</table>\n",
       "</div>"
      ],
      "text/plain": [
       "   Age  Ease and convenient  Time saving  More restaurant choices  \\\n",
       "0   25                    3            0                        3   \n",
       "1   24                    0            2                        3   \n",
       "2   25                    3            0                        3   \n",
       "3   28                    1            2                        1   \n",
       "4   27                    0            0                        1   \n",
       "\n",
       "   Easy Payment option  More Offers and Discount  Good Food quality  \\\n",
       "0                    3                         3                  3   \n",
       "1                    3                         3                  0   \n",
       "2                    3                         3                  3   \n",
       "3                    1                         1                  4   \n",
       "4                    3                         4                  1   \n",
       "\n",
       "   Good Tracking system  Unaffordable  Maximum wait time  \n",
       "0                     3             3                  2  \n",
       "1                     0             1                  2  \n",
       "2                     3             3                  2  \n",
       "3                     2             2                  3  \n",
       "4                     3             0                  2  "
      ]
     },
     "execution_count": 156,
     "metadata": {},
     "output_type": "execute_result"
    }
   ],
   "source": [
    "X.head()"
   ]
  },
  {
   "cell_type": "code",
   "execution_count": 157,
   "metadata": {
    "ExecuteTime": {
     "end_time": "2021-04-09T16:41:49.590761Z",
     "start_time": "2021-04-09T16:41:49.428854Z"
    }
   },
   "outputs": [
    {
     "data": {
      "text/plain": [
       "(174, 10)"
      ]
     },
     "execution_count": 157,
     "metadata": {},
     "output_type": "execute_result"
    }
   ],
   "source": [
    "X.shape"
   ]
  },
  {
   "cell_type": "code",
   "execution_count": 158,
   "metadata": {
    "ExecuteTime": {
     "end_time": "2021-04-09T16:41:50.074489Z",
     "start_time": "2021-04-09T16:41:49.594759Z"
    }
   },
   "outputs": [
    {
     "data": {
      "text/plain": [
       "RandomForestClassifier(max_depth=6, min_samples_split=4)"
      ]
     },
     "execution_count": 158,
     "metadata": {},
     "output_type": "execute_result"
    }
   ],
   "source": [
    "X_train, X_test, y_train, y_test = train_test_split(X, y, test_size = 0.33)\n",
    "clf=RandomForestClassifier(max_depth=6,min_samples_split=4)\n",
    "clf.fit(X_train,y_train)"
   ]
  },
  {
   "cell_type": "code",
   "execution_count": 159,
   "metadata": {
    "ExecuteTime": {
     "end_time": "2021-04-09T16:41:50.127454Z",
     "start_time": "2021-04-09T16:41:50.078482Z"
    }
   },
   "outputs": [
    {
     "data": {
      "text/plain": [
       "0.7931034482758621"
      ]
     },
     "execution_count": 159,
     "metadata": {},
     "output_type": "execute_result"
    }
   ],
   "source": [
    "clf.score(X_test,y_test)"
   ]
  },
  {
   "cell_type": "code",
   "execution_count": 160,
   "metadata": {
    "ExecuteTime": {
     "end_time": "2021-04-09T16:41:50.228396Z",
     "start_time": "2021-04-09T16:41:50.132451Z"
    }
   },
   "outputs": [
    {
     "data": {
      "text/plain": [
       "array([0, 1, 0, 1, 0, 0, 1, 1, 0, 1, 1, 0, 0, 1, 1, 1, 0, 0, 1, 1, 1, 0,\n",
       "       1, 1, 0, 1, 1, 1, 0, 1, 1, 1, 1, 0, 1, 1, 1, 0, 1, 0, 1, 0, 1, 1,\n",
       "       0, 1, 1, 0, 1, 0, 0, 0, 0, 0, 0, 0, 1, 0], dtype=int64)"
      ]
     },
     "execution_count": 160,
     "metadata": {},
     "output_type": "execute_result"
    }
   ],
   "source": [
    "y_pred=clf.predict(X_test)\n",
    "y_pred"
   ]
  },
  {
   "cell_type": "code",
   "execution_count": 161,
   "metadata": {
    "ExecuteTime": {
     "end_time": "2021-04-09T16:41:50.335338Z",
     "start_time": "2021-04-09T16:41:50.232396Z"
    }
   },
   "outputs": [
    {
     "name": "stdout",
     "output_type": "stream",
     "text": [
      "[[19  5]\n",
      " [ 7 27]]\n"
     ]
    }
   ],
   "source": [
    "print(confusion_matrix(y_test,y_pred))"
   ]
  },
  {
   "cell_type": "code",
   "execution_count": 162,
   "metadata": {
    "ExecuteTime": {
     "end_time": "2021-04-09T16:41:50.514237Z",
     "start_time": "2021-04-09T16:41:50.339333Z"
    }
   },
   "outputs": [
    {
     "name": "stdout",
     "output_type": "stream",
     "text": [
      "              precision    recall  f1-score   support\n",
      "\n",
      "           0       0.73      0.79      0.76        24\n",
      "           1       0.84      0.79      0.82        34\n",
      "\n",
      "    accuracy                           0.79        58\n",
      "   macro avg       0.79      0.79      0.79        58\n",
      "weighted avg       0.80      0.79      0.79        58\n",
      "\n"
     ]
    }
   ],
   "source": [
    "print(classification_report(y_test,y_pred))"
   ]
  },
  {
   "cell_type": "code",
   "execution_count": 163,
   "metadata": {
    "ExecuteTime": {
     "end_time": "2021-04-09T16:41:55.224071Z",
     "start_time": "2021-04-09T16:41:50.518232Z"
    }
   },
   "outputs": [
    {
     "name": "stdout",
     "output_type": "stream",
     "text": [
      "List of possible accuracy: [0.9333333333333333, 0.9333333333333333, 0.8, 0.8, 0.8666666666666667, 0.8666666666666667, 0.9285714285714286, 0.7857142857142857, 0.9285714285714286, 0.9285714285714286, 0.9285714285714286, 0.7857142857142857]\n",
      "\n",
      "Maximum Accuracy That can be obtained from this model is: 93.33333333333333 %\n",
      "\n",
      "Minimum Accuracy: 78.57142857142857 %\n",
      "\n",
      "Average Accuracy That can be obtained from this model is:: 0.8738095238095239\n",
      "\n",
      " Median Accuracy That can be obtained from this model is:: 0.8976190476190476\n",
      "\n",
      "Standard Deviation is: 0.06164475310835361\n"
     ]
    }
   ],
   "source": [
    "lst_accu_stratified = [] \n",
    "x=0\n",
    "\n",
    "skf = StratifiedKFold(n_splits=12, shuffle=True, random_state=1) \n",
    "for train_index, test_index in skf.split(X, y): \n",
    "    x_train_fold, x_test_fold = X.loc[train_index,:], X.loc[test_index,:] \n",
    "    y_train_fold, y_test_fold = y[train_index], y[test_index] \n",
    "    clf.fit(x_train_fold, y_train_fold)\n",
    "    lst_accu_stratified.append(clf.score(x_test_fold, y_test_fold))\n",
    "   \n",
    "    \n",
    "    \n",
    "print('List of possible accuracy:', lst_accu_stratified) \n",
    "print('\\nMaximum Accuracy That can be obtained from this model is:', \n",
    "      max(lst_accu_stratified)*100, '%') \n",
    "print('\\nMinimum Accuracy:', \n",
    "      min(lst_accu_stratified)*100, '%') \n",
    "print('\\nAverage Accuracy That can be obtained from this model is::',np.mean(lst_accu_stratified)) \n",
    "print('\\n Median Accuracy That can be obtained from this model is::',np.median(lst_accu_stratified)) \n",
    "print('\\nStandard Deviation is:',np.std(lst_accu_stratified)) "
   ]
  },
  {
   "cell_type": "code",
   "execution_count": 164,
   "metadata": {
    "ExecuteTime": {
     "end_time": "2021-04-09T16:41:55.252055Z",
     "start_time": "2021-04-09T16:41:55.229066Z"
    }
   },
   "outputs": [
    {
     "name": "stdout",
     "output_type": "stream",
     "text": [
      "Age [20 24 22 27 23 21 28 25 32 30 31 26 18 19 33 29]\n",
      "Ease and convenient ['Neutral' 'Strongly agree' 'Agree' 'Strongly disagree' 'Disagree']\n",
      "Time saving ['Neutral' 'Strongly agree' 'Agree' 'Disagree' 'Strongly disagree']\n",
      "More restaurant choices ['Neutral' 'Strongly agree' 'Agree' 'Strongly disagree' 'Disagree']\n",
      "Easy Payment option ['Neutral' 'Strongly agree' 'Agree' 'Disagree' 'Strongly disagree']\n",
      "More Offers and Discount ['Neutral' 'Strongly agree' 'Agree' 'Disagree' 'Strongly disagree']\n",
      "Good Food quality ['Neutral' 'Disagree' 'Agree' 'Strongly agree' 'Strongly disagree']\n",
      "Good Tracking system ['Neutral' 'Agree' 'Strongly agree' 'Disagree' 'Strongly disagree']\n",
      "Unaffordable ['Neutral' 'Strongly agree' 'Agree' 'Disagree' 'Strongly disagree']\n",
      "Maximum wait time ['30 minutes' '45 minutes' '60 minutes' 'More than 60 minutes'\n",
      " '15 minutes']\n"
     ]
    }
   ],
   "source": [
    "for i in basic_f0:\n",
    "    print(i,fd_ori[i].unique())"
   ]
  },
  {
   "cell_type": "code",
   "execution_count": 165,
   "metadata": {
    "ExecuteTime": {
     "end_time": "2021-04-09T16:41:55.338005Z",
     "start_time": "2021-04-09T16:41:55.256052Z"
    }
   },
   "outputs": [
    {
     "data": {
      "text/plain": [
       "['Age',\n",
       " 'Ease and convenient',\n",
       " 'Time saving',\n",
       " 'More restaurant choices',\n",
       " 'Easy Payment option',\n",
       " 'More Offers and Discount',\n",
       " 'Good Food quality',\n",
       " 'Good Tracking system',\n",
       " 'Unaffordable',\n",
       " 'Maximum wait time']"
      ]
     },
     "execution_count": 165,
     "metadata": {},
     "output_type": "execute_result"
    }
   ],
   "source": [
    "basic_f0"
   ]
  },
  {
   "cell_type": "code",
   "execution_count": 166,
   "metadata": {
    "ExecuteTime": {
     "end_time": "2021-04-09T16:41:55.468930Z",
     "start_time": "2021-04-09T16:41:55.344000Z"
    }
   },
   "outputs": [
    {
     "data": {
      "text/plain": [
       "{'Age': {20: 20,\n",
       "  24: 24,\n",
       "  22: 22,\n",
       "  27: 27,\n",
       "  23: 23,\n",
       "  21: 21,\n",
       "  28: 28,\n",
       "  25: 25,\n",
       "  32: 32,\n",
       "  30: 30,\n",
       "  31: 31,\n",
       "  26: 26,\n",
       "  18: 18,\n",
       "  19: 19,\n",
       "  33: 33,\n",
       "  29: 29},\n",
       " 'Gender': {'Female': 0, 'Male': 1},\n",
       " 'Marital Status': {'Single': 2, 'Married': 0, 'Prefer not to say': 1},\n",
       " 'Occupation': {'Student': 3,\n",
       "  'Employee': 0,\n",
       "  'Self Employeed': 2,\n",
       "  'House wife': 1},\n",
       " 'Monthly Income': {'No Income': 4,\n",
       "  'Below Rs.10000': 2,\n",
       "  'More than 50000': 3,\n",
       "  '10001 to 25000': 0,\n",
       "  '25001 to 50000': 1},\n",
       " 'Educational Qualifications': {'Post Graduate': 2,\n",
       "  'Graduate': 0,\n",
       "  'Ph.D': 1,\n",
       "  'Uneducated': 4,\n",
       "  'School': 3},\n",
       " 'Family size': {4: 4, 3: 3, 6: 6, 2: 2, 5: 5, 1: 1},\n",
       " 'Medium (P1)': {'Food delivery apps': 1,\n",
       "  'Walk-in': 2,\n",
       "  'Direct call': 0,\n",
       "  'Web browser': 3},\n",
       " 'Medium (P2)': {' Web browser': 2, ' Direct call': 0, ' Walk-in': 1},\n",
       " 'Meal(P1)': {'Breakfast': 0, 'Snacks': 3, 'Lunch': 2, 'Dinner': 1},\n",
       " 'Meal(P2)': {' Lunch': 1, ' Dinner': 0, ' Snacks': 2},\n",
       " 'Perference(P1)': {'Non Veg foods (Lunch / Dinner)': 1,\n",
       "  'Veg foods (Breakfast / Lunch / Dinner)': 3,\n",
       "  'Bakery items (snacks)': 0,\n",
       "  'Sweets': 2},\n",
       " 'Perference(P2)': {' Bakery items (snacks)': 0,\n",
       "  ' Veg foods (Breakfast / Lunch / Dinner)': 3,\n",
       "  ' Ice cream / Cool drinks': 1,\n",
       "  ' Sweets': 2},\n",
       " 'Ease and convenient': {'Neutral': 2,\n",
       "  'Strongly agree': 3,\n",
       "  'Agree': 0,\n",
       "  'Strongly disagree': 4,\n",
       "  'Disagree': 1},\n",
       " 'Time saving': {'Neutral': 2,\n",
       "  'Strongly agree': 3,\n",
       "  'Agree': 0,\n",
       "  'Disagree': 1,\n",
       "  'Strongly disagree': 4},\n",
       " 'More restaurant choices': {'Neutral': 2,\n",
       "  'Strongly agree': 3,\n",
       "  'Agree': 0,\n",
       "  'Strongly disagree': 4,\n",
       "  'Disagree': 1},\n",
       " 'Easy Payment option': {'Neutral': 2,\n",
       "  'Strongly agree': 3,\n",
       "  'Agree': 0,\n",
       "  'Disagree': 1,\n",
       "  'Strongly disagree': 4},\n",
       " 'More Offers and Discount': {'Neutral': 2,\n",
       "  'Strongly agree': 3,\n",
       "  'Agree': 0,\n",
       "  'Disagree': 1,\n",
       "  'Strongly disagree': 4},\n",
       " 'Good Food quality': {'Neutral': 2,\n",
       "  'Disagree': 1,\n",
       "  'Agree': 0,\n",
       "  'Strongly agree': 3,\n",
       "  'Strongly disagree': 4},\n",
       " 'Good Tracking system': {'Neutral': 2,\n",
       "  'Agree': 0,\n",
       "  'Strongly agree': 3,\n",
       "  'Disagree': 1,\n",
       "  'Strongly disagree': 4},\n",
       " 'Self Cooking': {'Neutral': 2,\n",
       "  'Strongly agree': 3,\n",
       "  'Disagree': 1,\n",
       "  'Agree': 0,\n",
       "  'Strongly disagree': 4},\n",
       " 'Health Concern': {'Neutral': 2,\n",
       "  'Strongly agree': 3,\n",
       "  'Agree': 0,\n",
       "  'Strongly disagree': 4,\n",
       "  'Disagree': 1},\n",
       " 'Late Delivery': {'Neutral': 2,\n",
       "  'Agree': 0,\n",
       "  'Strongly agree': 3,\n",
       "  'Disagree': 1,\n",
       "  'Strongly disagree': 4},\n",
       " 'Poor Hygiene': {'Neutral': 2,\n",
       "  'Strongly agree': 3,\n",
       "  'Agree': 0,\n",
       "  'Disagree': 1,\n",
       "  'Strongly disagree': 4},\n",
       " 'Bad past experience': {'Neutral': 2,\n",
       "  'Strongly agree': 3,\n",
       "  'Agree': 0,\n",
       "  'Disagree': 1,\n",
       "  'Strongly disagree': 4},\n",
       " 'Unavailability': {'Neutral': 2,\n",
       "  'Strongly agree': 3,\n",
       "  'Agree': 0,\n",
       "  'Disagree': 1,\n",
       "  'Strongly disagree': 4},\n",
       " 'Unaffordable': {'Neutral': 2,\n",
       "  'Strongly agree': 3,\n",
       "  'Agree': 0,\n",
       "  'Disagree': 1,\n",
       "  'Strongly disagree': 4},\n",
       " 'Long delivery time': {'Agree': 0,\n",
       "  'Strongly agree': 3,\n",
       "  'Neutral': 2,\n",
       "  'Disagree': 1,\n",
       "  'Strongly disagree': 4},\n",
       " 'Delay of delivery person getting assigned': {'Agree': 0,\n",
       "  'Strongly agree': 3,\n",
       "  'Disagree': 1,\n",
       "  'Neutral': 2,\n",
       "  'Strongly disagree': 4},\n",
       " 'Delay of delivery person picking up food': {'Agree': 0,\n",
       "  'Strongly agree': 3,\n",
       "  'Neutral': 2,\n",
       "  'Disagree': 1,\n",
       "  'Strongly disagree': 4},\n",
       " 'Wrong order delivered': {'Agree': 0,\n",
       "  'Strongly agree': 3,\n",
       "  'Disagree': 1,\n",
       "  'Neutral': 2,\n",
       "  'Strongly disagree': 4},\n",
       " 'Missing item': {'Agree': 0,\n",
       "  'Strongly agree': 3,\n",
       "  'Disagree': 1,\n",
       "  'Neutral': 2,\n",
       "  'Strongly disagree': 4},\n",
       " 'Order placed by mistake': {'Agree': 0,\n",
       "  'Strongly agree': 3,\n",
       "  'Neutral': 2,\n",
       "  'Disagree': 1,\n",
       "  'Strongly disagree': 4},\n",
       " 'Influence of time': {'Yes': 2, 'No': 1, 'Maybe': 0},\n",
       " 'Order Time': {'Weekend (Sat & Sun)': 2,\n",
       "  'Anytime (Mon-Sun)': 0,\n",
       "  'Weekdays (Mon-Fri)': 1},\n",
       " 'Maximum wait time': {'30 minutes': 1,\n",
       "  '45 minutes': 2,\n",
       "  '60 minutes': 3,\n",
       "  'More than 60 minutes': 4,\n",
       "  '15 minutes': 0},\n",
       " 'Residence in busy location': {'Agree': 0,\n",
       "  'Strongly Agree': 3,\n",
       "  'Disagree': 1,\n",
       "  'Neutral': 2,\n",
       "  'Strongly disagree': 4},\n",
       " 'Google Maps Accuracy': {'Neutral': 2,\n",
       "  'Strongly Agree': 3,\n",
       "  'Agree': 0,\n",
       "  'Disagree': 1,\n",
       "  'Strongly disagree': 4},\n",
       " 'Good Road Condition': {'Neutral': 2,\n",
       "  'Disagree': 1,\n",
       "  'Agree': 0,\n",
       "  'Strongly Agree': 3,\n",
       "  'Strongly disagree': 4},\n",
       " 'Low quantity low time': {'Neutral': 2,\n",
       "  'Strongly disagree': 4,\n",
       "  'Agree': 0,\n",
       "  'Disagree': 1,\n",
       "  'Strongly Agree': 3},\n",
       " 'Delivery person ability': {'Neutral': 2,\n",
       "  'Agree': 0,\n",
       "  'Strongly Agree': 3,\n",
       "  'Disagree': 1,\n",
       "  'Strongly disagree': 4},\n",
       " 'Influence of rating': {'Yes': 2, 'Maybe': 0, 'No': 1},\n",
       " 'Less Delivery time': {'Moderately Important': 1,\n",
       "  'Very Important': 4,\n",
       "  'Important': 0,\n",
       "  'Slightly Important': 2,\n",
       "  'Unimportant': 3},\n",
       " 'High Quality of package': {'Moderately Important': 1,\n",
       "  'Very Important': 4,\n",
       "  'Important': 0,\n",
       "  'Unimportant': 3,\n",
       "  'Slightly Important': 2},\n",
       " 'Number of calls': {'Moderately Important': 1,\n",
       "  'Very Important': 4,\n",
       "  'Unimportant': 3,\n",
       "  'Important': 0,\n",
       "  'Slightly Important': 2},\n",
       " 'Politeness': {'Moderately Important': 1,\n",
       "  'Very Important': 4,\n",
       "  'Important': 0,\n",
       "  'Slightly Important': 2,\n",
       "  'Unimportant': 3},\n",
       " 'Freshness ': {'Moderately Important': 1,\n",
       "  'Very Important': 4,\n",
       "  'Important': 0,\n",
       "  'Slightly Important': 2,\n",
       "  'Unimportant': 3},\n",
       " 'Temperature': {'Moderately Important': 1,\n",
       "  'Very Important': 4,\n",
       "  'Important': 0,\n",
       "  'Slightly Important': 2,\n",
       "  'Unimportant': 3},\n",
       " 'Good Taste ': {'Moderately Important': 1,\n",
       "  'Very Important': 4,\n",
       "  'Important': 0,\n",
       "  'Slightly Important': 2,\n",
       "  'Unimportant': 3},\n",
       " 'Good Quantity': {'Moderately Important': 1,\n",
       "  'Very Important': 4,\n",
       "  'Important': 0,\n",
       "  'Slightly Important': 2,\n",
       "  'Unimportant': 3},\n",
       " 'Output': {'Yes': 1, 'No': 0}}"
      ]
     },
     "execution_count": 166,
     "metadata": {},
     "output_type": "execute_result"
    }
   ],
   "source": [
    "lbl"
   ]
  },
  {
   "cell_type": "code",
   "execution_count": 167,
   "metadata": {
    "ExecuteTime": {
     "end_time": "2021-04-09T16:41:55.564878Z",
     "start_time": "2021-04-09T16:41:55.472928Z"
    }
   },
   "outputs": [],
   "source": [
    "import pickle\n",
    "pickle.dump(clf, open('model.pkl','wb'))\n"
   ]
  },
  {
   "cell_type": "code",
   "execution_count": 168,
   "metadata": {
    "ExecuteTime": {
     "end_time": "2021-04-09T16:41:55.837737Z",
     "start_time": "2021-04-09T16:41:55.568873Z"
    }
   },
   "outputs": [],
   "source": [
    "model = pickle.load(open('model.pkl','rb'))\n"
   ]
  },
  {
   "cell_type": "code",
   "execution_count": 169,
   "metadata": {
    "ExecuteTime": {
     "end_time": "2021-04-09T16:41:55.886693Z",
     "start_time": "2021-04-09T16:41:55.841717Z"
    }
   },
   "outputs": [
    {
     "data": {
      "text/plain": [
       "0.8019783294388556"
      ]
     },
     "execution_count": 169,
     "metadata": {},
     "output_type": "execute_result"
    }
   ],
   "source": [
    "clf.predict_proba(np.array([20,2,3,4,3,1,1,3,4,5]).reshape(1,-1))[0][1]"
   ]
  },
  {
   "cell_type": "code",
   "execution_count": 170,
   "metadata": {
    "ExecuteTime": {
     "end_time": "2021-04-09T16:41:55.979638Z",
     "start_time": "2021-04-09T16:41:55.890688Z"
    }
   },
   "outputs": [],
   "source": [
    "\n",
    "# import graphviz\n",
    "# import sklearn.tree as tree\n",
    "# # DOT data\n",
    "# dot_data = tree.export_graphviz(clf, out_file=None, \n",
    "#                                 feature_names=X.columns,  \n",
    "#                                 class_names='01',\n",
    "#                                 filled=True)\n",
    "\n",
    "# # # Draw graph\n",
    "# graph = graphviz.Source(dot_data,format=\"png\") \n",
    "# graph.render('food_final')"
   ]
  },
  {
   "cell_type": "markdown",
   "metadata": {},
   "source": [
    "## XGBOOST for practicing"
   ]
  },
  {
   "cell_type": "code",
   "execution_count": 171,
   "metadata": {
    "ExecuteTime": {
     "end_time": "2021-04-09T16:41:56.191535Z",
     "start_time": "2021-04-09T16:41:55.983637Z"
    }
   },
   "outputs": [],
   "source": [
    "from sklearn.model_selection import StratifiedKFold \n",
    "def validation(clf,X,y):\n",
    "    lst_accu_stratified = [] \n",
    "    x=0\n",
    "    skf = StratifiedKFold(n_splits=12, shuffle=True, random_state=1) \n",
    "    for train_index, test_index in skf.split(X, y): \n",
    "        x_train_fold, x_test_fold = X.loc[train_index,:], X.loc[test_index,:] \n",
    "        y_train_fold, y_test_fold = y[train_index], y[test_index] \n",
    "        clf.fit(x_train_fold, y_train_fold)\n",
    "        y_pre=clf.predict(X_test)\n",
    "        print(classification_report(y_test,y_pre))\n",
    "        lst_accu_stratified.append(clf.score(x_test_fold, y_test_fold))\n",
    "\n",
    "\n",
    "\n",
    "    print('List of possible accuracy:', lst_accu_stratified) \n",
    "    print('\\nMaximum Accuracy That can be obtained from this model is:', \n",
    "          max(lst_accu_stratified)*100, '%') \n",
    "    print('\\nMinimum Accuracy:', \n",
    "          min(lst_accu_stratified)*100, '%') \n",
    "    print('\\nAverage Accuracy That can be obtained from this model is::',np.mean(lst_accu_stratified)) \n",
    "    print('\\n Median Accuracy That can be obtained from this model is::',np.median(lst_accu_stratified)) \n",
    "    print('\\nStandard Deviation is:',np.std(lst_accu_stratified)) \n",
    "    \n",
    "    return None"
   ]
  },
  {
   "cell_type": "code",
   "execution_count": 172,
   "metadata": {
    "ExecuteTime": {
     "end_time": "2021-04-09T16:41:56.943899Z",
     "start_time": "2021-04-09T16:41:56.195515Z"
    }
   },
   "outputs": [
    {
     "name": "stdout",
     "output_type": "stream",
     "text": [
      "[22:11:56] WARNING: C:/Users/Administrator/workspace/xgboost-win64_release_1.3.0/src/learner.cc:1061: Starting in XGBoost 1.3.0, the default evaluation metric used with the objective 'binary:logistic' was changed from 'error' to 'logloss'. Explicitly set eval_metric if you'd like to restore the old behavior.\n"
     ]
    },
    {
     "data": {
      "text/plain": [
       "0.7586206896551724"
      ]
     },
     "execution_count": 172,
     "metadata": {},
     "output_type": "execute_result"
    }
   ],
   "source": [
    "from numpy import loadtxt\n",
    "from xgboost import XGBClassifier\n",
    "from sklearn.model_selection import train_test_split\n",
    "clf=XGBClassifier(max_depth=4)\n",
    "clf.fit(X_train,y_train)\n",
    "clf.score(X_test,y_test)"
   ]
  },
  {
   "cell_type": "code",
   "execution_count": 173,
   "metadata": {
    "ExecuteTime": {
     "end_time": "2021-04-09T16:41:56.973881Z",
     "start_time": "2021-04-09T16:41:56.948895Z"
    }
   },
   "outputs": [
    {
     "name": "stdout",
     "output_type": "stream",
     "text": [
      "              precision    recall  f1-score   support\n",
      "\n",
      "           0       0.71      0.71      0.71        24\n",
      "           1       0.79      0.79      0.79        34\n",
      "\n",
      "    accuracy                           0.76        58\n",
      "   macro avg       0.75      0.75      0.75        58\n",
      "weighted avg       0.76      0.76      0.76        58\n",
      "\n"
     ]
    }
   ],
   "source": [
    "y_pre=clf.predict(X_test)\n",
    "\n",
    "\n",
    "from sklearn.metrics import classification_report\n",
    "print(classification_report(y_test,y_pre))"
   ]
  },
  {
   "cell_type": "markdown",
   "metadata": {},
   "source": [
    "### More Experiment  "
   ]
  },
  {
   "cell_type": "code",
   "execution_count": 174,
   "metadata": {
    "ExecuteTime": {
     "end_time": "2021-04-09T16:41:57.171769Z",
     "start_time": "2021-04-09T16:41:56.978880Z"
    }
   },
   "outputs": [
    {
     "data": {
      "text/html": [
       "<div>\n",
       "<style scoped>\n",
       "    .dataframe tbody tr th:only-of-type {\n",
       "        vertical-align: middle;\n",
       "    }\n",
       "\n",
       "    .dataframe tbody tr th {\n",
       "        vertical-align: top;\n",
       "    }\n",
       "\n",
       "    .dataframe thead th {\n",
       "        text-align: right;\n",
       "    }\n",
       "</style>\n",
       "<table border=\"1\" class=\"dataframe\">\n",
       "  <thead>\n",
       "    <tr style=\"text-align: right;\">\n",
       "      <th></th>\n",
       "      <th>Age</th>\n",
       "      <th>Gender</th>\n",
       "      <th>Marital Status</th>\n",
       "      <th>Occupation</th>\n",
       "      <th>Monthly Income</th>\n",
       "      <th>Educational Qualifications</th>\n",
       "      <th>Family size</th>\n",
       "      <th>Medium (P1)</th>\n",
       "      <th>Medium (P2)</th>\n",
       "      <th>Meal(P1)</th>\n",
       "      <th>...</th>\n",
       "      <th>Influence of rating</th>\n",
       "      <th>Less Delivery time</th>\n",
       "      <th>High Quality of package</th>\n",
       "      <th>Number of calls</th>\n",
       "      <th>Politeness</th>\n",
       "      <th>Freshness</th>\n",
       "      <th>Temperature</th>\n",
       "      <th>Good Taste</th>\n",
       "      <th>Good Quantity</th>\n",
       "      <th>Output</th>\n",
       "    </tr>\n",
       "  </thead>\n",
       "  <tbody>\n",
       "    <tr>\n",
       "      <th>0</th>\n",
       "      <td>20</td>\n",
       "      <td>0</td>\n",
       "      <td>2</td>\n",
       "      <td>3</td>\n",
       "      <td>4</td>\n",
       "      <td>2</td>\n",
       "      <td>4</td>\n",
       "      <td>1</td>\n",
       "      <td>2</td>\n",
       "      <td>0</td>\n",
       "      <td>...</td>\n",
       "      <td>2</td>\n",
       "      <td>1</td>\n",
       "      <td>1</td>\n",
       "      <td>1</td>\n",
       "      <td>1</td>\n",
       "      <td>1</td>\n",
       "      <td>1</td>\n",
       "      <td>1</td>\n",
       "      <td>1</td>\n",
       "      <td>1</td>\n",
       "    </tr>\n",
       "    <tr>\n",
       "      <th>1</th>\n",
       "      <td>24</td>\n",
       "      <td>0</td>\n",
       "      <td>2</td>\n",
       "      <td>3</td>\n",
       "      <td>2</td>\n",
       "      <td>0</td>\n",
       "      <td>3</td>\n",
       "      <td>1</td>\n",
       "      <td>2</td>\n",
       "      <td>3</td>\n",
       "      <td>...</td>\n",
       "      <td>2</td>\n",
       "      <td>4</td>\n",
       "      <td>4</td>\n",
       "      <td>4</td>\n",
       "      <td>4</td>\n",
       "      <td>4</td>\n",
       "      <td>4</td>\n",
       "      <td>4</td>\n",
       "      <td>4</td>\n",
       "      <td>1</td>\n",
       "    </tr>\n",
       "    <tr>\n",
       "      <th>2</th>\n",
       "      <td>22</td>\n",
       "      <td>1</td>\n",
       "      <td>2</td>\n",
       "      <td>3</td>\n",
       "      <td>2</td>\n",
       "      <td>2</td>\n",
       "      <td>3</td>\n",
       "      <td>1</td>\n",
       "      <td>0</td>\n",
       "      <td>2</td>\n",
       "      <td>...</td>\n",
       "      <td>2</td>\n",
       "      <td>0</td>\n",
       "      <td>4</td>\n",
       "      <td>1</td>\n",
       "      <td>4</td>\n",
       "      <td>4</td>\n",
       "      <td>0</td>\n",
       "      <td>4</td>\n",
       "      <td>1</td>\n",
       "      <td>1</td>\n",
       "    </tr>\n",
       "    <tr>\n",
       "      <th>3</th>\n",
       "      <td>22</td>\n",
       "      <td>0</td>\n",
       "      <td>2</td>\n",
       "      <td>3</td>\n",
       "      <td>4</td>\n",
       "      <td>0</td>\n",
       "      <td>6</td>\n",
       "      <td>1</td>\n",
       "      <td>1</td>\n",
       "      <td>3</td>\n",
       "      <td>...</td>\n",
       "      <td>2</td>\n",
       "      <td>4</td>\n",
       "      <td>0</td>\n",
       "      <td>1</td>\n",
       "      <td>4</td>\n",
       "      <td>4</td>\n",
       "      <td>4</td>\n",
       "      <td>4</td>\n",
       "      <td>0</td>\n",
       "      <td>1</td>\n",
       "    </tr>\n",
       "    <tr>\n",
       "      <th>4</th>\n",
       "      <td>22</td>\n",
       "      <td>1</td>\n",
       "      <td>2</td>\n",
       "      <td>3</td>\n",
       "      <td>2</td>\n",
       "      <td>2</td>\n",
       "      <td>4</td>\n",
       "      <td>2</td>\n",
       "      <td>0</td>\n",
       "      <td>2</td>\n",
       "      <td>...</td>\n",
       "      <td>2</td>\n",
       "      <td>0</td>\n",
       "      <td>0</td>\n",
       "      <td>1</td>\n",
       "      <td>0</td>\n",
       "      <td>0</td>\n",
       "      <td>0</td>\n",
       "      <td>4</td>\n",
       "      <td>4</td>\n",
       "      <td>1</td>\n",
       "    </tr>\n",
       "  </tbody>\n",
       "</table>\n",
       "<p>5 rows × 51 columns</p>\n",
       "</div>"
      ],
      "text/plain": [
       "   Age  Gender  Marital Status  Occupation  Monthly Income  \\\n",
       "0   20       0               2           3               4   \n",
       "1   24       0               2           3               2   \n",
       "2   22       1               2           3               2   \n",
       "3   22       0               2           3               4   \n",
       "4   22       1               2           3               2   \n",
       "\n",
       "   Educational Qualifications  Family size  Medium (P1)  Medium (P2)  \\\n",
       "0                           2            4            1            2   \n",
       "1                           0            3            1            2   \n",
       "2                           2            3            1            0   \n",
       "3                           0            6            1            1   \n",
       "4                           2            4            2            0   \n",
       "\n",
       "   Meal(P1)  ...  Influence of rating  Less Delivery time  \\\n",
       "0         0  ...                    2                   1   \n",
       "1         3  ...                    2                   4   \n",
       "2         2  ...                    2                   0   \n",
       "3         3  ...                    2                   4   \n",
       "4         2  ...                    2                   0   \n",
       "\n",
       "   High Quality of package  Number of calls  Politeness  Freshness   \\\n",
       "0                        1                1           1           1   \n",
       "1                        4                4           4           4   \n",
       "2                        4                1           4           4   \n",
       "3                        0                1           4           4   \n",
       "4                        0                1           0           0   \n",
       "\n",
       "   Temperature  Good Taste   Good Quantity  Output  \n",
       "0            1            1              1       1  \n",
       "1            4            4              4       1  \n",
       "2            0            4              1       1  \n",
       "3            4            4              0       1  \n",
       "4            0            4              4       1  \n",
       "\n",
       "[5 rows x 51 columns]"
      ]
     },
     "execution_count": 174,
     "metadata": {},
     "output_type": "execute_result"
    }
   ],
   "source": [
    "fd_dlvry.head()"
   ]
  },
  {
   "cell_type": "code",
   "execution_count": 6,
   "metadata": {
    "ExecuteTime": {
     "end_time": "2021-05-09T03:28:05.659285Z",
     "start_time": "2021-05-09T03:28:05.643296Z"
    }
   },
   "outputs": [
    {
     "ename": "NameError",
     "evalue": "name 'fd_dlvry' is not defined",
     "output_type": "error",
     "traceback": [
      "\u001b[1;31m---------------------------------------------------------------------------\u001b[0m",
      "\u001b[1;31mNameError\u001b[0m                                 Traceback (most recent call last)",
      "\u001b[1;32m<ipython-input-6-45e99985faa6>\u001b[0m in \u001b[0;36m<module>\u001b[1;34m\u001b[0m\n\u001b[1;32m----> 1\u001b[1;33m \u001b[0mfd_dlvry\u001b[0m\u001b[1;33m.\u001b[0m\u001b[0mcolumns\u001b[0m\u001b[1;33m\u001b[0m\u001b[1;33m\u001b[0m\u001b[0m\n\u001b[0m",
      "\u001b[1;31mNameError\u001b[0m: name 'fd_dlvry' is not defined"
     ]
    }
   ],
   "source": [
    "fd_dlvry.columns"
   ]
  },
  {
   "cell_type": "code",
   "execution_count": 176,
   "metadata": {
    "ExecuteTime": {
     "end_time": "2021-04-09T16:41:57.547573Z",
     "start_time": "2021-04-09T16:41:57.394642Z"
    }
   },
   "outputs": [],
   "source": [
    "fd_dlvry=pd.read_csv('../../data/Banglore_food_delivery/onlinedeliverydata.csv')"
   ]
  },
  {
   "cell_type": "code",
   "execution_count": 177,
   "metadata": {
    "ExecuteTime": {
     "end_time": "2021-04-09T16:41:57.694636Z",
     "start_time": "2021-04-09T16:41:57.550555Z"
    }
   },
   "outputs": [
    {
     "data": {
      "text/html": [
       "<div>\n",
       "<style scoped>\n",
       "    .dataframe tbody tr th:only-of-type {\n",
       "        vertical-align: middle;\n",
       "    }\n",
       "\n",
       "    .dataframe tbody tr th {\n",
       "        vertical-align: top;\n",
       "    }\n",
       "\n",
       "    .dataframe thead th {\n",
       "        text-align: right;\n",
       "    }\n",
       "</style>\n",
       "<table border=\"1\" class=\"dataframe\">\n",
       "  <thead>\n",
       "    <tr style=\"text-align: right;\">\n",
       "      <th></th>\n",
       "      <th>Age</th>\n",
       "      <th>Gender</th>\n",
       "      <th>Marital Status</th>\n",
       "      <th>Occupation</th>\n",
       "      <th>Monthly Income</th>\n",
       "      <th>Educational Qualifications</th>\n",
       "      <th>Family size</th>\n",
       "      <th>latitude</th>\n",
       "      <th>longitude</th>\n",
       "      <th>Pin code</th>\n",
       "      <th>...</th>\n",
       "      <th>Less Delivery time</th>\n",
       "      <th>High Quality of package</th>\n",
       "      <th>Number of calls</th>\n",
       "      <th>Politeness</th>\n",
       "      <th>Freshness</th>\n",
       "      <th>Temperature</th>\n",
       "      <th>Good Taste</th>\n",
       "      <th>Good Quantity</th>\n",
       "      <th>Output</th>\n",
       "      <th>Reviews</th>\n",
       "    </tr>\n",
       "  </thead>\n",
       "  <tbody>\n",
       "    <tr>\n",
       "      <th>0</th>\n",
       "      <td>20</td>\n",
       "      <td>Female</td>\n",
       "      <td>Single</td>\n",
       "      <td>Student</td>\n",
       "      <td>No Income</td>\n",
       "      <td>Post Graduate</td>\n",
       "      <td>4</td>\n",
       "      <td>12.9766</td>\n",
       "      <td>77.5993</td>\n",
       "      <td>560001</td>\n",
       "      <td>...</td>\n",
       "      <td>Moderately Important</td>\n",
       "      <td>Moderately Important</td>\n",
       "      <td>Moderately Important</td>\n",
       "      <td>Moderately Important</td>\n",
       "      <td>Moderately Important</td>\n",
       "      <td>Moderately Important</td>\n",
       "      <td>Moderately Important</td>\n",
       "      <td>Moderately Important</td>\n",
       "      <td>Yes</td>\n",
       "      <td>Nil\\n</td>\n",
       "    </tr>\n",
       "    <tr>\n",
       "      <th>1</th>\n",
       "      <td>24</td>\n",
       "      <td>Female</td>\n",
       "      <td>Single</td>\n",
       "      <td>Student</td>\n",
       "      <td>Below Rs.10000</td>\n",
       "      <td>Graduate</td>\n",
       "      <td>3</td>\n",
       "      <td>12.9770</td>\n",
       "      <td>77.5773</td>\n",
       "      <td>560009</td>\n",
       "      <td>...</td>\n",
       "      <td>Very Important</td>\n",
       "      <td>Very Important</td>\n",
       "      <td>Very Important</td>\n",
       "      <td>Very Important</td>\n",
       "      <td>Very Important</td>\n",
       "      <td>Very Important</td>\n",
       "      <td>Very Important</td>\n",
       "      <td>Very Important</td>\n",
       "      <td>Yes</td>\n",
       "      <td>Nil</td>\n",
       "    </tr>\n",
       "    <tr>\n",
       "      <th>2</th>\n",
       "      <td>22</td>\n",
       "      <td>Male</td>\n",
       "      <td>Single</td>\n",
       "      <td>Student</td>\n",
       "      <td>Below Rs.10000</td>\n",
       "      <td>Post Graduate</td>\n",
       "      <td>3</td>\n",
       "      <td>12.9551</td>\n",
       "      <td>77.6593</td>\n",
       "      <td>560017</td>\n",
       "      <td>...</td>\n",
       "      <td>Important</td>\n",
       "      <td>Very Important</td>\n",
       "      <td>Moderately Important</td>\n",
       "      <td>Very Important</td>\n",
       "      <td>Very Important</td>\n",
       "      <td>Important</td>\n",
       "      <td>Very Important</td>\n",
       "      <td>Moderately Important</td>\n",
       "      <td>Yes</td>\n",
       "      <td>Many a times payment gateways are an issue, so...</td>\n",
       "    </tr>\n",
       "    <tr>\n",
       "      <th>3</th>\n",
       "      <td>22</td>\n",
       "      <td>Female</td>\n",
       "      <td>Single</td>\n",
       "      <td>Student</td>\n",
       "      <td>No Income</td>\n",
       "      <td>Graduate</td>\n",
       "      <td>6</td>\n",
       "      <td>12.9473</td>\n",
       "      <td>77.5616</td>\n",
       "      <td>560019</td>\n",
       "      <td>...</td>\n",
       "      <td>Very Important</td>\n",
       "      <td>Important</td>\n",
       "      <td>Moderately Important</td>\n",
       "      <td>Very Important</td>\n",
       "      <td>Very Important</td>\n",
       "      <td>Very Important</td>\n",
       "      <td>Very Important</td>\n",
       "      <td>Important</td>\n",
       "      <td>Yes</td>\n",
       "      <td>nil</td>\n",
       "    </tr>\n",
       "    <tr>\n",
       "      <th>4</th>\n",
       "      <td>22</td>\n",
       "      <td>Male</td>\n",
       "      <td>Single</td>\n",
       "      <td>Student</td>\n",
       "      <td>Below Rs.10000</td>\n",
       "      <td>Post Graduate</td>\n",
       "      <td>4</td>\n",
       "      <td>12.9850</td>\n",
       "      <td>77.5533</td>\n",
       "      <td>560010</td>\n",
       "      <td>...</td>\n",
       "      <td>Important</td>\n",
       "      <td>Important</td>\n",
       "      <td>Moderately Important</td>\n",
       "      <td>Important</td>\n",
       "      <td>Important</td>\n",
       "      <td>Important</td>\n",
       "      <td>Very Important</td>\n",
       "      <td>Very Important</td>\n",
       "      <td>Yes</td>\n",
       "      <td>NIL</td>\n",
       "    </tr>\n",
       "  </tbody>\n",
       "</table>\n",
       "<p>5 rows × 55 columns</p>\n",
       "</div>"
      ],
      "text/plain": [
       "   Age  Gender Marital Status Occupation  Monthly Income  \\\n",
       "0   20  Female         Single    Student       No Income   \n",
       "1   24  Female         Single    Student  Below Rs.10000   \n",
       "2   22    Male         Single    Student  Below Rs.10000   \n",
       "3   22  Female         Single    Student       No Income   \n",
       "4   22    Male         Single    Student  Below Rs.10000   \n",
       "\n",
       "  Educational Qualifications  Family size  latitude  longitude  Pin code  ...  \\\n",
       "0              Post Graduate            4   12.9766    77.5993    560001  ...   \n",
       "1                   Graduate            3   12.9770    77.5773    560009  ...   \n",
       "2              Post Graduate            3   12.9551    77.6593    560017  ...   \n",
       "3                   Graduate            6   12.9473    77.5616    560019  ...   \n",
       "4              Post Graduate            4   12.9850    77.5533    560010  ...   \n",
       "\n",
       "     Less Delivery time High Quality of package       Number of calls  \\\n",
       "0  Moderately Important    Moderately Important  Moderately Important   \n",
       "1        Very Important          Very Important        Very Important   \n",
       "2             Important          Very Important  Moderately Important   \n",
       "3        Very Important               Important  Moderately Important   \n",
       "4             Important               Important  Moderately Important   \n",
       "\n",
       "             Politeness            Freshness            Temperature  \\\n",
       "0  Moderately Important  Moderately Important  Moderately Important   \n",
       "1        Very Important        Very Important        Very Important   \n",
       "2        Very Important        Very Important             Important   \n",
       "3        Very Important        Very Important        Very Important   \n",
       "4             Important             Important             Important   \n",
       "\n",
       "            Good Taste          Good Quantity Output  \\\n",
       "0  Moderately Important  Moderately Important    Yes   \n",
       "1        Very Important        Very Important    Yes   \n",
       "2        Very Important  Moderately Important    Yes   \n",
       "3        Very Important             Important    Yes   \n",
       "4        Very Important        Very Important    Yes   \n",
       "\n",
       "                                             Reviews  \n",
       "0                                              Nil\\n  \n",
       "1                                                Nil  \n",
       "2  Many a times payment gateways are an issue, so...  \n",
       "3                                                nil  \n",
       "4                                                NIL  \n",
       "\n",
       "[5 rows x 55 columns]"
      ]
     },
     "execution_count": 177,
     "metadata": {},
     "output_type": "execute_result"
    }
   ],
   "source": [
    "fd_dlvry.head()"
   ]
  },
  {
   "cell_type": "code",
   "execution_count": 178,
   "metadata": {
    "ExecuteTime": {
     "end_time": "2021-04-09T16:41:57.969476Z",
     "start_time": "2021-04-09T16:41:57.698636Z"
    }
   },
   "outputs": [],
   "source": [
    "# X=fd_dlvry.iloc[:,0:-1]\n",
    "\n",
    "X_dummy=pd.get_dummies(fd_dlvry)\n",
    "y=fd_dlvry.iloc[:,-1]"
   ]
  },
  {
   "cell_type": "code",
   "execution_count": 179,
   "metadata": {
    "ExecuteTime": {
     "end_time": "2021-04-09T16:41:58.041440Z",
     "start_time": "2021-04-09T16:41:57.973475Z"
    }
   },
   "outputs": [],
   "source": [
    "X_train, X_test, y_train, y_test = train_test_split(X_dummy, y, test_size = 0.33)"
   ]
  },
  {
   "cell_type": "code",
   "execution_count": 180,
   "metadata": {
    "ExecuteTime": {
     "end_time": "2021-04-09T16:41:58.157371Z",
     "start_time": "2021-04-09T16:41:58.045434Z"
    }
   },
   "outputs": [
    {
     "data": {
      "text/plain": [
       "(388, 408)"
      ]
     },
     "execution_count": 180,
     "metadata": {},
     "output_type": "execute_result"
    }
   ],
   "source": [
    "X_dummy.shape"
   ]
  },
  {
   "cell_type": "code",
   "execution_count": 181,
   "metadata": {
    "ExecuteTime": {
     "end_time": "2021-04-09T16:42:12.590572Z",
     "start_time": "2021-04-09T16:41:58.161369Z"
    }
   },
   "outputs": [
    {
     "name": "stdout",
     "output_type": "stream",
     "text": [
      "[22:11:58] WARNING: C:/Users/Administrator/workspace/xgboost-win64_release_1.3.0/src/learner.cc:1061: Starting in XGBoost 1.3.0, the default evaluation metric used with the objective 'multi:softprob' was changed from 'merror' to 'mlogloss'. Explicitly set eval_metric if you'd like to restore the old behavior.\n"
     ]
    },
    {
     "data": {
      "text/plain": [
       "0.5503875968992248"
      ]
     },
     "execution_count": 181,
     "metadata": {},
     "output_type": "execute_result"
    }
   ],
   "source": [
    "from numpy import loadtxt\n",
    "from xgboost import XGBClassifier\n",
    "from sklearn.model_selection import train_test_split\n",
    "clf=XGBClassifier(max_depth=4)\n",
    "clf.fit(X_train,y_train)\n",
    "clf.score(X_test,y_test)"
   ]
  },
  {
   "cell_type": "code",
   "execution_count": 182,
   "metadata": {
    "ExecuteTime": {
     "end_time": "2021-04-09T16:42:12.757476Z",
     "start_time": "2021-04-09T16:42:12.595567Z"
    }
   },
   "outputs": [
    {
     "name": "stdout",
     "output_type": "stream",
     "text": [
      "                                                                                                                                                                                                             precision    recall  f1-score   support\n",
      "\n",
      "                                                                                                                                                                                                          -       0.00      0.00      0.00         1\n",
      "                                                                                                                                                                          BAD BAD BAD POOR POOR POOR RATING       0.00      0.00      0.00         0\n",
      "                                                                                                                                                 BEST BEST BEST !! WONDERFUL WONDERFUL !! FAST FAST FAST !!       1.00      1.00      1.00         1\n",
      "                                                                                                                                                                                 BEST BEST POSITIVE REVIEWS       0.00      0.00      0.00         1\n",
      "                                                                                                                                                                                   Best Best Best Best !!!!       1.00      1.00      1.00         1\n",
      "                                                                                                                                           Best delivery people working hard for their family. respect them       0.00      0.00      0.00         0\n",
      "                                                                                                                                                                                               Best service       0.00      0.00      0.00         2\n",
      "                                                                                                                                                                              Best service, Crazy drivers !       0.00      0.00      0.00         0\n",
      "                                                                                                                                                                     Certainly a wonderful delivery service       0.00      0.00      0.00         1\n",
      "                                                                                                                                                                     Delivery in my place is slow as turtle       0.00      0.00      0.00         1\n",
      "                                                                                                                                                  Delivery is late. Need quick updates on location of order       1.00      1.00      1.00         1\n",
      "                                                                                                                                                                         Delivery people are sweet and fast       0.00      0.00      0.00         0\n",
      "                                                                                                                                                           Delivery people are working hard. Can't complain       1.00      1.00      1.00         1\n",
      "                                                                                                                                                        Expect the delivery person to understand our hunger       0.00      0.00      0.00         0\n",
      "                                                                                                                                                                                          Fast as sonic !!!       0.00      0.00      0.00         1\n",
      "                                                                                                                                                                               Faster delivery is needed !!       1.00      1.00      1.00         1\n",
      "                                                                                                                                                                      Favorite service to reduce our hunger       0.00      0.00      0.00         0\n",
      "                                                                                                       Food delivery apps are performing well in Bangalore. But poor delivery when it comes to rural places       0.00      0.00      0.00         0\n",
      "                                                                                                                                                            Food quality is reducing when it gets delivered       0.00      0.00      0.00         1\n",
      "                                                                                          Freshness is important but when it is packed by the usual package, I feel it's losing it is freshness and quality       0.00      0.00      0.00         1\n",
      "                                                                                                                                                                                                       Good       0.00      0.00      0.00         0\n",
      "                                                                                                                                                                   Good price and offers with fast delivery       0.00      0.00      0.00         1\n",
      "                                                                                                                                                                                                Good so far       0.00      0.00      0.00         1\n",
      "                                                                                                                                                          Had many bad experiences with respect to delivery       0.00      0.00      0.00         1\n",
      "                                                                                                                                                    I appreciate the efforts of hardworking delivery people       0.00      0.00      0.00         3\n",
      "                                                                                                                               I can forgive deliveries if they are late, but can't compromise with quality       0.00      0.00      0.00         0\n",
      "                                                                                                                                                   I can wait for quality food from highly rated restaurant       0.00      0.00      0.00         1\n",
      "                                                                                                 I can't blame the delivery people for late delivery. It lies in the logistics department of such startups.       0.00      0.00      0.00         0\n",
      "                                                                                                  I don't bother about ratings unless they taste good. But I prefer quicker delivery. Can't hold my hunger        0.00      0.00      0.00         1\n",
      "                                                                                                                                         I dont have much restaurant choices and takes long time to deliver       0.00      0.00      0.00         0\n",
      "                                                                                                                                                                        I expect faster delivery in my area       0.00      0.00      0.00         1\n",
      "                                                                                                                     I find no issues with the online food delivery. But requires a lil bit faster delivery       0.00      0.00      0.00         1\n",
      "                                                                                                                                          I had bad experience with delivery person. They need to be polite       0.00      0.00      0.00         1\n",
      "                                                                                                                                           I had bad experience with delivery. It could be due to location.       0.00      0.00      0.00         1\n",
      "                                                                                                                                                                    I had bad experiences in delivered food       0.00      0.00      0.00         0\n",
      "                                           I had bad experiences with delivery person, they need to be polite when asking for location and avoid asking us to come to a particular location to get the food       0.00      0.00      0.00         1\n",
      "                                                                                                                                                       I had bad experiences with the food delivered to me        0.00      0.00      0.00         1\n",
      "       I had few health issues after consuming delivered food. Restaurants need to improve their quality and delivery people should delivery it without tampering which might lead to contamination of food       1.00      1.00      1.00         1\n",
      "                                                                                                                                                                   I had misplaced order in the past orders       0.50      1.00      0.67         1\n",
      "                                                                                                                         I had no issues as per my experience. But heard delivery people are sometimes rude       1.00      1.00      1.00         1\n",
      "                                                                                                                                      I hate zomato and food panda. Poor tracking and poor customer service       0.00      0.00      0.00         0\n",
      "                                                                                                                                 I have certain high rated restaurants where I order and they deliver fast        0.00      0.00      0.00         0\n",
      "                                                                                                                               I have no issues related to delivery and I prefer four plus rated restaurant       0.00      0.00      0.00         2\n",
      "                                                                                                                                              I have no issues with the food delivery service. They're good       0.00      0.00      0.00         1\n",
      "                                                                                                                                                    I have no problem with delivery service. BEST service !       0.00      0.00      0.00         1\n",
      "                                                                                                                                                 I have no problem with the delivery service. I'm satisfied       0.00      0.00      0.00         0\n",
      "                                                                                                                                                                            I have no trouble with delivery       0.50      1.00      0.67         1\n",
      "                                                                                                                       I have normally had good experiences with swiggy especially for payments and refunds       0.00      0.00      0.00         1\n",
      "                                                                                                                                                            I love food delivery service. They are amazing        0.00      0.00      0.00         1\n",
      "                                                                                                                                                        I love ordering candies for my children from swiggy       0.00      0.00      0.00         0\n",
      "                                                                                                                                                                  I love ordering for my family from swiggy       1.00      1.00      1.00         1\n",
      "                                                                                                                                                                                           I love swiggy !!       0.00      0.00      0.00         1\n",
      "                                                                                                                                                                  I love swiggy service, followed by zomato       0.00      0.00      0.00         1\n",
      "                                                                                                                                                 I love zomato but it requires quality in deliver service.        0.00      0.00      0.00         1\n",
      "                                                                                                                                                                                    I need faster delivery.       1.00      1.00      1.00         1\n",
      "                                                                                                                                                  I need quicker delivery and more extra restaurant choices       0.00      0.00      0.00         1\n",
      "                                                                                                                                                       I need the order to be delivered fast to my location       0.00      0.00      0.00         0\n",
      "                                                                                                                                             I need the order to be delivered soon. It takes a lot of time        1.00      1.00      1.00         1\n",
      "                                                                                                               I once had damaged package from zomato and they declined to offer me refund.worst behavior !       0.00      0.00      0.00         1\n",
      "                                                                                                                                     I order most of my meals on swiggy or zomato depending upon the offers       0.67      1.00      0.80         2\n",
      "                                                                                                                                                               I require faster delivery with minimum calls       0.00      0.00      0.00         1\n",
      "                                                                                                                                            I require the food to be undamaged. Mostly the food is tampered       1.00      1.00      1.00         2\n",
      "                                                                                                                                        I want both delivery to be quick as well as food quality to be good       0.00      0.00      0.00         0\n",
      "                                                                                                                                                           I would avoid restaurants which has less rating        0.25      1.00      0.40         1\n",
      "                                                                                                                                                     I'm conscious about quality more than time of delivery       0.00      0.00      0.00         1\n",
      "                                                                                                                                                                          I'm okay ordering online for food       0.00      0.00      0.00         1\n",
      "                                                                                                                                                I'm satisfied with the current service of swiggy and zomato       0.00      0.00      0.00         0\n",
      "                                                                                                                                                      I'm satisfied with the service and swiggy is the best       0.00      0.00      0.00         0\n",
      "                                                                                                                                                                   I'm satisfied with the service of swiggy       0.00      0.00      0.00         1\n",
      "                                                                                                                      If it is from a low rated restaurant. I restrict myself to order from that restaurant       0.00      0.00      0.00         0\n",
      "                                                                                                                          It serves my hunger on time. But there are times it delays when I needed the most       0.00      0.00      0.00         0\n",
      "                                                                                                                                                                                     LOVE SWIGGY AND ZOMATO       0.00      0.00      0.00         1\n",
      "                                                                                                                                                                 LOVE SWIGGY AND ZOMATO. Literally the best       1.00      1.00      1.00         1\n",
      "                                                                                                                                         LOVE THE PRICE AND OFFER OFFERED BY SWIGGY, USUALLY RATE FOUR PLUS       0.00      0.00      0.00         0\n",
      "                                                     Language barrier is also one major issue. Moslty these delivery boys are only familiar with Kanada which creates a problem while addressing any issue.       0.50      1.00      0.67         1\n",
      "                                                                                                                                                                                      Love to order online        0.00      0.00      0.00         3\n",
      "                                                                                                                                                                              My entire family loves swiggy       1.00      1.00      1.00         1\n",
      "                                                                                                                                     My home is near Phoenix marketcity, so time taken for delivery is less       1.00      1.00      1.00         1\n",
      "                                                                                                                                                                                                        NIL       1.00      1.00      1.00        26\n",
      "                                                                                                                              Neat package by swiggy and also takes carry of quality during covid situation       0.00      0.00      0.00         1\n",
      "                                                                                                                                                           Need more delivery bandwidth even in rural areas       0.00      0.00      0.00         0\n",
      "                                                                                                                                           Need quality food delivery. had worst experience of spilled food       1.00      1.00      1.00         2\n",
      "                                                                                                                                                                                                        NiL       0.00      0.00      0.00         1\n",
      "                                                                                                                                                                                                        Nil       1.00      1.00      1.00        19\n",
      "                                                                                                                                                                                                         No       0.33      1.00      0.50         1\n",
      "                                                                                                                         Once my order from kfc got exchanged with someone else. Fault was delivery boy's.        0.00      0.00      0.00         0\n",
      "                                                                                                                                                                    Order delivered to my location are late       0.00      0.00      0.00         0\n",
      "Prices of food items differ while using different smartphones to order at the same time. So, there is no uniform pricing system in food delivery apps. But yes, they add a lot of convenience in our lives!       0.00      0.00      0.00         0\n",
      "                                                                                                                                                                        Quality is more important than time       0.00      0.00      0.00         1\n",
      "                                                                                                                                                             Quick and fastest delivery made to my location       0.00      0.00      0.00         1\n",
      "                                                                                                                                                            Requires professional packaging with no leakage       0.00      0.00      0.00         1\n",
      "                                                                                                                                              Slow delivery and I avoid ordering from poor rated restaurant       0.00      0.00      0.00         1\n",
      "                                                                                                                                                                                   Smooth delivery service        1.00      1.00      1.00         1\n",
      "                                                                                                                                                                 Spillage, bad packaging and missing items        0.00      0.00      0.00         0\n",
      "                                                                                                                                                             Super fast riders helps in super fast delivery       0.00      0.00      0.00         1\n",
      "                                                                                                                                                         Swiggy delivery people are polite and fast as well       0.00      0.00      0.00         0\n",
      "                                                                                                                                                          The delivery to my locations are done pretty fast       0.00      0.00      0.00         2\n",
      "                                                                                                                                                                      There are not much restaurant choices       0.00      0.00      0.00         1\n",
      "                                                                                                                                                                          They really need to delivery fast       0.00      0.00      0.00         1\n",
      "                                                                                                          Time doesn't bother me, But rating does. I order at high rated restaurants. preferably 4+ ratings       0.00      0.00      0.00         0\n",
      "                                                                                                                                    Very few times I have  had bad experienced by aggregator or restaurant        1.00      1.00      1.00         1\n",
      "                                                                                                                                             Whenever I'm not well, use dunzo to order for my whole family        0.00      0.00      0.00         1\n",
      "                                                                                                               Whitefield got no problem with respect to delivery and we have a good set of restaurant here       0.00      0.00      0.00         0\n",
      "                                                                                                                                            Worst behavior by customer care. They process refund quite late       0.00      0.00      0.00         1\n",
      "                                                                                                                                                                                                        nil       0.00      0.00      0.00         3\n",
      "\n",
      "                                                                                                                                                                                                   accuracy                           0.55       129\n",
      "                                                                                                                                                                                                  macro avg       0.21      0.24      0.22       129\n",
      "                                                                                                                                                                                               weighted avg       0.52      0.55      0.53       129\n",
      "\n"
     ]
    }
   ],
   "source": [
    "y_pre=clf.predict(X_test)\n",
    "\n",
    "\n",
    "from sklearn.metrics import classification_report\n",
    "print(classification_report(y_test,y_pre))"
   ]
  },
  {
   "cell_type": "code",
   "execution_count": 183,
   "metadata": {
    "ExecuteTime": {
     "end_time": "2021-04-09T16:42:13.939945Z",
     "start_time": "2021-04-09T16:42:12.761475Z"
    }
   },
   "outputs": [
    {
     "ename": "ValueError",
     "evalue": "Found input variables with inconsistent numbers of samples: [174, 388]",
     "output_type": "error",
     "traceback": [
      "\u001b[1;31m---------------------------------------------------------------------------\u001b[0m",
      "\u001b[1;31mValueError\u001b[0m                                Traceback (most recent call last)",
      "\u001b[1;32m<ipython-input-183-ed97c32f7981>\u001b[0m in \u001b[0;36m<module>\u001b[1;34m\u001b[0m\n\u001b[1;32m----> 1\u001b[1;33m \u001b[0mvalidation\u001b[0m\u001b[1;33m(\u001b[0m\u001b[0mclf\u001b[0m\u001b[1;33m,\u001b[0m\u001b[0mX\u001b[0m\u001b[1;33m,\u001b[0m\u001b[0my\u001b[0m\u001b[1;33m)\u001b[0m\u001b[1;33m\u001b[0m\u001b[1;33m\u001b[0m\u001b[0m\n\u001b[0m",
      "\u001b[1;32m<ipython-input-171-8025010f44f7>\u001b[0m in \u001b[0;36mvalidation\u001b[1;34m(clf, X, y)\u001b[0m\n\u001b[0;32m      4\u001b[0m     \u001b[0mx\u001b[0m\u001b[1;33m=\u001b[0m\u001b[1;36m0\u001b[0m\u001b[1;33m\u001b[0m\u001b[1;33m\u001b[0m\u001b[0m\n\u001b[0;32m      5\u001b[0m     \u001b[0mskf\u001b[0m \u001b[1;33m=\u001b[0m \u001b[0mStratifiedKFold\u001b[0m\u001b[1;33m(\u001b[0m\u001b[0mn_splits\u001b[0m\u001b[1;33m=\u001b[0m\u001b[1;36m12\u001b[0m\u001b[1;33m,\u001b[0m \u001b[0mshuffle\u001b[0m\u001b[1;33m=\u001b[0m\u001b[1;32mTrue\u001b[0m\u001b[1;33m,\u001b[0m \u001b[0mrandom_state\u001b[0m\u001b[1;33m=\u001b[0m\u001b[1;36m1\u001b[0m\u001b[1;33m)\u001b[0m\u001b[1;33m\u001b[0m\u001b[1;33m\u001b[0m\u001b[0m\n\u001b[1;32m----> 6\u001b[1;33m     \u001b[1;32mfor\u001b[0m \u001b[0mtrain_index\u001b[0m\u001b[1;33m,\u001b[0m \u001b[0mtest_index\u001b[0m \u001b[1;32min\u001b[0m \u001b[0mskf\u001b[0m\u001b[1;33m.\u001b[0m\u001b[0msplit\u001b[0m\u001b[1;33m(\u001b[0m\u001b[0mX\u001b[0m\u001b[1;33m,\u001b[0m \u001b[0my\u001b[0m\u001b[1;33m)\u001b[0m\u001b[1;33m:\u001b[0m\u001b[1;33m\u001b[0m\u001b[1;33m\u001b[0m\u001b[0m\n\u001b[0m\u001b[0;32m      7\u001b[0m         \u001b[0mx_train_fold\u001b[0m\u001b[1;33m,\u001b[0m \u001b[0mx_test_fold\u001b[0m \u001b[1;33m=\u001b[0m \u001b[0mX\u001b[0m\u001b[1;33m.\u001b[0m\u001b[0mloc\u001b[0m\u001b[1;33m[\u001b[0m\u001b[0mtrain_index\u001b[0m\u001b[1;33m,\u001b[0m\u001b[1;33m:\u001b[0m\u001b[1;33m]\u001b[0m\u001b[1;33m,\u001b[0m \u001b[0mX\u001b[0m\u001b[1;33m.\u001b[0m\u001b[0mloc\u001b[0m\u001b[1;33m[\u001b[0m\u001b[0mtest_index\u001b[0m\u001b[1;33m,\u001b[0m\u001b[1;33m:\u001b[0m\u001b[1;33m]\u001b[0m\u001b[1;33m\u001b[0m\u001b[1;33m\u001b[0m\u001b[0m\n\u001b[0;32m      8\u001b[0m         \u001b[0my_train_fold\u001b[0m\u001b[1;33m,\u001b[0m \u001b[0my_test_fold\u001b[0m \u001b[1;33m=\u001b[0m \u001b[0my\u001b[0m\u001b[1;33m[\u001b[0m\u001b[0mtrain_index\u001b[0m\u001b[1;33m]\u001b[0m\u001b[1;33m,\u001b[0m \u001b[0my\u001b[0m\u001b[1;33m[\u001b[0m\u001b[0mtest_index\u001b[0m\u001b[1;33m]\u001b[0m\u001b[1;33m\u001b[0m\u001b[1;33m\u001b[0m\u001b[0m\n",
      "\u001b[1;32m~\\anaconda3\\lib\\site-packages\\sklearn\\model_selection\\_split.py\u001b[0m in \u001b[0;36msplit\u001b[1;34m(self, X, y, groups)\u001b[0m\n\u001b[0;32m    322\u001b[0m             \u001b[0mThe\u001b[0m \u001b[0mtesting\u001b[0m \u001b[0mset\u001b[0m \u001b[0mindices\u001b[0m \u001b[1;32mfor\u001b[0m \u001b[0mthat\u001b[0m \u001b[0msplit\u001b[0m\u001b[1;33m.\u001b[0m\u001b[1;33m\u001b[0m\u001b[1;33m\u001b[0m\u001b[0m\n\u001b[0;32m    323\u001b[0m         \"\"\"\n\u001b[1;32m--> 324\u001b[1;33m         \u001b[0mX\u001b[0m\u001b[1;33m,\u001b[0m \u001b[0my\u001b[0m\u001b[1;33m,\u001b[0m \u001b[0mgroups\u001b[0m \u001b[1;33m=\u001b[0m \u001b[0mindexable\u001b[0m\u001b[1;33m(\u001b[0m\u001b[0mX\u001b[0m\u001b[1;33m,\u001b[0m \u001b[0my\u001b[0m\u001b[1;33m,\u001b[0m \u001b[0mgroups\u001b[0m\u001b[1;33m)\u001b[0m\u001b[1;33m\u001b[0m\u001b[1;33m\u001b[0m\u001b[0m\n\u001b[0m\u001b[0;32m    325\u001b[0m         \u001b[0mn_samples\u001b[0m \u001b[1;33m=\u001b[0m \u001b[0m_num_samples\u001b[0m\u001b[1;33m(\u001b[0m\u001b[0mX\u001b[0m\u001b[1;33m)\u001b[0m\u001b[1;33m\u001b[0m\u001b[1;33m\u001b[0m\u001b[0m\n\u001b[0;32m    326\u001b[0m         \u001b[1;32mif\u001b[0m \u001b[0mself\u001b[0m\u001b[1;33m.\u001b[0m\u001b[0mn_splits\u001b[0m \u001b[1;33m>\u001b[0m \u001b[0mn_samples\u001b[0m\u001b[1;33m:\u001b[0m\u001b[1;33m\u001b[0m\u001b[1;33m\u001b[0m\u001b[0m\n",
      "\u001b[1;32m~\\anaconda3\\lib\\site-packages\\sklearn\\utils\\validation.py\u001b[0m in \u001b[0;36mindexable\u001b[1;34m(*iterables)\u001b[0m\n\u001b[0;32m    297\u001b[0m     \"\"\"\n\u001b[0;32m    298\u001b[0m     \u001b[0mresult\u001b[0m \u001b[1;33m=\u001b[0m \u001b[1;33m[\u001b[0m\u001b[0m_make_indexable\u001b[0m\u001b[1;33m(\u001b[0m\u001b[0mX\u001b[0m\u001b[1;33m)\u001b[0m \u001b[1;32mfor\u001b[0m \u001b[0mX\u001b[0m \u001b[1;32min\u001b[0m \u001b[0miterables\u001b[0m\u001b[1;33m]\u001b[0m\u001b[1;33m\u001b[0m\u001b[1;33m\u001b[0m\u001b[0m\n\u001b[1;32m--> 299\u001b[1;33m     \u001b[0mcheck_consistent_length\u001b[0m\u001b[1;33m(\u001b[0m\u001b[1;33m*\u001b[0m\u001b[0mresult\u001b[0m\u001b[1;33m)\u001b[0m\u001b[1;33m\u001b[0m\u001b[1;33m\u001b[0m\u001b[0m\n\u001b[0m\u001b[0;32m    300\u001b[0m     \u001b[1;32mreturn\u001b[0m \u001b[0mresult\u001b[0m\u001b[1;33m\u001b[0m\u001b[1;33m\u001b[0m\u001b[0m\n\u001b[0;32m    301\u001b[0m \u001b[1;33m\u001b[0m\u001b[0m\n",
      "\u001b[1;32m~\\anaconda3\\lib\\site-packages\\sklearn\\utils\\validation.py\u001b[0m in \u001b[0;36mcheck_consistent_length\u001b[1;34m(*arrays)\u001b[0m\n\u001b[0;32m    260\u001b[0m     \u001b[0muniques\u001b[0m \u001b[1;33m=\u001b[0m \u001b[0mnp\u001b[0m\u001b[1;33m.\u001b[0m\u001b[0munique\u001b[0m\u001b[1;33m(\u001b[0m\u001b[0mlengths\u001b[0m\u001b[1;33m)\u001b[0m\u001b[1;33m\u001b[0m\u001b[1;33m\u001b[0m\u001b[0m\n\u001b[0;32m    261\u001b[0m     \u001b[1;32mif\u001b[0m \u001b[0mlen\u001b[0m\u001b[1;33m(\u001b[0m\u001b[0muniques\u001b[0m\u001b[1;33m)\u001b[0m \u001b[1;33m>\u001b[0m \u001b[1;36m1\u001b[0m\u001b[1;33m:\u001b[0m\u001b[1;33m\u001b[0m\u001b[1;33m\u001b[0m\u001b[0m\n\u001b[1;32m--> 262\u001b[1;33m         raise ValueError(\"Found input variables with inconsistent numbers of\"\n\u001b[0m\u001b[0;32m    263\u001b[0m                          \" samples: %r\" % [int(l) for l in lengths])\n\u001b[0;32m    264\u001b[0m \u001b[1;33m\u001b[0m\u001b[0m\n",
      "\u001b[1;31mValueError\u001b[0m: Found input variables with inconsistent numbers of samples: [174, 388]"
     ]
    }
   ],
   "source": [
    "validation(clf,X,y)"
   ]
  },
  {
   "cell_type": "code",
   "execution_count": null,
   "metadata": {
    "ExecuteTime": {
     "end_time": "2021-04-09T16:42:13.944942Z",
     "start_time": "2021-04-09T16:39:50.479Z"
    }
   },
   "outputs": [],
   "source": [
    "import pandas as pd\n"
   ]
  },
  {
   "cell_type": "code",
   "execution_count": null,
   "metadata": {
    "ExecuteTime": {
     "end_time": "2021-04-01T12:13:24.252354Z",
     "start_time": "2021-04-01T12:13:21.288150Z"
    }
   },
   "outputs": [],
   "source": []
  },
  {
   "cell_type": "code",
   "execution_count": null,
   "metadata": {},
   "outputs": [],
   "source": []
  }
 ],
 "metadata": {
  "kernelspec": {
   "display_name": "Python 3",
   "language": "python",
   "name": "python3"
  },
  "language_info": {
   "codemirror_mode": {
    "name": "ipython",
    "version": 3
   },
   "file_extension": ".py",
   "mimetype": "text/x-python",
   "name": "python",
   "nbconvert_exporter": "python",
   "pygments_lexer": "ipython3",
   "version": "3.8.5"
  },
  "latex_envs": {
   "LaTeX_envs_menu_present": true,
   "autoclose": false,
   "autocomplete": true,
   "bibliofile": "biblio.bib",
   "cite_by": "apalike",
   "current_citInitial": 1,
   "eqLabelWithNumbers": true,
   "eqNumInitial": 1,
   "hotkeys": {
    "equation": "Ctrl-E",
    "itemize": "Ctrl-I"
   },
   "labels_anchors": false,
   "latex_user_defs": false,
   "report_style_numbering": false,
   "user_envs_cfg": false
  },
  "toc": {
   "base_numbering": 1,
   "nav_menu": {
    "height": "68px",
    "width": "168px"
   },
   "number_sections": true,
   "sideBar": true,
   "skip_h1_title": false,
   "title_cell": "Table of Contents",
   "title_sidebar": "Contents",
   "toc_cell": false,
   "toc_position": {},
   "toc_section_display": true,
   "toc_window_display": true
  }
 },
 "nbformat": 4,
 "nbformat_minor": 4
}

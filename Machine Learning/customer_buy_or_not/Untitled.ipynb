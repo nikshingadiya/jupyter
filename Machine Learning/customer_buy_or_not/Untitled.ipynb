{
 "cells": [
  {
   "cell_type": "code",
   "execution_count": null,
   "metadata": {},
   "outputs": [],
   "source": [
    "WAP to check if a given string is binary or not."
   ]
  },
  {
   "cell_type": "code",
   "execution_count": 3,
   "metadata": {
    "ExecuteTime": {
     "end_time": "2021-11-01T10:00:02.756405Z",
     "start_time": "2021-11-01T10:00:02.744413Z"
    }
   },
   "outputs": [
    {
     "name": "stdout",
     "output_type": "stream",
     "text": [
      "it is binary\n"
     ]
    }
   ],
   "source": [
    "x=\"01011\"\n",
    "def check(x):\n",
    "    flag=0\n",
    "    for i in x:\n",
    "        if i==\"0\" or i==\"1\":\n",
    "            pass\n",
    "        else:\n",
    "            flag=1\n",
    "            print(\"it is not binary\")\n",
    "            break\n",
    "    if flag==0:\n",
    "        print(\"it is binary\")\n",
    "\n",
    "check(x)"
   ]
  },
  {
   "cell_type": "code",
   "execution_count": null,
   "metadata": {},
   "outputs": [],
   "source": []
  }
 ],
 "metadata": {
  "kernelspec": {
   "display_name": "Python 3",
   "language": "python",
   "name": "python3"
  },
  "language_info": {
   "codemirror_mode": {
    "name": "ipython",
    "version": 3
   },
   "file_extension": ".py",
   "mimetype": "text/x-python",
   "name": "python",
   "nbconvert_exporter": "python",
   "pygments_lexer": "ipython3",
   "version": "3.8.5"
  },
  "toc": {
   "base_numbering": 1,
   "nav_menu": {},
   "number_sections": true,
   "sideBar": true,
   "skip_h1_title": false,
   "title_cell": "Table of Contents",
   "title_sidebar": "Contents",
   "toc_cell": false,
   "toc_position": {},
   "toc_section_display": true,
   "toc_window_display": true
  }
 },
 "nbformat": 4,
 "nbformat_minor": 4
}

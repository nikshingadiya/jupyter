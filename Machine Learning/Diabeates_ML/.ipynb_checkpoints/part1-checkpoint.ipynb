{
 "cells": [
  {
   "cell_type": "code",
   "execution_count": 2,
   "metadata": {
    "ExecuteTime": {
     "end_time": "2021-05-22T10:42:59.956865Z",
     "start_time": "2021-05-22T10:42:45.393823Z"
    }
   },
   "outputs": [],
   "source": [
    "import pandas as pd \n",
    "import numpy as np\n",
    "import matplotlib.pyplot as plt\n",
    "import seaborn as sns\n"
   ]
  },
  {
   "cell_type": "code",
   "execution_count": 3,
   "metadata": {
    "ExecuteTime": {
     "end_time": "2021-05-22T10:43:01.634784Z",
     "start_time": "2021-05-22T10:43:01.524772Z"
    },
    "scrolled": true
   },
   "outputs": [
    {
     "data": {
      "text/html": [
       "<div>\n",
       "<style scoped>\n",
       "    .dataframe tbody tr th:only-of-type {\n",
       "        vertical-align: middle;\n",
       "    }\n",
       "\n",
       "    .dataframe tbody tr th {\n",
       "        vertical-align: top;\n",
       "    }\n",
       "\n",
       "    .dataframe thead th {\n",
       "        text-align: right;\n",
       "    }\n",
       "</style>\n",
       "<table border=\"1\" class=\"dataframe\">\n",
       "  <thead>\n",
       "    <tr style=\"text-align: right;\">\n",
       "      <th></th>\n",
       "      <th>Pregnancies</th>\n",
       "      <th>Gender</th>\n",
       "      <th>Glucose</th>\n",
       "      <th>BloodPressure</th>\n",
       "      <th>SkinThickness</th>\n",
       "      <th>Insulin</th>\n",
       "      <th>BMI</th>\n",
       "      <th>DiabetesPedigreeFunction</th>\n",
       "      <th>Age</th>\n",
       "      <th>Outcome</th>\n",
       "      <th>CalorieIntake</th>\n",
       "      <th>Exercise</th>\n",
       "      <th>SleepDuration</th>\n",
       "    </tr>\n",
       "  </thead>\n",
       "  <tbody>\n",
       "    <tr>\n",
       "      <th>0</th>\n",
       "      <td>0</td>\n",
       "      <td>M</td>\n",
       "      <td>148</td>\n",
       "      <td>72</td>\n",
       "      <td>35</td>\n",
       "      <td>0</td>\n",
       "      <td>33.6</td>\n",
       "      <td>0.627</td>\n",
       "      <td>50</td>\n",
       "      <td>1</td>\n",
       "      <td>2508.3</td>\n",
       "      <td>No</td>\n",
       "      <td>6</td>\n",
       "    </tr>\n",
       "    <tr>\n",
       "      <th>1</th>\n",
       "      <td>1</td>\n",
       "      <td>F</td>\n",
       "      <td>85</td>\n",
       "      <td>66</td>\n",
       "      <td>29</td>\n",
       "      <td>0</td>\n",
       "      <td>26.6</td>\n",
       "      <td>0.351</td>\n",
       "      <td>31</td>\n",
       "      <td>0</td>\n",
       "      <td>2760.0</td>\n",
       "      <td>Evening</td>\n",
       "      <td>8</td>\n",
       "    </tr>\n",
       "    <tr>\n",
       "      <th>2</th>\n",
       "      <td>0</td>\n",
       "      <td>M</td>\n",
       "      <td>183</td>\n",
       "      <td>64</td>\n",
       "      <td>0</td>\n",
       "      <td>0</td>\n",
       "      <td>23.3</td>\n",
       "      <td>0.672</td>\n",
       "      <td>32</td>\n",
       "      <td>1</td>\n",
       "      <td>6480.0</td>\n",
       "      <td>Morning</td>\n",
       "      <td>8</td>\n",
       "    </tr>\n",
       "    <tr>\n",
       "      <th>3</th>\n",
       "      <td>1</td>\n",
       "      <td>F</td>\n",
       "      <td>89</td>\n",
       "      <td>66</td>\n",
       "      <td>23</td>\n",
       "      <td>94</td>\n",
       "      <td>28.1</td>\n",
       "      <td>0.167</td>\n",
       "      <td>21</td>\n",
       "      <td>0</td>\n",
       "      <td>NaN</td>\n",
       "      <td>Evening</td>\n",
       "      <td>8</td>\n",
       "    </tr>\n",
       "    <tr>\n",
       "      <th>4</th>\n",
       "      <td>0</td>\n",
       "      <td>M</td>\n",
       "      <td>137</td>\n",
       "      <td>40</td>\n",
       "      <td>35</td>\n",
       "      <td>168</td>\n",
       "      <td>43.1</td>\n",
       "      <td>2.288</td>\n",
       "      <td>33</td>\n",
       "      <td>1</td>\n",
       "      <td>1970.0</td>\n",
       "      <td>No</td>\n",
       "      <td>9</td>\n",
       "    </tr>\n",
       "  </tbody>\n",
       "</table>\n",
       "</div>"
      ],
      "text/plain": [
       "   Pregnancies Gender  Glucose  BloodPressure  SkinThickness  Insulin   BMI  \\\n",
       "0            0      M      148             72             35        0  33.6   \n",
       "1            1      F       85             66             29        0  26.6   \n",
       "2            0      M      183             64              0        0  23.3   \n",
       "3            1      F       89             66             23       94  28.1   \n",
       "4            0      M      137             40             35      168  43.1   \n",
       "\n",
       "   DiabetesPedigreeFunction  Age  Outcome  CalorieIntake Exercise  \\\n",
       "0                     0.627   50        1         2508.3       No   \n",
       "1                     0.351   31        0         2760.0  Evening   \n",
       "2                     0.672   32        1         6480.0  Morning   \n",
       "3                     0.167   21        0            NaN  Evening   \n",
       "4                     2.288   33        1         1970.0       No   \n",
       "\n",
       "   SleepDuration  \n",
       "0              6  \n",
       "1              8  \n",
       "2              8  \n",
       "3              8  \n",
       "4              9  "
      ]
     },
     "execution_count": 3,
     "metadata": {},
     "output_type": "execute_result"
    }
   ],
   "source": [
    "diabetes_df=pd.read_csv(\"diabetes.csv\")\n",
    "diabetes_df.head()"
   ]
  },
  {
   "cell_type": "code",
   "execution_count": 4,
   "metadata": {
    "ExecuteTime": {
     "end_time": "2021-05-22T10:43:02.357899Z",
     "start_time": "2021-05-22T10:43:02.347901Z"
    }
   },
   "outputs": [],
   "source": [
    "l1=[col  for col in diabetes_df.columns if col!=\"Outcome\"]\n",
    "l1.append(\"Outcome\")"
   ]
  },
  {
   "cell_type": "code",
   "execution_count": 5,
   "metadata": {
    "ExecuteTime": {
     "end_time": "2021-05-22T10:43:03.118757Z",
     "start_time": "2021-05-22T10:43:03.078760Z"
    },
    "scrolled": true
   },
   "outputs": [
    {
     "data": {
      "text/html": [
       "<div>\n",
       "<style scoped>\n",
       "    .dataframe tbody tr th:only-of-type {\n",
       "        vertical-align: middle;\n",
       "    }\n",
       "\n",
       "    .dataframe tbody tr th {\n",
       "        vertical-align: top;\n",
       "    }\n",
       "\n",
       "    .dataframe thead th {\n",
       "        text-align: right;\n",
       "    }\n",
       "</style>\n",
       "<table border=\"1\" class=\"dataframe\">\n",
       "  <thead>\n",
       "    <tr style=\"text-align: right;\">\n",
       "      <th></th>\n",
       "      <th>Pregnancies</th>\n",
       "      <th>Gender</th>\n",
       "      <th>Glucose</th>\n",
       "      <th>BloodPressure</th>\n",
       "      <th>SkinThickness</th>\n",
       "      <th>Insulin</th>\n",
       "      <th>BMI</th>\n",
       "      <th>DiabetesPedigreeFunction</th>\n",
       "      <th>Age</th>\n",
       "      <th>CalorieIntake</th>\n",
       "      <th>Exercise</th>\n",
       "      <th>SleepDuration</th>\n",
       "      <th>Outcome</th>\n",
       "    </tr>\n",
       "  </thead>\n",
       "  <tbody>\n",
       "    <tr>\n",
       "      <th>0</th>\n",
       "      <td>0</td>\n",
       "      <td>M</td>\n",
       "      <td>148</td>\n",
       "      <td>72</td>\n",
       "      <td>35</td>\n",
       "      <td>0</td>\n",
       "      <td>33.6</td>\n",
       "      <td>0.627</td>\n",
       "      <td>50</td>\n",
       "      <td>2508.3</td>\n",
       "      <td>No</td>\n",
       "      <td>6</td>\n",
       "      <td>1</td>\n",
       "    </tr>\n",
       "    <tr>\n",
       "      <th>1</th>\n",
       "      <td>1</td>\n",
       "      <td>F</td>\n",
       "      <td>85</td>\n",
       "      <td>66</td>\n",
       "      <td>29</td>\n",
       "      <td>0</td>\n",
       "      <td>26.6</td>\n",
       "      <td>0.351</td>\n",
       "      <td>31</td>\n",
       "      <td>2760.0</td>\n",
       "      <td>Evening</td>\n",
       "      <td>8</td>\n",
       "      <td>0</td>\n",
       "    </tr>\n",
       "    <tr>\n",
       "      <th>2</th>\n",
       "      <td>0</td>\n",
       "      <td>M</td>\n",
       "      <td>183</td>\n",
       "      <td>64</td>\n",
       "      <td>0</td>\n",
       "      <td>0</td>\n",
       "      <td>23.3</td>\n",
       "      <td>0.672</td>\n",
       "      <td>32</td>\n",
       "      <td>6480.0</td>\n",
       "      <td>Morning</td>\n",
       "      <td>8</td>\n",
       "      <td>1</td>\n",
       "    </tr>\n",
       "    <tr>\n",
       "      <th>3</th>\n",
       "      <td>1</td>\n",
       "      <td>F</td>\n",
       "      <td>89</td>\n",
       "      <td>66</td>\n",
       "      <td>23</td>\n",
       "      <td>94</td>\n",
       "      <td>28.1</td>\n",
       "      <td>0.167</td>\n",
       "      <td>21</td>\n",
       "      <td>NaN</td>\n",
       "      <td>Evening</td>\n",
       "      <td>8</td>\n",
       "      <td>0</td>\n",
       "    </tr>\n",
       "    <tr>\n",
       "      <th>4</th>\n",
       "      <td>0</td>\n",
       "      <td>M</td>\n",
       "      <td>137</td>\n",
       "      <td>40</td>\n",
       "      <td>35</td>\n",
       "      <td>168</td>\n",
       "      <td>43.1</td>\n",
       "      <td>2.288</td>\n",
       "      <td>33</td>\n",
       "      <td>1970.0</td>\n",
       "      <td>No</td>\n",
       "      <td>9</td>\n",
       "      <td>1</td>\n",
       "    </tr>\n",
       "  </tbody>\n",
       "</table>\n",
       "</div>"
      ],
      "text/plain": [
       "   Pregnancies Gender  Glucose  BloodPressure  SkinThickness  Insulin   BMI  \\\n",
       "0            0      M      148             72             35        0  33.6   \n",
       "1            1      F       85             66             29        0  26.6   \n",
       "2            0      M      183             64              0        0  23.3   \n",
       "3            1      F       89             66             23       94  28.1   \n",
       "4            0      M      137             40             35      168  43.1   \n",
       "\n",
       "   DiabetesPedigreeFunction  Age  CalorieIntake Exercise  SleepDuration  \\\n",
       "0                     0.627   50         2508.3       No              6   \n",
       "1                     0.351   31         2760.0  Evening              8   \n",
       "2                     0.672   32         6480.0  Morning              8   \n",
       "3                     0.167   21            NaN  Evening              8   \n",
       "4                     2.288   33         1970.0       No              9   \n",
       "\n",
       "   Outcome  \n",
       "0        1  \n",
       "1        0  \n",
       "2        1  \n",
       "3        0  \n",
       "4        1  "
      ]
     },
     "execution_count": 5,
     "metadata": {},
     "output_type": "execute_result"
    }
   ],
   "source": [
    "diabetes_df=diabetes_df[l1]\n",
    "diabetes_df.head()"
   ]
  },
  {
   "cell_type": "code",
   "execution_count": 6,
   "metadata": {
    "ExecuteTime": {
     "end_time": "2021-05-22T10:43:04.007199Z",
     "start_time": "2021-05-22T10:43:03.949571Z"
    },
    "scrolled": true
   },
   "outputs": [
    {
     "name": "stdout",
     "output_type": "stream",
     "text": [
      "<class 'pandas.core.frame.DataFrame'>\n",
      "RangeIndex: 768 entries, 0 to 767\n",
      "Data columns (total 13 columns):\n",
      " #   Column                    Non-Null Count  Dtype  \n",
      "---  ------                    --------------  -----  \n",
      " 0   Pregnancies               768 non-null    int64  \n",
      " 1   Gender                    768 non-null    object \n",
      " 2   Glucose                   768 non-null    int64  \n",
      " 3   BloodPressure             768 non-null    int64  \n",
      " 4   SkinThickness             768 non-null    int64  \n",
      " 5   Insulin                   768 non-null    int64  \n",
      " 6   BMI                       768 non-null    float64\n",
      " 7   DiabetesPedigreeFunction  768 non-null    float64\n",
      " 8   Age                       768 non-null    int64  \n",
      " 9   CalorieIntake             753 non-null    float64\n",
      " 10  Exercise                  768 non-null    object \n",
      " 11  SleepDuration             768 non-null    int64  \n",
      " 12  Outcome                   768 non-null    int64  \n",
      "dtypes: float64(3), int64(8), object(2)\n",
      "memory usage: 78.1+ KB\n"
     ]
    }
   ],
   "source": [
    "diabetes_df.info()"
   ]
  },
  {
   "cell_type": "markdown",
   "metadata": {},
   "source": [
    "##  Collection of Dataset Information\n"
   ]
  },
  {
   "cell_type": "markdown",
   "metadata": {},
   "source": [
    "- Pregnancies:- How many Children birth By women\n",
    "- Gender :- Male/Female\n",
    "- Glucose :- Glucose Level increase then Diabetes chance decrease\n",
    "- BloodPressure :- bpm increase then diabetes chance increase\n",
    "- Skinthickness :- fatty acid\n",
    "- insulin :- if insulin increase diabetes decrease\n",
    "- DiabetesPedigreeFunction :- Famliy History diabetes 100% how many family member suffer form diabetes\n",
    "- Bmi  -: overweighted person have high chance for diabetes\n",
    "- CalorieIntake :- per day how many calorieIntake\n",
    "- Exercise :- Exercise Matter \n",
    "\n"
   ]
  },
  {
   "cell_type": "markdown",
   "metadata": {},
   "source": [
    "## Data Clean\n"
   ]
  },
  {
   "cell_type": "code",
   "execution_count": 7,
   "metadata": {
    "ExecuteTime": {
     "end_time": "2021-05-22T10:43:07.714396Z",
     "start_time": "2021-05-22T10:43:07.694399Z"
    }
   },
   "outputs": [],
   "source": [
    "diabetes_df[\"Exercise\"]=diabetes_df[\"Exercise\"].replace({\"No\":1,\"Evening\":2,\"Morning\":3,\"Both\":4}).astype(int)\n",
    "diabetes_df[\"Gender\"]=diabetes_df[\"Gender\"].replace({\"M\":1,\"F\":0}).astype(int)\n"
   ]
  },
  {
   "cell_type": "code",
   "execution_count": 8,
   "metadata": {
    "ExecuteTime": {
     "end_time": "2021-05-22T10:43:09.197015Z",
     "start_time": "2021-05-22T10:43:08.316513Z"
    },
    "scrolled": true
   },
   "outputs": [
    {
     "data": {
      "text/plain": [
       "array([[<AxesSubplot:title={'center':'CalorieIntake'}>]], dtype=object)"
      ]
     },
     "execution_count": 8,
     "metadata": {},
     "output_type": "execute_result"
    },
    {
     "data": {
      "image/png": "[encoded data removed]",
      "text/plain": [
       "<Figure size 432x288 with 1 Axes>"
      ]
     },
     "metadata": {
      "needs_background": "light"
     },
     "output_type": "display_data"
    }
   ],
   "source": [
    "diabetes_df.hist(\"CalorieIntake\")"
   ]
  },
  {
   "cell_type": "code",
   "execution_count": 9,
   "metadata": {
    "ExecuteTime": {
     "end_time": "2021-05-22T10:43:09.212014Z",
     "start_time": "2021-05-22T10:43:09.202000Z"
    }
   },
   "outputs": [],
   "source": [
    "diabetes_df[\"CalorieIntake\"].fillna(diabetes_df[\"CalorieIntake\"].median(),inplace=True)"
   ]
  },
  {
   "cell_type": "code",
   "execution_count": 10,
   "metadata": {
    "ExecuteTime": {
     "end_time": "2021-05-22T10:43:09.528133Z",
     "start_time": "2021-05-22T10:43:09.498133Z"
    },
    "scrolled": false
   },
   "outputs": [
    {
     "data": {
      "text/html": [
       "<div>\n",
       "<style scoped>\n",
       "    .dataframe tbody tr th:only-of-type {\n",
       "        vertical-align: middle;\n",
       "    }\n",
       "\n",
       "    .dataframe tbody tr th {\n",
       "        vertical-align: top;\n",
       "    }\n",
       "\n",
       "    .dataframe thead th {\n",
       "        text-align: right;\n",
       "    }\n",
       "</style>\n",
       "<table border=\"1\" class=\"dataframe\">\n",
       "  <thead>\n",
       "    <tr style=\"text-align: right;\">\n",
       "      <th></th>\n",
       "      <th>Pregnancies</th>\n",
       "      <th>Gender</th>\n",
       "      <th>Glucose</th>\n",
       "      <th>BloodPressure</th>\n",
       "      <th>SkinThickness</th>\n",
       "      <th>Insulin</th>\n",
       "      <th>BMI</th>\n",
       "      <th>DiabetesPedigreeFunction</th>\n",
       "      <th>Age</th>\n",
       "      <th>CalorieIntake</th>\n",
       "      <th>Exercise</th>\n",
       "      <th>SleepDuration</th>\n",
       "      <th>Outcome</th>\n",
       "    </tr>\n",
       "  </thead>\n",
       "  <tbody>\n",
       "    <tr>\n",
       "      <th>0</th>\n",
       "      <td>0</td>\n",
       "      <td>1</td>\n",
       "      <td>148</td>\n",
       "      <td>72</td>\n",
       "      <td>35</td>\n",
       "      <td>0</td>\n",
       "      <td>33.6</td>\n",
       "      <td>0.627</td>\n",
       "      <td>50</td>\n",
       "      <td>2508.3</td>\n",
       "      <td>1</td>\n",
       "      <td>6</td>\n",
       "      <td>1</td>\n",
       "    </tr>\n",
       "    <tr>\n",
       "      <th>1</th>\n",
       "      <td>1</td>\n",
       "      <td>0</td>\n",
       "      <td>85</td>\n",
       "      <td>66</td>\n",
       "      <td>29</td>\n",
       "      <td>0</td>\n",
       "      <td>26.6</td>\n",
       "      <td>0.351</td>\n",
       "      <td>31</td>\n",
       "      <td>2760.0</td>\n",
       "      <td>2</td>\n",
       "      <td>8</td>\n",
       "      <td>0</td>\n",
       "    </tr>\n",
       "    <tr>\n",
       "      <th>2</th>\n",
       "      <td>0</td>\n",
       "      <td>1</td>\n",
       "      <td>183</td>\n",
       "      <td>64</td>\n",
       "      <td>0</td>\n",
       "      <td>0</td>\n",
       "      <td>23.3</td>\n",
       "      <td>0.672</td>\n",
       "      <td>32</td>\n",
       "      <td>6480.0</td>\n",
       "      <td>3</td>\n",
       "      <td>8</td>\n",
       "      <td>1</td>\n",
       "    </tr>\n",
       "    <tr>\n",
       "      <th>3</th>\n",
       "      <td>1</td>\n",
       "      <td>0</td>\n",
       "      <td>89</td>\n",
       "      <td>66</td>\n",
       "      <td>23</td>\n",
       "      <td>94</td>\n",
       "      <td>28.1</td>\n",
       "      <td>0.167</td>\n",
       "      <td>21</td>\n",
       "      <td>2893.0</td>\n",
       "      <td>2</td>\n",
       "      <td>8</td>\n",
       "      <td>0</td>\n",
       "    </tr>\n",
       "    <tr>\n",
       "      <th>4</th>\n",
       "      <td>0</td>\n",
       "      <td>1</td>\n",
       "      <td>137</td>\n",
       "      <td>40</td>\n",
       "      <td>35</td>\n",
       "      <td>168</td>\n",
       "      <td>43.1</td>\n",
       "      <td>2.288</td>\n",
       "      <td>33</td>\n",
       "      <td>1970.0</td>\n",
       "      <td>1</td>\n",
       "      <td>9</td>\n",
       "      <td>1</td>\n",
       "    </tr>\n",
       "  </tbody>\n",
       "</table>\n",
       "</div>"
      ],
      "text/plain": [
       "   Pregnancies  Gender  Glucose  BloodPressure  SkinThickness  Insulin   BMI  \\\n",
       "0            0       1      148             72             35        0  33.6   \n",
       "1            1       0       85             66             29        0  26.6   \n",
       "2            0       1      183             64              0        0  23.3   \n",
       "3            1       0       89             66             23       94  28.1   \n",
       "4            0       1      137             40             35      168  43.1   \n",
       "\n",
       "   DiabetesPedigreeFunction  Age  CalorieIntake  Exercise  SleepDuration  \\\n",
       "0                     0.627   50         2508.3         1              6   \n",
       "1                     0.351   31         2760.0         2              8   \n",
       "2                     0.672   32         6480.0         3              8   \n",
       "3                     0.167   21         2893.0         2              8   \n",
       "4                     2.288   33         1970.0         1              9   \n",
       "\n",
       "   Outcome  \n",
       "0        1  \n",
       "1        0  \n",
       "2        1  \n",
       "3        0  \n",
       "4        1  "
      ]
     },
     "execution_count": 10,
     "metadata": {},
     "output_type": "execute_result"
    }
   ],
   "source": [
    "diabetes_df.head()"
   ]
  },
  {
   "cell_type": "code",
   "execution_count": 43,
   "metadata": {
    "ExecuteTime": {
     "end_time": "2021-05-22T10:51:44.948621Z",
     "start_time": "2021-05-22T10:51:44.918614Z"
    }
   },
   "outputs": [
    {
     "data": {
      "text/plain": [
       "0    347\n",
       "1    189\n",
       "Name: Outcome, dtype: int64"
      ]
     },
     "execution_count": 43,
     "metadata": {},
     "output_type": "execute_result"
    }
   ],
   "source": [
    "diabetes_df[\"Outcome\"].value_counts()"
   ]
  },
  {
   "cell_type": "markdown",
   "metadata": {},
   "source": [
    "## Make balance dataset"
   ]
  },
  {
   "cell_type": "code",
   "execution_count": 44,
   "metadata": {
    "ExecuteTime": {
     "end_time": "2021-05-22T10:52:01.895714Z",
     "start_time": "2021-05-22T10:52:01.880735Z"
    }
   },
   "outputs": [],
   "source": [
    "X=diabetes_df.iloc[:,:-1]\n",
    "y=diabetes_df.iloc[:,-1]"
   ]
  },
  {
   "cell_type": "code",
   "execution_count": 45,
   "metadata": {
    "ExecuteTime": {
     "end_time": "2021-05-22T10:52:02.510682Z",
     "start_time": "2021-05-22T10:52:02.485678Z"
    }
   },
   "outputs": [],
   "source": [
    "from imblearn.under_sampling import RandomUnderSampler\n",
    "b=RandomUnderSampler(sampling_strategy=1)\n",
    "X_1,y_1=b.fit_resample(X,y)\n"
   ]
  },
  {
   "cell_type": "code",
   "execution_count": 46,
   "metadata": {
    "ExecuteTime": {
     "end_time": "2021-05-22T10:52:03.056784Z",
     "start_time": "2021-05-22T10:52:03.041784Z"
    }
   },
   "outputs": [
    {
     "data": {
      "text/plain": [
       "1    189\n",
       "0    189\n",
       "Name: Outcome, dtype: int64"
      ]
     },
     "execution_count": 46,
     "metadata": {},
     "output_type": "execute_result"
    }
   ],
   "source": [
    "y_1.value_counts()"
   ]
  },
  {
   "cell_type": "code",
   "execution_count": 47,
   "metadata": {
    "ExecuteTime": {
     "end_time": "2021-05-22T10:52:03.766721Z",
     "start_time": "2021-05-22T10:52:03.756706Z"
    }
   },
   "outputs": [
    {
     "data": {
      "text/plain": [
       "(378, 12)"
      ]
     },
     "execution_count": 47,
     "metadata": {},
     "output_type": "execute_result"
    }
   ],
   "source": [
    "X_1.shape"
   ]
  },
  {
   "cell_type": "code",
   "execution_count": 52,
   "metadata": {
    "ExecuteTime": {
     "end_time": "2021-05-22T10:54:23.532080Z",
     "start_time": "2021-05-22T10:54:23.522079Z"
    }
   },
   "outputs": [],
   "source": [
    "X_1[\"Outcome\"]=y_1"
   ]
  },
  {
   "cell_type": "code",
   "execution_count": 53,
   "metadata": {
    "ExecuteTime": {
     "end_time": "2021-05-22T10:54:24.810300Z",
     "start_time": "2021-05-22T10:54:24.797734Z"
    }
   },
   "outputs": [
    {
     "data": {
      "text/plain": [
       "(378, 13)"
      ]
     },
     "execution_count": 53,
     "metadata": {},
     "output_type": "execute_result"
    }
   ],
   "source": [
    "X_1.shape"
   ]
  },
  {
   "cell_type": "code",
   "execution_count": 55,
   "metadata": {
    "ExecuteTime": {
     "end_time": "2021-05-22T10:54:41.287482Z",
     "start_time": "2021-05-22T10:54:41.182215Z"
    }
   },
   "outputs": [
    {
     "data": {
      "text/plain": [
       "1    189\n",
       "0    189\n",
       "Name: Outcome, dtype: int64"
      ]
     },
     "execution_count": 55,
     "metadata": {},
     "output_type": "execute_result"
    }
   ],
   "source": [
    "X_1[\"Outcome\"].value_counts()"
   ]
  },
  {
   "cell_type": "code",
   "execution_count": 56,
   "metadata": {
    "ExecuteTime": {
     "end_time": "2021-05-22T10:54:45.315233Z",
     "start_time": "2021-05-22T10:54:45.285236Z"
    }
   },
   "outputs": [
    {
     "data": {
      "text/html": [
       "<div>\n",
       "<style scoped>\n",
       "    .dataframe tbody tr th:only-of-type {\n",
       "        vertical-align: middle;\n",
       "    }\n",
       "\n",
       "    .dataframe tbody tr th {\n",
       "        vertical-align: top;\n",
       "    }\n",
       "\n",
       "    .dataframe thead th {\n",
       "        text-align: right;\n",
       "    }\n",
       "</style>\n",
       "<table border=\"1\" class=\"dataframe\">\n",
       "  <thead>\n",
       "    <tr style=\"text-align: right;\">\n",
       "      <th></th>\n",
       "      <th>Pregnancies</th>\n",
       "      <th>Gender</th>\n",
       "      <th>Glucose</th>\n",
       "      <th>BloodPressure</th>\n",
       "      <th>SkinThickness</th>\n",
       "      <th>Insulin</th>\n",
       "      <th>BMI</th>\n",
       "      <th>DiabetesPedigreeFunction</th>\n",
       "      <th>Age</th>\n",
       "      <th>CalorieIntake</th>\n",
       "      <th>Exercise</th>\n",
       "      <th>SleepDuration</th>\n",
       "      <th>Outcome</th>\n",
       "    </tr>\n",
       "  </thead>\n",
       "  <tbody>\n",
       "    <tr>\n",
       "      <th>0</th>\n",
       "      <td>0</td>\n",
       "      <td>0</td>\n",
       "      <td>104</td>\n",
       "      <td>64</td>\n",
       "      <td>23</td>\n",
       "      <td>116</td>\n",
       "      <td>27.8</td>\n",
       "      <td>0.454</td>\n",
       "      <td>23</td>\n",
       "      <td>2508.2</td>\n",
       "      <td>2</td>\n",
       "      <td>5</td>\n",
       "      <td>0</td>\n",
       "    </tr>\n",
       "    <tr>\n",
       "      <th>1</th>\n",
       "      <td>4</td>\n",
       "      <td>0</td>\n",
       "      <td>145</td>\n",
       "      <td>82</td>\n",
       "      <td>18</td>\n",
       "      <td>0</td>\n",
       "      <td>32.5</td>\n",
       "      <td>0.235</td>\n",
       "      <td>70</td>\n",
       "      <td>2501.2</td>\n",
       "      <td>1</td>\n",
       "      <td>9</td>\n",
       "      <td>0</td>\n",
       "    </tr>\n",
       "    <tr>\n",
       "      <th>2</th>\n",
       "      <td>1</td>\n",
       "      <td>0</td>\n",
       "      <td>189</td>\n",
       "      <td>60</td>\n",
       "      <td>23</td>\n",
       "      <td>846</td>\n",
       "      <td>30.1</td>\n",
       "      <td>0.398</td>\n",
       "      <td>59</td>\n",
       "      <td>4280.0</td>\n",
       "      <td>1</td>\n",
       "      <td>8</td>\n",
       "      <td>0</td>\n",
       "    </tr>\n",
       "    <tr>\n",
       "      <th>3</th>\n",
       "      <td>0</td>\n",
       "      <td>1</td>\n",
       "      <td>57</td>\n",
       "      <td>60</td>\n",
       "      <td>0</td>\n",
       "      <td>0</td>\n",
       "      <td>21.7</td>\n",
       "      <td>0.735</td>\n",
       "      <td>67</td>\n",
       "      <td>2273.0</td>\n",
       "      <td>4</td>\n",
       "      <td>5</td>\n",
       "      <td>0</td>\n",
       "    </tr>\n",
       "    <tr>\n",
       "      <th>4</th>\n",
       "      <td>3</td>\n",
       "      <td>0</td>\n",
       "      <td>120</td>\n",
       "      <td>72</td>\n",
       "      <td>22</td>\n",
       "      <td>56</td>\n",
       "      <td>20.8</td>\n",
       "      <td>0.733</td>\n",
       "      <td>48</td>\n",
       "      <td>2500.2</td>\n",
       "      <td>3</td>\n",
       "      <td>5</td>\n",
       "      <td>0</td>\n",
       "    </tr>\n",
       "  </tbody>\n",
       "</table>\n",
       "</div>"
      ],
      "text/plain": [
       "   Pregnancies  Gender  Glucose  BloodPressure  SkinThickness  Insulin   BMI  \\\n",
       "0            0       0      104             64             23      116  27.8   \n",
       "1            4       0      145             82             18        0  32.5   \n",
       "2            1       0      189             60             23      846  30.1   \n",
       "3            0       1       57             60              0        0  21.7   \n",
       "4            3       0      120             72             22       56  20.8   \n",
       "\n",
       "   DiabetesPedigreeFunction  Age  CalorieIntake  Exercise  SleepDuration  \\\n",
       "0                     0.454   23         2508.2         2              5   \n",
       "1                     0.235   70         2501.2         1              9   \n",
       "2                     0.398   59         4280.0         1              8   \n",
       "3                     0.735   67         2273.0         4              5   \n",
       "4                     0.733   48         2500.2         3              5   \n",
       "\n",
       "   Outcome  \n",
       "0        0  \n",
       "1        0  \n",
       "2        0  \n",
       "3        0  \n",
       "4        0  "
      ]
     },
     "execution_count": 56,
     "metadata": {},
     "output_type": "execute_result"
    }
   ],
   "source": [
    "X_1.head()"
   ]
  },
  {
   "cell_type": "code",
   "execution_count": 57,
   "metadata": {
    "ExecuteTime": {
     "end_time": "2021-05-22T10:54:46.060250Z",
     "start_time": "2021-05-22T10:54:46.050250Z"
    }
   },
   "outputs": [],
   "source": [
    "diabetes_df=X_1"
   ]
  },
  {
   "cell_type": "markdown",
   "metadata": {},
   "source": [
    "## Feature Selection start "
   ]
  },
  {
   "cell_type": "raw",
   "metadata": {},
   "source": []
  },
  {
   "cell_type": "code",
   "execution_count": 58,
   "metadata": {
    "ExecuteTime": {
     "end_time": "2021-05-22T10:54:47.825008Z",
     "start_time": "2021-05-22T10:54:47.799997Z"
    }
   },
   "outputs": [
    {
     "name": "stdout",
     "output_type": "stream",
     "text": [
      "Pregnancies 6\n",
      "Gender 2\n",
      "Exercise 4\n",
      "SleepDuration 12\n"
     ]
    }
   ],
   "source": [
    "category_feature=[]\n",
    "continues_feature=[]\n",
    "for j,i in zip(diabetes_df.columns[:-1],diabetes_df.nunique()):\n",
    "    if (i/diabetes_df.shape[0])>0.06:\n",
    "        \n",
    "        continues_feature.append(j)\n",
    "    else:\n",
    "        print(j,i)\n",
    "        category_feature.append(j)\n",
    "        \n",
    "category_feature.append(\"Outcome\")\n",
    "continues_feature.append(\"Outcome\")\n",
    "    \n",
    "    \n"
   ]
  },
  {
   "cell_type": "code",
   "execution_count": 59,
   "metadata": {
    "ExecuteTime": {
     "end_time": "2021-05-22T10:54:48.710516Z",
     "start_time": "2021-05-22T10:54:48.700514Z"
    }
   },
   "outputs": [
    {
     "data": {
      "text/plain": [
       "(['Pregnancies', 'Gender', 'Exercise', 'SleepDuration', 'Outcome'],\n",
       " ['Glucose',\n",
       "  'BloodPressure',\n",
       "  'SkinThickness',\n",
       "  'Insulin',\n",
       "  'BMI',\n",
       "  'DiabetesPedigreeFunction',\n",
       "  'Age',\n",
       "  'CalorieIntake',\n",
       "  'Outcome'])"
      ]
     },
     "execution_count": 59,
     "metadata": {},
     "output_type": "execute_result"
    }
   ],
   "source": [
    "category_feature,continues_feature"
   ]
  },
  {
   "cell_type": "markdown",
   "metadata": {},
   "source": [
    "### Selection of Category Feature  "
   ]
  },
  {
   "cell_type": "markdown",
   "metadata": {},
   "source": [
    "#### method 1 : Cramer's V test"
   ]
  },
  {
   "cell_type": "code",
   "execution_count": 60,
   "metadata": {
    "ExecuteTime": {
     "end_time": "2021-05-22T10:54:50.446343Z",
     "start_time": "2021-05-22T10:54:50.431340Z"
    },
    "scrolled": true
   },
   "outputs": [
    {
     "data": {
      "text/plain": [
       "['Pregnancies', 'Gender', 'Exercise', 'SleepDuration', 'Outcome']"
      ]
     },
     "execution_count": 60,
     "metadata": {},
     "output_type": "execute_result"
    }
   ],
   "source": [
    "category_feature"
   ]
  },
  {
   "cell_type": "code",
   "execution_count": 61,
   "metadata": {
    "ExecuteTime": {
     "end_time": "2021-05-22T10:54:51.622264Z",
     "start_time": "2021-05-22T10:54:51.077080Z"
    }
   },
   "outputs": [],
   "source": [
    "# import FisherExactTest\n",
    "\n",
    "import scipy.stats as st \n",
    "df=pd.DataFrame(columns=category_feature,index=category_feature)\n",
    "m = np.array([[4,4],[4,5],[10,6]])\n",
    "\n",
    "for j in category_feature:\n",
    "    l1=[]\n",
    "    for i in category_feature:\n",
    "        df_t=pd.crosstab(diabetes_df[i],diabetes_df[j])\n",
    "        stat, p, dof, expected = st.chi2_contingency(df_t,correction=True)\n",
    "\n",
    "        x=np.ndarray.flatten(expected)\n",
    "        y=x<5\n",
    "#         if True in y or p<0.05: \n",
    "# #             print(i,p) ## failed chi squrared test but their is no module for fisher exact test \n",
    "#             # but here p-value<0.05  is small so we can select this feature.\n",
    "#             ## \n",
    "#             l1.append(p)\n",
    "#         else:\n",
    "        t=min(df_t.shape)-1\n",
    "        deno=sum(df_t.sum())\n",
    "        x=np.sqrt(stat / deno)\n",
    "        l1.append(x)\n",
    "    df.loc[:,j]=pd.Series(l1,index=category_feature)\n",
    "    \n",
    "## Here we can see all categotry feature relavent for Our Outcome variable "
   ]
  },
  {
   "cell_type": "code",
   "execution_count": 62,
   "metadata": {
    "ExecuteTime": {
     "end_time": "2021-05-22T10:54:51.847351Z",
     "start_time": "2021-05-22T10:54:51.829809Z"
    },
    "scrolled": true
   },
   "outputs": [
    {
     "data": {
      "text/html": [
       "<div>\n",
       "<style scoped>\n",
       "    .dataframe tbody tr th:only-of-type {\n",
       "        vertical-align: middle;\n",
       "    }\n",
       "\n",
       "    .dataframe tbody tr th {\n",
       "        vertical-align: top;\n",
       "    }\n",
       "\n",
       "    .dataframe thead th {\n",
       "        text-align: right;\n",
       "    }\n",
       "</style>\n",
       "<table border=\"1\" class=\"dataframe\">\n",
       "  <thead>\n",
       "    <tr style=\"text-align: right;\">\n",
       "      <th></th>\n",
       "      <th>Pregnancies</th>\n",
       "      <th>Gender</th>\n",
       "      <th>Exercise</th>\n",
       "      <th>SleepDuration</th>\n",
       "      <th>Outcome</th>\n",
       "    </tr>\n",
       "  </thead>\n",
       "  <tbody>\n",
       "    <tr>\n",
       "      <th>Pregnancies</th>\n",
       "      <td>2.236068</td>\n",
       "      <td>0.825379</td>\n",
       "      <td>0.299854</td>\n",
       "      <td>1.643618</td>\n",
       "      <td>0.150503</td>\n",
       "    </tr>\n",
       "    <tr>\n",
       "      <th>Gender</th>\n",
       "      <td>0.825379</td>\n",
       "      <td>0.994048</td>\n",
       "      <td>0.147889</td>\n",
       "      <td>0.275845</td>\n",
       "      <td>0.016836</td>\n",
       "    </tr>\n",
       "    <tr>\n",
       "      <th>Exercise</th>\n",
       "      <td>0.299854</td>\n",
       "      <td>0.147889</td>\n",
       "      <td>1.732051</td>\n",
       "      <td>0.612657</td>\n",
       "      <td>0.099627</td>\n",
       "    </tr>\n",
       "    <tr>\n",
       "      <th>SleepDuration</th>\n",
       "      <td>1.643618</td>\n",
       "      <td>0.275845</td>\n",
       "      <td>0.612657</td>\n",
       "      <td>3.316625</td>\n",
       "      <td>0.190415</td>\n",
       "    </tr>\n",
       "    <tr>\n",
       "      <th>Outcome</th>\n",
       "      <td>0.150503</td>\n",
       "      <td>0.016836</td>\n",
       "      <td>0.099627</td>\n",
       "      <td>0.190415</td>\n",
       "      <td>0.994709</td>\n",
       "    </tr>\n",
       "  </tbody>\n",
       "</table>\n",
       "</div>"
      ],
      "text/plain": [
       "               Pregnancies    Gender  Exercise  SleepDuration   Outcome\n",
       "Pregnancies       2.236068  0.825379  0.299854       1.643618  0.150503\n",
       "Gender            0.825379  0.994048  0.147889       0.275845  0.016836\n",
       "Exercise          0.299854  0.147889  1.732051       0.612657  0.099627\n",
       "SleepDuration     1.643618  0.275845  0.612657       3.316625  0.190415\n",
       "Outcome           0.150503  0.016836  0.099627       0.190415  0.994709"
      ]
     },
     "execution_count": 62,
     "metadata": {},
     "output_type": "execute_result"
    }
   ],
   "source": [
    "# df.style.apply(lambda x: [\"background: red\" if v>1.980848e-119 else \"\" for v in x], axis = 1)\n",
    "df.head()"
   ]
  },
  {
   "cell_type": "code",
   "execution_count": null,
   "metadata": {},
   "outputs": [],
   "source": []
  },
  {
   "cell_type": "markdown",
   "metadata": {},
   "source": [
    "<b> Here we can see all categotry feature relavent for Our Outcome variable </b>\n",
    "<br>\n",
    "<b> Note : </b> Here we know the intra relationship between sleep duration and exercise  but we need to take both mesaurements\n",
    "          for checking good body health"
   ]
  },
  {
   "cell_type": "code",
   "execution_count": null,
   "metadata": {},
   "outputs": [],
   "source": []
  },
  {
   "cell_type": "markdown",
   "metadata": {
    "ExecuteTime": {
     "end_time": "2021-05-19T08:26:51.869805Z",
     "start_time": "2021-05-19T08:26:51.861806Z"
    }
   },
   "source": [
    "### Selection of Continues variable "
   ]
  },
  {
   "cell_type": "code",
   "execution_count": 63,
   "metadata": {
    "ExecuteTime": {
     "end_time": "2021-05-22T10:54:54.702222Z",
     "start_time": "2021-05-22T10:54:54.692254Z"
    }
   },
   "outputs": [
    {
     "data": {
      "text/plain": [
       "['Glucose',\n",
       " 'BloodPressure',\n",
       " 'SkinThickness',\n",
       " 'Insulin',\n",
       " 'BMI',\n",
       " 'DiabetesPedigreeFunction',\n",
       " 'Age',\n",
       " 'CalorieIntake',\n",
       " 'Outcome']"
      ]
     },
     "execution_count": 63,
     "metadata": {},
     "output_type": "execute_result"
    }
   ],
   "source": [
    "continues_feature"
   ]
  },
  {
   "cell_type": "code",
   "execution_count": 64,
   "metadata": {
    "ExecuteTime": {
     "end_time": "2021-05-22T10:54:55.279986Z",
     "start_time": "2021-05-22T10:54:55.234995Z"
    }
   },
   "outputs": [
    {
     "data": {
      "text/html": [
       "<div>\n",
       "<style scoped>\n",
       "    .dataframe tbody tr th:only-of-type {\n",
       "        vertical-align: middle;\n",
       "    }\n",
       "\n",
       "    .dataframe tbody tr th {\n",
       "        vertical-align: top;\n",
       "    }\n",
       "\n",
       "    .dataframe thead th {\n",
       "        text-align: right;\n",
       "    }\n",
       "</style>\n",
       "<table border=\"1\" class=\"dataframe\">\n",
       "  <thead>\n",
       "    <tr style=\"text-align: right;\">\n",
       "      <th></th>\n",
       "      <th>Glucose</th>\n",
       "      <th>BloodPressure</th>\n",
       "      <th>SkinThickness</th>\n",
       "      <th>Insulin</th>\n",
       "      <th>BMI</th>\n",
       "      <th>DiabetesPedigreeFunction</th>\n",
       "      <th>Age</th>\n",
       "      <th>CalorieIntake</th>\n",
       "      <th>Outcome</th>\n",
       "    </tr>\n",
       "  </thead>\n",
       "  <tbody>\n",
       "    <tr>\n",
       "      <th>0</th>\n",
       "      <td>104</td>\n",
       "      <td>64</td>\n",
       "      <td>23</td>\n",
       "      <td>116</td>\n",
       "      <td>27.8</td>\n",
       "      <td>0.454</td>\n",
       "      <td>23</td>\n",
       "      <td>2508.2</td>\n",
       "      <td>0</td>\n",
       "    </tr>\n",
       "    <tr>\n",
       "      <th>1</th>\n",
       "      <td>145</td>\n",
       "      <td>82</td>\n",
       "      <td>18</td>\n",
       "      <td>0</td>\n",
       "      <td>32.5</td>\n",
       "      <td>0.235</td>\n",
       "      <td>70</td>\n",
       "      <td>2501.2</td>\n",
       "      <td>0</td>\n",
       "    </tr>\n",
       "    <tr>\n",
       "      <th>2</th>\n",
       "      <td>189</td>\n",
       "      <td>60</td>\n",
       "      <td>23</td>\n",
       "      <td>846</td>\n",
       "      <td>30.1</td>\n",
       "      <td>0.398</td>\n",
       "      <td>59</td>\n",
       "      <td>4280.0</td>\n",
       "      <td>0</td>\n",
       "    </tr>\n",
       "    <tr>\n",
       "      <th>3</th>\n",
       "      <td>57</td>\n",
       "      <td>60</td>\n",
       "      <td>0</td>\n",
       "      <td>0</td>\n",
       "      <td>21.7</td>\n",
       "      <td>0.735</td>\n",
       "      <td>67</td>\n",
       "      <td>2273.0</td>\n",
       "      <td>0</td>\n",
       "    </tr>\n",
       "    <tr>\n",
       "      <th>4</th>\n",
       "      <td>120</td>\n",
       "      <td>72</td>\n",
       "      <td>22</td>\n",
       "      <td>56</td>\n",
       "      <td>20.8</td>\n",
       "      <td>0.733</td>\n",
       "      <td>48</td>\n",
       "      <td>2500.2</td>\n",
       "      <td>0</td>\n",
       "    </tr>\n",
       "    <tr>\n",
       "      <th>...</th>\n",
       "      <td>...</td>\n",
       "      <td>...</td>\n",
       "      <td>...</td>\n",
       "      <td>...</td>\n",
       "      <td>...</td>\n",
       "      <td>...</td>\n",
       "      <td>...</td>\n",
       "      <td>...</td>\n",
       "      <td>...</td>\n",
       "    </tr>\n",
       "    <tr>\n",
       "      <th>373</th>\n",
       "      <td>168</td>\n",
       "      <td>88</td>\n",
       "      <td>29</td>\n",
       "      <td>0</td>\n",
       "      <td>35.0</td>\n",
       "      <td>0.905</td>\n",
       "      <td>52</td>\n",
       "      <td>4100.0</td>\n",
       "      <td>1</td>\n",
       "    </tr>\n",
       "    <tr>\n",
       "      <th>374</th>\n",
       "      <td>187</td>\n",
       "      <td>50</td>\n",
       "      <td>33</td>\n",
       "      <td>392</td>\n",
       "      <td>33.9</td>\n",
       "      <td>0.826</td>\n",
       "      <td>34</td>\n",
       "      <td>2960.0</td>\n",
       "      <td>1</td>\n",
       "    </tr>\n",
       "    <tr>\n",
       "      <th>375</th>\n",
       "      <td>173</td>\n",
       "      <td>78</td>\n",
       "      <td>39</td>\n",
       "      <td>185</td>\n",
       "      <td>33.8</td>\n",
       "      <td>0.970</td>\n",
       "      <td>31</td>\n",
       "      <td>1980.0</td>\n",
       "      <td>1</td>\n",
       "    </tr>\n",
       "    <tr>\n",
       "      <th>376</th>\n",
       "      <td>120</td>\n",
       "      <td>80</td>\n",
       "      <td>37</td>\n",
       "      <td>150</td>\n",
       "      <td>42.3</td>\n",
       "      <td>0.785</td>\n",
       "      <td>48</td>\n",
       "      <td>9220.0</td>\n",
       "      <td>1</td>\n",
       "    </tr>\n",
       "    <tr>\n",
       "      <th>377</th>\n",
       "      <td>126</td>\n",
       "      <td>60</td>\n",
       "      <td>0</td>\n",
       "      <td>0</td>\n",
       "      <td>30.1</td>\n",
       "      <td>0.349</td>\n",
       "      <td>47</td>\n",
       "      <td>8850.0</td>\n",
       "      <td>1</td>\n",
       "    </tr>\n",
       "  </tbody>\n",
       "</table>\n",
       "<p>378 rows × 9 columns</p>\n",
       "</div>"
      ],
      "text/plain": [
       "     Glucose  BloodPressure  SkinThickness  Insulin   BMI  \\\n",
       "0        104             64             23      116  27.8   \n",
       "1        145             82             18        0  32.5   \n",
       "2        189             60             23      846  30.1   \n",
       "3         57             60              0        0  21.7   \n",
       "4        120             72             22       56  20.8   \n",
       "..       ...            ...            ...      ...   ...   \n",
       "373      168             88             29        0  35.0   \n",
       "374      187             50             33      392  33.9   \n",
       "375      173             78             39      185  33.8   \n",
       "376      120             80             37      150  42.3   \n",
       "377      126             60              0        0  30.1   \n",
       "\n",
       "     DiabetesPedigreeFunction  Age  CalorieIntake  Outcome  \n",
       "0                       0.454   23         2508.2        0  \n",
       "1                       0.235   70         2501.2        0  \n",
       "2                       0.398   59         4280.0        0  \n",
       "3                       0.735   67         2273.0        0  \n",
       "4                       0.733   48         2500.2        0  \n",
       "..                        ...  ...            ...      ...  \n",
       "373                     0.905   52         4100.0        1  \n",
       "374                     0.826   34         2960.0        1  \n",
       "375                     0.970   31         1980.0        1  \n",
       "376                     0.785   48         9220.0        1  \n",
       "377                     0.349   47         8850.0        1  \n",
       "\n",
       "[378 rows x 9 columns]"
      ]
     },
     "execution_count": 64,
     "metadata": {},
     "output_type": "execute_result"
    }
   ],
   "source": [
    "continue_diabetes_feature_df=diabetes_df[continues_feature]\n",
    "continue_diabetes_feature_df"
   ]
  },
  {
   "cell_type": "code",
   "execution_count": 65,
   "metadata": {
    "ExecuteTime": {
     "end_time": "2021-05-22T10:54:55.797490Z",
     "start_time": "2021-05-22T10:54:55.780409Z"
    },
    "scrolled": true
   },
   "outputs": [
    {
     "name": "stdout",
     "output_type": "stream",
     "text": [
      "Glucose -0.07693473847404836 0.43745332613637045\n",
      "BloodPressure -1.948496334627428 5.04840700006282\n",
      "SkinThickness 0.03233552113589351 -1.167415722322564\n",
      "Insulin 2.2588641396807487 7.145144738093819\n",
      "BMI -0.3846420945804768 3.0501104478068273\n",
      "DiabetesPedigreeFunction 1.8594336568138103 5.191145795311835\n",
      "Age 0.9419136109858506 0.19417355917309198\n",
      "CalorieIntake 1.5151701989297321 1.8004561567074866\n",
      "Outcome 0.0 -2.010666666666667\n"
     ]
    }
   ],
   "source": [
    "for c,i,j in zip(continue_diabetes_feature_df.columns,continue_diabetes_feature_df.skew(),continue_diabetes_feature_df.kurtosis()):\n",
    "    print(c,i,j)\n"
   ]
  },
  {
   "cell_type": "markdown",
   "metadata": {},
   "source": [
    "### Anova test"
   ]
  },
  {
   "cell_type": "code",
   "execution_count": 121,
   "metadata": {
    "ExecuteTime": {
     "end_time": "2021-05-22T12:17:55.016643Z",
     "start_time": "2021-05-22T12:17:54.992642Z"
    }
   },
   "outputs": [],
   "source": [
    "from sklearn.model_selection import train_test_split\n",
    "from sklearn.preprocessing import StandardScaler\n",
    "sc=StandardScaler()\n",
    "X_scal=sc.fit_transform(X_1[continues_feature].iloc[:,:-1])\n",
    "y_scal=X_1[continues_feature].iloc[:,-1]\n",
    "X_train,X_test,y_train,y_test=train_test_split(X_scal,y_scal)"
   ]
  },
  {
   "cell_type": "code",
   "execution_count": 66,
   "metadata": {
    "ExecuteTime": {
     "end_time": "2021-05-22T10:54:57.622723Z",
     "start_time": "2021-05-22T10:54:57.610208Z"
    }
   },
   "outputs": [],
   "source": [
    "from random import sample\n",
    "\n",
    "\n",
    "def sample_dist(X1, X2):\n",
    "    l1 = []\n",
    "    l2 = []\n",
    "    X1=list(X1)\n",
    "    X2=list(X2)\n",
    "    for i in range(0, 68):\n",
    "        mean_x1 = np.mean(sample(X1, 20))\n",
    "        mean_x2 = np.mean(sample(X2, 20))\n",
    "        \n",
    "        l1.append(mean_x1)\n",
    "        l2.append(mean_x2)\n",
    "    return (l1,l2)"
   ]
  },
  {
   "cell_type": "code",
   "execution_count": 138,
   "metadata": {
    "ExecuteTime": {
     "end_time": "2021-05-22T12:25:56.954940Z",
     "start_time": "2021-05-22T12:25:52.310572Z"
    }
   },
   "outputs": [
    {
     "data": {
      "image/png": "[encoded data removed]",
      "text/plain": [
       "<Figure size 432x432 with 1 Axes>"
      ]
     },
     "metadata": {
      "needs_background": "light"
     },
     "output_type": "display_data"
    },
    {
     "data": {
      "image/png": "[encoded data removed]",
      "text/plain": [
       "<Figure size 432x432 with 1 Axes>"
      ]
     },
     "metadata": {
      "needs_background": "light"
     },
     "output_type": "display_data"
    },
    {
     "data": {
      "image/png": "[encoded data removed]",
      "text/plain": [
       "<Figure size 432x432 with 1 Axes>"
      ]
     },
     "metadata": {
      "needs_background": "light"
     },
     "output_type": "display_data"
    },
    {
     "data": {
      "image/png": "[encoded data removed]",
      "text/plain": [
       "<Figure size 432x432 with 1 Axes>"
      ]
     },
     "metadata": {
      "needs_background": "light"
     },
     "output_type": "display_data"
    },
    {
     "data": {
      "image/png": "[encoded data removed]",
      "text/plain": [
       "<Figure size 432x432 with 1 Axes>"
      ]
     },
     "metadata": {
      "needs_background": "light"
     },
     "output_type": "display_data"
    },
    {
     "data": {
      "image/png": "[encoded data removed]",
      "text/plain": [
       "<Figure size 432x432 with 1 Axes>"
      ]
     },
     "metadata": {
      "needs_background": "light"
     },
     "output_type": "display_data"
    },
    {
     "data": {
      "image/png": "[encoded data removed]",
      "text/plain": [
       "<Figure size 432x432 with 1 Axes>"
      ]
     },
     "metadata": {
      "needs_background": "light"
     },
     "output_type": "display_data"
    },
    {
     "data": {
      "image/png": "[encoded data removed]",
      "text/plain": [
       "<Figure size 432x432 with 1 Axes>"
      ]
     },
     "metadata": {
      "needs_background": "light"
     },
     "output_type": "display_data"
    }
   ],
   "source": [
    "\n",
    "for i in continue_diabetes_feature_df.columns:\n",
    "    from math import sqrt\n",
    "    from statsmodels.stats.power import FTestAnovaPower\n",
    "    if  i !=\"Outcome\":\n",
    "        n=0\n",
    "        fig=plt.figure(figsize=(6,6))\n",
    "        X0=continue_diabetes_feature_df[continue_diabetes_feature_df[\"Outcome\"]==0][i]\n",
    "\n",
    "        X1=continue_diabetes_feature_df[continue_diabetes_feature_df[\"Outcome\"]==1][i]\n",
    "#         X=sample_dist(X0,X1)\n",
    "#         X0=X[0]\n",
    "#         X1=X[1]\n",
    "#         n1=len(X[0])\n",
    "#         n2=len(X[1])\n",
    "        n1=len(X0)\n",
    "        n2=len(X1)\n",
    "       \n",
    "        s1=np.std(X0)\n",
    "        s2=np.std(X1)\n",
    "        u1=np.mean(X0)\n",
    "        u2=np.mean(X1)\n",
    "        \n",
    "        s = sqrt(((n1 - 1) * s1 + (n2 - 1) * s2) / (n1 + n2 - 2))\n",
    "        d=u1-u2/s \n",
    "        alpha=0.05\n",
    "        power=0.8\n",
    "#         print(d)\n",
    "        obj = FTestAnovaPower()\n",
    "        n   = obj.solve_power(effect_size=d,alpha=alpha,nobs=n1)\n",
    "\n",
    "        \n",
    "        F,p_value=st.kruskal(X0,X1) \n",
    "\n",
    "        bbox = fig.get_window_extent().transformed(fig.dpi_scale_trans.inverted())\n",
    "        width, height = bbox.width, bbox.height\n",
    "        \n",
    "\n",
    "        sns.histplot(data=continue_diabetes_feature_df,x=continue_diabetes_feature_df[i],hue=\"Outcome\")\n",
    "#         sns.histplot(x=X0,color=\"blue\")\n",
    "#         sns.histplot(x=X1,color=\"red\")\n",
    "       \n",
    "        plt.title(i+\" , \"+\"p_value=\"+str(round(p_value,4))+\" Power=\"+str(n))\n",
    "\n",
    "    \n",
    "    \n",
    "    \n",
    "  \n",
    "    \n",
    "   "
   ]
  },
  {
   "cell_type": "markdown",
   "metadata": {},
   "source": [
    "\n",
    "<b style=\"font-size:16px\"> Almost all the columns follow normal distributed </b>"
   ]
  },
  {
   "cell_type": "raw",
   "metadata": {},
   "source": []
  },
  {
   "cell_type": "code",
   "execution_count": 122,
   "metadata": {
    "ExecuteTime": {
     "end_time": "2021-05-22T12:17:55.609073Z",
     "start_time": "2021-05-22T12:17:55.603079Z"
    }
   },
   "outputs": [],
   "source": [
    "from sklearn.feature_selection import SelectKBest, chi2,f_classif,f_oneway\n",
    "def select_features(X_train, y_train, X_test):\n",
    "    fs = SelectKBest(score_func=f_classif, k='all')\n",
    "    fs.fit(X_train, y_train)\n",
    "\n",
    "    X_train_fs = fs.transform(X_train)\n",
    "    X_test_fs = fs.transform(X_test)\n",
    "    return X_train_fs, X_test_fs, fs"
   ]
  },
  {
   "cell_type": "code",
   "execution_count": 127,
   "metadata": {
    "ExecuteTime": {
     "end_time": "2021-05-22T12:19:28.242337Z",
     "start_time": "2021-05-22T12:19:28.226347Z"
    }
   },
   "outputs": [
    {
     "data": {
      "text/plain": [
       "(array([0.32499334, 0.57981138, 0.21496897, 0.71114556, 0.20245784,\n",
       "        0.0980553 , 0.33317822, 0.03102333]),\n",
       " Index(['Pregnancies', 'Gender', 'Glucose', 'BloodPressure', 'SkinThickness',\n",
       "        'Insulin', 'BMI', 'DiabetesPedigreeFunction', 'Age', 'CalorieIntake',\n",
       "        'Exercise', 'SleepDuration', 'Outcome'],\n",
       "       dtype='object'))"
      ]
     },
     "execution_count": 127,
     "metadata": {},
     "output_type": "execute_result"
    }
   ],
   "source": [
    "X_train_fs, X_test_fs, fs = select_features(X_train, y_train, X_test)\n",
    "fs.scores_,"
   ]
  },
  {
   "cell_type": "code",
   "execution_count": 131,
   "metadata": {
    "ExecuteTime": {
     "end_time": "2021-05-22T12:20:10.749520Z",
     "start_time": "2021-05-22T12:20:10.742510Z"
    }
   },
   "outputs": [
    {
     "data": {
      "text/plain": [
       "9"
      ]
     },
     "execution_count": 131,
     "metadata": {},
     "output_type": "execute_result"
    }
   ],
   "source": [
    "len(continues_feature)"
   ]
  },
  {
   "cell_type": "code",
   "execution_count": 132,
   "metadata": {
    "ExecuteTime": {
     "end_time": "2021-05-22T12:20:26.503753Z",
     "start_time": "2021-05-22T12:20:26.483763Z"
    }
   },
   "outputs": [
    {
     "data": {
      "text/html": [
       "<div>\n",
       "<style scoped>\n",
       "    .dataframe tbody tr th:only-of-type {\n",
       "        vertical-align: middle;\n",
       "    }\n",
       "\n",
       "    .dataframe tbody tr th {\n",
       "        vertical-align: top;\n",
       "    }\n",
       "\n",
       "    .dataframe thead th {\n",
       "        text-align: right;\n",
       "    }\n",
       "</style>\n",
       "<table border=\"1\" class=\"dataframe\">\n",
       "  <thead>\n",
       "    <tr style=\"text-align: right;\">\n",
       "      <th></th>\n",
       "      <th>Feature</th>\n",
       "      <th>fs</th>\n",
       "      <th>fs_p</th>\n",
       "    </tr>\n",
       "  </thead>\n",
       "  <tbody>\n",
       "    <tr>\n",
       "      <th>3</th>\n",
       "      <td>Insulin</td>\n",
       "      <td>0.711146</td>\n",
       "      <td>0.399781</td>\n",
       "    </tr>\n",
       "    <tr>\n",
       "      <th>1</th>\n",
       "      <td>BloodPressure</td>\n",
       "      <td>0.579811</td>\n",
       "      <td>0.447025</td>\n",
       "    </tr>\n",
       "    <tr>\n",
       "      <th>6</th>\n",
       "      <td>Age</td>\n",
       "      <td>0.333178</td>\n",
       "      <td>0.564256</td>\n",
       "    </tr>\n",
       "    <tr>\n",
       "      <th>0</th>\n",
       "      <td>Glucose</td>\n",
       "      <td>0.324993</td>\n",
       "      <td>0.569078</td>\n",
       "    </tr>\n",
       "    <tr>\n",
       "      <th>2</th>\n",
       "      <td>SkinThickness</td>\n",
       "      <td>0.214969</td>\n",
       "      <td>0.643259</td>\n",
       "    </tr>\n",
       "    <tr>\n",
       "      <th>4</th>\n",
       "      <td>BMI</td>\n",
       "      <td>0.202458</td>\n",
       "      <td>0.653091</td>\n",
       "    </tr>\n",
       "    <tr>\n",
       "      <th>5</th>\n",
       "      <td>DiabetesPedigreeFunction</td>\n",
       "      <td>0.098055</td>\n",
       "      <td>0.754408</td>\n",
       "    </tr>\n",
       "    <tr>\n",
       "      <th>7</th>\n",
       "      <td>CalorieIntake</td>\n",
       "      <td>0.031023</td>\n",
       "      <td>0.860315</td>\n",
       "    </tr>\n",
       "  </tbody>\n",
       "</table>\n",
       "</div>"
      ],
      "text/plain": [
       "                    Feature        fs      fs_p\n",
       "3                   Insulin  0.711146  0.399781\n",
       "1             BloodPressure  0.579811  0.447025\n",
       "6                       Age  0.333178  0.564256\n",
       "0                   Glucose  0.324993  0.569078\n",
       "2             SkinThickness  0.214969  0.643259\n",
       "4                       BMI  0.202458  0.653091\n",
       "5  DiabetesPedigreeFunction  0.098055  0.754408\n",
       "7             CalorieIntake  0.031023  0.860315"
      ]
     },
     "execution_count": 132,
     "metadata": {},
     "output_type": "execute_result"
    }
   ],
   "source": [
    "fs_feature=pd.DataFrame({'Feature':continues_feature[:-1],\"fs\":fs.scores_,\"fs_p\":fs.pvalues_})\n",
    "fs_feature=fs_feature.sort_values(by=\"fs_p\",ascending=True)\n",
    "fs_feature"
   ]
  },
  {
   "cell_type": "code",
   "execution_count": 133,
   "metadata": {
    "ExecuteTime": {
     "end_time": "2021-05-22T12:20:32.467187Z",
     "start_time": "2021-05-22T12:20:31.622741Z"
    }
   },
   "outputs": [
    {
     "name": "stderr",
     "output_type": "stream",
     "text": [
      "C:\\Users\\nikhil\\anaconda3\\lib\\site-packages\\seaborn\\_decorators.py:36: FutureWarning: Pass the following variables as keyword args: x, y. From version 0.12, the only valid positional argument will be `data`, and passing other arguments without an explicit keyword will result in an error or misinterpretation.\n",
      "  warnings.warn(\n"
     ]
    },
    {
     "data": {
      "image/png": "[encoded data removed]",
      "text/plain": [
       "<Figure size 432x288 with 1 Axes>"
      ]
     },
     "metadata": {
      "needs_background": "light"
     },
     "output_type": "display_data"
    }
   ],
   "source": [
    "sns.barplot(fs_feature['Feature'], fs_feature['fs_p'])\n",
    "plt.xticks(rotation=90);\n",
    "plt.show()"
   ]
  },
  {
   "cell_type": "markdown",
   "metadata": {},
   "source": [
    "## Now it's time to visualiaze data in 2d plot "
   ]
  },
  {
   "cell_type": "code",
   "execution_count": null,
   "metadata": {},
   "outputs": [],
   "source": []
  },
  {
   "cell_type": "code",
   "execution_count": null,
   "metadata": {
    "ExecuteTime": {
     "end_time": "2021-05-20T03:31:18.795848Z",
     "start_time": "2021-05-20T03:31:13.964Z"
    }
   },
   "outputs": [],
   "source": [
    "import atoti as tt\n",
    "\n",
    "session = tt.create_session()"
   ]
  },
  {
   "cell_type": "code",
   "execution_count": null,
   "metadata": {
    "ExecuteTime": {
     "end_time": "2021-05-20T03:31:18.795848Z",
     "start_time": "2021-05-20T03:31:13.968Z"
    }
   },
   "outputs": [],
   "source": [
    "df = session.read_csv(\"diabetes.csv\")"
   ]
  },
  {
   "cell_type": "code",
   "execution_count": null,
   "metadata": {
    "ExecuteTime": {
     "end_time": "2021-05-20T03:31:18.803847Z",
     "start_time": "2021-05-20T03:31:13.976Z"
    }
   },
   "outputs": [],
   "source": [
    "df.head()"
   ]
  },
  {
   "cell_type": "code",
   "execution_count": null,
   "metadata": {
    "ExecuteTime": {
     "end_time": "2021-05-20T03:31:18.803847Z",
     "start_time": "2021-05-20T03:31:13.981Z"
    }
   },
   "outputs": [],
   "source": [
    "cube = session.create_cube(df)"
   ]
  },
  {
   "cell_type": "code",
   "execution_count": null,
   "metadata": {
    "ExecuteTime": {
     "end_time": "2021-05-20T03:31:18.811846Z",
     "start_time": "2021-05-20T03:31:13.987Z"
    }
   },
   "outputs": [],
   "source": [
    "h = cube.hierarchies\n",
    "h"
   ]
  },
  {
   "cell_type": "code",
   "execution_count": null,
   "metadata": {
    "ExecuteTime": {
     "end_time": "2021-05-20T03:31:18.811846Z",
     "start_time": "2021-05-20T03:31:13.992Z"
    }
   },
   "outputs": [],
   "source": [
    "session.url"
   ]
  },
  {
   "cell_type": "code",
   "execution_count": null,
   "metadata": {
    "ExecuteTime": {
     "end_time": "2021-05-20T03:31:18.811846Z",
     "start_time": "2021-05-20T03:31:13.996Z"
    }
   },
   "outputs": [],
   "source": [
    "import dtale\n",
    "\n",
    "d=dtale.show(diabetes_df)"
   ]
  },
  {
   "cell_type": "code",
   "execution_count": null,
   "metadata": {},
   "outputs": [],
   "source": []
  },
  {
   "cell_type": "code",
   "execution_count": null,
   "metadata": {
    "ExecuteTime": {
     "end_time": "2021-05-20T03:31:18.819845Z",
     "start_time": "2021-05-20T03:31:14.009Z"
    }
   },
   "outputs": [],
   "source": [
    "import seaborn as sns\n"
   ]
  },
  {
   "cell_type": "code",
   "execution_count": null,
   "metadata": {
    "ExecuteTime": {
     "start_time": "2021-05-22T15:51:33.145Z"
    }
   },
   "outputs": [],
   "source": [
    "sns.pairplot(continue_diabetes_feature_df,hue=\"Outcome\")\n"
   ]
  },
  {
   "cell_type": "code",
   "execution_count": null,
   "metadata": {},
   "outputs": [],
   "source": []
  }
 ],
 "metadata": {
  "kernelspec": {
   "display_name": "Python 3",
   "language": "python",
   "name": "python3"
  },
  "language_info": {
   "codemirror_mode": {
    "name": "ipython",
    "version": 3
   },
   "file_extension": ".py",
   "mimetype": "text/x-python",
   "name": "python",
   "nbconvert_exporter": "python",
   "pygments_lexer": "ipython3",
   "version": "3.8.5"
  },
  "toc": {
   "base_numbering": 1,
   "nav_menu": {},
   "number_sections": true,
   "sideBar": true,
   "skip_h1_title": false,
   "title_cell": "Table of Contents",
   "title_sidebar": "Contents",
   "toc_cell": false,
   "toc_position": {},
   "toc_section_display": true,
   "toc_window_display": false
  }
 },
 "nbformat": 4,
 "nbformat_minor": 4
}

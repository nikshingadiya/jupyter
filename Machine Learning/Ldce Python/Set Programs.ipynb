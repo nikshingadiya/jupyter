{
 "cells": [
  {
   "cell_type": "code",
   "execution_count": 1,
   "metadata": {
    "ExecuteTime": {
     "end_time": "2020-10-30T06:26:41.544081Z",
     "start_time": "2020-10-30T06:26:38.436993Z"
    }
   },
   "outputs": [
    {
     "name": "stdout",
     "output_type": "stream",
     "text": [
      "Enter string:=nikhil\n",
      "Given string in vowel 2\n"
     ]
    }
   ],
   "source": [
    "# 22. Write a program to count number of vowels using sets in given string\n",
    "vowel={'a','i','o','u','e'}\n",
    "str1=input(\"Enter string:=\")\n",
    "x=0\n",
    "for i in str1:\n",
    "    if(i in vowel):\n",
    "        x+=1\n",
    "print(\"Given string in vowel\",x)\n",
    "    \n"
   ]
  },
  {
   "cell_type": "code",
   "execution_count": 3,
   "metadata": {
    "ExecuteTime": {
     "end_time": "2020-10-30T06:29:14.686713Z",
     "start_time": "2020-10-30T06:29:14.674718Z"
    }
   },
   "outputs": [
    {
     "name": "stdout",
     "output_type": "stream",
     "text": [
      "Unsoerted enroll:= {101, 134, 103, 105, 190}\n",
      "sorted enroll:= {105, 101, 134, 103}\n"
     ]
    }
   ],
   "source": [
    "# 23. Write a program to create a set of students’ enrolment number and sort them and\n",
    "#perform add and delete operation on it\n",
    "enroll={101,190,103,105,134}\n",
    "sort_enroll=set()\n",
    "print(\"Unsoerted enroll:=\",enroll)\n",
    "while len(enroll)!=1:\n",
    "    x=min(enroll)\n",
    "    sort_enroll.add(x) #perform add and delete operation on it\n",
    "    enroll.remove(x)\n",
    "print(\"sorted enroll:=\",sort_enroll)"
   ]
  },
  {
   "cell_type": "code",
   "execution_count": 21,
   "metadata": {
    "ExecuteTime": {
     "end_time": "2020-10-29T16:49:18.108559Z",
     "start_time": "2020-10-29T16:49:18.095573Z"
    }
   },
   "outputs": [
    {
     "name": "stdout",
     "output_type": "stream",
     "text": [
      "setA:  {'D', 'P', 'A', 'B', 'M', 'N', 'C'}\n",
      "setB:  {'D', 'P', 'A', 'F', 'G'}\n",
      "Union:  {'D', 'P', 'A', 'B', 'F', 'M', 'G', 'N', 'C'}\n",
      "Intersection:  {'D', 'P', 'A'}\n",
      "difference:  {'B', 'C', 'N', 'M'}\n",
      "symmetric difference:  {'M', 'B', 'C', 'F', 'N', 'G'}\n",
      "membership testing:  False\n"
     ]
    }
   ],
   "source": [
    "# 24. Write a program to perform union, intersection, difference, and symmetric difference\n",
    "# and membership testing operation for the given sets.\n",
    "setA={'A','B','C','D','M','N','P'}\n",
    "setB={'A','P','D','G','F'}\n",
    "print(\"setA: \",setA)\n",
    "print(\"setB: \",setB)\n",
    "print('Union: ',setA.union(setB))\n",
    "\n",
    "print('Intersection: ',setA.intersection(setB))\n",
    "\n",
    "print('difference: ',setA.difference(setB))\n",
    "print('symmetric difference: ',setA.symmetric_difference(setB))\n",
    "print('membership testing: ',setA.issubset(setB))"
   ]
  },
  {
   "cell_type": "code",
   "execution_count": null,
   "metadata": {},
   "outputs": [],
   "source": []
  }
 ],
 "metadata": {
  "kernelspec": {
   "display_name": "Python 3",
   "language": "python",
   "name": "python3"
  },
  "language_info": {
   "codemirror_mode": {
    "name": "ipython",
    "version": 3
   },
   "file_extension": ".py",
   "mimetype": "text/x-python",
   "name": "python",
   "nbconvert_exporter": "python",
   "pygments_lexer": "ipython3",
   "version": "3.7.6"
  },
  "toc": {
   "base_numbering": 1,
   "nav_menu": {},
   "number_sections": true,
   "sideBar": true,
   "skip_h1_title": false,
   "title_cell": "Table of Contents",
   "title_sidebar": "Contents",
   "toc_cell": false,
   "toc_position": {},
   "toc_section_display": true,
   "toc_window_display": false
  }
 },
 "nbformat": 4,
 "nbformat_minor": 4
}

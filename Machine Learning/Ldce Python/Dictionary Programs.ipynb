{
 "cells": [
  {
   "cell_type": "code",
   "execution_count": 11,
   "metadata": {
    "ExecuteTime": {
     "end_time": "2020-10-29T17:05:15.373845Z",
     "start_time": "2020-10-29T17:05:15.364850Z"
    }
   },
   "outputs": [
    {
     "name": "stdout",
     "output_type": "stream",
     "text": [
      "{'Nikhil': 19, 'Mip': 34, 'Nio': 12, 'Ah jin': 78}\n",
      "pop last_item ('Bio', 54)\n",
      "{'Nikhil': 19, 'Mip': 34, 'Nio': 12, 'Ah jin': 78}\n",
      "pop by key 34\n",
      "{'Nikhil': 19, 'Nio': 12, 'Ah jin': 78}\n"
     ]
    }
   ],
   "source": [
    "# 25. Write a program to create a dictionary of student details and perform basic operation\n",
    "# on it.\n",
    "std_data={'Nikhil':19,'Mip':34,'Nio':12,\"Ah jin\":78}\n",
    "print(std_data)\n",
    "std_data['Bio']=54\n",
    "print(\"pop last_item:=\",std_data.popitem())\n",
    "print(std_data)\n",
    "print(\"pop by key;=\",std_data.pop('Mip'))\n",
    "print(std_data)"
   ]
  },
  {
   "cell_type": "code",
   "execution_count": 1,
   "metadata": {
    "ExecuteTime": {
     "end_time": "2020-10-30T07:19:34.802977Z",
     "start_time": "2020-10-30T07:19:30.317628Z"
    }
   },
   "outputs": [
    {
     "name": "stdout",
     "output_type": "stream",
     "text": [
      "Enter a String:=Nikhil\n",
      "{'N': 1, 'i': 2, 'k': 1, 'h': 1, 'l': 1}\n"
     ]
    }
   ],
   "source": [
    "# 26. Write a program to create a dictionary from string in which individual character is\n",
    "# key and its count in string is value of key.\n",
    "\n",
    "str1=input(\"Enter a String:=\")\n",
    "my_dict={}\n",
    "for i in str1:\n",
    "    my_dict[i]=my_dict.get(i,0)+1\n",
    "print(my_dict)"
   ]
  },
  {
   "cell_type": "code",
   "execution_count": 30,
   "metadata": {
    "ExecuteTime": {
     "end_time": "2020-10-29T17:46:24.820291Z",
     "start_time": "2020-10-29T17:46:24.811299Z"
    }
   },
   "outputs": [
    {
     "name": "stdout",
     "output_type": "stream",
     "text": [
      "Unsorted dictionary:= {'Nikhil': 19, 'Mip': 34, 'Nio': 12, 'ah_jin_lee': 78}\n",
      "sorted dictionary:= {'ah_jin_lee': 78, 'Mip': 34, 'Nikhil': 19, 'Nio': 12}\n"
     ]
    }
   ],
   "source": [
    "# 27. Write a program to create a dictionary of students’ mid semester marks of semester-5\n",
    "# subjects(subject name is key and marks is value) and display it according to\n",
    "# descending order of marks(value).\n",
    "std_data={'Nikhil':19,'Mip':34,'Nio':12,\"ah_jin_lee\":78}\n",
    "print(\"Unsorted dictionary:=\",std_data)\n",
    "srt_data=dict(sorted(std_data.items(),key=lambda x:x[1],reverse=True))\n",
    "print(\"sorted dictionary:=\",srt_data)\n"
   ]
  },
  {
   "cell_type": "code",
   "execution_count": 44,
   "metadata": {
    "ExecuteTime": {
     "end_time": "2020-10-29T17:56:46.540388Z",
     "start_time": "2020-10-29T17:56:46.524399Z"
    }
   },
   "outputs": [
    {
     "name": "stdout",
     "output_type": "stream",
     "text": [
      "Unsorted list= [{'name': 'Nikhil', 'spi': 7.8, 'zip_c': 'xyz'}, {'name': 'Mip', 'spi': 4.8, 'zip_c': 'xy'}, {'name': 'Nio', 'spi': 2.8, 'zip_c': 'xz'}, {'name': 'ah_jin_lee', 'spi': 9.8, 'zip_c': 'yz'}]\n",
      "\n",
      "sorted dictionary:= [{'name': 'ah_jin_lee', 'spi': 9.8, 'zip_c': 'yz'}, {'name': 'Nikhil', 'spi': 7.8, 'zip_c': 'xyz'}, {'name': 'Mip', 'spi': 4.8, 'zip_c': 'xy'}, {'name': 'Nio', 'spi': 2.8, 'zip_c': 'xz'}]\n"
     ]
    }
   ],
   "source": [
    "# 28. Write a program to list of objects of dictionary of student details sort them according\n",
    "# to the SPI of students\n",
    "from operator import itemgetter \n",
    "std1={'name':'Nikhil','spi':7.8,'zip_c':'xyz'}\n",
    "std2={'name':'Mip','spi':4.8,'zip_c':'xy'}\n",
    "std3={'name':'Nio','spi':2.8,'zip_c':'xz'}\n",
    "std4={'name':'ah_jin_lee','spi':9.8,'zip_c':'yz'}\n",
    "\n",
    "l1=[std1,std2,std3,std4]\n",
    "print(\"Unsorted list=\",l1)\n",
    "srt_data=sorted(l1, key=itemgetter('spi'),reverse = True) \n",
    "print()\n",
    "print(\"sorted dictionary:=\",srt_data)\n"
   ]
  },
  {
   "cell_type": "code",
   "execution_count": null,
   "metadata": {},
   "outputs": [],
   "source": []
  }
 ],
 "metadata": {
  "kernelspec": {
   "display_name": "Python 3",
   "language": "python",
   "name": "python3"
  },
  "language_info": {
   "codemirror_mode": {
    "name": "ipython",
    "version": 3
   },
   "file_extension": ".py",
   "mimetype": "text/x-python",
   "name": "python",
   "nbconvert_exporter": "python",
   "pygments_lexer": "ipython3",
   "version": "3.7.6"
  },
  "toc": {
   "base_numbering": 1,
   "nav_menu": {},
   "number_sections": true,
   "sideBar": true,
   "skip_h1_title": false,
   "title_cell": "Table of Contents",
   "title_sidebar": "Contents",
   "toc_cell": false,
   "toc_position": {},
   "toc_section_display": true,
   "toc_window_display": false
  }
 },
 "nbformat": 4,
 "nbformat_minor": 4
}

{
 "cells": [
  {
   "cell_type": "code",
   "execution_count": 1,
   "metadata": {
    "ExecuteTime": {
     "end_time": "2020-10-30T06:16:31.502037Z",
     "start_time": "2020-10-30T06:16:31.491042Z"
    }
   },
   "outputs": [
    {
     "name": "stdout",
     "output_type": "stream",
     "text": [
      "List:= [1, 2, 3, 4, 8]\n",
      "5\n"
     ]
    }
   ],
   "source": [
    "#16 Write a python program to find length of the list without using len() function.\n",
    "l1=[1,2,3,4,8]\n",
    "print(\"List:=\",l1)\n",
    "x=0\n",
    "for i in l1:\n",
    "    x+=1 \n",
    "print(x)"
   ]
  },
  {
   "cell_type": "code",
   "execution_count": 10,
   "metadata": {
    "ExecuteTime": {
     "end_time": "2020-10-30T06:21:00.194773Z",
     "start_time": "2020-10-30T06:21:00.185783Z"
    }
   },
   "outputs": [
    {
     "name": "stdout",
     "output_type": "stream",
     "text": [
      "List:= [1, 2, 5, 7, 4]\n",
      "4\n"
     ]
    }
   ],
   "source": [
    "#17 Write a python program to find occurrence of an element in the list.\n",
    "l2=[1,2,5,7,4]\n",
    "print(\"List:=\",l2)\n",
    "x=4\n",
    "flag=0\n",
    "for i in range(len(l2)):\n",
    "    if(x==l2[i]):\n",
    "        print(i)\n",
    "        flag=1\n",
    "        break\n",
    "        \n",
    "if(flag==0):\n",
    "    print(-1)\n",
    "    "
   ]
  },
  {
   "cell_type": "code",
   "execution_count": 2,
   "metadata": {
    "ExecuteTime": {
     "end_time": "2020-10-30T06:16:48.064420Z",
     "start_time": "2020-10-30T06:16:48.055426Z"
    }
   },
   "outputs": [
    {
     "name": "stdout",
     "output_type": "stream",
     "text": [
      "List:= [1, 3, 3, 6]\n",
      "13\n"
     ]
    }
   ],
   "source": [
    "#18 Write a python program to find sum of all elements of list.\n",
    "l3=[1,3,3,6]\n",
    "print(\"List:=\",l3)\n",
    "s=0\n",
    "for i in l3:\n",
    "    s+=i\n",
    "print(s)\n",
    "    "
   ]
  },
  {
   "cell_type": "code",
   "execution_count": 5,
   "metadata": {
    "ExecuteTime": {
     "end_time": "2020-10-30T06:17:36.438425Z",
     "start_time": "2020-10-30T06:17:36.428430Z"
    }
   },
   "outputs": [
    {
     "name": "stdout",
     "output_type": "stream",
     "text": [
      "List:= [1, 4, 2, 8, 2, 7]\n",
      "min_number:= 1\n",
      "max_number:= 8\n"
     ]
    }
   ],
   "source": [
    "#19  Write a program to find smallest and largest number from the list.\n",
    "\n",
    "l4=[1,4,2,8,2,7]\n",
    "print(\"List:=\",l4)\n",
    "min_number=l1[0]\n",
    "max_number=l1[0]\n",
    "for i in l4:\n",
    "    if(min_number>i):\n",
    "        min_number=i\n",
    "    if(max_number<i):\n",
    "        max_number=i\n",
    "print(\"min_number:=\",min_number)\n",
    "print(\"max_number:=\",max_number)"
   ]
  },
  {
   "cell_type": "code",
   "execution_count": 7,
   "metadata": {
    "ExecuteTime": {
     "end_time": "2020-10-30T06:18:40.223905Z",
     "start_time": "2020-10-30T06:18:40.214914Z"
    }
   },
   "outputs": [
    {
     "name": "stdout",
     "output_type": "stream",
     "text": [
      "List:= [1, 2, 3, 3, 4, 4, 6]\n",
      "1 1\n",
      "3 2\n",
      "4 2\n",
      "6 1\n"
     ]
    }
   ],
   "source": [
    "#20. Write a program to find and print occurrence of duplicate numbers from the list.\n",
    "l5=[1,2,3,3,4,4,6]\n",
    "print(\"List:=\",l5)\n",
    "for i in l5:\n",
    "    x=0\n",
    "    for j in l5:\n",
    "        if(i==j):\n",
    "            x+=1\n",
    "    print(i,x)\n",
    "    l5.remove(i)\n",
    "        "
   ]
  },
  {
   "cell_type": "code",
   "execution_count": 8,
   "metadata": {
    "ExecuteTime": {
     "end_time": "2020-10-30T06:18:57.947963Z",
     "start_time": "2020-10-30T06:18:57.938971Z"
    }
   },
   "outputs": [
    {
     "name": "stdout",
     "output_type": "stream",
     "text": [
      "List:= [('Nikhil', 34), ('Heer', 56), ('jeel', 77), ('Darshak', 45)]\n",
      "name= Nikhil marks= 34\n",
      "name= Heer marks= 56\n",
      "name= jeel marks= 77\n",
      "name= Darshak marks= 45\n"
     ]
    }
   ],
   "source": [
    "# 21. Create a tuple to store value of student’s marks of pds subject and display it.\n",
    "l1=[('Nikhil',34),(\"Heer\",56),(\"jeel\",77),(\"Darshak\",45)]\n",
    "print(\"List:=\",l1)\n",
    "for i in l1:\n",
    "    print(\"name=\",i[0] ,'marks=',i[1])\n",
    "    "
   ]
  },
  {
   "cell_type": "code",
   "execution_count": null,
   "metadata": {},
   "outputs": [],
   "source": []
  }
 ],
 "metadata": {
  "kernelspec": {
   "display_name": "Python 3",
   "language": "python",
   "name": "python3"
  },
  "language_info": {
   "codemirror_mode": {
    "name": "ipython",
    "version": 3
   },
   "file_extension": ".py",
   "mimetype": "text/x-python",
   "name": "python",
   "nbconvert_exporter": "python",
   "pygments_lexer": "ipython3",
   "version": "3.7.6"
  },
  "toc": {
   "base_numbering": 1,
   "nav_menu": {},
   "number_sections": true,
   "sideBar": true,
   "skip_h1_title": false,
   "title_cell": "Table of Contents",
   "title_sidebar": "Contents",
   "toc_cell": false,
   "toc_position": {},
   "toc_section_display": true,
   "toc_window_display": false
  }
 },
 "nbformat": 4,
 "nbformat_minor": 4
}

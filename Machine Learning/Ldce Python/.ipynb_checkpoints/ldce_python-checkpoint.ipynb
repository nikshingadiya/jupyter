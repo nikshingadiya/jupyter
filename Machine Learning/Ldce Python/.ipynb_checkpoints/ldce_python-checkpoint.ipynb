{
 "cells": [
  {
   "cell_type": "code",
   "execution_count": 14,
   "metadata": {
    "ExecuteTime": {
     "end_time": "2020-08-23T10:05:31.425891Z",
     "start_time": "2020-08-23T10:05:31.410269Z"
    }
   },
   "outputs": [],
   "source": [
    "import import_ipynb\n",
    "import jupyter_import"
   ]
  },
  {
   "cell_type": "code",
   "execution_count": 15,
   "metadata": {
    "ExecuteTime": {
     "end_time": "2020-08-23T10:05:51.401690Z",
     "start_time": "2020-08-23T10:05:51.370422Z"
    }
   },
   "outputs": [],
   "source": [
    "%run jupyter_import.ipynb"
   ]
  },
  {
   "cell_type": "code",
   "execution_count": 16,
   "metadata": {
    "ExecuteTime": {
     "end_time": "2020-08-23T10:06:09.618526Z",
     "start_time": "2020-08-23T10:06:07.552697Z"
    }
   },
   "outputs": [
    {
     "data": {
      "image/png": "[encoded data removed]",
      "text/plain": [
       "<Figure size 432x288 with 1 Axes>"
      ]
     },
     "metadata": {
      "needs_background": "light"
     },
     "output_type": "display_data"
    },
    {
     "data": {
      "text/plain": [
       "<function matplotlib.pyplot.show(*args, **kw)>"
      ]
     },
     "execution_count": 16,
     "metadata": {},
     "output_type": "execute_result"
    }
   ],
   "source": [
    "# %load https://matplotlib.org/_downloads/pyplot_text.py\n",
    "\"\"\"\n",
    "===========\n",
    "Pyplot Text\n",
    "===========\n",
    "\n",
    "\"\"\"\n",
    "import numpy as np\n",
    "import matplotlib.pyplot as plt\n",
    "\n",
    "# Fixing random state for reproducibility\n",
    "np.random.seed(19680801)\n",
    "\n",
    "mu, sigma = 100, 15\n",
    "x = mu + sigma * np.random.randn(10000)\n",
    "\n",
    "# the histogram of the data\n",
    "n, bins, patches = plt.hist(x, 50, density=True, facecolor='g', alpha=0.75)\n",
    "\n",
    "\n",
    "plt.xlabel('Smarts')\n",
    "plt.ylabel('Probability')\n",
    "plt.title('Histogram of IQ')\n",
    "plt.text(60, .025, r'$\\mu=100,\\ \\sigma=15$')\n",
    "plt.axis([40, 160, 0, 0.03])\n",
    "plt.grid(True)\n",
    "plt.show()\n",
    "\n",
    "#############################################################################\n",
    "#\n",
    "# ------------\n",
    "#\n",
    "# References\n",
    "# \"\"\"\"\"\"\"\"\"\"\n",
    "#\n",
    "# The use of the following functions, methods, classes and modules is shown\n",
    "# in this example:\n",
    "\n",
    "import matplotlib\n",
    "matplotlib.pyplot.hist\n",
    "matplotlib.pyplot.xlabel\n",
    "matplotlib.pyplot.ylabel\n",
    "matplotlib.pyplot.text\n",
    "matplotlib.pyplot.grid\n",
    "matplotlib.pyplot.show\n"
   ]
  },
  {
   "cell_type": "code",
   "execution_count": 18,
   "metadata": {
    "ExecuteTime": {
     "end_time": "2020-08-23T10:07:11.231509Z",
     "start_time": "2020-08-23T10:07:11.215870Z"
    }
   },
   "outputs": [],
   "source": [
    "import io "
   ]
  },
  {
   "cell_type": "code",
   "execution_count": 20,
   "metadata": {
    "ExecuteTime": {
     "end_time": "2020-08-23T10:08:07.392769Z",
     "start_time": "2020-08-23T10:08:07.361518Z"
    }
   },
   "outputs": [],
   "source": [
    " pr=open('pr.txt','r') "
   ]
  },
  {
   "cell_type": "code",
   "execution_count": 21,
   "metadata": {
    "ExecuteTime": {
     "end_time": "2020-08-23T10:08:16.297236Z",
     "start_time": "2020-08-23T10:08:16.275071Z"
    }
   },
   "outputs": [
    {
     "data": {
      "text/plain": [
       "'pr.txt'"
      ]
     },
     "execution_count": 21,
     "metadata": {},
     "output_type": "execute_result"
    }
   ],
   "source": [
    "pr.name"
   ]
  },
  {
   "cell_type": "code",
   "execution_count": 22,
   "metadata": {
    "ExecuteTime": {
     "end_time": "2020-08-23T10:08:21.859721Z",
     "start_time": "2020-08-23T10:08:21.828533Z"
    }
   },
   "outputs": [
    {
     "data": {
      "text/plain": [
       "<_io.BufferedReader name='pr.txt'>"
      ]
     },
     "execution_count": 22,
     "metadata": {},
     "output_type": "execute_result"
    }
   ],
   "source": [
    "pr.buffer"
   ]
  },
  {
   "cell_type": "code",
   "execution_count": 23,
   "metadata": {
    "ExecuteTime": {
     "end_time": "2020-08-23T10:08:32.682262Z",
     "start_time": "2020-08-23T10:08:32.651074Z"
    }
   },
   "outputs": [
    {
     "data": {
      "text/plain": [
       "<function TextIOWrapper.read(size=-1, /)>"
      ]
     },
     "execution_count": 23,
     "metadata": {},
     "output_type": "execute_result"
    }
   ],
   "source": [
    "pr.read"
   ]
  },
  {
   "cell_type": "code",
   "execution_count": 24,
   "metadata": {
    "ExecuteTime": {
     "end_time": "2020-08-23T10:08:46.987869Z",
     "start_time": "2020-08-23T10:08:46.956603Z"
    }
   },
   "outputs": [
    {
     "name": "stdout",
     "output_type": "stream",
     "text": [
      "9:00 to 10:45 college work \n",
      "\n",
      "10:45 to 1:00 College Lecture\n",
      "\n",
      "2:00 to 5:00 Machine Learnig \n",
      "\n",
      "6:00 to 8:00 statistics \n",
      "\n",
      "9:00 to 11:00 data stucture \n",
      "\n",
      "11:00 to 12:00 Dash board or html Power Bi\n",
      "\n",
      "C:\\Users\\nikhil\\AppData\\Roaming\\Microsoft\\Windows\\Start Menu\\Programs\\Python 3.7\n",
      "\n",
      "I think statistics is the oldest Branch of mathematics.\n",
      "\n",
      "i belive if you are know the statistics the you can win the war\n",
      "\n",
      "Alan Turing used the statistics after decoding the code the german's code and end of the result \n",
      "\n",
      "Britsh won the war.\n",
      "\n",
      "waitress-serve first:app.server\n"
     ]
    }
   ],
   "source": [
    "for i in pr:\n",
    "    print(i)"
   ]
  },
  {
   "cell_type": "code",
   "execution_count": 25,
   "metadata": {
    "ExecuteTime": {
     "end_time": "2020-08-23T10:09:49.344075Z",
     "start_time": "2020-08-23T10:09:49.328449Z"
    }
   },
   "outputs": [
    {
     "name": "stdout",
     "output_type": "stream",
     "text": [
      "8192\n"
     ]
    }
   ],
   "source": [
    "print(io.DEFAULT_BUFFER_SIZE)"
   ]
  },
  {
   "cell_type": "code",
   "execution_count": 185,
   "metadata": {
    "ExecuteTime": {
     "end_time": "2020-08-23T11:07:27.752886Z",
     "start_time": "2020-08-23T11:07:27.733166Z"
    }
   },
   "outputs": [],
   "source": [
    "pr1 =open('pr.txt')"
   ]
  },
  {
   "cell_type": "code",
   "execution_count": 186,
   "metadata": {
    "ExecuteTime": {
     "end_time": "2020-08-23T11:07:28.193130Z",
     "start_time": "2020-08-23T11:07:28.163065Z"
    }
   },
   "outputs": [
    {
     "data": {
      "text/plain": [
       "'r'"
      ]
     },
     "execution_count": 186,
     "metadata": {},
     "output_type": "execute_result"
    }
   ],
   "source": [
    "pr1.mode"
   ]
  },
  {
   "cell_type": "code",
   "execution_count": 187,
   "metadata": {
    "ExecuteTime": {
     "end_time": "2020-08-23T11:07:28.613062Z",
     "start_time": "2020-08-23T11:07:28.593111Z"
    }
   },
   "outputs": [
    {
     "name": "stdout",
     "output_type": "stream",
     "text": [
      "nnijimkm10:45 college work \n",
      "\n",
      "10:45 to 1:00 College Lecture\n",
      "\n",
      "2:00 to 5:00 Machine Learnig \n",
      "\n",
      "6:00 to 8:00 statistics \n",
      "\n",
      "9:00 to 11:00 data stucture \n",
      "\n",
      "11:00 to 12:00 Dash board or html Power Bi\n",
      "\n",
      "C:\\Users\\nikhil\\AppData\\Roaming\\Microsoft\\Windows\\Start Menu\\Programs\\Python 3.7\n",
      "\n",
      "I think statistics is the oldest Branch of mathematics.\n",
      "\n",
      "i belive if you are know the statistics the you can win the war\n",
      "\n",
      "Alan Turing used the statistics after decoding the code the german's code and end of the result \n",
      "\n",
      "Britsh won the war.\n",
      "\n",
      "waitress-serve first:app.servernnijimkmnnijimkmnikhilnikhil sir nikhil sir nikhil sir hgfhgfg nikhil sir hgfhgfg fdgbjsdfgbjd nikhil\n"
     ]
    }
   ],
   "source": [
    "for i in pr1:\n",
    "    print(i)"
   ]
  },
  {
   "cell_type": "code",
   "execution_count": 188,
   "metadata": {
    "ExecuteTime": {
     "end_time": "2020-08-23T11:07:29.153183Z",
     "start_time": "2020-08-23T11:07:29.122758Z"
    }
   },
   "outputs": [
    {
     "ename": "TypeError",
     "evalue": "'bool' object is not callable",
     "output_type": "error",
     "traceback": [
      "\u001b[1;31m---------------------------------------------------------------------------\u001b[0m",
      "\u001b[1;31mTypeError\u001b[0m                                 Traceback (most recent call last)",
      "\u001b[1;32m<ipython-input-188-19672f4f5863>\u001b[0m in \u001b[0;36m<module>\u001b[1;34m\u001b[0m\n\u001b[1;32m----> 1\u001b[1;33m \u001b[0mpr1\u001b[0m\u001b[1;33m.\u001b[0m\u001b[0mclosed\u001b[0m\u001b[1;33m(\u001b[0m\u001b[1;33m)\u001b[0m\u001b[1;33m\u001b[0m\u001b[1;33m\u001b[0m\u001b[0m\n\u001b[0m",
      "\u001b[1;31mTypeError\u001b[0m: 'bool' object is not callable"
     ]
    }
   ],
   "source": [
    "pr1.closed()"
   ]
  },
  {
   "cell_type": "code",
   "execution_count": 198,
   "metadata": {
    "ExecuteTime": {
     "end_time": "2020-08-23T11:10:19.427573Z",
     "start_time": "2020-08-23T11:10:19.412455Z"
    }
   },
   "outputs": [
    {
     "name": "stdout",
     "output_type": "stream",
     "text": [
      "['nnijimkm10:45 college work \\n', '10:45 to 1:00 College Lecture\\n']\n"
     ]
    }
   ],
   "source": [
    "# with open(\"pr.txt\") as file:\n",
    "#     data=file.readlines(34)\n",
    "#     print(data)"
   ]
  },
  {
   "cell_type": "code",
   "execution_count": 200,
   "metadata": {
    "ExecuteTime": {
     "end_time": "2020-08-23T11:23:05.270328Z",
     "start_time": "2020-08-23T11:23:05.240618Z"
    }
   },
   "outputs": [
    {
     "ename": "SyntaxError",
     "evalue": "unexpected EOF while parsing (<ipython-input-200-16ced71efe90>, line 3)",
     "output_type": "error",
     "traceback": [
      "\u001b[1;36m  File \u001b[1;32m\"<ipython-input-200-16ced71efe90>\"\u001b[1;36m, line \u001b[1;32m3\u001b[0m\n\u001b[1;33m    \u001b[0m\n\u001b[1;37m    ^\u001b[0m\n\u001b[1;31mSyntaxError\u001b[0m\u001b[1;31m:\u001b[0m unexpected EOF while parsing\n"
     ]
    }
   ],
   "source": [
    "with open('CSV.txt') as f:\n",
    "    \n",
    "    "
   ]
  },
  {
   "cell_type": "code",
   "execution_count": 227,
   "metadata": {
    "ExecuteTime": {
     "end_time": "2020-08-23T12:04:33.227590Z",
     "start_time": "2020-08-23T12:04:33.202390Z"
    }
   },
   "outputs": [
    {
     "name": "stdout",
     "output_type": "stream",
     "text": [
      " Identifier\n",
      "9012\n",
      "2070\n",
      "4081\n",
      "9346\n",
      "5079\n"
     ]
    }
   ],
   "source": [
    "my_dict={}\n",
    "with open(\"CSV.txt\") as f:\n",
    "    for r in f.readlines():\n",
    "        cols=r.split(';')\n",
    "        print(cols[1])\n",
    "        "
   ]
  },
  {
   "cell_type": "code",
   "execution_count": 225,
   "metadata": {
    "ExecuteTime": {
     "end_time": "2020-08-23T11:38:41.866856Z",
     "start_time": "2020-08-23T11:38:41.841872Z"
    }
   },
   "outputs": [
    {
     "ename": "ValueError",
     "evalue": "I/O operation on closed file.",
     "output_type": "error",
     "traceback": [
      "\u001b[1;31m---------------------------------------------------------------------------\u001b[0m",
      "\u001b[1;31mValueError\u001b[0m                                Traceback (most recent call last)",
      "\u001b[1;32m<ipython-input-225-bbe2462834c0>\u001b[0m in \u001b[0;36m<module>\u001b[1;34m\u001b[0m\n\u001b[1;32m----> 1\u001b[1;33m \u001b[0mprint\u001b[0m\u001b[1;33m(\u001b[0m\u001b[0mlen\u001b[0m\u001b[1;33m(\u001b[0m\u001b[0mf\u001b[0m\u001b[1;33m.\u001b[0m\u001b[0mreadlines\u001b[0m\u001b[1;33m(\u001b[0m\u001b[1;33m)\u001b[0m\u001b[1;33m)\u001b[0m\u001b[1;33m)\u001b[0m\u001b[1;33m\u001b[0m\u001b[1;33m\u001b[0m\u001b[0m\n\u001b[0m",
      "\u001b[1;31mValueError\u001b[0m: I/O operation on closed file."
     ]
    }
   ],
   "source": [
    "print(len(f.readlines()))"
   ]
  },
  {
   "cell_type": "code",
   "execution_count": 228,
   "metadata": {
    "ExecuteTime": {
     "end_time": "2020-08-23T12:06:14.377114Z",
     "start_time": "2020-08-23T12:06:12.837075Z"
    }
   },
   "outputs": [],
   "source": [
    "df=pd.read_csv('CSV.txt',\";\")"
   ]
  },
  {
   "cell_type": "code",
   "execution_count": 229,
   "metadata": {
    "ExecuteTime": {
     "end_time": "2020-08-23T12:06:19.566946Z",
     "start_time": "2020-08-23T12:06:19.186877Z"
    }
   },
   "outputs": [
    {
     "data": {
      "text/html": [
       "<div>\n",
       "<style scoped>\n",
       "    .dataframe tbody tr th:only-of-type {\n",
       "        vertical-align: middle;\n",
       "    }\n",
       "\n",
       "    .dataframe tbody tr th {\n",
       "        vertical-align: top;\n",
       "    }\n",
       "\n",
       "    .dataframe thead th {\n",
       "        text-align: right;\n",
       "    }\n",
       "</style>\n",
       "<table border=\"1\" class=\"dataframe\">\n",
       "  <thead>\n",
       "    <tr style=\"text-align: right;\">\n",
       "      <th></th>\n",
       "      <th>Username</th>\n",
       "      <th>Identifier</th>\n",
       "      <th>One-time password</th>\n",
       "      <th>Recovery code</th>\n",
       "      <th>First name</th>\n",
       "      <th>Last name</th>\n",
       "      <th>Department</th>\n",
       "      <th>Location</th>\n",
       "    </tr>\n",
       "  </thead>\n",
       "  <tbody>\n",
       "    <tr>\n",
       "      <th>0</th>\n",
       "      <td>booker12</td>\n",
       "      <td>9012</td>\n",
       "      <td>12se74</td>\n",
       "      <td>rb9012</td>\n",
       "      <td>Rachel</td>\n",
       "      <td>Booker</td>\n",
       "      <td>Sales</td>\n",
       "      <td>Manchester</td>\n",
       "    </tr>\n",
       "    <tr>\n",
       "      <th>1</th>\n",
       "      <td>grey07</td>\n",
       "      <td>2070</td>\n",
       "      <td>04ap67</td>\n",
       "      <td>lg2070</td>\n",
       "      <td>Laura</td>\n",
       "      <td>Grey</td>\n",
       "      <td>Depot</td>\n",
       "      <td>London</td>\n",
       "    </tr>\n",
       "    <tr>\n",
       "      <th>2</th>\n",
       "      <td>johnson81</td>\n",
       "      <td>4081</td>\n",
       "      <td>30no86</td>\n",
       "      <td>cj4081</td>\n",
       "      <td>Craig</td>\n",
       "      <td>Johnson</td>\n",
       "      <td>Depot</td>\n",
       "      <td>London</td>\n",
       "    </tr>\n",
       "    <tr>\n",
       "      <th>3</th>\n",
       "      <td>jenkins46</td>\n",
       "      <td>9346</td>\n",
       "      <td>14ju73</td>\n",
       "      <td>mj9346</td>\n",
       "      <td>Mary</td>\n",
       "      <td>Jenkins</td>\n",
       "      <td>Engineering</td>\n",
       "      <td>Manchester</td>\n",
       "    </tr>\n",
       "    <tr>\n",
       "      <th>4</th>\n",
       "      <td>smith79</td>\n",
       "      <td>5079</td>\n",
       "      <td>09ja61</td>\n",
       "      <td>js5079</td>\n",
       "      <td>Jamie</td>\n",
       "      <td>Smith</td>\n",
       "      <td>Engineering</td>\n",
       "      <td>Manchester</td>\n",
       "    </tr>\n",
       "  </tbody>\n",
       "</table>\n",
       "</div>"
      ],
      "text/plain": [
       "    Username   Identifier One-time password Recovery code First name  \\\n",
       "0   booker12         9012            12se74        rb9012     Rachel   \n",
       "1     grey07         2070            04ap67        lg2070      Laura   \n",
       "2  johnson81         4081            30no86        cj4081      Craig   \n",
       "3  jenkins46         9346            14ju73        mj9346       Mary   \n",
       "4    smith79         5079            09ja61        js5079      Jamie   \n",
       "\n",
       "  Last name   Department    Location  \n",
       "0    Booker        Sales  Manchester  \n",
       "1      Grey        Depot      London  \n",
       "2   Johnson        Depot      London  \n",
       "3   Jenkins  Engineering  Manchester  \n",
       "4     Smith  Engineering  Manchester  "
      ]
     },
     "execution_count": 229,
     "metadata": {},
     "output_type": "execute_result"
    }
   ],
   "source": [
    "df.head()"
   ]
  },
  {
   "cell_type": "code",
   "execution_count": 231,
   "metadata": {
    "ExecuteTime": {
     "end_time": "2020-08-23T12:10:50.926232Z",
     "start_time": "2020-08-23T12:10:50.896488Z"
    }
   },
   "outputs": [
    {
     "name": "stdout",
     "output_type": "stream",
     "text": [
      "Username; Identifier;One-time password;Recovery code;First name;Last name;Department;Location\n",
      "\n",
      "booker12;9012;12se74;rb9012;Rachel;Booker;Sales;Manchester\n",
      "\n",
      "grey07;2070;04ap67;lg2070;Laura;Grey;Depot;London\n",
      "\n",
      "johnson81;4081;30no86;cj4081;Craig;Johnson;Depot;London\n",
      "\n",
      "jenkins46;9346;14ju73;mj9346;Mary;Jenkins;Engineering;Manchester\n",
      "\n",
      "smith79;5079;09ja61;js5079;Jamie;Smith;Engineering;Manchester\n"
     ]
    }
   ],
   "source": [
    "with open(\"CSV.txt\") as f:\n",
    "    for i in f:\n",
    "        print(i)"
   ]
  },
  {
   "cell_type": "code",
   "execution_count": 241,
   "metadata": {
    "ExecuteTime": {
     "end_time": "2020-08-23T12:17:33.885175Z",
     "start_time": "2020-08-23T12:17:33.875331Z"
    }
   },
   "outputs": [
    {
     "name": "stdout",
     "output_type": "stream",
     "text": [
      "0.33774322522491873\n",
      "Reading Line: 3 Content: johnson81;4081;30no86;cj4081;Craig;Johnson;Depot;London\n",
      "\n"
     ]
    }
   ],
   "source": [
    "from random import random\n",
    "sample_size = 0.25\n",
    "with open(\"CSV.txt\", 'r') as open_file:\n",
    "    for j, observation in enumerate(open_file):\n",
    "        if random()<=sample_size:\n",
    "            print(random())\n",
    "            print('Reading Line: ' + str(j) +' Content: ' + observation)"
   ]
  },
  {
   "cell_type": "code",
   "execution_count": 250,
   "metadata": {
    "ExecuteTime": {
     "end_time": "2020-08-23T12:20:13.214639Z",
     "start_time": "2020-08-23T12:20:13.184873Z"
    }
   },
   "outputs": [
    {
     "name": "stdout",
     "output_type": "stream",
     "text": [
      "0\n",
      "Username; Identifier;One-time password;Recovery code;First name;Last name;Department;Location\n",
      "\n",
      "1\n",
      "booker12;9012;12se74;rb9012;Rachel;Booker;Sales;Manchester\n",
      "\n",
      "2\n",
      "grey07;2070;04ap67;lg2070;Laura;Grey;Depot;London\n",
      "\n",
      "3\n",
      "johnson81;4081;30no86;cj4081;Craig;Johnson;Depot;London\n",
      "\n",
      "4\n",
      "jenkins46;9346;14ju73;mj9346;Mary;Jenkins;Engineering;Manchester\n",
      "\n",
      "5\n",
      "smith79;5079;09ja61;js5079;Jamie;Smith;Engineering;Manchester\n"
     ]
    }
   ],
   "source": [
    "with open(\"CSV.txt\", 'r') as open_file:\n",
    "    for j, observation in enumerate(open_file):\n",
    "        print(j)\n",
    "        print(observation)"
   ]
  },
  {
   "cell_type": "code",
   "execution_count": 265,
   "metadata": {
    "ExecuteTime": {
     "end_time": "2020-08-23T13:16:31.486633Z",
     "start_time": "2020-08-23T13:16:31.211629Z"
    }
   },
   "outputs": [
    {
     "data": {
      "text/plain": [
       "0    12se74\n",
       "1    04ap67\n",
       "2    30no86\n",
       "3    14ju73\n",
       "4    09ja61\n",
       "Name: One-time password, dtype: object"
      ]
     },
     "execution_count": 265,
     "metadata": {},
     "output_type": "execute_result"
    }
   ],
   "source": [
    "color_table = pd.io.parsers.read_csv(\"CSV.txt\",\";\",header=0)\n",
    "color_table['One-time password']"
   ]
  },
  {
   "cell_type": "code",
   "execution_count": 267,
   "metadata": {
    "ExecuteTime": {
     "end_time": "2020-08-23T13:16:49.776680Z",
     "start_time": "2020-08-23T13:16:49.706909Z"
    }
   },
   "outputs": [
    {
     "data": {
      "text/html": [
       "<div>\n",
       "<style scoped>\n",
       "    .dataframe tbody tr th:only-of-type {\n",
       "        vertical-align: middle;\n",
       "    }\n",
       "\n",
       "    .dataframe tbody tr th {\n",
       "        vertical-align: top;\n",
       "    }\n",
       "\n",
       "    .dataframe thead th {\n",
       "        text-align: right;\n",
       "    }\n",
       "</style>\n",
       "<table border=\"1\" class=\"dataframe\">\n",
       "  <thead>\n",
       "    <tr style=\"text-align: right;\">\n",
       "      <th></th>\n",
       "      <th>Username</th>\n",
       "      <th>Identifier</th>\n",
       "      <th>One-time password</th>\n",
       "      <th>Recovery code</th>\n",
       "      <th>First name</th>\n",
       "      <th>Last name</th>\n",
       "      <th>Department</th>\n",
       "      <th>Location</th>\n",
       "    </tr>\n",
       "  </thead>\n",
       "  <tbody>\n",
       "    <tr>\n",
       "      <th>0</th>\n",
       "      <td>booker12</td>\n",
       "      <td>9012</td>\n",
       "      <td>12se74</td>\n",
       "      <td>rb9012</td>\n",
       "      <td>Rachel</td>\n",
       "      <td>Booker</td>\n",
       "      <td>Sales</td>\n",
       "      <td>Manchester</td>\n",
       "    </tr>\n",
       "    <tr>\n",
       "      <th>1</th>\n",
       "      <td>grey07</td>\n",
       "      <td>2070</td>\n",
       "      <td>04ap67</td>\n",
       "      <td>lg2070</td>\n",
       "      <td>Laura</td>\n",
       "      <td>Grey</td>\n",
       "      <td>Depot</td>\n",
       "      <td>London</td>\n",
       "    </tr>\n",
       "    <tr>\n",
       "      <th>2</th>\n",
       "      <td>johnson81</td>\n",
       "      <td>4081</td>\n",
       "      <td>30no86</td>\n",
       "      <td>cj4081</td>\n",
       "      <td>Craig</td>\n",
       "      <td>Johnson</td>\n",
       "      <td>Depot</td>\n",
       "      <td>London</td>\n",
       "    </tr>\n",
       "    <tr>\n",
       "      <th>3</th>\n",
       "      <td>jenkins46</td>\n",
       "      <td>9346</td>\n",
       "      <td>14ju73</td>\n",
       "      <td>mj9346</td>\n",
       "      <td>Mary</td>\n",
       "      <td>Jenkins</td>\n",
       "      <td>Engineering</td>\n",
       "      <td>Manchester</td>\n",
       "    </tr>\n",
       "    <tr>\n",
       "      <th>4</th>\n",
       "      <td>smith79</td>\n",
       "      <td>5079</td>\n",
       "      <td>09ja61</td>\n",
       "      <td>js5079</td>\n",
       "      <td>Jamie</td>\n",
       "      <td>Smith</td>\n",
       "      <td>Engineering</td>\n",
       "      <td>Manchester</td>\n",
       "    </tr>\n",
       "  </tbody>\n",
       "</table>\n",
       "</div>"
      ],
      "text/plain": [
       "    Username   Identifier One-time password Recovery code First name  \\\n",
       "0   booker12         9012            12se74        rb9012     Rachel   \n",
       "1     grey07         2070            04ap67        lg2070      Laura   \n",
       "2  johnson81         4081            30no86        cj4081      Craig   \n",
       "3  jenkins46         9346            14ju73        mj9346       Mary   \n",
       "4    smith79         5079            09ja61        js5079      Jamie   \n",
       "\n",
       "  Last name   Department    Location  \n",
       "0    Booker        Sales  Manchester  \n",
       "1      Grey        Depot      London  \n",
       "2   Johnson        Depot      London  \n",
       "3   Jenkins  Engineering  Manchester  \n",
       "4     Smith  Engineering  Manchester  "
      ]
     },
     "execution_count": 267,
     "metadata": {},
     "output_type": "execute_result"
    }
   ],
   "source": [
    "color_table = pd.read_csv(\"CSV.txt\",\";\",header=0)\n",
    "color_table.head()"
   ]
  },
  {
   "cell_type": "code",
   "execution_count": 268,
   "metadata": {
    "ExecuteTime": {
     "end_time": "2020-08-23T13:16:51.316854Z",
     "start_time": "2020-08-23T13:16:51.296568Z"
    }
   },
   "outputs": [
    {
     "data": {
      "text/plain": [
       "0    12se74\n",
       "1    04ap67\n",
       "2    30no86\n",
       "3    14ju73\n",
       "4    09ja61\n",
       "Name: One-time password, dtype: object"
      ]
     },
     "execution_count": 268,
     "metadata": {},
     "output_type": "execute_result"
    }
   ],
   "source": [
    "color_table['One-time password']"
   ]
  },
  {
   "cell_type": "code",
   "execution_count": null,
   "metadata": {},
   "outputs": [],
   "source": []
  }
 ],
 "metadata": {
  "kernelspec": {
   "display_name": "Python 3",
   "language": "python",
   "name": "python3"
  },
  "language_info": {
   "codemirror_mode": {
    "name": "ipython",
    "version": 3
   },
   "file_extension": ".py",
   "mimetype": "text/x-python",
   "name": "python",
   "nbconvert_exporter": "python",
   "pygments_lexer": "ipython3",
   "version": "3.7.9"
  },
  "latex_envs": {
   "LaTeX_envs_menu_present": true,
   "autoclose": false,
   "autocomplete": true,
   "bibliofile": "biblio.bib",
   "cite_by": "apalike",
   "current_citInitial": 1,
   "eqLabelWithNumbers": true,
   "eqNumInitial": 1,
   "hotkeys": {
    "equation": "Ctrl-E",
    "itemize": "Ctrl-I"
   },
   "labels_anchors": false,
   "latex_user_defs": false,
   "report_style_numbering": false,
   "user_envs_cfg": false
  },
  "toc": {
   "base_numbering": 1,
   "nav_menu": {},
   "number_sections": true,
   "sideBar": true,
   "skip_h1_title": false,
   "title_cell": "Table of Contents",
   "title_sidebar": "Contents",
   "toc_cell": false,
   "toc_position": {},
   "toc_section_display": true,
   "toc_window_display": false
  }
 },
 "nbformat": 4,
 "nbformat_minor": 4
}

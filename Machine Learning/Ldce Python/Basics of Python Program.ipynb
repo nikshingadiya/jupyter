{
 "cells": [
  {
   "cell_type": "code",
   "execution_count": 2,
   "metadata": {
    "ExecuteTime": {
     "end_time": "2020-10-29T12:43:02.297963Z",
     "start_time": "2020-10-29T12:42:53.896221Z"
    }
   },
   "outputs": [
    {
     "name": "stdout",
     "output_type": "stream",
     "text": [
      "input 1 stringNikhil\n",
      "input 2 stringMahesh\n",
      "Nikhil\n",
      "Mahesh\n"
     ]
    }
   ],
   "source": [
    "# 1. Write a program in python for inputting two strings and displaying them on console.\n",
    "# Use input() functions.\n",
    "str1=input(\"input 1 string:=\")\n",
    "str2=input(\"input 2 string:=\")\n",
    "print(str1)\n",
    "print(str2)"
   ]
  },
  {
   "cell_type": "code",
   "execution_count": 7,
   "metadata": {
    "ExecuteTime": {
     "end_time": "2020-10-29T12:51:50.428112Z",
     "start_time": "2020-10-29T12:51:46.662650Z"
    }
   },
   "outputs": [
    {
     "name": "stdout",
     "output_type": "stream",
     "text": [
      "1.Celsius to Fahrenheiht\n",
      "2.Fahrenheight to Celsius\n",
      "\n",
      "1\n",
      "Enter Celsius:=34\n",
      "Fahrenheight:= 93.2\n"
     ]
    }
   ],
   "source": [
    "# 2. Write a Python Program to Convert Celsius to Fahrenheit and vice –a-versa.abs\n",
    "print(\"1.Celsius to Fahrenheiht\")\n",
    "print(\"2.Fahrenheight to Celsius\\n\")\n",
    "case=int(input())\n",
    "\n",
    "if(case==1):\n",
    "    cel=int(input(\"Enter Celsius:=\"))\n",
    "    fah=(9/5)*cel+32\n",
    "    print(\"Fahrenheight:=\",round(fah,2))\n",
    "if(case==2):\n",
    "    fah=int(input(\"Enter Fahrenheiht:=\"))\n",
    "    cel=(5/9)*(fah-32)\n",
    "    print(\"Celsius:=\",round(cel,2))\n",
    "    \n",
    "    "
   ]
  },
  {
   "cell_type": "code",
   "execution_count": 9,
   "metadata": {
    "ExecuteTime": {
     "end_time": "2020-10-29T12:55:35.927039Z",
     "start_time": "2020-10-29T12:55:31.709311Z"
    }
   },
   "outputs": [
    {
     "name": "stdout",
     "output_type": "stream",
     "text": [
      "input_number:=34\n",
      "bianry:= 0b100010\n",
      "octal:= 0o42\n",
      "hexadecimal:= 0x22\n"
     ]
    }
   ],
   "source": [
    "# 3.Write a program in python to convert binary, octal, hexadecimal numbers to decimal\n",
    "# number and vise-versa. \n",
    "x=int(input(\"input_number:=\"))\n",
    "print(\"bianry:=\",bin(x))\n",
    "print(\"octal:=\",oct(x))\n",
    "print(\"hexadecimal:=\",hex(x))"
   ]
  },
  {
   "cell_type": "code",
   "execution_count": 10,
   "metadata": {
    "ExecuteTime": {
     "end_time": "2020-10-29T12:58:12.155407Z",
     "start_time": "2020-10-29T12:58:07.838214Z"
    }
   },
   "outputs": [
    {
     "name": "stdout",
     "output_type": "stream",
     "text": [
      "input 1 number:=34\n",
      "input 2 number:=21\n",
      "input numbers:= 34 21\n",
      "swaped numbers 21 34\n"
     ]
    }
   ],
   "source": [
    "# 4. Write a program in python to swap two variables without using temporary variable\n",
    "n1=int(input(\"input 1 number:=\"))\n",
    "n2=int(input(\"input 2 number:=\"))\n",
    "print(\"input numbers:=\",n1,n2)\n",
    "n1,n2=n2,n1\n",
    "print(\"swaped numbers\",n1,n2)"
   ]
  },
  {
   "cell_type": "code",
   "execution_count": 12,
   "metadata": {
    "ExecuteTime": {
     "end_time": "2020-10-29T13:02:58.419920Z",
     "start_time": "2020-10-29T13:02:53.370175Z"
    }
   },
   "outputs": [
    {
     "name": "stdout",
     "output_type": "stream",
     "text": [
      "input 1 number:=56\n",
      "input 2 number:=34\n",
      "input 3 number:=12\n",
      "Maximum out of three 56\n",
      "Minimum out of three 12\n"
     ]
    }
   ],
   "source": [
    "# 5. Write a program in python to find out maximum and minimum number out of three\n",
    "# user entered number.\n",
    "n1=int(input(\"input 1 number:=\"))\n",
    "n2=int(input(\"input 2 number:=\"))\n",
    "n3=int(input(\"input 3 number:=\"))\n",
    "if(n1>n2):\n",
    "    if(n1>n3):\n",
    "        print(\"Maximum out of three\",n1)\n",
    "    else:\n",
    "        if(n2>n3):\n",
    "            print(\"Maximum out of three\",n2)\n",
    "else:\n",
    "    print(\"Maximum out of three\",n3)\n",
    "\n",
    "if(n1<n2):\n",
    "    if(n1<n3):\n",
    "        print(\"Minimum out of three\",n1)\n",
    "    else:\n",
    "        if(n2<n3):\n",
    "            print(\"Minimum out of three\",n2)\n",
    "else:\n",
    "    print(\"Minimum out of three\",n3)\n"
   ]
  },
  {
   "cell_type": "code",
   "execution_count": 14,
   "metadata": {
    "ExecuteTime": {
     "end_time": "2020-10-29T13:05:13.712785Z",
     "start_time": "2020-10-29T13:05:10.135650Z"
    }
   },
   "outputs": [
    {
     "name": "stdout",
     "output_type": "stream",
     "text": [
      "input 1 number:=3\n",
      "input 2 number:=4\n",
      "two number sum:= 7\n",
      "two number subtract:= -1\n",
      "two number Multiply:= 12\n",
      "two number division:= 0.75\n"
     ]
    }
   ],
   "source": [
    "# 6. Write a program in python to implement simple calculator.\n",
    "n1=int(input(\"input 1 number:=\"))\n",
    "n2=int(input(\"input 2 number:=\"))\n",
    "print(\"two number sum:=\",n1+n2)\n",
    "print(\"two number subtract:=\",n1-n2)\n",
    "print(\"two number Multiply:=\",n1*n2)\n",
    "print(\"two number division:=\",n1/n2)"
   ]
  },
  {
   "cell_type": "code",
   "execution_count": 3,
   "metadata": {
    "ExecuteTime": {
     "end_time": "2020-10-30T05:55:37.133716Z",
     "start_time": "2020-10-30T05:55:16.010082Z"
    }
   },
   "outputs": [
    {
     "name": "stdout",
     "output_type": "stream",
     "text": [
      "Enter 10 numeric number \n",
      " \n",
      "34\n",
      "2\n",
      "36\n",
      "12\n",
      "22\n",
      "10\n",
      "90\n",
      "56\n",
      "78\n",
      "98\n",
      "list:= [34, 2, 36, 12, 22, 10, 90, 56, 78, 98]\n",
      "Here no any odd number\n"
     ]
    }
   ],
   "source": [
    "# 7. Write a program which will allow user to enter 10 numbers and display largest odd\n",
    "# number from them. It will display appropriate message in case if no odd number is\n",
    "# found and display count of odd numbers.\n",
    "lst = [] \n",
    "\n",
    "  \n",
    "print(\"Enter 10 numeric number \\n \")\n",
    "for i in range(0, 10): \n",
    "    ele = int(input()) \n",
    "  \n",
    "    lst.append(ele) # adding the element \n",
    "      \n",
    "print(\"list:=\",lst) \n",
    "max1=0\n",
    "count=0\n",
    "for i in lst:\n",
    "    if(i%2!=0):\n",
    "        if(max1<i):\n",
    "            max1=i\n",
    "            count+=1\n",
    "if(count==0):\n",
    "    print(\"Here no any odd number\")\n",
    "else:\n",
    "    print(\"max odd number=\",max1,\"total odd count:=\",count)\n",
    "        \n",
    "            \n",
    "        "
   ]
  },
  {
   "cell_type": "code",
   "execution_count": 5,
   "metadata": {
    "ExecuteTime": {
     "end_time": "2020-10-30T05:57:03.585431Z",
     "start_time": "2020-10-30T05:57:01.009601Z"
    }
   },
   "outputs": [
    {
     "name": "stdout",
     "output_type": "stream",
     "text": [
      "input  number:=45\n",
      "45 is not an Armstrong number\n"
     ]
    }
   ],
   "source": [
    "# 8. Write a Python program to check if the number provided by the user is an Armstrong\n",
    "# number\n",
    "n1 = int(input(\"input  number:=\"))\n",
    "sum = 0\n",
    "temp = n1\n",
    "while temp > 0:\n",
    "    digit = temp % 10\n",
    "    sum += digit ** 3\n",
    "    temp //= 10\n",
    "if n1== sum:\n",
    "    print(n1, \"is an Armstrong number\")\n",
    "else:\n",
    "    print(n1, \"is not an Armstrong number\")"
   ]
  },
  {
   "cell_type": "code",
   "execution_count": 6,
   "metadata": {
    "ExecuteTime": {
     "end_time": "2020-10-30T06:00:30.842824Z",
     "start_time": "2020-10-30T06:00:29.306797Z"
    }
   },
   "outputs": [
    {
     "name": "stdout",
     "output_type": "stream",
     "text": [
      "input  number:=121\n",
      "121 This Number is palindrome\n"
     ]
    }
   ],
   "source": [
    "#9. Write a Python program to check if the number provided by the user is a palindrome\n",
    "# or not.\n",
    "n1 = int(input(\"input  number:=\"))\n",
    "str1=str(n1)\n",
    "if(str1==str1[::-1]):\n",
    "    print(n1,\"This Number is palindrome\")\n",
    "else:\n",
    "    print(n1,\"This Number is not palindrome\")"
   ]
  },
  {
   "cell_type": "code",
   "execution_count": 30,
   "metadata": {
    "ExecuteTime": {
     "end_time": "2020-10-29T13:37:43.234788Z",
     "start_time": "2020-10-29T13:37:30.492041Z"
    }
   },
   "outputs": [
    {
     "name": "stdout",
     "output_type": "stream",
     "text": [
      "input  string Nikhil\n",
      "Enter the which position you want to insert substring:=2\n",
      "Enter substringmehul\n",
      "new string Nimehulkhil\n"
     ]
    }
   ],
   "source": [
    "# 10. Write a Python program to insert a substring in a string in a particular position\n",
    "str1=input(\"input  string \")\n",
    "pos=int(input(\"Enter the which position you want to insert substring:=\"))\n",
    "str2=input(\"Enter substring\")\n",
    "str3=str1[:pos]+str2+str1[pos:]\n",
    "print(\"new string\",str3)"
   ]
  },
  {
   "cell_type": "code",
   "execution_count": 32,
   "metadata": {
    "ExecuteTime": {
     "end_time": "2020-10-29T13:44:43.126595Z",
     "start_time": "2020-10-29T13:44:40.234569Z"
    }
   },
   "outputs": [
    {
     "name": "stdout",
     "output_type": "stream",
     "text": [
      "input  number:=4\n",
      "factorial of 4 := 24\n"
     ]
    }
   ],
   "source": [
    "# 11. Write a Python program to find factorial of a number using user defined function\n",
    "def fact(n):\n",
    "    if n==1:\n",
    "        return 1\n",
    "    else:\n",
    "        return n*fact(n-1)\n",
    "n1 = int(input(\"input  number:=\"))\n",
    "print(f\"factorial of {n1} :=\",fact(n1))"
   ]
  },
  {
   "cell_type": "code",
   "execution_count": 7,
   "metadata": {
    "ExecuteTime": {
     "end_time": "2020-10-30T06:02:12.247158Z",
     "start_time": "2020-10-30T06:02:10.314803Z"
    }
   },
   "outputs": [
    {
     "name": "stdout",
     "output_type": "stream",
     "text": [
      "input  number:=23\n",
      "23 This Number is not palindrome number\n"
     ]
    }
   ],
   "source": [
    "# 12.Write a Python program to check if the number provided by the user is a palindrome\n",
    "# or not using user defined function.\n",
    "def palindrom(n1):\n",
    "    n2=n1\n",
    "    \n",
    "    sum1=0\n",
    "    while (n1>0):\n",
    "        sum1=sum1*10+n1%10\n",
    "        n1=n1//10\n",
    "    if(sum1==n2):\n",
    "        print(n2,\"This Number is palindrome number\")\n",
    "    else:\n",
    "        print(n2,\"This Number is not palindrome number\")\n",
    "n1 = int(input(\"input  number:=\"))\n",
    "palindrom(n1)"
   ]
  },
  {
   "cell_type": "code",
   "execution_count": 8,
   "metadata": {
    "ExecuteTime": {
     "end_time": "2020-10-30T06:03:49.645645Z",
     "start_time": "2020-10-30T06:03:45.488236Z"
    }
   },
   "outputs": [
    {
     "name": "stdout",
     "output_type": "stream",
     "text": [
      "input  string hjjh\n",
      "hjjh this string is palindrom\n"
     ]
    }
   ],
   "source": [
    "# 13. Write a Python program to check if the string provided by the user is a palindrome or\n",
    "# not using user defined function.\n",
    "def palstring(s):\n",
    "    j=len(s)-1\n",
    "    i=0\n",
    "    while j>i:\n",
    "        if(s[i]!=s[j]):\n",
    "                 print(s,\"this string is not palindrom\")\n",
    "                 return ;\n",
    "        i+=1\n",
    "        j-=1\n",
    "    print(s,\"this string is palindrom\")\n",
    "str1=input(\"input  string \")\n",
    "palstring(str1)"
   ]
  },
  {
   "cell_type": "code",
   "execution_count": 11,
   "metadata": {
    "ExecuteTime": {
     "end_time": "2020-10-29T15:30:15.722174Z",
     "start_time": "2020-10-29T15:30:12.219878Z"
    },
    "scrolled": true
   },
   "outputs": [
    {
     "name": "stdout",
     "output_type": "stream",
     "text": [
      "input low number:=11\n",
      "input high number:=34\n",
      "11\n",
      "13\n",
      "17\n",
      "19\n",
      "23\n",
      "29\n",
      "31\n"
     ]
    }
   ],
   "source": [
    "# 14. Write a Python program to print all Prime numbers in an Interval using user defined\n",
    "# function.\n",
    "def IsPrime(N):\n",
    "\n",
    "    for a in range(2,int(N**0.5)+1):\n",
    "        if N%a==0 :\n",
    "            return False\n",
    "    \n",
    "    return True\n",
    "n1=int(input(\"input low number:=\"))\n",
    "n2=int(input(\"input high number:=\"))\n",
    "for i in range(n1,n2):\n",
    "    if(IsPrime(i)):\n",
    "        print(i)"
   ]
  },
  {
   "cell_type": "code",
   "execution_count": 19,
   "metadata": {
    "ExecuteTime": {
     "end_time": "2020-10-29T16:07:10.466680Z",
     "start_time": "2020-10-29T16:07:05.566859Z"
    }
   },
   "outputs": [
    {
     "name": "stdout",
     "output_type": "stream",
     "text": [
      "input 1 number:=88\n",
      "input 2 number:=66\n",
      "The gcd of 88 and 66 is : 22\n"
     ]
    }
   ],
   "source": [
    "15. Write a program to find Highest Common Factor(HCF)and Greatest Common\n",
    "Divisor(GCD) of two numbers using function\n",
    "\n",
    "def GCD(a, b):\n",
    "    if(b == 0):\n",
    "        return a\n",
    "    else:\n",
    "        return GCD(b, a % b)\n",
    "    \n",
    "n1 = int(input(\"input 1 number:=\"))\n",
    "n2 = int(input(\"input 2 number:=\"))\n",
    "print(f\"The gcd of {n1} and {n2} is : \", end=\"\")\n",
    "\n",
    "print(GCD(n1, n2))\n"
   ]
  },
  {
   "cell_type": "code",
   "execution_count": null,
   "metadata": {},
   "outputs": [],
   "source": []
  }
 ],
 "metadata": {
  "kernelspec": {
   "display_name": "Python 3",
   "language": "python",
   "name": "python3"
  },
  "language_info": {
   "codemirror_mode": {
    "name": "ipython",
    "version": 3
   },
   "file_extension": ".py",
   "mimetype": "text/x-python",
   "name": "python",
   "nbconvert_exporter": "python",
   "pygments_lexer": "ipython3",
   "version": "3.7.6"
  },
  "toc": {
   "base_numbering": 1,
   "nav_menu": {},
   "number_sections": true,
   "sideBar": true,
   "skip_h1_title": false,
   "title_cell": "Table of Contents",
   "title_sidebar": "Contents",
   "toc_cell": false,
   "toc_position": {},
   "toc_section_display": true,
   "toc_window_display": false
  }
 },
 "nbformat": 4,
 "nbformat_minor": 4
}

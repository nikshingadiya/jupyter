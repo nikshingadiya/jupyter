{
 "cells": [
  {
   "cell_type": "code",
   "execution_count": 4,
   "metadata": {
    "ExecuteTime": {
     "end_time": "2021-10-30T02:58:11.094657Z",
     "start_time": "2021-10-30T02:58:11.086665Z"
    }
   },
   "outputs": [
    {
     "data": {
      "text/plain": [
       "'AliceNikBobNikhill'"
      ]
     },
     "execution_count": 4,
     "metadata": {},
     "output_type": "execute_result"
    }
   ],
   "source": [
    "'Nik'.join(list(['Alice',\n",
    "'Bob',\"hill\"]))"
   ]
  },
  {
   "cell_type": "code",
   "execution_count": 14,
   "metadata": {
    "ExecuteTime": {
     "end_time": "2021-10-30T03:22:02.901005Z",
     "start_time": "2021-10-30T03:22:02.893008Z"
    }
   },
   "outputs": [
    {
     "data": {
      "text/plain": [
       "{'Alice': 18, 'Bob': 27, 'Ann': 22}"
      ]
     },
     "execution_count": 14,
     "metadata": {},
     "output_type": "execute_result"
    }
   ],
   "source": [
    "x={'Alice' : 18}\n",
    "y={'Bob' : 27, 'Ann' : 22}\n",
    "z = {**x,**y}\n",
    "z"
   ]
  },
  {
   "cell_type": "code",
   "execution_count": 17,
   "metadata": {
    "ExecuteTime": {
     "end_time": "2021-10-30T03:22:20.995873Z",
     "start_time": "2021-10-30T03:22:20.990876Z"
    }
   },
   "outputs": [],
   "source": [
    "x.update(y)\n"
   ]
  },
  {
   "cell_type": "code",
   "execution_count": 18,
   "metadata": {
    "ExecuteTime": {
     "end_time": "2021-10-30T03:25:21.394786Z",
     "start_time": "2021-10-30T03:25:21.383791Z"
    }
   },
   "outputs": [
    {
     "name": "stdout",
     "output_type": "stream",
     "text": [
      "{1, 2}\n"
     ]
    }
   ],
   "source": [
    "list1=[1,2,4,5,12,1,2,3]\n",
    "seen,duplicate=set(),set()\n",
    "\n",
    "for i in list1:\n",
    "    if i in seen:\n",
    "        duplicate.add(i)\n",
    "    seen.add(i)\n",
    "print(duplicate)"
   ]
  },
  {
   "cell_type": "code",
   "execution_count": 26,
   "metadata": {
    "ExecuteTime": {
     "end_time": "2021-10-30T03:30:18.862986Z",
     "start_time": "2021-10-30T03:30:18.854010Z"
    }
   },
   "outputs": [
    {
     "name": "stdout",
     "output_type": "stream",
     "text": [
      "True\n"
     ]
    }
   ],
   "source": [
    "def is_anagram(s1, s2):\n",
    "    #or set(s1)==set(s2) \n",
    "    return len(set(s1))==len(set(s1).intersection(set(s2)))\n",
    "print(is_anagram(\"elvis\", \"lives\")) "
   ]
  },
  {
   "cell_type": "code",
   "execution_count": 91,
   "metadata": {
    "ExecuteTime": {
     "end_time": "2021-10-30T05:34:10.308914Z",
     "start_time": "2021-10-30T05:34:10.304916Z"
    }
   },
   "outputs": [],
   "source": [
    "l1=[1,2,3,4]\n",
    "l2=[1,2,3,6,4,8]"
   ]
  },
  {
   "cell_type": "code",
   "execution_count": 92,
   "metadata": {
    "ExecuteTime": {
     "end_time": "2021-10-30T05:34:10.781518Z",
     "start_time": "2021-10-30T05:34:10.775524Z"
    }
   },
   "outputs": [
    {
     "name": "stdout",
     "output_type": "stream",
     "text": [
      "[8, 4, 6, 3, 2, 1]\n"
     ]
    }
   ],
   "source": [
    "l2.reverse()\n",
    "print(l2)"
   ]
  },
  {
   "cell_type": "code",
   "execution_count": 48,
   "metadata": {
    "ExecuteTime": {
     "end_time": "2021-10-30T03:41:00.631721Z",
     "start_time": "2021-10-30T03:41:00.619732Z"
    }
   },
   "outputs": [
    {
     "data": {
      "text/plain": [
       "[1, 2, 3, 4]"
      ]
     },
     "execution_count": 48,
     "metadata": {},
     "output_type": "execute_result"
    }
   ],
   "source": [
    "def intersect(lst1, lst2):\n",
    "    res, lst2_copy = [], lst2[:]\n",
    "    for el in lst1:\n",
    "        if el in lst2_copy:\n",
    "            res.append(el)\n",
    "            lst2_copy.remove(el)\n",
    "    return res\n",
    "intersect(l1,l2)"
   ]
  },
  {
   "cell_type": "code",
   "execution_count": 52,
   "metadata": {
    "ExecuteTime": {
     "end_time": "2021-10-30T03:50:16.442026Z",
     "start_time": "2021-10-30T03:50:16.429039Z"
    }
   },
   "outputs": [
    {
     "data": {
      "text/plain": [
       "[22, 33, 44, 78]"
      ]
     },
     "execution_count": 52,
     "metadata": {},
     "output_type": "execute_result"
    }
   ],
   "source": [
    "def qsort(L):\n",
    "    if L == []: \n",
    "        return []\n",
    "    return qsort([x for x in L[1:] if x< L[0]]) + L[0:1] +qsort([x for x in L[1:] if x>=L[0]])\n",
    "lst = [44, 33, 22,78]\n",
    "qsort(lst)"
   ]
  },
  {
   "cell_type": "code",
   "execution_count": 46,
   "metadata": {
    "ExecuteTime": {
     "end_time": "2021-10-30T03:38:49.817542Z",
     "start_time": "2021-10-30T03:38:49.801916Z"
    }
   },
   "outputs": [
    {
     "data": {
      "text/plain": [
       "{1, 2, 3, 4, 6}"
      ]
     },
     "execution_count": 46,
     "metadata": {},
     "output_type": "execute_result"
    }
   ],
   "source": [
    "set(l1) | set(l2)"
   ]
  },
  {
   "cell_type": "code",
   "execution_count": 63,
   "metadata": {
    "ExecuteTime": {
     "end_time": "2021-10-30T04:10:18.231240Z",
     "start_time": "2021-10-30T04:10:18.219248Z"
    }
   },
   "outputs": [
    {
     "name": "stdout",
     "output_type": "stream",
     "text": [
      "{'k'}\n",
      "{'ik', 'ki'}\n",
      "{'ink', 'ikn', 'nik', 'kin', 'nki', 'kni'}\n"
     ]
    }
   ],
   "source": [
    "def get_permutations(w):\n",
    "    if len(w) <= 1:\n",
    "        return set(w)\n",
    "    smaller = get_permutations(w[1:])\n",
    "    perms = set()\n",
    "    print(smaller)\n",
    "    for x in smaller:\n",
    "     \n",
    "        for pos in range(0, len(x)+1):\n",
    "            perm = x[:pos] + w[0] + x[pos:]\n",
    "            perms.add(perm)\n",
    "    return perms\n",
    "print(get_permutations(\"nik\"))"
   ]
  },
  {
   "cell_type": "code",
   "execution_count": 64,
   "metadata": {
    "ExecuteTime": {
     "end_time": "2021-10-30T04:16:23.668179Z",
     "start_time": "2021-10-30T04:16:19.963692Z"
    }
   },
   "outputs": [],
   "source": [
    "import numpy as np"
   ]
  },
  {
   "cell_type": "code",
   "execution_count": 85,
   "metadata": {
    "ExecuteTime": {
     "end_time": "2021-10-30T04:19:11.264991Z",
     "start_time": "2021-10-30T04:19:11.249344Z"
    }
   },
   "outputs": [
    {
     "data": {
      "text/plain": [
       "[array([ 0,  3,  6,  9, 12, 15, 18, 21, 24, 27, 30]),\n",
       " array([33, 36, 39, 42, 45, 48, 51, 54, 57, 60, 63]),\n",
       " array([66, 69, 72, 75, 78, 81, 84, 87, 90, 93, 96])]"
      ]
     },
     "execution_count": 85,
     "metadata": {},
     "output_type": "execute_result"
    }
   ],
   "source": [
    "np.split(np.arange(0,99,3),3)\n"
   ]
  },
  {
   "cell_type": "code",
   "execution_count": 87,
   "metadata": {
    "ExecuteTime": {
     "end_time": "2021-10-30T04:47:16.623469Z",
     "start_time": "2021-10-30T04:47:16.616477Z"
    }
   },
   "outputs": [
    {
     "data": {
      "text/plain": [
       "array([0, 1, 2, 3, 4])"
      ]
     },
     "execution_count": 87,
     "metadata": {},
     "output_type": "execute_result"
    }
   ],
   "source": [
    "np.arange(5)"
   ]
  },
  {
   "cell_type": "code",
   "execution_count": 86,
   "metadata": {
    "ExecuteTime": {
     "end_time": "2021-10-30T04:46:58.837959Z",
     "start_time": "2021-10-30T04:46:58.830964Z"
    }
   },
   "outputs": [
    {
     "name": "stdout",
     "output_type": "stream",
     "text": [
      "[ 0  1  3  6 10]\n"
     ]
    }
   ],
   "source": [
    "print(np.cumsum(np.arange(5)))"
   ]
  },
  {
   "cell_type": "code",
   "execution_count": 93,
   "metadata": {
    "ExecuteTime": {
     "end_time": "2021-10-30T06:14:14.480880Z",
     "start_time": "2021-10-30T06:14:14.450975Z"
    }
   },
   "outputs": [
    {
     "data": {
      "text/plain": [
       "\"foo'bar\""
      ]
     },
     "execution_count": 93,
     "metadata": {},
     "output_type": "execute_result"
    }
   ],
   "source": [
    "\"\"\"foo'bar\"\"\""
   ]
  },
  {
   "cell_type": "code",
   "execution_count": 95,
   "metadata": {
    "ExecuteTime": {
     "end_time": "2021-10-30T06:14:42.030248Z",
     "start_time": "2021-10-30T06:14:42.023249Z"
    }
   },
   "outputs": [
    {
     "data": {
      "text/plain": [
       "\"foo'bar\""
      ]
     },
     "execution_count": 95,
     "metadata": {},
     "output_type": "execute_result"
    }
   ],
   "source": [
    "\"foo\\'bar\""
   ]
  },
  {
   "cell_type": "code",
   "execution_count": 96,
   "metadata": {
    "ExecuteTime": {
     "end_time": "2021-10-30T06:15:03.062568Z",
     "start_time": "2021-10-30T06:15:03.054571Z"
    }
   },
   "outputs": [
    {
     "data": {
      "text/plain": [
       "\"foo'bar\""
      ]
     },
     "execution_count": 96,
     "metadata": {},
     "output_type": "execute_result"
    }
   ],
   "source": [
    "'foo\\'bar'"
   ]
  },
  {
   "cell_type": "code",
   "execution_count": 2,
   "metadata": {
    "ExecuteTime": {
     "end_time": "2021-11-01T05:45:05.758941Z",
     "start_time": "2021-11-01T05:45:05.689754Z"
    }
   },
   "outputs": [],
   "source": [
    "def fact(n):\n",
    "    if n==1:\n",
    "        return 1\n",
    "    else:\n",
    "        return n*(n-1)"
   ]
  },
  {
   "cell_type": "code",
   "execution_count": 7,
   "metadata": {
    "ExecuteTime": {
     "end_time": "2021-11-01T05:47:19.579505Z",
     "start_time": "2021-11-01T05:47:19.573508Z"
    }
   },
   "outputs": [
    {
     "data": {
      "text/plain": [
       "72"
      ]
     },
     "execution_count": 7,
     "metadata": {},
     "output_type": "execute_result"
    }
   ],
   "source": [
    "fact(9)"
   ]
  },
  {
   "cell_type": "code",
   "execution_count": 10,
   "metadata": {
    "ExecuteTime": {
     "end_time": "2021-11-01T05:49:13.255390Z",
     "start_time": "2021-11-01T05:49:13.250393Z"
    }
   },
   "outputs": [],
   "source": [
    "def DecimalToBinary(num):\n",
    "    if num >= 1:\n",
    "        DecimalToBinary(num // 3)\n",
    "    print(num % 3, end = '')"
   ]
  },
  {
   "cell_type": "code",
   "execution_count": 13,
   "metadata": {
    "ExecuteTime": {
     "end_time": "2021-11-01T05:49:27.106123Z",
     "start_time": "2021-11-01T05:49:27.100127Z"
    }
   },
   "outputs": [
    {
     "name": "stdout",
     "output_type": "stream",
     "text": [
      "011011"
     ]
    }
   ],
   "source": [
    "n=91\n",
    "def fun(n):\n",
    "    if n>=0 or n>=1:\n",
    "            print(\"yes\")\n",
    "    else:\n",
    "        fun(n//3)\n",
    "        "
   ]
  },
  {
   "cell_type": "code",
   "execution_count": 23,
   "metadata": {
    "ExecuteTime": {
     "end_time": "2021-11-01T05:58:19.881633Z",
     "start_time": "2021-11-01T05:58:19.876635Z"
    }
   },
   "outputs": [],
   "source": [
    "n = 152\n",
    "res = 0\n",
    "while(n > 0):\n",
    "    digit = n % 10\n",
    "    res=(res*10)+digit\n",
    "    n=n//10"
   ]
  },
  {
   "cell_type": "code",
   "execution_count": 24,
   "metadata": {
    "ExecuteTime": {
     "end_time": "2021-11-01T05:58:20.353827Z",
     "start_time": "2021-11-01T05:58:20.346829Z"
    }
   },
   "outputs": [
    {
     "name": "stdout",
     "output_type": "stream",
     "text": [
      "251\n"
     ]
    }
   ],
   "source": [
    "print(res)"
   ]
  },
  {
   "cell_type": "code",
   "execution_count": null,
   "metadata": {},
   "outputs": [],
   "source": [
    "while temp > 0:\n",
    "    digit = temp % 10\n",
    "    sum += digit ** 3\n",
    "    temp //= 10"
   ]
  }
 ],
 "metadata": {
  "kernelspec": {
   "display_name": "Python 3",
   "language": "python",
   "name": "python3"
  },
  "language_info": {
   "codemirror_mode": {
    "name": "ipython",
    "version": 3
   },
   "file_extension": ".py",
   "mimetype": "text/x-python",
   "name": "python",
   "nbconvert_exporter": "python",
   "pygments_lexer": "ipython3",
   "version": "3.8.5"
  },
  "toc": {
   "base_numbering": 1,
   "nav_menu": {},
   "number_sections": true,
   "sideBar": true,
   "skip_h1_title": false,
   "title_cell": "Table of Contents",
   "title_sidebar": "Contents",
   "toc_cell": false,
   "toc_position": {},
   "toc_section_display": true,
   "toc_window_display": false
  }
 },
 "nbformat": 4,
 "nbformat_minor": 4
}
